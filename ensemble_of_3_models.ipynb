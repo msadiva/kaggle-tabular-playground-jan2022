{
 "cells": [
  {
   "cell_type": "code",
   "execution_count": 1,
   "id": "67330b9c-2c28-4c62-b3b3-3f27212f0ae7",
   "metadata": {},
   "outputs": [
    {
     "name": "stdout",
     "output_type": "stream",
     "text": [
      "CPU times: user 1.83 s, sys: 1.04 s, total: 2.87 s\n",
      "Wall time: 2.43 s\n"
     ]
    }
   ],
   "source": [
    "%%time\n",
    "import fastai\n",
    "from fastai.tabular.all import *\n",
    "from pathlib import Path\n",
    "import os\n",
    "from sklearn.tree import DecisionTreeRegressor\n",
    "from dtreeviz.trees import *\n",
    "import IPython\n",
    "from sklearn.ensemble import RandomForestRegressor\n",
    "from IPython.display import Image, display_svg, SVG\n",
    "from sklearn.tree import export_graphviz\n",
    "import waterfall_chart\n",
    "from treeinterpreter import treeinterpreter\n",
    "from sklearn.inspection import plot_partial_dependence\n",
    "from scipy.cluster import hierarchy as hc\n",
    "import xgboost\n",
    "from xgboost import XGBRegressor\n",
    "import optuna"
   ]
  },
  {
   "cell_type": "code",
   "execution_count": 2,
   "id": "01cd8f73-99ce-44d8-81b2-a8c97065d14e",
   "metadata": {},
   "outputs": [],
   "source": [
    "df = pd.read_csv(\"train.csv\")\n",
    "\n",
    "test = pd.read_csv(\"test.csv\")\n",
    "\n",
    "test[\"num_sold\"] = 0\n",
    "\n",
    "combined = pd.concat([df, test])"
   ]
  },
  {
   "cell_type": "code",
   "execution_count": 3,
   "id": "2f2e245d-0165-4bf2-915d-4c549f396622",
   "metadata": {},
   "outputs": [],
   "source": [
    "dep_var = \"num_sold\""
   ]
  },
  {
   "cell_type": "code",
   "execution_count": 4,
   "id": "de7a0537-efc5-4ce0-8412-883134c6bfa8",
   "metadata": {},
   "outputs": [],
   "source": [
    "holiday = pd.read_csv(\"nordic_holidays.csv\")"
   ]
  },
  {
   "cell_type": "code",
   "execution_count": 5,
   "id": "fddca547-686c-4dbf-a1c3-996822ab5797",
   "metadata": {},
   "outputs": [
    {
     "data": {
      "text/html": [
       "<div>\n",
       "<style scoped>\n",
       "    .dataframe tbody tr th:only-of-type {\n",
       "        vertical-align: middle;\n",
       "    }\n",
       "\n",
       "    .dataframe tbody tr th {\n",
       "        vertical-align: top;\n",
       "    }\n",
       "\n",
       "    .dataframe thead th {\n",
       "        text-align: right;\n",
       "    }\n",
       "</style>\n",
       "<table border=\"1\" class=\"dataframe\">\n",
       "  <thead>\n",
       "    <tr style=\"text-align: right;\">\n",
       "      <th></th>\n",
       "      <th>Unnamed: 0</th>\n",
       "      <th>date</th>\n",
       "      <th>holiday</th>\n",
       "      <th>country</th>\n",
       "    </tr>\n",
       "  </thead>\n",
       "  <tbody>\n",
       "    <tr>\n",
       "      <th>0</th>\n",
       "      <td>0</td>\n",
       "      <td>2016-01-01</td>\n",
       "      <td>Uudenvuodenpäivä</td>\n",
       "      <td>Finland</td>\n",
       "    </tr>\n",
       "    <tr>\n",
       "      <th>1</th>\n",
       "      <td>1</td>\n",
       "      <td>2016-01-06</td>\n",
       "      <td>Loppiainen</td>\n",
       "      <td>Finland</td>\n",
       "    </tr>\n",
       "    <tr>\n",
       "      <th>2</th>\n",
       "      <td>2</td>\n",
       "      <td>2016-03-25</td>\n",
       "      <td>Pitkäperjantai</td>\n",
       "      <td>Finland</td>\n",
       "    </tr>\n",
       "    <tr>\n",
       "      <th>3</th>\n",
       "      <td>3</td>\n",
       "      <td>2016-03-27</td>\n",
       "      <td>Pääsiäispäivä</td>\n",
       "      <td>Finland</td>\n",
       "    </tr>\n",
       "    <tr>\n",
       "      <th>4</th>\n",
       "      <td>4</td>\n",
       "      <td>2016-03-28</td>\n",
       "      <td>2. pääsiäispäivä</td>\n",
       "      <td>Finland</td>\n",
       "    </tr>\n",
       "  </tbody>\n",
       "</table>\n",
       "</div>"
      ],
      "text/plain": [
       "   Unnamed: 0        date           holiday  country\n",
       "0           0  2016-01-01  Uudenvuodenpäivä  Finland\n",
       "1           1  2016-01-06        Loppiainen  Finland\n",
       "2           2  2016-03-25    Pitkäperjantai  Finland\n",
       "3           3  2016-03-27     Pääsiäispäivä  Finland\n",
       "4           4  2016-03-28  2. pääsiäispäivä  Finland"
      ]
     },
     "execution_count": 5,
     "metadata": {},
     "output_type": "execute_result"
    }
   ],
   "source": [
    "holiday.head()"
   ]
  },
  {
   "cell_type": "code",
   "execution_count": 6,
   "id": "d2175702-62d2-4abf-bf77-dabf2e082580",
   "metadata": {},
   "outputs": [
    {
     "data": {
      "text/html": [
       "<div>\n",
       "<style scoped>\n",
       "    .dataframe tbody tr th:only-of-type {\n",
       "        vertical-align: middle;\n",
       "    }\n",
       "\n",
       "    .dataframe tbody tr th {\n",
       "        vertical-align: top;\n",
       "    }\n",
       "\n",
       "    .dataframe thead th {\n",
       "        text-align: right;\n",
       "    }\n",
       "</style>\n",
       "<table border=\"1\" class=\"dataframe\">\n",
       "  <thead>\n",
       "    <tr style=\"text-align: right;\">\n",
       "      <th></th>\n",
       "      <th>Unnamed: 0</th>\n",
       "      <th>date</th>\n",
       "      <th>holiday</th>\n",
       "      <th>country</th>\n",
       "    </tr>\n",
       "  </thead>\n",
       "  <tbody>\n",
       "    <tr>\n",
       "      <th>0</th>\n",
       "      <td>0</td>\n",
       "      <td>2016-01-01</td>\n",
       "      <td>in_Finland</td>\n",
       "      <td>Finland</td>\n",
       "    </tr>\n",
       "    <tr>\n",
       "      <th>1</th>\n",
       "      <td>1</td>\n",
       "      <td>2016-01-06</td>\n",
       "      <td>in_Finland</td>\n",
       "      <td>Finland</td>\n",
       "    </tr>\n",
       "    <tr>\n",
       "      <th>2</th>\n",
       "      <td>2</td>\n",
       "      <td>2016-03-25</td>\n",
       "      <td>in_Finland</td>\n",
       "      <td>Finland</td>\n",
       "    </tr>\n",
       "    <tr>\n",
       "      <th>3</th>\n",
       "      <td>3</td>\n",
       "      <td>2016-03-27</td>\n",
       "      <td>in_Finland</td>\n",
       "      <td>Finland</td>\n",
       "    </tr>\n",
       "    <tr>\n",
       "      <th>4</th>\n",
       "      <td>4</td>\n",
       "      <td>2016-03-28</td>\n",
       "      <td>in_Finland</td>\n",
       "      <td>Finland</td>\n",
       "    </tr>\n",
       "  </tbody>\n",
       "</table>\n",
       "</div>"
      ],
      "text/plain": [
       "   Unnamed: 0        date     holiday  country\n",
       "0           0  2016-01-01  in_Finland  Finland\n",
       "1           1  2016-01-06  in_Finland  Finland\n",
       "2           2  2016-03-25  in_Finland  Finland\n",
       "3           3  2016-03-27  in_Finland  Finland\n",
       "4           4  2016-03-28  in_Finland  Finland"
      ]
     },
     "metadata": {},
     "output_type": "display_data"
    }
   ],
   "source": [
    "holiday[\"holiday\"] = str(\"in_\") + holiday[\"country\"]\n",
    "display(holiday.head())"
   ]
  },
  {
   "cell_type": "code",
   "execution_count": 7,
   "id": "acb32899-31c6-4129-8cfd-54b3b1ef01cb",
   "metadata": {},
   "outputs": [],
   "source": [
    "combined = combined.merge(holiday[[\"date\", \"holiday\", \"country\"]], left_on = [\"date\", \"country\"], right_on = [\"date\", \"country\"], how = \"left\")"
   ]
  },
  {
   "cell_type": "code",
   "execution_count": 8,
   "id": "f31b047f-f4e0-4400-92e8-3deab9380838",
   "metadata": {},
   "outputs": [],
   "source": [
    "combined[\"holiday\"] = combined[\"holiday\"].fillna(\"no_holiday\")"
   ]
  },
  {
   "cell_type": "code",
   "execution_count": 9,
   "id": "1ca2c74c-8324-4921-aa22-7b01136698d2",
   "metadata": {},
   "outputs": [],
   "source": [
    "country_map = pickle.load(open(\"embs/country_map.pkl\", \"rb\"))\n",
    "month_map = pickle.load(open(\"embs/month_map.pkl\", \"rb\"))\n",
    "product_map = pickle.load(open(\"embs/product_map.pkl\", \"rb\"))\n",
    "store_map = pickle.load(open(\"embs/store_map.pkl\", \"rb\"))"
   ]
  },
  {
   "cell_type": "code",
   "execution_count": 10,
   "id": "4121d28e-cc3a-4e8c-9a8d-802fd371a80b",
   "metadata": {},
   "outputs": [],
   "source": [
    "emb_dim = country_map['Finland'].shape[0]\n",
    "col_name = [f'country_emb_{i}' for i in range(1, emb_dim + 1)]\n",
    "df_emb_country = pd.DataFrame(combined['country'].map(country_map).to_list(), columns = col_name)\n",
    "\n",
    "emb_dim = product_map['Kaggle Mug'].shape[0]\n",
    "col_name = [f'product_emb_{i}' for i in range(1, emb_dim + 1)]\n",
    "df_emb_product = pd.DataFrame(combined['product'].map(product_map).to_list(), columns = col_name)\n",
    "\n",
    "emb_dim = store_map['KaggleMart'].shape[0]\n",
    "col_name = [f'store_emb_{i}' for i in range(1, emb_dim + 1)]\n",
    "df_emb_store = pd.DataFrame(combined['store'].map(store_map).to_list(), columns = col_name)"
   ]
  },
  {
   "cell_type": "code",
   "execution_count": 11,
   "id": "7b51c7d8-c15c-4b40-ab11-35a7f308b467",
   "metadata": {},
   "outputs": [],
   "source": [
    "combined.reset_index(drop = True, inplace = True)"
   ]
  },
  {
   "cell_type": "code",
   "execution_count": 12,
   "id": "a9ba7a42-c131-438b-bbfc-64e92d497421",
   "metadata": {},
   "outputs": [],
   "source": [
    "combined = pd.concat([combined, df_emb_store, df_emb_product, df_emb_country], axis = 1)"
   ]
  },
  {
   "cell_type": "code",
   "execution_count": 13,
   "id": "55f78853-00e2-487c-9f0e-483ee0c05e51",
   "metadata": {},
   "outputs": [
    {
     "name": "stderr",
     "output_type": "stream",
     "text": [
      "/opt/conda/lib/python3.8/site-packages/pandas/core/arraylike.py:364: RuntimeWarning: divide by zero encountered in log\n",
      "  result = getattr(ufunc, method)(*inputs, **kwargs)\n"
     ]
    }
   ],
   "source": [
    "combined[dep_var] = np.log(combined[dep_var])"
   ]
  },
  {
   "cell_type": "code",
   "execution_count": 14,
   "id": "10a30dbd-451d-4f3d-8334-61b34ff7e24b",
   "metadata": {},
   "outputs": [],
   "source": [
    "combined = add_datepart(combined, 'date')"
   ]
  },
  {
   "cell_type": "code",
   "execution_count": 15,
   "id": "c5a63ced-dabd-498e-b1e6-f995c23c2e21",
   "metadata": {},
   "outputs": [],
   "source": [
    "emb_dim = month_map[1].shape[0]\n",
    "col_name = [f'month_emb_{i}' for i in range(1, emb_dim + 1)]\n",
    "df_emb_month = pd.DataFrame(combined['Month'].map(month_map).to_list(), columns = col_name)"
   ]
  },
  {
   "cell_type": "code",
   "execution_count": 16,
   "id": "29905951-e89d-4a8d-bacc-64ce05cbbeca",
   "metadata": {},
   "outputs": [],
   "source": [
    "combined = pd.concat([combined, df_emb_month], axis = 1)"
   ]
  },
  {
   "cell_type": "code",
   "execution_count": 17,
   "id": "95ec36ef-e32f-4809-b0b5-169b4004e6f3",
   "metadata": {},
   "outputs": [],
   "source": [
    "gdp = pd.read_csv(\"GDP_per_capita_2015_to_2019_Finland_Norway_Sweden.csv\")\n",
    "\n",
    "gdp = gdp.melt(id_vars = 'year', value_vars = ['Finland', 'Norway', 'Sweden'], var_name = 'country', value_name = 'gdp')"
   ]
  },
  {
   "cell_type": "code",
   "execution_count": 18,
   "id": "4d0be577-8b65-44d7-9348-9067103fc8d7",
   "metadata": {},
   "outputs": [],
   "source": [
    "combined = combined.rename(columns = {\"Year\" : \"year\"})"
   ]
  },
  {
   "cell_type": "code",
   "execution_count": 19,
   "id": "b6ef735a-f1cf-4fa7-9317-27c936f2d39c",
   "metadata": {},
   "outputs": [],
   "source": [
    "combined = combined.merge(gdp, on = [\"country\", \"year\"], how = \"left\")"
   ]
  },
  {
   "cell_type": "code",
   "execution_count": 20,
   "id": "8346f601-bb39-4e7a-8959-d23973689814",
   "metadata": {},
   "outputs": [],
   "source": [
    "train_idx = combined.iloc[0:22986].index\n",
    "valid_idx = combined.iloc[22986:26298].index\n",
    "test_idx = combined.iloc[26298:].index"
   ]
  },
  {
   "cell_type": "code",
   "execution_count": 21,
   "id": "8190fa84-4323-4794-8363-7257c12697a0",
   "metadata": {},
   "outputs": [],
   "source": [
    "cont, cat = cont_cat_split(combined, 1, dep_var)"
   ]
  },
  {
   "cell_type": "code",
   "execution_count": 22,
   "id": "039ef34c-9510-49a1-9ef6-7657b978662b",
   "metadata": {},
   "outputs": [
    {
     "data": {
      "text/plain": [
       "['row_id',\n",
       " 'store_emb_1',\n",
       " 'store_emb_2',\n",
       " 'store_emb_3',\n",
       " 'product_emb_1',\n",
       " 'product_emb_2',\n",
       " 'product_emb_3',\n",
       " 'country_emb_1',\n",
       " 'country_emb_2',\n",
       " 'country_emb_3',\n",
       " 'year',\n",
       " 'Month',\n",
       " 'Week',\n",
       " 'Day',\n",
       " 'Dayofweek',\n",
       " 'Dayofyear',\n",
       " 'Elapsed',\n",
       " 'month_emb_1',\n",
       " 'month_emb_2',\n",
       " 'month_emb_3',\n",
       " 'month_emb_4',\n",
       " 'month_emb_5',\n",
       " 'month_emb_6',\n",
       " 'month_emb_7',\n",
       " 'gdp']"
      ]
     },
     "execution_count": 22,
     "metadata": {},
     "output_type": "execute_result"
    }
   ],
   "source": [
    "cont"
   ]
  },
  {
   "cell_type": "code",
   "execution_count": 23,
   "id": "4754c66d-8248-498d-93f3-348b48b73076",
   "metadata": {},
   "outputs": [],
   "source": [
    "cont.remove(\"row_id\")"
   ]
  },
  {
   "cell_type": "code",
   "execution_count": 24,
   "id": "fedd65c1-5caf-4a3f-b94b-2f7d0ac57ff1",
   "metadata": {},
   "outputs": [
    {
     "data": {
      "text/plain": [
       "['country',\n",
       " 'store',\n",
       " 'product',\n",
       " 'holiday',\n",
       " 'Is_month_end',\n",
       " 'Is_month_start',\n",
       " 'Is_quarter_end',\n",
       " 'Is_quarter_start',\n",
       " 'Is_year_end',\n",
       " 'Is_year_start']"
      ]
     },
     "execution_count": 24,
     "metadata": {},
     "output_type": "execute_result"
    }
   ],
   "source": [
    "cat"
   ]
  },
  {
   "cell_type": "code",
   "execution_count": 25,
   "id": "b30d9d9e-5bdc-4183-9038-edda7ca116b5",
   "metadata": {},
   "outputs": [],
   "source": [
    "procs = [Categorify, FillMissing]\n",
    "#train_idx = combined.iloc[:26298]\n",
    "splits = (list(train_idx), list(valid_idx))\n",
    "to = TabularPandas(combined, procs, cat, cont, y_names = dep_var, splits = splits)"
   ]
  },
  {
   "cell_type": "code",
   "execution_count": 26,
   "id": "35dc4950-7ec7-4d3d-a515-3404bc4f8196",
   "metadata": {},
   "outputs": [],
   "source": [
    "def SMAPE(preds, targs):\n",
    "    denominator = (targs + np.abs(preds)) / 200.0\n",
    "    diff = np.abs(preds - targs) / denominator\n",
    "    diff[denominator == 0] = 0.0\n",
    "    return np.mean(diff)"
   ]
  },
  {
   "cell_type": "code",
   "execution_count": 27,
   "id": "79d02dcc-33c8-4dfb-8847-b5785c645671",
   "metadata": {},
   "outputs": [
    {
     "name": "stdout",
     "output_type": "stream",
     "text": [
      "(22986, 34) (22986,)\n"
     ]
    }
   ],
   "source": [
    "trainxs, trainy = to.train.xs, to.train.y\n",
    "print (trainxs.shape, trainy.shape)"
   ]
  },
  {
   "cell_type": "code",
   "execution_count": 28,
   "id": "44588a6f-2fa2-4ce7-bbe3-ae0a2921a386",
   "metadata": {},
   "outputs": [
    {
     "name": "stdout",
     "output_type": "stream",
     "text": [
      "(3312, 34) (3312,)\n"
     ]
    }
   ],
   "source": [
    "validxs, validy = to.valid.xs, to.valid.y\n",
    "print (validxs.shape, validy.shape)"
   ]
  },
  {
   "cell_type": "code",
   "execution_count": 29,
   "id": "67ddcdab-e6b6-4eb5-acb2-4e8fa3394a69",
   "metadata": {},
   "outputs": [],
   "source": [
    "model_log = XGBRegressor(learning_rate = 0.44217554329478864, gamma = 0.008005901796296285,\n",
    "                     alpha = 7.198845069865988, max_depth = 3,\n",
    "                     reg_lambda = 0.002454298512769308)"
   ]
  },
  {
   "cell_type": "code",
   "execution_count": 30,
   "id": "9d1cab2f-cc69-4dd0-af39-24ad478fbfb1",
   "metadata": {},
   "outputs": [
    {
     "data": {
      "text/plain": [
       "XGBRegressor(alpha=7.198845069865988, base_score=0.5, booster='gbtree',\n",
       "             colsample_bylevel=1, colsample_bynode=1, colsample_bytree=1,\n",
       "             enable_categorical=False, gamma=0.008005901796296285, gpu_id=-1,\n",
       "             importance_type=None, interaction_constraints='',\n",
       "             learning_rate=0.44217554329478864, max_delta_step=0, max_depth=3,\n",
       "             min_child_weight=1, missing=nan, monotone_constraints='()',\n",
       "             n_estimators=100, n_jobs=7, num_parallel_tree=1, predictor='auto',\n",
       "             random_state=0, reg_alpha=7.19884491,\n",
       "             reg_lambda=0.002454298512769308, scale_pos_weight=1, subsample=1,\n",
       "             tree_method='exact', validate_parameters=1, verbosity=None)"
      ]
     },
     "execution_count": 30,
     "metadata": {},
     "output_type": "execute_result"
    }
   ],
   "source": [
    "model_log.fit(trainxs, trainy)"
   ]
  },
  {
   "cell_type": "code",
   "execution_count": 32,
   "id": "b9dfae5c-ee2e-44b4-a862-ea9e807ed35c",
   "metadata": {},
   "outputs": [
    {
     "data": {
      "text/plain": [
       "0.9098933320428614"
      ]
     },
     "execution_count": 32,
     "metadata": {},
     "output_type": "execute_result"
    }
   ],
   "source": [
    "SMAPE(model_log.predict(validxs), validy)"
   ]
  },
  {
   "cell_type": "code",
   "execution_count": 33,
   "id": "d99e6ce2-5eed-4074-89ad-0bcfcfb3215e",
   "metadata": {},
   "outputs": [],
   "source": [
    "model_exp = XGBRegressor(learning_rate = 0.03939193777334498, gamma = 4.0544219317998165,\n",
    "                     alpha = 5.32579150349582, max_depth = 8,\n",
    "                     reg_lambda = 20.69660325703409)"
   ]
  },
  {
   "cell_type": "code",
   "execution_count": 34,
   "id": "dbfa72a2-0c83-4008-8ba0-63ba6edd1e8a",
   "metadata": {},
   "outputs": [],
   "source": [
    "trainy_exp = np.exp(trainy)\n",
    "validy_exp = np.exp(validy)"
   ]
  },
  {
   "cell_type": "code",
   "execution_count": 35,
   "id": "be371ae6-0344-4d0e-8d22-1ef8836116cb",
   "metadata": {},
   "outputs": [
    {
     "data": {
      "text/plain": [
       "XGBRegressor(alpha=5.32579150349582, base_score=0.5, booster='gbtree',\n",
       "             colsample_bylevel=1, colsample_bynode=1, colsample_bytree=1,\n",
       "             enable_categorical=False, gamma=4.0544219317998165, gpu_id=-1,\n",
       "             importance_type=None, interaction_constraints='',\n",
       "             learning_rate=0.03939193777334498, max_delta_step=0, max_depth=8,\n",
       "             min_child_weight=1, missing=nan, monotone_constraints='()',\n",
       "             n_estimators=100, n_jobs=7, num_parallel_tree=1, predictor='auto',\n",
       "             random_state=0, reg_alpha=5.32579136, reg_lambda=20.69660325703409,\n",
       "             scale_pos_weight=1, subsample=1, tree_method='exact',\n",
       "             validate_parameters=1, verbosity=None)"
      ]
     },
     "execution_count": 35,
     "metadata": {},
     "output_type": "execute_result"
    }
   ],
   "source": [
    "model_exp.fit(trainxs, trainy_exp)"
   ]
  },
  {
   "cell_type": "code",
   "execution_count": 36,
   "id": "3d1a6b63-68be-42d5-aa4a-500fd67c4b59",
   "metadata": {},
   "outputs": [
    {
     "data": {
      "text/plain": [
       "6.34229734015435"
      ]
     },
     "execution_count": 36,
     "metadata": {},
     "output_type": "execute_result"
    }
   ],
   "source": [
    "SMAPE(model_exp.predict(validxs), validy_exp)"
   ]
  },
  {
   "cell_type": "code",
   "execution_count": 37,
   "id": "d4ac6abe-9b84-4e6e-9373-7055aaff2134",
   "metadata": {},
   "outputs": [],
   "source": [
    "## loading neural network model"
   ]
  },
  {
   "cell_type": "code",
   "execution_count": 44,
   "id": "13fc76ee-a54b-4690-85a3-4bcfb70215a6",
   "metadata": {},
   "outputs": [],
   "source": [
    "procs = [Categorify, FillMissing, Normalize]\n",
    "#train_idx = combined.iloc[:26298]\n",
    "splits = (list(train_idx), list(valid_idx))\n",
    "to_nn = TabularPandas(combined, procs, cat, cont, y_names = dep_var, splits = splits)"
   ]
  },
  {
   "cell_type": "code",
   "execution_count": 45,
   "id": "05d03f8a-78d6-4975-91cb-95f37cb81937",
   "metadata": {},
   "outputs": [],
   "source": [
    "dls = to_nn.dataloaders(1024, device = \"cuda\")"
   ]
  },
  {
   "cell_type": "code",
   "execution_count": 47,
   "id": "85686b96-5112-478d-94b3-37f2c96057d6",
   "metadata": {},
   "outputs": [],
   "source": [
    "learn = load_learner(\"nn_21.pkl\")"
   ]
  },
  {
   "cell_type": "code",
   "execution_count": 48,
   "id": "1f64b564-5b48-4110-a228-2422dbcd1b55",
   "metadata": {},
   "outputs": [
    {
     "data": {
      "text/html": [],
      "text/plain": [
       "<IPython.core.display.HTML object>"
      ]
     },
     "metadata": {},
     "output_type": "display_data"
    }
   ],
   "source": [
    "ynn, _ = learn.get_preds(dl = dls.valid)"
   ]
  },
  {
   "cell_type": "code",
   "execution_count": 49,
   "id": "affa6b39-c4c3-4353-915a-3d4846f36e6c",
   "metadata": {},
   "outputs": [
    {
     "data": {
      "text/plain": [
       "tensor([[5.4392],\n",
       "        [6.2024],\n",
       "        [4.9063],\n",
       "        ...,\n",
       "        [6.8990],\n",
       "        [7.2861],\n",
       "        [5.9372]])"
      ]
     },
     "execution_count": 49,
     "metadata": {},
     "output_type": "execute_result"
    }
   ],
   "source": [
    "ynn"
   ]
  },
  {
   "cell_type": "code",
   "execution_count": 50,
   "id": "ef9c7188-8a8f-48fe-9daf-14e74cbc3c61",
   "metadata": {},
   "outputs": [
    {
     "data": {
      "text/plain": [
       "(3312,)"
      ]
     },
     "execution_count": 50,
     "metadata": {},
     "output_type": "execute_result"
    }
   ],
   "source": [
    "ynn = np.concatenate([ynn])\n",
    "ynn = np.squeeze(ynn)\n",
    "ynn.shape"
   ]
  },
  {
   "cell_type": "code",
   "execution_count": 51,
   "id": "405cbd9f-ae08-42e9-9390-313665df0a76",
   "metadata": {},
   "outputs": [
    {
     "data": {
      "text/plain": [
       "0.6842138562382427"
      ]
     },
     "execution_count": 51,
     "metadata": {},
     "output_type": "execute_result"
    }
   ],
   "source": [
    "SMAPE(ynn, validy)"
   ]
  },
  {
   "cell_type": "code",
   "execution_count": 52,
   "id": "fcb17e2f-2990-4bd7-8c97-0b70ae49e4c7",
   "metadata": {},
   "outputs": [],
   "source": [
    "pred_exp = model_exp.predict(validxs)\n",
    "pred_log = model_log.predict(validxs)"
   ]
  },
  {
   "cell_type": "code",
   "execution_count": 53,
   "id": "c21beda1-b9bf-468e-a847-3706482d6295",
   "metadata": {},
   "outputs": [],
   "source": [
    "ynn = np.exp(ynn)\n",
    "pred_log_exp = np.exp(pred_log)"
   ]
  },
  {
   "cell_type": "code",
   "execution_count": 54,
   "id": "9e555173-219a-4345-952a-779a1aa5e9a4",
   "metadata": {},
   "outputs": [],
   "source": [
    "final_pred = (pred_exp + pred_log_exp + ynn) / 3"
   ]
  },
  {
   "cell_type": "code",
   "execution_count": 55,
   "id": "79a6ab23-3373-4d30-8fe2-dbb28becb1bf",
   "metadata": {},
   "outputs": [
    {
     "data": {
      "text/plain": [
       "array([229.87091, 461.1084 , 135.02922, 397.93457, 770.3143 ],\n",
       "      dtype=float32)"
      ]
     },
     "execution_count": 55,
     "metadata": {},
     "output_type": "execute_result"
    }
   ],
   "source": [
    "final_pred[:5]"
   ]
  },
  {
   "cell_type": "code",
   "execution_count": 56,
   "id": "8403e548-1acf-4b4f-82e4-ee5728c9f9ae",
   "metadata": {},
   "outputs": [
    {
     "data": {
      "text/plain": [
       "4.623243678663578"
      ]
     },
     "execution_count": 56,
     "metadata": {},
     "output_type": "execute_result"
    }
   ],
   "source": [
    "SMAPE(final_pred, validy_exp)"
   ]
  },
  {
   "cell_type": "code",
   "execution_count": 57,
   "id": "845fd578-52b7-4c63-a3c0-67efe55212c9",
   "metadata": {},
   "outputs": [],
   "source": [
    "## Ensembling"
   ]
  },
  {
   "cell_type": "code",
   "execution_count": 58,
   "id": "01c07462-8a48-440a-99d8-fb2a9eaf7204",
   "metadata": {},
   "outputs": [],
   "source": [
    "from functools import partial\n",
    "from scipy.optimize import fmin\n",
    "class OptimizeSMAPE :\n",
    "    def __init__(self):\n",
    "        self.coef_ = 0\n",
    "        \n",
    "    def _smape(self, coef, X, y):\n",
    "        '''\n",
    "        coef = coef list, of the same length as the no of models\n",
    "        X = predictions made by every model\n",
    "        y = targets\n",
    "        '''\n",
    "        x_coef = X * coef\n",
    "        predictions = np.sum(x_coef, axis = 1)\n",
    "        # calculate the SMAPE score\n",
    "        smape_score = SMAPE(predictions, y)\n",
    "        \n",
    "        return smape_score\n",
    "    \n",
    "    def fit(self, X, y):\n",
    "        loss_partial = partial(self._smape, X = X, y = y)\n",
    "        initial_coef = np.random.dirichlet(np.ones(X.shape[1]), size = 1)\n",
    "        \n",
    "        self.coef_ = fmin(loss_partial, initial_coef, disp = True)\n",
    "        \n",
    "    def predict(self, X):\n",
    "        x_coef = X * self.coef_\n",
    "        predictions = np.sum(x_coef, axis = 1)\n",
    "        return predictions"
   ]
  },
  {
   "cell_type": "code",
   "execution_count": 59,
   "id": "37f600f0-232b-4587-8b3a-4e8d1a1a9f22",
   "metadata": {},
   "outputs": [],
   "source": [
    "stack_preds = np.column_stack((pred_exp, pred_log_exp, ynn, final_pred))"
   ]
  },
  {
   "cell_type": "code",
   "execution_count": 60,
   "id": "e29c7107-f707-48b5-93d9-00e89c995620",
   "metadata": {},
   "outputs": [
    {
     "data": {
      "text/plain": [
       "array([[ 219.11063,  240.23576,  230.26634,  229.87091],\n",
       "       [ 420.2454 ,  469.1584 ,  493.9214 ,  461.1084 ],\n",
       "       [ 126.38105,  143.5669 ,  135.13972,  135.02922],\n",
       "       ...,\n",
       "       [ 919.86707, 1054.3684 ,  991.2897 ,  988.50836],\n",
       "       [1430.302  , 1529.3706 , 1459.8527 , 1473.1752 ],\n",
       "       [ 405.79718,  410.81213,  378.87787,  398.49573]], dtype=float32)"
      ]
     },
     "execution_count": 60,
     "metadata": {},
     "output_type": "execute_result"
    }
   ],
   "source": [
    "stack_preds"
   ]
  },
  {
   "cell_type": "code",
   "execution_count": 61,
   "id": "40aba0df-b56c-4b9c-b1c9-9893d0b73873",
   "metadata": {},
   "outputs": [],
   "source": [
    "opt = OptimizeSMAPE()"
   ]
  },
  {
   "cell_type": "code",
   "execution_count": 62,
   "id": "0670e061-9629-40c5-a9ce-65378dc20f10",
   "metadata": {},
   "outputs": [
    {
     "data": {
      "text/plain": [
       "0"
      ]
     },
     "execution_count": 62,
     "metadata": {},
     "output_type": "execute_result"
    }
   ],
   "source": [
    "opt.coef_"
   ]
  },
  {
   "cell_type": "code",
   "execution_count": 63,
   "id": "69e4a326-fae7-46c9-93b9-7b65e820dfbe",
   "metadata": {},
   "outputs": [
    {
     "name": "stdout",
     "output_type": "stream",
     "text": [
      "Optimization terminated successfully.\n",
      "         Current function value: 3.876234\n",
      "         Iterations: 96\n",
      "         Function evaluations: 171\n",
      "CPU times: user 337 ms, sys: 0 ns, total: 337 ms\n",
      "Wall time: 335 ms\n"
     ]
    }
   ],
   "source": [
    "%%time\n",
    "opt.fit(stack_preds[:, :-1], validy_exp)"
   ]
  },
  {
   "cell_type": "code",
   "execution_count": 64,
   "id": "76a7f8d7-9ead-4c28-a1cb-c53caf0c949c",
   "metadata": {},
   "outputs": [
    {
     "data": {
      "text/plain": [
       "array([0.02141535, 0.05087608, 0.93324078])"
      ]
     },
     "execution_count": 64,
     "metadata": {},
     "output_type": "execute_result"
    }
   ],
   "source": [
    "opt.coef_"
   ]
  },
  {
   "cell_type": "code",
   "execution_count": 65,
   "id": "bd8ba6de-4f8e-40d3-a99c-7b9e180a6cb4",
   "metadata": {},
   "outputs": [],
   "source": [
    "ensemble_preds = opt.predict(stack_preds[:, :-1])"
   ]
  },
  {
   "cell_type": "code",
   "execution_count": 66,
   "id": "95914ff7-cbba-49b8-b126-bf695c25e7dc",
   "metadata": {},
   "outputs": [
    {
     "data": {
      "text/plain": [
       "3.876233964507752"
      ]
     },
     "execution_count": 66,
     "metadata": {},
     "output_type": "execute_result"
    }
   ],
   "source": [
    "SMAPE(ensemble_preds, validy_exp)"
   ]
  },
  {
   "cell_type": "code",
   "execution_count": 67,
   "id": "2b493d6a-ab0f-4bdb-ad7d-06b8b16f27ac",
   "metadata": {},
   "outputs": [
    {
     "data": {
      "text/plain": [
       "Int64Index([26298, 26299, 26300, 26301, 26302, 26303, 26304, 26305, 26306,\n",
       "            26307,\n",
       "            ...\n",
       "            32858, 32859, 32860, 32861, 32862, 32863, 32864, 32865, 32866,\n",
       "            32867],\n",
       "           dtype='int64', length=6570)"
      ]
     },
     "execution_count": 67,
     "metadata": {},
     "output_type": "execute_result"
    }
   ],
   "source": [
    "test_idx"
   ]
  },
  {
   "cell_type": "code",
   "execution_count": 68,
   "id": "33d32980-bea3-4459-b908-69f4d2dd8e1d",
   "metadata": {},
   "outputs": [],
   "source": [
    "combined_test = combined.iloc[test_idx]"
   ]
  },
  {
   "cell_type": "code",
   "execution_count": 69,
   "id": "55e37fe1-2791-4fd0-b605-e452a765d514",
   "metadata": {},
   "outputs": [
    {
     "data": {
      "text/html": [
       "<div>\n",
       "<style scoped>\n",
       "    .dataframe tbody tr th:only-of-type {\n",
       "        vertical-align: middle;\n",
       "    }\n",
       "\n",
       "    .dataframe tbody tr th {\n",
       "        vertical-align: top;\n",
       "    }\n",
       "\n",
       "    .dataframe thead th {\n",
       "        text-align: right;\n",
       "    }\n",
       "</style>\n",
       "<table border=\"1\" class=\"dataframe\">\n",
       "  <thead>\n",
       "    <tr style=\"text-align: right;\">\n",
       "      <th></th>\n",
       "      <th>row_id</th>\n",
       "      <th>country</th>\n",
       "      <th>store</th>\n",
       "      <th>product</th>\n",
       "      <th>num_sold</th>\n",
       "      <th>holiday</th>\n",
       "      <th>store_emb_1</th>\n",
       "      <th>store_emb_2</th>\n",
       "      <th>store_emb_3</th>\n",
       "      <th>product_emb_1</th>\n",
       "      <th>...</th>\n",
       "      <th>Is_year_start</th>\n",
       "      <th>Elapsed</th>\n",
       "      <th>month_emb_1</th>\n",
       "      <th>month_emb_2</th>\n",
       "      <th>month_emb_3</th>\n",
       "      <th>month_emb_4</th>\n",
       "      <th>month_emb_5</th>\n",
       "      <th>month_emb_6</th>\n",
       "      <th>month_emb_7</th>\n",
       "      <th>gdp</th>\n",
       "    </tr>\n",
       "  </thead>\n",
       "  <tbody>\n",
       "    <tr>\n",
       "      <th>26298</th>\n",
       "      <td>26298</td>\n",
       "      <td>Finland</td>\n",
       "      <td>KaggleMart</td>\n",
       "      <td>Kaggle Mug</td>\n",
       "      <td>-inf</td>\n",
       "      <td>in_Finland</td>\n",
       "      <td>0.967750</td>\n",
       "      <td>-0.929185</td>\n",
       "      <td>1.117330</td>\n",
       "      <td>-0.345529</td>\n",
       "      <td>...</td>\n",
       "      <td>True</td>\n",
       "      <td>1.546301e+09</td>\n",
       "      <td>0.139456</td>\n",
       "      <td>0.072881</td>\n",
       "      <td>-0.318967</td>\n",
       "      <td>0.426407</td>\n",
       "      <td>0.22274</td>\n",
       "      <td>0.328248</td>\n",
       "      <td>0.634298</td>\n",
       "      <td>48712</td>\n",
       "    </tr>\n",
       "    <tr>\n",
       "      <th>26299</th>\n",
       "      <td>26299</td>\n",
       "      <td>Finland</td>\n",
       "      <td>KaggleMart</td>\n",
       "      <td>Kaggle Hat</td>\n",
       "      <td>-inf</td>\n",
       "      <td>in_Finland</td>\n",
       "      <td>0.967750</td>\n",
       "      <td>-0.929185</td>\n",
       "      <td>1.117330</td>\n",
       "      <td>0.764051</td>\n",
       "      <td>...</td>\n",
       "      <td>True</td>\n",
       "      <td>1.546301e+09</td>\n",
       "      <td>0.139456</td>\n",
       "      <td>0.072881</td>\n",
       "      <td>-0.318967</td>\n",
       "      <td>0.426407</td>\n",
       "      <td>0.22274</td>\n",
       "      <td>0.328248</td>\n",
       "      <td>0.634298</td>\n",
       "      <td>48712</td>\n",
       "    </tr>\n",
       "    <tr>\n",
       "      <th>26300</th>\n",
       "      <td>26300</td>\n",
       "      <td>Finland</td>\n",
       "      <td>KaggleMart</td>\n",
       "      <td>Kaggle Sticker</td>\n",
       "      <td>-inf</td>\n",
       "      <td>in_Finland</td>\n",
       "      <td>0.967750</td>\n",
       "      <td>-0.929185</td>\n",
       "      <td>1.117330</td>\n",
       "      <td>-1.278340</td>\n",
       "      <td>...</td>\n",
       "      <td>True</td>\n",
       "      <td>1.546301e+09</td>\n",
       "      <td>0.139456</td>\n",
       "      <td>0.072881</td>\n",
       "      <td>-0.318967</td>\n",
       "      <td>0.426407</td>\n",
       "      <td>0.22274</td>\n",
       "      <td>0.328248</td>\n",
       "      <td>0.634298</td>\n",
       "      <td>48712</td>\n",
       "    </tr>\n",
       "    <tr>\n",
       "      <th>26301</th>\n",
       "      <td>26301</td>\n",
       "      <td>Finland</td>\n",
       "      <td>KaggleRama</td>\n",
       "      <td>Kaggle Mug</td>\n",
       "      <td>-inf</td>\n",
       "      <td>in_Finland</td>\n",
       "      <td>-0.300273</td>\n",
       "      <td>0.358641</td>\n",
       "      <td>-0.296122</td>\n",
       "      <td>-0.345529</td>\n",
       "      <td>...</td>\n",
       "      <td>True</td>\n",
       "      <td>1.546301e+09</td>\n",
       "      <td>0.139456</td>\n",
       "      <td>0.072881</td>\n",
       "      <td>-0.318967</td>\n",
       "      <td>0.426407</td>\n",
       "      <td>0.22274</td>\n",
       "      <td>0.328248</td>\n",
       "      <td>0.634298</td>\n",
       "      <td>48712</td>\n",
       "    </tr>\n",
       "    <tr>\n",
       "      <th>26302</th>\n",
       "      <td>26302</td>\n",
       "      <td>Finland</td>\n",
       "      <td>KaggleRama</td>\n",
       "      <td>Kaggle Hat</td>\n",
       "      <td>-inf</td>\n",
       "      <td>in_Finland</td>\n",
       "      <td>-0.300273</td>\n",
       "      <td>0.358641</td>\n",
       "      <td>-0.296122</td>\n",
       "      <td>0.764051</td>\n",
       "      <td>...</td>\n",
       "      <td>True</td>\n",
       "      <td>1.546301e+09</td>\n",
       "      <td>0.139456</td>\n",
       "      <td>0.072881</td>\n",
       "      <td>-0.318967</td>\n",
       "      <td>0.426407</td>\n",
       "      <td>0.22274</td>\n",
       "      <td>0.328248</td>\n",
       "      <td>0.634298</td>\n",
       "      <td>48712</td>\n",
       "    </tr>\n",
       "  </tbody>\n",
       "</table>\n",
       "<p>5 rows × 36 columns</p>\n",
       "</div>"
      ],
      "text/plain": [
       "       row_id  country       store         product  num_sold     holiday  \\\n",
       "26298   26298  Finland  KaggleMart      Kaggle Mug      -inf  in_Finland   \n",
       "26299   26299  Finland  KaggleMart      Kaggle Hat      -inf  in_Finland   \n",
       "26300   26300  Finland  KaggleMart  Kaggle Sticker      -inf  in_Finland   \n",
       "26301   26301  Finland  KaggleRama      Kaggle Mug      -inf  in_Finland   \n",
       "26302   26302  Finland  KaggleRama      Kaggle Hat      -inf  in_Finland   \n",
       "\n",
       "       store_emb_1  store_emb_2  store_emb_3  product_emb_1  ...  \\\n",
       "26298     0.967750    -0.929185     1.117330      -0.345529  ...   \n",
       "26299     0.967750    -0.929185     1.117330       0.764051  ...   \n",
       "26300     0.967750    -0.929185     1.117330      -1.278340  ...   \n",
       "26301    -0.300273     0.358641    -0.296122      -0.345529  ...   \n",
       "26302    -0.300273     0.358641    -0.296122       0.764051  ...   \n",
       "\n",
       "       Is_year_start       Elapsed  month_emb_1  month_emb_2  month_emb_3  \\\n",
       "26298           True  1.546301e+09     0.139456     0.072881    -0.318967   \n",
       "26299           True  1.546301e+09     0.139456     0.072881    -0.318967   \n",
       "26300           True  1.546301e+09     0.139456     0.072881    -0.318967   \n",
       "26301           True  1.546301e+09     0.139456     0.072881    -0.318967   \n",
       "26302           True  1.546301e+09     0.139456     0.072881    -0.318967   \n",
       "\n",
       "       month_emb_4  month_emb_5  month_emb_6  month_emb_7    gdp  \n",
       "26298     0.426407      0.22274     0.328248     0.634298  48712  \n",
       "26299     0.426407      0.22274     0.328248     0.634298  48712  \n",
       "26300     0.426407      0.22274     0.328248     0.634298  48712  \n",
       "26301     0.426407      0.22274     0.328248     0.634298  48712  \n",
       "26302     0.426407      0.22274     0.328248     0.634298  48712  \n",
       "\n",
       "[5 rows x 36 columns]"
      ]
     },
     "execution_count": 69,
     "metadata": {},
     "output_type": "execute_result"
    }
   ],
   "source": [
    "combined_test.head()"
   ]
  },
  {
   "cell_type": "code",
   "execution_count": 70,
   "id": "6e08627a-693f-4904-ad10-62faa2ef04b5",
   "metadata": {},
   "outputs": [
    {
     "data": {
      "text/plain": [
       "6570"
      ]
     },
     "execution_count": 70,
     "metadata": {},
     "output_type": "execute_result"
    }
   ],
   "source": [
    "len(combined_test)"
   ]
  },
  {
   "cell_type": "code",
   "execution_count": 71,
   "id": "134bc6db-1eb3-4390-ab20-ba15556ae816",
   "metadata": {},
   "outputs": [],
   "source": [
    "procs = [Categorify, FillMissing]\n",
    "#train_idx = combined.iloc[:26298]\n",
    "splits = (list(train_idx), list(test_idx))\n",
    "to = TabularPandas(combined, procs, cat, cont, y_names = dep_var, splits = splits)"
   ]
  },
  {
   "cell_type": "code",
   "execution_count": 72,
   "id": "376fcf9d-36fa-423a-ab0a-3c2b40b9fc4e",
   "metadata": {},
   "outputs": [],
   "source": [
    "testxs = to.valid.xs"
   ]
  },
  {
   "cell_type": "code",
   "execution_count": 73,
   "id": "21f4316b-c719-41eb-b076-871d2c267d74",
   "metadata": {},
   "outputs": [
    {
     "data": {
      "text/plain": [
       "(6570, 34)"
      ]
     },
     "execution_count": 73,
     "metadata": {},
     "output_type": "execute_result"
    }
   ],
   "source": [
    "testxs.shape"
   ]
  },
  {
   "cell_type": "code",
   "execution_count": 74,
   "id": "4d2bfbe6-76c3-4da4-95c6-17726acfcf52",
   "metadata": {},
   "outputs": [
    {
     "data": {
      "text/html": [
       "<div>\n",
       "<style scoped>\n",
       "    .dataframe tbody tr th:only-of-type {\n",
       "        vertical-align: middle;\n",
       "    }\n",
       "\n",
       "    .dataframe tbody tr th {\n",
       "        vertical-align: top;\n",
       "    }\n",
       "\n",
       "    .dataframe thead th {\n",
       "        text-align: right;\n",
       "    }\n",
       "</style>\n",
       "<table border=\"1\" class=\"dataframe\">\n",
       "  <thead>\n",
       "    <tr style=\"text-align: right;\">\n",
       "      <th></th>\n",
       "      <th>country</th>\n",
       "      <th>store</th>\n",
       "      <th>product</th>\n",
       "      <th>holiday</th>\n",
       "      <th>Is_month_end</th>\n",
       "      <th>Is_month_start</th>\n",
       "      <th>Is_quarter_end</th>\n",
       "      <th>Is_quarter_start</th>\n",
       "      <th>Is_year_end</th>\n",
       "      <th>Is_year_start</th>\n",
       "      <th>...</th>\n",
       "      <th>Dayofyear</th>\n",
       "      <th>Elapsed</th>\n",
       "      <th>month_emb_1</th>\n",
       "      <th>month_emb_2</th>\n",
       "      <th>month_emb_3</th>\n",
       "      <th>month_emb_4</th>\n",
       "      <th>month_emb_5</th>\n",
       "      <th>month_emb_6</th>\n",
       "      <th>month_emb_7</th>\n",
       "      <th>gdp</th>\n",
       "    </tr>\n",
       "  </thead>\n",
       "  <tbody>\n",
       "    <tr>\n",
       "      <th>26298</th>\n",
       "      <td>1</td>\n",
       "      <td>1</td>\n",
       "      <td>2</td>\n",
       "      <td>1</td>\n",
       "      <td>1</td>\n",
       "      <td>2</td>\n",
       "      <td>1</td>\n",
       "      <td>2</td>\n",
       "      <td>1</td>\n",
       "      <td>2</td>\n",
       "      <td>...</td>\n",
       "      <td>1</td>\n",
       "      <td>1.546301e+09</td>\n",
       "      <td>0.139456</td>\n",
       "      <td>0.072881</td>\n",
       "      <td>-0.318967</td>\n",
       "      <td>0.426407</td>\n",
       "      <td>0.222740</td>\n",
       "      <td>0.328248</td>\n",
       "      <td>0.634298</td>\n",
       "      <td>48712</td>\n",
       "    </tr>\n",
       "    <tr>\n",
       "      <th>26299</th>\n",
       "      <td>1</td>\n",
       "      <td>1</td>\n",
       "      <td>1</td>\n",
       "      <td>1</td>\n",
       "      <td>1</td>\n",
       "      <td>2</td>\n",
       "      <td>1</td>\n",
       "      <td>2</td>\n",
       "      <td>1</td>\n",
       "      <td>2</td>\n",
       "      <td>...</td>\n",
       "      <td>1</td>\n",
       "      <td>1.546301e+09</td>\n",
       "      <td>0.139456</td>\n",
       "      <td>0.072881</td>\n",
       "      <td>-0.318967</td>\n",
       "      <td>0.426407</td>\n",
       "      <td>0.222740</td>\n",
       "      <td>0.328248</td>\n",
       "      <td>0.634298</td>\n",
       "      <td>48712</td>\n",
       "    </tr>\n",
       "    <tr>\n",
       "      <th>26300</th>\n",
       "      <td>1</td>\n",
       "      <td>1</td>\n",
       "      <td>3</td>\n",
       "      <td>1</td>\n",
       "      <td>1</td>\n",
       "      <td>2</td>\n",
       "      <td>1</td>\n",
       "      <td>2</td>\n",
       "      <td>1</td>\n",
       "      <td>2</td>\n",
       "      <td>...</td>\n",
       "      <td>1</td>\n",
       "      <td>1.546301e+09</td>\n",
       "      <td>0.139456</td>\n",
       "      <td>0.072881</td>\n",
       "      <td>-0.318967</td>\n",
       "      <td>0.426407</td>\n",
       "      <td>0.222740</td>\n",
       "      <td>0.328248</td>\n",
       "      <td>0.634298</td>\n",
       "      <td>48712</td>\n",
       "    </tr>\n",
       "    <tr>\n",
       "      <th>26301</th>\n",
       "      <td>1</td>\n",
       "      <td>2</td>\n",
       "      <td>2</td>\n",
       "      <td>1</td>\n",
       "      <td>1</td>\n",
       "      <td>2</td>\n",
       "      <td>1</td>\n",
       "      <td>2</td>\n",
       "      <td>1</td>\n",
       "      <td>2</td>\n",
       "      <td>...</td>\n",
       "      <td>1</td>\n",
       "      <td>1.546301e+09</td>\n",
       "      <td>0.139456</td>\n",
       "      <td>0.072881</td>\n",
       "      <td>-0.318967</td>\n",
       "      <td>0.426407</td>\n",
       "      <td>0.222740</td>\n",
       "      <td>0.328248</td>\n",
       "      <td>0.634298</td>\n",
       "      <td>48712</td>\n",
       "    </tr>\n",
       "    <tr>\n",
       "      <th>26302</th>\n",
       "      <td>1</td>\n",
       "      <td>2</td>\n",
       "      <td>1</td>\n",
       "      <td>1</td>\n",
       "      <td>1</td>\n",
       "      <td>2</td>\n",
       "      <td>1</td>\n",
       "      <td>2</td>\n",
       "      <td>1</td>\n",
       "      <td>2</td>\n",
       "      <td>...</td>\n",
       "      <td>1</td>\n",
       "      <td>1.546301e+09</td>\n",
       "      <td>0.139456</td>\n",
       "      <td>0.072881</td>\n",
       "      <td>-0.318967</td>\n",
       "      <td>0.426407</td>\n",
       "      <td>0.222740</td>\n",
       "      <td>0.328248</td>\n",
       "      <td>0.634298</td>\n",
       "      <td>48712</td>\n",
       "    </tr>\n",
       "    <tr>\n",
       "      <th>...</th>\n",
       "      <td>...</td>\n",
       "      <td>...</td>\n",
       "      <td>...</td>\n",
       "      <td>...</td>\n",
       "      <td>...</td>\n",
       "      <td>...</td>\n",
       "      <td>...</td>\n",
       "      <td>...</td>\n",
       "      <td>...</td>\n",
       "      <td>...</td>\n",
       "      <td>...</td>\n",
       "      <td>...</td>\n",
       "      <td>...</td>\n",
       "      <td>...</td>\n",
       "      <td>...</td>\n",
       "      <td>...</td>\n",
       "      <td>...</td>\n",
       "      <td>...</td>\n",
       "      <td>...</td>\n",
       "      <td>...</td>\n",
       "      <td>...</td>\n",
       "    </tr>\n",
       "    <tr>\n",
       "      <th>32863</th>\n",
       "      <td>3</td>\n",
       "      <td>1</td>\n",
       "      <td>1</td>\n",
       "      <td>3</td>\n",
       "      <td>2</td>\n",
       "      <td>1</td>\n",
       "      <td>2</td>\n",
       "      <td>1</td>\n",
       "      <td>2</td>\n",
       "      <td>1</td>\n",
       "      <td>...</td>\n",
       "      <td>365</td>\n",
       "      <td>1.577750e+09</td>\n",
       "      <td>0.133122</td>\n",
       "      <td>-0.090387</td>\n",
       "      <td>0.225697</td>\n",
       "      <td>-0.282197</td>\n",
       "      <td>-0.173948</td>\n",
       "      <td>0.021887</td>\n",
       "      <td>0.936223</td>\n",
       "      <td>51687</td>\n",
       "    </tr>\n",
       "    <tr>\n",
       "      <th>32864</th>\n",
       "      <td>3</td>\n",
       "      <td>1</td>\n",
       "      <td>3</td>\n",
       "      <td>3</td>\n",
       "      <td>2</td>\n",
       "      <td>1</td>\n",
       "      <td>2</td>\n",
       "      <td>1</td>\n",
       "      <td>2</td>\n",
       "      <td>1</td>\n",
       "      <td>...</td>\n",
       "      <td>365</td>\n",
       "      <td>1.577750e+09</td>\n",
       "      <td>0.133122</td>\n",
       "      <td>-0.090387</td>\n",
       "      <td>0.225697</td>\n",
       "      <td>-0.282197</td>\n",
       "      <td>-0.173948</td>\n",
       "      <td>0.021887</td>\n",
       "      <td>0.936223</td>\n",
       "      <td>51687</td>\n",
       "    </tr>\n",
       "    <tr>\n",
       "      <th>32865</th>\n",
       "      <td>3</td>\n",
       "      <td>2</td>\n",
       "      <td>2</td>\n",
       "      <td>3</td>\n",
       "      <td>2</td>\n",
       "      <td>1</td>\n",
       "      <td>2</td>\n",
       "      <td>1</td>\n",
       "      <td>2</td>\n",
       "      <td>1</td>\n",
       "      <td>...</td>\n",
       "      <td>365</td>\n",
       "      <td>1.577750e+09</td>\n",
       "      <td>0.133122</td>\n",
       "      <td>-0.090387</td>\n",
       "      <td>0.225697</td>\n",
       "      <td>-0.282197</td>\n",
       "      <td>-0.173948</td>\n",
       "      <td>0.021887</td>\n",
       "      <td>0.936223</td>\n",
       "      <td>51687</td>\n",
       "    </tr>\n",
       "    <tr>\n",
       "      <th>32866</th>\n",
       "      <td>3</td>\n",
       "      <td>2</td>\n",
       "      <td>1</td>\n",
       "      <td>3</td>\n",
       "      <td>2</td>\n",
       "      <td>1</td>\n",
       "      <td>2</td>\n",
       "      <td>1</td>\n",
       "      <td>2</td>\n",
       "      <td>1</td>\n",
       "      <td>...</td>\n",
       "      <td>365</td>\n",
       "      <td>1.577750e+09</td>\n",
       "      <td>0.133122</td>\n",
       "      <td>-0.090387</td>\n",
       "      <td>0.225697</td>\n",
       "      <td>-0.282197</td>\n",
       "      <td>-0.173948</td>\n",
       "      <td>0.021887</td>\n",
       "      <td>0.936223</td>\n",
       "      <td>51687</td>\n",
       "    </tr>\n",
       "    <tr>\n",
       "      <th>32867</th>\n",
       "      <td>3</td>\n",
       "      <td>2</td>\n",
       "      <td>3</td>\n",
       "      <td>3</td>\n",
       "      <td>2</td>\n",
       "      <td>1</td>\n",
       "      <td>2</td>\n",
       "      <td>1</td>\n",
       "      <td>2</td>\n",
       "      <td>1</td>\n",
       "      <td>...</td>\n",
       "      <td>365</td>\n",
       "      <td>1.577750e+09</td>\n",
       "      <td>0.133122</td>\n",
       "      <td>-0.090387</td>\n",
       "      <td>0.225697</td>\n",
       "      <td>-0.282197</td>\n",
       "      <td>-0.173948</td>\n",
       "      <td>0.021887</td>\n",
       "      <td>0.936223</td>\n",
       "      <td>51687</td>\n",
       "    </tr>\n",
       "  </tbody>\n",
       "</table>\n",
       "<p>6570 rows × 34 columns</p>\n",
       "</div>"
      ],
      "text/plain": [
       "       country  store  product  holiday  Is_month_end  Is_month_start  \\\n",
       "26298        1      1        2        1             1               2   \n",
       "26299        1      1        1        1             1               2   \n",
       "26300        1      1        3        1             1               2   \n",
       "26301        1      2        2        1             1               2   \n",
       "26302        1      2        1        1             1               2   \n",
       "...        ...    ...      ...      ...           ...             ...   \n",
       "32863        3      1        1        3             2               1   \n",
       "32864        3      1        3        3             2               1   \n",
       "32865        3      2        2        3             2               1   \n",
       "32866        3      2        1        3             2               1   \n",
       "32867        3      2        3        3             2               1   \n",
       "\n",
       "       Is_quarter_end  Is_quarter_start  Is_year_end  Is_year_start  ...  \\\n",
       "26298               1                 2            1              2  ...   \n",
       "26299               1                 2            1              2  ...   \n",
       "26300               1                 2            1              2  ...   \n",
       "26301               1                 2            1              2  ...   \n",
       "26302               1                 2            1              2  ...   \n",
       "...               ...               ...          ...            ...  ...   \n",
       "32863               2                 1            2              1  ...   \n",
       "32864               2                 1            2              1  ...   \n",
       "32865               2                 1            2              1  ...   \n",
       "32866               2                 1            2              1  ...   \n",
       "32867               2                 1            2              1  ...   \n",
       "\n",
       "       Dayofyear       Elapsed  month_emb_1  month_emb_2  month_emb_3  \\\n",
       "26298          1  1.546301e+09     0.139456     0.072881    -0.318967   \n",
       "26299          1  1.546301e+09     0.139456     0.072881    -0.318967   \n",
       "26300          1  1.546301e+09     0.139456     0.072881    -0.318967   \n",
       "26301          1  1.546301e+09     0.139456     0.072881    -0.318967   \n",
       "26302          1  1.546301e+09     0.139456     0.072881    -0.318967   \n",
       "...          ...           ...          ...          ...          ...   \n",
       "32863        365  1.577750e+09     0.133122    -0.090387     0.225697   \n",
       "32864        365  1.577750e+09     0.133122    -0.090387     0.225697   \n",
       "32865        365  1.577750e+09     0.133122    -0.090387     0.225697   \n",
       "32866        365  1.577750e+09     0.133122    -0.090387     0.225697   \n",
       "32867        365  1.577750e+09     0.133122    -0.090387     0.225697   \n",
       "\n",
       "       month_emb_4  month_emb_5  month_emb_6  month_emb_7    gdp  \n",
       "26298     0.426407     0.222740     0.328248     0.634298  48712  \n",
       "26299     0.426407     0.222740     0.328248     0.634298  48712  \n",
       "26300     0.426407     0.222740     0.328248     0.634298  48712  \n",
       "26301     0.426407     0.222740     0.328248     0.634298  48712  \n",
       "26302     0.426407     0.222740     0.328248     0.634298  48712  \n",
       "...            ...          ...          ...          ...    ...  \n",
       "32863    -0.282197    -0.173948     0.021887     0.936223  51687  \n",
       "32864    -0.282197    -0.173948     0.021887     0.936223  51687  \n",
       "32865    -0.282197    -0.173948     0.021887     0.936223  51687  \n",
       "32866    -0.282197    -0.173948     0.021887     0.936223  51687  \n",
       "32867    -0.282197    -0.173948     0.021887     0.936223  51687  \n",
       "\n",
       "[6570 rows x 34 columns]"
      ]
     },
     "execution_count": 74,
     "metadata": {},
     "output_type": "execute_result"
    }
   ],
   "source": [
    "testxs"
   ]
  },
  {
   "cell_type": "code",
   "execution_count": 75,
   "id": "ee795d13-1e1e-4700-b0cc-aa9db81136a9",
   "metadata": {},
   "outputs": [],
   "source": [
    "dl = learn.dls.test_dl(combined_test)"
   ]
  },
  {
   "cell_type": "code",
   "execution_count": 76,
   "id": "4ff6d6fc-ac0f-4210-8971-2d2e92aaeafd",
   "metadata": {},
   "outputs": [
    {
     "data": {
      "text/html": [],
      "text/plain": [
       "<IPython.core.display.HTML object>"
      ]
     },
     "metadata": {},
     "output_type": "display_data"
    },
    {
     "name": "stderr",
     "output_type": "stream",
     "text": [
      "/tmp/ipykernel_496/884952379.py:3: RuntimeWarning: invalid value encountered in true_divide\n",
      "  diff = np.abs(preds - targs) / denominator\n"
     ]
    }
   ],
   "source": [
    "testpred, _ = learn.get_preds(dl = dl)"
   ]
  },
  {
   "cell_type": "code",
   "execution_count": 77,
   "id": "378cddda-9447-451f-846f-20da93ce395c",
   "metadata": {},
   "outputs": [
    {
     "data": {
      "text/plain": [
       "tensor([[5.9997],\n",
       "        [6.3896],\n",
       "        [5.2451],\n",
       "        ...,\n",
       "        [6.8322],\n",
       "        [7.2280],\n",
       "        [5.9246]])"
      ]
     },
     "execution_count": 77,
     "metadata": {},
     "output_type": "execute_result"
    }
   ],
   "source": [
    "testpred"
   ]
  },
  {
   "cell_type": "code",
   "execution_count": 78,
   "id": "88aa3415-026d-4286-9b95-412abf16b5c8",
   "metadata": {},
   "outputs": [
    {
     "data": {
      "text/plain": [
       "tensor([[ 403.3218],\n",
       "        [ 595.6145],\n",
       "        [ 189.6268],\n",
       "        ...,\n",
       "        [ 927.2502],\n",
       "        [1377.4723],\n",
       "        [ 374.1382]])"
      ]
     },
     "execution_count": 78,
     "metadata": {},
     "output_type": "execute_result"
    }
   ],
   "source": [
    "np.exp(testpred)"
   ]
  },
  {
   "cell_type": "code",
   "execution_count": 79,
   "id": "4dbda96b-1591-4b27-832a-4ef5c320f217",
   "metadata": {},
   "outputs": [
    {
     "data": {
      "text/plain": [
       "(6570,)"
      ]
     },
     "execution_count": 79,
     "metadata": {},
     "output_type": "execute_result"
    }
   ],
   "source": [
    "testpred = np.concatenate([testpred])\n",
    "testpred = np.squeeze(testpred)\n",
    "testpred = np.exp(testpred)\n",
    "testpred.shape"
   ]
  },
  {
   "cell_type": "code",
   "execution_count": 80,
   "id": "fbb6f0cf-1319-4d52-b9c4-822c320fca3c",
   "metadata": {},
   "outputs": [],
   "source": [
    "testpred_exp = model_exp.predict(testxs)"
   ]
  },
  {
   "cell_type": "code",
   "execution_count": 81,
   "id": "23664b6d-c17e-41a9-b5be-41e1a8d06e54",
   "metadata": {},
   "outputs": [
    {
     "data": {
      "text/plain": [
       "array([371.77856, 473.92432, 159.85696, 579.4384 , 798.0326 ],\n",
       "      dtype=float32)"
      ]
     },
     "execution_count": 81,
     "metadata": {},
     "output_type": "execute_result"
    }
   ],
   "source": [
    "testpred_exp[:5]"
   ]
  },
  {
   "cell_type": "code",
   "execution_count": 82,
   "id": "241950f9-4103-4ee4-92c9-5d84672646c7",
   "metadata": {},
   "outputs": [],
   "source": [
    "testpred_log = model_log.predict(testxs)\n",
    "testpred_log = np.exp(testpred_log)"
   ]
  },
  {
   "cell_type": "code",
   "execution_count": 83,
   "id": "422ccd5d-9845-48ff-afec-17f67e0a245e",
   "metadata": {},
   "outputs": [
    {
     "data": {
      "text/plain": [
       "array([345.60696, 551.2417 , 144.10938, 597.68536, 964.5431 ],\n",
       "      dtype=float32)"
      ]
     },
     "execution_count": 83,
     "metadata": {},
     "output_type": "execute_result"
    }
   ],
   "source": [
    "testpred_log[:5]"
   ]
  },
  {
   "cell_type": "code",
   "execution_count": 84,
   "id": "3645333c-aa03-45b7-9836-6323bbf6403e",
   "metadata": {},
   "outputs": [],
   "source": [
    "testpred_stack = np.column_stack((testpred_exp, testpred_log, testpred))"
   ]
  },
  {
   "cell_type": "code",
   "execution_count": 85,
   "id": "980d229f-b49b-4ab8-97a1-f4357c099806",
   "metadata": {},
   "outputs": [
    {
     "data": {
      "text/plain": [
       "array([[ 371.77856,  345.60696,  403.32184],\n",
       "       [ 473.92432,  551.2417 ,  595.6145 ],\n",
       "       [ 159.85696,  144.10938,  189.62682],\n",
       "       ...,\n",
       "       [ 819.78033,  940.8123 ,  927.25024],\n",
       "       [1277.4098 , 1351.1858 , 1377.4723 ],\n",
       "       [ 361.28314,  368.18112,  374.13824]], dtype=float32)"
      ]
     },
     "execution_count": 85,
     "metadata": {},
     "output_type": "execute_result"
    }
   ],
   "source": [
    "testpred_stack"
   ]
  },
  {
   "cell_type": "code",
   "execution_count": 86,
   "id": "1fc588f4-0de9-4c58-a322-bf7a2875aef5",
   "metadata": {},
   "outputs": [],
   "source": [
    "ensemble_test_preds = opt.predict(testpred_stack)"
   ]
  },
  {
   "cell_type": "code",
   "execution_count": 87,
   "id": "c51826d9-159a-42e7-bc97-e56cfb6a28e0",
   "metadata": {},
   "outputs": [
    {
     "data": {
      "text/plain": [
       "array([ 401.9412856 ,  594.04601848,  187.72259174, ...,  930.76847333,\n",
       "       1381.61253864,  375.62968717])"
      ]
     },
     "execution_count": 87,
     "metadata": {},
     "output_type": "execute_result"
    }
   ],
   "source": [
    "ensemble_test_preds"
   ]
  },
  {
   "cell_type": "code",
   "execution_count": 88,
   "id": "88c2e3bf-ae13-4b2e-9e65-ebab4d4011e6",
   "metadata": {},
   "outputs": [],
   "source": [
    "submission = pd.read_csv(\"sample_submission.csv\")"
   ]
  },
  {
   "cell_type": "code",
   "execution_count": 89,
   "id": "5884f98f-a07e-43e8-b45f-9b554496bab8",
   "metadata": {},
   "outputs": [
    {
     "data": {
      "text/html": [
       "<div>\n",
       "<style scoped>\n",
       "    .dataframe tbody tr th:only-of-type {\n",
       "        vertical-align: middle;\n",
       "    }\n",
       "\n",
       "    .dataframe tbody tr th {\n",
       "        vertical-align: top;\n",
       "    }\n",
       "\n",
       "    .dataframe thead th {\n",
       "        text-align: right;\n",
       "    }\n",
       "</style>\n",
       "<table border=\"1\" class=\"dataframe\">\n",
       "  <thead>\n",
       "    <tr style=\"text-align: right;\">\n",
       "      <th></th>\n",
       "      <th>row_id</th>\n",
       "      <th>num_sold</th>\n",
       "    </tr>\n",
       "  </thead>\n",
       "  <tbody>\n",
       "    <tr>\n",
       "      <th>0</th>\n",
       "      <td>26298</td>\n",
       "      <td>100</td>\n",
       "    </tr>\n",
       "    <tr>\n",
       "      <th>1</th>\n",
       "      <td>26299</td>\n",
       "      <td>100</td>\n",
       "    </tr>\n",
       "    <tr>\n",
       "      <th>2</th>\n",
       "      <td>26300</td>\n",
       "      <td>100</td>\n",
       "    </tr>\n",
       "    <tr>\n",
       "      <th>3</th>\n",
       "      <td>26301</td>\n",
       "      <td>100</td>\n",
       "    </tr>\n",
       "    <tr>\n",
       "      <th>4</th>\n",
       "      <td>26302</td>\n",
       "      <td>100</td>\n",
       "    </tr>\n",
       "  </tbody>\n",
       "</table>\n",
       "</div>"
      ],
      "text/plain": [
       "   row_id  num_sold\n",
       "0   26298       100\n",
       "1   26299       100\n",
       "2   26300       100\n",
       "3   26301       100\n",
       "4   26302       100"
      ]
     },
     "execution_count": 89,
     "metadata": {},
     "output_type": "execute_result"
    }
   ],
   "source": [
    "submission.head()"
   ]
  },
  {
   "cell_type": "code",
   "execution_count": 90,
   "id": "6d057835-022f-4822-ae93-10637e3d994f",
   "metadata": {},
   "outputs": [],
   "source": [
    "submission[\"num_sold\"] = list(ensemble_test_preds)"
   ]
  },
  {
   "cell_type": "code",
   "execution_count": 91,
   "id": "1533a11a-082a-4fac-9aed-df89d61d3f7e",
   "metadata": {},
   "outputs": [
    {
     "data": {
      "text/html": [
       "<div>\n",
       "<style scoped>\n",
       "    .dataframe tbody tr th:only-of-type {\n",
       "        vertical-align: middle;\n",
       "    }\n",
       "\n",
       "    .dataframe tbody tr th {\n",
       "        vertical-align: top;\n",
       "    }\n",
       "\n",
       "    .dataframe thead th {\n",
       "        text-align: right;\n",
       "    }\n",
       "</style>\n",
       "<table border=\"1\" class=\"dataframe\">\n",
       "  <thead>\n",
       "    <tr style=\"text-align: right;\">\n",
       "      <th></th>\n",
       "      <th>row_id</th>\n",
       "      <th>num_sold</th>\n",
       "    </tr>\n",
       "  </thead>\n",
       "  <tbody>\n",
       "    <tr>\n",
       "      <th>0</th>\n",
       "      <td>26298</td>\n",
       "      <td>401.941286</td>\n",
       "    </tr>\n",
       "    <tr>\n",
       "      <th>1</th>\n",
       "      <td>26299</td>\n",
       "      <td>594.046018</td>\n",
       "    </tr>\n",
       "    <tr>\n",
       "      <th>2</th>\n",
       "      <td>26300</td>\n",
       "      <td>187.722592</td>\n",
       "    </tr>\n",
       "    <tr>\n",
       "      <th>3</th>\n",
       "      <td>26301</td>\n",
       "      <td>739.815826</td>\n",
       "    </tr>\n",
       "    <tr>\n",
       "      <th>4</th>\n",
       "      <td>26302</td>\n",
       "      <td>1124.907473</td>\n",
       "    </tr>\n",
       "  </tbody>\n",
       "</table>\n",
       "</div>"
      ],
      "text/plain": [
       "   row_id     num_sold\n",
       "0   26298   401.941286\n",
       "1   26299   594.046018\n",
       "2   26300   187.722592\n",
       "3   26301   739.815826\n",
       "4   26302  1124.907473"
      ]
     },
     "execution_count": 91,
     "metadata": {},
     "output_type": "execute_result"
    }
   ],
   "source": [
    "submission.head()"
   ]
  },
  {
   "cell_type": "code",
   "execution_count": 92,
   "id": "f47f6a9c-c591-4e0c-90d0-f81b4396ae22",
   "metadata": {},
   "outputs": [],
   "source": [
    "submission.to_csv(\"subm/submission.csv\", index = False)"
   ]
  },
  {
   "cell_type": "code",
   "execution_count": 93,
   "id": "266730dc-4863-4617-90d3-7cb228b10b38",
   "metadata": {},
   "outputs": [
    {
     "name": "stdout",
     "output_type": "stream",
     "text": [
      "100%|████████████████████████████████████████| 157k/157k [00:04<00:00, 32.8kB/s]\n",
      "Successfully submitted to Tabular Playground Series - Jan 2022"
     ]
    }
   ],
   "source": [
    "! kaggle competitions submit -c tabular-playground-series-jan-2022 -f subm/submission.csv -m \"letsgoooo\""
   ]
  },
  {
   "cell_type": "code",
   "execution_count": 96,
   "id": "82e503fa-d989-41e0-a096-87898cfa9c42",
   "metadata": {},
   "outputs": [
    {
     "data": {
      "text/plain": [
       "2018    3312\n",
       "Name: year, dtype: int64"
      ]
     },
     "execution_count": 96,
     "metadata": {},
     "output_type": "execute_result"
    }
   ],
   "source": [
    "validxs[\"year\"].value_counts()"
   ]
  },
  {
   "cell_type": "code",
   "execution_count": 97,
   "id": "5d0edc17-601c-47ce-afe2-3b0f0e774160",
   "metadata": {},
   "outputs": [
    {
     "data": {
      "text/plain": [
       "2016    6588\n",
       "2015    6570\n",
       "2017    6570\n",
       "2018    3258\n",
       "Name: year, dtype: int64"
      ]
     },
     "execution_count": 97,
     "metadata": {},
     "output_type": "execute_result"
    }
   ],
   "source": [
    "trainxs[\"year\"].value_counts()"
   ]
  },
  {
   "cell_type": "code",
   "execution_count": null,
   "id": "351062c8-b157-420b-8ade-178ba8bdee0f",
   "metadata": {},
   "outputs": [],
   "source": []
  }
 ],
 "metadata": {
  "kernelspec": {
   "display_name": "Python 3 (ipykernel)",
   "language": "python",
   "name": "python3"
  },
  "language_info": {
   "codemirror_mode": {
    "name": "ipython",
    "version": 3
   },
   "file_extension": ".py",
   "mimetype": "text/x-python",
   "name": "python",
   "nbconvert_exporter": "python",
   "pygments_lexer": "ipython3",
   "version": "3.8.12"
  }
 },
 "nbformat": 4,
 "nbformat_minor": 5
}
