{
 "cells": [
  {
   "cell_type": "code",
   "execution_count": 1,
   "id": "6c5f7987-bb51-4de2-a7b9-d9f7b355d22d",
   "metadata": {},
   "outputs": [
    {
     "name": "stdout",
     "output_type": "stream",
     "text": [
      "CPU times: user 1.57 s, sys: 1.01 s, total: 2.58 s\n",
      "Wall time: 1.85 s\n"
     ]
    }
   ],
   "source": [
    "%%time\n",
    "import fastai\n",
    "from fastai.tabular.all import *\n",
    "from pathlib import Path\n",
    "import os\n",
    "from sklearn.tree import DecisionTreeRegressor\n",
    "from dtreeviz.trees import *\n",
    "import IPython\n",
    "from sklearn.ensemble import RandomForestRegressor\n",
    "from IPython.display import Image, display_svg, SVG\n",
    "from sklearn.tree import export_graphviz\n",
    "import waterfall_chart\n",
    "from treeinterpreter import treeinterpreter\n",
    "from sklearn.inspection import plot_partial_dependence\n",
    "from scipy.cluster import hierarchy as hc\n",
    "import xgboost\n",
    "from xgboost import XGBRegressor"
   ]
  },
  {
   "cell_type": "code",
   "execution_count": 2,
   "id": "5c809042-47b8-4b43-8472-80b43217ba5d",
   "metadata": {},
   "outputs": [],
   "source": [
    "df = pd.read_csv(\"train.csv\", low_memory = False)\n",
    "dep_var = \"num_sold\""
   ]
  },
  {
   "cell_type": "code",
   "execution_count": 3,
   "id": "989a10e7-8e04-4f24-bc25-a96138fff048",
   "metadata": {},
   "outputs": [
    {
     "data": {
      "text/html": [
       "<div>\n",
       "<style scoped>\n",
       "    .dataframe tbody tr th:only-of-type {\n",
       "        vertical-align: middle;\n",
       "    }\n",
       "\n",
       "    .dataframe tbody tr th {\n",
       "        vertical-align: top;\n",
       "    }\n",
       "\n",
       "    .dataframe thead th {\n",
       "        text-align: right;\n",
       "    }\n",
       "</style>\n",
       "<table border=\"1\" class=\"dataframe\">\n",
       "  <thead>\n",
       "    <tr style=\"text-align: right;\">\n",
       "      <th></th>\n",
       "      <th>row_id</th>\n",
       "      <th>date</th>\n",
       "      <th>country</th>\n",
       "      <th>store</th>\n",
       "      <th>product</th>\n",
       "      <th>num_sold</th>\n",
       "    </tr>\n",
       "  </thead>\n",
       "  <tbody>\n",
       "    <tr>\n",
       "      <th>0</th>\n",
       "      <td>0</td>\n",
       "      <td>2015-01-01</td>\n",
       "      <td>Finland</td>\n",
       "      <td>KaggleMart</td>\n",
       "      <td>Kaggle Mug</td>\n",
       "      <td>329</td>\n",
       "    </tr>\n",
       "    <tr>\n",
       "      <th>1</th>\n",
       "      <td>1</td>\n",
       "      <td>2015-01-01</td>\n",
       "      <td>Finland</td>\n",
       "      <td>KaggleMart</td>\n",
       "      <td>Kaggle Hat</td>\n",
       "      <td>520</td>\n",
       "    </tr>\n",
       "    <tr>\n",
       "      <th>2</th>\n",
       "      <td>2</td>\n",
       "      <td>2015-01-01</td>\n",
       "      <td>Finland</td>\n",
       "      <td>KaggleMart</td>\n",
       "      <td>Kaggle Sticker</td>\n",
       "      <td>146</td>\n",
       "    </tr>\n",
       "    <tr>\n",
       "      <th>3</th>\n",
       "      <td>3</td>\n",
       "      <td>2015-01-01</td>\n",
       "      <td>Finland</td>\n",
       "      <td>KaggleRama</td>\n",
       "      <td>Kaggle Mug</td>\n",
       "      <td>572</td>\n",
       "    </tr>\n",
       "    <tr>\n",
       "      <th>4</th>\n",
       "      <td>4</td>\n",
       "      <td>2015-01-01</td>\n",
       "      <td>Finland</td>\n",
       "      <td>KaggleRama</td>\n",
       "      <td>Kaggle Hat</td>\n",
       "      <td>911</td>\n",
       "    </tr>\n",
       "  </tbody>\n",
       "</table>\n",
       "</div>"
      ],
      "text/plain": [
       "   row_id        date  country       store         product  num_sold\n",
       "0       0  2015-01-01  Finland  KaggleMart      Kaggle Mug       329\n",
       "1       1  2015-01-01  Finland  KaggleMart      Kaggle Hat       520\n",
       "2       2  2015-01-01  Finland  KaggleMart  Kaggle Sticker       146\n",
       "3       3  2015-01-01  Finland  KaggleRama      Kaggle Mug       572\n",
       "4       4  2015-01-01  Finland  KaggleRama      Kaggle Hat       911"
      ]
     },
     "execution_count": 3,
     "metadata": {},
     "output_type": "execute_result"
    }
   ],
   "source": [
    "df.head()"
   ]
  },
  {
   "cell_type": "code",
   "execution_count": 4,
   "id": "24555797-a3ec-486c-bbf0-f544c2514f13",
   "metadata": {},
   "outputs": [
    {
     "name": "stdout",
     "output_type": "stream",
     "text": [
      "CPU times: user 3.48 ms, sys: 0 ns, total: 3.48 ms\n",
      "Wall time: 2.2 ms\n"
     ]
    }
   ],
   "source": [
    "%%time\n",
    "import pickle\n",
    "\n",
    "country_map = pickle.load(open(\"embs/country_map.pkl\", \"rb\"))\n",
    "product_map = pickle.load(open(\"embs/product_map.pkl\", \"rb\"))\n",
    "store_map = pickle.load(open(\"embs/store_map.pkl\", \"rb\"))"
   ]
  },
  {
   "cell_type": "code",
   "execution_count": 5,
   "id": "7f3c6156-d360-41ff-9372-d3ca4865f3b0",
   "metadata": {},
   "outputs": [
    {
     "data": {
      "text/plain": [
       "{'#na#': array([0.01356119, 0.01118535, 0.01405186], dtype=float32),\n",
       " 'Finland': array([0.49851698, 0.16572799, 0.44117638], dtype=float32),\n",
       " 'Norway': array([-0.22997577, -0.31350416, -0.36796924], dtype=float32),\n",
       " 'Sweden': array([-1.012257 , -0.8346111, -0.7070108], dtype=float32)}"
      ]
     },
     "execution_count": 5,
     "metadata": {},
     "output_type": "execute_result"
    }
   ],
   "source": [
    "country_map"
   ]
  },
  {
   "cell_type": "code",
   "execution_count": 6,
   "id": "32454e60-456f-4331-8fc4-9fc144dae05c",
   "metadata": {},
   "outputs": [
    {
     "data": {
      "text/plain": [
       "{'#na#': array([ 0.01294461, -0.00381095, -0.01660344], dtype=float32),\n",
       " 'Kaggle Sticker': array([0.06626856, 0.24443601, 0.01394006], dtype=float32),\n",
       " 'Kaggle Mug': array([ 0.42592514, -0.52397215,  0.22644173], dtype=float32),\n",
       " 'Kaggle Hat': array([ 0.12782763, -0.08627668,  0.01692694], dtype=float32)}"
      ]
     },
     "execution_count": 6,
     "metadata": {},
     "output_type": "execute_result"
    }
   ],
   "source": [
    "product_map"
   ]
  },
  {
   "cell_type": "code",
   "execution_count": 7,
   "id": "8a7a8ac2-192f-4404-a627-d437686766c0",
   "metadata": {},
   "outputs": [
    {
     "data": {
      "text/plain": [
       "{'#na#': array([-0.00473005, -0.00167127, -0.00394201], dtype=float32),\n",
       " 'KaggleRama': array([0.6897162 , 1.0390494 , 0.61876696], dtype=float32),\n",
       " 'KaggleMart': array([0.02370485, 0.11196793, 0.1333581 ], dtype=float32)}"
      ]
     },
     "execution_count": 7,
     "metadata": {},
     "output_type": "execute_result"
    }
   ],
   "source": [
    "store_map"
   ]
  },
  {
   "cell_type": "code",
   "execution_count": 8,
   "id": "5c8549e8-8887-41fc-aa0b-47e6b7901cac",
   "metadata": {},
   "outputs": [],
   "source": [
    "emb_dim = country_map['Finland'].shape[0]\n",
    "col_name = [f'country_emb_{i}' for i in range(1, emb_dim + 1)]\n",
    "df_emb_country = pd.DataFrame(df['country'].map(country_map).to_list(), columns = col_name)"
   ]
  },
  {
   "cell_type": "code",
   "execution_count": 9,
   "id": "d362d61a-fe5a-4a3e-9488-c202ab40fe90",
   "metadata": {},
   "outputs": [
    {
     "data": {
      "text/html": [
       "<div>\n",
       "<style scoped>\n",
       "    .dataframe tbody tr th:only-of-type {\n",
       "        vertical-align: middle;\n",
       "    }\n",
       "\n",
       "    .dataframe tbody tr th {\n",
       "        vertical-align: top;\n",
       "    }\n",
       "\n",
       "    .dataframe thead th {\n",
       "        text-align: right;\n",
       "    }\n",
       "</style>\n",
       "<table border=\"1\" class=\"dataframe\">\n",
       "  <thead>\n",
       "    <tr style=\"text-align: right;\">\n",
       "      <th></th>\n",
       "      <th>country_emb_1</th>\n",
       "      <th>country_emb_2</th>\n",
       "      <th>country_emb_3</th>\n",
       "    </tr>\n",
       "  </thead>\n",
       "  <tbody>\n",
       "    <tr>\n",
       "      <th>0</th>\n",
       "      <td>0.498517</td>\n",
       "      <td>0.165728</td>\n",
       "      <td>0.441176</td>\n",
       "    </tr>\n",
       "    <tr>\n",
       "      <th>1</th>\n",
       "      <td>0.498517</td>\n",
       "      <td>0.165728</td>\n",
       "      <td>0.441176</td>\n",
       "    </tr>\n",
       "    <tr>\n",
       "      <th>2</th>\n",
       "      <td>0.498517</td>\n",
       "      <td>0.165728</td>\n",
       "      <td>0.441176</td>\n",
       "    </tr>\n",
       "    <tr>\n",
       "      <th>3</th>\n",
       "      <td>0.498517</td>\n",
       "      <td>0.165728</td>\n",
       "      <td>0.441176</td>\n",
       "    </tr>\n",
       "    <tr>\n",
       "      <th>4</th>\n",
       "      <td>0.498517</td>\n",
       "      <td>0.165728</td>\n",
       "      <td>0.441176</td>\n",
       "    </tr>\n",
       "  </tbody>\n",
       "</table>\n",
       "</div>"
      ],
      "text/plain": [
       "   country_emb_1  country_emb_2  country_emb_3\n",
       "0       0.498517       0.165728       0.441176\n",
       "1       0.498517       0.165728       0.441176\n",
       "2       0.498517       0.165728       0.441176\n",
       "3       0.498517       0.165728       0.441176\n",
       "4       0.498517       0.165728       0.441176"
      ]
     },
     "execution_count": 9,
     "metadata": {},
     "output_type": "execute_result"
    }
   ],
   "source": [
    "df_emb_country.head()"
   ]
  },
  {
   "cell_type": "code",
   "execution_count": 10,
   "id": "e20effea-e3cd-4bd4-ac0d-89967e5acdc1",
   "metadata": {},
   "outputs": [],
   "source": [
    "emb_dim = product_map['Kaggle Mug'].shape[0]\n",
    "col_name = [f'product_emb_{i}' for i in range(1, emb_dim + 1)]\n",
    "df_emb_product = pd.DataFrame(df['product'].map(product_map).to_list(), columns = col_name)"
   ]
  },
  {
   "cell_type": "code",
   "execution_count": 11,
   "id": "d4baf403-86d4-4f13-b59d-b62770e2fa51",
   "metadata": {},
   "outputs": [
    {
     "data": {
      "text/html": [
       "<div>\n",
       "<style scoped>\n",
       "    .dataframe tbody tr th:only-of-type {\n",
       "        vertical-align: middle;\n",
       "    }\n",
       "\n",
       "    .dataframe tbody tr th {\n",
       "        vertical-align: top;\n",
       "    }\n",
       "\n",
       "    .dataframe thead th {\n",
       "        text-align: right;\n",
       "    }\n",
       "</style>\n",
       "<table border=\"1\" class=\"dataframe\">\n",
       "  <thead>\n",
       "    <tr style=\"text-align: right;\">\n",
       "      <th></th>\n",
       "      <th>product_emb_1</th>\n",
       "      <th>product_emb_2</th>\n",
       "      <th>product_emb_3</th>\n",
       "    </tr>\n",
       "  </thead>\n",
       "  <tbody>\n",
       "    <tr>\n",
       "      <th>0</th>\n",
       "      <td>0.425925</td>\n",
       "      <td>-0.523972</td>\n",
       "      <td>0.226442</td>\n",
       "    </tr>\n",
       "    <tr>\n",
       "      <th>1</th>\n",
       "      <td>0.127828</td>\n",
       "      <td>-0.086277</td>\n",
       "      <td>0.016927</td>\n",
       "    </tr>\n",
       "    <tr>\n",
       "      <th>2</th>\n",
       "      <td>0.066269</td>\n",
       "      <td>0.244436</td>\n",
       "      <td>0.013940</td>\n",
       "    </tr>\n",
       "    <tr>\n",
       "      <th>3</th>\n",
       "      <td>0.425925</td>\n",
       "      <td>-0.523972</td>\n",
       "      <td>0.226442</td>\n",
       "    </tr>\n",
       "    <tr>\n",
       "      <th>4</th>\n",
       "      <td>0.127828</td>\n",
       "      <td>-0.086277</td>\n",
       "      <td>0.016927</td>\n",
       "    </tr>\n",
       "  </tbody>\n",
       "</table>\n",
       "</div>"
      ],
      "text/plain": [
       "   product_emb_1  product_emb_2  product_emb_3\n",
       "0       0.425925      -0.523972       0.226442\n",
       "1       0.127828      -0.086277       0.016927\n",
       "2       0.066269       0.244436       0.013940\n",
       "3       0.425925      -0.523972       0.226442\n",
       "4       0.127828      -0.086277       0.016927"
      ]
     },
     "execution_count": 11,
     "metadata": {},
     "output_type": "execute_result"
    }
   ],
   "source": [
    "df_emb_product.head()"
   ]
  },
  {
   "cell_type": "code",
   "execution_count": 12,
   "id": "8c353423-7a97-45b1-aa2a-2c24b290923b",
   "metadata": {},
   "outputs": [],
   "source": [
    "emb_dim = store_map['KaggleMart'].shape[0]\n",
    "col_name = [f'store_emb_{i}' for i in range(1, emb_dim + 1)]\n",
    "df_emb_store = pd.DataFrame(df['store'].map(store_map).to_list(), columns = col_name)"
   ]
  },
  {
   "cell_type": "code",
   "execution_count": 13,
   "id": "2b61877e-6fec-4cd7-a47f-e18ae9fa1a01",
   "metadata": {},
   "outputs": [
    {
     "data": {
      "text/html": [
       "<div>\n",
       "<style scoped>\n",
       "    .dataframe tbody tr th:only-of-type {\n",
       "        vertical-align: middle;\n",
       "    }\n",
       "\n",
       "    .dataframe tbody tr th {\n",
       "        vertical-align: top;\n",
       "    }\n",
       "\n",
       "    .dataframe thead th {\n",
       "        text-align: right;\n",
       "    }\n",
       "</style>\n",
       "<table border=\"1\" class=\"dataframe\">\n",
       "  <thead>\n",
       "    <tr style=\"text-align: right;\">\n",
       "      <th></th>\n",
       "      <th>store_emb_1</th>\n",
       "      <th>store_emb_2</th>\n",
       "      <th>store_emb_3</th>\n",
       "    </tr>\n",
       "  </thead>\n",
       "  <tbody>\n",
       "    <tr>\n",
       "      <th>0</th>\n",
       "      <td>0.023705</td>\n",
       "      <td>0.111968</td>\n",
       "      <td>0.133358</td>\n",
       "    </tr>\n",
       "    <tr>\n",
       "      <th>1</th>\n",
       "      <td>0.023705</td>\n",
       "      <td>0.111968</td>\n",
       "      <td>0.133358</td>\n",
       "    </tr>\n",
       "    <tr>\n",
       "      <th>2</th>\n",
       "      <td>0.023705</td>\n",
       "      <td>0.111968</td>\n",
       "      <td>0.133358</td>\n",
       "    </tr>\n",
       "    <tr>\n",
       "      <th>3</th>\n",
       "      <td>0.689716</td>\n",
       "      <td>1.039049</td>\n",
       "      <td>0.618767</td>\n",
       "    </tr>\n",
       "    <tr>\n",
       "      <th>4</th>\n",
       "      <td>0.689716</td>\n",
       "      <td>1.039049</td>\n",
       "      <td>0.618767</td>\n",
       "    </tr>\n",
       "  </tbody>\n",
       "</table>\n",
       "</div>"
      ],
      "text/plain": [
       "   store_emb_1  store_emb_2  store_emb_3\n",
       "0     0.023705     0.111968     0.133358\n",
       "1     0.023705     0.111968     0.133358\n",
       "2     0.023705     0.111968     0.133358\n",
       "3     0.689716     1.039049     0.618767\n",
       "4     0.689716     1.039049     0.618767"
      ]
     },
     "execution_count": 13,
     "metadata": {},
     "output_type": "execute_result"
    }
   ],
   "source": [
    "df_emb_store.head()"
   ]
  },
  {
   "cell_type": "code",
   "execution_count": 14,
   "id": "c27a0616-84fc-4546-9022-1fb300e12d4b",
   "metadata": {},
   "outputs": [],
   "source": [
    "df_tr = pd.concat([df[[\"date\", \"num_sold\"]], df_emb_store, df_emb_product, df_emb_country], axis = 1)"
   ]
  },
  {
   "cell_type": "code",
   "execution_count": 15,
   "id": "e2be611a-e6c8-400f-8d3b-a1a18a32ebb8",
   "metadata": {},
   "outputs": [
    {
     "data": {
      "text/html": [
       "<div>\n",
       "<style scoped>\n",
       "    .dataframe tbody tr th:only-of-type {\n",
       "        vertical-align: middle;\n",
       "    }\n",
       "\n",
       "    .dataframe tbody tr th {\n",
       "        vertical-align: top;\n",
       "    }\n",
       "\n",
       "    .dataframe thead th {\n",
       "        text-align: right;\n",
       "    }\n",
       "</style>\n",
       "<table border=\"1\" class=\"dataframe\">\n",
       "  <thead>\n",
       "    <tr style=\"text-align: right;\">\n",
       "      <th></th>\n",
       "      <th>date</th>\n",
       "      <th>num_sold</th>\n",
       "      <th>store_emb_1</th>\n",
       "      <th>store_emb_2</th>\n",
       "      <th>store_emb_3</th>\n",
       "      <th>product_emb_1</th>\n",
       "      <th>product_emb_2</th>\n",
       "      <th>product_emb_3</th>\n",
       "      <th>country_emb_1</th>\n",
       "      <th>country_emb_2</th>\n",
       "      <th>country_emb_3</th>\n",
       "    </tr>\n",
       "  </thead>\n",
       "  <tbody>\n",
       "    <tr>\n",
       "      <th>0</th>\n",
       "      <td>2015-01-01</td>\n",
       "      <td>329</td>\n",
       "      <td>0.023705</td>\n",
       "      <td>0.111968</td>\n",
       "      <td>0.133358</td>\n",
       "      <td>0.425925</td>\n",
       "      <td>-0.523972</td>\n",
       "      <td>0.226442</td>\n",
       "      <td>0.498517</td>\n",
       "      <td>0.165728</td>\n",
       "      <td>0.441176</td>\n",
       "    </tr>\n",
       "    <tr>\n",
       "      <th>1</th>\n",
       "      <td>2015-01-01</td>\n",
       "      <td>520</td>\n",
       "      <td>0.023705</td>\n",
       "      <td>0.111968</td>\n",
       "      <td>0.133358</td>\n",
       "      <td>0.127828</td>\n",
       "      <td>-0.086277</td>\n",
       "      <td>0.016927</td>\n",
       "      <td>0.498517</td>\n",
       "      <td>0.165728</td>\n",
       "      <td>0.441176</td>\n",
       "    </tr>\n",
       "    <tr>\n",
       "      <th>2</th>\n",
       "      <td>2015-01-01</td>\n",
       "      <td>146</td>\n",
       "      <td>0.023705</td>\n",
       "      <td>0.111968</td>\n",
       "      <td>0.133358</td>\n",
       "      <td>0.066269</td>\n",
       "      <td>0.244436</td>\n",
       "      <td>0.013940</td>\n",
       "      <td>0.498517</td>\n",
       "      <td>0.165728</td>\n",
       "      <td>0.441176</td>\n",
       "    </tr>\n",
       "    <tr>\n",
       "      <th>3</th>\n",
       "      <td>2015-01-01</td>\n",
       "      <td>572</td>\n",
       "      <td>0.689716</td>\n",
       "      <td>1.039049</td>\n",
       "      <td>0.618767</td>\n",
       "      <td>0.425925</td>\n",
       "      <td>-0.523972</td>\n",
       "      <td>0.226442</td>\n",
       "      <td>0.498517</td>\n",
       "      <td>0.165728</td>\n",
       "      <td>0.441176</td>\n",
       "    </tr>\n",
       "    <tr>\n",
       "      <th>4</th>\n",
       "      <td>2015-01-01</td>\n",
       "      <td>911</td>\n",
       "      <td>0.689716</td>\n",
       "      <td>1.039049</td>\n",
       "      <td>0.618767</td>\n",
       "      <td>0.127828</td>\n",
       "      <td>-0.086277</td>\n",
       "      <td>0.016927</td>\n",
       "      <td>0.498517</td>\n",
       "      <td>0.165728</td>\n",
       "      <td>0.441176</td>\n",
       "    </tr>\n",
       "  </tbody>\n",
       "</table>\n",
       "</div>"
      ],
      "text/plain": [
       "         date  num_sold  store_emb_1  store_emb_2  store_emb_3  product_emb_1  \\\n",
       "0  2015-01-01       329     0.023705     0.111968     0.133358       0.425925   \n",
       "1  2015-01-01       520     0.023705     0.111968     0.133358       0.127828   \n",
       "2  2015-01-01       146     0.023705     0.111968     0.133358       0.066269   \n",
       "3  2015-01-01       572     0.689716     1.039049     0.618767       0.425925   \n",
       "4  2015-01-01       911     0.689716     1.039049     0.618767       0.127828   \n",
       "\n",
       "   product_emb_2  product_emb_3  country_emb_1  country_emb_2  country_emb_3  \n",
       "0      -0.523972       0.226442       0.498517       0.165728       0.441176  \n",
       "1      -0.086277       0.016927       0.498517       0.165728       0.441176  \n",
       "2       0.244436       0.013940       0.498517       0.165728       0.441176  \n",
       "3      -0.523972       0.226442       0.498517       0.165728       0.441176  \n",
       "4      -0.086277       0.016927       0.498517       0.165728       0.441176  "
      ]
     },
     "execution_count": 15,
     "metadata": {},
     "output_type": "execute_result"
    }
   ],
   "source": [
    "df_tr.head()"
   ]
  },
  {
   "cell_type": "code",
   "execution_count": 16,
   "id": "1c8ec525-fd97-4a91-bb0f-3fd371d33a16",
   "metadata": {},
   "outputs": [],
   "source": [
    "df_tr = add_datepart(df_tr, 'date')"
   ]
  },
  {
   "cell_type": "code",
   "execution_count": 17,
   "id": "1526f80d-6a10-4cc3-ba9d-57b247338fc9",
   "metadata": {},
   "outputs": [],
   "source": [
    "cond = (df_tr.Year < 2018)\n",
    "train_idx = np.where(cond)[0]\n",
    "valid_idx = np.where(~cond)[0]"
   ]
  },
  {
   "cell_type": "code",
   "execution_count": 18,
   "id": "dee19534-3ac4-4b84-a2d4-4a5808a84c16",
   "metadata": {},
   "outputs": [],
   "source": [
    "splits = (list(train_idx), list(valid_idx))\n",
    "cont, cat = cont_cat_split(df_tr, 1, dep_var)"
   ]
  },
  {
   "cell_type": "code",
   "execution_count": 19,
   "id": "b16ad71f-423e-4d66-85dc-0a1fa0f4bc1b",
   "metadata": {},
   "outputs": [
    {
     "data": {
      "text/plain": [
       "['store_emb_1',\n",
       " 'store_emb_2',\n",
       " 'store_emb_3',\n",
       " 'product_emb_1',\n",
       " 'product_emb_2',\n",
       " 'product_emb_3',\n",
       " 'country_emb_1',\n",
       " 'country_emb_2',\n",
       " 'country_emb_3',\n",
       " 'Year',\n",
       " 'Month',\n",
       " 'Week',\n",
       " 'Day',\n",
       " 'Dayofweek',\n",
       " 'Dayofyear',\n",
       " 'Elapsed']"
      ]
     },
     "execution_count": 19,
     "metadata": {},
     "output_type": "execute_result"
    }
   ],
   "source": [
    "cont"
   ]
  },
  {
   "cell_type": "code",
   "execution_count": 20,
   "id": "d77922b4-8083-4bac-9e55-00debbcce5ed",
   "metadata": {},
   "outputs": [
    {
     "data": {
      "text/plain": [
       "['Is_month_end',\n",
       " 'Is_month_start',\n",
       " 'Is_quarter_end',\n",
       " 'Is_quarter_start',\n",
       " 'Is_year_end',\n",
       " 'Is_year_start']"
      ]
     },
     "execution_count": 20,
     "metadata": {},
     "output_type": "execute_result"
    }
   ],
   "source": [
    "cat"
   ]
  },
  {
   "cell_type": "code",
   "execution_count": 21,
   "id": "5c41489f-3322-428c-960c-2d724d0f1da6",
   "metadata": {},
   "outputs": [],
   "source": [
    "procs = [Categorify, FillMissing]\n",
    "to = TabularPandas(df_tr, procs, cat, cont, y_names = dep_var, splits = splits)"
   ]
  },
  {
   "cell_type": "code",
   "execution_count": 22,
   "id": "28da89e9-b1b6-4709-9464-5885d754a9c7",
   "metadata": {},
   "outputs": [],
   "source": [
    "xs, y = to.train.xs, to.train.y\n",
    "valid_xs, valid_y = to.valid.xs, to.valid.y"
   ]
  },
  {
   "cell_type": "code",
   "execution_count": 23,
   "id": "4fbb0c94-2b42-4176-8823-0bded667556d",
   "metadata": {},
   "outputs": [],
   "source": [
    "def calculate_smape(m, valid_xs, valid_y):\n",
    "    preds = list(m.predict(valid_xs))\n",
    "    total = len(preds)\n",
    "    smape = 0\n",
    "    for i,j in zip(preds, valid_y) :\n",
    "        diff = np.abs(i - j)\n",
    "        avg = ((np.abs(i)) + np.abs(j)) / 2\n",
    "        fin = diff/avg\n",
    "        smape += fin\n",
    "        \n",
    "    smape = (smape/total) * 100 \n",
    "    \n",
    "    return smape"
   ]
  },
  {
   "cell_type": "code",
   "execution_count": 24,
   "id": "00038213-1bdb-4672-bb2c-f1b5fa4b1db5",
   "metadata": {},
   "outputs": [],
   "source": [
    "def rf(xs, y, n_estimators = 20, max_samples = 9800, max_features = 0.5, min_samples_leaf = 5, **kwargs):\n",
    "    return RandomForestRegressor(n_estimators = n_estimators, n_jobs = -1, max_features = max_features, max_samples = max_samples,\n",
    "                                 min_samples_leaf = min_samples_leaf, oob_score = True).fit(xs, y)"
   ]
  },
  {
   "cell_type": "code",
   "execution_count": 25,
   "id": "7544883e-b9a3-4927-a939-924eda88eb64",
   "metadata": {},
   "outputs": [
    {
     "name": "stdout",
     "output_type": "stream",
     "text": [
      "CPU times: user 655 ms, sys: 14.3 ms, total: 670 ms\n",
      "Wall time: 198 ms\n"
     ]
    }
   ],
   "source": [
    "%%time\n",
    "m1 = rf(xs, y)"
   ]
  },
  {
   "cell_type": "code",
   "execution_count": 26,
   "id": "7357e9a8-b813-4d50-bd88-140d5a2afc04",
   "metadata": {},
   "outputs": [
    {
     "data": {
      "text/plain": [
       "5.048198421832643"
      ]
     },
     "execution_count": 26,
     "metadata": {},
     "output_type": "execute_result"
    }
   ],
   "source": [
    "calculate_smape(m1, xs, y)"
   ]
  },
  {
   "cell_type": "code",
   "execution_count": 27,
   "id": "244c774c-d494-4a11-8b59-dac1c34ffd51",
   "metadata": {},
   "outputs": [
    {
     "data": {
      "text/plain": [
       "7.937070981675569"
      ]
     },
     "execution_count": 27,
     "metadata": {},
     "output_type": "execute_result"
    }
   ],
   "source": [
    "calculate_smape(m1, valid_xs, valid_y)"
   ]
  },
  {
   "cell_type": "code",
   "execution_count": 28,
   "id": "828bd756-a0fa-4849-a6ae-d880411a48ac",
   "metadata": {},
   "outputs": [],
   "source": [
    "m2 = DecisionTreeRegressor(min_samples_leaf = 25)"
   ]
  },
  {
   "cell_type": "code",
   "execution_count": 29,
   "id": "a5f0683c-d1aa-408f-86d2-d862b26c95a1",
   "metadata": {},
   "outputs": [
    {
     "data": {
      "text/plain": [
       "DecisionTreeRegressor(min_samples_leaf=25)"
      ]
     },
     "execution_count": 29,
     "metadata": {},
     "output_type": "execute_result"
    }
   ],
   "source": [
    "m2.fit(xs, y)"
   ]
  },
  {
   "cell_type": "code",
   "execution_count": 30,
   "id": "19bff928-7cec-4579-9707-0508e167393a",
   "metadata": {},
   "outputs": [
    {
     "data": {
      "text/plain": [
       "6.238943823086538"
      ]
     },
     "execution_count": 30,
     "metadata": {},
     "output_type": "execute_result"
    }
   ],
   "source": [
    "calculate_smape(m2, xs, y)"
   ]
  },
  {
   "cell_type": "code",
   "execution_count": 31,
   "id": "527d1e9f-ef8d-4969-91f8-f1d85ebcbd69",
   "metadata": {},
   "outputs": [
    {
     "data": {
      "text/plain": [
       "9.326763994306027"
      ]
     },
     "execution_count": 31,
     "metadata": {},
     "output_type": "execute_result"
    }
   ],
   "source": [
    "calculate_smape(m2, valid_xs, valid_y)"
   ]
  },
  {
   "cell_type": "code",
   "execution_count": 32,
   "id": "cb8ddb6a-c228-459f-9bfe-39eb7e12e4c6",
   "metadata": {},
   "outputs": [],
   "source": [
    "def cal_smape(preds, targs):\n",
    "    total = len(targs)\n",
    "    smp = 0\n",
    "    for i,j in zip(preds, targs):\n",
    "        diff = np.abs(i - j)\n",
    "        avg = ((np.abs(i)) + np.abs(j)) / 2\n",
    "        fin = diff/avg\n",
    "        smp += fin\n",
    "        \n",
    "    smp = (smp/total) * 100 \n",
    "    \n",
    "    return smp"
   ]
  },
  {
   "cell_type": "code",
   "execution_count": 33,
   "id": "b39af298-86f0-4252-823a-ddf4d4325ddf",
   "metadata": {},
   "outputs": [
    {
     "data": {
      "text/plain": [
       "8.078332124570418"
      ]
     },
     "execution_count": 33,
     "metadata": {},
     "output_type": "execute_result"
    }
   ],
   "source": [
    "preds1 = m1.predict(valid_xs)\n",
    "preds2 = m2.predict(valid_xs)\n",
    "\n",
    "fin_preds = (preds1 + preds2) / 2\n",
    "cal_smape(fin_preds, valid_y)"
   ]
  },
  {
   "cell_type": "code",
   "execution_count": 34,
   "id": "ea434d94-11d4-4cce-8cb8-25e24e63e681",
   "metadata": {},
   "outputs": [],
   "source": [
    "model = XGBRegressor(learning_rate = 0.025, max_depth = 7, reg_lambda = 0.01, reg_alpha = 0.01,\n",
    "                     gamma = 0.005, min_child_weight = 5)"
   ]
  },
  {
   "cell_type": "code",
   "execution_count": 35,
   "id": "45807af9-9300-4a57-bb96-b08e834b2d66",
   "metadata": {},
   "outputs": [
    {
     "data": {
      "text/plain": [
       "XGBRegressor(base_score=0.5, booster='gbtree', colsample_bylevel=1,\n",
       "             colsample_bynode=1, colsample_bytree=1, enable_categorical=False,\n",
       "             gamma=0.005, gpu_id=-1, importance_type=None,\n",
       "             interaction_constraints='', learning_rate=0.025, max_delta_step=0,\n",
       "             max_depth=7, min_child_weight=5, missing=nan,\n",
       "             monotone_constraints='()', n_estimators=100, n_jobs=7,\n",
       "             num_parallel_tree=1, predictor='auto', random_state=0,\n",
       "             reg_alpha=0.01, reg_lambda=0.01, scale_pos_weight=1, subsample=1,\n",
       "             tree_method='exact', validate_parameters=1, verbosity=None)"
      ]
     },
     "execution_count": 35,
     "metadata": {},
     "output_type": "execute_result"
    }
   ],
   "source": [
    "model.fit(xs, y)"
   ]
  },
  {
   "cell_type": "code",
   "execution_count": 36,
   "id": "701b4158-dad2-4d57-8049-89165d467510",
   "metadata": {},
   "outputs": [
    {
     "data": {
      "text/plain": [
       "13.255554174821196"
      ]
     },
     "execution_count": 36,
     "metadata": {},
     "output_type": "execute_result"
    }
   ],
   "source": [
    "calculate_smape(model, valid_xs, valid_y)"
   ]
  },
  {
   "cell_type": "code",
   "execution_count": 37,
   "id": "8eb11a3f-2c19-4fd0-9680-f0b09358a465",
   "metadata": {},
   "outputs": [
    {
     "data": {
      "text/plain": [
       "8.59232839749304"
      ]
     },
     "execution_count": 37,
     "metadata": {},
     "output_type": "execute_result"
    }
   ],
   "source": [
    "calculate_smape(model, xs, y)"
   ]
  },
  {
   "cell_type": "code",
   "execution_count": 38,
   "id": "9ef474cf-488a-4105-ab6a-1bbc224193f1",
   "metadata": {},
   "outputs": [],
   "source": [
    "def rf_feat_importance(m, df):\n",
    "  return pd.DataFrame({'cols' : df.columns, 'imp' : m.feature_importances_}).sort_values(by = 'imp', ascending = False)"
   ]
  },
  {
   "cell_type": "code",
   "execution_count": 39,
   "id": "13428388-063c-4dd0-bb18-9148b46f44f2",
   "metadata": {},
   "outputs": [
    {
     "data": {
      "text/html": [
       "<div>\n",
       "<style scoped>\n",
       "    .dataframe tbody tr th:only-of-type {\n",
       "        vertical-align: middle;\n",
       "    }\n",
       "\n",
       "    .dataframe tbody tr th {\n",
       "        vertical-align: top;\n",
       "    }\n",
       "\n",
       "    .dataframe thead th {\n",
       "        text-align: right;\n",
       "    }\n",
       "</style>\n",
       "<table border=\"1\" class=\"dataframe\">\n",
       "  <thead>\n",
       "    <tr style=\"text-align: right;\">\n",
       "      <th></th>\n",
       "      <th>cols</th>\n",
       "      <th>imp</th>\n",
       "    </tr>\n",
       "  </thead>\n",
       "  <tbody>\n",
       "    <tr>\n",
       "      <th>9</th>\n",
       "      <td>product_emb_1</td>\n",
       "      <td>0.743924</td>\n",
       "    </tr>\n",
       "    <tr>\n",
       "      <th>6</th>\n",
       "      <td>store_emb_1</td>\n",
       "      <td>0.195694</td>\n",
       "    </tr>\n",
       "    <tr>\n",
       "      <th>12</th>\n",
       "      <td>country_emb_1</td>\n",
       "      <td>0.021541</td>\n",
       "    </tr>\n",
       "    <tr>\n",
       "      <th>16</th>\n",
       "      <td>Month</td>\n",
       "      <td>0.013450</td>\n",
       "    </tr>\n",
       "    <tr>\n",
       "      <th>20</th>\n",
       "      <td>Dayofyear</td>\n",
       "      <td>0.010944</td>\n",
       "    </tr>\n",
       "    <tr>\n",
       "      <th>19</th>\n",
       "      <td>Dayofweek</td>\n",
       "      <td>0.004989</td>\n",
       "    </tr>\n",
       "    <tr>\n",
       "      <th>17</th>\n",
       "      <td>Week</td>\n",
       "      <td>0.004762</td>\n",
       "    </tr>\n",
       "    <tr>\n",
       "      <th>18</th>\n",
       "      <td>Day</td>\n",
       "      <td>0.001539</td>\n",
       "    </tr>\n",
       "    <tr>\n",
       "      <th>21</th>\n",
       "      <td>Elapsed</td>\n",
       "      <td>0.001055</td>\n",
       "    </tr>\n",
       "    <tr>\n",
       "      <th>15</th>\n",
       "      <td>Year</td>\n",
       "      <td>0.000669</td>\n",
       "    </tr>\n",
       "  </tbody>\n",
       "</table>\n",
       "</div>"
      ],
      "text/plain": [
       "             cols       imp\n",
       "9   product_emb_1  0.743924\n",
       "6     store_emb_1  0.195694\n",
       "12  country_emb_1  0.021541\n",
       "16          Month  0.013450\n",
       "20      Dayofyear  0.010944\n",
       "19      Dayofweek  0.004989\n",
       "17           Week  0.004762\n",
       "18            Day  0.001539\n",
       "21        Elapsed  0.001055\n",
       "15           Year  0.000669"
      ]
     },
     "execution_count": 39,
     "metadata": {},
     "output_type": "execute_result"
    }
   ],
   "source": [
    "fi = rf_feat_importance(model, xs)\n",
    "fi[:10]"
   ]
  },
  {
   "cell_type": "code",
   "execution_count": 40,
   "id": "567ef70e-97db-49ad-8e3a-8902f2886539",
   "metadata": {},
   "outputs": [],
   "source": [
    "def plot_fi(fi):\n",
    "  return fi.plot('cols', 'imp', 'barh', figsize = (12, 7), legend = False)"
   ]
  },
  {
   "cell_type": "code",
   "execution_count": 41,
   "id": "dae63adb-db31-414f-ad6f-68f7e1270fa9",
   "metadata": {},
   "outputs": [
    {
     "data": {
      "text/plain": [
       "<AxesSubplot:ylabel='cols'>"
      ]
     },
     "execution_count": 41,
     "metadata": {},
     "output_type": "execute_result"
    },
    {
     "data": {
      "image/png": "[encoded data removed]",
      "text/plain": [
       "<Figure size 864x504 with 1 Axes>"
      ]
     },
     "metadata": {
      "needs_background": "light"
     },
     "output_type": "display_data"
    }
   ],
   "source": [
    "plot_fi(fi[:30])"
   ]
  },
  {
   "cell_type": "code",
   "execution_count": 42,
   "id": "7eace362-c2d4-46d1-bdd5-c898764a723b",
   "metadata": {},
   "outputs": [
    {
     "data": {
      "text/plain": [
       "5"
      ]
     },
     "execution_count": 42,
     "metadata": {},
     "output_type": "execute_result"
    }
   ],
   "source": [
    "to_keep = fi[fi.imp>0.005].cols\n",
    "\n",
    "len(to_keep)"
   ]
  },
  {
   "cell_type": "code",
   "execution_count": 43,
   "id": "3f746145-49af-440c-a571-c49b0cf1c3bd",
   "metadata": {},
   "outputs": [
    {
     "data": {
      "text/plain": [
       "9     product_emb_1\n",
       "6       store_emb_1\n",
       "12    country_emb_1\n",
       "16            Month\n",
       "20        Dayofyear\n",
       "Name: cols, dtype: object"
      ]
     },
     "execution_count": 43,
     "metadata": {},
     "output_type": "execute_result"
    }
   ],
   "source": [
    "to_keep"
   ]
  },
  {
   "cell_type": "code",
   "execution_count": 44,
   "id": "855ca7e1-cf7e-4153-82fb-047023e6397d",
   "metadata": {},
   "outputs": [
    {
     "data": {
      "text/plain": [
       "XGBRegressor(base_score=0.5, booster='gbtree', colsample_bylevel=1,\n",
       "             colsample_bynode=1, colsample_bytree=1, enable_categorical=False,\n",
       "             gamma=0.005, gpu_id=-1, importance_type=None,\n",
       "             interaction_constraints='', learning_rate=0.05, max_delta_step=0,\n",
       "             max_depth=7, min_child_weight=1, missing=nan,\n",
       "             monotone_constraints='()', n_estimators=100, n_jobs=7,\n",
       "             num_parallel_tree=1, predictor='auto', random_state=0,\n",
       "             reg_alpha=0.01, reg_lambda=0.01, scale_pos_weight=1, subsample=1,\n",
       "             tree_method='exact', validate_parameters=1, verbosity=None)"
      ]
     },
     "execution_count": 44,
     "metadata": {},
     "output_type": "execute_result"
    }
   ],
   "source": [
    "xs_imp = xs[to_keep]\n",
    "valid_xs_imp = valid_xs[to_keep]\n",
    "model = XGBRegressor(learning_rate = 0.05, max_depth = 7, reg_lambda = 0.01, reg_alpha = 0.01,\n",
    "                     gamma = 0.005, min_child_weight = 1)\n",
    "model.fit(xs_imp, y)"
   ]
  },
  {
   "cell_type": "code",
   "execution_count": 45,
   "id": "f05a395e-c958-472a-aebc-aeb28de4b3a3",
   "metadata": {},
   "outputs": [
    {
     "data": {
      "text/plain": [
       "10.363388465724462"
      ]
     },
     "execution_count": 45,
     "metadata": {},
     "output_type": "execute_result"
    }
   ],
   "source": [
    "calculate_smape(model, xs_imp, y)"
   ]
  },
  {
   "cell_type": "code",
   "execution_count": 46,
   "id": "9eb8785a-09f3-4c51-bbce-fe15ec765966",
   "metadata": {},
   "outputs": [
    {
     "data": {
      "text/plain": [
       "13.521582193338888"
      ]
     },
     "execution_count": 46,
     "metadata": {},
     "output_type": "execute_result"
    }
   ],
   "source": [
    "calculate_smape(model, valid_xs_imp, valid_y)"
   ]
  },
  {
   "cell_type": "code",
   "execution_count": 47,
   "id": "5e65c6e8-0a2e-4618-a750-a0d41f7f144f",
   "metadata": {},
   "outputs": [],
   "source": [
    "m1 = rf(xs_imp, y)"
   ]
  },
  {
   "cell_type": "code",
   "execution_count": 48,
   "id": "6d0abdb3-bbd6-4aa7-9e7f-c18122c52595",
   "metadata": {},
   "outputs": [
    {
     "data": {
      "text/plain": [
       "13.503995871677077"
      ]
     },
     "execution_count": 48,
     "metadata": {},
     "output_type": "execute_result"
    }
   ],
   "source": [
    "calculate_smape(m1, valid_xs_imp, valid_y)"
   ]
  },
  {
   "cell_type": "code",
   "execution_count": 49,
   "id": "6372f251-d0ca-4223-9fdb-645ee248477c",
   "metadata": {},
   "outputs": [
    {
     "data": {
      "text/plain": [
       "10.29220218014884"
      ]
     },
     "execution_count": 49,
     "metadata": {},
     "output_type": "execute_result"
    }
   ],
   "source": [
    "calculate_smape(m1, xs_imp, y)"
   ]
  },
  {
   "cell_type": "code",
   "execution_count": 50,
   "id": "fe76995b-b51e-41ec-8f1b-80041a5f254c",
   "metadata": {},
   "outputs": [
    {
     "data": {
      "text/plain": [
       "13.424180350925822"
      ]
     },
     "execution_count": 50,
     "metadata": {},
     "output_type": "execute_result"
    }
   ],
   "source": [
    "preds1 = m1.predict(valid_xs_imp)\n",
    "preds2 = model.predict(valid_xs_imp)\n",
    "\n",
    "fin_preds = (preds1 + preds2) / 2\n",
    "cal_smape(fin_preds, valid_y)"
   ]
  },
  {
   "cell_type": "code",
   "execution_count": 51,
   "id": "c9994034-c164-4809-a1ba-cdcd4f8049fd",
   "metadata": {},
   "outputs": [],
   "source": [
    "### taking log of dependent variable"
   ]
  },
  {
   "cell_type": "code",
   "execution_count": 52,
   "id": "7ddcb5b9-eeb4-4012-ba86-cbe497af6e32",
   "metadata": {},
   "outputs": [],
   "source": [
    "df[dep_var] = np.log(df[dep_var])"
   ]
  },
  {
   "cell_type": "code",
   "execution_count": 53,
   "id": "cddfdf51-3a6e-4d61-9b31-a432a20ff58f",
   "metadata": {},
   "outputs": [
    {
     "data": {
      "text/html": [
       "<div>\n",
       "<style scoped>\n",
       "    .dataframe tbody tr th:only-of-type {\n",
       "        vertical-align: middle;\n",
       "    }\n",
       "\n",
       "    .dataframe tbody tr th {\n",
       "        vertical-align: top;\n",
       "    }\n",
       "\n",
       "    .dataframe thead th {\n",
       "        text-align: right;\n",
       "    }\n",
       "</style>\n",
       "<table border=\"1\" class=\"dataframe\">\n",
       "  <thead>\n",
       "    <tr style=\"text-align: right;\">\n",
       "      <th></th>\n",
       "      <th>row_id</th>\n",
       "      <th>date</th>\n",
       "      <th>country</th>\n",
       "      <th>store</th>\n",
       "      <th>product</th>\n",
       "      <th>num_sold</th>\n",
       "    </tr>\n",
       "  </thead>\n",
       "  <tbody>\n",
       "    <tr>\n",
       "      <th>0</th>\n",
       "      <td>0</td>\n",
       "      <td>2015-01-01</td>\n",
       "      <td>Finland</td>\n",
       "      <td>KaggleMart</td>\n",
       "      <td>Kaggle Mug</td>\n",
       "      <td>5.796058</td>\n",
       "    </tr>\n",
       "    <tr>\n",
       "      <th>1</th>\n",
       "      <td>1</td>\n",
       "      <td>2015-01-01</td>\n",
       "      <td>Finland</td>\n",
       "      <td>KaggleMart</td>\n",
       "      <td>Kaggle Hat</td>\n",
       "      <td>6.253829</td>\n",
       "    </tr>\n",
       "    <tr>\n",
       "      <th>2</th>\n",
       "      <td>2</td>\n",
       "      <td>2015-01-01</td>\n",
       "      <td>Finland</td>\n",
       "      <td>KaggleMart</td>\n",
       "      <td>Kaggle Sticker</td>\n",
       "      <td>4.983607</td>\n",
       "    </tr>\n",
       "    <tr>\n",
       "      <th>3</th>\n",
       "      <td>3</td>\n",
       "      <td>2015-01-01</td>\n",
       "      <td>Finland</td>\n",
       "      <td>KaggleRama</td>\n",
       "      <td>Kaggle Mug</td>\n",
       "      <td>6.349139</td>\n",
       "    </tr>\n",
       "    <tr>\n",
       "      <th>4</th>\n",
       "      <td>4</td>\n",
       "      <td>2015-01-01</td>\n",
       "      <td>Finland</td>\n",
       "      <td>KaggleRama</td>\n",
       "      <td>Kaggle Hat</td>\n",
       "      <td>6.814543</td>\n",
       "    </tr>\n",
       "  </tbody>\n",
       "</table>\n",
       "</div>"
      ],
      "text/plain": [
       "   row_id        date  country       store         product  num_sold\n",
       "0       0  2015-01-01  Finland  KaggleMart      Kaggle Mug  5.796058\n",
       "1       1  2015-01-01  Finland  KaggleMart      Kaggle Hat  6.253829\n",
       "2       2  2015-01-01  Finland  KaggleMart  Kaggle Sticker  4.983607\n",
       "3       3  2015-01-01  Finland  KaggleRama      Kaggle Mug  6.349139\n",
       "4       4  2015-01-01  Finland  KaggleRama      Kaggle Hat  6.814543"
      ]
     },
     "execution_count": 53,
     "metadata": {},
     "output_type": "execute_result"
    }
   ],
   "source": [
    "df.head()"
   ]
  },
  {
   "cell_type": "code",
   "execution_count": 54,
   "id": "5620caed-1c2f-4eb6-9f1b-6009793cb416",
   "metadata": {},
   "outputs": [],
   "source": [
    "df_tr = pd.concat([df[[\"date\", \"num_sold\"]], df_emb_store, df_emb_product, df_emb_country], axis = 1)"
   ]
  },
  {
   "cell_type": "code",
   "execution_count": 55,
   "id": "126430e2-3e15-46f9-9736-556423c89893",
   "metadata": {},
   "outputs": [],
   "source": [
    "df_tr = add_datepart(df_tr, 'date')"
   ]
  },
  {
   "cell_type": "code",
   "execution_count": 56,
   "id": "483b9f29-7790-4928-9bf7-05aea72305d0",
   "metadata": {},
   "outputs": [],
   "source": [
    "splits = (list(train_idx), list(valid_idx))\n",
    "cont, cat = cont_cat_split(df_tr, 1, dep_var)\n",
    "\n",
    "procs = [Categorify, FillMissing]\n",
    "to = TabularPandas(df_tr, procs, cat, cont, y_names = dep_var, splits = splits)"
   ]
  },
  {
   "cell_type": "code",
   "execution_count": 57,
   "id": "d7878ef4-5a14-4f22-89cb-2379009f1048",
   "metadata": {},
   "outputs": [],
   "source": [
    "xs, y = to.train.xs, to.train.y\n",
    "valid_xs, valid_y = to.valid.xs, to.valid.y"
   ]
  },
  {
   "cell_type": "code",
   "execution_count": 58,
   "id": "3b98ac94-381b-4e4b-8205-bfb8dd07c2b9",
   "metadata": {},
   "outputs": [
    {
     "data": {
      "text/plain": [
       "XGBRegressor(base_score=0.5, booster='gbtree', colsample_bylevel=1,\n",
       "             colsample_bynode=1, colsample_bytree=1, enable_categorical=False,\n",
       "             gamma=0.005, gpu_id=-1, importance_type=None,\n",
       "             interaction_constraints='', learning_rate=0.05, max_delta_step=0,\n",
       "             max_depth=7, min_child_weight=1, missing=nan,\n",
       "             monotone_constraints='()', n_estimators=100, n_jobs=7,\n",
       "             num_parallel_tree=1, predictor='auto', random_state=0,\n",
       "             reg_alpha=0.01, reg_lambda=0.01, scale_pos_weight=1, subsample=1,\n",
       "             tree_method='exact', validate_parameters=1, verbosity=None)"
      ]
     },
     "execution_count": 58,
     "metadata": {},
     "output_type": "execute_result"
    }
   ],
   "source": [
    "model = XGBRegressor(learning_rate = 0.05, max_depth = 7, reg_lambda = 0.01, reg_alpha = 0.01,\n",
    "                     gamma = 0.005, min_child_weight = 1)\n",
    "model.fit(xs, y)"
   ]
  },
  {
   "cell_type": "code",
   "execution_count": 59,
   "id": "f56732bf-7d49-4913-9cd5-7a0349eb29f8",
   "metadata": {},
   "outputs": [
    {
     "data": {
      "text/plain": [
       "0.9262906629481343"
      ]
     },
     "execution_count": 59,
     "metadata": {},
     "output_type": "execute_result"
    }
   ],
   "source": [
    "calculate_smape(model, xs, y)"
   ]
  },
  {
   "cell_type": "code",
   "execution_count": 60,
   "id": "92385998-36d3-48dd-8bae-83eef30cbbbd",
   "metadata": {},
   "outputs": [
    {
     "data": {
      "text/plain": [
       "1.4790861183283388"
      ]
     },
     "execution_count": 60,
     "metadata": {},
     "output_type": "execute_result"
    }
   ],
   "source": [
    "calculate_smape(model, valid_xs, valid_y)"
   ]
  },
  {
   "cell_type": "code",
   "execution_count": 63,
   "id": "dce92b6f-666d-49ef-9248-4a12fc9f65c4",
   "metadata": {},
   "outputs": [
    {
     "data": {
      "text/plain": [
       "8.650888639271004"
      ]
     },
     "execution_count": 63,
     "metadata": {},
     "output_type": "execute_result"
    }
   ],
   "source": [
    "cal_smape(np.exp(model.predict(valid_xs)) , np.exp(valid_y))"
   ]
  },
  {
   "cell_type": "code",
   "execution_count": 64,
   "id": "3f9fb7d1-4dca-4449-ba67-80e884501fbc",
   "metadata": {},
   "outputs": [
    {
     "data": {
      "text/plain": [
       "5.288801362649757"
      ]
     },
     "execution_count": 64,
     "metadata": {},
     "output_type": "execute_result"
    }
   ],
   "source": [
    "cal_smape(np.exp(model.predict(xs)), np.exp(y))"
   ]
  },
  {
   "cell_type": "code",
   "execution_count": 65,
   "id": "4985dbe9-ba4f-4d35-a948-fc3a8e3fe366",
   "metadata": {},
   "outputs": [
    {
     "data": {
      "text/html": [
       "<div>\n",
       "<style scoped>\n",
       "    .dataframe tbody tr th:only-of-type {\n",
       "        vertical-align: middle;\n",
       "    }\n",
       "\n",
       "    .dataframe tbody tr th {\n",
       "        vertical-align: top;\n",
       "    }\n",
       "\n",
       "    .dataframe thead th {\n",
       "        text-align: right;\n",
       "    }\n",
       "</style>\n",
       "<table border=\"1\" class=\"dataframe\">\n",
       "  <thead>\n",
       "    <tr style=\"text-align: right;\">\n",
       "      <th></th>\n",
       "      <th>cols</th>\n",
       "      <th>imp</th>\n",
       "    </tr>\n",
       "  </thead>\n",
       "  <tbody>\n",
       "    <tr>\n",
       "      <th>9</th>\n",
       "      <td>product_emb_1</td>\n",
       "      <td>0.718670</td>\n",
       "    </tr>\n",
       "    <tr>\n",
       "      <th>6</th>\n",
       "      <td>store_emb_1</td>\n",
       "      <td>0.230557</td>\n",
       "    </tr>\n",
       "    <tr>\n",
       "      <th>12</th>\n",
       "      <td>country_emb_1</td>\n",
       "      <td>0.030949</td>\n",
       "    </tr>\n",
       "    <tr>\n",
       "      <th>19</th>\n",
       "      <td>Dayofweek</td>\n",
       "      <td>0.006491</td>\n",
       "    </tr>\n",
       "    <tr>\n",
       "      <th>20</th>\n",
       "      <td>Dayofyear</td>\n",
       "      <td>0.005105</td>\n",
       "    </tr>\n",
       "    <tr>\n",
       "      <th>17</th>\n",
       "      <td>Week</td>\n",
       "      <td>0.002700</td>\n",
       "    </tr>\n",
       "    <tr>\n",
       "      <th>16</th>\n",
       "      <td>Month</td>\n",
       "      <td>0.001897</td>\n",
       "    </tr>\n",
       "    <tr>\n",
       "      <th>21</th>\n",
       "      <td>Elapsed</td>\n",
       "      <td>0.001007</td>\n",
       "    </tr>\n",
       "    <tr>\n",
       "      <th>15</th>\n",
       "      <td>Year</td>\n",
       "      <td>0.000831</td>\n",
       "    </tr>\n",
       "    <tr>\n",
       "      <th>2</th>\n",
       "      <td>Is_quarter_end</td>\n",
       "      <td>0.000573</td>\n",
       "    </tr>\n",
       "  </tbody>\n",
       "</table>\n",
       "</div>"
      ],
      "text/plain": [
       "              cols       imp\n",
       "9    product_emb_1  0.718670\n",
       "6      store_emb_1  0.230557\n",
       "12   country_emb_1  0.030949\n",
       "19       Dayofweek  0.006491\n",
       "20       Dayofyear  0.005105\n",
       "17            Week  0.002700\n",
       "16           Month  0.001897\n",
       "21         Elapsed  0.001007\n",
       "15            Year  0.000831\n",
       "2   Is_quarter_end  0.000573"
      ]
     },
     "execution_count": 65,
     "metadata": {},
     "output_type": "execute_result"
    }
   ],
   "source": [
    "fi = rf_feat_importance(model, xs)\n",
    "fi[:10]"
   ]
  },
  {
   "cell_type": "code",
   "execution_count": 66,
   "id": "9da61053-46e7-45c8-b921-41dca1edc454",
   "metadata": {},
   "outputs": [
    {
     "data": {
      "text/plain": [
       "5"
      ]
     },
     "execution_count": 66,
     "metadata": {},
     "output_type": "execute_result"
    }
   ],
   "source": [
    "to_keep = fi[fi.imp>0.005].cols\n",
    "\n",
    "len(to_keep)"
   ]
  },
  {
   "cell_type": "code",
   "execution_count": 67,
   "id": "ad8fdcc4-7cc1-41f1-8531-beb6b3442fd2",
   "metadata": {},
   "outputs": [
    {
     "data": {
      "text/plain": [
       "9     product_emb_1\n",
       "6       store_emb_1\n",
       "12    country_emb_1\n",
       "19        Dayofweek\n",
       "20        Dayofyear\n",
       "Name: cols, dtype: object"
      ]
     },
     "execution_count": 67,
     "metadata": {},
     "output_type": "execute_result"
    }
   ],
   "source": [
    "to_keep"
   ]
  },
  {
   "cell_type": "code",
   "execution_count": 68,
   "id": "43c025fb-80ad-4080-b27e-61c0f640031c",
   "metadata": {},
   "outputs": [],
   "source": [
    "xs_imp = xs[to_keep]\n",
    "valid_xs_imp = valid_xs[to_keep]"
   ]
  },
  {
   "cell_type": "code",
   "execution_count": 69,
   "id": "0a822756-a85a-4572-94e5-64ac9a2fffef",
   "metadata": {},
   "outputs": [
    {
     "data": {
      "text/plain": [
       "XGBRegressor(base_score=0.5, booster='gbtree', colsample_bylevel=1,\n",
       "             colsample_bynode=1, colsample_bytree=1, enable_categorical=False,\n",
       "             gamma=0.005, gpu_id=-1, importance_type=None,\n",
       "             interaction_constraints='', learning_rate=0.05, max_delta_step=0,\n",
       "             max_depth=7, min_child_weight=1, missing=nan,\n",
       "             monotone_constraints='()', n_estimators=100, n_jobs=7,\n",
       "             num_parallel_tree=1, predictor='auto', random_state=0,\n",
       "             reg_alpha=0.01, reg_lambda=0.01, scale_pos_weight=1, subsample=1,\n",
       "             tree_method='exact', validate_parameters=1, verbosity=None)"
      ]
     },
     "execution_count": 69,
     "metadata": {},
     "output_type": "execute_result"
    }
   ],
   "source": [
    "model = XGBRegressor(learning_rate = 0.05, max_depth = 7, reg_lambda = 0.01, reg_alpha = 0.01,\n",
    "                     gamma = 0.005, min_child_weight = 1)\n",
    "model.fit(xs_imp, y)"
   ]
  },
  {
   "cell_type": "code",
   "execution_count": 70,
   "id": "c760d4a8-01a7-46c2-98ff-d721362c6c49",
   "metadata": {},
   "outputs": [
    {
     "data": {
      "text/plain": [
       "1.1599923530384042"
      ]
     },
     "execution_count": 70,
     "metadata": {},
     "output_type": "execute_result"
    }
   ],
   "source": [
    "cal_smape(model.predict(xs_imp), y)"
   ]
  },
  {
   "cell_type": "code",
   "execution_count": 71,
   "id": "1faf13c6-0a7b-4d53-85a3-699822164e05",
   "metadata": {},
   "outputs": [
    {
     "data": {
      "text/plain": [
       "6.570981800782165"
      ]
     },
     "execution_count": 71,
     "metadata": {},
     "output_type": "execute_result"
    }
   ],
   "source": [
    "cal_smape(np.exp(model.predict(xs_imp)), np.exp(y))"
   ]
  },
  {
   "cell_type": "code",
   "execution_count": 72,
   "id": "76f3d706-e417-48c2-8d2a-9b815b9cf1f7",
   "metadata": {},
   "outputs": [
    {
     "data": {
      "text/plain": [
       "15.393173178090933"
      ]
     },
     "execution_count": 72,
     "metadata": {},
     "output_type": "execute_result"
    }
   ],
   "source": [
    "cal_smape(np.exp(model.predict(valid_xs_imp)), np.exp(valid_y))"
   ]
  },
  {
   "cell_type": "code",
   "execution_count": 73,
   "id": "29a048eb-0628-4ab7-a33b-0715202aa5a9",
   "metadata": {},
   "outputs": [
    {
     "data": {
      "text/plain": [
       "2.689912371589152"
      ]
     },
     "execution_count": 73,
     "metadata": {},
     "output_type": "execute_result"
    }
   ],
   "source": [
    "cal_smape((model.predict(valid_xs_imp)), (valid_y))"
   ]
  },
  {
   "cell_type": "code",
   "execution_count": 84,
   "id": "1e682e64-65c1-4d3a-b93f-6032d7252921",
   "metadata": {},
   "outputs": [
    {
     "data": {
      "text/plain": [
       "329.0"
      ]
     },
     "execution_count": 84,
     "metadata": {},
     "output_type": "execute_result"
    }
   ],
   "source": [
    "np.exp(y[0])"
   ]
  },
  {
   "cell_type": "code",
   "execution_count": 100,
   "id": "b46b78f5-41ca-463b-b8b1-6f8d2eb667bf",
   "metadata": {},
   "outputs": [],
   "source": [
    "test = pd.read_csv(\"test.csv\")"
   ]
  },
  {
   "cell_type": "code",
   "execution_count": 101,
   "id": "53824c4e-0049-4c55-aa4a-13982c487b97",
   "metadata": {},
   "outputs": [],
   "source": [
    "test[\"num_sold\"] = 0"
   ]
  },
  {
   "cell_type": "code",
   "execution_count": 102,
   "id": "44c47eed-6003-4377-a116-50dc4ccf0645",
   "metadata": {},
   "outputs": [],
   "source": [
    "emb_dim = country_map['Finland'].shape[0]\n",
    "col_name = [f'country_emb_{i}' for i in range(1, emb_dim + 1)]\n",
    "test_emb_country = pd.DataFrame(test['country'].map(country_map).to_list(), columns = col_name)"
   ]
  },
  {
   "cell_type": "code",
   "execution_count": 103,
   "id": "83d1ff93-c9e6-4c7b-89a2-dc6f9a5eaf80",
   "metadata": {},
   "outputs": [],
   "source": [
    "emb_dim = product_map['Kaggle Mug'].shape[0]\n",
    "col_name = [f'product_emb_{i}' for i in range(1, emb_dim + 1)]\n",
    "test_emb_product = pd.DataFrame(test['product'].map(product_map).to_list(), columns = col_name)"
   ]
  },
  {
   "cell_type": "code",
   "execution_count": 104,
   "id": "b7424128-166a-4732-8b90-6de05dec8129",
   "metadata": {},
   "outputs": [],
   "source": [
    "emb_dim = store_map['KaggleMart'].shape[0]\n",
    "col_name = [f'store_emb_{i}' for i in range(1, emb_dim + 1)]\n",
    "test_emb_store = pd.DataFrame(test['store'].map(store_map).to_list(), columns = col_name)"
   ]
  },
  {
   "cell_type": "code",
   "execution_count": 105,
   "id": "33659d2e-4f80-478d-a96b-38b4a96c9c17",
   "metadata": {},
   "outputs": [
    {
     "data": {
      "text/html": [
       "<div>\n",
       "<style scoped>\n",
       "    .dataframe tbody tr th:only-of-type {\n",
       "        vertical-align: middle;\n",
       "    }\n",
       "\n",
       "    .dataframe tbody tr th {\n",
       "        vertical-align: top;\n",
       "    }\n",
       "\n",
       "    .dataframe thead th {\n",
       "        text-align: right;\n",
       "    }\n",
       "</style>\n",
       "<table border=\"1\" class=\"dataframe\">\n",
       "  <thead>\n",
       "    <tr style=\"text-align: right;\">\n",
       "      <th></th>\n",
       "      <th>store_emb_1</th>\n",
       "      <th>store_emb_2</th>\n",
       "      <th>store_emb_3</th>\n",
       "    </tr>\n",
       "  </thead>\n",
       "  <tbody>\n",
       "    <tr>\n",
       "      <th>0</th>\n",
       "      <td>0.023705</td>\n",
       "      <td>0.111968</td>\n",
       "      <td>0.133358</td>\n",
       "    </tr>\n",
       "    <tr>\n",
       "      <th>1</th>\n",
       "      <td>0.023705</td>\n",
       "      <td>0.111968</td>\n",
       "      <td>0.133358</td>\n",
       "    </tr>\n",
       "    <tr>\n",
       "      <th>2</th>\n",
       "      <td>0.023705</td>\n",
       "      <td>0.111968</td>\n",
       "      <td>0.133358</td>\n",
       "    </tr>\n",
       "    <tr>\n",
       "      <th>3</th>\n",
       "      <td>0.689716</td>\n",
       "      <td>1.039049</td>\n",
       "      <td>0.618767</td>\n",
       "    </tr>\n",
       "    <tr>\n",
       "      <th>4</th>\n",
       "      <td>0.689716</td>\n",
       "      <td>1.039049</td>\n",
       "      <td>0.618767</td>\n",
       "    </tr>\n",
       "  </tbody>\n",
       "</table>\n",
       "</div>"
      ],
      "text/plain": [
       "   store_emb_1  store_emb_2  store_emb_3\n",
       "0     0.023705     0.111968     0.133358\n",
       "1     0.023705     0.111968     0.133358\n",
       "2     0.023705     0.111968     0.133358\n",
       "3     0.689716     1.039049     0.618767\n",
       "4     0.689716     1.039049     0.618767"
      ]
     },
     "execution_count": 105,
     "metadata": {},
     "output_type": "execute_result"
    }
   ],
   "source": [
    "test_emb_store.head()"
   ]
  },
  {
   "cell_type": "code",
   "execution_count": 106,
   "id": "5911de50-1dd2-4177-beae-a5026770963a",
   "metadata": {},
   "outputs": [
    {
     "data": {
      "text/html": [
       "<div>\n",
       "<style scoped>\n",
       "    .dataframe tbody tr th:only-of-type {\n",
       "        vertical-align: middle;\n",
       "    }\n",
       "\n",
       "    .dataframe tbody tr th {\n",
       "        vertical-align: top;\n",
       "    }\n",
       "\n",
       "    .dataframe thead th {\n",
       "        text-align: right;\n",
       "    }\n",
       "</style>\n",
       "<table border=\"1\" class=\"dataframe\">\n",
       "  <thead>\n",
       "    <tr style=\"text-align: right;\">\n",
       "      <th></th>\n",
       "      <th>row_id</th>\n",
       "      <th>date</th>\n",
       "      <th>country</th>\n",
       "      <th>store</th>\n",
       "      <th>product</th>\n",
       "      <th>num_sold</th>\n",
       "    </tr>\n",
       "  </thead>\n",
       "  <tbody>\n",
       "    <tr>\n",
       "      <th>0</th>\n",
       "      <td>26298</td>\n",
       "      <td>2019-01-01</td>\n",
       "      <td>Finland</td>\n",
       "      <td>KaggleMart</td>\n",
       "      <td>Kaggle Mug</td>\n",
       "      <td>0</td>\n",
       "    </tr>\n",
       "    <tr>\n",
       "      <th>1</th>\n",
       "      <td>26299</td>\n",
       "      <td>2019-01-01</td>\n",
       "      <td>Finland</td>\n",
       "      <td>KaggleMart</td>\n",
       "      <td>Kaggle Hat</td>\n",
       "      <td>0</td>\n",
       "    </tr>\n",
       "    <tr>\n",
       "      <th>2</th>\n",
       "      <td>26300</td>\n",
       "      <td>2019-01-01</td>\n",
       "      <td>Finland</td>\n",
       "      <td>KaggleMart</td>\n",
       "      <td>Kaggle Sticker</td>\n",
       "      <td>0</td>\n",
       "    </tr>\n",
       "    <tr>\n",
       "      <th>3</th>\n",
       "      <td>26301</td>\n",
       "      <td>2019-01-01</td>\n",
       "      <td>Finland</td>\n",
       "      <td>KaggleRama</td>\n",
       "      <td>Kaggle Mug</td>\n",
       "      <td>0</td>\n",
       "    </tr>\n",
       "    <tr>\n",
       "      <th>4</th>\n",
       "      <td>26302</td>\n",
       "      <td>2019-01-01</td>\n",
       "      <td>Finland</td>\n",
       "      <td>KaggleRama</td>\n",
       "      <td>Kaggle Hat</td>\n",
       "      <td>0</td>\n",
       "    </tr>\n",
       "  </tbody>\n",
       "</table>\n",
       "</div>"
      ],
      "text/plain": [
       "   row_id        date  country       store         product  num_sold\n",
       "0   26298  2019-01-01  Finland  KaggleMart      Kaggle Mug         0\n",
       "1   26299  2019-01-01  Finland  KaggleMart      Kaggle Hat         0\n",
       "2   26300  2019-01-01  Finland  KaggleMart  Kaggle Sticker         0\n",
       "3   26301  2019-01-01  Finland  KaggleRama      Kaggle Mug         0\n",
       "4   26302  2019-01-01  Finland  KaggleRama      Kaggle Hat         0"
      ]
     },
     "execution_count": 106,
     "metadata": {},
     "output_type": "execute_result"
    }
   ],
   "source": [
    "test.head()"
   ]
  },
  {
   "cell_type": "code",
   "execution_count": 107,
   "id": "1af3a69d-3fbb-4e07-83ce-446487c4eaa9",
   "metadata": {},
   "outputs": [
    {
     "data": {
      "text/html": [
       "<div>\n",
       "<style scoped>\n",
       "    .dataframe tbody tr th:only-of-type {\n",
       "        vertical-align: middle;\n",
       "    }\n",
       "\n",
       "    .dataframe tbody tr th {\n",
       "        vertical-align: top;\n",
       "    }\n",
       "\n",
       "    .dataframe thead th {\n",
       "        text-align: right;\n",
       "    }\n",
       "</style>\n",
       "<table border=\"1\" class=\"dataframe\">\n",
       "  <thead>\n",
       "    <tr style=\"text-align: right;\">\n",
       "      <th></th>\n",
       "      <th>Is_month_end</th>\n",
       "      <th>Is_month_start</th>\n",
       "      <th>Is_quarter_end</th>\n",
       "      <th>Is_quarter_start</th>\n",
       "      <th>Is_year_end</th>\n",
       "      <th>Is_year_start</th>\n",
       "      <th>store_emb_1</th>\n",
       "      <th>store_emb_2</th>\n",
       "      <th>store_emb_3</th>\n",
       "      <th>product_emb_1</th>\n",
       "      <th>...</th>\n",
       "      <th>country_emb_1</th>\n",
       "      <th>country_emb_2</th>\n",
       "      <th>country_emb_3</th>\n",
       "      <th>Year</th>\n",
       "      <th>Month</th>\n",
       "      <th>Week</th>\n",
       "      <th>Day</th>\n",
       "      <th>Dayofweek</th>\n",
       "      <th>Dayofyear</th>\n",
       "      <th>Elapsed</th>\n",
       "    </tr>\n",
       "  </thead>\n",
       "  <tbody>\n",
       "    <tr>\n",
       "      <th>0</th>\n",
       "      <td>1</td>\n",
       "      <td>2</td>\n",
       "      <td>1</td>\n",
       "      <td>2</td>\n",
       "      <td>1</td>\n",
       "      <td>2</td>\n",
       "      <td>0.023705</td>\n",
       "      <td>0.111968</td>\n",
       "      <td>0.133358</td>\n",
       "      <td>0.425925</td>\n",
       "      <td>...</td>\n",
       "      <td>0.498517</td>\n",
       "      <td>0.165728</td>\n",
       "      <td>0.441176</td>\n",
       "      <td>2015</td>\n",
       "      <td>1</td>\n",
       "      <td>1</td>\n",
       "      <td>1</td>\n",
       "      <td>3</td>\n",
       "      <td>1</td>\n",
       "      <td>1.420070e+09</td>\n",
       "    </tr>\n",
       "    <tr>\n",
       "      <th>1</th>\n",
       "      <td>1</td>\n",
       "      <td>2</td>\n",
       "      <td>1</td>\n",
       "      <td>2</td>\n",
       "      <td>1</td>\n",
       "      <td>2</td>\n",
       "      <td>0.023705</td>\n",
       "      <td>0.111968</td>\n",
       "      <td>0.133358</td>\n",
       "      <td>0.127828</td>\n",
       "      <td>...</td>\n",
       "      <td>0.498517</td>\n",
       "      <td>0.165728</td>\n",
       "      <td>0.441176</td>\n",
       "      <td>2015</td>\n",
       "      <td>1</td>\n",
       "      <td>1</td>\n",
       "      <td>1</td>\n",
       "      <td>3</td>\n",
       "      <td>1</td>\n",
       "      <td>1.420070e+09</td>\n",
       "    </tr>\n",
       "    <tr>\n",
       "      <th>2</th>\n",
       "      <td>1</td>\n",
       "      <td>2</td>\n",
       "      <td>1</td>\n",
       "      <td>2</td>\n",
       "      <td>1</td>\n",
       "      <td>2</td>\n",
       "      <td>0.023705</td>\n",
       "      <td>0.111968</td>\n",
       "      <td>0.133358</td>\n",
       "      <td>0.066269</td>\n",
       "      <td>...</td>\n",
       "      <td>0.498517</td>\n",
       "      <td>0.165728</td>\n",
       "      <td>0.441176</td>\n",
       "      <td>2015</td>\n",
       "      <td>1</td>\n",
       "      <td>1</td>\n",
       "      <td>1</td>\n",
       "      <td>3</td>\n",
       "      <td>1</td>\n",
       "      <td>1.420070e+09</td>\n",
       "    </tr>\n",
       "    <tr>\n",
       "      <th>3</th>\n",
       "      <td>1</td>\n",
       "      <td>2</td>\n",
       "      <td>1</td>\n",
       "      <td>2</td>\n",
       "      <td>1</td>\n",
       "      <td>2</td>\n",
       "      <td>0.689716</td>\n",
       "      <td>1.039049</td>\n",
       "      <td>0.618767</td>\n",
       "      <td>0.425925</td>\n",
       "      <td>...</td>\n",
       "      <td>0.498517</td>\n",
       "      <td>0.165728</td>\n",
       "      <td>0.441176</td>\n",
       "      <td>2015</td>\n",
       "      <td>1</td>\n",
       "      <td>1</td>\n",
       "      <td>1</td>\n",
       "      <td>3</td>\n",
       "      <td>1</td>\n",
       "      <td>1.420070e+09</td>\n",
       "    </tr>\n",
       "    <tr>\n",
       "      <th>4</th>\n",
       "      <td>1</td>\n",
       "      <td>2</td>\n",
       "      <td>1</td>\n",
       "      <td>2</td>\n",
       "      <td>1</td>\n",
       "      <td>2</td>\n",
       "      <td>0.689716</td>\n",
       "      <td>1.039049</td>\n",
       "      <td>0.618767</td>\n",
       "      <td>0.127828</td>\n",
       "      <td>...</td>\n",
       "      <td>0.498517</td>\n",
       "      <td>0.165728</td>\n",
       "      <td>0.441176</td>\n",
       "      <td>2015</td>\n",
       "      <td>1</td>\n",
       "      <td>1</td>\n",
       "      <td>1</td>\n",
       "      <td>3</td>\n",
       "      <td>1</td>\n",
       "      <td>1.420070e+09</td>\n",
       "    </tr>\n",
       "  </tbody>\n",
       "</table>\n",
       "<p>5 rows × 22 columns</p>\n",
       "</div>"
      ],
      "text/plain": [
       "   Is_month_end  Is_month_start  Is_quarter_end  Is_quarter_start  \\\n",
       "0             1               2               1                 2   \n",
       "1             1               2               1                 2   \n",
       "2             1               2               1                 2   \n",
       "3             1               2               1                 2   \n",
       "4             1               2               1                 2   \n",
       "\n",
       "   Is_year_end  Is_year_start  store_emb_1  store_emb_2  store_emb_3  \\\n",
       "0            1              2     0.023705     0.111968     0.133358   \n",
       "1            1              2     0.023705     0.111968     0.133358   \n",
       "2            1              2     0.023705     0.111968     0.133358   \n",
       "3            1              2     0.689716     1.039049     0.618767   \n",
       "4            1              2     0.689716     1.039049     0.618767   \n",
       "\n",
       "   product_emb_1  ...  country_emb_1  country_emb_2  country_emb_3  Year  \\\n",
       "0       0.425925  ...       0.498517       0.165728       0.441176  2015   \n",
       "1       0.127828  ...       0.498517       0.165728       0.441176  2015   \n",
       "2       0.066269  ...       0.498517       0.165728       0.441176  2015   \n",
       "3       0.425925  ...       0.498517       0.165728       0.441176  2015   \n",
       "4       0.127828  ...       0.498517       0.165728       0.441176  2015   \n",
       "\n",
       "   Month  Week  Day  Dayofweek  Dayofyear       Elapsed  \n",
       "0      1     1    1          3          1  1.420070e+09  \n",
       "1      1     1    1          3          1  1.420070e+09  \n",
       "2      1     1    1          3          1  1.420070e+09  \n",
       "3      1     1    1          3          1  1.420070e+09  \n",
       "4      1     1    1          3          1  1.420070e+09  \n",
       "\n",
       "[5 rows x 22 columns]"
      ]
     },
     "execution_count": 107,
     "metadata": {},
     "output_type": "execute_result"
    }
   ],
   "source": [
    "xs.head()"
   ]
  },
  {
   "cell_type": "code",
   "execution_count": 108,
   "id": "784c2679-d798-46cf-ba3f-51206f0ec89a",
   "metadata": {},
   "outputs": [],
   "source": [
    "cols = xs.columns"
   ]
  },
  {
   "cell_type": "code",
   "execution_count": 109,
   "id": "bb61f216-ef64-4f04-b485-81c895e5814f",
   "metadata": {},
   "outputs": [],
   "source": [
    "test_fn = pd.concat([test[[\"date\", \"num_sold\"]],test_emb_country, test_emb_product, test_emb_store ], axis = 1)"
   ]
  },
  {
   "cell_type": "code",
   "execution_count": 110,
   "id": "3865b9e2-4ec9-439b-bee8-ce79356ca791",
   "metadata": {},
   "outputs": [
    {
     "data": {
      "text/html": [
       "<div>\n",
       "<style scoped>\n",
       "    .dataframe tbody tr th:only-of-type {\n",
       "        vertical-align: middle;\n",
       "    }\n",
       "\n",
       "    .dataframe tbody tr th {\n",
       "        vertical-align: top;\n",
       "    }\n",
       "\n",
       "    .dataframe thead th {\n",
       "        text-align: right;\n",
       "    }\n",
       "</style>\n",
       "<table border=\"1\" class=\"dataframe\">\n",
       "  <thead>\n",
       "    <tr style=\"text-align: right;\">\n",
       "      <th></th>\n",
       "      <th>date</th>\n",
       "      <th>num_sold</th>\n",
       "      <th>country_emb_1</th>\n",
       "      <th>country_emb_2</th>\n",
       "      <th>country_emb_3</th>\n",
       "      <th>product_emb_1</th>\n",
       "      <th>product_emb_2</th>\n",
       "      <th>product_emb_3</th>\n",
       "      <th>store_emb_1</th>\n",
       "      <th>store_emb_2</th>\n",
       "      <th>store_emb_3</th>\n",
       "    </tr>\n",
       "  </thead>\n",
       "  <tbody>\n",
       "    <tr>\n",
       "      <th>0</th>\n",
       "      <td>2019-01-01</td>\n",
       "      <td>0</td>\n",
       "      <td>0.498517</td>\n",
       "      <td>0.165728</td>\n",
       "      <td>0.441176</td>\n",
       "      <td>0.425925</td>\n",
       "      <td>-0.523972</td>\n",
       "      <td>0.226442</td>\n",
       "      <td>0.023705</td>\n",
       "      <td>0.111968</td>\n",
       "      <td>0.133358</td>\n",
       "    </tr>\n",
       "    <tr>\n",
       "      <th>1</th>\n",
       "      <td>2019-01-01</td>\n",
       "      <td>0</td>\n",
       "      <td>0.498517</td>\n",
       "      <td>0.165728</td>\n",
       "      <td>0.441176</td>\n",
       "      <td>0.127828</td>\n",
       "      <td>-0.086277</td>\n",
       "      <td>0.016927</td>\n",
       "      <td>0.023705</td>\n",
       "      <td>0.111968</td>\n",
       "      <td>0.133358</td>\n",
       "    </tr>\n",
       "    <tr>\n",
       "      <th>2</th>\n",
       "      <td>2019-01-01</td>\n",
       "      <td>0</td>\n",
       "      <td>0.498517</td>\n",
       "      <td>0.165728</td>\n",
       "      <td>0.441176</td>\n",
       "      <td>0.066269</td>\n",
       "      <td>0.244436</td>\n",
       "      <td>0.013940</td>\n",
       "      <td>0.023705</td>\n",
       "      <td>0.111968</td>\n",
       "      <td>0.133358</td>\n",
       "    </tr>\n",
       "    <tr>\n",
       "      <th>3</th>\n",
       "      <td>2019-01-01</td>\n",
       "      <td>0</td>\n",
       "      <td>0.498517</td>\n",
       "      <td>0.165728</td>\n",
       "      <td>0.441176</td>\n",
       "      <td>0.425925</td>\n",
       "      <td>-0.523972</td>\n",
       "      <td>0.226442</td>\n",
       "      <td>0.689716</td>\n",
       "      <td>1.039049</td>\n",
       "      <td>0.618767</td>\n",
       "    </tr>\n",
       "    <tr>\n",
       "      <th>4</th>\n",
       "      <td>2019-01-01</td>\n",
       "      <td>0</td>\n",
       "      <td>0.498517</td>\n",
       "      <td>0.165728</td>\n",
       "      <td>0.441176</td>\n",
       "      <td>0.127828</td>\n",
       "      <td>-0.086277</td>\n",
       "      <td>0.016927</td>\n",
       "      <td>0.689716</td>\n",
       "      <td>1.039049</td>\n",
       "      <td>0.618767</td>\n",
       "    </tr>\n",
       "  </tbody>\n",
       "</table>\n",
       "</div>"
      ],
      "text/plain": [
       "         date  num_sold  country_emb_1  country_emb_2  country_emb_3  \\\n",
       "0  2019-01-01         0       0.498517       0.165728       0.441176   \n",
       "1  2019-01-01         0       0.498517       0.165728       0.441176   \n",
       "2  2019-01-01         0       0.498517       0.165728       0.441176   \n",
       "3  2019-01-01         0       0.498517       0.165728       0.441176   \n",
       "4  2019-01-01         0       0.498517       0.165728       0.441176   \n",
       "\n",
       "   product_emb_1  product_emb_2  product_emb_3  store_emb_1  store_emb_2  \\\n",
       "0       0.425925      -0.523972       0.226442     0.023705     0.111968   \n",
       "1       0.127828      -0.086277       0.016927     0.023705     0.111968   \n",
       "2       0.066269       0.244436       0.013940     0.023705     0.111968   \n",
       "3       0.425925      -0.523972       0.226442     0.689716     1.039049   \n",
       "4       0.127828      -0.086277       0.016927     0.689716     1.039049   \n",
       "\n",
       "   store_emb_3  \n",
       "0     0.133358  \n",
       "1     0.133358  \n",
       "2     0.133358  \n",
       "3     0.618767  \n",
       "4     0.618767  "
      ]
     },
     "execution_count": 110,
     "metadata": {},
     "output_type": "execute_result"
    }
   ],
   "source": [
    "test_fn.head()"
   ]
  },
  {
   "cell_type": "code",
   "execution_count": 111,
   "id": "6da5b34e-1011-4e74-8b5d-f4b95523dacb",
   "metadata": {},
   "outputs": [],
   "source": [
    "test_fn = add_datepart(test_fn, 'date')"
   ]
  },
  {
   "cell_type": "code",
   "execution_count": 114,
   "id": "c11f3714-2fa4-4191-8dd6-cbd0ff3cfe52",
   "metadata": {},
   "outputs": [
    {
     "data": {
      "text/html": [
       "<div>\n",
       "<style scoped>\n",
       "    .dataframe tbody tr th:only-of-type {\n",
       "        vertical-align: middle;\n",
       "    }\n",
       "\n",
       "    .dataframe tbody tr th {\n",
       "        vertical-align: top;\n",
       "    }\n",
       "\n",
       "    .dataframe thead th {\n",
       "        text-align: right;\n",
       "    }\n",
       "</style>\n",
       "<table border=\"1\" class=\"dataframe\">\n",
       "  <thead>\n",
       "    <tr style=\"text-align: right;\">\n",
       "      <th></th>\n",
       "      <th>num_sold</th>\n",
       "      <th>country_emb_1</th>\n",
       "      <th>country_emb_2</th>\n",
       "      <th>country_emb_3</th>\n",
       "      <th>product_emb_1</th>\n",
       "      <th>product_emb_2</th>\n",
       "      <th>product_emb_3</th>\n",
       "      <th>store_emb_1</th>\n",
       "      <th>store_emb_2</th>\n",
       "      <th>store_emb_3</th>\n",
       "      <th>...</th>\n",
       "      <th>Day</th>\n",
       "      <th>Dayofweek</th>\n",
       "      <th>Dayofyear</th>\n",
       "      <th>Is_month_end</th>\n",
       "      <th>Is_month_start</th>\n",
       "      <th>Is_quarter_end</th>\n",
       "      <th>Is_quarter_start</th>\n",
       "      <th>Is_year_end</th>\n",
       "      <th>Is_year_start</th>\n",
       "      <th>Elapsed</th>\n",
       "    </tr>\n",
       "  </thead>\n",
       "  <tbody>\n",
       "    <tr>\n",
       "      <th>0</th>\n",
       "      <td>0</td>\n",
       "      <td>0.498517</td>\n",
       "      <td>0.165728</td>\n",
       "      <td>0.441176</td>\n",
       "      <td>0.425925</td>\n",
       "      <td>-0.523972</td>\n",
       "      <td>0.226442</td>\n",
       "      <td>0.023705</td>\n",
       "      <td>0.111968</td>\n",
       "      <td>0.133358</td>\n",
       "      <td>...</td>\n",
       "      <td>1</td>\n",
       "      <td>1</td>\n",
       "      <td>1</td>\n",
       "      <td>False</td>\n",
       "      <td>True</td>\n",
       "      <td>False</td>\n",
       "      <td>True</td>\n",
       "      <td>False</td>\n",
       "      <td>True</td>\n",
       "      <td>1.546301e+09</td>\n",
       "    </tr>\n",
       "    <tr>\n",
       "      <th>1</th>\n",
       "      <td>0</td>\n",
       "      <td>0.498517</td>\n",
       "      <td>0.165728</td>\n",
       "      <td>0.441176</td>\n",
       "      <td>0.127828</td>\n",
       "      <td>-0.086277</td>\n",
       "      <td>0.016927</td>\n",
       "      <td>0.023705</td>\n",
       "      <td>0.111968</td>\n",
       "      <td>0.133358</td>\n",
       "      <td>...</td>\n",
       "      <td>1</td>\n",
       "      <td>1</td>\n",
       "      <td>1</td>\n",
       "      <td>False</td>\n",
       "      <td>True</td>\n",
       "      <td>False</td>\n",
       "      <td>True</td>\n",
       "      <td>False</td>\n",
       "      <td>True</td>\n",
       "      <td>1.546301e+09</td>\n",
       "    </tr>\n",
       "    <tr>\n",
       "      <th>2</th>\n",
       "      <td>0</td>\n",
       "      <td>0.498517</td>\n",
       "      <td>0.165728</td>\n",
       "      <td>0.441176</td>\n",
       "      <td>0.066269</td>\n",
       "      <td>0.244436</td>\n",
       "      <td>0.013940</td>\n",
       "      <td>0.023705</td>\n",
       "      <td>0.111968</td>\n",
       "      <td>0.133358</td>\n",
       "      <td>...</td>\n",
       "      <td>1</td>\n",
       "      <td>1</td>\n",
       "      <td>1</td>\n",
       "      <td>False</td>\n",
       "      <td>True</td>\n",
       "      <td>False</td>\n",
       "      <td>True</td>\n",
       "      <td>False</td>\n",
       "      <td>True</td>\n",
       "      <td>1.546301e+09</td>\n",
       "    </tr>\n",
       "    <tr>\n",
       "      <th>3</th>\n",
       "      <td>0</td>\n",
       "      <td>0.498517</td>\n",
       "      <td>0.165728</td>\n",
       "      <td>0.441176</td>\n",
       "      <td>0.425925</td>\n",
       "      <td>-0.523972</td>\n",
       "      <td>0.226442</td>\n",
       "      <td>0.689716</td>\n",
       "      <td>1.039049</td>\n",
       "      <td>0.618767</td>\n",
       "      <td>...</td>\n",
       "      <td>1</td>\n",
       "      <td>1</td>\n",
       "      <td>1</td>\n",
       "      <td>False</td>\n",
       "      <td>True</td>\n",
       "      <td>False</td>\n",
       "      <td>True</td>\n",
       "      <td>False</td>\n",
       "      <td>True</td>\n",
       "      <td>1.546301e+09</td>\n",
       "    </tr>\n",
       "    <tr>\n",
       "      <th>4</th>\n",
       "      <td>0</td>\n",
       "      <td>0.498517</td>\n",
       "      <td>0.165728</td>\n",
       "      <td>0.441176</td>\n",
       "      <td>0.127828</td>\n",
       "      <td>-0.086277</td>\n",
       "      <td>0.016927</td>\n",
       "      <td>0.689716</td>\n",
       "      <td>1.039049</td>\n",
       "      <td>0.618767</td>\n",
       "      <td>...</td>\n",
       "      <td>1</td>\n",
       "      <td>1</td>\n",
       "      <td>1</td>\n",
       "      <td>False</td>\n",
       "      <td>True</td>\n",
       "      <td>False</td>\n",
       "      <td>True</td>\n",
       "      <td>False</td>\n",
       "      <td>True</td>\n",
       "      <td>1.546301e+09</td>\n",
       "    </tr>\n",
       "  </tbody>\n",
       "</table>\n",
       "<p>5 rows × 23 columns</p>\n",
       "</div>"
      ],
      "text/plain": [
       "   num_sold  country_emb_1  country_emb_2  country_emb_3  product_emb_1  \\\n",
       "0         0       0.498517       0.165728       0.441176       0.425925   \n",
       "1         0       0.498517       0.165728       0.441176       0.127828   \n",
       "2         0       0.498517       0.165728       0.441176       0.066269   \n",
       "3         0       0.498517       0.165728       0.441176       0.425925   \n",
       "4         0       0.498517       0.165728       0.441176       0.127828   \n",
       "\n",
       "   product_emb_2  product_emb_3  store_emb_1  store_emb_2  store_emb_3  ...  \\\n",
       "0      -0.523972       0.226442     0.023705     0.111968     0.133358  ...   \n",
       "1      -0.086277       0.016927     0.023705     0.111968     0.133358  ...   \n",
       "2       0.244436       0.013940     0.023705     0.111968     0.133358  ...   \n",
       "3      -0.523972       0.226442     0.689716     1.039049     0.618767  ...   \n",
       "4      -0.086277       0.016927     0.689716     1.039049     0.618767  ...   \n",
       "\n",
       "   Day  Dayofweek  Dayofyear  Is_month_end  Is_month_start  Is_quarter_end  \\\n",
       "0    1          1          1         False            True           False   \n",
       "1    1          1          1         False            True           False   \n",
       "2    1          1          1         False            True           False   \n",
       "3    1          1          1         False            True           False   \n",
       "4    1          1          1         False            True           False   \n",
       "\n",
       "   Is_quarter_start  Is_year_end  Is_year_start       Elapsed  \n",
       "0              True        False           True  1.546301e+09  \n",
       "1              True        False           True  1.546301e+09  \n",
       "2              True        False           True  1.546301e+09  \n",
       "3              True        False           True  1.546301e+09  \n",
       "4              True        False           True  1.546301e+09  \n",
       "\n",
       "[5 rows x 23 columns]"
      ]
     },
     "execution_count": 114,
     "metadata": {},
     "output_type": "execute_result"
    }
   ],
   "source": [
    "test_fn.head()"
   ]
  },
  {
   "cell_type": "code",
   "execution_count": 113,
   "id": "88d27f03-b517-4745-ae47-5f2ce8137d9d",
   "metadata": {},
   "outputs": [
    {
     "data": {
      "text/plain": [
       "['Is_month_end',\n",
       " 'Is_month_start',\n",
       " 'Is_quarter_end',\n",
       " 'Is_quarter_start',\n",
       " 'Is_year_end',\n",
       " 'Is_year_start']"
      ]
     },
     "execution_count": 113,
     "metadata": {},
     "output_type": "execute_result"
    }
   ],
   "source": [
    "cat"
   ]
  },
  {
   "cell_type": "code",
   "execution_count": 115,
   "id": "e2a271df-f6e4-42a4-b29c-257f40db6ba3",
   "metadata": {},
   "outputs": [],
   "source": [
    "to_test = TabularPandas(test_fn, procs, cat, cont, y_names = dep_var, splits = None)"
   ]
  },
  {
   "cell_type": "code",
   "execution_count": 116,
   "id": "68c609ac-a1bf-4d17-b9f3-27a4f0424935",
   "metadata": {},
   "outputs": [],
   "source": [
    "test_xs = to_test.train.xs"
   ]
  },
  {
   "cell_type": "code",
   "execution_count": 118,
   "id": "690fa210-dac9-430a-ab8c-b074c8894d81",
   "metadata": {},
   "outputs": [],
   "source": [
    "preds_test = model.predict(test_xs)"
   ]
  },
  {
   "cell_type": "code",
   "execution_count": 119,
   "id": "b17d0494-de88-4982-b8ac-67add412a1f7",
   "metadata": {},
   "outputs": [
    {
     "data": {
      "text/plain": [
       "array([5.67148  , 6.052163 , 4.8344307, ..., 6.4069295, 7.175567 ,\n",
       "       6.006358 ], dtype=float32)"
      ]
     },
     "execution_count": 119,
     "metadata": {},
     "output_type": "execute_result"
    }
   ],
   "source": [
    "preds_test"
   ]
  },
  {
   "cell_type": "code",
   "execution_count": 120,
   "id": "a221f4be-576a-4517-8d80-d1719589ebb0",
   "metadata": {},
   "outputs": [],
   "source": [
    "preds_test_inv = np.exp(preds_test)"
   ]
  },
  {
   "cell_type": "code",
   "execution_count": 121,
   "id": "0f072b7d-6b41-4112-ab25-6a05fd586f32",
   "metadata": {},
   "outputs": [
    {
     "data": {
      "text/plain": [
       "array([ 290.46417,  425.0314 ,  125.76696, ...,  606.03   , 1307.1012 ,\n",
       "        406.00204], dtype=float32)"
      ]
     },
     "execution_count": 121,
     "metadata": {},
     "output_type": "execute_result"
    }
   ],
   "source": [
    "preds_test_inv"
   ]
  },
  {
   "cell_type": "code",
   "execution_count": 122,
   "id": "374480c4-7949-4602-af0b-1eadbd20e299",
   "metadata": {},
   "outputs": [],
   "source": [
    "ids = list(test[\"row_id\"].values)\n",
    "submission = pd.DataFrame()\n",
    "submission[\"row_id\"] = ids\n",
    "submission[\"num_sold\"] = list(preds_test_inv)"
   ]
  },
  {
   "cell_type": "code",
   "execution_count": 123,
   "id": "74d44dbe-0f57-4b3b-9a97-8da8cf0946e8",
   "metadata": {},
   "outputs": [
    {
     "data": {
      "text/html": [
       "<div>\n",
       "<style scoped>\n",
       "    .dataframe tbody tr th:only-of-type {\n",
       "        vertical-align: middle;\n",
       "    }\n",
       "\n",
       "    .dataframe tbody tr th {\n",
       "        vertical-align: top;\n",
       "    }\n",
       "\n",
       "    .dataframe thead th {\n",
       "        text-align: right;\n",
       "    }\n",
       "</style>\n",
       "<table border=\"1\" class=\"dataframe\">\n",
       "  <thead>\n",
       "    <tr style=\"text-align: right;\">\n",
       "      <th></th>\n",
       "      <th>row_id</th>\n",
       "      <th>num_sold</th>\n",
       "    </tr>\n",
       "  </thead>\n",
       "  <tbody>\n",
       "    <tr>\n",
       "      <th>0</th>\n",
       "      <td>26298</td>\n",
       "      <td>290.464172</td>\n",
       "    </tr>\n",
       "    <tr>\n",
       "      <th>1</th>\n",
       "      <td>26299</td>\n",
       "      <td>425.031403</td>\n",
       "    </tr>\n",
       "    <tr>\n",
       "      <th>2</th>\n",
       "      <td>26300</td>\n",
       "      <td>125.766960</td>\n",
       "    </tr>\n",
       "    <tr>\n",
       "      <th>3</th>\n",
       "      <td>26301</td>\n",
       "      <td>454.543945</td>\n",
       "    </tr>\n",
       "    <tr>\n",
       "      <th>4</th>\n",
       "      <td>26302</td>\n",
       "      <td>784.032288</td>\n",
       "    </tr>\n",
       "  </tbody>\n",
       "</table>\n",
       "</div>"
      ],
      "text/plain": [
       "   row_id    num_sold\n",
       "0   26298  290.464172\n",
       "1   26299  425.031403\n",
       "2   26300  125.766960\n",
       "3   26301  454.543945\n",
       "4   26302  784.032288"
      ]
     },
     "execution_count": 123,
     "metadata": {},
     "output_type": "execute_result"
    }
   ],
   "source": [
    "submission.head()"
   ]
  },
  {
   "cell_type": "code",
   "execution_count": 124,
   "id": "30843f44-6a8d-4c8e-a118-231a8e08079b",
   "metadata": {},
   "outputs": [],
   "source": [
    "submission.to_csv(\"submission.csv\", index = False)"
   ]
  },
  {
   "cell_type": "code",
   "execution_count": null,
   "id": "dfe4bb5c-6ed4-487b-85e6-dcea8a48fa1e",
   "metadata": {},
   "outputs": [],
   "source": []
  }
 ],
 "metadata": {
  "kernelspec": {
   "display_name": "Python 3 (ipykernel)",
   "language": "python",
   "name": "python3"
  },
  "language_info": {
   "codemirror_mode": {
    "name": "ipython",
    "version": 3
   },
   "file_extension": ".py",
   "mimetype": "text/x-python",
   "name": "python",
   "nbconvert_exporter": "python",
   "pygments_lexer": "ipython3",
   "version": "3.8.12"
  }
 },
 "nbformat": 4,
 "nbformat_minor": 5
}
