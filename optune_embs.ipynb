{
 "cells": [
  {
   "cell_type": "code",
   "execution_count": 1,
   "id": "5be01e58-3a1a-4d8c-8b09-b2c110176292",
   "metadata": {},
   "outputs": [
    {
     "name": "stdout",
     "output_type": "stream",
     "text": [
      "CPU times: user 1.76 s, sys: 1.21 s, total: 2.97 s\n",
      "Wall time: 2.34 s\n"
     ]
    }
   ],
   "source": [
    "%%time\n",
    "import fastai\n",
    "from fastai.tabular.all import *\n",
    "from pathlib import Path\n",
    "import os\n",
    "from sklearn.tree import DecisionTreeRegressor\n",
    "from dtreeviz.trees import *\n",
    "import IPython\n",
    "from sklearn.ensemble import RandomForestRegressor\n",
    "from IPython.display import Image, display_svg, SVG\n",
    "from sklearn.tree import export_graphviz\n",
    "import waterfall_chart\n",
    "from treeinterpreter import treeinterpreter\n",
    "from sklearn.inspection import plot_partial_dependence\n",
    "from scipy.cluster import hierarchy as hc\n",
    "import xgboost\n",
    "from xgboost import XGBRegressor\n",
    "import optuna"
   ]
  },
  {
   "cell_type": "code",
   "execution_count": 2,
   "id": "5ece5cee-12ed-4b14-8dd2-1817ea5d20f9",
   "metadata": {},
   "outputs": [],
   "source": [
    "df = pd.read_csv(\"train.csv\", low_memory = False)\n",
    "dep_var = \"num_sold\""
   ]
  },
  {
   "cell_type": "code",
   "execution_count": 3,
   "id": "2f343c6e-c84f-497d-b196-f3fb0c286c9c",
   "metadata": {},
   "outputs": [
    {
     "data": {
      "text/html": [
       "<div>\n",
       "<style scoped>\n",
       "    .dataframe tbody tr th:only-of-type {\n",
       "        vertical-align: middle;\n",
       "    }\n",
       "\n",
       "    .dataframe tbody tr th {\n",
       "        vertical-align: top;\n",
       "    }\n",
       "\n",
       "    .dataframe thead th {\n",
       "        text-align: right;\n",
       "    }\n",
       "</style>\n",
       "<table border=\"1\" class=\"dataframe\">\n",
       "  <thead>\n",
       "    <tr style=\"text-align: right;\">\n",
       "      <th></th>\n",
       "      <th>row_id</th>\n",
       "      <th>date</th>\n",
       "      <th>country</th>\n",
       "      <th>store</th>\n",
       "      <th>product</th>\n",
       "      <th>num_sold</th>\n",
       "    </tr>\n",
       "  </thead>\n",
       "  <tbody>\n",
       "    <tr>\n",
       "      <th>0</th>\n",
       "      <td>0</td>\n",
       "      <td>2015-01-01</td>\n",
       "      <td>Finland</td>\n",
       "      <td>KaggleMart</td>\n",
       "      <td>Kaggle Mug</td>\n",
       "      <td>329</td>\n",
       "    </tr>\n",
       "    <tr>\n",
       "      <th>1</th>\n",
       "      <td>1</td>\n",
       "      <td>2015-01-01</td>\n",
       "      <td>Finland</td>\n",
       "      <td>KaggleMart</td>\n",
       "      <td>Kaggle Hat</td>\n",
       "      <td>520</td>\n",
       "    </tr>\n",
       "    <tr>\n",
       "      <th>2</th>\n",
       "      <td>2</td>\n",
       "      <td>2015-01-01</td>\n",
       "      <td>Finland</td>\n",
       "      <td>KaggleMart</td>\n",
       "      <td>Kaggle Sticker</td>\n",
       "      <td>146</td>\n",
       "    </tr>\n",
       "    <tr>\n",
       "      <th>3</th>\n",
       "      <td>3</td>\n",
       "      <td>2015-01-01</td>\n",
       "      <td>Finland</td>\n",
       "      <td>KaggleRama</td>\n",
       "      <td>Kaggle Mug</td>\n",
       "      <td>572</td>\n",
       "    </tr>\n",
       "    <tr>\n",
       "      <th>4</th>\n",
       "      <td>4</td>\n",
       "      <td>2015-01-01</td>\n",
       "      <td>Finland</td>\n",
       "      <td>KaggleRama</td>\n",
       "      <td>Kaggle Hat</td>\n",
       "      <td>911</td>\n",
       "    </tr>\n",
       "  </tbody>\n",
       "</table>\n",
       "</div>"
      ],
      "text/plain": [
       "   row_id        date  country       store         product  num_sold\n",
       "0       0  2015-01-01  Finland  KaggleMart      Kaggle Mug       329\n",
       "1       1  2015-01-01  Finland  KaggleMart      Kaggle Hat       520\n",
       "2       2  2015-01-01  Finland  KaggleMart  Kaggle Sticker       146\n",
       "3       3  2015-01-01  Finland  KaggleRama      Kaggle Mug       572\n",
       "4       4  2015-01-01  Finland  KaggleRama      Kaggle Hat       911"
      ]
     },
     "execution_count": 3,
     "metadata": {},
     "output_type": "execute_result"
    }
   ],
   "source": [
    "df.head()"
   ]
  },
  {
   "cell_type": "code",
   "execution_count": 4,
   "id": "172f836d-a2b6-43ee-8f8d-366baeae2ae6",
   "metadata": {},
   "outputs": [
    {
     "name": "stdout",
     "output_type": "stream",
     "text": [
      "CPU times: user 2.52 ms, sys: 1.38 ms, total: 3.9 ms\n",
      "Wall time: 2.28 ms\n"
     ]
    }
   ],
   "source": [
    "%%time\n",
    "import pickle\n",
    "\n",
    "country_map = pickle.load(open(\"embs/country_map.pkl\", \"rb\"))\n",
    "product_map = pickle.load(open(\"embs/product_map.pkl\", \"rb\"))\n",
    "store_map = pickle.load(open(\"embs/store_map.pkl\", \"rb\"))"
   ]
  },
  {
   "cell_type": "code",
   "execution_count": 5,
   "id": "b34634fd-1934-4048-a7fe-83585583963d",
   "metadata": {},
   "outputs": [],
   "source": [
    "emb_dim = country_map['Finland'].shape[0]\n",
    "col_name = [f'country_emb_{i}' for i in range(1, emb_dim + 1)]\n",
    "df_emb_country = pd.DataFrame(df['country'].map(country_map).to_list(), columns = col_name)\n",
    "\n",
    "emb_dim = product_map['Kaggle Mug'].shape[0]\n",
    "col_name = [f'product_emb_{i}' for i in range(1, emb_dim + 1)]\n",
    "df_emb_product = pd.DataFrame(df['product'].map(product_map).to_list(), columns = col_name)\n",
    "\n",
    "emb_dim = store_map['KaggleMart'].shape[0]\n",
    "col_name = [f'store_emb_{i}' for i in range(1, emb_dim + 1)]\n",
    "df_emb_store = pd.DataFrame(df['store'].map(store_map).to_list(), columns = col_name)"
   ]
  },
  {
   "cell_type": "code",
   "execution_count": 6,
   "id": "e332bbeb-0209-4d43-9575-6036821b6fd4",
   "metadata": {},
   "outputs": [],
   "source": [
    "df_tr = pd.concat([df[[\"date\", \"num_sold\"]], df_emb_store, df_emb_product, df_emb_country], axis = 1)"
   ]
  },
  {
   "cell_type": "code",
   "execution_count": 7,
   "id": "a36e0137-3023-4862-9ec1-61927b5877a3",
   "metadata": {},
   "outputs": [],
   "source": [
    "df_tr = add_datepart(df_tr, 'date')"
   ]
  },
  {
   "cell_type": "code",
   "execution_count": 8,
   "id": "ff5a376b-3ef8-4add-8caf-2fea9a8817d2",
   "metadata": {},
   "outputs": [
    {
     "data": {
      "text/html": [
       "<div>\n",
       "<style scoped>\n",
       "    .dataframe tbody tr th:only-of-type {\n",
       "        vertical-align: middle;\n",
       "    }\n",
       "\n",
       "    .dataframe tbody tr th {\n",
       "        vertical-align: top;\n",
       "    }\n",
       "\n",
       "    .dataframe thead th {\n",
       "        text-align: right;\n",
       "    }\n",
       "</style>\n",
       "<table border=\"1\" class=\"dataframe\">\n",
       "  <thead>\n",
       "    <tr style=\"text-align: right;\">\n",
       "      <th></th>\n",
       "      <th>num_sold</th>\n",
       "      <th>store_emb_1</th>\n",
       "      <th>store_emb_2</th>\n",
       "      <th>store_emb_3</th>\n",
       "      <th>product_emb_1</th>\n",
       "      <th>product_emb_2</th>\n",
       "      <th>product_emb_3</th>\n",
       "      <th>country_emb_1</th>\n",
       "      <th>country_emb_2</th>\n",
       "      <th>country_emb_3</th>\n",
       "      <th>...</th>\n",
       "      <th>Day</th>\n",
       "      <th>Dayofweek</th>\n",
       "      <th>Dayofyear</th>\n",
       "      <th>Is_month_end</th>\n",
       "      <th>Is_month_start</th>\n",
       "      <th>Is_quarter_end</th>\n",
       "      <th>Is_quarter_start</th>\n",
       "      <th>Is_year_end</th>\n",
       "      <th>Is_year_start</th>\n",
       "      <th>Elapsed</th>\n",
       "    </tr>\n",
       "  </thead>\n",
       "  <tbody>\n",
       "    <tr>\n",
       "      <th>0</th>\n",
       "      <td>329</td>\n",
       "      <td>-0.624793</td>\n",
       "      <td>0.573543</td>\n",
       "      <td>-0.623404</td>\n",
       "      <td>0.280270</td>\n",
       "      <td>-0.364885</td>\n",
       "      <td>0.267398</td>\n",
       "      <td>0.427736</td>\n",
       "      <td>0.64916</td>\n",
       "      <td>0.595577</td>\n",
       "      <td>...</td>\n",
       "      <td>1</td>\n",
       "      <td>3</td>\n",
       "      <td>1</td>\n",
       "      <td>False</td>\n",
       "      <td>True</td>\n",
       "      <td>False</td>\n",
       "      <td>True</td>\n",
       "      <td>False</td>\n",
       "      <td>True</td>\n",
       "      <td>1.420070e+09</td>\n",
       "    </tr>\n",
       "    <tr>\n",
       "      <th>1</th>\n",
       "      <td>520</td>\n",
       "      <td>-0.624793</td>\n",
       "      <td>0.573543</td>\n",
       "      <td>-0.623404</td>\n",
       "      <td>-0.197140</td>\n",
       "      <td>-0.092194</td>\n",
       "      <td>-0.153508</td>\n",
       "      <td>0.427736</td>\n",
       "      <td>0.64916</td>\n",
       "      <td>0.595577</td>\n",
       "      <td>...</td>\n",
       "      <td>1</td>\n",
       "      <td>3</td>\n",
       "      <td>1</td>\n",
       "      <td>False</td>\n",
       "      <td>True</td>\n",
       "      <td>False</td>\n",
       "      <td>True</td>\n",
       "      <td>False</td>\n",
       "      <td>True</td>\n",
       "      <td>1.420070e+09</td>\n",
       "    </tr>\n",
       "    <tr>\n",
       "      <th>2</th>\n",
       "      <td>146</td>\n",
       "      <td>-0.624793</td>\n",
       "      <td>0.573543</td>\n",
       "      <td>-0.623404</td>\n",
       "      <td>0.756201</td>\n",
       "      <td>-0.683068</td>\n",
       "      <td>0.854909</td>\n",
       "      <td>0.427736</td>\n",
       "      <td>0.64916</td>\n",
       "      <td>0.595577</td>\n",
       "      <td>...</td>\n",
       "      <td>1</td>\n",
       "      <td>3</td>\n",
       "      <td>1</td>\n",
       "      <td>False</td>\n",
       "      <td>True</td>\n",
       "      <td>False</td>\n",
       "      <td>True</td>\n",
       "      <td>False</td>\n",
       "      <td>True</td>\n",
       "      <td>1.420070e+09</td>\n",
       "    </tr>\n",
       "    <tr>\n",
       "      <th>3</th>\n",
       "      <td>572</td>\n",
       "      <td>-0.365417</td>\n",
       "      <td>-0.264811</td>\n",
       "      <td>-0.517483</td>\n",
       "      <td>0.280270</td>\n",
       "      <td>-0.364885</td>\n",
       "      <td>0.267398</td>\n",
       "      <td>0.427736</td>\n",
       "      <td>0.64916</td>\n",
       "      <td>0.595577</td>\n",
       "      <td>...</td>\n",
       "      <td>1</td>\n",
       "      <td>3</td>\n",
       "      <td>1</td>\n",
       "      <td>False</td>\n",
       "      <td>True</td>\n",
       "      <td>False</td>\n",
       "      <td>True</td>\n",
       "      <td>False</td>\n",
       "      <td>True</td>\n",
       "      <td>1.420070e+09</td>\n",
       "    </tr>\n",
       "    <tr>\n",
       "      <th>4</th>\n",
       "      <td>911</td>\n",
       "      <td>-0.365417</td>\n",
       "      <td>-0.264811</td>\n",
       "      <td>-0.517483</td>\n",
       "      <td>-0.197140</td>\n",
       "      <td>-0.092194</td>\n",
       "      <td>-0.153508</td>\n",
       "      <td>0.427736</td>\n",
       "      <td>0.64916</td>\n",
       "      <td>0.595577</td>\n",
       "      <td>...</td>\n",
       "      <td>1</td>\n",
       "      <td>3</td>\n",
       "      <td>1</td>\n",
       "      <td>False</td>\n",
       "      <td>True</td>\n",
       "      <td>False</td>\n",
       "      <td>True</td>\n",
       "      <td>False</td>\n",
       "      <td>True</td>\n",
       "      <td>1.420070e+09</td>\n",
       "    </tr>\n",
       "  </tbody>\n",
       "</table>\n",
       "<p>5 rows × 23 columns</p>\n",
       "</div>"
      ],
      "text/plain": [
       "   num_sold  store_emb_1  store_emb_2  store_emb_3  product_emb_1  \\\n",
       "0       329    -0.624793     0.573543    -0.623404       0.280270   \n",
       "1       520    -0.624793     0.573543    -0.623404      -0.197140   \n",
       "2       146    -0.624793     0.573543    -0.623404       0.756201   \n",
       "3       572    -0.365417    -0.264811    -0.517483       0.280270   \n",
       "4       911    -0.365417    -0.264811    -0.517483      -0.197140   \n",
       "\n",
       "   product_emb_2  product_emb_3  country_emb_1  country_emb_2  country_emb_3  \\\n",
       "0      -0.364885       0.267398       0.427736        0.64916       0.595577   \n",
       "1      -0.092194      -0.153508       0.427736        0.64916       0.595577   \n",
       "2      -0.683068       0.854909       0.427736        0.64916       0.595577   \n",
       "3      -0.364885       0.267398       0.427736        0.64916       0.595577   \n",
       "4      -0.092194      -0.153508       0.427736        0.64916       0.595577   \n",
       "\n",
       "   ...  Day  Dayofweek  Dayofyear  Is_month_end  Is_month_start  \\\n",
       "0  ...    1          3          1         False            True   \n",
       "1  ...    1          3          1         False            True   \n",
       "2  ...    1          3          1         False            True   \n",
       "3  ...    1          3          1         False            True   \n",
       "4  ...    1          3          1         False            True   \n",
       "\n",
       "   Is_quarter_end  Is_quarter_start  Is_year_end  Is_year_start       Elapsed  \n",
       "0           False              True        False           True  1.420070e+09  \n",
       "1           False              True        False           True  1.420070e+09  \n",
       "2           False              True        False           True  1.420070e+09  \n",
       "3           False              True        False           True  1.420070e+09  \n",
       "4           False              True        False           True  1.420070e+09  \n",
       "\n",
       "[5 rows x 23 columns]"
      ]
     },
     "execution_count": 8,
     "metadata": {},
     "output_type": "execute_result"
    }
   ],
   "source": [
    "df_tr.head()"
   ]
  },
  {
   "cell_type": "code",
   "execution_count": 9,
   "id": "aeb22781-acbf-444f-bd78-7841f0f63eca",
   "metadata": {},
   "outputs": [
    {
     "data": {
      "text/plain": [
       "Index(['num_sold', 'store_emb_1', 'store_emb_2', 'store_emb_3',\n",
       "       'product_emb_1', 'product_emb_2', 'product_emb_3', 'country_emb_1',\n",
       "       'country_emb_2', 'country_emb_3', 'Year', 'Month', 'Week', 'Day',\n",
       "       'Dayofweek', 'Dayofyear', 'Is_month_end', 'Is_month_start',\n",
       "       'Is_quarter_end', 'Is_quarter_start', 'Is_year_end', 'Is_year_start',\n",
       "       'Elapsed'],\n",
       "      dtype='object')"
      ]
     },
     "execution_count": 9,
     "metadata": {},
     "output_type": "execute_result"
    }
   ],
   "source": [
    "df_tr.columns"
   ]
  },
  {
   "cell_type": "code",
   "execution_count": 11,
   "id": "9136028b-5692-4a18-aa80-a694bbb1c019",
   "metadata": {},
   "outputs": [
    {
     "data": {
      "text/plain": [
       "(7,)"
      ]
     },
     "execution_count": 11,
     "metadata": {},
     "output_type": "execute_result"
    }
   ],
   "source": [
    "month_map = pickle.load(open(\"embs/month_map.pkl\", \"rb\"))\n",
    "\n",
    "month_map[1].shape"
   ]
  },
  {
   "cell_type": "code",
   "execution_count": 13,
   "id": "41360d90-053f-453d-ab02-ce5879df48d0",
   "metadata": {},
   "outputs": [],
   "source": [
    "emb_dim = month_map[1].shape[0]\n",
    "col_name = [f'month_emb_{i}' for i in range(1, emb_dim + 1)]\n",
    "df_emb_month = pd.DataFrame(df_tr['Month'].map(month_map).to_list(), columns = col_name)"
   ]
  },
  {
   "cell_type": "code",
   "execution_count": 14,
   "id": "4c18b885-b4f3-4632-b8a1-b86ee396b391",
   "metadata": {},
   "outputs": [
    {
     "data": {
      "text/html": [
       "<div>\n",
       "<style scoped>\n",
       "    .dataframe tbody tr th:only-of-type {\n",
       "        vertical-align: middle;\n",
       "    }\n",
       "\n",
       "    .dataframe tbody tr th {\n",
       "        vertical-align: top;\n",
       "    }\n",
       "\n",
       "    .dataframe thead th {\n",
       "        text-align: right;\n",
       "    }\n",
       "</style>\n",
       "<table border=\"1\" class=\"dataframe\">\n",
       "  <thead>\n",
       "    <tr style=\"text-align: right;\">\n",
       "      <th></th>\n",
       "      <th>month_emb_1</th>\n",
       "      <th>month_emb_2</th>\n",
       "      <th>month_emb_3</th>\n",
       "      <th>month_emb_4</th>\n",
       "      <th>month_emb_5</th>\n",
       "      <th>month_emb_6</th>\n",
       "      <th>month_emb_7</th>\n",
       "    </tr>\n",
       "  </thead>\n",
       "  <tbody>\n",
       "    <tr>\n",
       "      <th>0</th>\n",
       "      <td>-0.021981</td>\n",
       "      <td>0.11004</td>\n",
       "      <td>0.244673</td>\n",
       "      <td>-0.043323</td>\n",
       "      <td>-0.111131</td>\n",
       "      <td>0.070589</td>\n",
       "      <td>0.051343</td>\n",
       "    </tr>\n",
       "    <tr>\n",
       "      <th>1</th>\n",
       "      <td>-0.021981</td>\n",
       "      <td>0.11004</td>\n",
       "      <td>0.244673</td>\n",
       "      <td>-0.043323</td>\n",
       "      <td>-0.111131</td>\n",
       "      <td>0.070589</td>\n",
       "      <td>0.051343</td>\n",
       "    </tr>\n",
       "    <tr>\n",
       "      <th>2</th>\n",
       "      <td>-0.021981</td>\n",
       "      <td>0.11004</td>\n",
       "      <td>0.244673</td>\n",
       "      <td>-0.043323</td>\n",
       "      <td>-0.111131</td>\n",
       "      <td>0.070589</td>\n",
       "      <td>0.051343</td>\n",
       "    </tr>\n",
       "    <tr>\n",
       "      <th>3</th>\n",
       "      <td>-0.021981</td>\n",
       "      <td>0.11004</td>\n",
       "      <td>0.244673</td>\n",
       "      <td>-0.043323</td>\n",
       "      <td>-0.111131</td>\n",
       "      <td>0.070589</td>\n",
       "      <td>0.051343</td>\n",
       "    </tr>\n",
       "    <tr>\n",
       "      <th>4</th>\n",
       "      <td>-0.021981</td>\n",
       "      <td>0.11004</td>\n",
       "      <td>0.244673</td>\n",
       "      <td>-0.043323</td>\n",
       "      <td>-0.111131</td>\n",
       "      <td>0.070589</td>\n",
       "      <td>0.051343</td>\n",
       "    </tr>\n",
       "  </tbody>\n",
       "</table>\n",
       "</div>"
      ],
      "text/plain": [
       "   month_emb_1  month_emb_2  month_emb_3  month_emb_4  month_emb_5  \\\n",
       "0    -0.021981      0.11004     0.244673    -0.043323    -0.111131   \n",
       "1    -0.021981      0.11004     0.244673    -0.043323    -0.111131   \n",
       "2    -0.021981      0.11004     0.244673    -0.043323    -0.111131   \n",
       "3    -0.021981      0.11004     0.244673    -0.043323    -0.111131   \n",
       "4    -0.021981      0.11004     0.244673    -0.043323    -0.111131   \n",
       "\n",
       "   month_emb_6  month_emb_7  \n",
       "0     0.070589     0.051343  \n",
       "1     0.070589     0.051343  \n",
       "2     0.070589     0.051343  \n",
       "3     0.070589     0.051343  \n",
       "4     0.070589     0.051343  "
      ]
     },
     "execution_count": 14,
     "metadata": {},
     "output_type": "execute_result"
    }
   ],
   "source": [
    "df_emb_month.head()"
   ]
  },
  {
   "cell_type": "code",
   "execution_count": 15,
   "id": "5d1db031-6044-4706-aeab-b87aceff1424",
   "metadata": {},
   "outputs": [],
   "source": [
    "df_tr = pd.concat([df_tr, df_emb_month], axis = 1)"
   ]
  },
  {
   "cell_type": "code",
   "execution_count": 16,
   "id": "c947b880-92b3-4dbf-8fd9-555c90aa4ab6",
   "metadata": {},
   "outputs": [
    {
     "data": {
      "text/html": [
       "<div>\n",
       "<style scoped>\n",
       "    .dataframe tbody tr th:only-of-type {\n",
       "        vertical-align: middle;\n",
       "    }\n",
       "\n",
       "    .dataframe tbody tr th {\n",
       "        vertical-align: top;\n",
       "    }\n",
       "\n",
       "    .dataframe thead th {\n",
       "        text-align: right;\n",
       "    }\n",
       "</style>\n",
       "<table border=\"1\" class=\"dataframe\">\n",
       "  <thead>\n",
       "    <tr style=\"text-align: right;\">\n",
       "      <th></th>\n",
       "      <th>num_sold</th>\n",
       "      <th>store_emb_1</th>\n",
       "      <th>store_emb_2</th>\n",
       "      <th>store_emb_3</th>\n",
       "      <th>product_emb_1</th>\n",
       "      <th>product_emb_2</th>\n",
       "      <th>product_emb_3</th>\n",
       "      <th>country_emb_1</th>\n",
       "      <th>country_emb_2</th>\n",
       "      <th>country_emb_3</th>\n",
       "      <th>...</th>\n",
       "      <th>Is_year_end</th>\n",
       "      <th>Is_year_start</th>\n",
       "      <th>Elapsed</th>\n",
       "      <th>month_emb_1</th>\n",
       "      <th>month_emb_2</th>\n",
       "      <th>month_emb_3</th>\n",
       "      <th>month_emb_4</th>\n",
       "      <th>month_emb_5</th>\n",
       "      <th>month_emb_6</th>\n",
       "      <th>month_emb_7</th>\n",
       "    </tr>\n",
       "  </thead>\n",
       "  <tbody>\n",
       "    <tr>\n",
       "      <th>0</th>\n",
       "      <td>329</td>\n",
       "      <td>-0.624793</td>\n",
       "      <td>0.573543</td>\n",
       "      <td>-0.623404</td>\n",
       "      <td>0.280270</td>\n",
       "      <td>-0.364885</td>\n",
       "      <td>0.267398</td>\n",
       "      <td>0.427736</td>\n",
       "      <td>0.64916</td>\n",
       "      <td>0.595577</td>\n",
       "      <td>...</td>\n",
       "      <td>False</td>\n",
       "      <td>True</td>\n",
       "      <td>1.420070e+09</td>\n",
       "      <td>-0.021981</td>\n",
       "      <td>0.11004</td>\n",
       "      <td>0.244673</td>\n",
       "      <td>-0.043323</td>\n",
       "      <td>-0.111131</td>\n",
       "      <td>0.070589</td>\n",
       "      <td>0.051343</td>\n",
       "    </tr>\n",
       "    <tr>\n",
       "      <th>1</th>\n",
       "      <td>520</td>\n",
       "      <td>-0.624793</td>\n",
       "      <td>0.573543</td>\n",
       "      <td>-0.623404</td>\n",
       "      <td>-0.197140</td>\n",
       "      <td>-0.092194</td>\n",
       "      <td>-0.153508</td>\n",
       "      <td>0.427736</td>\n",
       "      <td>0.64916</td>\n",
       "      <td>0.595577</td>\n",
       "      <td>...</td>\n",
       "      <td>False</td>\n",
       "      <td>True</td>\n",
       "      <td>1.420070e+09</td>\n",
       "      <td>-0.021981</td>\n",
       "      <td>0.11004</td>\n",
       "      <td>0.244673</td>\n",
       "      <td>-0.043323</td>\n",
       "      <td>-0.111131</td>\n",
       "      <td>0.070589</td>\n",
       "      <td>0.051343</td>\n",
       "    </tr>\n",
       "    <tr>\n",
       "      <th>2</th>\n",
       "      <td>146</td>\n",
       "      <td>-0.624793</td>\n",
       "      <td>0.573543</td>\n",
       "      <td>-0.623404</td>\n",
       "      <td>0.756201</td>\n",
       "      <td>-0.683068</td>\n",
       "      <td>0.854909</td>\n",
       "      <td>0.427736</td>\n",
       "      <td>0.64916</td>\n",
       "      <td>0.595577</td>\n",
       "      <td>...</td>\n",
       "      <td>False</td>\n",
       "      <td>True</td>\n",
       "      <td>1.420070e+09</td>\n",
       "      <td>-0.021981</td>\n",
       "      <td>0.11004</td>\n",
       "      <td>0.244673</td>\n",
       "      <td>-0.043323</td>\n",
       "      <td>-0.111131</td>\n",
       "      <td>0.070589</td>\n",
       "      <td>0.051343</td>\n",
       "    </tr>\n",
       "    <tr>\n",
       "      <th>3</th>\n",
       "      <td>572</td>\n",
       "      <td>-0.365417</td>\n",
       "      <td>-0.264811</td>\n",
       "      <td>-0.517483</td>\n",
       "      <td>0.280270</td>\n",
       "      <td>-0.364885</td>\n",
       "      <td>0.267398</td>\n",
       "      <td>0.427736</td>\n",
       "      <td>0.64916</td>\n",
       "      <td>0.595577</td>\n",
       "      <td>...</td>\n",
       "      <td>False</td>\n",
       "      <td>True</td>\n",
       "      <td>1.420070e+09</td>\n",
       "      <td>-0.021981</td>\n",
       "      <td>0.11004</td>\n",
       "      <td>0.244673</td>\n",
       "      <td>-0.043323</td>\n",
       "      <td>-0.111131</td>\n",
       "      <td>0.070589</td>\n",
       "      <td>0.051343</td>\n",
       "    </tr>\n",
       "    <tr>\n",
       "      <th>4</th>\n",
       "      <td>911</td>\n",
       "      <td>-0.365417</td>\n",
       "      <td>-0.264811</td>\n",
       "      <td>-0.517483</td>\n",
       "      <td>-0.197140</td>\n",
       "      <td>-0.092194</td>\n",
       "      <td>-0.153508</td>\n",
       "      <td>0.427736</td>\n",
       "      <td>0.64916</td>\n",
       "      <td>0.595577</td>\n",
       "      <td>...</td>\n",
       "      <td>False</td>\n",
       "      <td>True</td>\n",
       "      <td>1.420070e+09</td>\n",
       "      <td>-0.021981</td>\n",
       "      <td>0.11004</td>\n",
       "      <td>0.244673</td>\n",
       "      <td>-0.043323</td>\n",
       "      <td>-0.111131</td>\n",
       "      <td>0.070589</td>\n",
       "      <td>0.051343</td>\n",
       "    </tr>\n",
       "  </tbody>\n",
       "</table>\n",
       "<p>5 rows × 30 columns</p>\n",
       "</div>"
      ],
      "text/plain": [
       "   num_sold  store_emb_1  store_emb_2  store_emb_3  product_emb_1  \\\n",
       "0       329    -0.624793     0.573543    -0.623404       0.280270   \n",
       "1       520    -0.624793     0.573543    -0.623404      -0.197140   \n",
       "2       146    -0.624793     0.573543    -0.623404       0.756201   \n",
       "3       572    -0.365417    -0.264811    -0.517483       0.280270   \n",
       "4       911    -0.365417    -0.264811    -0.517483      -0.197140   \n",
       "\n",
       "   product_emb_2  product_emb_3  country_emb_1  country_emb_2  country_emb_3  \\\n",
       "0      -0.364885       0.267398       0.427736        0.64916       0.595577   \n",
       "1      -0.092194      -0.153508       0.427736        0.64916       0.595577   \n",
       "2      -0.683068       0.854909       0.427736        0.64916       0.595577   \n",
       "3      -0.364885       0.267398       0.427736        0.64916       0.595577   \n",
       "4      -0.092194      -0.153508       0.427736        0.64916       0.595577   \n",
       "\n",
       "   ...  Is_year_end  Is_year_start       Elapsed  month_emb_1  month_emb_2  \\\n",
       "0  ...        False           True  1.420070e+09    -0.021981      0.11004   \n",
       "1  ...        False           True  1.420070e+09    -0.021981      0.11004   \n",
       "2  ...        False           True  1.420070e+09    -0.021981      0.11004   \n",
       "3  ...        False           True  1.420070e+09    -0.021981      0.11004   \n",
       "4  ...        False           True  1.420070e+09    -0.021981      0.11004   \n",
       "\n",
       "   month_emb_3  month_emb_4  month_emb_5  month_emb_6  month_emb_7  \n",
       "0     0.244673    -0.043323    -0.111131     0.070589     0.051343  \n",
       "1     0.244673    -0.043323    -0.111131     0.070589     0.051343  \n",
       "2     0.244673    -0.043323    -0.111131     0.070589     0.051343  \n",
       "3     0.244673    -0.043323    -0.111131     0.070589     0.051343  \n",
       "4     0.244673    -0.043323    -0.111131     0.070589     0.051343  \n",
       "\n",
       "[5 rows x 30 columns]"
      ]
     },
     "execution_count": 16,
     "metadata": {},
     "output_type": "execute_result"
    }
   ],
   "source": [
    "df_tr.head()"
   ]
  },
  {
   "cell_type": "code",
   "execution_count": 17,
   "id": "2dd1449d-5b9c-4d73-a534-e9164fb2275c",
   "metadata": {},
   "outputs": [],
   "source": [
    "cond = (df_tr.Year < 2018)\n",
    "train_idx = np.where(cond)[0]\n",
    "valid_idx = np.where(~cond)[0]"
   ]
  },
  {
   "cell_type": "code",
   "execution_count": 26,
   "id": "3d6fc2b1-7832-4d77-ad36-0c4d8cbe8bdd",
   "metadata": {},
   "outputs": [],
   "source": [
    "splits = (list(train_idx), list(valid_idx))\n",
    "cont, cat = cont_cat_split(df_tr, 5000, dep_var)"
   ]
  },
  {
   "cell_type": "code",
   "execution_count": 27,
   "id": "5f43e961-6b6a-4a05-b8c6-38b471f84964",
   "metadata": {},
   "outputs": [],
   "source": [
    "procs = [Categorify, FillMissing]\n",
    "to = TabularPandas(df_tr, procs, cat, cont, y_names = dep_var, splits = splits)"
   ]
  },
  {
   "cell_type": "code",
   "execution_count": 28,
   "id": "f5571aff-fbcb-4295-bbdc-f4652e9ab5c1",
   "metadata": {},
   "outputs": [
    {
     "data": {
      "text/plain": [
       "['store_emb_1',\n",
       " 'store_emb_2',\n",
       " 'store_emb_3',\n",
       " 'product_emb_1',\n",
       " 'product_emb_2',\n",
       " 'product_emb_3',\n",
       " 'country_emb_1',\n",
       " 'country_emb_2',\n",
       " 'country_emb_3',\n",
       " 'Elapsed',\n",
       " 'month_emb_1',\n",
       " 'month_emb_2',\n",
       " 'month_emb_3',\n",
       " 'month_emb_4',\n",
       " 'month_emb_5',\n",
       " 'month_emb_6',\n",
       " 'month_emb_7']"
      ]
     },
     "execution_count": 28,
     "metadata": {},
     "output_type": "execute_result"
    }
   ],
   "source": [
    "cont"
   ]
  },
  {
   "cell_type": "code",
   "execution_count": 29,
   "id": "09e4539f-853a-4a58-a6c4-8198ee4c4076",
   "metadata": {},
   "outputs": [
    {
     "data": {
      "text/plain": [
       "['Year',\n",
       " 'Month',\n",
       " 'Week',\n",
       " 'Day',\n",
       " 'Dayofweek',\n",
       " 'Dayofyear',\n",
       " 'Is_month_end',\n",
       " 'Is_month_start',\n",
       " 'Is_quarter_end',\n",
       " 'Is_quarter_start',\n",
       " 'Is_year_end',\n",
       " 'Is_year_start']"
      ]
     },
     "execution_count": 29,
     "metadata": {},
     "output_type": "execute_result"
    }
   ],
   "source": [
    "cat"
   ]
  },
  {
   "cell_type": "code",
   "execution_count": 30,
   "id": "9ac6b1d4-ecf6-4db1-a7cf-2fafaeb131ab",
   "metadata": {},
   "outputs": [],
   "source": [
    "xs, y = to.train.xs, to.train.y\n",
    "valid_xs, valid_y = to.valid.xs, to.valid.y"
   ]
  },
  {
   "cell_type": "code",
   "execution_count": 31,
   "id": "d2062054-fef5-4b25-8f29-f34e2c006b9e",
   "metadata": {},
   "outputs": [],
   "source": [
    "def cal_smape(preds, targs):\n",
    "    total = len(targs)\n",
    "    smp = 0\n",
    "    for i,j in zip(preds, targs):\n",
    "        diff = np.abs(i - j)\n",
    "        avg = ((np.abs(i)) + np.abs(j)) / 2\n",
    "        fin = diff/avg\n",
    "        smp += fin\n",
    "        \n",
    "    smp = (smp/total) * 100 \n",
    "    \n",
    "    return smp"
   ]
  },
  {
   "cell_type": "code",
   "execution_count": 32,
   "id": "6049e3f2-2af8-4657-9739-9ff4efb88b74",
   "metadata": {},
   "outputs": [],
   "source": [
    "a,b,c,d,e = [],[],[],[],[]\n",
    "score = []\n",
    "\n",
    "g_index = 1\n",
    "def hp_tuning(trial) :\n",
    "    learning_rate = trial.suggest_float(\"learning_rate\", 0.0001, 0.5, log = True)\n",
    "    gamma = trial.suggest_float(\"gamma\", 0.001, 10)\n",
    "    alpha = trial.suggest_float(\"alpha\", 0.001, 10)\n",
    "    max_depth = trial.suggest_int(\"max_depth\", 3, 15)\n",
    "    reg_lambda = trial.suggest_loguniform(\"reg_lambda\", 0.001, 25)\n",
    "    \n",
    "    model = XGBRegressor(verbosity = 0, alpha = alpha, reg_lambda = reg_lambda, gamma = gamma, max_depth = max_depth, learning_rate = learning_rate)\n",
    "    \n",
    "    model.fit(xs, y)\n",
    "                            \n",
    "    preds_val = model.predict(valid_xs)\n",
    "   \n",
    "        \n",
    "    a.append(learning_rate)\n",
    "    b.append(gamma)\n",
    "    c.append(alpha)\n",
    "    d.append(max_depth)\n",
    "    e.append(reg_lambda)\n",
    "    score.append(cal_smape(preds_val, valid_y))\n",
    "    \n",
    "        \n",
    "        \n",
    "    return (cal_smape(preds_val, valid_y))"
   ]
  },
  {
   "cell_type": "code",
   "execution_count": 33,
   "id": "d9cf7fd2-ffe3-4ad0-bb8d-4094a49ab49d",
   "metadata": {
    "collapsed": true,
    "jupyter": {
     "outputs_hidden": true
    },
    "tags": []
   },
   "outputs": [
    {
     "name": "stderr",
     "output_type": "stream",
     "text": [
      "\u001b[32m[I 2022-01-12 04:41:02,429]\u001b[0m A new study created in memory with name: no-name-e88859ee-357a-4cea-9b56-8a3795881d1b\u001b[0m\n",
      "\u001b[32m[I 2022-01-12 04:41:05,222]\u001b[0m Trial 0 finished with value: 8.249117874817793 and parameters: {'learning_rate': 0.08499061067010519, 'gamma': 9.788316017207816, 'alpha': 7.794977340977294, 'max_depth': 14, 'reg_lambda': 0.0024273713162799933}. Best is trial 0 with value: 8.249117874817793.\u001b[0m\n",
      "\u001b[32m[I 2022-01-12 04:41:05,740]\u001b[0m Trial 1 finished with value: 123.2115702126124 and parameters: {'learning_rate': 0.0030004031891173394, 'gamma': 2.810706474402225, 'alpha': 5.874568439837026, 'max_depth': 4, 'reg_lambda': 0.33448918683481527}. Best is trial 0 with value: 8.249117874817793.\u001b[0m\n",
      "\u001b[32m[I 2022-01-12 04:41:06,465]\u001b[0m Trial 2 finished with value: 195.44357797295564 and parameters: {'learning_rate': 0.00010981082134122484, 'gamma': 0.5160066491063658, 'alpha': 7.077616231364125, 'max_depth': 6, 'reg_lambda': 1.6497545306675074}. Best is trial 0 with value: 8.249117874817793.\u001b[0m\n",
      "\u001b[32m[I 2022-01-12 04:41:06,967]\u001b[0m Trial 3 finished with value: 16.909603360301016 and parameters: {'learning_rate': 0.3841783643516861, 'gamma': 8.82446202091894, 'alpha': 3.606074755775132, 'max_depth': 4, 'reg_lambda': 0.07361383818288682}. Best is trial 0 with value: 8.249117874817793.\u001b[0m\n",
      "\u001b[32m[I 2022-01-12 04:41:08,000]\u001b[0m Trial 4 finished with value: 161.47458419823175 and parameters: {'learning_rate': 0.001256094274628027, 'gamma': 3.399614895881556, 'alpha': 6.985125013361727, 'max_depth': 12, 'reg_lambda': 1.87716342225123}. Best is trial 0 with value: 8.249117874817793.\u001b[0m\n",
      "\u001b[32m[I 2022-01-12 04:41:08,744]\u001b[0m Trial 5 finished with value: 49.95713638948641 and parameters: {'learning_rate': 0.010966007878627245, 'gamma': 2.2282548565969584, 'alpha': 2.5696785490675174, 'max_depth': 6, 'reg_lambda': 0.31213015798781873}. Best is trial 0 with value: 8.249117874817793.\u001b[0m\n",
      "\u001b[32m[I 2022-01-12 04:41:10,521]\u001b[0m Trial 6 finished with value: 9.46482356479901 and parameters: {'learning_rate': 0.41562787947370966, 'gamma': 4.74755524324851, 'alpha': 1.207891698128148, 'max_depth': 11, 'reg_lambda': 0.0012423146335903566}. Best is trial 0 with value: 8.249117874817793.\u001b[0m\n",
      "\u001b[32m[I 2022-01-12 04:41:11,950]\u001b[0m Trial 7 finished with value: 154.89077254311056 and parameters: {'learning_rate': 0.0014202697587434243, 'gamma': 7.827788443670952, 'alpha': 6.86720955497462, 'max_depth': 10, 'reg_lambda': 0.0789653893943709}. Best is trial 0 with value: 8.249117874817793.\u001b[0m\n",
      "\u001b[32m[I 2022-01-12 04:41:12,844]\u001b[0m Trial 8 finished with value: 194.23109134949647 and parameters: {'learning_rate': 0.00014440760922472271, 'gamma': 4.343015691078362, 'alpha': 2.6497572573370385, 'max_depth': 7, 'reg_lambda': 0.005280086873360613}. Best is trial 0 with value: 8.249117874817793.\u001b[0m\n",
      "\u001b[32m[I 2022-01-12 04:41:13,875]\u001b[0m Trial 9 finished with value: 71.89698901216593 and parameters: {'learning_rate': 0.007470615822459162, 'gamma': 5.540032955310272, 'alpha': 8.795617455538888, 'max_depth': 12, 'reg_lambda': 3.4393830588631866}. Best is trial 0 with value: 8.249117874817793.\u001b[0m\n",
      "\u001b[32m[I 2022-01-12 04:41:16,924]\u001b[0m Trial 10 finished with value: 8.147405706808046 and parameters: {'learning_rate': 0.06116955879194426, 'gamma': 9.686517294699883, 'alpha': 8.462620603408839, 'max_depth': 15, 'reg_lambda': 0.008799555789354109}. Best is trial 10 with value: 8.147405706808046.\u001b[0m\n",
      "\u001b[32m[I 2022-01-12 04:41:19,909]\u001b[0m Trial 11 finished with value: 8.13726867155279 and parameters: {'learning_rate': 0.05711621700389178, 'gamma': 9.910403211174767, 'alpha': 9.254279665478943, 'max_depth': 15, 'reg_lambda': 0.008390037685932385}. Best is trial 11 with value: 8.13726867155279.\u001b[0m\n",
      "\u001b[32m[I 2022-01-12 04:41:22,726]\u001b[0m Trial 12 finished with value: 8.193114506813098 and parameters: {'learning_rate': 0.04740204707387787, 'gamma': 6.75094234836075, 'alpha': 9.744330059704534, 'max_depth': 15, 'reg_lambda': 0.01673449707148567}. Best is trial 11 with value: 8.13726867155279.\u001b[0m\n",
      "\u001b[32m[I 2022-01-12 04:41:25,336]\u001b[0m Trial 13 finished with value: 8.199531273028677 and parameters: {'learning_rate': 0.047187398872258375, 'gamma': 9.88631087591372, 'alpha': 9.946514196451755, 'max_depth': 14, 'reg_lambda': 0.012877573265049652}. Best is trial 11 with value: 8.13726867155279.\u001b[0m\n",
      "\u001b[32m[I 2022-01-12 04:41:28,266]\u001b[0m Trial 14 finished with value: 8.283377657764204 and parameters: {'learning_rate': 0.10739657791296461, 'gamma': 7.426478777351466, 'alpha': 5.365324995513135, 'max_depth': 15, 'reg_lambda': 0.02138286765492704}. Best is trial 11 with value: 8.13726867155279.\u001b[0m\n",
      "\u001b[32m[I 2022-01-12 04:41:30,457]\u001b[0m Trial 15 finished with value: 19.114255176693334 and parameters: {'learning_rate': 0.018937840065473867, 'gamma': 8.64420916659002, 'alpha': 8.670071886827301, 'max_depth': 13, 'reg_lambda': 0.005185541528684605}. Best is trial 11 with value: 8.13726867155279.\u001b[0m\n",
      "\u001b[32m[I 2022-01-12 04:41:31,667]\u001b[0m Trial 16 finished with value: 8.407611639622264 and parameters: {'learning_rate': 0.16422884376002486, 'gamma': 6.03170699404083, 'alpha': 8.447894472627038, 'max_depth': 9, 'reg_lambda': 0.041721831892555974}. Best is trial 11 with value: 8.13726867155279.\u001b[0m\n",
      "\u001b[32m[I 2022-01-12 04:41:32,730]\u001b[0m Trial 17 finished with value: 15.802082345886351 and parameters: {'learning_rate': 0.02604964404455452, 'gamma': 8.667824888703208, 'alpha': 6.008988785199085, 'max_depth': 9, 'reg_lambda': 10.679558975616349}. Best is trial 11 with value: 8.13726867155279.\u001b[0m\n",
      "\u001b[32m[I 2022-01-12 04:41:35,012]\u001b[0m Trial 18 finished with value: 8.839086516963604 and parameters: {'learning_rate': 0.20410584263802412, 'gamma': 7.098555085811552, 'alpha': 4.524687500059942, 'max_depth': 13, 'reg_lambda': 0.001165473001350829}. Best is trial 11 with value: 8.13726867155279.\u001b[0m\n",
      "\u001b[32m[I 2022-01-12 04:41:37,217]\u001b[0m Trial 19 finished with value: 113.90592092044578 and parameters: {'learning_rate': 0.0033246197101766094, 'gamma': 9.95690815056121, 'alpha': 9.456989459079645, 'max_depth': 15, 'reg_lambda': 0.0082780170147467}. Best is trial 11 with value: 8.13726867155279.\u001b[0m\n",
      "\u001b[32m[I 2022-01-12 04:41:38,987]\u001b[0m Trial 20 finished with value: 8.091520190051387 and parameters: {'learning_rate': 0.04774232340477597, 'gamma': 8.34956572034356, 'alpha': 7.997652778936624, 'max_depth': 11, 'reg_lambda': 0.2768979314868211}. Best is trial 20 with value: 8.091520190051387.\u001b[0m\n",
      "\u001b[32m[I 2022-01-12 04:41:40,750]\u001b[0m Trial 21 finished with value: 8.12370302593781 and parameters: {'learning_rate': 0.048696548148573396, 'gamma': 8.78576719053879, 'alpha': 7.744459805029545, 'max_depth': 11, 'reg_lambda': 0.23962283495654207}. Best is trial 20 with value: 8.091520190051387.\u001b[0m\n",
      "\u001b[32m[I 2022-01-12 04:41:42,379]\u001b[0m Trial 22 finished with value: 11.0572634311293 and parameters: {'learning_rate': 0.027946312944842778, 'gamma': 8.169099664691355, 'alpha': 7.612446059050155, 'max_depth': 11, 'reg_lambda': 0.370466167498502}. Best is trial 20 with value: 8.091520190051387.\u001b[0m\n",
      "\u001b[32m[I 2022-01-12 04:41:43,395]\u001b[0m Trial 23 finished with value: 8.715614027582843 and parameters: {'learning_rate': 0.18041343364211762, 'gamma': 9.11242633016411, 'alpha': 7.957362084682288, 'max_depth': 8, 'reg_lambda': 0.7680909441788892}. Best is trial 20 with value: 8.091520190051387.\u001b[0m\n",
      "\u001b[32m[I 2022-01-12 04:41:44,895]\u001b[0m Trial 24 finished with value: 30.429174438395297 and parameters: {'learning_rate': 0.014758818853101515, 'gamma': 6.191861992810887, 'alpha': 6.306868779386032, 'max_depth': 10, 'reg_lambda': 0.09156910802962415}. Best is trial 20 with value: 8.091520190051387.\u001b[0m\n",
      "\u001b[32m[I 2022-01-12 04:41:46,767]\u001b[0m Trial 25 finished with value: 11.923497890433547 and parameters: {'learning_rate': 0.026478967217749446, 'gamma': 8.180460439557155, 'alpha': 9.164283187273337, 'max_depth': 12, 'reg_lambda': 0.1791812854377485}. Best is trial 20 with value: 8.091520190051387.\u001b[0m\n",
      "\u001b[32m[I 2022-01-12 04:41:48,279]\u001b[0m Trial 26 finished with value: 86.93570416272905 and parameters: {'learning_rate': 0.005297653403065257, 'gamma': 9.102367479382757, 'alpha': 4.586082539331459, 'max_depth': 10, 'reg_lambda': 0.03918658506023874}. Best is trial 20 with value: 8.091520190051387.\u001b[0m\n",
      "\u001b[32m[I 2022-01-12 04:41:50,464]\u001b[0m Trial 27 finished with value: 21.940881924658857 and parameters: {'learning_rate': 0.10235057124098847, 'gamma': 7.7516110268816325, 'alpha': 0.3144491100360973, 'max_depth': 13, 'reg_lambda': 0.8381791480011358}. Best is trial 20 with value: 8.091520190051387.\u001b[0m\n",
      "\u001b[32m[I 2022-01-12 04:41:52,230]\u001b[0m Trial 28 finished with value: 8.551938505597953 and parameters: {'learning_rate': 0.03826346992619766, 'gamma': 6.583401475405262, 'alpha': 7.635818218291561, 'max_depth': 11, 'reg_lambda': 0.1745939279114434}. Best is trial 20 with value: 8.091520190051387.\u001b[0m\n",
      "\u001b[32m[I 2022-01-12 04:41:53,169]\u001b[0m Trial 29 finished with value: 35.91861598723039 and parameters: {'learning_rate': 0.08671103808706863, 'gamma': 9.546042983159039, 'alpha': 7.974417838288888, 'max_depth': 8, 'reg_lambda': 9.26061501202957}. Best is trial 20 with value: 8.091520190051387.\u001b[0m\n",
      "\u001b[32m[I 2022-01-12 04:41:54,590]\u001b[0m Trial 30 finished with value: 50.61880695924792 and parameters: {'learning_rate': 0.010271048402271894, 'gamma': 8.439957215589194, 'alpha': 6.5554235278861155, 'max_depth': 14, 'reg_lambda': 0.7141327982168234}. Best is trial 20 with value: 8.091520190051387.\u001b[0m\n",
      "\u001b[32m[I 2022-01-12 04:41:57,316]\u001b[0m Trial 31 finished with value: 8.278018197757882 and parameters: {'learning_rate': 0.05379039702179655, 'gamma': 9.382574950491632, 'alpha': 8.390946092105938, 'max_depth': 14, 'reg_lambda': 0.002783726687710806}. Best is trial 20 with value: 8.091520190051387.\u001b[0m\n",
      "\u001b[32m[I 2022-01-12 04:41:59,958]\u001b[0m Trial 32 finished with value: 8.033146901439455 and parameters: {'learning_rate': 0.06549251820541227, 'gamma': 9.986821300313112, 'alpha': 8.922338523371605, 'max_depth': 14, 'reg_lambda': 0.03421284476347705}. Best is trial 32 with value: 8.033146901439455.\u001b[0m\n",
      "\u001b[32m[I 2022-01-12 04:42:02,154]\u001b[0m Trial 33 finished with value: 8.474777293136489 and parameters: {'learning_rate': 0.21741247043566173, 'gamma': 9.941222733489743, 'alpha': 9.335591641772425, 'max_depth': 13, 'reg_lambda': 0.03287609707911838}. Best is trial 32 with value: 8.033146901439455.\u001b[0m\n",
      "\u001b[32m[I 2022-01-12 04:42:04,589]\u001b[0m Trial 34 finished with value: 8.213142080910615 and parameters: {'learning_rate': 0.12683226753219834, 'gamma': 0.06247793732733964, 'alpha': 7.281151982487394, 'max_depth': 14, 'reg_lambda': 0.14227463186620382}. Best is trial 32 with value: 8.033146901439455.\u001b[0m\n",
      "\u001b[32m[I 2022-01-12 04:42:06,545]\u001b[0m Trial 35 finished with value: 9.35535768467254 and parameters: {'learning_rate': 0.269796923539474, 'gamma': 9.308034946089855, 'alpha': 9.048337445437431, 'max_depth': 12, 'reg_lambda': 0.40872730877986924}. Best is trial 32 with value: 8.033146901439455.\u001b[0m\n",
      "\u001b[32m[I 2022-01-12 04:42:06,977]\u001b[0m Trial 36 finished with value: 22.226071443349245 and parameters: {'learning_rate': 0.07713826598023095, 'gamma': 8.836342416097972, 'alpha': 5.3278268380141585, 'max_depth': 3, 'reg_lambda': 0.05226492876328295}. Best is trial 32 with value: 8.033146901439455.\u001b[0m\n",
      "\u001b[32m[I 2022-01-12 04:42:08,638]\u001b[0m Trial 37 finished with value: 24.054680490439964 and parameters: {'learning_rate': 0.016965449834511204, 'gamma': 7.404878668178876, 'alpha': 8.139745849660072, 'max_depth': 11, 'reg_lambda': 0.11066255886948109}. Best is trial 32 with value: 8.033146901439455.\u001b[0m\n",
      "\u001b[32m[I 2022-01-12 04:42:11,049]\u001b[0m Trial 38 finished with value: 189.539460388005 and parameters: {'learning_rate': 0.00025976540822618573, 'gamma': 2.0395626280447106, 'alpha': 7.27533360574325, 'max_depth': 12, 'reg_lambda': 0.0030581391044525803}. Best is trial 32 with value: 8.033146901439455.\u001b[0m\n",
      "\u001b[32m[I 2022-01-12 04:42:13,302]\u001b[0m Trial 39 finished with value: 41.09344641841064 and parameters: {'learning_rate': 0.43367703525257245, 'gamma': 8.045182468164397, 'alpha': 9.964572103601478, 'max_depth': 13, 'reg_lambda': 1.6894805003846962}. Best is trial 32 with value: 8.033146901439455.\u001b[0m\n",
      "\u001b[32m[I 2022-01-12 04:42:13,948]\u001b[0m Trial 40 finished with value: 9.968590859814025 and parameters: {'learning_rate': 0.03534723363473529, 'gamma': 3.8868676819661423, 'alpha': 6.74751467733556, 'max_depth': 5, 'reg_lambda': 0.23180086429531618}. Best is trial 32 with value: 8.033146901439455.\u001b[0m\n",
      "\u001b[32m[I 2022-01-12 04:42:16,942]\u001b[0m Trial 41 finished with value: 8.131905002630866 and parameters: {'learning_rate': 0.05768588907257207, 'gamma': 9.405002836976282, 'alpha': 8.961975460322835, 'max_depth': 15, 'reg_lambda': 0.008743330339633692}. Best is trial 32 with value: 8.033146901439455.\u001b[0m\n",
      "\u001b[32m[I 2022-01-12 04:42:19,597]\u001b[0m Trial 42 finished with value: 8.159875399519157 and parameters: {'learning_rate': 0.06353299852977076, 'gamma': 9.069733234390238, 'alpha': 8.99948392125936, 'max_depth': 14, 'reg_lambda': 0.025988228779016832}. Best is trial 32 with value: 8.033146901439455.\u001b[0m\n",
      "\u001b[32m[I 2022-01-12 04:42:22,249]\u001b[0m Trial 43 finished with value: 8.170997186909856 and parameters: {'learning_rate': 0.1327567705270774, 'gamma': 9.473219234541315, 'alpha': 9.499360198159819, 'max_depth': 15, 'reg_lambda': 0.01144593054197432}. Best is trial 32 with value: 8.033146901439455.\u001b[0m\n",
      "\u001b[32m[I 2022-01-12 04:42:24,474]\u001b[0m Trial 44 finished with value: 39.52927311775857 and parameters: {'learning_rate': 0.01173132564126738, 'gamma': 8.30466093252357, 'alpha': 8.855462151707252, 'max_depth': 14, 'reg_lambda': 0.00556428073494069}. Best is trial 32 with value: 8.033146901439455.\u001b[0m\n",
      "\u001b[32m[I 2022-01-12 04:42:27,307]\u001b[0m Trial 45 finished with value: 8.730797544618731 and parameters: {'learning_rate': 0.3116493448867949, 'gamma': 5.236182227960576, 'alpha': 7.603742511067944, 'max_depth': 15, 'reg_lambda': 0.073994114337271}. Best is trial 32 with value: 8.033146901439455.\u001b[0m\n",
      "\u001b[32m[I 2022-01-12 04:42:28,852]\u001b[0m Trial 46 finished with value: 8.124954704514744 and parameters: {'learning_rate': 0.07827062172983103, 'gamma': 9.994183855048169, 'alpha': 8.273828082802535, 'max_depth': 10, 'reg_lambda': 0.001867572900281194}. Best is trial 32 with value: 8.033146901439455.\u001b[0m\n",
      "\u001b[32m[I 2022-01-12 04:42:30,442]\u001b[0m Trial 47 finished with value: 8.390953177664272 and parameters: {'learning_rate': 0.07980731467542869, 'gamma': 8.73856947202531, 'alpha': 3.06838944607055, 'max_depth': 10, 'reg_lambda': 0.0020811981961131004}. Best is trial 32 with value: 8.033146901439455.\u001b[0m\n",
      "\u001b[32m[I 2022-01-12 04:42:31,313]\u001b[0m Trial 48 finished with value: 7.725578206610346 and parameters: {'learning_rate': 0.03643031627965057, 'gamma': 7.684267071337432, 'alpha': 8.306291434252454, 'max_depth': 7, 'reg_lambda': 3.4197029765069207}. Best is trial 48 with value: 7.725578206610346.\u001b[0m\n",
      "\u001b[32m[I 2022-01-12 04:42:32,148]\u001b[0m Trial 49 finished with value: 21.52037469588182 and parameters: {'learning_rate': 0.022002929974331606, 'gamma': 7.591641849976441, 'alpha': 7.007985193985851, 'max_depth': 7, 'reg_lambda': 17.690706708284818}. Best is trial 48 with value: 7.725578206610346.\u001b[0m\n",
      "\u001b[32m[I 2022-01-12 04:42:33,116]\u001b[0m Trial 50 finished with value: 32.60725920195783 and parameters: {'learning_rate': 0.12641090238130986, 'gamma': 7.072169365272662, 'alpha': 8.289414571851946, 'max_depth': 8, 'reg_lambda': 3.64493297760422}. Best is trial 48 with value: 7.725578206610346.\u001b[0m\n",
      "\u001b[32m[I 2022-01-12 04:42:34,045]\u001b[0m Trial 51 finished with value: 7.959867423949121 and parameters: {'learning_rate': 0.03908502261148693, 'gamma': 9.567008630654808, 'alpha': 8.654816099576195, 'max_depth': 7, 'reg_lambda': 0.0017860801328759635}. Best is trial 48 with value: 7.725578206610346.\u001b[0m\n",
      "\u001b[32m[I 2022-01-12 04:42:34,815]\u001b[0m Trial 52 finished with value: 9.174993483712937 and parameters: {'learning_rate': 0.03580561869874381, 'gamma': 8.87008587801512, 'alpha': 8.55789349551959, 'max_depth': 6, 'reg_lambda': 0.0016052593407768787}. Best is trial 48 with value: 7.725578206610346.\u001b[0m\n",
      "\u001b[32m[I 2022-01-12 04:42:35,738]\u001b[0m Trial 53 finished with value: 7.861331330920117 and parameters: {'learning_rate': 0.040059019524419925, 'gamma': 9.994575748394363, 'alpha': 7.878589939499227, 'max_depth': 7, 'reg_lambda': 0.003857632804919319}. Best is trial 48 with value: 7.725578206610346.\u001b[0m\n",
      "\u001b[32m[I 2022-01-12 04:42:36,598]\u001b[0m Trial 54 finished with value: 77.10318929162446 and parameters: {'learning_rate': 0.006892905959374978, 'gamma': 8.532842287511034, 'alpha': 7.345938656559056, 'max_depth': 7, 'reg_lambda': 3.4296999381211686}. Best is trial 48 with value: 7.725578206610346.\u001b[0m\n",
      "\u001b[32m[I 2022-01-12 04:42:37,229]\u001b[0m Trial 55 finished with value: 8.6559461491192 and parameters: {'learning_rate': 0.04431082816559765, 'gamma': 7.924487442203611, 'alpha': 6.150929188775591, 'max_depth': 5, 'reg_lambda': 0.0033752223192955884}. Best is trial 48 with value: 7.725578206610346.\u001b[0m\n",
      "\u001b[32m[I 2022-01-12 04:42:38,572]\u001b[0m Trial 56 finished with value: 9.781444241593503 and parameters: {'learning_rate': 0.030243286536937378, 'gamma': 9.633136851222428, 'alpha': 7.8475194333671014, 'max_depth': 9, 'reg_lambda': 0.004756476489948121}. Best is trial 48 with value: 7.725578206610346.\u001b[0m\n",
      "\u001b[32m[I 2022-01-12 04:42:39,335]\u001b[0m Trial 57 finished with value: 25.698798533704924 and parameters: {'learning_rate': 0.018333491983681578, 'gamma': 1.2016517322143612, 'alpha': 5.658427768577974, 'max_depth': 6, 'reg_lambda': 0.5112436202502221}. Best is trial 48 with value: 7.725578206610346.\u001b[0m\n",
      "\u001b[32m[I 2022-01-12 04:42:40,242]\u001b[0m Trial 58 finished with value: 38.71310036902394 and parameters: {'learning_rate': 0.013445533059809693, 'gamma': 9.009873838666088, 'alpha': 8.705130871871782, 'max_depth': 7, 'reg_lambda': 0.260619497028793}. Best is trial 48 with value: 7.725578206610346.\u001b[0m\n",
      "\u001b[32m[I 2022-01-12 04:42:41,235]\u001b[0m Trial 59 finished with value: 161.1626101658478 and parameters: {'learning_rate': 0.0012660896403787149, 'gamma': 9.587593945010049, 'alpha': 9.558811043722192, 'max_depth': 8, 'reg_lambda': 1.184810588494671}. Best is trial 48 with value: 7.725578206610346.\u001b[0m\n",
      "\u001b[32m[I 2022-01-12 04:42:41,873]\u001b[0m Trial 60 finished with value: 15.530912887763895 and parameters: {'learning_rate': 0.02432144005494602, 'gamma': 7.154783919884732, 'alpha': 6.740737964251, 'max_depth': 5, 'reg_lambda': 0.0012526546565978759}. Best is trial 48 with value: 7.725578206610346.\u001b[0m\n",
      "\u001b[32m[I 2022-01-12 04:42:43,197]\u001b[0m Trial 61 finished with value: 7.656781485969747 and parameters: {'learning_rate': 0.06702963432720291, 'gamma': 9.951455880693182, 'alpha': 8.1055330883534, 'max_depth': 9, 'reg_lambda': 0.0010654562830021885}. Best is trial 61 with value: 7.656781485969747.\u001b[0m\n",
      "\u001b[32m[I 2022-01-12 04:42:44,554]\u001b[0m Trial 62 finished with value: 7.568175882737517 and parameters: {'learning_rate': 0.043739758507479756, 'gamma': 9.22600422713172, 'alpha': 7.99577637857414, 'max_depth': 9, 'reg_lambda': 0.0010191041166090836}. Best is trial 62 with value: 7.568175882737517.\u001b[0m\n",
      "\u001b[32m[I 2022-01-12 04:42:45,877]\u001b[0m Trial 63 finished with value: 7.739649012776881 and parameters: {'learning_rate': 0.0681519997480045, 'gamma': 9.689341059206951, 'alpha': 8.051761617144209, 'max_depth': 9, 'reg_lambda': 0.0011904648089320947}. Best is trial 62 with value: 7.568175882737517.\u001b[0m\n",
      "\u001b[32m[I 2022-01-12 04:42:46,999]\u001b[0m Trial 64 finished with value: 7.598093600443248 and parameters: {'learning_rate': 0.09583537588598405, 'gamma': 9.745125634812622, 'alpha': 8.680351265827735, 'max_depth': 8, 'reg_lambda': 0.001252778980017303}. Best is trial 62 with value: 7.568175882737517.\u001b[0m\n",
      "\u001b[32m[I 2022-01-12 04:42:48,263]\u001b[0m Trial 65 finished with value: 7.743001294242596 and parameters: {'learning_rate': 0.10387021380838138, 'gamma': 9.314199736891165, 'alpha': 8.534118432446695, 'max_depth': 9, 'reg_lambda': 0.0011602496438869695}. Best is trial 62 with value: 7.568175882737517.\u001b[0m\n",
      "\u001b[32m[I 2022-01-12 04:42:49,524]\u001b[0m Trial 66 finished with value: 7.775751970449233 and parameters: {'learning_rate': 0.1045968363467322, 'gamma': 9.20582310978106, 'alpha': 7.51391667380356, 'max_depth': 9, 'reg_lambda': 0.001057966204358421}. Best is trial 62 with value: 7.568175882737517.\u001b[0m\n",
      "\u001b[32m[I 2022-01-12 04:42:50,790]\u001b[0m Trial 67 finished with value: 8.618434785777227 and parameters: {'learning_rate': 0.1579396083010564, 'gamma': 9.190533919843919, 'alpha': 1.9947227780114725, 'max_depth': 9, 'reg_lambda': 0.0011073076084305957}. Best is trial 62 with value: 7.568175882737517.\u001b[0m\n",
      "\u001b[32m[I 2022-01-12 04:42:51,990]\u001b[0m Trial 68 finished with value: 8.480422368828552 and parameters: {'learning_rate': 0.2678714873789758, 'gamma': 8.469452617021375, 'alpha': 7.493484329346311, 'max_depth': 9, 'reg_lambda': 0.0014462470905639868}. Best is trial 62 with value: 7.568175882737517.\u001b[0m\n",
      "\u001b[32m[I 2022-01-12 04:42:53,263]\u001b[0m Trial 69 finished with value: 7.818166458604095 and parameters: {'learning_rate': 0.09556963802440814, 'gamma': 9.207818409117719, 'alpha': 8.150002851637442, 'max_depth': 9, 'reg_lambda': 0.0010178608620386043}. Best is trial 62 with value: 7.568175882737517.\u001b[0m\n",
      "\u001b[32m[I 2022-01-12 04:42:54,284]\u001b[0m Trial 70 finished with value: 8.380747814293615 and parameters: {'learning_rate': 0.20037024610295365, 'gamma': 9.653255599525266, 'alpha': 7.094911740986631, 'max_depth': 8, 'reg_lambda': 0.002624779071034003}. Best is trial 62 with value: 7.568175882737517.\u001b[0m\n",
      "\u001b[32m[I 2022-01-12 04:42:55,522]\u001b[0m Trial 71 finished with value: 7.833955571395158 and parameters: {'learning_rate': 0.12036018767247611, 'gamma': 9.26244924226259, 'alpha': 8.1709169406481, 'max_depth': 9, 'reg_lambda': 0.0010811846998602444}. Best is trial 62 with value: 7.568175882737517.\u001b[0m\n",
      "\u001b[32m[I 2022-01-12 04:42:57,034]\u001b[0m Trial 72 finished with value: 7.886848263235816 and parameters: {'learning_rate': 0.09590495962732555, 'gamma': 8.924159082473444, 'alpha': 8.549645300659941, 'max_depth': 10, 'reg_lambda': 0.0010073777280073227}. Best is trial 62 with value: 7.568175882737517.\u001b[0m\n",
      "\u001b[32m[I 2022-01-12 04:42:58,079]\u001b[0m Trial 73 finished with value: 7.997776267867093 and parameters: {'learning_rate': 0.15530537888227602, 'gamma': 9.752689864329392, 'alpha': 8.08968438037652, 'max_depth': 8, 'reg_lambda': 0.0020442208816032186}. Best is trial 62 with value: 7.568175882737517.\u001b[0m\n",
      "\u001b[32m[I 2022-01-12 04:42:59,344]\u001b[0m Trial 74 finished with value: 7.922576187045488 and parameters: {'learning_rate': 0.09976746627879135, 'gamma': 8.645205608003849, 'alpha': 9.245719334478338, 'max_depth': 9, 'reg_lambda': 0.001465826742381735}. Best is trial 62 with value: 7.568175882737517.\u001b[0m\n",
      "\u001b[32m[I 2022-01-12 04:43:00,674]\u001b[0m Trial 75 finished with value: 7.570463070405731 and parameters: {'learning_rate': 0.06883387055551464, 'gamma': 9.270428918563107, 'alpha': 6.501907991142163, 'max_depth': 9, 'reg_lambda': 0.002342390458505887}. Best is trial 62 with value: 7.568175882737517.\u001b[0m\n",
      "\u001b[32m[I 2022-01-12 04:43:01,771]\u001b[0m Trial 76 finished with value: 172.9968481180214 and parameters: {'learning_rate': 0.0008046542277324345, 'gamma': 9.728842672043136, 'alpha': 6.387957950151066, 'max_depth': 8, 'reg_lambda': 0.0022556908366902955}. Best is trial 62 with value: 7.568175882737517.\u001b[0m\n",
      "\u001b[32m[I 2022-01-12 04:43:03,349]\u001b[0m Trial 77 finished with value: 7.860685722654302 and parameters: {'learning_rate': 0.06973639787181968, 'gamma': 8.172868471680065, 'alpha': 7.074237298671793, 'max_depth': 10, 'reg_lambda': 0.004054731990488501}. Best is trial 62 with value: 7.568175882737517.\u001b[0m\n",
      "\u001b[32m[I 2022-01-12 04:43:04,458]\u001b[0m Trial 78 finished with value: 7.395154007432398 and parameters: {'learning_rate': 0.053454186399053305, 'gamma': 4.600322053427288, 'alpha': 7.607572910163905, 'max_depth': 8, 'reg_lambda': 0.001498858927191367}. Best is trial 78 with value: 7.395154007432398.\u001b[0m\n",
      "\u001b[32m[I 2022-01-12 04:43:05,569]\u001b[0m Trial 79 finished with value: 7.287653570876068 and parameters: {'learning_rate': 0.056080577945524665, 'gamma': 4.242198858620817, 'alpha': 4.639578886179462, 'max_depth': 8, 'reg_lambda': 0.005694040612916927}. Best is trial 79 with value: 7.287653570876068.\u001b[0m\n",
      "\u001b[32m[I 2022-01-12 04:43:06,691]\u001b[0m Trial 80 finished with value: 7.3147089339353935 and parameters: {'learning_rate': 0.05464172943256993, 'gamma': 4.56938941311048, 'alpha': 4.296765703528396, 'max_depth': 8, 'reg_lambda': 0.0028373064542107393}. Best is trial 79 with value: 7.287653570876068.\u001b[0m\n",
      "\u001b[32m[I 2022-01-12 04:43:07,810]\u001b[0m Trial 81 finished with value: 7.310117207464057 and parameters: {'learning_rate': 0.054487297369898435, 'gamma': 4.306114989210141, 'alpha': 4.040722552242626, 'max_depth': 8, 'reg_lambda': 0.005786387828592856}. Best is trial 79 with value: 7.287653570876068.\u001b[0m\n",
      "\u001b[32m[I 2022-01-12 04:43:08,930]\u001b[0m Trial 82 finished with value: 7.403545986957365 and parameters: {'learning_rate': 0.05511184438337561, 'gamma': 4.643853034403116, 'alpha': 3.932817653341806, 'max_depth': 8, 'reg_lambda': 0.0029680503837380837}. Best is trial 79 with value: 7.287653570876068.\u001b[0m\n",
      "\u001b[32m[I 2022-01-12 04:43:10,047]\u001b[0m Trial 83 finished with value: 7.2759326923381025 and parameters: {'learning_rate': 0.05332620994818421, 'gamma': 4.496679063227187, 'alpha': 3.826658911393525, 'max_depth': 8, 'reg_lambda': 0.007087523004969118}. Best is trial 83 with value: 7.2759326923381025.\u001b[0m\n",
      "\u001b[32m[I 2022-01-12 04:43:11,175]\u001b[0m Trial 84 finished with value: 7.281440209283952 and parameters: {'learning_rate': 0.04958649386656898, 'gamma': 4.676719500993628, 'alpha': 4.054647376575625, 'max_depth': 8, 'reg_lambda': 0.005481140420134795}. Best is trial 83 with value: 7.2759326923381025.\u001b[0m\n",
      "\u001b[32m[I 2022-01-12 04:43:12,289]\u001b[0m Trial 85 finished with value: 7.461481994676415 and parameters: {'learning_rate': 0.05253535781224425, 'gamma': 4.60249148886887, 'alpha': 4.355596944738949, 'max_depth': 8, 'reg_lambda': 0.014375402498322143}. Best is trial 83 with value: 7.2759326923381025.\u001b[0m\n",
      "\u001b[32m[I 2022-01-12 04:43:13,412]\u001b[0m Trial 86 finished with value: 7.325501618294275 and parameters: {'learning_rate': 0.049720903388585244, 'gamma': 4.584972343219426, 'alpha': 3.5239618657833214, 'max_depth': 8, 'reg_lambda': 0.006541690912221862}. Best is trial 83 with value: 7.2759326923381025.\u001b[0m\n",
      "\u001b[32m[I 2022-01-12 04:43:14,532]\u001b[0m Trial 87 finished with value: 7.495221432720041 and parameters: {'learning_rate': 0.052917371845139546, 'gamma': 4.64806823837521, 'alpha': 4.036074786936254, 'max_depth': 8, 'reg_lambda': 0.0065411463766212}. Best is trial 83 with value: 7.2759326923381025.\u001b[0m\n",
      "\u001b[32m[I 2022-01-12 04:43:15,657]\u001b[0m Trial 88 finished with value: 17.077038896017 and parameters: {'learning_rate': 0.02212869747683586, 'gamma': 3.9998774363148097, 'alpha': 3.717438629430157, 'max_depth': 8, 'reg_lambda': 0.01514675385550969}. Best is trial 83 with value: 7.2759326923381025.\u001b[0m\n",
      "\u001b[32m[I 2022-01-12 04:43:16,586]\u001b[0m Trial 89 finished with value: 12.437085069745212 and parameters: {'learning_rate': 0.027501338131712516, 'gamma': 3.3788715538993586, 'alpha': 4.635109877816761, 'max_depth': 7, 'reg_lambda': 0.006838942247835749}. Best is trial 83 with value: 7.2759326923381025.\u001b[0m\n",
      "\u001b[32m[I 2022-01-12 04:43:17,364]\u001b[0m Trial 90 finished with value: 10.547878005266433 and parameters: {'learning_rate': 0.03107192501113822, 'gamma': 5.095426198140253, 'alpha': 4.239993449009665, 'max_depth': 6, 'reg_lambda': 0.02310828581090614}. Best is trial 83 with value: 7.2759326923381025.\u001b[0m\n",
      "\u001b[32m[I 2022-01-12 04:43:18,489]\u001b[0m Trial 91 finished with value: 7.473206130447493 and parameters: {'learning_rate': 0.05002515789135879, 'gamma': 4.686326041581758, 'alpha': 3.8307904367803163, 'max_depth': 8, 'reg_lambda': 0.010781576395820665}. Best is trial 83 with value: 7.2759326923381025.\u001b[0m\n",
      "\u001b[32m[I 2022-01-12 04:43:19,607]\u001b[0m Trial 92 finished with value: 7.160103317440021 and parameters: {'learning_rate': 0.05207536502852557, 'gamma': 4.502275297239194, 'alpha': 3.3168683621496244, 'max_depth': 8, 'reg_lambda': 0.014396970332465212}. Best is trial 92 with value: 7.160103317440021.\u001b[0m\n",
      "\u001b[32m[I 2022-01-12 04:43:20,523]\u001b[0m Trial 93 finished with value: 7.470625935534697 and parameters: {'learning_rate': 0.05493651561089047, 'gamma': 4.352203909331554, 'alpha': 3.3286361898982184, 'max_depth': 7, 'reg_lambda': 0.016440271013108184}. Best is trial 92 with value: 7.160103317440021.\u001b[0m\n",
      "\u001b[32m[I 2022-01-12 04:43:21,659]\u001b[0m Trial 94 finished with value: 9.8993351556602 and parameters: {'learning_rate': 0.03036859102576248, 'gamma': 5.564721666877954, 'alpha': 5.1033776887914435, 'max_depth': 8, 'reg_lambda': 0.006738812712402455}. Best is trial 92 with value: 7.160103317440021.\u001b[0m\n",
      "\u001b[32m[I 2022-01-12 04:43:22,788]\u001b[0m Trial 95 finished with value: 7.39420799881951 and parameters: {'learning_rate': 0.0464106628597842, 'gamma': 3.6737892372232457, 'alpha': 3.443235740993266, 'max_depth': 8, 'reg_lambda': 0.009215276579244931}. Best is trial 92 with value: 7.160103317440021.\u001b[0m\n",
      "\u001b[32m[I 2022-01-12 04:43:23,709]\u001b[0m Trial 96 finished with value: 7.5694594554685395 and parameters: {'learning_rate': 0.0447017481058008, 'gamma': 3.5708207620686028, 'alpha': 2.8461807819082012, 'max_depth': 7, 'reg_lambda': 0.0044910320335933675}. Best is trial 92 with value: 7.160103317440021.\u001b[0m\n",
      "\u001b[32m[I 2022-01-12 04:43:24,795]\u001b[0m Trial 97 finished with value: 7.591448246557847 and parameters: {'learning_rate': 0.07752401622685964, 'gamma': 4.152545549960816, 'alpha': 3.3601881886400946, 'max_depth': 8, 'reg_lambda': 0.009891202101004847}. Best is trial 92 with value: 7.160103317440021.\u001b[0m\n",
      "\u001b[32m[I 2022-01-12 04:43:25,715]\u001b[0m Trial 98 finished with value: 20.272531953743453 and parameters: {'learning_rate': 0.020710339596617593, 'gamma': 5.440896300519841, 'alpha': 4.8603803274850765, 'max_depth': 7, 'reg_lambda': 0.0031651960233656374}. Best is trial 92 with value: 7.160103317440021.\u001b[0m\n",
      "\u001b[32m[I 2022-01-12 04:43:26,840]\u001b[0m Trial 99 finished with value: 9.390327751960273 and parameters: {'learning_rate': 0.03134207669971577, 'gamma': 4.912740326876386, 'alpha': 3.932041019689319, 'max_depth': 8, 'reg_lambda': 0.005773725555312636}. Best is trial 92 with value: 7.160103317440021.\u001b[0m\n",
      "\u001b[32m[I 2022-01-12 04:43:27,774]\u001b[0m Trial 100 finished with value: 30.60571484575916 and parameters: {'learning_rate': 0.015945096772409077, 'gamma': 3.1710300738362593, 'alpha': 2.382210335096599, 'max_depth': 7, 'reg_lambda': 0.008359884935483524}. Best is trial 92 with value: 7.160103317440021.\u001b[0m\n",
      "\u001b[32m[I 2022-01-12 04:43:28,888]\u001b[0m Trial 101 finished with value: 7.222129571315793 and parameters: {'learning_rate': 0.059731514021054734, 'gamma': 4.411856652865299, 'alpha': 4.299465133702692, 'max_depth': 8, 'reg_lambda': 0.013642273668941527}. Best is trial 92 with value: 7.160103317440021.\u001b[0m\n",
      "\u001b[32m[I 2022-01-12 04:43:30,004]\u001b[0m Trial 102 finished with value: 7.171269762706791 and parameters: {'learning_rate': 0.05698663676418249, 'gamma': 4.382719327952664, 'alpha': 3.4456937471316484, 'max_depth': 8, 'reg_lambda': 0.012310667782536857}. Best is trial 92 with value: 7.160103317440021.\u001b[0m\n",
      "\u001b[32m[I 2022-01-12 04:43:31,131]\u001b[0m Trial 103 finished with value: 7.905960425454553 and parameters: {'learning_rate': 0.03744080034445402, 'gamma': 3.714027771358924, 'alpha': 3.4581422359570797, 'max_depth': 8, 'reg_lambda': 0.012227475170804986}. Best is trial 92 with value: 7.160103317440021.\u001b[0m\n",
      "\u001b[32m[I 2022-01-12 04:43:32,248]\u001b[0m Trial 104 finished with value: 7.315365304838897 and parameters: {'learning_rate': 0.061486264172452565, 'gamma': 4.304413572080783, 'alpha': 3.1678196651764323, 'max_depth': 8, 'reg_lambda': 0.018099126542421295}. Best is trial 92 with value: 7.160103317440021.\u001b[0m\n",
      "\u001b[32m[I 2022-01-12 04:43:33,157]\u001b[0m Trial 105 finished with value: 7.730144778387834 and parameters: {'learning_rate': 0.0835041041027872, 'gamma': 4.348475078274253, 'alpha': 3.138765322004227, 'max_depth': 7, 'reg_lambda': 0.018060892530803105}. Best is trial 92 with value: 7.160103317440021.\u001b[0m\n",
      "\u001b[32m[I 2022-01-12 04:43:33,913]\u001b[0m Trial 106 finished with value: 139.31535005887844 and parameters: {'learning_rate': 0.0022013790138971307, 'gamma': 4.160324056275487, 'alpha': 4.251264209579504, 'max_depth': 6, 'reg_lambda': 0.007866613822707782}. Best is trial 92 with value: 7.160103317440021.\u001b[0m\n",
      "\u001b[32m[I 2022-01-12 04:43:35,037]\u001b[0m Trial 107 finished with value: 7.503426821847238 and parameters: {'learning_rate': 0.042778219166452705, 'gamma': 2.9567495576136458, 'alpha': 3.630000074331732, 'max_depth': 8, 'reg_lambda': 0.019059343877477968}. Best is trial 92 with value: 7.160103317440021.\u001b[0m\n",
      "\u001b[32m[I 2022-01-12 04:43:36,145]\u001b[0m Trial 108 finished with value: 7.287419681288554 and parameters: {'learning_rate': 0.06011520294979253, 'gamma': 4.918578112195248, 'alpha': 2.741278746840541, 'max_depth': 8, 'reg_lambda': 0.027899780035863044}. Best is trial 92 with value: 7.160103317440021.\u001b[0m\n",
      "\u001b[32m[I 2022-01-12 04:43:37,042]\u001b[0m Trial 109 finished with value: 7.7612872432850075 and parameters: {'learning_rate': 0.08239894139086203, 'gamma': 4.91106269107431, 'alpha': 2.218065297867571, 'max_depth': 7, 'reg_lambda': 0.05243238615464184}. Best is trial 92 with value: 7.160103317440021.\u001b[0m\n",
      "\u001b[32m[I 2022-01-12 04:43:37,955]\u001b[0m Trial 110 finished with value: 7.2733416543638585 and parameters: {'learning_rate': 0.06032718932460545, 'gamma': 5.353763352441688, 'alpha': 2.825493555449306, 'max_depth': 7, 'reg_lambda': 0.024282063325592337}. Best is trial 92 with value: 7.160103317440021.\u001b[0m\n",
      "\u001b[32m[I 2022-01-12 04:43:38,867]\u001b[0m Trial 111 finished with value: 7.336531333106971 and parameters: {'learning_rate': 0.061115028183720624, 'gamma': 5.80217275283312, 'alpha': 2.7777038253445983, 'max_depth': 7, 'reg_lambda': 0.023037690703805368}. Best is trial 92 with value: 7.160103317440021.\u001b[0m\n",
      "\u001b[32m[I 2022-01-12 04:43:39,986]\u001b[0m Trial 112 finished with value: 8.625622196810006 and parameters: {'learning_rate': 0.0341500102953643, 'gamma': 5.238976200751859, 'alpha': 3.0931863835953264, 'max_depth': 8, 'reg_lambda': 0.029099665457542275}. Best is trial 92 with value: 7.160103317440021.\u001b[0m\n",
      "\u001b[32m[I 2022-01-12 04:43:40,856]\u001b[0m Trial 113 finished with value: 8.210449099629734 and parameters: {'learning_rate': 0.13545496254956882, 'gamma': 4.451417373183003, 'alpha': 4.7688083800681165, 'max_depth': 7, 'reg_lambda': 0.047741006012756375}. Best is trial 92 with value: 7.160103317440021.\u001b[0m\n",
      "\u001b[32m[I 2022-01-12 04:43:42,222]\u001b[0m Trial 114 finished with value: 7.710625528019639 and parameters: {'learning_rate': 0.061657024483631785, 'gamma': 4.0949359167803365, 'alpha': 4.103206021503693, 'max_depth': 9, 'reg_lambda': 0.005116030369882163}. Best is trial 92 with value: 7.160103317440021.\u001b[0m\n",
      "\u001b[32m[I 2022-01-12 04:43:42,993]\u001b[0m Trial 115 finished with value: 15.147801491082689 and parameters: {'learning_rate': 0.02511056998434114, 'gamma': 3.8384497183857267, 'alpha': 2.715509683505854, 'max_depth': 6, 'reg_lambda': 0.012624717429850501}. Best is trial 92 with value: 7.160103317440021.\u001b[0m\n",
      "\u001b[32m[I 2022-01-12 04:43:44,053]\u001b[0m Trial 116 finished with value: 7.808809155456693 and parameters: {'learning_rate': 0.11718697489381694, 'gamma': 5.006630942217521, 'alpha': 1.9169069866023707, 'max_depth': 8, 'reg_lambda': 0.0036889379436555805}. Best is trial 92 with value: 7.160103317440021.\u001b[0m\n",
      "\u001b[32m[I 2022-01-12 04:43:45,372]\u001b[0m Trial 117 finished with value: 7.663467914550577 and parameters: {'learning_rate': 0.07528734307786258, 'gamma': 5.446078329284373, 'alpha': 4.450254727990032, 'max_depth': 9, 'reg_lambda': 0.03188973486786496}. Best is trial 92 with value: 7.160103317440021.\u001b[0m\n",
      "\u001b[32m[I 2022-01-12 04:43:46,451]\u001b[0m Trial 118 finished with value: 7.596818276444396 and parameters: {'learning_rate': 0.0871173082657394, 'gamma': 4.831138923119416, 'alpha': 5.179665922455427, 'max_depth': 8, 'reg_lambda': 0.007256947566166689}. Best is trial 92 with value: 7.160103317440021.\u001b[0m\n",
      "\u001b[32m[I 2022-01-12 04:43:47,583]\u001b[0m Trial 119 finished with value: 7.840129699717305 and parameters: {'learning_rate': 0.03818452705883733, 'gamma': 6.219297447564334, 'alpha': 2.9342900474913267, 'max_depth': 8, 'reg_lambda': 0.010330225861033554}. Best is trial 92 with value: 7.160103317440021.\u001b[0m\n",
      "\u001b[32m[I 2022-01-12 04:43:48,492]\u001b[0m Trial 120 finished with value: 7.538892106898136 and parameters: {'learning_rate': 0.06379218275776795, 'gamma': 5.172835506299784, 'alpha': 3.638699484310522, 'max_depth': 7, 'reg_lambda': 0.013838012359909039}. Best is trial 92 with value: 7.160103317440021.\u001b[0m\n",
      "\u001b[32m[I 2022-01-12 04:43:49,400]\u001b[0m Trial 121 finished with value: 7.666914357628028 and parameters: {'learning_rate': 0.06362068095312419, 'gamma': 5.810444085657408, 'alpha': 2.486042442005995, 'max_depth': 7, 'reg_lambda': 0.022750536463906696}. Best is trial 92 with value: 7.160103317440021.\u001b[0m\n",
      "\u001b[32m[I 2022-01-12 04:43:50,320]\u001b[0m Trial 122 finished with value: 7.578058912326527 and parameters: {'learning_rate': 0.046644737875604116, 'gamma': 5.713111696844016, 'alpha': 2.794298194314633, 'max_depth': 7, 'reg_lambda': 0.021229544718548033}. Best is trial 92 with value: 7.160103317440021.\u001b[0m\n",
      "\u001b[32m[I 2022-01-12 04:43:51,238]\u001b[0m Trial 123 finished with value: 7.481205878670501 and parameters: {'learning_rate': 0.06030879905425673, 'gamma': 4.457846498639285, 'alpha': 3.8193495768324204, 'max_depth': 7, 'reg_lambda': 0.025912704853572156}. Best is trial 92 with value: 7.160103317440021.\u001b[0m\n",
      "\u001b[32m[I 2022-01-12 04:43:52,366]\u001b[0m Trial 124 finished with value: 7.645602278531376 and parameters: {'learning_rate': 0.03945814865809523, 'gamma': 4.15131398341523, 'alpha': 3.1678394090796407, 'max_depth': 8, 'reg_lambda': 0.0057767002135296975}. Best is trial 92 with value: 7.160103317440021.\u001b[0m\n",
      "\u001b[32m[I 2022-01-12 04:43:53,724]\u001b[0m Trial 125 finished with value: 7.587660486841943 and parameters: {'learning_rate': 0.058053489012184774, 'gamma': 5.979343709775628, 'alpha': 1.5265050348282232, 'max_depth': 9, 'reg_lambda': 0.04239325126011271}. Best is trial 92 with value: 7.160103317440021.\u001b[0m\n",
      "\u001b[32m[I 2022-01-12 04:43:54,821]\u001b[0m Trial 126 finished with value: 7.583280138178108 and parameters: {'learning_rate': 0.07260786523050405, 'gamma': 3.953548075234751, 'alpha': 4.141203427055997, 'max_depth': 8, 'reg_lambda': 0.016865378940200067}. Best is trial 92 with value: 7.160103317440021.\u001b[0m\n",
      "\u001b[32m[I 2022-01-12 04:43:55,895]\u001b[0m Trial 127 finished with value: 7.469102670552038 and parameters: {'learning_rate': 0.08934561106038366, 'gamma': 5.331260474708487, 'alpha': 3.312430144631415, 'max_depth': 8, 'reg_lambda': 0.011264131331416495}. Best is trial 92 with value: 7.160103317440021.\u001b[0m\n",
      "\u001b[32m[I 2022-01-12 04:43:56,821]\u001b[0m Trial 128 finished with value: 9.22962321307131 and parameters: {'learning_rate': 0.03338795974196418, 'gamma': 4.255122922378482, 'alpha': 4.561266264261699, 'max_depth': 7, 'reg_lambda': 0.004396981148383907}. Best is trial 92 with value: 7.160103317440021.\u001b[0m\n",
      "\u001b[32m[I 2022-01-12 04:43:57,584]\u001b[0m Trial 129 finished with value: 7.643874712408584 and parameters: {'learning_rate': 0.048791535770198284, 'gamma': 4.756827845545474, 'alpha': 3.5714974709880907, 'max_depth': 6, 'reg_lambda': 0.00907364341146561}. Best is trial 92 with value: 7.160103317440021.\u001b[0m\n",
      "\u001b[32m[I 2022-01-12 04:43:58,931]\u001b[0m Trial 130 finished with value: 7.676388393936374 and parameters: {'learning_rate': 0.04238788091277799, 'gamma': 4.4989237167669955, 'alpha': 5.579042795650032, 'max_depth': 9, 'reg_lambda': 0.03453862299878143}. Best is trial 92 with value: 7.160103317440021.\u001b[0m\n",
      "\u001b[32m[I 2022-01-12 04:44:00,059]\u001b[0m Trial 131 finished with value: 7.321467700575142 and parameters: {'learning_rate': 0.04361999858918785, 'gamma': 3.4527724734728498, 'alpha': 2.5717326769058646, 'max_depth': 8, 'reg_lambda': 0.009220198784114581}. Best is trial 92 with value: 7.160103317440021.\u001b[0m\n",
      "\u001b[32m[I 2022-01-12 04:44:01,161]\u001b[0m Trial 132 finished with value: 7.6029487954914 and parameters: {'learning_rate': 0.06978814294368277, 'gamma': 2.614354590063586, 'alpha': 3.048730573363371, 'max_depth': 8, 'reg_lambda': 0.005989898565010152}. Best is trial 92 with value: 7.160103317440021.\u001b[0m\n",
      "\u001b[32m[I 2022-01-12 04:44:02,280]\u001b[0m Trial 133 finished with value: 7.284989856083319 and parameters: {'learning_rate': 0.054167965590324184, 'gamma': 3.5202506317775093, 'alpha': 2.256898477541401, 'max_depth': 8, 'reg_lambda': 0.014011384668494834}. Best is trial 92 with value: 7.160103317440021.\u001b[0m\n",
      "\u001b[32m[I 2022-01-12 04:44:03,404]\u001b[0m Trial 134 finished with value: 11.46607653462768 and parameters: {'learning_rate': 0.02765394186087544, 'gamma': 3.335805105969787, 'alpha': 2.300433901831708, 'max_depth': 8, 'reg_lambda': 0.00779211074410297}. Best is trial 92 with value: 7.160103317440021.\u001b[0m\n",
      "\u001b[32m[I 2022-01-12 04:44:04,766]\u001b[0m Trial 135 finished with value: 7.649968818015679 and parameters: {'learning_rate': 0.05285633825087626, 'gamma': 3.6046389615611805, 'alpha': 2.597563737677226, 'max_depth': 9, 'reg_lambda': 0.014228559749173652}. Best is trial 92 with value: 7.160103317440021.\u001b[0m\n",
      "\u001b[32m[I 2022-01-12 04:44:05,892]\u001b[0m Trial 136 finished with value: 7.295809340343365 and parameters: {'learning_rate': 0.04630212501845903, 'gamma': 3.85525787290861, 'alpha': 2.038474847495076, 'max_depth': 8, 'reg_lambda': 0.010831349589058762}. Best is trial 92 with value: 7.160103317440021.\u001b[0m\n",
      "\u001b[32m[I 2022-01-12 04:44:07,019]\u001b[0m Trial 137 finished with value: 7.530565243169575 and parameters: {'learning_rate': 0.041135810495636756, 'gamma': 3.851539520302122, 'alpha': 2.041772820598248, 'max_depth': 8, 'reg_lambda': 0.0115679277985803}. Best is trial 92 with value: 7.160103317440021.\u001b[0m\n",
      "\u001b[32m[I 2022-01-12 04:44:08,086]\u001b[0m Trial 138 finished with value: 7.533579455645306 and parameters: {'learning_rate': 0.10822573727118849, 'gamma': 4.306403149890547, 'alpha': 4.94925997722957, 'max_depth': 8, 'reg_lambda': 0.017961514737685255}. Best is trial 92 with value: 7.160103317440021.\u001b[0m\n",
      "\u001b[32m[I 2022-01-12 04:44:09,429]\u001b[0m Trial 139 finished with value: 7.865820013759373 and parameters: {'learning_rate': 0.07789024586660136, 'gamma': 2.9839858165084676, 'alpha': 1.0727408759880406, 'max_depth': 9, 'reg_lambda': 0.014337842720321362}. Best is trial 92 with value: 7.160103317440021.\u001b[0m\n",
      "\u001b[32m[I 2022-01-12 04:44:10,551]\u001b[0m Trial 140 finished with value: 180.00855305629838 and parameters: {'learning_rate': 0.0005702277928419792, 'gamma': 3.987916228176922, 'alpha': 1.6167873525104917, 'max_depth': 8, 'reg_lambda': 0.004838658283872635}. Best is trial 92 with value: 7.160103317440021.\u001b[0m\n",
      "\u001b[32m[I 2022-01-12 04:44:11,671]\u001b[0m Trial 141 finished with value: 7.377021320573187 and parameters: {'learning_rate': 0.04936753945230046, 'gamma': 4.812670800118734, 'alpha': 2.560979243581354, 'max_depth': 8, 'reg_lambda': 0.009590161472951754}. Best is trial 92 with value: 7.160103317440021.\u001b[0m\n",
      "\u001b[32m[I 2022-01-12 04:44:12,800]\u001b[0m Trial 142 finished with value: 8.459213029233565 and parameters: {'learning_rate': 0.03483247763854312, 'gamma': 3.482904108856633, 'alpha': 4.38604630291293, 'max_depth': 8, 'reg_lambda': 0.006580106832979877}. Best is trial 92 with value: 7.160103317440021.\u001b[0m\n",
      "\u001b[32m[I 2022-01-12 04:44:14,161]\u001b[0m Trial 143 finished with value: 7.604617198475419 and parameters: {'learning_rate': 0.05635523033477587, 'gamma': 4.477102903643981, 'alpha': 3.9491699967583873, 'max_depth': 9, 'reg_lambda': 0.0037428997668577982}. Best is trial 92 with value: 7.160103317440021.\u001b[0m\n",
      "\u001b[32m[I 2022-01-12 04:44:15,294]\u001b[0m Trial 144 finished with value: 7.276147776079268 and parameters: {'learning_rate': 0.04453536846168357, 'gamma': 3.831387884299376, 'alpha': 1.7288529979153897, 'max_depth': 8, 'reg_lambda': 0.008336091274506798}. Best is trial 92 with value: 7.160103317440021.\u001b[0m\n",
      "\u001b[32m[I 2022-01-12 04:44:16,425]\u001b[0m Trial 145 finished with value: 7.4875394006746046 and parameters: {'learning_rate': 0.04059820930919009, 'gamma': 3.171645964654293, 'alpha': 1.8585891248138493, 'max_depth': 8, 'reg_lambda': 0.008312438868557597}. Best is trial 92 with value: 7.160103317440021.\u001b[0m\n",
      "\u001b[32m[I 2022-01-12 04:44:17,350]\u001b[0m Trial 146 finished with value: 15.660390618375688 and parameters: {'learning_rate': 0.023984594856895997, 'gamma': 3.7346872369935897, 'alpha': 2.082023166728683, 'max_depth': 7, 'reg_lambda': 0.012138475451444494}. Best is trial 92 with value: 7.160103317440021.\u001b[0m\n",
      "\u001b[32m[I 2022-01-12 04:44:18,456]\u001b[0m Trial 147 finished with value: 7.467249133412951 and parameters: {'learning_rate': 0.07264706566614523, 'gamma': 4.998134015216818, 'alpha': 1.0741722671383478, 'max_depth': 8, 'reg_lambda': 0.01653006935597273}. Best is trial 92 with value: 7.160103317440021.\u001b[0m\n",
      "\u001b[32m[I 2022-01-12 04:44:19,784]\u001b[0m Trial 148 finished with value: 8.106684367446638 and parameters: {'learning_rate': 0.0863072102325704, 'gamma': 4.268845893011021, 'alpha': 1.68877870877284, 'max_depth': 9, 'reg_lambda': 0.01979664535877553}. Best is trial 92 with value: 7.160103317440021.\u001b[0m\n",
      "\u001b[32m[I 2022-01-12 04:44:20,937]\u001b[0m Trial 149 finished with value: 9.55181657796363 and parameters: {'learning_rate': 0.031309877710622505, 'gamma': 3.8804460742654445, 'alpha': 2.3518857893206313, 'max_depth': 8, 'reg_lambda': 0.0617395993314274}. Best is trial 92 with value: 7.160103317440021.\u001b[0m\n",
      "\u001b[32m[I 2022-01-12 04:44:21,862]\u001b[0m Trial 150 finished with value: 7.512234092313977 and parameters: {'learning_rate': 0.05952028976414134, 'gamma': 3.9773278848130555, 'alpha': 4.750065224938235, 'max_depth': 7, 'reg_lambda': 0.02716693615548476}. Best is trial 92 with value: 7.160103317440021.\u001b[0m\n",
      "\u001b[32m[I 2022-01-12 04:44:23,021]\u001b[0m Trial 151 finished with value: 7.317146089388092 and parameters: {'learning_rate': 0.0468206544146086, 'gamma': 4.6319666778529385, 'alpha': 1.433326907417059, 'max_depth': 8, 'reg_lambda': 0.00509371339624982}. Best is trial 92 with value: 7.160103317440021.\u001b[0m\n",
      "\u001b[32m[I 2022-01-12 04:44:24,198]\u001b[0m Trial 152 finished with value: 7.431126795092495 and parameters: {'learning_rate': 0.04596506238591801, 'gamma': 4.736853052004272, 'alpha': 1.3223774402409167, 'max_depth': 8, 'reg_lambda': 0.005030870251766336}. Best is trial 92 with value: 7.160103317440021.\u001b[0m\n",
      "\u001b[32m[I 2022-01-12 04:44:25,324]\u001b[0m Trial 153 finished with value: 7.4785160771936265 and parameters: {'learning_rate': 0.06628298167492666, 'gamma': 2.6213085075677958, 'alpha': 0.8564768243150314, 'max_depth': 8, 'reg_lambda': 0.009712733628012192}. Best is trial 92 with value: 7.160103317440021.\u001b[0m\n",
      "\u001b[32m[I 2022-01-12 04:44:26,474]\u001b[0m Trial 154 finished with value: 8.08421992636233 and parameters: {'learning_rate': 0.036359325068466376, 'gamma': 5.07266802055636, 'alpha': 2.943662402268022, 'max_depth': 8, 'reg_lambda': 0.007583156577761042}. Best is trial 92 with value: 7.160103317440021.\u001b[0m\n",
      "\u001b[32m[I 2022-01-12 04:44:27,616]\u001b[0m Trial 155 finished with value: 94.53531033952686 and parameters: {'learning_rate': 0.004945679772228707, 'gamma': 4.1715599974216895, 'alpha': 1.7893932640185368, 'max_depth': 8, 'reg_lambda': 0.004183776594600884}. Best is trial 92 with value: 7.160103317440021.\u001b[0m\n",
      "\u001b[32m[I 2022-01-12 04:44:29,031]\u001b[0m Trial 156 finished with value: 7.665718448492679 and parameters: {'learning_rate': 0.052364391232240466, 'gamma': 4.405465717017489, 'alpha': 1.4669457980805107, 'max_depth': 9, 'reg_lambda': 0.002626044412030546}. Best is trial 92 with value: 7.160103317440021.\u001b[0m\n",
      "\u001b[32m[I 2022-01-12 04:44:29,973]\u001b[0m Trial 157 finished with value: 7.889327905863467 and parameters: {'learning_rate': 0.04036528014541773, 'gamma': 3.3627053945989354, 'alpha': 3.282338289605467, 'max_depth': 7, 'reg_lambda': 0.013529495191632306}. Best is trial 92 with value: 7.160103317440021.\u001b[0m\n",
      "\u001b[32m[I 2022-01-12 04:44:30,995]\u001b[0m Trial 158 finished with value: 10.302088043029457 and parameters: {'learning_rate': 0.4881361408852901, 'gamma': 4.577604272389385, 'alpha': 2.1910474711364705, 'max_depth': 8, 'reg_lambda': 0.0031388200411432915}. Best is trial 92 with value: 7.160103317440021.\u001b[0m\n",
      "\u001b[32m[I 2022-01-12 04:44:31,439]\u001b[0m Trial 159 finished with value: 16.132361708592995 and parameters: {'learning_rate': 0.047215541051159604, 'gamma': 3.6880026041813023, 'alpha': 3.7932371356011085, 'max_depth': 3, 'reg_lambda': 0.010486234398508673}. Best is trial 92 with value: 7.160103317440021.\u001b[0m\n",
      "\u001b[32m[I 2022-01-12 04:44:32,363]\u001b[0m Trial 160 finished with value: 7.691589288825805 and parameters: {'learning_rate': 0.06069050023778724, 'gamma': 4.076561726186795, 'alpha': 4.187267364391225, 'max_depth': 7, 'reg_lambda': 0.008206059019111308}. Best is trial 92 with value: 7.160103317440021.\u001b[0m\n",
      "\u001b[32m[I 2022-01-12 04:44:33,503]\u001b[0m Trial 161 finished with value: 7.350557648835709 and parameters: {'learning_rate': 0.048286474935933105, 'gamma': 4.85991938274688, 'alpha': 3.5576960710651924, 'max_depth': 8, 'reg_lambda': 0.006048236146857776}. Best is trial 92 with value: 7.160103317440021.\u001b[0m\n",
      "\u001b[32m[I 2022-01-12 04:44:34,622]\u001b[0m Trial 162 finished with value: 7.4802586872977335 and parameters: {'learning_rate': 0.07346851680301451, 'gamma': 4.639817163711043, 'alpha': 2.4766424097183695, 'max_depth': 8, 'reg_lambda': 0.005063006981553096}. Best is trial 92 with value: 7.160103317440021.\u001b[0m\n",
      "\u001b[32m[I 2022-01-12 04:44:35,940]\u001b[0m Trial 163 finished with value: 7.963961101004186 and parameters: {'learning_rate': 0.09390074607654124, 'gamma': 4.3238686795521115, 'alpha': 2.6736046291727718, 'max_depth': 9, 'reg_lambda': 0.012500054349435739}. Best is trial 92 with value: 7.160103317440021.\u001b[0m\n",
      "\u001b[32m[I 2022-01-12 04:44:37,056]\u001b[0m Trial 164 finished with value: 7.290737539631975 and parameters: {'learning_rate': 0.054708619384347894, 'gamma': 5.220179724217071, 'alpha': 3.461675206553199, 'max_depth': 8, 'reg_lambda': 0.005668158509903384}. Best is trial 92 with value: 7.160103317440021.\u001b[0m\n",
      "\u001b[32m[I 2022-01-12 04:44:38,180]\u001b[0m Trial 165 finished with value: 7.287215990676915 and parameters: {'learning_rate': 0.056967200198613004, 'gamma': 5.302603663738645, 'alpha': 3.2164274261756294, 'max_depth': 8, 'reg_lambda': 0.007092655088854346}. Best is trial 92 with value: 7.160103317440021.\u001b[0m\n",
      "\u001b[32m[I 2022-01-12 04:44:39,302]\u001b[0m Trial 166 finished with value: 7.29317396542518 and parameters: {'learning_rate': 0.058973693594374, 'gamma': 5.274628720703132, 'alpha': 3.2547231909314682, 'max_depth': 8, 'reg_lambda': 0.007176528482409489}. Best is trial 92 with value: 7.160103317440021.\u001b[0m\n",
      "\u001b[32m[I 2022-01-12 04:44:40,230]\u001b[0m Trial 167 finished with value: 7.6078220465596065 and parameters: {'learning_rate': 0.05948671176959397, 'gamma': 5.269849068896757, 'alpha': 3.2249293156935286, 'max_depth': 7, 'reg_lambda': 0.006547010460562716}. Best is trial 92 with value: 7.160103317440021.\u001b[0m\n",
      "\u001b[32m[I 2022-01-12 04:44:41,333]\u001b[0m Trial 168 finished with value: 7.51439734983986 and parameters: {'learning_rate': 0.08230561952573139, 'gamma': 5.583816445152694, 'alpha': 3.7301295127700227, 'max_depth': 8, 'reg_lambda': 0.015137971758713318}. Best is trial 92 with value: 7.160103317440021.\u001b[0m\n",
      "\u001b[32m[I 2022-01-12 04:44:42,698]\u001b[0m Trial 169 finished with value: 7.5671121955002 and parameters: {'learning_rate': 0.06914417114254731, 'gamma': 5.076431956826268, 'alpha': 2.918955852079514, 'max_depth': 9, 'reg_lambda': 0.007409885800224969}. Best is trial 92 with value: 7.160103317440021.\u001b[0m\n",
      "\u001b[32m[I 2022-01-12 04:44:43,764]\u001b[0m Trial 170 finished with value: 7.471604689312282 and parameters: {'learning_rate': 0.11072047333161558, 'gamma': 4.9440036949353, 'alpha': 3.453990911064446, 'max_depth': 8, 'reg_lambda': 0.021101043290160666}. Best is trial 92 with value: 7.160103317440021.\u001b[0m\n",
      "\u001b[32m[I 2022-01-12 04:44:44,884]\u001b[0m Trial 171 finished with value: 7.2870969508918915 and parameters: {'learning_rate': 0.05415146472772084, 'gamma': 5.341129460037151, 'alpha': 3.1527262739854933, 'max_depth': 8, 'reg_lambda': 0.003734386485030651}. Best is trial 92 with value: 7.160103317440021.\u001b[0m\n",
      "\u001b[32m[I 2022-01-12 04:44:46,008]\u001b[0m Trial 172 finished with value: 7.175763199102714 and parameters: {'learning_rate': 0.05473851322006338, 'gamma': 5.236526945113787, 'alpha': 3.1082463654868033, 'max_depth': 8, 'reg_lambda': 0.0032131705639952333}. Best is trial 92 with value: 7.160103317440021.\u001b[0m\n",
      "\u001b[32m[I 2022-01-12 04:44:47,182]\u001b[0m Trial 173 finished with value: 7.29020501137138 and parameters: {'learning_rate': 0.05485792437202183, 'gamma': 5.3754082860639, 'alpha': 4.311446679506254, 'max_depth': 8, 'reg_lambda': 0.0036257566699023315}. Best is trial 92 with value: 7.160103317440021.\u001b[0m\n",
      "\u001b[32m[I 2022-01-12 04:44:48,298]\u001b[0m Trial 174 finished with value: 7.346651087355148 and parameters: {'learning_rate': 0.05533401419283893, 'gamma': 5.2988994861576515, 'alpha': 3.0404750598466825, 'max_depth': 8, 'reg_lambda': 0.0037380173006749612}. Best is trial 92 with value: 7.160103317440021.\u001b[0m\n",
      "\u001b[32m[I 2022-01-12 04:44:49,397]\u001b[0m Trial 175 finished with value: 7.312782169962209 and parameters: {'learning_rate': 0.07080595304895528, 'gamma': 5.6611375580093455, 'alpha': 4.016213143376481, 'max_depth': 8, 'reg_lambda': 0.0034233854488718834}. Best is trial 92 with value: 7.160103317440021.\u001b[0m\n",
      "\u001b[32m[I 2022-01-12 04:44:50,773]\u001b[0m Trial 176 finished with value: 7.980175223010129 and parameters: {'learning_rate': 0.0366622839161684, 'gamma': 5.960814545302641, 'alpha': 3.3487711188149936, 'max_depth': 9, 'reg_lambda': 0.004535516706593635}. Best is trial 92 with value: 7.160103317440021.\u001b[0m\n",
      "\u001b[32m[I 2022-01-12 04:44:51,699]\u001b[0m Trial 177 finished with value: 10.47095264123203 and parameters: {'learning_rate': 0.030781513624789498, 'gamma': 5.350488607151364, 'alpha': 4.495514723241132, 'max_depth': 7, 'reg_lambda': 0.0061024463206977315}. Best is trial 92 with value: 7.160103317440021.\u001b[0m\n",
      "\u001b[32m[I 2022-01-12 04:44:52,813]\u001b[0m Trial 178 finished with value: 7.283696133564635 and parameters: {'learning_rate': 0.05282575810474496, 'gamma': 5.497264789088806, 'alpha': 3.720351370317323, 'max_depth': 8, 'reg_lambda': 0.0025407489515584503}. Best is trial 92 with value: 7.160103317440021.\u001b[0m\n",
      "\u001b[32m[I 2022-01-12 04:44:53,899]\u001b[0m Trial 179 finished with value: 7.65671644377644 and parameters: {'learning_rate': 0.08573737989974896, 'gamma': 5.554937772218487, 'alpha': 3.6766367357794305, 'max_depth': 8, 'reg_lambda': 0.0023350668403129085}. Best is trial 92 with value: 7.160103317440021.\u001b[0m\n",
      "\u001b[32m[I 2022-01-12 04:44:55,274]\u001b[0m Trial 180 finished with value: 7.617760192842484 and parameters: {'learning_rate': 0.041989305309449304, 'gamma': 5.4473139639654695, 'alpha': 2.786720026846854, 'max_depth': 9, 'reg_lambda': 0.001952017031040837}. Best is trial 92 with value: 7.160103317440021.\u001b[0m\n",
      "\u001b[32m[I 2022-01-12 04:44:56,377]\u001b[0m Trial 181 finished with value: 194.9274051955104 and parameters: {'learning_rate': 0.00012164433028175506, 'gamma': 5.184912119076048, 'alpha': 3.4841166860445956, 'max_depth': 8, 'reg_lambda': 0.004228175714525055}. Best is trial 92 with value: 7.160103317440021.\u001b[0m\n",
      "\u001b[32m[I 2022-01-12 04:44:57,499]\u001b[0m Trial 182 finished with value: 7.401241427731821 and parameters: {'learning_rate': 0.053742983095526935, 'gamma': 6.330910384557898, 'alpha': 3.908677560100642, 'max_depth': 8, 'reg_lambda': 0.0029669764423835322}. Best is trial 92 with value: 7.160103317440021.\u001b[0m\n",
      "\u001b[32m[I 2022-01-12 04:44:58,599]\u001b[0m Trial 183 finished with value: 7.32850615773075 and parameters: {'learning_rate': 0.06585493640757818, 'gamma': 5.805466899506211, 'alpha': 3.1697156684475423, 'max_depth': 8, 'reg_lambda': 0.005701376984768588}. Best is trial 92 with value: 7.160103317440021.\u001b[0m\n",
      "\u001b[32m[I 2022-01-12 04:44:59,717]\u001b[0m Trial 184 finished with value: 7.492351530110102 and parameters: {'learning_rate': 0.051818477197402305, 'gamma': 5.064281603075758, 'alpha': 3.9923946663733902, 'max_depth': 8, 'reg_lambda': 0.007125602720255531}. Best is trial 92 with value: 7.160103317440021.\u001b[0m\n",
      "\u001b[32m[I 2022-01-12 04:45:00,828]\u001b[0m Trial 185 finished with value: 7.345459217619248 and parameters: {'learning_rate': 0.05814578515899209, 'gamma': 5.403298725708487, 'alpha': 4.193095634052186, 'max_depth': 8, 'reg_lambda': 0.003856026299855675}. Best is trial 92 with value: 7.160103317440021.\u001b[0m\n",
      "\u001b[32m[I 2022-01-12 04:45:01,752]\u001b[0m Trial 186 finished with value: 7.614081522292474 and parameters: {'learning_rate': 0.044158447056932074, 'gamma': 4.789922723949754, 'alpha': 3.6704017395565667, 'max_depth': 7, 'reg_lambda': 0.010256980161900473}. Best is trial 92 with value: 7.160103317440021.\u001b[0m\n",
      "\u001b[32m[I 2022-01-12 04:45:02,846]\u001b[0m Trial 187 finished with value: 7.397453334811749 and parameters: {'learning_rate': 0.07505036792426271, 'gamma': 5.161160592336373, 'alpha': 2.9700987770506857, 'max_depth': 8, 'reg_lambda': 0.0025825343969396743}. Best is trial 92 with value: 7.160103317440021.\u001b[0m\n",
      "\u001b[32m[I 2022-01-12 04:45:03,953]\u001b[0m Trial 188 finished with value: 7.383232622637598 and parameters: {'learning_rate': 0.06301161842256181, 'gamma': 5.639024037600278, 'alpha': 3.3468404376027414, 'max_depth': 8, 'reg_lambda': 0.008785331622343556}. Best is trial 92 with value: 7.160103317440021.\u001b[0m\n",
      "\u001b[32m[I 2022-01-12 04:45:04,878]\u001b[0m Trial 189 finished with value: 9.25543672368774 and parameters: {'learning_rate': 0.03385585689728777, 'gamma': 4.909282248527208, 'alpha': 4.605121833146614, 'max_depth': 7, 'reg_lambda': 0.10078593379201117}. Best is trial 92 with value: 7.160103317440021.\u001b[0m\n",
      "\u001b[32m[I 2022-01-12 04:45:05,996]\u001b[0m Trial 190 finished with value: 7.3827044897302825 and parameters: {'learning_rate': 0.049726710229944106, 'gamma': 5.457949261290289, 'alpha': 4.33033757622309, 'max_depth': 8, 'reg_lambda': 0.004952417727054138}. Best is trial 92 with value: 7.160103317440021.\u001b[0m\n",
      "\u001b[32m[I 2022-01-12 04:45:07,094]\u001b[0m Trial 191 finished with value: 7.3773350915232125 and parameters: {'learning_rate': 0.07200015678362363, 'gamma': 5.993176952948402, 'alpha': 4.019464190576929, 'max_depth': 8, 'reg_lambda': 0.0032199155000540765}. Best is trial 92 with value: 7.160103317440021.\u001b[0m\n",
      "\u001b[32m[I 2022-01-12 04:45:08,198]\u001b[0m Trial 192 finished with value: 7.363308535176184 and parameters: {'learning_rate': 0.06497587154751089, 'gamma': 5.6303302401479085, 'alpha': 3.813362910219194, 'max_depth': 8, 'reg_lambda': 0.0035532661133883753}. Best is trial 92 with value: 7.160103317440021.\u001b[0m\n",
      "\u001b[32m[I 2022-01-12 04:45:09,506]\u001b[0m Trial 193 finished with value: 7.904455319148475 and parameters: {'learning_rate': 0.08775144546234478, 'gamma': 5.786293363332736, 'alpha': 3.561429834556419, 'max_depth': 9, 'reg_lambda': 0.005744593682718871}. Best is trial 92 with value: 7.160103317440021.\u001b[0m\n",
      "\u001b[32m[I 2022-01-12 04:45:10,638]\u001b[0m Trial 194 finished with value: 7.543135831683713 and parameters: {'learning_rate': 0.0408840482368153, 'gamma': 5.245605549861611, 'alpha': 3.986710698269298, 'max_depth': 8, 'reg_lambda': 0.004113786770012906}. Best is trial 92 with value: 7.160103317440021.\u001b[0m\n",
      "\u001b[32m[I 2022-01-12 04:45:11,767]\u001b[0m Trial 195 finished with value: 7.307310670620256 and parameters: {'learning_rate': 0.05560258235831655, 'gamma': 5.01814766326828, 'alpha': 3.0646462677675728, 'max_depth': 8, 'reg_lambda': 0.011345087766927974}. Best is trial 92 with value: 7.160103317440021.\u001b[0m\n",
      "\u001b[32m[I 2022-01-12 04:45:12,902]\u001b[0m Trial 196 finished with value: 7.4135806555218595 and parameters: {'learning_rate': 0.053365456738504596, 'gamma': 4.890466714143146, 'alpha': 3.1013546453284797, 'max_depth': 8, 'reg_lambda': 0.01215793899063697}. Best is trial 92 with value: 7.160103317440021.\u001b[0m\n",
      "\u001b[32m[I 2022-01-12 04:45:14,037]\u001b[0m Trial 197 finished with value: 7.2767288225527675 and parameters: {'learning_rate': 0.046020305281831465, 'gamma': 5.118265842178603, 'alpha': 3.293404223632291, 'max_depth': 8, 'reg_lambda': 0.00786750971621815}. Best is trial 92 with value: 7.160103317440021.\u001b[0m\n",
      "\u001b[32m[I 2022-01-12 04:45:15,441]\u001b[0m Trial 198 finished with value: 7.494025109494097 and parameters: {'learning_rate': 0.04453586280324278, 'gamma': 5.09470711769092, 'alpha': 2.7899983291189145, 'max_depth': 9, 'reg_lambda': 0.007819158609013731}. Best is trial 92 with value: 7.160103317440021.\u001b[0m\n",
      "\u001b[32m[I 2022-01-12 04:45:16,568]\u001b[0m Trial 199 finished with value: 7.872092768356584 and parameters: {'learning_rate': 0.03734361089802223, 'gamma': 5.285672056606008, 'alpha': 3.270698834742212, 'max_depth': 8, 'reg_lambda': 0.010491232725420022}. Best is trial 92 with value: 7.160103317440021.\u001b[0m\n",
      "\u001b[32m[I 2022-01-12 04:45:17,488]\u001b[0m Trial 200 finished with value: 7.292552523796483 and parameters: {'learning_rate': 0.05682876382891991, 'gamma': 4.771285649733411, 'alpha': 2.9150405120980065, 'max_depth': 7, 'reg_lambda': 0.015749067350018492}. Best is trial 92 with value: 7.160103317440021.\u001b[0m\n",
      "\u001b[32m[I 2022-01-12 04:45:18,398]\u001b[0m Trial 201 finished with value: 7.603765773361692 and parameters: {'learning_rate': 0.0614702937604212, 'gamma': 4.722941374074642, 'alpha': 2.977732353442363, 'max_depth': 7, 'reg_lambda': 0.016699702578178287}. Best is trial 92 with value: 7.160103317440021.\u001b[0m\n",
      "\u001b[32m[I 2022-01-12 04:45:19,316]\u001b[0m Trial 202 finished with value: 7.493995487953131 and parameters: {'learning_rate': 0.0489183986797028, 'gamma': 5.068892856240438, 'alpha': 3.4288509062840444, 'max_depth': 7, 'reg_lambda': 0.013894461275234467}. Best is trial 92 with value: 7.160103317440021.\u001b[0m\n",
      "\u001b[32m[I 2022-01-12 04:45:20,429]\u001b[0m Trial 203 finished with value: 7.336568974881199 and parameters: {'learning_rate': 0.05739406803893788, 'gamma': 4.495434856076139, 'alpha': 2.7509568913988884, 'max_depth': 8, 'reg_lambda': 0.010854967220553211}. Best is trial 92 with value: 7.160103317440021.\u001b[0m\n",
      "\u001b[32m[I 2022-01-12 04:45:21,541]\u001b[0m Trial 204 finished with value: 7.450269156056769 and parameters: {'learning_rate': 0.07789274122952947, 'gamma': 4.946944879920738, 'alpha': 3.197213879550797, 'max_depth': 8, 'reg_lambda': 0.008763067404071158}. Best is trial 92 with value: 7.160103317440021.\u001b[0m\n",
      "\u001b[32m[I 2022-01-12 04:45:22,482]\u001b[0m Trial 205 finished with value: 7.580666723102647 and parameters: {'learning_rate': 0.04708160939507872, 'gamma': 5.4408527351474385, 'alpha': 2.5029613269262616, 'max_depth': 7, 'reg_lambda': 0.012506533894776477}. Best is trial 92 with value: 7.160103317440021.\u001b[0m\n",
      "\u001b[32m[I 2022-01-12 04:45:23,620]\u001b[0m Trial 206 finished with value: 7.629736293104634 and parameters: {'learning_rate': 0.0401621440888643, 'gamma': 4.729543806285497, 'alpha': 2.2652000740918083, 'max_depth': 8, 'reg_lambda': 0.00730821438237674}. Best is trial 92 with value: 7.160103317440021.\u001b[0m\n",
      "\u001b[32m[I 2022-01-12 04:45:24,717]\u001b[0m Trial 207 finished with value: 191.46609064001268 and parameters: {'learning_rate': 0.00022271142377687167, 'gamma': 5.119016962961156, 'alpha': 2.9892514537437984, 'max_depth': 8, 'reg_lambda': 0.025554199472665663}. Best is trial 92 with value: 7.160103317440021.\u001b[0m\n",
      "\u001b[32m[I 2022-01-12 04:45:25,644]\u001b[0m Trial 208 finished with value: 7.485881700262607 and parameters: {'learning_rate': 0.06567531623277667, 'gamma': 5.348808826577052, 'alpha': 3.4554304628307246, 'max_depth': 7, 'reg_lambda': 0.01597105017448867}. Best is trial 92 with value: 7.160103317440021.\u001b[0m\n",
      "\u001b[32m[I 2022-01-12 04:45:26,780]\u001b[0m Trial 209 finished with value: 11.028834919199685 and parameters: {'learning_rate': 0.02822333009904541, 'gamma': 4.433394618582912, 'alpha': 3.197006989691569, 'max_depth': 8, 'reg_lambda': 0.020329133605179715}. Best is trial 92 with value: 7.160103317440021.\u001b[0m\n",
      "\u001b[32m[I 2022-01-12 04:45:27,921]\u001b[0m Trial 210 finished with value: 7.446959365908219 and parameters: {'learning_rate': 0.053349603536793744, 'gamma': 4.839909996273004, 'alpha': 3.6592904347838724, 'max_depth': 8, 'reg_lambda': 0.009252631047574946}. Best is trial 92 with value: 7.160103317440021.\u001b[0m\n",
      "\u001b[32m[I 2022-01-12 04:45:29,050]\u001b[0m Trial 211 finished with value: 7.254057217348304 and parameters: {'learning_rate': 0.05504763823920803, 'gamma': 3.987953248170532, 'alpha': 2.87152664975221, 'max_depth': 8, 'reg_lambda': 0.006003282140145857}. Best is trial 92 with value: 7.160103317440021.\u001b[0m\n",
      "\u001b[32m[I 2022-01-12 04:45:30,171]\u001b[0m Trial 212 finished with value: 7.317893231208816 and parameters: {'learning_rate': 0.05713025872548371, 'gamma': 4.049374174505126, 'alpha': 2.870246100300882, 'max_depth': 8, 'reg_lambda': 0.006744139747604983}. Best is trial 92 with value: 7.160103317440021.\u001b[0m\n",
      "\u001b[32m[I 2022-01-12 04:45:31,297]\u001b[0m Trial 213 finished with value: 7.235983766721612 and parameters: {'learning_rate': 0.04724832898820744, 'gamma': 4.142385010735038, 'alpha': 2.657590355879333, 'max_depth': 8, 'reg_lambda': 0.004839073798986486}. Best is trial 92 with value: 7.160103317440021.\u001b[0m\n",
      "\u001b[32m[I 2022-01-12 04:45:32,427]\u001b[0m Trial 214 finished with value: 7.347353554446781 and parameters: {'learning_rate': 0.04434450338532835, 'gamma': 3.7876778791222563, 'alpha': 2.0481356704134837, 'max_depth': 8, 'reg_lambda': 0.004816585859689898}. Best is trial 92 with value: 7.160103317440021.\u001b[0m\n",
      "\u001b[32m[I 2022-01-12 04:45:33,801]\u001b[0m Trial 215 finished with value: 7.885793711779421 and parameters: {'learning_rate': 0.03844071963337643, 'gamma': 4.153820609758224, 'alpha': 2.663811850662939, 'max_depth': 9, 'reg_lambda': 0.005942669226322415}. Best is trial 92 with value: 7.160103317440021.\u001b[0m\n",
      "\u001b[32m[I 2022-01-12 04:45:34,895]\u001b[0m Trial 216 finished with value: 7.496917179280704 and parameters: {'learning_rate': 0.0729676414605476, 'gamma': 3.891259190338169, 'alpha': 2.3602145343720395, 'max_depth': 8, 'reg_lambda': 0.005075245088959439}. Best is trial 92 with value: 7.160103317440021.\u001b[0m\n",
      "\u001b[32m[I 2022-01-12 04:45:35,813]\u001b[0m Trial 217 finished with value: 7.448499159128094 and parameters: {'learning_rate': 0.04739887478415128, 'gamma': 4.300503282844742, 'alpha': 2.6635316616208278, 'max_depth': 7, 'reg_lambda': 0.006916083134020504}. Best is trial 92 with value: 7.160103317440021.\u001b[0m\n",
      "\u001b[32m[I 2022-01-12 04:45:36,940]\u001b[0m Trial 218 finished with value: 8.638571540794874 and parameters: {'learning_rate': 0.034050587671689836, 'gamma': 3.598764197927275, 'alpha': 3.3705791638898983, 'max_depth': 8, 'reg_lambda': 0.007951132116253819}. Best is trial 92 with value: 7.160103317440021.\u001b[0m\n",
      "\u001b[32m[I 2022-01-12 04:45:38,063]\u001b[0m Trial 219 finished with value: 7.321139142832557 and parameters: {'learning_rate': 0.06076170454739167, 'gamma': 4.554533579748457, 'alpha': 3.0211581505252196, 'max_depth': 8, 'reg_lambda': 0.0026525843397543895}. Best is trial 92 with value: 7.160103317440021.\u001b[0m\n",
      "\u001b[32m[I 2022-01-12 04:45:38,813]\u001b[0m Trial 220 finished with value: 9.05751328947528 and parameters: {'learning_rate': 0.09599733361937082, 'gamma': 4.070973292931787, 'alpha': 2.518340627416012, 'max_depth': 6, 'reg_lambda': 0.004204510225289874}. Best is trial 92 with value: 7.160103317440021.\u001b[0m\n",
      "\u001b[32m[I 2022-01-12 04:45:39,944]\u001b[0m Trial 221 finished with value: 7.350086756936804 and parameters: {'learning_rate': 0.05229620198394922, 'gamma': 5.221214916546072, 'alpha': 2.8200103121537143, 'max_depth': 8, 'reg_lambda': 0.010792080041613977}. Best is trial 92 with value: 7.160103317440021.\u001b[0m\n",
      "\u001b[32m[I 2022-01-12 04:45:41,066]\u001b[0m Trial 222 finished with value: 7.2255166383480045 and parameters: {'learning_rate': 0.0610302319579843, 'gamma': 5.529066202000731, 'alpha': 3.0998728382923755, 'max_depth': 8, 'reg_lambda': 0.013910645389952368}. Best is trial 92 with value: 7.160103317440021.\u001b[0m\n",
      "\u001b[32m[I 2022-01-12 04:45:42,171]\u001b[0m Trial 223 finished with value: 7.269137688319349 and parameters: {'learning_rate': 0.06932071605599927, 'gamma': 5.523565254830325, 'alpha': 3.260897604198958, 'max_depth': 8, 'reg_lambda': 0.0055754512036688695}. Best is trial 92 with value: 7.160103317440021.\u001b[0m\n",
      "\u001b[32m[I 2022-01-12 04:45:43,278]\u001b[0m Trial 224 finished with value: 7.517795217674155 and parameters: {'learning_rate': 0.06908429504416587, 'gamma': 5.652838540862714, 'alpha': 3.3187395867012315, 'max_depth': 8, 'reg_lambda': 0.005406659139808509}. Best is trial 92 with value: 7.160103317440021.\u001b[0m\n",
      "\u001b[32m[I 2022-01-12 04:45:44,375]\u001b[0m Trial 225 finished with value: 7.511575931217599 and parameters: {'learning_rate': 0.07808595906567421, 'gamma': 5.457889110619609, 'alpha': 3.636329300839525, 'max_depth': 8, 'reg_lambda': 0.003503652879551982}. Best is trial 92 with value: 7.160103317440021.\u001b[0m\n",
      "\u001b[32m[I 2022-01-12 04:45:45,489]\u001b[0m Trial 226 finished with value: 7.439219428738372 and parameters: {'learning_rate': 0.06135259763380572, 'gamma': 5.447594065950884, 'alpha': 3.230536619719397, 'max_depth': 8, 'reg_lambda': 0.004605353322599473}. Best is trial 92 with value: 7.160103317440021.\u001b[0m\n",
      "\u001b[32m[I 2022-01-12 04:45:46,853]\u001b[0m Trial 227 finished with value: 7.649781872451693 and parameters: {'learning_rate': 0.06674063675703597, 'gamma': 5.25679337224004, 'alpha': 3.154470023542068, 'max_depth': 9, 'reg_lambda': 0.006589826601159271}. Best is trial 92 with value: 7.160103317440021.\u001b[0m\n",
      "\u001b[32m[I 2022-01-12 04:45:47,951]\u001b[0m Trial 228 finished with value: 7.483816530538158 and parameters: {'learning_rate': 0.08468996734125352, 'gamma': 5.849524798071593, 'alpha': 2.8720516968037364, 'max_depth': 8, 'reg_lambda': 0.0021638593707511743}. Best is trial 92 with value: 7.160103317440021.\u001b[0m\n",
      "\u001b[32m[I 2022-01-12 04:45:48,871]\u001b[0m Trial 229 finished with value: 7.634442319774176 and parameters: {'learning_rate': 0.05204967897308555, 'gamma': 5.583075676120429, 'alpha': 3.7896049583880345, 'max_depth': 7, 'reg_lambda': 0.13474299225689765}. Best is trial 92 with value: 7.160103317440021.\u001b[0m\n",
      "\u001b[32m[I 2022-01-12 04:45:49,997]\u001b[0m Trial 230 finished with value: 7.435113169457247 and parameters: {'learning_rate': 0.0430059146485014, 'gamma': 4.706955592014165, 'alpha': 3.511958372305208, 'max_depth': 8, 'reg_lambda': 0.00837808831871692}. Best is trial 92 with value: 7.160103317440021.\u001b[0m\n",
      "\u001b[32m[I 2022-01-12 04:45:51,133]\u001b[0m Trial 231 finished with value: 7.267277340887311 and parameters: {'learning_rate': 0.04732226264107761, 'gamma': 1.4364114077757848, 'alpha': 3.036531113188712, 'max_depth': 8, 'reg_lambda': 0.018137548292740134}. Best is trial 92 with value: 7.160103317440021.\u001b[0m\n",
      "\u001b[32m[I 2022-01-12 04:45:52,253]\u001b[0m Trial 232 finished with value: 62.01653493498288 and parameters: {'learning_rate': 0.008507828448379742, 'gamma': 0.6449048491698507, 'alpha': 2.9445896061706676, 'max_depth': 8, 'reg_lambda': 0.018091176276695587}. Best is trial 92 with value: 7.160103317440021.\u001b[0m\n",
      "\u001b[32m[I 2022-01-12 04:45:53,368]\u001b[0m Trial 233 finished with value: 7.434975356856994 and parameters: {'learning_rate': 0.05852088490683931, 'gamma': 6.194479789549375, 'alpha': 3.0951710982940868, 'max_depth': 8, 'reg_lambda': 0.015601888984923208}. Best is trial 92 with value: 7.160103317440021.\u001b[0m\n",
      "\u001b[32m[I 2022-01-12 04:45:54,493]\u001b[0m Trial 234 finished with value: 7.359495358094002 and parameters: {'learning_rate': 0.049058289839397855, 'gamma': 2.137395302251594, 'alpha': 2.690407155327306, 'max_depth': 8, 'reg_lambda': 0.01992500834836481}. Best is trial 92 with value: 7.160103317440021.\u001b[0m\n",
      "\u001b[32m[I 2022-01-12 04:45:55,607]\u001b[0m Trial 235 finished with value: 7.289720647953195 and parameters: {'learning_rate': 0.06482479035174174, 'gamma': 0.38293524900855225, 'alpha': 3.315185080568978, 'max_depth': 8, 'reg_lambda': 0.0137487879969535}. Best is trial 92 with value: 7.160103317440021.\u001b[0m\n",
      "\u001b[32m[I 2022-01-12 04:45:56,709]\u001b[0m Trial 236 finished with value: 7.591327266354492 and parameters: {'learning_rate': 0.07096612385991878, 'gamma': 0.4470792634045071, 'alpha': 3.39822239758277, 'max_depth': 8, 'reg_lambda': 0.014876652943069385}. Best is trial 92 with value: 7.160103317440021.\u001b[0m\n",
      "\u001b[32m[I 2022-01-12 04:45:57,836]\u001b[0m Trial 237 finished with value: 7.63344507743024 and parameters: {'learning_rate': 0.04061623437503751, 'gamma': 1.7981228743021287, 'alpha': 4.379416385088974, 'max_depth': 8, 'reg_lambda': 0.03354173519624352}. Best is trial 92 with value: 7.160103317440021.\u001b[0m\n",
      "\u001b[32m[I 2022-01-12 04:45:58,956]\u001b[0m Trial 238 finished with value: 7.2581331218591645 and parameters: {'learning_rate': 0.04955499343436525, 'gamma': 1.6416289584059867, 'alpha': 2.9403563007581184, 'max_depth': 8, 'reg_lambda': 0.024183148181103}. Best is trial 92 with value: 7.160103317440021.\u001b[0m\n",
      "\u001b[32m[I 2022-01-12 04:46:00,077]\u001b[0m Trial 239 finished with value: 7.3912623366684995 and parameters: {'learning_rate': 0.04756779819814391, 'gamma': 1.500615068767572, 'alpha': 3.1115973523191403, 'max_depth': 8, 'reg_lambda': 0.022665158683767922}. Best is trial 92 with value: 7.160103317440021.\u001b[0m\n",
      "\u001b[32m[I 2022-01-12 04:46:01,436]\u001b[0m Trial 240 finished with value: 7.942578617882706 and parameters: {'learning_rate': 0.03761678882881634, 'gamma': 1.864422646045697, 'alpha': 3.4790183585948253, 'max_depth': 9, 'reg_lambda': 0.02985999987911589}. Best is trial 92 with value: 7.160103317440021.\u001b[0m\n",
      "\u001b[32m[I 2022-01-12 04:46:02,550]\u001b[0m Trial 241 finished with value: 7.240210748307438 and parameters: {'learning_rate': 0.05501687981461596, 'gamma': 2.5931412252180817, 'alpha': 2.985254070045994, 'max_depth': 8, 'reg_lambda': 0.02375089450024892}. Best is trial 92 with value: 7.160103317440021.\u001b[0m\n",
      "\u001b[32m[I 2022-01-12 04:46:03,669]\u001b[0m Trial 242 finished with value: 7.346392670500566 and parameters: {'learning_rate': 0.05107919589379723, 'gamma': 1.2482243615910538, 'alpha': 2.8378504631204535, 'max_depth': 8, 'reg_lambda': 0.024560787673913738}. Best is trial 92 with value: 7.160103317440021.\u001b[0m\n",
      "\u001b[32m[I 2022-01-12 04:46:04,772]\u001b[0m Trial 243 finished with value: 7.479816993213534 and parameters: {'learning_rate': 0.06492481390551424, 'gamma': 2.005590941954504, 'alpha': 3.2725221817590326, 'max_depth': 8, 'reg_lambda': 0.028758179728017197}. Best is trial 92 with value: 7.160103317440021.\u001b[0m\n",
      "\u001b[32m[I 2022-01-12 04:46:05,862]\u001b[0m Trial 244 finished with value: 7.646232055767137 and parameters: {'learning_rate': 0.0748057842182894, 'gamma': 2.6444449092645734, 'alpha': 4.71408944327586, 'max_depth': 8, 'reg_lambda': 0.0397377502452915}. Best is trial 92 with value: 7.160103317440021.\u001b[0m\n",
      "\u001b[32m[I 2022-01-12 04:46:06,985]\u001b[0m Trial 245 finished with value: 7.307747321815956 and parameters: {'learning_rate': 0.044129676206749686, 'gamma': 0.2495141996377035, 'alpha': 2.605549420139827, 'max_depth': 8, 'reg_lambda': 0.020340860056032244}. Best is trial 92 with value: 7.160103317440021.\u001b[0m\n",
      "\u001b[32m[I 2022-01-12 04:46:08,113]\u001b[0m Trial 246 finished with value: 7.429130916865881 and parameters: {'learning_rate': 0.054602164435668205, 'gamma': 2.4565533152151167, 'alpha': 3.048671601589742, 'max_depth': 8, 'reg_lambda': 0.0032128428014097862}. Best is trial 92 with value: 7.160103317440021.\u001b[0m\n",
      "\u001b[32m[I 2022-01-12 04:46:09,218]\u001b[0m Trial 247 finished with value: 7.50567844372355 and parameters: {'learning_rate': 0.06346784231787017, 'gamma': 1.5574580287503985, 'alpha': 3.604919094435294, 'max_depth': 8, 'reg_lambda': 0.013105665212229672}. Best is trial 92 with value: 7.160103317440021.\u001b[0m\n",
      "\u001b[32m[I 2022-01-12 04:46:10,343]\u001b[0m Trial 248 finished with value: 7.341685219237354 and parameters: {'learning_rate': 0.049805062795276744, 'gamma': 4.452636004817423, 'alpha': 3.335525936551793, 'max_depth': 8, 'reg_lambda': 0.005635308112127885}. Best is trial 92 with value: 7.160103317440021.\u001b[0m\n",
      "\u001b[32m[I 2022-01-12 04:46:11,453]\u001b[0m Trial 249 finished with value: 7.285589888323471 and parameters: {'learning_rate': 0.0817875588459778, 'gamma': 1.0399987045051378, 'alpha': 2.946989057605561, 'max_depth': 8, 'reg_lambda': 0.004043789144422534}. Best is trial 92 with value: 7.160103317440021.\u001b[0m\n",
      "\u001b[32m[I 2022-01-12 04:46:11,980]\u001b[0m Trial 250 finished with value: 20.15472603873085 and parameters: {'learning_rate': 0.10035109081499241, 'gamma': 0.837663684439531, 'alpha': 2.7675193326668457, 'max_depth': 4, 'reg_lambda': 0.004068606358955663}. Best is trial 92 with value: 7.160103317440021.\u001b[0m\n",
      "\u001b[32m[I 2022-01-12 04:46:13,314]\u001b[0m Trial 251 finished with value: 7.8937381101244 and parameters: {'learning_rate': 0.08116652530578883, 'gamma': 1.3932565042353255, 'alpha': 2.963396213071494, 'max_depth': 9, 'reg_lambda': 0.018163104794490178}. Best is trial 92 with value: 7.160103317440021.\u001b[0m\n",
      "\u001b[32m[I 2022-01-12 04:46:14,419]\u001b[0m Trial 252 finished with value: 7.545383464365568 and parameters: {'learning_rate': 0.06747927696867306, 'gamma': 0.09807892903425858, 'alpha': 3.106054361904875, 'max_depth': 8, 'reg_lambda': 0.026625940221687676}. Best is trial 92 with value: 7.160103317440021.\u001b[0m\n",
      "\u001b[32m[I 2022-01-12 04:46:15,513]\u001b[0m Trial 253 finished with value: 7.2226372105826 and parameters: {'learning_rate': 0.08327819167332887, 'gamma': 0.6986062239959613, 'alpha': 2.453830831793924, 'max_depth': 8, 'reg_lambda': 0.003070578822490426}. Best is trial 92 with value: 7.160103317440021.\u001b[0m\n",
      "\u001b[32m[I 2022-01-12 04:46:16,613]\u001b[0m Trial 254 finished with value: 7.4553262452131035 and parameters: {'learning_rate': 0.08250457962891752, 'gamma': 0.8004625661598521, 'alpha': 2.4892589455880705, 'max_depth': 8, 'reg_lambda': 0.002877873349390274}. Best is trial 92 with value: 7.160103317440021.\u001b[0m\n",
      "\u001b[32m[I 2022-01-12 04:46:17,675]\u001b[0m Trial 255 finished with value: 7.595606414566775 and parameters: {'learning_rate': 0.12200339549218862, 'gamma': 0.9979993298955023, 'alpha': 2.4252117403656825, 'max_depth': 8, 'reg_lambda': 0.012924434230104179}. Best is trial 92 with value: 7.160103317440021.\u001b[0m\n",
      "\u001b[32m[I 2022-01-12 04:46:18,746]\u001b[0m Trial 256 finished with value: 7.701966051215309 and parameters: {'learning_rate': 0.10250515388133753, 'gamma': 1.7893176416173378, 'alpha': 2.732180585617893, 'max_depth': 8, 'reg_lambda': 0.022311431185945457}. Best is trial 92 with value: 7.160103317440021.\u001b[0m\n",
      "\u001b[32m[I 2022-01-12 04:46:20,062]\u001b[0m Trial 257 finished with value: 7.881983955752259 and parameters: {'learning_rate': 0.08933915270872882, 'gamma': 1.0617128232796804, 'alpha': 2.2039074104110394, 'max_depth': 9, 'reg_lambda': 0.004556162637820717}. Best is trial 92 with value: 7.160103317440021.\u001b[0m\n",
      "\u001b[32m[I 2022-01-12 04:46:21,019]\u001b[0m Trial 258 finished with value: 33.032794281467694 and parameters: {'learning_rate': 0.0724536513288188, 'gamma': 0.609326358561258, 'alpha': 2.866295070220709, 'max_depth': 8, 'reg_lambda': 7.524178896901551}. Best is trial 92 with value: 7.160103317440021.\u001b[0m\n",
      "\u001b[32m[I 2022-01-12 04:46:22,152]\u001b[0m Trial 259 finished with value: 7.444128267895381 and parameters: {'learning_rate': 0.041807636363542046, 'gamma': 0.37501215887878814, 'alpha': 3.226378845990364, 'max_depth': 8, 'reg_lambda': 0.001792452623244317}. Best is trial 92 with value: 7.160103317440021.\u001b[0m\n",
      "\u001b[32m[I 2022-01-12 04:46:23,262]\u001b[0m Trial 260 finished with value: 7.4352960351709445 and parameters: {'learning_rate': 0.0626305669299556, 'gamma': 1.0008771383995598, 'alpha': 2.6207317898467193, 'max_depth': 8, 'reg_lambda': 0.009357205332171548}. Best is trial 92 with value: 7.160103317440021.\u001b[0m\n",
      "\u001b[32m[I 2022-01-12 04:46:24,387]\u001b[0m Trial 261 finished with value: 8.930167239320216 and parameters: {'learning_rate': 0.03256880135752045, 'gamma': 0.6690293354592921, 'alpha': 2.98979461931917, 'max_depth': 8, 'reg_lambda': 0.00237149174269567}. Best is trial 92 with value: 7.160103317440021.\u001b[0m\n",
      "\u001b[32m[I 2022-01-12 04:46:25,720]\u001b[0m Trial 262 finished with value: 7.6580527511264815 and parameters: {'learning_rate': 0.07359519282854382, 'gamma': 0.8490327111621274, 'alpha': 3.762622168635519, 'max_depth': 9, 'reg_lambda': 0.014653128882351773}. Best is trial 92 with value: 7.160103317440021.\u001b[0m\n",
      "\u001b[32m[I 2022-01-12 04:46:26,846]\u001b[0m Trial 263 finished with value: 7.306102038676071 and parameters: {'learning_rate': 0.04548494058240518, 'gamma': 1.1165424960564105, 'alpha': 3.207608096093423, 'max_depth': 8, 'reg_lambda': 0.018487916312306202}. Best is trial 92 with value: 7.160103317440021.\u001b[0m\n",
      "\u001b[32m[I 2022-01-12 04:46:27,962]\u001b[0m Trial 264 finished with value: 7.502026904976587 and parameters: {'learning_rate': 0.06076308872438889, 'gamma': 0.3358086599493112, 'alpha': 2.655948532317008, 'max_depth': 8, 'reg_lambda': 0.003037434397582979}. Best is trial 92 with value: 7.160103317440021.\u001b[0m\n",
      "\u001b[32m[I 2022-01-12 04:46:28,861]\u001b[0m Trial 265 finished with value: 7.732199162189336 and parameters: {'learning_rate': 0.09125799009483547, 'gamma': 1.3336109772633185, 'alpha': 2.369303346839674, 'max_depth': 7, 'reg_lambda': 0.011599342307329258}. Best is trial 92 with value: 7.160103317440021.\u001b[0m\n",
      "\u001b[32m[I 2022-01-12 04:46:29,999]\u001b[0m Trial 266 finished with value: 7.959318770629829 and parameters: {'learning_rate': 0.03659465479016183, 'gamma': 4.48316031740779, 'alpha': 2.833742116760521, 'max_depth': 8, 'reg_lambda': 0.003768003213365663}. Best is trial 92 with value: 7.160103317440021.\u001b[0m\n",
      "\u001b[32m[I 2022-01-12 04:46:31,125]\u001b[0m Trial 267 finished with value: 7.261526314226159 and parameters: {'learning_rate': 0.050722571959799526, 'gamma': 1.6007505455913682, 'alpha': 3.042957827500887, 'max_depth': 8, 'reg_lambda': 0.00518666153956202}. Best is trial 92 with value: 7.160103317440021.\u001b[0m\n",
      "\u001b[32m[I 2022-01-12 04:46:32,032]\u001b[0m Trial 268 finished with value: 138.84755653728945 and parameters: {'learning_rate': 0.0022246644191572765, 'gamma': 2.4169557340570025, 'alpha': 3.0387643973473084, 'max_depth': 7, 'reg_lambda': 0.005503081044302594}. Best is trial 92 with value: 7.160103317440021.\u001b[0m\n",
      "\u001b[32m[I 2022-01-12 04:46:33,156]\u001b[0m Trial 269 finished with value: 7.207490771863917 and parameters: {'learning_rate': 0.05010705408093521, 'gamma': 1.6011800638207583, 'alpha': 2.586834165181422, 'max_depth': 8, 'reg_lambda': 0.006744235011667777}. Best is trial 92 with value: 7.160103317440021.\u001b[0m\n",
      "\u001b[32m[I 2022-01-12 04:46:34,558]\u001b[0m Trial 270 finished with value: 7.666187065462651 and parameters: {'learning_rate': 0.04613360482846907, 'gamma': 1.4585667004051812, 'alpha': 2.536103799122024, 'max_depth': 9, 'reg_lambda': 0.00730089550904487}. Best is trial 92 with value: 7.160103317440021.\u001b[0m\n",
      "\u001b[32m[I 2022-01-12 04:46:35,688]\u001b[0m Trial 271 finished with value: 7.747019811352569 and parameters: {'learning_rate': 0.039127312240697626, 'gamma': 1.3106823862361736, 'alpha': 2.8882915377887497, 'max_depth': 8, 'reg_lambda': 0.004793746860535014}. Best is trial 92 with value: 7.160103317440021.\u001b[0m\n",
      "\u001b[32m[I 2022-01-12 04:46:36,814]\u001b[0m Trial 272 finished with value: 7.31697286764057 and parameters: {'learning_rate': 0.05173160055153558, 'gamma': 1.9276690049844014, 'alpha': 2.147869795636136, 'max_depth': 8, 'reg_lambda': 0.006326362972901184}. Best is trial 92 with value: 7.160103317440021.\u001b[0m\n",
      "\u001b[32m[I 2022-01-12 04:46:37,951]\u001b[0m Trial 273 finished with value: 7.253029330637159 and parameters: {'learning_rate': 0.049381258425321, 'gamma': 1.6371683703169622, 'alpha': 2.4076153080480767, 'max_depth': 8, 'reg_lambda': 0.008580005004486715}. Best is trial 92 with value: 7.160103317440021.\u001b[0m\n",
      "\u001b[32m[I 2022-01-12 04:46:39,085]\u001b[0m Trial 274 finished with value: 8.777376991728266 and parameters: {'learning_rate': 0.032947254072294964, 'gamma': 1.6694214275696175, 'alpha': 2.3883725069100707, 'max_depth': 8, 'reg_lambda': 0.00967927405256303}. Best is trial 92 with value: 7.160103317440021.\u001b[0m\n",
      "\u001b[32m[I 2022-01-12 04:46:40,471]\u001b[0m Trial 275 finished with value: 7.661550567115581 and parameters: {'learning_rate': 0.04335132206013729, 'gamma': 1.6926771493720463, 'alpha': 2.540874085166935, 'max_depth': 9, 'reg_lambda': 0.007674395244457071}. Best is trial 92 with value: 7.160103317440021.\u001b[0m\n",
      "\u001b[32m[I 2022-01-12 04:46:41,617]\u001b[0m Trial 276 finished with value: 7.233882703099937 and parameters: {'learning_rate': 0.04856323351067323, 'gamma': 1.5835618997608145, 'alpha': 1.7232947757271835, 'max_depth': 8, 'reg_lambda': 0.006267490447273053}. Best is trial 92 with value: 7.160103317440021.\u001b[0m\n",
      "\u001b[32m[I 2022-01-12 04:46:42,546]\u001b[0m Trial 277 finished with value: 7.551710940315481 and parameters: {'learning_rate': 0.04858099441734974, 'gamma': 1.6227504339488075, 'alpha': 1.7517416855631622, 'max_depth': 7, 'reg_lambda': 0.00428958140034491}. Best is trial 92 with value: 7.160103317440021.\u001b[0m\n",
      "\u001b[32m[I 2022-01-12 04:46:43,678]\u001b[0m Trial 278 finished with value: 7.713998280827754 and parameters: {'learning_rate': 0.03887536689324946, 'gamma': 2.1485719392869407, 'alpha': 1.95295436638758, 'max_depth': 8, 'reg_lambda': 0.008232131964168672}. Best is trial 92 with value: 7.160103317440021.\u001b[0m\n",
      "\u001b[32m[I 2022-01-12 04:46:44,725]\u001b[0m Trial 279 finished with value: 7.78548118097858 and parameters: {'learning_rate': 0.14858393438052545, 'gamma': 1.5418430091383424, 'alpha': 2.3537817795681484, 'max_depth': 8, 'reg_lambda': 0.005610378433742011}. Best is trial 92 with value: 7.160103317440021.\u001b[0m\n",
      "\u001b[32m[I 2022-01-12 04:46:45,864]\u001b[0m Trial 280 finished with value: 11.284256050667768 and parameters: {'learning_rate': 0.027741237941332552, 'gamma': 1.349601940077088, 'alpha': 1.235400739026543, 'max_depth': 8, 'reg_lambda': 0.003490892793257975}. Best is trial 92 with value: 7.160103317440021.\u001b[0m\n",
      "\u001b[32m[I 2022-01-12 04:46:46,795]\u001b[0m Trial 281 finished with value: 7.349940084880078 and parameters: {'learning_rate': 0.05237530840702347, 'gamma': 1.1308550097051924, 'alpha': 1.841928883599637, 'max_depth': 7, 'reg_lambda': 0.002634357114693864}. Best is trial 92 with value: 7.160103317440021.\u001b[0m\n",
      "\u001b[32m[I 2022-01-12 04:46:47,977]\u001b[0m Trial 282 finished with value: 7.41657773940531 and parameters: {'learning_rate': 0.04367051644390627, 'gamma': 1.8773784854234714, 'alpha': 2.7258954785433076, 'max_depth': 8, 'reg_lambda': 0.009796462324389174}. Best is trial 92 with value: 7.160103317440021.\u001b[0m\n",
      "\u001b[32m[I 2022-01-12 04:46:49,367]\u001b[0m Trial 283 finished with value: 7.607119009642751 and parameters: {'learning_rate': 0.05526373328543454, 'gamma': 1.6919774358326505, 'alpha': 2.2023640271743843, 'max_depth': 9, 'reg_lambda': 0.0045198574599355675}. Best is trial 92 with value: 7.160103317440021.\u001b[0m\n",
      "\u001b[32m[I 2022-01-12 04:46:50,378]\u001b[0m Trial 284 finished with value: 8.907318319852173 and parameters: {'learning_rate': 0.3420627326191244, 'gamma': 1.4487819673841797, 'alpha': 3.5344327546040453, 'max_depth': 8, 'reg_lambda': 0.005639797817222436}. Best is trial 92 with value: 7.160103317440021.\u001b[0m\n",
      "\u001b[32m[I 2022-01-12 04:46:51,525]\u001b[0m Trial 285 finished with value: 8.004109933521187 and parameters: {'learning_rate': 0.03713256450602554, 'gamma': 2.946972592141577, 'alpha': 1.5764639270737804, 'max_depth': 8, 'reg_lambda': 0.009047781208695834}. Best is trial 92 with value: 7.160103317440021.\u001b[0m\n",
      "\u001b[32m[I 2022-01-12 04:46:52,602]\u001b[0m Trial 286 finished with value: 7.379013110167397 and parameters: {'learning_rate': 0.07164934941421938, 'gamma': 4.2328291987682105, 'alpha': 3.0359233726877024, 'max_depth': 8, 'reg_lambda': 0.5755411509253439}. Best is trial 92 with value: 7.160103317440021.\u001b[0m\n",
      "\u001b[32m[I 2022-01-12 04:46:53,534]\u001b[0m Trial 287 finished with value: 7.528664149895524 and parameters: {'learning_rate': 0.04865869033988857, 'gamma': 1.210342579486227, 'alpha': 2.811925177482429, 'max_depth': 7, 'reg_lambda': 0.006491663665353134}. Best is trial 92 with value: 7.160103317440021.\u001b[0m\n",
      "\u001b[32m[I 2022-01-12 04:46:54,655]\u001b[0m Trial 288 finished with value: 7.244473573381613 and parameters: {'learning_rate': 0.06158581279960692, 'gamma': 2.3380719083067567, 'alpha': 3.7887731994381944, 'max_depth': 8, 'reg_lambda': 0.003814775411429029}. Best is trial 92 with value: 7.160103317440021.\u001b[0m\n",
      "\u001b[32m[I 2022-01-12 04:46:55,750]\u001b[0m Trial 289 finished with value: 7.614425615862778 and parameters: {'learning_rate': 0.08015315752514186, 'gamma': 2.375044172132655, 'alpha': 3.872295523478093, 'max_depth': 8, 'reg_lambda': 0.00674145408049802}. Best is trial 92 with value: 7.160103317440021.\u001b[0m\n",
      "\u001b[32m[I 2022-01-12 04:46:57,141]\u001b[0m Trial 290 finished with value: 7.642478264736645 and parameters: {'learning_rate': 0.059522670776828816, 'gamma': 1.6147635331849388, 'alpha': 0.08456241643635787, 'max_depth': 9, 'reg_lambda': 0.011346551923376568}. Best is trial 92 with value: 7.160103317440021.\u001b[0m\n",
      "\u001b[32m[I 2022-01-12 04:46:58,249]\u001b[0m Trial 291 finished with value: 7.33694395261903 and parameters: {'learning_rate': 0.06608263762035518, 'gamma': 2.0097347066128677, 'alpha': 3.8197396477320082, 'max_depth': 8, 'reg_lambda': 0.00503895583321707}. Best is trial 92 with value: 7.160103317440021.\u001b[0m\n",
      "\u001b[32m[I 2022-01-12 04:46:59,384]\u001b[0m Trial 292 finished with value: 7.428563170747987 and parameters: {'learning_rate': 0.04452679322523808, 'gamma': 2.1689602410380875, 'alpha': 4.129787569864537, 'max_depth': 8, 'reg_lambda': 0.003018929401528938}. Best is trial 92 with value: 7.160103317440021.\u001b[0m\n",
      "\u001b[32m[I 2022-01-12 04:47:00,021]\u001b[0m Trial 293 finished with value: 101.73086386635477 and parameters: {'learning_rate': 0.00445596387528605, 'gamma': 1.9378518447635864, 'alpha': 3.5496976628606114, 'max_depth': 5, 'reg_lambda': 0.0077693756226237505}. Best is trial 92 with value: 7.160103317440021.\u001b[0m\n",
      "\u001b[32m[I 2022-01-12 04:47:00,959]\u001b[0m Trial 294 finished with value: 9.62268630883207 and parameters: {'learning_rate': 0.03267213550316495, 'gamma': 1.4854283459290452, 'alpha': 1.9895636787941064, 'max_depth': 7, 'reg_lambda': 0.0019817591364360214}. Best is trial 92 with value: 7.160103317440021.\u001b[0m\n",
      "\u001b[32m[I 2022-01-12 04:47:02,277]\u001b[0m Trial 295 finished with value: 8.212795140008012 and parameters: {'learning_rate': 0.10468806618114075, 'gamma': 1.211513250473311, 'alpha': 0.7129717856570386, 'max_depth': 9, 'reg_lambda': 0.004125680381485769}. Best is trial 92 with value: 7.160103317440021.\u001b[0m\n",
      "\u001b[32m[I 2022-01-12 04:47:03,387]\u001b[0m Trial 296 finished with value: 7.393574945208953 and parameters: {'learning_rate': 0.07798585784663847, 'gamma': 1.7317852429281826, 'alpha': 2.5811682415013446, 'max_depth': 8, 'reg_lambda': 0.01695708920040364}. Best is trial 92 with value: 7.160103317440021.\u001b[0m\n",
      "\u001b[32m[I 2022-01-12 04:47:04,500]\u001b[0m Trial 297 finished with value: 7.177811498382915 and parameters: {'learning_rate': 0.06328141731798026, 'gamma': 0.8581659379406681, 'alpha': 3.6651263819249342, 'max_depth': 8, 'reg_lambda': 0.005114784019257178}. Best is trial 92 with value: 7.160103317440021.\u001b[0m\n",
      "\u001b[32m[I 2022-01-12 04:47:05,625]\u001b[0m Trial 298 finished with value: 7.273068260193305 and parameters: {'learning_rate': 0.05098477582508091, 'gamma': 2.7107337726388416, 'alpha': 3.70462886298841, 'max_depth': 8, 'reg_lambda': 0.006277092863761655}. Best is trial 92 with value: 7.160103317440021.\u001b[0m\n",
      "\u001b[32m[I 2022-01-12 04:47:06,555]\u001b[0m Trial 299 finished with value: 7.844255235164568 and parameters: {'learning_rate': 0.04057107675582629, 'gamma': 2.7879820100158277, 'alpha': 3.728170348353403, 'max_depth': 7, 'reg_lambda': 0.005402048131643387}. Best is trial 92 with value: 7.160103317440021.\u001b[0m\n",
      "\u001b[32m[I 2022-01-12 04:47:07,687]\u001b[0m Trial 300 finished with value: 7.366718028440227 and parameters: {'learning_rate': 0.04864708668636591, 'gamma': 2.360279246277317, 'alpha': 3.9360105756518626, 'max_depth': 8, 'reg_lambda': 0.006178592660942154}. Best is trial 92 with value: 7.160103317440021.\u001b[0m\n",
      "\u001b[32m[I 2022-01-12 04:47:08,803]\u001b[0m Trial 301 finished with value: 7.388243854309794 and parameters: {'learning_rate': 0.06254522941754476, 'gamma': 2.6930007654684465, 'alpha': 3.6826408153682855, 'max_depth': 8, 'reg_lambda': 0.00806904830370312}. Best is trial 92 with value: 7.160103317440021.\u001b[0m\n",
      "\u001b[32m[I 2022-01-12 04:47:10,005]\u001b[0m Trial 302 finished with value: 12.287687035621568 and parameters: {'learning_rate': 0.0360790861791279, 'gamma': 2.9058205110921564, 'alpha': 3.5256119191252004, 'max_depth': 9, 'reg_lambda': 1.2718399901331303}. Best is trial 92 with value: 7.160103317440021.\u001b[0m\n",
      "\u001b[32m[I 2022-01-12 04:47:11,128]\u001b[0m Trial 303 finished with value: 7.288277239748492 and parameters: {'learning_rate': 0.057889111258145366, 'gamma': 2.258003686877516, 'alpha': 3.386091773735754, 'max_depth': 8, 'reg_lambda': 0.004822151085789047}. Best is trial 92 with value: 7.160103317440021.\u001b[0m\n",
      "\u001b[32m[I 2022-01-12 04:47:12,277]\u001b[0m Trial 304 finished with value: 7.362257757146049 and parameters: {'learning_rate': 0.04915354754206047, 'gamma': 0.7813574588886709, 'alpha': 4.056723373275172, 'max_depth': 8, 'reg_lambda': 0.007215682827733174}. Best is trial 92 with value: 7.160103317440021.\u001b[0m\n",
      "\u001b[32m[I 2022-01-12 04:47:13,402]\u001b[0m Trial 305 finished with value: 7.4593225414010496 and parameters: {'learning_rate': 0.06903200916994037, 'gamma': 2.4919094767697385, 'alpha': 3.7544310321472665, 'max_depth': 8, 'reg_lambda': 0.00645653953111518}. Best is trial 92 with value: 7.160103317440021.\u001b[0m\n",
      "\u001b[32m[I 2022-01-12 04:47:14,533]\u001b[0m Trial 306 finished with value: 7.4562350786775005 and parameters: {'learning_rate': 0.04273804252023716, 'gamma': 4.388737246412681, 'alpha': 3.3966235522696917, 'max_depth': 8, 'reg_lambda': 0.010242764957124674}. Best is trial 92 with value: 7.160103317440021.\u001b[0m\n",
      "\u001b[32m[I 2022-01-12 04:47:15,457]\u001b[0m Trial 307 finished with value: 7.564765369134483 and parameters: {'learning_rate': 0.05576542307811345, 'gamma': 3.114122769716414, 'alpha': 3.7658162249293787, 'max_depth': 7, 'reg_lambda': 0.008968958447720955}. Best is trial 92 with value: 7.160103317440021.\u001b[0m\n",
      "\u001b[32m[I 2022-01-12 04:47:16,822]\u001b[0m Trial 308 finished with value: 7.745598986669039 and parameters: {'learning_rate': 0.06694926434812923, 'gamma': 1.8346169733363737, 'alpha': 3.563024835478789, 'max_depth': 9, 'reg_lambda': 0.004957305486211442}. Best is trial 92 with value: 7.160103317440021.\u001b[0m\n",
      "\u001b[32m[I 2022-01-12 04:47:17,943]\u001b[0m Trial 309 finished with value: 39.5124027198027 and parameters: {'learning_rate': 0.01274876136801444, 'gamma': 4.217819314671319, 'alpha': 3.2617786004332343, 'max_depth': 8, 'reg_lambda': 0.006054348009605971}. Best is trial 92 with value: 7.160103317440021.\u001b[0m\n",
      "\u001b[32m[I 2022-01-12 04:47:19,061]\u001b[0m Trial 310 finished with value: 169.7886821921464 and parameters: {'learning_rate': 0.0009144579436148215, 'gamma': 2.1585312555577665, 'alpha': 4.117230377461132, 'max_depth': 8, 'reg_lambda': 0.0030881184631584265}. Best is trial 92 with value: 7.160103317440021.\u001b[0m\n",
      "\u001b[32m[I 2022-01-12 04:47:20,194]\u001b[0m Trial 311 finished with value: 10.082074745112477 and parameters: {'learning_rate': 0.029965865079793406, 'gamma': 1.4114580831253825, 'alpha': 3.4071452957481543, 'max_depth': 8, 'reg_lambda': 0.003618665163868588}. Best is trial 92 with value: 7.160103317440021.\u001b[0m\n",
      "\u001b[32m[I 2022-01-12 04:47:21,327]\u001b[0m Trial 312 finished with value: 7.334396718926069 and parameters: {'learning_rate': 0.04698983730404886, 'gamma': 4.031556398801568, 'alpha': 3.1995922112333948, 'max_depth': 8, 'reg_lambda': 0.007854302802321085}. Best is trial 92 with value: 7.160103317440021.\u001b[0m\n",
      "\u001b[32m[I 2022-01-12 04:47:22,254]\u001b[0m Trial 313 finished with value: 7.656718250938307 and parameters: {'learning_rate': 0.05856535822681069, 'gamma': 0.922071488009578, 'alpha': 3.623748115493768, 'max_depth': 7, 'reg_lambda': 0.004986138503720065}. Best is trial 92 with value: 7.160103317440021.\u001b[0m\n",
      "\u001b[32m[I 2022-01-12 04:47:23,389]\u001b[0m Trial 314 finished with value: 8.103590005405191 and parameters: {'learning_rate': 0.03622216532895957, 'gamma': 4.5255707647968055, 'alpha': 3.9403910266990256, 'max_depth': 8, 'reg_lambda': 0.0023646814476174804}. Best is trial 92 with value: 7.160103317440021.\u001b[0m\n",
      "\u001b[32m[I 2022-01-12 04:47:24,779]\u001b[0m Trial 315 finished with value: 7.670201532796877 and parameters: {'learning_rate': 0.05145405296353414, 'gamma': 1.5978197333063597, 'alpha': 3.0811224002756283, 'max_depth': 9, 'reg_lambda': 0.010984640468580116}. Best is trial 92 with value: 7.160103317440021.\u001b[0m\n",
      "\u001b[32m[I 2022-01-12 04:47:25,912]\u001b[0m Trial 316 finished with value: 7.542619721883372 and parameters: {'learning_rate': 0.040810937949082936, 'gamma': 4.632322121018801, 'alpha': 2.7830742568759534, 'max_depth': 8, 'reg_lambda': 0.00632287841696819}. Best is trial 92 with value: 7.160103317440021.\u001b[0m\n",
      "\u001b[32m[I 2022-01-12 04:47:26,942]\u001b[0m Trial 317 finished with value: 8.002355981059804 and parameters: {'learning_rate': 0.24182982255048682, 'gamma': 5.714921426951392, 'alpha': 3.888097687237236, 'max_depth': 8, 'reg_lambda': 0.0378328072268334}. Best is trial 92 with value: 7.160103317440021.\u001b[0m\n",
      "\u001b[32m[I 2022-01-12 04:47:28,055]\u001b[0m Trial 318 finished with value: 7.269534441969864 and parameters: {'learning_rate': 0.06786525776190164, 'gamma': 1.8819138521128544, 'alpha': 3.3673958026043795, 'max_depth': 8, 'reg_lambda': 0.004307813843580561}. Best is trial 92 with value: 7.160103317440021.\u001b[0m\n",
      "\u001b[32m[I 2022-01-12 04:47:29,147]\u001b[0m Trial 319 finished with value: 7.604213030175323 and parameters: {'learning_rate': 0.08985976402196244, 'gamma': 1.7656949026416437, 'alpha': 3.0801593770201556, 'max_depth': 8, 'reg_lambda': 0.004243497818972414}. Best is trial 92 with value: 7.160103317440021.\u001b[0m\n",
      "\u001b[32m[I 2022-01-12 04:47:30,055]\u001b[0m Trial 320 finished with value: 7.675231465879683 and parameters: {'learning_rate': 0.07478892337660442, 'gamma': 2.0986428359133433, 'alpha': 3.3524636642256334, 'max_depth': 7, 'reg_lambda': 0.005416685696353255}. Best is trial 92 with value: 7.160103317440021.\u001b[0m\n",
      "\u001b[32m[I 2022-01-12 04:47:31,370]\u001b[0m Trial 321 finished with value: 7.829785322981593 and parameters: {'learning_rate': 0.06560831096812648, 'gamma': 1.8399762800165045, 'alpha': 2.9327970238271552, 'max_depth': 9, 'reg_lambda': 0.18962879810442015}. Best is trial 92 with value: 7.160103317440021.\u001b[0m\n",
      "\u001b[32m[I 2022-01-12 04:47:32,490]\u001b[0m Trial 322 finished with value: 7.3388892033675726 and parameters: {'learning_rate': 0.06418708871246104, 'gamma': 1.9424298721428974, 'alpha': 3.169889150806153, 'max_depth': 8, 'reg_lambda': 0.008129513676778942}. Best is trial 92 with value: 7.160103317440021.\u001b[0m\n",
      "\u001b[32m[I 2022-01-12 04:47:33,399]\u001b[0m Trial 323 finished with value: 7.526040286865516 and parameters: {'learning_rate': 0.08196669238319616, 'gamma': 2.549046181809298, 'alpha': 2.6488708720835916, 'max_depth': 7, 'reg_lambda': 0.012376621529158938}. Best is trial 92 with value: 7.160103317440021.\u001b[0m\n",
      "\u001b[32m[I 2022-01-12 04:47:34,530]\u001b[0m Trial 324 finished with value: 7.251730578324622 and parameters: {'learning_rate': 0.04586245884428083, 'gamma': 1.3127951513430418, 'alpha': 3.4293667342686103, 'max_depth': 8, 'reg_lambda': 0.0041039022719945644}. Best is trial 92 with value: 7.160103317440021.\u001b[0m\n",
      "\u001b[32m[I 2022-01-12 04:47:35,299]\u001b[0m Trial 325 finished with value: 8.05311773857392 and parameters: {'learning_rate': 0.042520775120356964, 'gamma': 1.4959009491213804, 'alpha': 3.405685849429566, 'max_depth': 6, 'reg_lambda': 0.003651509915594377}. Best is trial 92 with value: 7.160103317440021.\u001b[0m\n",
      "\u001b[32m[I 2022-01-12 04:47:36,407]\u001b[0m Trial 326 finished with value: 7.501863174842387 and parameters: {'learning_rate': 0.05830833848438695, 'gamma': 1.2157482329532356, 'alpha': 3.256884958607864, 'max_depth': 8, 'reg_lambda': 0.08064145397110871}. Best is trial 92 with value: 7.160103317440021.\u001b[0m\n",
      "\u001b[32m[I 2022-01-12 04:47:37,531]\u001b[0m Trial 327 finished with value: 14.26980244292164 and parameters: {'learning_rate': 0.02434808684666231, 'gamma': 1.6776178510274626, 'alpha': 3.5278319166847134, 'max_depth': 8, 'reg_lambda': 0.0041829977886224615}. Best is trial 92 with value: 7.160103317440021.\u001b[0m\n",
      "\u001b[32m[I 2022-01-12 04:47:38,443]\u001b[0m Trial 328 finished with value: 13.290678593576224 and parameters: {'learning_rate': 0.04782108487999195, 'gamma': 1.218721545871559, 'alpha': 3.005206114750112, 'max_depth': 8, 'reg_lambda': 24.70439250399461}. Best is trial 92 with value: 7.160103317440021.\u001b[0m\n",
      "\u001b[32m[I 2022-01-12 04:47:39,744]\u001b[0m Trial 329 finished with value: 8.012188567051098 and parameters: {'learning_rate': 0.09204414685298958, 'gamma': 1.3305428271950974, 'alpha': 2.86883746646761, 'max_depth': 9, 'reg_lambda': 0.02131762079170653}. Best is trial 92 with value: 7.160103317440021.\u001b[0m\n",
      "\u001b[32m[I 2022-01-12 04:47:40,845]\u001b[0m Trial 330 finished with value: 7.492793986889558 and parameters: {'learning_rate': 0.07065947911047207, 'gamma': 1.5890424856283378, 'alpha': 2.4394733328104854, 'max_depth': 8, 'reg_lambda': 0.006756320934489135}. Best is trial 92 with value: 7.160103317440021.\u001b[0m\n",
      "\u001b[32m[I 2022-01-12 04:47:41,985]\u001b[0m Trial 331 finished with value: 8.57209549864576 and parameters: {'learning_rate': 0.034132447896286784, 'gamma': 0.6492520719831324, 'alpha': 3.274474874049462, 'max_depth': 8, 'reg_lambda': 0.009003127212277402}. Best is trial 92 with value: 7.160103317440021.\u001b[0m\n",
      "\u001b[32m[I 2022-01-12 04:47:43,109]\u001b[0m Trial 332 finished with value: 7.188369529677549 and parameters: {'learning_rate': 0.05395936005840101, 'gamma': 2.316671945376699, 'alpha': 1.642849536572796, 'max_depth': 8, 'reg_lambda': 0.004642449217924063}. Best is trial 92 with value: 7.160103317440021.\u001b[0m\n",
      "\u001b[32m[I 2022-01-12 04:47:44,172]\u001b[0m Trial 333 finished with value: 7.927954112094486 and parameters: {'learning_rate': 0.11677852029559185, 'gamma': 2.287537322698524, 'alpha': 1.3712911125932585, 'max_depth': 8, 'reg_lambda': 0.003126161627935359}. Best is trial 92 with value: 7.160103317440021.\u001b[0m\n",
      "\u001b[32m[I 2022-01-12 04:47:45,851]\u001b[0m Trial 334 finished with value: 7.880466909453099 and parameters: {'learning_rate': 0.057532697014945074, 'gamma': 1.955804979024462, 'alpha': 1.872777243420075, 'max_depth': 10, 'reg_lambda': 0.004681726421242255}. Best is trial 92 with value: 7.160103317440021.\u001b[0m\n",
      "\u001b[32m[I 2022-01-12 04:47:46,759]\u001b[0m Trial 335 finished with value: 7.366270441553836 and parameters: {'learning_rate': 0.06841667051568262, 'gamma': 2.2679432827446444, 'alpha': 1.7633582917688502, 'max_depth': 7, 'reg_lambda': 0.0035473225484194317}. Best is trial 92 with value: 7.160103317440021.\u001b[0m\n",
      "\u001b[32m[I 2022-01-12 04:47:47,881]\u001b[0m Trial 336 finished with value: 7.46820774062903 and parameters: {'learning_rate': 0.05321509736072804, 'gamma': 2.0145846709368165, 'alpha': 0.7751640644517082, 'max_depth': 8, 'reg_lambda': 0.004654948840149222}. Best is trial 92 with value: 7.160103317440021.\u001b[0m\n",
      "\u001b[32m[I 2022-01-12 04:47:48,981]\u001b[0m Trial 337 finished with value: 7.4281790756189086 and parameters: {'learning_rate': 0.07580043587071486, 'gamma': 1.432981503081904, 'alpha': 2.0790081542930436, 'max_depth': 8, 'reg_lambda': 0.003967889656952137}. Best is trial 92 with value: 7.160103317440021.\u001b[0m\n",
      "\u001b[32m[I 2022-01-12 04:47:51,418]\u001b[0m Trial 338 finished with value: 7.969285685658464 and parameters: {'learning_rate': 0.06082625451600167, 'gamma': 2.782089109755456, 'alpha': 1.1124865350016697, 'max_depth': 12, 'reg_lambda': 0.005516540453421049}. Best is trial 92 with value: 7.160103317440021.\u001b[0m\n",
      "\u001b[32m[I 2022-01-12 04:47:52,809]\u001b[0m Trial 339 finished with value: 7.664213174905554 and parameters: {'learning_rate': 0.04254036923788531, 'gamma': 0.9886028314988478, 'alpha': 1.4307598470260623, 'max_depth': 9, 'reg_lambda': 0.015397392860692406}. Best is trial 92 with value: 7.160103317440021.\u001b[0m\n",
      "\u001b[32m[I 2022-01-12 04:47:53,937]\u001b[0m Trial 340 finished with value: 7.308444234101685 and parameters: {'learning_rate': 0.050888016078203396, 'gamma': 1.7430273882211331, 'alpha': 1.6633233014637914, 'max_depth': 8, 'reg_lambda': 0.024957340313869383}. Best is trial 92 with value: 7.160103317440021.\u001b[0m\n",
      "\u001b[32m[I 2022-01-12 04:47:54,840]\u001b[0m Trial 341 finished with value: 184.48895640555563 and parameters: {'learning_rate': 0.000439509984043233, 'gamma': 2.387944786758633, 'alpha': 2.645474519820784, 'max_depth': 7, 'reg_lambda': 0.00570075226406032}. Best is trial 92 with value: 7.160103317440021.\u001b[0m\n",
      "\u001b[32m[I 2022-01-12 04:47:55,906]\u001b[0m Trial 342 finished with value: 7.725953366588474 and parameters: {'learning_rate': 0.098323056654231, 'gamma': 3.2211018989195517, 'alpha': 2.272144403465497, 'max_depth': 8, 'reg_lambda': 0.37127980826357865}. Best is trial 92 with value: 7.160103317440021.\u001b[0m\n",
      "\u001b[32m[I 2022-01-12 04:47:57,038]\u001b[0m Trial 343 finished with value: 7.625564867385363 and parameters: {'learning_rate': 0.03967717939337501, 'gamma': 2.1415032261170954, 'alpha': 1.5579072091335298, 'max_depth': 8, 'reg_lambda': 0.002974362688088486}. Best is trial 92 with value: 7.160103317440021.\u001b[0m\n",
      "\u001b[32m[I 2022-01-12 04:47:58,403]\u001b[0m Trial 344 finished with value: 7.744292504891341 and parameters: {'learning_rate': 0.062391720247146065, 'gamma': 2.6831634596482306, 'alpha': 3.0109177271164227, 'max_depth': 9, 'reg_lambda': 0.004071746703090258}. Best is trial 92 with value: 7.160103317440021.\u001b[0m\n",
      "\u001b[32m[I 2022-01-12 04:47:59,510]\u001b[0m Trial 345 finished with value: 7.492070837213263 and parameters: {'learning_rate': 0.07825726664308225, 'gamma': 3.9527730915421895, 'alpha': 3.543175380776446, 'max_depth': 8, 'reg_lambda': 0.006435415516311434}. Best is trial 92 with value: 7.160103317440021.\u001b[0m\n",
      "\u001b[32m[I 2022-01-12 04:48:00,431]\u001b[0m Trial 346 finished with value: 7.442852570995438 and parameters: {'learning_rate': 0.05282772039748195, 'gamma': 1.5205571187990958, 'alpha': 2.7887255798281783, 'max_depth': 7, 'reg_lambda': 0.04851710564492175}. Best is trial 92 with value: 7.160103317440021.\u001b[0m\n",
      "\u001b[32m[I 2022-01-12 04:48:01,560]\u001b[0m Trial 347 finished with value: 7.3128384522464644 and parameters: {'learning_rate': 0.046691938330226605, 'gamma': 1.3405582933783602, 'alpha': 2.569815237201142, 'max_depth': 8, 'reg_lambda': 0.004600624452733375}. Best is trial 92 with value: 7.160103317440021.\u001b[0m\n",
      "\u001b[32m[I 2022-01-12 04:48:02,672]\u001b[0m Trial 348 finished with value: 7.349914508199527 and parameters: {'learning_rate': 0.0675419758088763, 'gamma': 1.8321750750466026, 'alpha': 3.111758263950493, 'max_depth': 8, 'reg_lambda': 0.01796325535572501}. Best is trial 92 with value: 7.160103317440021.\u001b[0m\n",
      "\u001b[32m[I 2022-01-12 04:48:03,798]\u001b[0m Trial 349 finished with value: 21.721309015969954 and parameters: {'learning_rate': 0.019232154316731098, 'gamma': 4.186785178652776, 'alpha': 3.474885251597339, 'max_depth': 8, 'reg_lambda': 0.013768637164366904}. Best is trial 92 with value: 7.160103317440021.\u001b[0m\n",
      "\u001b[32m[I 2022-01-12 04:48:04,735]\u001b[0m Trial 350 finished with value: 10.241472710975122 and parameters: {'learning_rate': 0.031208056003053115, 'gamma': 1.6253657620800015, 'alpha': 2.9162806962174272, 'max_depth': 7, 'reg_lambda': 0.03226834563095478}. Best is trial 92 with value: 7.160103317440021.\u001b[0m\n",
      "\u001b[32m[I 2022-01-12 04:48:06,106]\u001b[0m Trial 351 finished with value: 7.599185156324727 and parameters: {'learning_rate': 0.05616833813754314, 'gamma': 1.1127746161742667, 'alpha': 2.4400149578840726, 'max_depth': 9, 'reg_lambda': 0.0033917391361679137}. Best is trial 92 with value: 7.160103317440021.\u001b[0m\n",
      "\u001b[32m[I 2022-01-12 04:48:07,235]\u001b[0m Trial 352 finished with value: 7.799275536130936 and parameters: {'learning_rate': 0.03869599973409027, 'gamma': 3.845049184766875, 'alpha': 3.1716521494979735, 'max_depth': 8, 'reg_lambda': 0.01040815504551699}. Best is trial 92 with value: 7.160103317440021.\u001b[0m\n",
      "\u001b[32m[I 2022-01-12 04:48:08,324]\u001b[0m Trial 353 finished with value: 7.456604168446083 and parameters: {'learning_rate': 0.08550040717484106, 'gamma': 2.1196631936358883, 'alpha': 3.7140509973456135, 'max_depth': 8, 'reg_lambda': 0.005284392671085659}. Best is trial 92 with value: 7.160103317440021.\u001b[0m\n",
      "\u001b[32m[I 2022-01-12 04:48:09,439]\u001b[0m Trial 354 finished with value: 53.24195186975972 and parameters: {'learning_rate': 0.009892134435710147, 'gamma': 2.397529655479989, 'alpha': 2.2012887029270067, 'max_depth': 8, 'reg_lambda': 0.00766893989771721}. Best is trial 92 with value: 7.160103317440021.\u001b[0m\n",
      "\u001b[32m[I 2022-01-12 04:48:10,567]\u001b[0m Trial 355 finished with value: 7.259588179370592 and parameters: {'learning_rate': 0.04703133408513839, 'gamma': 0.8487820765884319, 'alpha': 2.6880128716727336, 'max_depth': 8, 'reg_lambda': 0.006298082400161548}. Best is trial 92 with value: 7.160103317440021.\u001b[0m\n",
      "\u001b[32m[I 2022-01-12 04:48:11,931]\u001b[0m Trial 356 finished with value: 7.775722856215389 and parameters: {'learning_rate': 0.06391527091104454, 'gamma': 1.0514141987806633, 'alpha': 2.7017025501792484, 'max_depth': 9, 'reg_lambda': 0.004961625440124527}. Best is trial 92 with value: 7.160103317440021.\u001b[0m\n",
      "\u001b[32m[I 2022-01-12 04:48:13,062]\u001b[0m Trial 357 finished with value: 7.273458758037248 and parameters: {'learning_rate': 0.04703954781695099, 'gamma': 0.8436952639894112, 'alpha': 2.856204343896603, 'max_depth': 8, 'reg_lambda': 0.0038105220093062986}. Best is trial 92 with value: 7.160103317440021.\u001b[0m\n",
      "\u001b[32m[I 2022-01-12 04:48:14,199]\u001b[0m Trial 358 finished with value: 7.285567673649145 and parameters: {'learning_rate': 0.04744601536728655, 'gamma': 0.5037721751700005, 'alpha': 2.8282593857402407, 'max_depth': 8, 'reg_lambda': 0.00246878693210692}. Best is trial 92 with value: 7.160103317440021.\u001b[0m\n",
      "\u001b[32m[I 2022-01-12 04:48:15,134]\u001b[0m Trial 359 finished with value: 8.749468370776492 and parameters: {'learning_rate': 0.03523146632833527, 'gamma': 0.7630143142425003, 'alpha': 2.639289948695651, 'max_depth': 7, 'reg_lambda': 0.0036974874190841174}. Best is trial 92 with value: 7.160103317440021.\u001b[0m\n",
      "\u001b[32m[I 2022-01-12 04:48:16,234]\u001b[0m Trial 360 finished with value: 7.420819433120457 and parameters: {'learning_rate': 0.07415356195883259, 'gamma': 0.8021322097288031, 'alpha': 2.947908261286285, 'max_depth': 8, 'reg_lambda': 0.00317194646431871}. Best is trial 92 with value: 7.160103317440021.\u001b[0m\n",
      "\u001b[32m[I 2022-01-12 04:48:17,355]\u001b[0m Trial 361 finished with value: 7.358090853324033 and parameters: {'learning_rate': 0.05515843413326221, 'gamma': 0.5717891205613261, 'alpha': 2.542179575872016, 'max_depth': 8, 'reg_lambda': 0.003992943840895942}. Best is trial 92 with value: 7.160103317440021.\u001b[0m\n",
      "\u001b[32m[I 2022-01-12 04:48:18,487]\u001b[0m Trial 362 finished with value: 7.391464894970547 and parameters: {'learning_rate': 0.04453941656111091, 'gamma': 0.9145130179964117, 'alpha': 3.0813486518283337, 'max_depth': 8, 'reg_lambda': 0.0028816264840824373}. Best is trial 92 with value: 7.160103317440021.\u001b[0m\n",
      "\u001b[32m[I 2022-01-12 04:48:19,598]\u001b[0m Trial 363 finished with value: 7.428673766884494 and parameters: {'learning_rate': 0.058327148086275246, 'gamma': 1.1731361674602043, 'alpha': 2.3786537308485403, 'max_depth': 8, 'reg_lambda': 0.004102780853644966}. Best is trial 92 with value: 7.160103317440021.\u001b[0m\n",
      "\u001b[32m[I 2022-01-12 04:48:20,969]\u001b[0m Trial 364 finished with value: 7.831253760046712 and parameters: {'learning_rate': 0.03794361312196911, 'gamma': 6.487113637024643, 'alpha': 2.825703485309571, 'max_depth': 9, 'reg_lambda': 0.021093673795574953}. Best is trial 92 with value: 7.160103317440021.\u001b[0m\n",
      "\u001b[32m[I 2022-01-12 04:48:22,004]\u001b[0m Trial 365 finished with value: 7.794370294593833 and parameters: {'learning_rate': 0.17477101499991274, 'gamma': 1.3632061464858458, 'alpha': 5.417362618368763, 'max_depth': 8, 'reg_lambda': 0.005729427145075111}. Best is trial 92 with value: 7.160103317440021.\u001b[0m\n",
      "\u001b[32m[I 2022-01-12 04:48:22,932]\u001b[0m Trial 366 finished with value: 12.031624416010395 and parameters: {'learning_rate': 0.0280201679952533, 'gamma': 0.8751088384617776, 'alpha': 3.3045383350031043, 'max_depth': 7, 'reg_lambda': 0.00352298293510141}. Best is trial 92 with value: 7.160103317440021.\u001b[0m\n",
      "\u001b[32m[I 2022-01-12 04:48:24,061]\u001b[0m Trial 367 finished with value: 7.295567273602642 and parameters: {'learning_rate': 0.04937509168639219, 'gamma': 0.6834339309012089, 'alpha': 2.6739838591352547, 'max_depth': 8, 'reg_lambda': 0.005047505417692601}. Best is trial 92 with value: 7.160103317440021.\u001b[0m\n",
      "\u001b[32m[I 2022-01-12 04:48:25,165]\u001b[0m Trial 368 finished with value: 7.421056807136603 and parameters: {'learning_rate': 0.06910578354785528, 'gamma': 0.037422605738675396, 'alpha': 3.0533693485384834, 'max_depth': 8, 'reg_lambda': 0.0046209439269236955}. Best is trial 92 with value: 7.160103317440021.\u001b[0m\n",
      "\u001b[32m[I 2022-01-12 04:48:26,251]\u001b[0m Trial 369 finished with value: 7.625136179616285 and parameters: {'learning_rate': 0.09074940146317825, 'gamma': 1.0235503006074116, 'alpha': 2.8505930752936033, 'max_depth': 8, 'reg_lambda': 0.006687417088101067}. Best is trial 92 with value: 7.160103317440021.\u001b[0m\n",
      "\u001b[32m[I 2022-01-12 04:48:27,566]\u001b[0m Trial 370 finished with value: 79.4273080334531 and parameters: {'learning_rate': 0.006150182479845478, 'gamma': 2.5743811058084862, 'alpha': 5.923245946986366, 'max_depth': 9, 'reg_lambda': 0.01718498537673759}. Best is trial 92 with value: 7.160103317440021.\u001b[0m\n",
      "\u001b[32m[I 2022-01-12 04:48:28,572]\u001b[0m Trial 371 finished with value: 13.547468214361794 and parameters: {'learning_rate': 0.04142170770217069, 'gamma': 0.4742438777121851, 'alpha': 3.147983188617105, 'max_depth': 8, 'reg_lambda': 2.86022882676078}. Best is trial 92 with value: 7.160103317440021.\u001b[0m\n",
      "\u001b[32m[I 2022-01-12 04:48:29,333]\u001b[0m Trial 372 finished with value: 7.858944207316269 and parameters: {'learning_rate': 0.06044639118800124, 'gamma': 1.2742390531645371, 'alpha': 3.3670192034651425, 'max_depth': 6, 'reg_lambda': 0.02672454852122168}. Best is trial 92 with value: 7.160103317440021.\u001b[0m\n",
      "\u001b[32m[I 2022-01-12 04:48:30,215]\u001b[0m Trial 373 finished with value: 8.39478801722977 and parameters: {'learning_rate': 0.13149811930008867, 'gamma': 1.7605258529797383, 'alpha': 2.3631887895063004, 'max_depth': 7, 'reg_lambda': 0.0024888050054708744}. Best is trial 92 with value: 7.160103317440021.\u001b[0m\n",
      "\u001b[32m[I 2022-01-12 04:48:31,344]\u001b[0m Trial 374 finished with value: 7.284731000726525 and parameters: {'learning_rate': 0.04829141617605096, 'gamma': 1.5336501515022953, 'alpha': 2.9100489322433574, 'max_depth': 8, 'reg_lambda': 0.0016630211253036928}. Best is trial 92 with value: 7.160103317440021.\u001b[0m\n",
      "\u001b[32m[I 2022-01-12 04:48:32,447]\u001b[0m Trial 375 finished with value: 7.562082037058174 and parameters: {'learning_rate': 0.07840063956853405, 'gamma': 1.3308869463210002, 'alpha': 2.7233344807476914, 'max_depth': 8, 'reg_lambda': 0.005950807908661842}. Best is trial 92 with value: 7.160103317440021.\u001b[0m\n",
      "\u001b[32m[I 2022-01-12 04:48:33,566]\u001b[0m Trial 376 finished with value: 7.341176742729676 and parameters: {'learning_rate': 0.05579883752641457, 'gamma': 1.700582314791329, 'alpha': 3.248079886747497, 'max_depth': 8, 'reg_lambda': 0.013587614526122812}. Best is trial 92 with value: 7.160103317440021.\u001b[0m\n",
      "\u001b[32m[I 2022-01-12 04:48:34,943]\u001b[0m Trial 377 finished with value: 8.490591428157643 and parameters: {'learning_rate': 0.03352318502727531, 'gamma': 1.9483736155143916, 'alpha': 2.5120029872712673, 'max_depth': 9, 'reg_lambda': 0.004517944694467053}. Best is trial 92 with value: 7.160103317440021.\u001b[0m\n",
      "\u001b[32m[I 2022-01-12 04:48:35,852]\u001b[0m Trial 378 finished with value: 7.457348406779809 and parameters: {'learning_rate': 0.07147756661417302, 'gamma': 5.950204602567176, 'alpha': 3.038227811227268, 'max_depth': 7, 'reg_lambda': 0.0029745934936562263}. Best is trial 92 with value: 7.160103317440021.\u001b[0m\n",
      "\u001b[32m[I 2022-01-12 04:48:36,982]\u001b[0m Trial 379 finished with value: 7.45788611904344 and parameters: {'learning_rate': 0.04303502777290243, 'gamma': 0.24847031845359346, 'alpha': 3.4809496724921694, 'max_depth': 8, 'reg_lambda': 0.0036188857916299223}. Best is trial 92 with value: 7.160103317440021.\u001b[0m\n",
      "\u001b[32m[I 2022-01-12 04:48:38,053]\u001b[0m Trial 380 finished with value: 7.447101553075141 and parameters: {'learning_rate': 0.10958881526151375, 'gamma': 2.2569097354667518, 'alpha': 2.7278936268307037, 'max_depth': 8, 'reg_lambda': 0.021743076868982733}. Best is trial 92 with value: 7.160103317440021.\u001b[0m\n",
      "\u001b[32m[I 2022-01-12 04:48:40,760]\u001b[0m Trial 381 finished with value: 8.196703827188728 and parameters: {'learning_rate': 0.051186033594061583, 'gamma': 1.5135159178681588, 'alpha': 3.1817496991742806, 'max_depth': 13, 'reg_lambda': 0.01168452059922396}. Best is trial 92 with value: 7.160103317440021.\u001b[0m\n",
      "\u001b[32m[I 2022-01-12 04:48:41,873]\u001b[0m Trial 382 finished with value: 7.244441023145084 and parameters: {'learning_rate': 0.06300504765702301, 'gamma': 0.9157561954620441, 'alpha': 2.9693921810340242, 'max_depth': 8, 'reg_lambda': 0.006517900450473282}. Best is trial 92 with value: 7.160103317440021.\u001b[0m\n",
      "\u001b[32m[I 2022-01-12 04:48:42,789]\u001b[0m Trial 383 finished with value: 7.568206977994943 and parameters: {'learning_rate': 0.08842898594581795, 'gamma': 1.0321900535836486, 'alpha': 3.444954351022592, 'max_depth': 7, 'reg_lambda': 0.00909063990083101}. Best is trial 92 with value: 7.160103317440021.\u001b[0m\n",
      "\u001b[32m[I 2022-01-12 04:48:43,907]\u001b[0m Trial 384 finished with value: 7.529946618678542 and parameters: {'learning_rate': 0.0671225925461733, 'gamma': 2.0285840804089, 'alpha': 3.6288923531081805, 'max_depth': 8, 'reg_lambda': 0.0066079765373525555}. Best is trial 92 with value: 7.160103317440021.\u001b[0m\n",
      "\u001b[32m[I 2022-01-12 04:48:45,286]\u001b[0m Trial 385 finished with value: 7.61979685852555 and parameters: {'learning_rate': 0.05845720322727337, 'gamma': 1.0904495023500749, 'alpha': 3.032873412561436, 'max_depth': 9, 'reg_lambda': 0.007005504255823463}. Best is trial 92 with value: 7.160103317440021.\u001b[0m\n",
      "\u001b[32m[I 2022-01-12 04:48:46,391]\u001b[0m Trial 386 finished with value: 7.507420409457379 and parameters: {'learning_rate': 0.07477006532002357, 'gamma': 1.2273075764466257, 'alpha': 3.289873253319361, 'max_depth': 8, 'reg_lambda': 0.006098889848340938}. Best is trial 92 with value: 7.160103317440021.\u001b[0m\n",
      "\u001b[32m[I 2022-01-12 04:48:47,502]\u001b[0m Trial 387 finished with value: 7.270879137073577 and parameters: {'learning_rate': 0.06324320483272473, 'gamma': 1.6156866393653573, 'alpha': 2.5373878392830154, 'max_depth': 8, 'reg_lambda': 0.0095947878094166}. Best is trial 92 with value: 7.160103317440021.\u001b[0m\n",
      "\u001b[32m[I 2022-01-12 04:48:48,644]\u001b[0m Trial 388 finished with value: 7.423520322701227 and parameters: {'learning_rate': 0.10645993011842915, 'gamma': 1.5801955816646167, 'alpha': 2.2309523743912774, 'max_depth': 8, 'reg_lambda': 0.010332641895367457}. Best is trial 92 with value: 7.160103317440021.\u001b[0m\n",
      "\u001b[32m[I 2022-01-12 04:48:49,755]\u001b[0m Trial 389 finished with value: 7.284461966233799 and parameters: {'learning_rate': 0.06625681963263402, 'gamma': 1.765823413254982, 'alpha': 2.5167652206487814, 'max_depth': 8, 'reg_lambda': 0.008129413916691681}. Best is trial 92 with value: 7.160103317440021.\u001b[0m\n",
      "\u001b[32m[I 2022-01-12 04:48:50,850]\u001b[0m Trial 390 finished with value: 7.409192295957914 and parameters: {'learning_rate': 0.08876254890766268, 'gamma': 1.3475712634307906, 'alpha': 2.423628853137061, 'max_depth': 8, 'reg_lambda': 0.009408425879513576}. Best is trial 92 with value: 7.160103317440021.\u001b[0m\n",
      "\u001b[32m[I 2022-01-12 04:48:51,980]\u001b[0m Trial 391 finished with value: 7.37941755021848 and parameters: {'learning_rate': 0.05497615601251105, 'gamma': 1.8249451836869737, 'alpha': 2.190576712004849, 'max_depth': 8, 'reg_lambda': 0.012693093461651012}. Best is trial 92 with value: 7.160103317440021.\u001b[0m\n",
      "\u001b[32m[I 2022-01-12 04:48:53,083]\u001b[0m Trial 392 finished with value: 7.609062630187996 and parameters: {'learning_rate': 0.07894042491649005, 'gamma': 1.4569884506937423, 'alpha': 1.9447187038064155, 'max_depth': 8, 'reg_lambda': 0.005336519740312559}. Best is trial 92 with value: 7.160103317440021.\u001b[0m\n",
      "\u001b[32m[I 2022-01-12 04:48:54,998]\u001b[0m Trial 393 finished with value: 8.222453629716059 and parameters: {'learning_rate': 0.06357093620578276, 'gamma': 2.5140881666395534, 'alpha': 5.0098267289766865, 'max_depth': 11, 'reg_lambda': 0.007793107709336377}. Best is trial 92 with value: 7.160103317440021.\u001b[0m\n",
      "\u001b[32m[I 2022-01-12 04:48:56,130]\u001b[0m Trial 394 finished with value: 7.686366443558901 and parameters: {'learning_rate': 0.03968346757697182, 'gamma': 0.6532520648513814, 'alpha': 3.629270491185124, 'max_depth': 8, 'reg_lambda': 0.006337529905358704}. Best is trial 92 with value: 7.160103317440021.\u001b[0m\n",
      "\u001b[32m[I 2022-01-12 04:48:57,259]\u001b[0m Trial 395 finished with value: 7.321719927239961 and parameters: {'learning_rate': 0.04956713996192275, 'gamma': 1.97352472844145, 'alpha': 2.664050498480405, 'max_depth': 8, 'reg_lambda': 0.00999248380821117}. Best is trial 92 with value: 7.160103317440021.\u001b[0m\n",
      "\u001b[32m[I 2022-01-12 04:48:58,379]\u001b[0m Trial 396 finished with value: 7.42073201809226 and parameters: {'learning_rate': 0.06250120162641669, 'gamma': 1.651841051370131, 'alpha': 3.3933568736099895, 'max_depth': 8, 'reg_lambda': 0.004974272912130484}. Best is trial 92 with value: 7.160103317440021.\u001b[0m\n",
      "\u001b[32m[I 2022-01-12 04:48:59,515]\u001b[0m Trial 397 finished with value: 7.425085811906588 and parameters: {'learning_rate': 0.05303884854721388, 'gamma': 2.8044791798143938, 'alpha': 2.9892248013191853, 'max_depth': 8, 'reg_lambda': 0.014926709248145157}. Best is trial 92 with value: 7.160103317440021.\u001b[0m\n",
      "\u001b[32m[I 2022-01-12 04:49:00,618]\u001b[0m Trial 398 finished with value: 7.625834967269071 and parameters: {'learning_rate': 0.07934625783296877, 'gamma': 0.8941718491810697, 'alpha': 3.17189182926915, 'max_depth': 8, 'reg_lambda': 0.007439989291014133}. Best is trial 92 with value: 7.160103317440021.\u001b[0m\n",
      "\u001b[32m[I 2022-01-12 04:49:02,005]\u001b[0m Trial 399 finished with value: 7.622755953357789 and parameters: {'learning_rate': 0.042851993801506186, 'gamma': 2.2123840688883973, 'alpha': 2.5184224716530186, 'max_depth': 9, 'reg_lambda': 0.004383186495918022}. Best is trial 92 with value: 7.160103317440021.\u001b[0m\n",
      "\u001b[32m[I 2022-01-12 04:49:03,127]\u001b[0m Trial 400 finished with value: 7.514275187463983 and parameters: {'learning_rate': 0.06792492435310953, 'gamma': 1.225268766075271, 'alpha': 2.857701480263778, 'max_depth': 8, 'reg_lambda': 0.011147336086989973}. Best is trial 92 with value: 7.160103317440021.\u001b[0m\n",
      "\u001b[32m[I 2022-01-12 04:49:04,263]\u001b[0m Trial 401 finished with value: 8.61979701993853 and parameters: {'learning_rate': 0.034022550099744475, 'gamma': 2.0330840775977768, 'alpha': 3.4404613490944667, 'max_depth': 8, 'reg_lambda': 0.005638300296384967}. Best is trial 92 with value: 7.160103317440021.\u001b[0m\n",
      "\u001b[32m[I 2022-01-12 04:49:05,388]\u001b[0m Trial 402 finished with value: 7.278768865343001 and parameters: {'learning_rate': 0.055597582483695625, 'gamma': 1.4488110857540666, 'alpha': 2.072294277771024, 'max_depth': 8, 'reg_lambda': 0.008548075004940104}. Best is trial 92 with value: 7.160103317440021.\u001b[0m\n",
      "\u001b[32m[I 2022-01-12 04:49:06,775]\u001b[0m Trial 403 finished with value: 7.527126941772622 and parameters: {'learning_rate': 0.04542700844207685, 'gamma': 1.7693622947849421, 'alpha': 3.7983418684540946, 'max_depth': 9, 'reg_lambda': 0.0068494150739523}. Best is trial 92 with value: 7.160103317440021.\u001b[0m\n",
      "\u001b[32m[I 2022-01-12 04:49:07,884]\u001b[0m Trial 404 finished with value: 7.336060336246245 and parameters: {'learning_rate': 0.06737665339884591, 'gamma': 3.0527264909355774, 'alpha': 3.1273742494296224, 'max_depth': 8, 'reg_lambda': 0.012604205883006508}. Best is trial 92 with value: 7.160103317440021.\u001b[0m\n",
      "\u001b[32m[I 2022-01-12 04:49:08,973]\u001b[0m Trial 405 finished with value: 7.65667272844529 and parameters: {'learning_rate': 0.08943992378000089, 'gamma': 1.169661198201765, 'alpha': 9.813934954359006, 'max_depth': 8, 'reg_lambda': 0.0046208654509253865}. Best is trial 92 with value: 7.160103317440021.\u001b[0m\n",
      "\u001b[32m[I 2022-01-12 04:49:10,108]\u001b[0m Trial 406 finished with value: 7.501295319197849 and parameters: {'learning_rate': 0.057992532833062986, 'gamma': 1.643693802657426, 'alpha': 2.6516742763690644, 'max_depth': 8, 'reg_lambda': 0.017255025266676424}. Best is trial 92 with value: 7.160103317440021.\u001b[0m\n",
      "\u001b[32m[I 2022-01-12 04:49:11,252]\u001b[0m Trial 407 finished with value: 8.021326863310573 and parameters: {'learning_rate': 0.036533626471426085, 'gamma': 1.4345934682836023, 'alpha': 0.9366897395840077, 'max_depth': 8, 'reg_lambda': 0.0055573034631271594}. Best is trial 92 with value: 7.160103317440021.\u001b[0m\n",
      "\u001b[32m[I 2022-01-12 04:49:12,403]\u001b[0m Trial 408 finished with value: 7.236043254490469 and parameters: {'learning_rate': 0.04573106707304937, 'gamma': 0.5258335850154908, 'alpha': 2.9452640825375807, 'max_depth': 8, 'reg_lambda': 0.008838281604542128}. Best is trial 92 with value: 7.160103317440021.\u001b[0m\n",
      "\u001b[32m[I 2022-01-12 04:49:13,803]\u001b[0m Trial 409 finished with value: 7.695708554347862 and parameters: {'learning_rate': 0.04031319053625109, 'gamma': 0.6576109902500475, 'alpha': 2.9282110782283146, 'max_depth': 9, 'reg_lambda': 0.002129658540427504}. Best is trial 92 with value: 7.160103317440021.\u001b[0m\n",
      "\u001b[32m[I 2022-01-12 04:49:14,937]\u001b[0m Trial 410 finished with value: 7.30550252644882 and parameters: {'learning_rate': 0.046976738647930484, 'gamma': 0.4265917181909844, 'alpha': 2.7758361819232436, 'max_depth': 8, 'reg_lambda': 0.010937240933385021}. Best is trial 92 with value: 7.160103317440021.\u001b[0m\n",
      "\u001b[32m[I 2022-01-12 04:49:16,072]\u001b[0m Trial 411 finished with value: 11.823946220255516 and parameters: {'learning_rate': 0.027138689230978744, 'gamma': 0.5839508687842173, 'alpha': 3.0627278119587227, 'max_depth': 8, 'reg_lambda': 0.008849768359957298}. Best is trial 92 with value: 7.160103317440021.\u001b[0m\n",
      "\u001b[32m[I 2022-01-12 04:49:17,187]\u001b[0m Trial 412 finished with value: 7.315637699027593 and parameters: {'learning_rate': 0.07565399579526594, 'gamma': 0.9475773999680945, 'alpha': 2.3086332173853803, 'max_depth': 8, 'reg_lambda': 0.008731931935143232}. Best is trial 92 with value: 7.160103317440021.\u001b[0m\n",
      "\u001b[32m[I 2022-01-12 04:49:18,087]\u001b[0m Trial 413 finished with value: 7.837038299751274 and parameters: {'learning_rate': 0.10142912890576554, 'gamma': 0.17188305117665015, 'alpha': 3.252741361206233, 'max_depth': 7, 'reg_lambda': 0.014758869699156794}. Best is trial 92 with value: 7.160103317440021.\u001b[0m\n",
      "\u001b[32m[I 2022-01-12 04:49:19,204]\u001b[0m Trial 414 finished with value: 112.33653521430782 and parameters: {'learning_rate': 0.003655071443034206, 'gamma': 0.44316556123355616, 'alpha': 2.5672868324896334, 'max_depth': 8, 'reg_lambda': 0.011920964717070291}. Best is trial 92 with value: 7.160103317440021.\u001b[0m\n",
      "\u001b[32m[I 2022-01-12 04:49:20,323]\u001b[0m Trial 415 finished with value: 7.315795425495472 and parameters: {'learning_rate': 0.06330157973282981, 'gamma': 0.7686839387631815, 'alpha': 2.9351459376605633, 'max_depth': 8, 'reg_lambda': 0.007085869090607083}. Best is trial 92 with value: 7.160103317440021.\u001b[0m\n",
      "\u001b[32m[I 2022-01-12 04:49:21,711]\u001b[0m Trial 416 finished with value: 7.510772816048748 and parameters: {'learning_rate': 0.052819207332884824, 'gamma': 1.0432356250833406, 'alpha': 2.7635605192973065, 'max_depth': 9, 'reg_lambda': 0.003425442358838978}. Best is trial 92 with value: 7.160103317440021.\u001b[0m\n",
      "\u001b[32m[I 2022-01-12 04:49:22,858]\u001b[0m Trial 417 finished with value: 7.765792730307684 and parameters: {'learning_rate': 0.04023416154419128, 'gamma': 1.2773547053682113, 'alpha': 3.2253987679741467, 'max_depth': 8, 'reg_lambda': 0.06055792648903579}. Best is trial 92 with value: 7.160103317440021.\u001b[0m\n",
      "\u001b[32m[I 2022-01-12 04:49:23,798]\u001b[0m Trial 418 finished with value: 10.919959614617412 and parameters: {'learning_rate': 0.02986248562999962, 'gamma': 0.8333987986976701, 'alpha': 2.3476987461611083, 'max_depth': 7, 'reg_lambda': 0.004537001909526966}. Best is trial 92 with value: 7.160103317440021.\u001b[0m\n",
      "\u001b[32m[I 2022-01-12 04:49:24,923]\u001b[0m Trial 419 finished with value: 7.2459236200930865 and parameters: {'learning_rate': 0.059414051399282984, 'gamma': 6.90155889407107, 'alpha': 2.9920765979634703, 'max_depth': 8, 'reg_lambda': 0.0027767126030853848}. Best is trial 92 with value: 7.160103317440021.\u001b[0m\n",
      "\u001b[32m[I 2022-01-12 04:49:26,065]\u001b[0m Trial 420 finished with value: 7.310666997148553 and parameters: {'learning_rate': 0.046653263252539906, 'gamma': 7.4630276319410624, 'alpha': 3.0327129589895163, 'max_depth': 8, 'reg_lambda': 0.0020828548873692465}. Best is trial 92 with value: 7.160103317440021.\u001b[0m\n",
      "\u001b[32m[I 2022-01-12 04:49:27,193]\u001b[0m Trial 421 finished with value: 7.424920387615995 and parameters: {'learning_rate': 0.05459094979847717, 'gamma': 4.329798296517208, 'alpha': 3.3664560515353408, 'max_depth': 8, 'reg_lambda': 0.003211509427369489}. Best is trial 92 with value: 7.160103317440021.\u001b[0m\n",
      "\u001b[32m[I 2022-01-12 04:49:28,314]\u001b[0m Trial 422 finished with value: 138.13475962568992 and parameters: {'learning_rate': 0.002212110127685565, 'gamma': 6.795536487756963, 'alpha': 3.1126430546787676, 'max_depth': 8, 'reg_lambda': 0.0029028789160879085}. Best is trial 92 with value: 7.160103317440021.\u001b[0m\n",
      "\u001b[32m[I 2022-01-12 04:49:29,664]\u001b[0m Trial 423 finished with value: 7.5381367726138 and parameters: {'learning_rate': 0.07482339147722696, 'gamma': 6.09460717779527, 'alpha': 2.8275345018134375, 'max_depth': 9, 'reg_lambda': 0.002488168171585345}. Best is trial 92 with value: 7.160103317440021.\u001b[0m\n",
      "\u001b[32m[I 2022-01-12 04:49:30,602]\u001b[0m Trial 424 finished with value: 9.206026852945842 and parameters: {'learning_rate': 0.033590092052986006, 'gamma': 4.034242924733555, 'alpha': 0.4992743100090671, 'max_depth': 7, 'reg_lambda': 0.003962516121031175}. Best is trial 92 with value: 7.160103317440021.\u001b[0m\n",
      "\u001b[32m[I 2022-01-12 04:49:31,715]\u001b[0m Trial 425 finished with value: 7.608877234725954 and parameters: {'learning_rate': 0.04420697733805384, 'gamma': 0.31257360786294186, 'alpha': 3.3413360927115767, 'max_depth': 8, 'reg_lambda': 0.2900103242979411}. Best is trial 92 with value: 7.160103317440021.\u001b[0m\n",
      "\u001b[32m[I 2022-01-12 04:49:32,851]\u001b[0m Trial 426 finished with value: 7.225233195577023 and parameters: {'learning_rate': 0.058529341795305015, 'gamma': 7.5922311004783705, 'alpha': 2.9910835090865837, 'max_depth': 8, 'reg_lambda': 0.0026480359994294116}. Best is trial 92 with value: 7.160103317440021.\u001b[0m\n",
      "\u001b[32m[I 2022-01-12 04:49:33,990]\u001b[0m Trial 427 finished with value: 7.373735022288165 and parameters: {'learning_rate': 0.051111030542874095, 'gamma': 8.01761356581209, 'alpha': 2.9324636208851023, 'max_depth': 8, 'reg_lambda': 0.0016864391195730109}. Best is trial 92 with value: 7.160103317440021.\u001b[0m\n",
      "\u001b[32m[I 2022-01-12 04:49:35,386]\u001b[0m Trial 428 finished with value: 7.807462826728276 and parameters: {'learning_rate': 0.0394625437293157, 'gamma': 7.690776023163551, 'alpha': 2.7290804471877297, 'max_depth': 9, 'reg_lambda': 0.002130732229005036}. Best is trial 92 with value: 7.160103317440021.\u001b[0m\n",
      "\u001b[32m[I 2022-01-12 04:49:36,518]\u001b[0m Trial 429 finished with value: 7.415037298676029 and parameters: {'learning_rate': 0.057799065694838024, 'gamma': 8.398842479558292, 'alpha': 3.031360229878315, 'max_depth': 8, 'reg_lambda': 0.0027394162037271607}. Best is trial 92 with value: 7.160103317440021.\u001b[0m\n",
      "\u001b[32m[I 2022-01-12 04:49:37,655]\u001b[0m Trial 430 finished with value: 7.310638255301403 and parameters: {'learning_rate': 0.04800216460667142, 'gamma': 7.095245396489031, 'alpha': 2.9068516814246848, 'max_depth': 8, 'reg_lambda': 0.0028378442933987584}. Best is trial 92 with value: 7.160103317440021.\u001b[0m\n",
      "\u001b[32m[I 2022-01-12 04:49:38,798]\u001b[0m Trial 431 finished with value: 7.865079061312145 and parameters: {'learning_rate': 0.03773352485325144, 'gamma': 6.830753790598044, 'alpha': 3.146949806973377, 'max_depth': 8, 'reg_lambda': 0.0022065315198421215}. Best is trial 92 with value: 7.160103317440021.\u001b[0m\n",
      "\u001b[32m[I 2022-01-12 04:49:39,718]\u001b[0m Trial 432 finished with value: 7.479457948043712 and parameters: {'learning_rate': 0.05838824887420475, 'gamma': 6.320173895418091, 'alpha': 2.728656009718113, 'max_depth': 7, 'reg_lambda': 0.018551409809773118}. Best is trial 92 with value: 7.160103317440021.\u001b[0m\n",
      "\u001b[32m[I 2022-01-12 04:49:40,683]\u001b[0m Trial 433 finished with value: 35.83959177608553 and parameters: {'learning_rate': 0.08588825263568195, 'gamma': 7.990053850533405, 'alpha': 1.3533750637616646, 'max_depth': 8, 'reg_lambda': 7.282350192457554}. Best is trial 92 with value: 7.160103317440021.\u001b[0m\n",
      "\u001b[32m[I 2022-01-12 04:49:42,069]\u001b[0m Trial 434 finished with value: 7.510815734916075 and parameters: {'learning_rate': 0.04513614525394495, 'gamma': 6.566318583841634, 'alpha': 3.197605262824049, 'max_depth': 9, 'reg_lambda': 0.003275585152001699}. Best is trial 92 with value: 7.160103317440021.\u001b[0m\n",
      "\u001b[32m[I 2022-01-12 04:49:43,189]\u001b[0m Trial 435 finished with value: 7.490911203378858 and parameters: {'learning_rate': 0.0728084952109613, 'gamma': 0.6740911105445944, 'alpha': 2.9814751139320275, 'max_depth': 8, 'reg_lambda': 0.0026247249566688146}. Best is trial 92 with value: 7.160103317440021.\u001b[0m\n",
      "\u001b[32m[I 2022-01-12 04:49:44,114]\u001b[0m Trial 436 finished with value: 7.470206368310602 and parameters: {'learning_rate': 0.05213431513468885, 'gamma': 8.169943042352077, 'alpha': 2.610623837815231, 'max_depth': 7, 'reg_lambda': 0.001481509234312802}. Best is trial 92 with value: 7.160103317440021.\u001b[0m\n",
      "\u001b[32m[I 2022-01-12 04:49:45,241]\u001b[0m Trial 437 finished with value: 7.193855101642396 and parameters: {'learning_rate': 0.06052186243252813, 'gamma': 7.149098574179488, 'alpha': 3.4901762772078913, 'max_depth': 8, 'reg_lambda': 0.0018946435401986468}. Best is trial 92 with value: 7.160103317440021.\u001b[0m\n",
      "\u001b[32m[I 2022-01-12 04:49:46,381]\u001b[0m Trial 438 finished with value: 8.657478123362635 and parameters: {'learning_rate': 0.0337838777362149, 'gamma': 6.897237401456946, 'alpha': 3.5578539584429025, 'max_depth': 8, 'reg_lambda': 0.0021234610749295427}. Best is trial 92 with value: 7.160103317440021.\u001b[0m\n",
      "\u001b[32m[I 2022-01-12 04:49:47,503]\u001b[0m Trial 439 finished with value: 7.316808356727463 and parameters: {'learning_rate': 0.06036519051665997, 'gamma': 7.753363730866767, 'alpha': 1.6748469829448196, 'max_depth': 8, 'reg_lambda': 0.001325436916857605}. Best is trial 92 with value: 7.160103317440021.\u001b[0m\n",
      "\u001b[32m[I 2022-01-12 04:49:48,651]\u001b[0m Trial 440 finished with value: 7.543268132187383 and parameters: {'learning_rate': 0.04174462466965572, 'gamma': 6.841058772522806, 'alpha': 2.8223389334147604, 'max_depth': 8, 'reg_lambda': 0.002527936388886197}. Best is trial 92 with value: 7.160103317440021.\u001b[0m\n",
      "\u001b[32m[I 2022-01-12 04:49:49,778]\u001b[0m Trial 441 finished with value: 7.267552213604382 and parameters: {'learning_rate': 0.05122653801119599, 'gamma': 7.5309163012727405, 'alpha': 3.5205930438488453, 'max_depth': 8, 'reg_lambda': 0.0018103463946340733}. Best is trial 92 with value: 7.160103317440021.\u001b[0m\n",
      "\u001b[32m[I 2022-01-12 04:49:51,153]\u001b[0m Trial 442 finished with value: 7.543087213381792 and parameters: {'learning_rate': 0.0613086571521155, 'gamma': 7.388680895963833, 'alpha': 2.51050441696535, 'max_depth': 9, 'reg_lambda': 0.001542707669225786}. Best is trial 92 with value: 7.160103317440021.\u001b[0m\n",
      "\u001b[32m[I 2022-01-12 04:49:52,299]\u001b[0m Trial 443 finished with value: 7.278736168225715 and parameters: {'learning_rate': 0.0454127086303213, 'gamma': 6.920719317783106, 'alpha': 3.0087700667827115, 'max_depth': 8, 'reg_lambda': 0.00174324803106374}. Best is trial 92 with value: 7.160103317440021.\u001b[0m\n",
      "\u001b[32m[I 2022-01-12 04:49:53,242]\u001b[0m Trial 444 finished with value: 18.598395547199374 and parameters: {'learning_rate': 0.02174019269319313, 'gamma': 7.9173134508581375, 'alpha': 2.753631870053734, 'max_depth': 7, 'reg_lambda': 0.013863436717182022}. Best is trial 92 with value: 7.160103317440021.\u001b[0m\n",
      "\u001b[32m[I 2022-01-12 04:49:54,370]\u001b[0m Trial 445 finished with value: 7.3616948237802955 and parameters: {'learning_rate': 0.05629181156119713, 'gamma': 7.455145484055398, 'alpha': 3.3381910740423577, 'max_depth': 8, 'reg_lambda': 0.0019968773796928516}. Best is trial 92 with value: 7.160103317440021.\u001b[0m\n",
      "\u001b[32m[I 2022-01-12 04:49:55,498]\u001b[0m Trial 446 finished with value: 7.942950933486038 and parameters: {'learning_rate': 0.03803129271238831, 'gamma': 4.228271607173166, 'alpha': 3.1480905350835005, 'max_depth': 8, 'reg_lambda': 0.12078418085040438}. Best is trial 92 with value: 7.160103317440021.\u001b[0m\n",
      "\u001b[32m[I 2022-01-12 04:49:56,606]\u001b[0m Trial 447 finished with value: 7.35339152344878 and parameters: {'learning_rate': 0.07599573505823713, 'gamma': 0.4761210421295328, 'alpha': 3.6206656954995284, 'max_depth': 8, 'reg_lambda': 0.0035854587441545515}. Best is trial 92 with value: 7.160103317440021.\u001b[0m\n",
      "\u001b[32m[I 2022-01-12 04:49:57,745]\u001b[0m Trial 448 finished with value: 7.209282040634181 and parameters: {'learning_rate': 0.04981539730870726, 'gamma': 7.10961972440417, 'alpha': 1.9906303012461752, 'max_depth': 8, 'reg_lambda': 0.0029528995716303647}. Best is trial 92 with value: 7.160103317440021.\u001b[0m\n",
      "\u001b[32m[I 2022-01-12 04:49:59,126]\u001b[0m Trial 449 finished with value: 7.745480571168311 and parameters: {'learning_rate': 0.06350856454337549, 'gamma': 7.073761698566292, 'alpha': 2.0253522528386547, 'max_depth': 9, 'reg_lambda': 0.0026288447522527874}. Best is trial 92 with value: 7.160103317440021.\u001b[0m\n",
      "\u001b[32m[I 2022-01-12 04:50:00,269]\u001b[0m Trial 450 finished with value: 7.352486732858722 and parameters: {'learning_rate': 0.054052862675505506, 'gamma': 7.275330406631843, 'alpha': 1.8465307103966913, 'max_depth': 8, 'reg_lambda': 0.00314203957560633}. Best is trial 92 with value: 7.160103317440021.\u001b[0m\n",
      "\u001b[32m[I 2022-01-12 04:50:01,201]\u001b[0m Trial 451 finished with value: 7.549041391500317 and parameters: {'learning_rate': 0.04539010381667188, 'gamma': 7.282421332207523, 'alpha': 1.8591910332718455, 'max_depth': 7, 'reg_lambda': 0.0022662498142375655}. Best is trial 92 with value: 7.160103317440021.\u001b[0m\n",
      "\u001b[32m[I 2022-01-12 04:50:02,319]\u001b[0m Trial 452 finished with value: 7.345685566097117 and parameters: {'learning_rate': 0.06825403230689919, 'gamma': 7.671973540298067, 'alpha': 2.1418276844565725, 'max_depth': 8, 'reg_lambda': 0.0034373591949337905}. Best is trial 92 with value: 7.160103317440021.\u001b[0m\n",
      "\u001b[32m[I 2022-01-12 04:50:03,418]\u001b[0m Trial 453 finished with value: 7.254443322862988 and parameters: {'learning_rate': 0.0914397251513446, 'gamma': 6.62063074292813, 'alpha': 2.213816390753627, 'max_depth': 8, 'reg_lambda': 0.0027890765193501546}. Best is trial 92 with value: 7.160103317440021.\u001b[0m\n",
      "\u001b[32m[I 2022-01-12 04:50:04,517]\u001b[0m Trial 454 finished with value: 7.793595736023312 and parameters: {'learning_rate': 0.09972354716305251, 'gamma': 7.298698186116612, 'alpha': 2.0494933097942303, 'max_depth': 8, 'reg_lambda': 0.002400877639434835}. Best is trial 92 with value: 7.160103317440021.\u001b[0m\n",
      "\u001b[32m[I 2022-01-12 04:50:05,587]\u001b[0m Trial 455 finished with value: 7.8950135749921655 and parameters: {'learning_rate': 0.12732383040952563, 'gamma': 6.995150661937405, 'alpha': 2.301339870733062, 'max_depth': 8, 'reg_lambda': 0.0018093925620456287}. Best is trial 92 with value: 7.160103317440021.\u001b[0m\n",
      "\u001b[32m[I 2022-01-12 04:50:06,887]\u001b[0m Trial 456 finished with value: 7.9262444971845145 and parameters: {'learning_rate': 0.1191840399491142, 'gamma': 6.664807538923012, 'alpha': 1.671999044940854, 'max_depth': 9, 'reg_lambda': 0.001309203175099526}. Best is trial 92 with value: 7.160103317440021.\u001b[0m\n",
      "\u001b[32m[I 2022-01-12 04:50:08,025]\u001b[0m Trial 457 finished with value: 30.24254643792078 and parameters: {'learning_rate': 0.015487096451866817, 'gamma': 7.000374053448493, 'alpha': 1.5479284009649412, 'max_depth': 8, 'reg_lambda': 0.002780814458291486}. Best is trial 92 with value: 7.160103317440021.\u001b[0m\n",
      "\u001b[32m[I 2022-01-12 04:50:08,945]\u001b[0m Trial 458 finished with value: 7.9137418242276185 and parameters: {'learning_rate': 0.08661436703059018, 'gamma': 6.3791322700363, 'alpha': 2.1577421896934967, 'max_depth': 7, 'reg_lambda': 0.0020691421363260866}. Best is trial 92 with value: 7.160103317440021.\u001b[0m\n",
      "\u001b[32m[I 2022-01-12 04:50:10,014]\u001b[0m Trial 459 finished with value: 7.724242971434289 and parameters: {'learning_rate': 0.1443846796290816, 'gamma': 7.102210315590203, 'alpha': 1.9413290843386173, 'max_depth': 8, 'reg_lambda': 0.00284261315897871}. Best is trial 92 with value: 7.160103317440021.\u001b[0m\n",
      "\u001b[32m[I 2022-01-12 04:50:11,096]\u001b[0m Trial 460 finished with value: 7.679160258886715 and parameters: {'learning_rate': 0.10192638960175038, 'gamma': 6.689175727776092, 'alpha': 2.197900626678241, 'max_depth': 8, 'reg_lambda': 0.003896702049268979}. Best is trial 92 with value: 7.160103317440021.\u001b[0m\n",
      "\u001b[32m[I 2022-01-12 04:50:11,544]\u001b[0m Trial 461 finished with value: 29.53070615791083 and parameters: {'learning_rate': 0.08342479201436356, 'gamma': 7.490730745165106, 'alpha': 1.8298900287293378, 'max_depth': 3, 'reg_lambda': 0.002416770682160763}. Best is trial 92 with value: 7.160103317440021.\u001b[0m\n",
      "\u001b[32m[I 2022-01-12 04:50:12,920]\u001b[0m Trial 462 finished with value: 7.704862067503488 and parameters: {'learning_rate': 0.07246045517490197, 'gamma': 7.188760404114856, 'alpha': 2.4183981934370804, 'max_depth': 9, 'reg_lambda': 0.0033020376462826995}. Best is trial 92 with value: 7.160103317440021.\u001b[0m\n",
      "\u001b[32m[I 2022-01-12 04:50:16,020]\u001b[0m Trial 463 finished with value: 8.415362407561437 and parameters: {'learning_rate': 0.08343017343203628, 'gamma': 7.087524955414253, 'alpha': 2.35802460887797, 'max_depth': 14, 'reg_lambda': 0.0041723897345478525}. Best is trial 92 with value: 7.160103317440021.\u001b[0m\n",
      "\u001b[32m[I 2022-01-12 04:50:17,158]\u001b[0m Trial 464 finished with value: 7.43297623341672 and parameters: {'learning_rate': 0.06210015662297606, 'gamma': 7.3100051678167866, 'alpha': 2.0600086412604677, 'max_depth': 8, 'reg_lambda': 0.0027944181520719456}. Best is trial 92 with value: 7.160103317440021.\u001b[0m\n",
      "\u001b[32m[I 2022-01-12 04:50:18,278]\u001b[0m Trial 465 finished with value: 193.05686212959154 and parameters: {'learning_rate': 0.00017460926326519292, 'gamma': 6.476343597588664, 'alpha': 1.5102965940984991, 'max_depth': 8, 'reg_lambda': 0.0017110119307449908}. Best is trial 92 with value: 7.160103317440021.\u001b[0m\n",
      "\u001b[32m[I 2022-01-12 04:50:19,188]\u001b[0m Trial 466 finished with value: 7.748433107303359 and parameters: {'learning_rate': 0.0957206798807808, 'gamma': 4.395937885139603, 'alpha': 2.3457910917898985, 'max_depth': 7, 'reg_lambda': 0.0038370042120742095}. Best is trial 92 with value: 7.160103317440021.\u001b[0m\n",
      "\u001b[32m[I 2022-01-12 04:50:20,338]\u001b[0m Trial 467 finished with value: 9.74464464397312 and parameters: {'learning_rate': 0.03064399556535948, 'gamma': 6.75376548298967, 'alpha': 2.559852537100465, 'max_depth': 8, 'reg_lambda': 0.0023779039223593983}. Best is trial 92 with value: 7.160103317440021.\u001b[0m\n",
      "\u001b[32m[I 2022-01-12 04:50:21,450]\u001b[0m Trial 468 finished with value: 7.363335365170505 and parameters: {'learning_rate': 0.07016246573480758, 'gamma': 6.647006535940293, 'alpha': 3.9367046676862194, 'max_depth': 8, 'reg_lambda': 0.004768653916249594}. Best is trial 92 with value: 7.160103317440021.\u001b[0m\n",
      "\u001b[32m[I 2022-01-12 04:50:22,579]\u001b[0m Trial 469 finished with value: 7.31982580375496 and parameters: {'learning_rate': 0.05459396142597036, 'gamma': 7.260819848141125, 'alpha': 4.170306421867737, 'max_depth': 8, 'reg_lambda': 0.0032156920599724532}. Best is trial 92 with value: 7.160103317440021.\u001b[0m\n",
      "\u001b[32m[I 2022-01-12 04:50:23,990]\u001b[0m Trial 470 finished with value: 7.725877803984068 and parameters: {'learning_rate': 0.04033972505798115, 'gamma': 4.606190761898147, 'alpha': 1.9400888946026802, 'max_depth': 9, 'reg_lambda': 0.0069717835742445335}. Best is trial 92 with value: 7.160103317440021.\u001b[0m\n",
      "\u001b[32m[I 2022-01-12 04:50:25,112]\u001b[0m Trial 471 finished with value: 7.3079094352603375 and parameters: {'learning_rate': 0.05982617187106459, 'gamma': 7.639400760595032, 'alpha': 2.463762501042027, 'max_depth': 8, 'reg_lambda': 0.0020154807873685545}. Best is trial 92 with value: 7.160103317440021.\u001b[0m\n",
      "\u001b[32m[I 2022-01-12 04:50:26,025]\u001b[0m Trial 472 finished with value: 7.8400755087198375 and parameters: {'learning_rate': 0.07628466780577971, 'gamma': 3.504780693351514, 'alpha': 1.2617227026294968, 'max_depth': 7, 'reg_lambda': 0.010231898311184909}. Best is trial 92 with value: 7.160103317440021.\u001b[0m\n",
      "\u001b[32m[I 2022-01-12 04:50:28,420]\u001b[0m Trial 473 finished with value: 8.108173460837822 and parameters: {'learning_rate': 0.04946991760212972, 'gamma': 3.669788277222292, 'alpha': 2.2050767601060692, 'max_depth': 12, 'reg_lambda': 0.003969884883434497}. Best is trial 92 with value: 7.160103317440021.\u001b[0m\n",
      "\u001b[32m[I 2022-01-12 04:50:29,568]\u001b[0m Trial 474 finished with value: 8.090629173634408 and parameters: {'learning_rate': 0.03641975381577697, 'gamma': 6.928349787910777, 'alpha': 1.765162388897929, 'max_depth': 8, 'reg_lambda': 0.0055114615764926735}. Best is trial 92 with value: 7.160103317440021.\u001b[0m\n",
      "\u001b[32m[I 2022-01-12 04:50:30,684]\u001b[0m Trial 475 finished with value: 7.285380058631882 and parameters: {'learning_rate': 0.0643684505090625, 'gamma': 0.8206632603044768, 'alpha': 2.6272303990870713, 'max_depth': 8, 'reg_lambda': 0.00800652047698123}. Best is trial 92 with value: 7.160103317440021.\u001b[0m\n",
      "\u001b[32m[I 2022-01-12 04:50:31,818]\u001b[0m Trial 476 finished with value: 7.349060929635947 and parameters: {'learning_rate': 0.04583992659620752, 'gamma': 0.546243376550712, 'alpha': 2.6636352821933844, 'max_depth': 8, 'reg_lambda': 0.0031083728891405553}. Best is trial 92 with value: 7.160103317440021.\u001b[0m\n",
      "\u001b[32m[I 2022-01-12 04:50:35,364]\u001b[0m Trial 477 finished with value: 8.335593341602843 and parameters: {'learning_rate': 0.054875601794527946, 'gamma': 4.796427500692555, 'alpha': 2.427186614108784, 'max_depth': 15, 'reg_lambda': 0.004665031882432006}. Best is trial 92 with value: 7.160103317440021.\u001b[0m\n",
      "\u001b[32m[I 2022-01-12 04:50:36,509]\u001b[0m Trial 478 finished with value: 187.15868702201118 and parameters: {'learning_rate': 0.0003493283946872238, 'gamma': 7.788243127132263, 'alpha': 4.4059256018921005, 'max_depth': 8, 'reg_lambda': 0.005979713807731009}. Best is trial 92 with value: 7.160103317440021.\u001b[0m\n",
      "\u001b[32m[I 2022-01-12 04:50:37,857]\u001b[0m Trial 479 finished with value: 152.21567188416688 and parameters: {'learning_rate': 0.0015426332992148272, 'gamma': 7.174114032555658, 'alpha': 3.79796291724876, 'max_depth': 9, 'reg_lambda': 0.002711751076431945}. Best is trial 92 with value: 7.160103317440021.\u001b[0m\n",
      "\u001b[32m[I 2022-01-12 04:50:38,941]\u001b[0m Trial 480 finished with value: 7.904213237274478 and parameters: {'learning_rate': 0.11162406869342768, 'gamma': 0.2298000850461901, 'alpha': 2.834676367918887, 'max_depth': 8, 'reg_lambda': 0.003540817436920786}. Best is trial 92 with value: 7.160103317440021.\u001b[0m\n",
      "\u001b[32m[I 2022-01-12 04:50:40,045]\u001b[0m Trial 481 finished with value: 7.585518217179531 and parameters: {'learning_rate': 0.07917840447341723, 'gamma': 4.070160330283708, 'alpha': 2.122422193110979, 'max_depth': 8, 'reg_lambda': 0.009321023620586845}. Best is trial 92 with value: 7.160103317440021.\u001b[0m\n",
      "\u001b[32m[I 2022-01-12 04:50:40,986]\u001b[0m Trial 482 finished with value: 7.689784319369091 and parameters: {'learning_rate': 0.041535759428913084, 'gamma': 4.3985310565789675, 'alpha': 2.320549207338879, 'max_depth': 7, 'reg_lambda': 0.007220445083859439}. Best is trial 92 with value: 7.160103317440021.\u001b[0m\n",
      "\u001b[32m[I 2022-01-12 04:50:42,105]\u001b[0m Trial 483 finished with value: 7.343004443202332 and parameters: {'learning_rate': 0.06427934926516504, 'gamma': 0.9788680750802263, 'alpha': 3.5714611631704294, 'max_depth': 8, 'reg_lambda': 0.011662442661098144}. Best is trial 92 with value: 7.160103317440021.\u001b[0m\n",
      "\u001b[32m[I 2022-01-12 04:50:43,582]\u001b[0m Trial 484 finished with value: 7.629904081344181 and parameters: {'learning_rate': 0.051845906670218385, 'gamma': 0.6757980648507544, 'alpha': 1.6819292544177418, 'max_depth': 9, 'reg_lambda': 0.004957182949644047}. Best is trial 92 with value: 7.160103317440021.\u001b[0m\n",
      "\u001b[32m[I 2022-01-12 04:50:44,673]\u001b[0m Trial 485 finished with value: 7.484962703776837 and parameters: {'learning_rate': 0.0901837734222914, 'gamma': 4.569944319638394, 'alpha': 3.4113351019254328, 'max_depth': 8, 'reg_lambda': 0.0014823728711165342}. Best is trial 92 with value: 7.160103317440021.\u001b[0m\n",
      "\u001b[32m[I 2022-01-12 04:50:45,819]\u001b[0m Trial 486 finished with value: 7.223074344588803 and parameters: {'learning_rate': 0.04679504468154348, 'gamma': 7.4700663908977765, 'alpha': 2.64940998030145, 'max_depth': 8, 'reg_lambda': 0.0020218292669864765}. Best is trial 92 with value: 7.160103317440021.\u001b[0m\n",
      "\u001b[32m[I 2022-01-12 04:50:46,869]\u001b[0m Trial 487 finished with value: 8.351201965184226 and parameters: {'learning_rate': 0.2033202743737829, 'gamma': 7.217574817767966, 'alpha': 5.278852051942391, 'max_depth': 8, 'reg_lambda': 0.0017509992091609347}. Best is trial 92 with value: 7.160103317440021.\u001b[0m\n",
      "\u001b[32m[I 2022-01-12 04:50:48,009]\u001b[0m Trial 488 finished with value: 8.66555784459479 and parameters: {'learning_rate': 0.033824764431691884, 'gamma': 7.400803271615552, 'alpha': 2.869293808556166, 'max_depth': 8, 'reg_lambda': 0.0020703373356941333}. Best is trial 92 with value: 7.160103317440021.\u001b[0m\n",
      "\u001b[32m[I 2022-01-12 04:50:49,166]\u001b[0m Trial 489 finished with value: 7.3224690045992595 and parameters: {'learning_rate': 0.0587742883240244, 'gamma': 3.258126768220811, 'alpha': 3.243558067343952, 'max_depth': 8, 'reg_lambda': 0.0013006921264779108}. Best is trial 92 with value: 7.160103317440021.\u001b[0m\n",
      "\u001b[32m[I 2022-01-12 04:50:50,079]\u001b[0m Trial 490 finished with value: 7.425789821706428 and parameters: {'learning_rate': 0.07141094595580857, 'gamma': 7.521815827148835, 'alpha': 2.51054267072231, 'max_depth': 7, 'reg_lambda': 0.002439785585391952}. Best is trial 92 with value: 7.160103317440021.\u001b[0m\n",
      "\u001b[32m[I 2022-01-12 04:50:51,477]\u001b[0m Trial 491 finished with value: 7.620169587203596 and parameters: {'learning_rate': 0.04175184006994424, 'gamma': 7.00472349448919, 'alpha': 1.9440332857913518, 'max_depth': 9, 'reg_lambda': 0.0018510591274020142}. Best is trial 92 with value: 7.160103317440021.\u001b[0m\n",
      "\u001b[32m[I 2022-01-12 04:50:52,604]\u001b[0m Trial 492 finished with value: 7.20064266478056 and parameters: {'learning_rate': 0.05141233735172763, 'gamma': 7.757562471631013, 'alpha': 3.625108083013701, 'max_depth': 8, 'reg_lambda': 0.0022079994199903654}. Best is trial 92 with value: 7.160103317440021.\u001b[0m\n",
      "\u001b[32m[I 2022-01-12 04:50:53,148]\u001b[0m Trial 493 finished with value: 12.20861776860061 and parameters: {'learning_rate': 0.06272086383435047, 'gamma': 7.597798676446533, 'alpha': 3.7719217986682856, 'max_depth': 4, 'reg_lambda': 0.0015103958728862558}. Best is trial 92 with value: 7.160103317440021.\u001b[0m\n",
      "\u001b[32m[I 2022-01-12 04:50:54,279]\u001b[0m Trial 494 finished with value: 7.22732847233872 and parameters: {'learning_rate': 0.053569883832018425, 'gamma': 7.78680192349081, 'alpha': 3.9572678319817065, 'max_depth': 8, 'reg_lambda': 0.002035545910460553}. Best is trial 92 with value: 7.160103317440021.\u001b[0m\n",
      "\u001b[32m[I 2022-01-12 04:50:55,934]\u001b[0m Trial 495 finished with value: 7.675460290058528 and parameters: {'learning_rate': 0.051960286925882, 'gamma': 7.881195487940044, 'alpha': 4.030944274318812, 'max_depth': 10, 'reg_lambda': 0.002034784076286739}. Best is trial 92 with value: 7.160103317440021.\u001b[0m\n",
      "\u001b[32m[I 2022-01-12 04:50:56,870]\u001b[0m Trial 496 finished with value: 7.592965428450422 and parameters: {'learning_rate': 0.04404550816944157, 'gamma': 7.380810850099445, 'alpha': 3.9763245204052513, 'max_depth': 7, 'reg_lambda': 0.0012669407573180891}. Best is trial 92 with value: 7.160103317440021.\u001b[0m\n",
      "\u001b[32m[I 2022-01-12 04:50:58,002]\u001b[0m Trial 497 finished with value: 11.858166676488846 and parameters: {'learning_rate': 0.02704282756779848, 'gamma': 8.125902721536157, 'alpha': 4.186609428444515, 'max_depth': 8, 'reg_lambda': 0.0015739194241650833}. Best is trial 92 with value: 7.160103317440021.\u001b[0m\n",
      "\u001b[32m[I 2022-01-12 04:50:59,159]\u001b[0m Trial 498 finished with value: 7.929281460824542 and parameters: {'learning_rate': 0.037705457428818735, 'gamma': 7.741063533986925, 'alpha': 3.5878020504376575, 'max_depth': 8, 'reg_lambda': 0.002296223172972892}. Best is trial 92 with value: 7.160103317440021.\u001b[0m\n",
      "\u001b[32m[I 2022-01-12 04:51:00,283]\u001b[0m Trial 499 finished with value: 7.395030075563949 and parameters: {'learning_rate': 0.05581246291023009, 'gamma': 7.654296893203548, 'alpha': 3.761210907000204, 'max_depth': 8, 'reg_lambda': 0.0018098160623823791}. Best is trial 92 with value: 7.160103317440021.\u001b[0m\n"
     ]
    },
    {
     "name": "stdout",
     "output_type": "stream",
     "text": [
      "Number of finished trials: 500\n",
      "Best Params:  {'learning_rate': 0.05207536502852557, 'gamma': 4.502275297239194, 'alpha': 3.3168683621496244, 'max_depth': 8, 'reg_lambda': 0.014396970332465212}\n"
     ]
    }
   ],
   "source": [
    "study = optuna.create_study(direction = \"minimize\")\n",
    "study.optimize(hp_tuning, n_trials=500)\n",
    "print('Number of finished trials:', len(study.trials))\n",
    "print(\"Best Params: \",study.best_params)"
   ]
  },
  {
   "cell_type": "code",
   "execution_count": 34,
   "id": "74fece3f-87c9-4888-995b-e8ed19d5907f",
   "metadata": {},
   "outputs": [
    {
     "name": "stdout",
     "output_type": "stream",
     "text": [
      "Best Params:  {'learning_rate': 0.05207536502852557, 'gamma': 4.502275297239194, 'alpha': 3.3168683621496244, 'max_depth': 8, 'reg_lambda': 0.014396970332465212}\n"
     ]
    }
   ],
   "source": [
    "print(\"Best Params: \",study.best_params)"
   ]
  },
  {
   "cell_type": "code",
   "execution_count": 35,
   "id": "a0bc2656-b905-429c-b084-18da99625bc9",
   "metadata": {},
   "outputs": [],
   "source": [
    "model = XGBRegressor(learning_rate = study.best_params['learning_rate'], gamma = study.best_params['gamma'],\n",
    "                     alpha = study.best_params['alpha'], max_depth = study.best_params['max_depth'],\n",
    "                     reg_lambda = study.best_params['reg_lambda'])"
   ]
  },
  {
   "cell_type": "code",
   "execution_count": 36,
   "id": "e16766a8-4cff-4a0d-b466-76b4d97ec6ea",
   "metadata": {},
   "outputs": [
    {
     "data": {
      "text/plain": [
       "XGBRegressor(alpha=3.3168683621496244, base_score=0.5, booster='gbtree',\n",
       "             colsample_bylevel=1, colsample_bynode=1, colsample_bytree=1,\n",
       "             enable_categorical=False, gamma=4.502275297239194, gpu_id=-1,\n",
       "             importance_type=None, interaction_constraints='',\n",
       "             learning_rate=0.05207536502852557, max_delta_step=0, max_depth=8,\n",
       "             min_child_weight=1, missing=nan, monotone_constraints='()',\n",
       "             n_estimators=100, n_jobs=7, num_parallel_tree=1, predictor='auto',\n",
       "             random_state=0, reg_alpha=3.31686831,\n",
       "             reg_lambda=0.014396970332465212, scale_pos_weight=1, subsample=1,\n",
       "             tree_method='exact', validate_parameters=1, verbosity=None)"
      ]
     },
     "execution_count": 36,
     "metadata": {},
     "output_type": "execute_result"
    }
   ],
   "source": [
    "model.fit(xs, y)"
   ]
  },
  {
   "cell_type": "code",
   "execution_count": 37,
   "id": "1279441d-487f-4f97-90d6-bf49164c298b",
   "metadata": {},
   "outputs": [
    {
     "data": {
      "text/plain": [
       "4.121421843911426"
      ]
     },
     "execution_count": 37,
     "metadata": {},
     "output_type": "execute_result"
    }
   ],
   "source": [
    "cal_smape(model.predict(xs), y)"
   ]
  },
  {
   "cell_type": "code",
   "execution_count": 38,
   "id": "27b03fc6-a833-4037-8c88-47e7ac9f5191",
   "metadata": {},
   "outputs": [
    {
     "data": {
      "text/plain": [
       "7.160103317440021"
      ]
     },
     "execution_count": 38,
     "metadata": {},
     "output_type": "execute_result"
    }
   ],
   "source": [
    "cal_smape(model.predict(valid_xs), valid_y)"
   ]
  },
  {
   "cell_type": "code",
   "execution_count": 39,
   "id": "26563945-0070-4840-8d83-48c070f5ca74",
   "metadata": {},
   "outputs": [],
   "source": [
    "test = pd.read_csv(\"test.csv\")\n",
    "test[\"num_sold\"] = 0\n",
    "emb_dim = country_map['Finland'].shape[0]\n",
    "col_name = [f'country_emb_{i}' for i in range(1, emb_dim + 1)]\n",
    "test_emb_country = pd.DataFrame(test['country'].map(country_map).to_list(), columns = col_name)\n",
    "\n",
    "emb_dim = product_map['Kaggle Mug'].shape[0]\n",
    "col_name = [f'product_emb_{i}' for i in range(1, emb_dim + 1)]\n",
    "test_emb_product = pd.DataFrame(test['product'].map(product_map).to_list(), columns = col_name)\n",
    "\n",
    "emb_dim = store_map['KaggleMart'].shape[0]\n",
    "col_name = [f'store_emb_{i}' for i in range(1, emb_dim + 1)]\n",
    "test_emb_store = pd.DataFrame(test['store'].map(store_map).to_list(), columns = col_name)\n"
   ]
  },
  {
   "cell_type": "code",
   "execution_count": 40,
   "id": "16e49200-752c-458f-b1cf-a3e3b5df6598",
   "metadata": {},
   "outputs": [],
   "source": [
    "cols = xs.columns"
   ]
  },
  {
   "cell_type": "code",
   "execution_count": 41,
   "id": "d955a30d-1669-4de9-9255-a18d747fe4f1",
   "metadata": {},
   "outputs": [],
   "source": [
    "test_fn = pd.concat([test[[\"date\", \"num_sold\"]],test_emb_country, test_emb_product, test_emb_store ], axis = 1)"
   ]
  },
  {
   "cell_type": "code",
   "execution_count": 42,
   "id": "8fef449b-837f-4dea-a0a2-41b938492a0d",
   "metadata": {},
   "outputs": [],
   "source": [
    "test_fn = add_datepart(test_fn, 'date')"
   ]
  },
  {
   "cell_type": "code",
   "execution_count": 43,
   "id": "a559207d-de2f-4377-b1c3-e5d3eeb6bbbc",
   "metadata": {},
   "outputs": [],
   "source": [
    "emb_dim = month_map[1].shape[0]\n",
    "col_name = [f'month_emb_{i}' for i in range(1, emb_dim + 1)]\n",
    "test_emb_month = pd.DataFrame(test_fn['Month'].map(month_map).to_list(), columns = col_name)"
   ]
  },
  {
   "cell_type": "code",
   "execution_count": 44,
   "id": "c6a5711b-d59d-4512-b099-4fa12ca6e786",
   "metadata": {},
   "outputs": [],
   "source": [
    "test_fn = pd.concat([test_fn, test_emb_month], axis = 1)"
   ]
  },
  {
   "cell_type": "code",
   "execution_count": 45,
   "id": "2df6f781-01d3-4ce7-b01c-383f3bbd1125",
   "metadata": {},
   "outputs": [],
   "source": [
    "to_test = TabularPandas(test_fn, procs, cat, cont, y_names = dep_var, splits = None)"
   ]
  },
  {
   "cell_type": "code",
   "execution_count": 46,
   "id": "cf221239-ba1b-4a1d-aa3e-161e8022943f",
   "metadata": {},
   "outputs": [],
   "source": [
    "test_xs = to_test.train.xs"
   ]
  },
  {
   "cell_type": "code",
   "execution_count": 47,
   "id": "ac9f8b0b-f27b-4692-a757-3995c6a87b01",
   "metadata": {},
   "outputs": [],
   "source": [
    "preds_test = model.predict(test_xs)"
   ]
  },
  {
   "cell_type": "code",
   "execution_count": 48,
   "id": "b7b02a2d-117d-44ae-a09d-82430bc0cffd",
   "metadata": {},
   "outputs": [
    {
     "data": {
      "text/plain": [
       "array([ 304.0204 ,  481.66882,  133.66125, ...,  863.4396 , 1635.0586 ,\n",
       "        444.41525], dtype=float32)"
      ]
     },
     "execution_count": 48,
     "metadata": {},
     "output_type": "execute_result"
    }
   ],
   "source": [
    "preds_test"
   ]
  },
  {
   "cell_type": "code",
   "execution_count": 49,
   "id": "df5f110f-5c7b-4670-97bb-2e44ea588d8e",
   "metadata": {},
   "outputs": [],
   "source": [
    "ids = list(test[\"row_id\"].values)\n",
    "submission = pd.DataFrame()\n",
    "submission[\"row_id\"] = ids\n",
    "submission[\"num_sold\"] = list(preds_test)"
   ]
  },
  {
   "cell_type": "code",
   "execution_count": 50,
   "id": "9ca7cd37-9819-4cf2-b324-2ddc8cf21484",
   "metadata": {},
   "outputs": [],
   "source": [
    "submission.to_csv(\"submission.csv\", index = False)"
   ]
  },
  {
   "cell_type": "code",
   "execution_count": 51,
   "id": "cc0d15e2-f3f3-4aca-8c6d-1f9868a9f540",
   "metadata": {},
   "outputs": [],
   "source": [
    "def rf_feat_importance(m, df):\n",
    "  return pd.DataFrame({'cols' : df.columns, 'imp' : m.feature_importances_}).sort_values(by = 'imp', ascending = False)"
   ]
  },
  {
   "cell_type": "code",
   "execution_count": 52,
   "id": "ef1bdc40-e8c0-4565-b803-159c3ff8fb16",
   "metadata": {},
   "outputs": [
    {
     "data": {
      "text/html": [
       "<div>\n",
       "<style scoped>\n",
       "    .dataframe tbody tr th:only-of-type {\n",
       "        vertical-align: middle;\n",
       "    }\n",
       "\n",
       "    .dataframe tbody tr th {\n",
       "        vertical-align: top;\n",
       "    }\n",
       "\n",
       "    .dataframe thead th {\n",
       "        text-align: right;\n",
       "    }\n",
       "</style>\n",
       "<table border=\"1\" class=\"dataframe\">\n",
       "  <thead>\n",
       "    <tr style=\"text-align: right;\">\n",
       "      <th></th>\n",
       "      <th>cols</th>\n",
       "      <th>imp</th>\n",
       "    </tr>\n",
       "  </thead>\n",
       "  <tbody>\n",
       "    <tr>\n",
       "      <th>15</th>\n",
       "      <td>product_emb_1</td>\n",
       "      <td>0.672065</td>\n",
       "    </tr>\n",
       "    <tr>\n",
       "      <th>12</th>\n",
       "      <td>store_emb_1</td>\n",
       "      <td>0.179317</td>\n",
       "    </tr>\n",
       "    <tr>\n",
       "      <th>23</th>\n",
       "      <td>month_emb_2</td>\n",
       "      <td>0.065186</td>\n",
       "    </tr>\n",
       "    <tr>\n",
       "      <th>18</th>\n",
       "      <td>country_emb_1</td>\n",
       "      <td>0.034064</td>\n",
       "    </tr>\n",
       "    <tr>\n",
       "      <th>25</th>\n",
       "      <td>month_emb_4</td>\n",
       "      <td>0.010154</td>\n",
       "    </tr>\n",
       "    <tr>\n",
       "      <th>4</th>\n",
       "      <td>Dayofweek</td>\n",
       "      <td>0.008008</td>\n",
       "    </tr>\n",
       "    <tr>\n",
       "      <th>5</th>\n",
       "      <td>Dayofyear</td>\n",
       "      <td>0.007916</td>\n",
       "    </tr>\n",
       "    <tr>\n",
       "      <th>28</th>\n",
       "      <td>month_emb_7</td>\n",
       "      <td>0.004500</td>\n",
       "    </tr>\n",
       "    <tr>\n",
       "      <th>1</th>\n",
       "      <td>Month</td>\n",
       "      <td>0.003908</td>\n",
       "    </tr>\n",
       "    <tr>\n",
       "      <th>2</th>\n",
       "      <td>Week</td>\n",
       "      <td>0.002999</td>\n",
       "    </tr>\n",
       "  </tbody>\n",
       "</table>\n",
       "</div>"
      ],
      "text/plain": [
       "             cols       imp\n",
       "15  product_emb_1  0.672065\n",
       "12    store_emb_1  0.179317\n",
       "23    month_emb_2  0.065186\n",
       "18  country_emb_1  0.034064\n",
       "25    month_emb_4  0.010154\n",
       "4       Dayofweek  0.008008\n",
       "5       Dayofyear  0.007916\n",
       "28    month_emb_7  0.004500\n",
       "1           Month  0.003908\n",
       "2            Week  0.002999"
      ]
     },
     "execution_count": 52,
     "metadata": {},
     "output_type": "execute_result"
    }
   ],
   "source": [
    "fi = rf_feat_importance(model, xs)\n",
    "fi[:10]"
   ]
  },
  {
   "cell_type": "code",
   "execution_count": 53,
   "id": "9a797a58-e836-457d-8ecd-e3fe47d35848",
   "metadata": {},
   "outputs": [],
   "source": [
    "def plot_fi(fi):\n",
    "  return fi.plot('cols', 'imp', 'barh', figsize = (12, 7), legend = False)"
   ]
  },
  {
   "cell_type": "code",
   "execution_count": 54,
   "id": "420701ad-0671-4fc4-8236-28bbb2a8cd25",
   "metadata": {},
   "outputs": [
    {
     "data": {
      "text/plain": [
       "<AxesSubplot:ylabel='cols'>"
      ]
     },
     "execution_count": 54,
     "metadata": {},
     "output_type": "execute_result"
    },
    {
     "data": {
      "image/png": "[encoded data removed]",
      "text/plain": [
       "<Figure size 864x504 with 1 Axes>"
      ]
     },
     "metadata": {
      "needs_background": "light"
     },
     "output_type": "display_data"
    }
   ],
   "source": [
    "plot_fi(fi[:30])"
   ]
  },
  {
   "cell_type": "code",
   "execution_count": 55,
   "id": "f9d95e28-8d9b-4128-a002-6db7c6d62acd",
   "metadata": {},
   "outputs": [
    {
     "data": {
      "text/plain": [
       "7"
      ]
     },
     "execution_count": 55,
     "metadata": {},
     "output_type": "execute_result"
    }
   ],
   "source": [
    "to_keep = fi[fi.imp>0.005].cols\n",
    "\n",
    "len(to_keep)"
   ]
  },
  {
   "cell_type": "code",
   "execution_count": 56,
   "id": "e07eb767-df8e-403e-b671-452798286dc8",
   "metadata": {},
   "outputs": [
    {
     "data": {
      "text/plain": [
       "15    product_emb_1\n",
       "12      store_emb_1\n",
       "23      month_emb_2\n",
       "18    country_emb_1\n",
       "25      month_emb_4\n",
       "4         Dayofweek\n",
       "5         Dayofyear\n",
       "Name: cols, dtype: object"
      ]
     },
     "execution_count": 56,
     "metadata": {},
     "output_type": "execute_result"
    }
   ],
   "source": [
    "to_keep"
   ]
  },
  {
   "cell_type": "code",
   "execution_count": 57,
   "id": "2b64c03b-3e71-4cb7-9c00-33f58035101f",
   "metadata": {},
   "outputs": [],
   "source": [
    "xs_imp = xs[to_keep]\n",
    "valid_xs_imp = valid_xs[to_keep]"
   ]
  },
  {
   "cell_type": "code",
   "execution_count": 58,
   "id": "2d4229b8-1447-4b73-a522-42c4e98d484b",
   "metadata": {},
   "outputs": [],
   "source": [
    "model = XGBRegressor(learning_rate = study.best_params['learning_rate'], gamma = study.best_params['gamma'],\n",
    "                     alpha = study.best_params['alpha'], max_depth = study.best_params['max_depth'],\n",
    "                     reg_lambda = study.best_params['reg_lambda'])"
   ]
  },
  {
   "cell_type": "code",
   "execution_count": 59,
   "id": "2ad867d6-e8c7-41cd-9723-931fd710bf19",
   "metadata": {},
   "outputs": [
    {
     "data": {
      "text/plain": [
       "XGBRegressor(alpha=3.3168683621496244, base_score=0.5, booster='gbtree',\n",
       "             colsample_bylevel=1, colsample_bynode=1, colsample_bytree=1,\n",
       "             enable_categorical=False, gamma=4.502275297239194, gpu_id=-1,\n",
       "             importance_type=None, interaction_constraints='',\n",
       "             learning_rate=0.05207536502852557, max_delta_step=0, max_depth=8,\n",
       "             min_child_weight=1, missing=nan, monotone_constraints='()',\n",
       "             n_estimators=100, n_jobs=7, num_parallel_tree=1, predictor='auto',\n",
       "             random_state=0, reg_alpha=3.31686831,\n",
       "             reg_lambda=0.014396970332465212, scale_pos_weight=1, subsample=1,\n",
       "             tree_method='exact', validate_parameters=1, verbosity=None)"
      ]
     },
     "execution_count": 59,
     "metadata": {},
     "output_type": "execute_result"
    }
   ],
   "source": [
    "model.fit(xs_imp, y)"
   ]
  },
  {
   "cell_type": "code",
   "execution_count": 60,
   "id": "3a59b47e-f6a9-443e-8036-1b7427bfc8e6",
   "metadata": {},
   "outputs": [
    {
     "data": {
      "text/plain": [
       "5.841299158935584"
      ]
     },
     "execution_count": 60,
     "metadata": {},
     "output_type": "execute_result"
    }
   ],
   "source": [
    "cal_smape(model.predict(xs_imp), y)"
   ]
  },
  {
   "cell_type": "code",
   "execution_count": 64,
   "id": "f196636b-bfc7-46b6-a14d-0d2bbd03f2ba",
   "metadata": {},
   "outputs": [
    {
     "data": {
      "text/plain": [
       "12.440880571542843"
      ]
     },
     "execution_count": 64,
     "metadata": {},
     "output_type": "execute_result"
    }
   ],
   "source": [
    "cal_smape(model.predict(valid_xs_imp), valid_y)"
   ]
  },
  {
   "cell_type": "code",
   "execution_count": 65,
   "id": "5c90ba19-6215-46af-a0d7-5327a4505ec9",
   "metadata": {},
   "outputs": [],
   "source": [
    "test_xs = test_xs[to_keep]\n",
    "preds_test = model.predict(test_xs)"
   ]
  },
  {
   "cell_type": "code",
   "execution_count": 66,
   "id": "9e87f03f-30d5-4e3a-b60a-d981340996a8",
   "metadata": {},
   "outputs": [],
   "source": [
    "ids = list(test[\"row_id\"].values)\n",
    "submission = pd.DataFrame()\n",
    "submission[\"row_id\"] = ids\n",
    "submission[\"num_sold\"] = list(preds_test)"
   ]
  },
  {
   "cell_type": "code",
   "execution_count": 67,
   "id": "6dd32347-df1b-405f-8f14-640f9a47d7fa",
   "metadata": {},
   "outputs": [
    {
     "data": {
      "text/plain": [
       "array([ 329.1715 ,  497.52258,  135.52821, ...,  890.0403 , 1377.3887 ,\n",
       "        405.13718], dtype=float32)"
      ]
     },
     "execution_count": 67,
     "metadata": {},
     "output_type": "execute_result"
    }
   ],
   "source": [
    "preds_test"
   ]
  },
  {
   "cell_type": "code",
   "execution_count": 68,
   "id": "54093c59-8e21-4bd8-bf6d-2550b364877a",
   "metadata": {},
   "outputs": [],
   "source": [
    "submission.to_csv(\"submission.csv\", index = False)"
   ]
  },
  {
   "cell_type": "code",
   "execution_count": 70,
   "id": "2f339389-4197-4824-850f-656c7adecea5",
   "metadata": {},
   "outputs": [
    {
     "name": "stdout",
     "output_type": "stream",
     "text": [
      "100%|████████████████████████████████████████| 101k/101k [00:04<00:00, 21.0kB/s]\n",
      "Successfully submitted to Tabular Playground Series - Jan 2022"
     ]
    }
   ],
   "source": [
    "! kaggle competitions submit -c tabular-playground-series-jan-2022 -f submission.csv -m \"whgggg\""
   ]
  },
  {
   "cell_type": "code",
   "execution_count": null,
   "id": "ffa80683-c6e0-4572-b6c4-8677106d9970",
   "metadata": {},
   "outputs": [],
   "source": []
  }
 ],
 "metadata": {
  "kernelspec": {
   "display_name": "Python 3 (ipykernel)",
   "language": "python",
   "name": "python3"
  },
  "language_info": {
   "codemirror_mode": {
    "name": "ipython",
    "version": 3
   },
   "file_extension": ".py",
   "mimetype": "text/x-python",
   "name": "python",
   "nbconvert_exporter": "python",
   "pygments_lexer": "ipython3",
   "version": "3.8.12"
  }
 },
 "nbformat": 4,
 "nbformat_minor": 5
}
