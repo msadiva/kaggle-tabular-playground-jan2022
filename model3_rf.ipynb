{
 "cells": [
  {
   "cell_type": "code",
   "execution_count": 1,
   "id": "2d8dde50-15e2-4546-b2f9-6e9710ccb3e4",
   "metadata": {},
   "outputs": [
    {
     "name": "stdout",
     "output_type": "stream",
     "text": [
      "CPU times: user 1.45 s, sys: 1.05 s, total: 2.51 s\n",
      "Wall time: 1.77 s\n"
     ]
    }
   ],
   "source": [
    "%%time\n",
    "import fastai\n",
    "from fastai.tabular.all import *\n",
    "from pathlib import Path\n",
    "import os\n",
    "from sklearn.tree import DecisionTreeRegressor\n",
    "from dtreeviz.trees import *\n",
    "import IPython\n",
    "from sklearn.ensemble import RandomForestRegressor\n",
    "from IPython.display import Image, display_svg, SVG\n",
    "from sklearn.tree import export_graphviz\n",
    "import waterfall_chart\n",
    "from treeinterpreter import treeinterpreter\n",
    "from sklearn.inspection import plot_partial_dependence\n",
    "from scipy.cluster import hierarchy as hc"
   ]
  },
  {
   "cell_type": "code",
   "execution_count": 2,
   "id": "10ec02d9-01eb-45b0-ba81-5baefd6c90c6",
   "metadata": {},
   "outputs": [
    {
     "name": "stdout",
     "output_type": "stream",
     "text": [
      "CPU times: user 21.2 ms, sys: 10.5 ms, total: 31.7 ms\n",
      "Wall time: 31.6 ms\n"
     ]
    }
   ],
   "source": [
    "%%time\n",
    "df = pd.read_csv(\"train.csv\", low_memory = False)"
   ]
  },
  {
   "cell_type": "code",
   "execution_count": 3,
   "id": "2d079e23-926e-4eec-ae6f-6277052cafec",
   "metadata": {},
   "outputs": [
    {
     "name": "stdout",
     "output_type": "stream",
     "text": [
      "CPU times: user 77.4 ms, sys: 622 µs, total: 78 ms\n",
      "Wall time: 74.4 ms\n"
     ]
    }
   ],
   "source": [
    "%%time\n",
    "df = add_datepart(df, 'date')"
   ]
  },
  {
   "cell_type": "code",
   "execution_count": 4,
   "id": "e3d671c0-66cd-4358-b42e-d2c9166a92c2",
   "metadata": {},
   "outputs": [
    {
     "data": {
      "text/plain": [
       "(70, 2884)"
      ]
     },
     "execution_count": 4,
     "metadata": {},
     "output_type": "execute_result"
    }
   ],
   "source": [
    "df[\"num_sold\"].min(), df[\"num_sold\"].max()"
   ]
  },
  {
   "cell_type": "code",
   "execution_count": 5,
   "id": "5bd4638c-e8a4-4a3b-ae3b-b13b72606949",
   "metadata": {},
   "outputs": [
    {
     "data": {
      "text/html": [
       "<div>\n",
       "<style scoped>\n",
       "    .dataframe tbody tr th:only-of-type {\n",
       "        vertical-align: middle;\n",
       "    }\n",
       "\n",
       "    .dataframe tbody tr th {\n",
       "        vertical-align: top;\n",
       "    }\n",
       "\n",
       "    .dataframe thead th {\n",
       "        text-align: right;\n",
       "    }\n",
       "</style>\n",
       "<table border=\"1\" class=\"dataframe\">\n",
       "  <thead>\n",
       "    <tr style=\"text-align: right;\">\n",
       "      <th></th>\n",
       "      <th>row_id</th>\n",
       "      <th>country</th>\n",
       "      <th>store</th>\n",
       "      <th>product</th>\n",
       "      <th>num_sold</th>\n",
       "      <th>Year</th>\n",
       "      <th>Month</th>\n",
       "      <th>Week</th>\n",
       "      <th>Day</th>\n",
       "      <th>Dayofweek</th>\n",
       "      <th>Dayofyear</th>\n",
       "      <th>Is_month_end</th>\n",
       "      <th>Is_month_start</th>\n",
       "      <th>Is_quarter_end</th>\n",
       "      <th>Is_quarter_start</th>\n",
       "      <th>Is_year_end</th>\n",
       "      <th>Is_year_start</th>\n",
       "      <th>Elapsed</th>\n",
       "    </tr>\n",
       "  </thead>\n",
       "  <tbody>\n",
       "    <tr>\n",
       "      <th>0</th>\n",
       "      <td>0</td>\n",
       "      <td>Finland</td>\n",
       "      <td>KaggleMart</td>\n",
       "      <td>Kaggle Mug</td>\n",
       "      <td>329</td>\n",
       "      <td>2015</td>\n",
       "      <td>1</td>\n",
       "      <td>1</td>\n",
       "      <td>1</td>\n",
       "      <td>3</td>\n",
       "      <td>1</td>\n",
       "      <td>False</td>\n",
       "      <td>True</td>\n",
       "      <td>False</td>\n",
       "      <td>True</td>\n",
       "      <td>False</td>\n",
       "      <td>True</td>\n",
       "      <td>1.420070e+09</td>\n",
       "    </tr>\n",
       "    <tr>\n",
       "      <th>1</th>\n",
       "      <td>1</td>\n",
       "      <td>Finland</td>\n",
       "      <td>KaggleMart</td>\n",
       "      <td>Kaggle Hat</td>\n",
       "      <td>520</td>\n",
       "      <td>2015</td>\n",
       "      <td>1</td>\n",
       "      <td>1</td>\n",
       "      <td>1</td>\n",
       "      <td>3</td>\n",
       "      <td>1</td>\n",
       "      <td>False</td>\n",
       "      <td>True</td>\n",
       "      <td>False</td>\n",
       "      <td>True</td>\n",
       "      <td>False</td>\n",
       "      <td>True</td>\n",
       "      <td>1.420070e+09</td>\n",
       "    </tr>\n",
       "    <tr>\n",
       "      <th>2</th>\n",
       "      <td>2</td>\n",
       "      <td>Finland</td>\n",
       "      <td>KaggleMart</td>\n",
       "      <td>Kaggle Sticker</td>\n",
       "      <td>146</td>\n",
       "      <td>2015</td>\n",
       "      <td>1</td>\n",
       "      <td>1</td>\n",
       "      <td>1</td>\n",
       "      <td>3</td>\n",
       "      <td>1</td>\n",
       "      <td>False</td>\n",
       "      <td>True</td>\n",
       "      <td>False</td>\n",
       "      <td>True</td>\n",
       "      <td>False</td>\n",
       "      <td>True</td>\n",
       "      <td>1.420070e+09</td>\n",
       "    </tr>\n",
       "    <tr>\n",
       "      <th>3</th>\n",
       "      <td>3</td>\n",
       "      <td>Finland</td>\n",
       "      <td>KaggleRama</td>\n",
       "      <td>Kaggle Mug</td>\n",
       "      <td>572</td>\n",
       "      <td>2015</td>\n",
       "      <td>1</td>\n",
       "      <td>1</td>\n",
       "      <td>1</td>\n",
       "      <td>3</td>\n",
       "      <td>1</td>\n",
       "      <td>False</td>\n",
       "      <td>True</td>\n",
       "      <td>False</td>\n",
       "      <td>True</td>\n",
       "      <td>False</td>\n",
       "      <td>True</td>\n",
       "      <td>1.420070e+09</td>\n",
       "    </tr>\n",
       "    <tr>\n",
       "      <th>4</th>\n",
       "      <td>4</td>\n",
       "      <td>Finland</td>\n",
       "      <td>KaggleRama</td>\n",
       "      <td>Kaggle Hat</td>\n",
       "      <td>911</td>\n",
       "      <td>2015</td>\n",
       "      <td>1</td>\n",
       "      <td>1</td>\n",
       "      <td>1</td>\n",
       "      <td>3</td>\n",
       "      <td>1</td>\n",
       "      <td>False</td>\n",
       "      <td>True</td>\n",
       "      <td>False</td>\n",
       "      <td>True</td>\n",
       "      <td>False</td>\n",
       "      <td>True</td>\n",
       "      <td>1.420070e+09</td>\n",
       "    </tr>\n",
       "  </tbody>\n",
       "</table>\n",
       "</div>"
      ],
      "text/plain": [
       "   row_id  country       store         product  num_sold  Year  Month  Week  \\\n",
       "0       0  Finland  KaggleMart      Kaggle Mug       329  2015      1     1   \n",
       "1       1  Finland  KaggleMart      Kaggle Hat       520  2015      1     1   \n",
       "2       2  Finland  KaggleMart  Kaggle Sticker       146  2015      1     1   \n",
       "3       3  Finland  KaggleRama      Kaggle Mug       572  2015      1     1   \n",
       "4       4  Finland  KaggleRama      Kaggle Hat       911  2015      1     1   \n",
       "\n",
       "   Day  Dayofweek  Dayofyear  Is_month_end  Is_month_start  Is_quarter_end  \\\n",
       "0    1          3          1         False            True           False   \n",
       "1    1          3          1         False            True           False   \n",
       "2    1          3          1         False            True           False   \n",
       "3    1          3          1         False            True           False   \n",
       "4    1          3          1         False            True           False   \n",
       "\n",
       "   Is_quarter_start  Is_year_end  Is_year_start       Elapsed  \n",
       "0              True        False           True  1.420070e+09  \n",
       "1              True        False           True  1.420070e+09  \n",
       "2              True        False           True  1.420070e+09  \n",
       "3              True        False           True  1.420070e+09  \n",
       "4              True        False           True  1.420070e+09  "
      ]
     },
     "execution_count": 5,
     "metadata": {},
     "output_type": "execute_result"
    }
   ],
   "source": [
    "df.head()"
   ]
  },
  {
   "cell_type": "code",
   "execution_count": 6,
   "id": "6ba6fc6b-4a67-4793-8f22-2fe0a249be6f",
   "metadata": {},
   "outputs": [],
   "source": [
    "cond = (df.Year < 2018)\n",
    "train_idx = np.where(cond)[0]\n",
    "valid_idx = np.where(~cond)[0]"
   ]
  },
  {
   "cell_type": "code",
   "execution_count": 7,
   "id": "0de69918-b8b9-4608-b6b1-90494c11edea",
   "metadata": {},
   "outputs": [],
   "source": [
    "splits = (list(train_idx), list(valid_idx))\n",
    "dep_var = \"num_sold\"\n",
    "cont, cat = cont_cat_split(df, 1, dep_var)"
   ]
  },
  {
   "cell_type": "code",
   "execution_count": 8,
   "id": "29753842-306c-4f03-ad1e-ba00b22e0629",
   "metadata": {},
   "outputs": [
    {
     "data": {
      "text/plain": [
       "['row_id', 'Year', 'Month', 'Week', 'Day', 'Dayofweek', 'Dayofyear', 'Elapsed']"
      ]
     },
     "execution_count": 8,
     "metadata": {},
     "output_type": "execute_result"
    }
   ],
   "source": [
    "cont"
   ]
  },
  {
   "cell_type": "code",
   "execution_count": 9,
   "id": "0385d357-2c72-4f4f-ab05-7d05198adfae",
   "metadata": {},
   "outputs": [],
   "source": [
    "cont.remove(\"row_id\")"
   ]
  },
  {
   "cell_type": "code",
   "execution_count": 10,
   "id": "dbbbde4c-b50c-4435-b7e7-79e9fc6cbdd4",
   "metadata": {},
   "outputs": [],
   "source": [
    "procs = [Categorify, FillMissing]\n",
    "to = TabularPandas(df, procs, cat, cont, y_names = dep_var, splits = splits)"
   ]
  },
  {
   "cell_type": "code",
   "execution_count": 11,
   "id": "1c038f3d-99ea-4a17-813e-3490697e6187",
   "metadata": {},
   "outputs": [],
   "source": [
    "xs, y = to.train.xs, to.train.y\n",
    "valid_xs, valid_y = to.valid.xs, to.valid.y"
   ]
  },
  {
   "cell_type": "code",
   "execution_count": 12,
   "id": "dbfdac8a-9713-4e9f-8c5c-4a72fa6610d2",
   "metadata": {},
   "outputs": [],
   "source": [
    "def calculate_smape(m, valid_xs, valid_y):\n",
    "    preds = list(m.predict(valid_xs))\n",
    "    total = len(preds)\n",
    "    smape = 0\n",
    "    for i,j in zip(preds, valid_y) :\n",
    "        diff = np.abs(i - j)\n",
    "        avg = ((np.abs(i)) + np.abs(j)) / 2\n",
    "        fin = diff/avg\n",
    "        smape += fin\n",
    "        \n",
    "    smape = (smape/total) * 100 \n",
    "    \n",
    "    return smape"
   ]
  },
  {
   "cell_type": "code",
   "execution_count": 13,
   "id": "cd0f4d43-ef2a-4473-856d-85cbbfb14b8f",
   "metadata": {},
   "outputs": [
    {
     "data": {
      "text/plain": [
       "19728"
      ]
     },
     "execution_count": 13,
     "metadata": {},
     "output_type": "execute_result"
    }
   ],
   "source": [
    "len(xs)"
   ]
  },
  {
   "cell_type": "code",
   "execution_count": 14,
   "id": "30fe476b-9c4a-442d-8476-e71fff7ce0cb",
   "metadata": {},
   "outputs": [
    {
     "data": {
      "text/plain": [
       "9864"
      ]
     },
     "execution_count": 14,
     "metadata": {},
     "output_type": "execute_result"
    }
   ],
   "source": [
    "len(xs)//2"
   ]
  },
  {
   "cell_type": "code",
   "execution_count": 15,
   "id": "a7c829a3-e148-4938-a8f7-8aba661398a5",
   "metadata": {},
   "outputs": [],
   "source": [
    "def rf(xs, y, n_estimators = 40, max_samples = 9800, max_features = 0.5, min_samples_leaf = 5, **kwargs):\n",
    "    return RandomForestRegressor(n_estimators = n_estimators, n_jobs = -1, max_features = max_features, max_samples = max_samples,\n",
    "                                 min_samples_leaf = min_samples_leaf, oob_score = True).fit(xs, y)"
   ]
  },
  {
   "cell_type": "code",
   "execution_count": 16,
   "id": "96f38e09-036f-41b6-a011-f91eadd0f390",
   "metadata": {},
   "outputs": [
    {
     "name": "stdout",
     "output_type": "stream",
     "text": [
      "CPU times: user 1.16 s, sys: 1.17 ms, total: 1.17 s\n",
      "Wall time: 319 ms\n"
     ]
    }
   ],
   "source": [
    "%%time\n",
    "m = rf(xs, y)"
   ]
  },
  {
   "cell_type": "code",
   "execution_count": 17,
   "id": "a1812176-ee9c-47f2-899a-3d7a68c0f0ec",
   "metadata": {},
   "outputs": [
    {
     "data": {
      "text/plain": [
       "4.970420398497426"
      ]
     },
     "execution_count": 17,
     "metadata": {},
     "output_type": "execute_result"
    }
   ],
   "source": [
    "calculate_smape(m, xs, y)"
   ]
  },
  {
   "cell_type": "code",
   "execution_count": 18,
   "id": "289dce28-80fd-4555-8dbf-817e41453dc6",
   "metadata": {},
   "outputs": [
    {
     "data": {
      "text/plain": [
       "10.292981498394445"
      ]
     },
     "execution_count": 18,
     "metadata": {},
     "output_type": "execute_result"
    }
   ],
   "source": [
    "calculate_smape(m, valid_xs, valid_y)"
   ]
  },
  {
   "cell_type": "code",
   "execution_count": 19,
   "id": "ffb1767f-ac3e-48c9-8e39-56f72f710be0",
   "metadata": {},
   "outputs": [],
   "source": [
    "def rf_feat_importance(m, df):\n",
    "    return pd.DataFrame({'cols' : df.columns, 'imp' : m.feature_importances_}).sort_values(by = 'imp', ascending = False)"
   ]
  },
  {
   "cell_type": "code",
   "execution_count": 20,
   "id": "caaa9554-ed2a-4a0e-8300-c2e40c28abf5",
   "metadata": {},
   "outputs": [],
   "source": [
    "fi = rf_feat_importance(m, xs)"
   ]
  },
  {
   "cell_type": "code",
   "execution_count": 21,
   "id": "17ef5c2a-436d-408e-92cc-d5ac1131f776",
   "metadata": {},
   "outputs": [
    {
     "data": {
      "text/html": [
       "<div>\n",
       "<style scoped>\n",
       "    .dataframe tbody tr th:only-of-type {\n",
       "        vertical-align: middle;\n",
       "    }\n",
       "\n",
       "    .dataframe tbody tr th {\n",
       "        vertical-align: top;\n",
       "    }\n",
       "\n",
       "    .dataframe thead th {\n",
       "        text-align: right;\n",
       "    }\n",
       "</style>\n",
       "<table border=\"1\" class=\"dataframe\">\n",
       "  <thead>\n",
       "    <tr style=\"text-align: right;\">\n",
       "      <th></th>\n",
       "      <th>cols</th>\n",
       "      <th>imp</th>\n",
       "    </tr>\n",
       "  </thead>\n",
       "  <tbody>\n",
       "    <tr>\n",
       "      <th>2</th>\n",
       "      <td>product</td>\n",
       "      <td>0.527093</td>\n",
       "    </tr>\n",
       "    <tr>\n",
       "      <th>1</th>\n",
       "      <td>store</td>\n",
       "      <td>0.185489</td>\n",
       "    </tr>\n",
       "    <tr>\n",
       "      <th>0</th>\n",
       "      <td>country</td>\n",
       "      <td>0.121850</td>\n",
       "    </tr>\n",
       "    <tr>\n",
       "      <th>14</th>\n",
       "      <td>Dayofyear</td>\n",
       "      <td>0.068528</td>\n",
       "    </tr>\n",
       "    <tr>\n",
       "      <th>13</th>\n",
       "      <td>Dayofweek</td>\n",
       "      <td>0.029477</td>\n",
       "    </tr>\n",
       "    <tr>\n",
       "      <th>11</th>\n",
       "      <td>Week</td>\n",
       "      <td>0.028993</td>\n",
       "    </tr>\n",
       "    <tr>\n",
       "      <th>10</th>\n",
       "      <td>Month</td>\n",
       "      <td>0.019244</td>\n",
       "    </tr>\n",
       "    <tr>\n",
       "      <th>15</th>\n",
       "      <td>Elapsed</td>\n",
       "      <td>0.011882</td>\n",
       "    </tr>\n",
       "    <tr>\n",
       "      <th>12</th>\n",
       "      <td>Day</td>\n",
       "      <td>0.004781</td>\n",
       "    </tr>\n",
       "    <tr>\n",
       "      <th>9</th>\n",
       "      <td>Year</td>\n",
       "      <td>0.001786</td>\n",
       "    </tr>\n",
       "  </tbody>\n",
       "</table>\n",
       "</div>"
      ],
      "text/plain": [
       "         cols       imp\n",
       "2     product  0.527093\n",
       "1       store  0.185489\n",
       "0     country  0.121850\n",
       "14  Dayofyear  0.068528\n",
       "13  Dayofweek  0.029477\n",
       "11       Week  0.028993\n",
       "10      Month  0.019244\n",
       "15    Elapsed  0.011882\n",
       "12        Day  0.004781\n",
       "9        Year  0.001786"
      ]
     },
     "execution_count": 21,
     "metadata": {},
     "output_type": "execute_result"
    }
   ],
   "source": [
    "fi[:10]"
   ]
  },
  {
   "cell_type": "code",
   "execution_count": 22,
   "id": "9c307add-78de-403a-92e5-88b6b052cf54",
   "metadata": {},
   "outputs": [
    {
     "data": {
      "text/html": [
       "<div>\n",
       "<style scoped>\n",
       "    .dataframe tbody tr th:only-of-type {\n",
       "        vertical-align: middle;\n",
       "    }\n",
       "\n",
       "    .dataframe tbody tr th {\n",
       "        vertical-align: top;\n",
       "    }\n",
       "\n",
       "    .dataframe thead th {\n",
       "        text-align: right;\n",
       "    }\n",
       "</style>\n",
       "<table border=\"1\" class=\"dataframe\">\n",
       "  <thead>\n",
       "    <tr style=\"text-align: right;\">\n",
       "      <th></th>\n",
       "      <th>cols</th>\n",
       "      <th>imp</th>\n",
       "    </tr>\n",
       "  </thead>\n",
       "  <tbody>\n",
       "    <tr>\n",
       "      <th>2</th>\n",
       "      <td>product</td>\n",
       "      <td>0.527093</td>\n",
       "    </tr>\n",
       "    <tr>\n",
       "      <th>1</th>\n",
       "      <td>store</td>\n",
       "      <td>0.185489</td>\n",
       "    </tr>\n",
       "    <tr>\n",
       "      <th>0</th>\n",
       "      <td>country</td>\n",
       "      <td>0.121850</td>\n",
       "    </tr>\n",
       "    <tr>\n",
       "      <th>14</th>\n",
       "      <td>Dayofyear</td>\n",
       "      <td>0.068528</td>\n",
       "    </tr>\n",
       "    <tr>\n",
       "      <th>13</th>\n",
       "      <td>Dayofweek</td>\n",
       "      <td>0.029477</td>\n",
       "    </tr>\n",
       "    <tr>\n",
       "      <th>11</th>\n",
       "      <td>Week</td>\n",
       "      <td>0.028993</td>\n",
       "    </tr>\n",
       "    <tr>\n",
       "      <th>10</th>\n",
       "      <td>Month</td>\n",
       "      <td>0.019244</td>\n",
       "    </tr>\n",
       "    <tr>\n",
       "      <th>15</th>\n",
       "      <td>Elapsed</td>\n",
       "      <td>0.011882</td>\n",
       "    </tr>\n",
       "    <tr>\n",
       "      <th>12</th>\n",
       "      <td>Day</td>\n",
       "      <td>0.004781</td>\n",
       "    </tr>\n",
       "    <tr>\n",
       "      <th>9</th>\n",
       "      <td>Year</td>\n",
       "      <td>0.001786</td>\n",
       "    </tr>\n",
       "    <tr>\n",
       "      <th>7</th>\n",
       "      <td>Is_year_end</td>\n",
       "      <td>0.000371</td>\n",
       "    </tr>\n",
       "    <tr>\n",
       "      <th>5</th>\n",
       "      <td>Is_quarter_end</td>\n",
       "      <td>0.000191</td>\n",
       "    </tr>\n",
       "    <tr>\n",
       "      <th>6</th>\n",
       "      <td>Is_quarter_start</td>\n",
       "      <td>0.000164</td>\n",
       "    </tr>\n",
       "    <tr>\n",
       "      <th>4</th>\n",
       "      <td>Is_month_start</td>\n",
       "      <td>0.000066</td>\n",
       "    </tr>\n",
       "    <tr>\n",
       "      <th>8</th>\n",
       "      <td>Is_year_start</td>\n",
       "      <td>0.000046</td>\n",
       "    </tr>\n",
       "    <tr>\n",
       "      <th>3</th>\n",
       "      <td>Is_month_end</td>\n",
       "      <td>0.000039</td>\n",
       "    </tr>\n",
       "  </tbody>\n",
       "</table>\n",
       "</div>"
      ],
      "text/plain": [
       "                cols       imp\n",
       "2            product  0.527093\n",
       "1              store  0.185489\n",
       "0            country  0.121850\n",
       "14         Dayofyear  0.068528\n",
       "13         Dayofweek  0.029477\n",
       "11              Week  0.028993\n",
       "10             Month  0.019244\n",
       "15           Elapsed  0.011882\n",
       "12               Day  0.004781\n",
       "9               Year  0.001786\n",
       "7        Is_year_end  0.000371\n",
       "5     Is_quarter_end  0.000191\n",
       "6   Is_quarter_start  0.000164\n",
       "4     Is_month_start  0.000066\n",
       "8      Is_year_start  0.000046\n",
       "3       Is_month_end  0.000039"
      ]
     },
     "execution_count": 22,
     "metadata": {},
     "output_type": "execute_result"
    }
   ],
   "source": [
    "fi"
   ]
  },
  {
   "cell_type": "code",
   "execution_count": 23,
   "id": "dfa0b9df-e780-4c71-abd2-2ca8a0115396",
   "metadata": {},
   "outputs": [],
   "source": [
    "def plot_fi(fi):\n",
    "  return fi.plot('cols', 'imp', 'barh', figsize = (12, 7), legend = False)"
   ]
  },
  {
   "cell_type": "code",
   "execution_count": 24,
   "id": "76c17744-94ed-48be-8efc-e2c6769358d5",
   "metadata": {},
   "outputs": [
    {
     "data": {
      "text/plain": [
       "<AxesSubplot:ylabel='cols'>"
      ]
     },
     "execution_count": 24,
     "metadata": {},
     "output_type": "execute_result"
    },
    {
     "data": {
      "image/png": "[encoded data removed]",
      "text/plain": [
       "<Figure size 864x504 with 1 Axes>"
      ]
     },
     "metadata": {
      "needs_background": "light"
     },
     "output_type": "display_data"
    }
   ],
   "source": [
    "plot_fi(fi)"
   ]
  },
  {
   "cell_type": "code",
   "execution_count": 25,
   "id": "f721c22a-a506-4086-bd43-305891918970",
   "metadata": {},
   "outputs": [
    {
     "data": {
      "text/plain": [
       "8"
      ]
     },
     "execution_count": 25,
     "metadata": {},
     "output_type": "execute_result"
    }
   ],
   "source": [
    "to_keep = fi[fi.imp > 0.005].cols\n",
    "len(to_keep)"
   ]
  },
  {
   "cell_type": "code",
   "execution_count": 26,
   "id": "1b4aec87-41f5-4853-b21e-a44280526229",
   "metadata": {},
   "outputs": [
    {
     "name": "stdout",
     "output_type": "stream",
     "text": [
      "CPU times: user 942 ms, sys: 25.8 ms, total: 967 ms\n",
      "Wall time: 275 ms\n"
     ]
    }
   ],
   "source": [
    "%%time\n",
    "xs_imp = xs[to_keep]\n",
    "valid_xs_imp = valid_xs[to_keep]\n",
    "\n",
    "m = rf(xs_imp, y)"
   ]
  },
  {
   "cell_type": "code",
   "execution_count": 27,
   "id": "930af279-e980-4ea7-87a2-941f85762aea",
   "metadata": {},
   "outputs": [
    {
     "data": {
      "text/plain": [
       "5.091324518726262"
      ]
     },
     "execution_count": 27,
     "metadata": {},
     "output_type": "execute_result"
    }
   ],
   "source": [
    "calculate_smape(m, xs_imp, y)"
   ]
  },
  {
   "cell_type": "code",
   "execution_count": 28,
   "id": "4c1a53b9-81ee-43d2-a48b-7ee5675ae5ff",
   "metadata": {},
   "outputs": [
    {
     "data": {
      "text/plain": [
       "20.884274691190623"
      ]
     },
     "execution_count": 28,
     "metadata": {},
     "output_type": "execute_result"
    }
   ],
   "source": [
    "calculate_smape(m, valid_xs_imp, y)"
   ]
  },
  {
   "cell_type": "code",
   "execution_count": 29,
   "id": "00eb0d42-c039-4e05-920d-3c35fc3f1f0d",
   "metadata": {},
   "outputs": [],
   "source": [
    "def cluster_columns(df, figsize=(10,6), font_size=12):\n",
    "    corr = np.round(scipy.stats.spearmanr(df).correlation, 4)\n",
    "    corr_condensed = hc.distance.squareform(1-corr)\n",
    "    z = hc.linkage(corr_condensed, method='average')\n",
    "    fig = plt.figure(figsize=figsize)\n",
    "    hc.dendrogram(z, labels=df.columns, orientation='left', leaf_font_size=font_size)\n",
    "    plt.show()"
   ]
  },
  {
   "cell_type": "code",
   "execution_count": 30,
   "id": "2c6e44ee-0baf-4332-a8c8-7911202269c9",
   "metadata": {},
   "outputs": [
    {
     "data": {
      "image/png": "[encoded data removed]",
      "text/plain": [
       "<Figure size 720x432 with 1 Axes>"
      ]
     },
     "metadata": {
      "needs_background": "light"
     },
     "output_type": "display_data"
    }
   ],
   "source": [
    "cluster_columns(xs)"
   ]
  },
  {
   "cell_type": "code",
   "execution_count": 42,
   "id": "3fc9047f-8ea6-4e7d-bdca-6cf529c2f20b",
   "metadata": {},
   "outputs": [
    {
     "data": {
      "text/plain": [
       "([<matplotlib.axis.YTick at 0x7f89049c5d30>,\n",
       "  <matplotlib.axis.YTick at 0x7f8905356490>,\n",
       "  <matplotlib.axis.YTick at 0x7f89053c6220>],\n",
       " [Text(0, 0, 'Kaggle Hat'),\n",
       "  Text(0, 1, 'Kaggle Mug'),\n",
       "  Text(0, 2, 'Kaggle Sticker')])"
      ]
     },
     "execution_count": 42,
     "metadata": {},
     "output_type": "execute_result"
    },
    {
     "data": {
      "image/png": "[encoded data removed]",
      "text/plain": [
       "<Figure size 432x288 with 1 Axes>"
      ]
     },
     "metadata": {
      "needs_background": "light"
     },
     "output_type": "display_data"
    }
   ],
   "source": [
    "p = df[\"product\"].value_counts(sort = False).plot.barh()\n",
    "c = to.classes[\"product\"]\n",
    "c = c[1:]\n",
    "plt.yticks(range(len(c)), c)"
   ]
  },
  {
   "cell_type": "code",
   "execution_count": 43,
   "id": "e92ee790-2286-4d99-86c2-f73e4bce9f66",
   "metadata": {},
   "outputs": [
    {
     "data": {
      "text/html": [
       "<div>\n",
       "<style scoped>\n",
       "    .dataframe tbody tr th:only-of-type {\n",
       "        vertical-align: middle;\n",
       "    }\n",
       "\n",
       "    .dataframe tbody tr th {\n",
       "        vertical-align: top;\n",
       "    }\n",
       "\n",
       "    .dataframe thead th {\n",
       "        text-align: right;\n",
       "    }\n",
       "</style>\n",
       "<table border=\"1\" class=\"dataframe\">\n",
       "  <thead>\n",
       "    <tr style=\"text-align: right;\">\n",
       "      <th></th>\n",
       "      <th>row_id</th>\n",
       "      <th>country</th>\n",
       "      <th>store</th>\n",
       "      <th>product</th>\n",
       "      <th>num_sold</th>\n",
       "      <th>Year</th>\n",
       "      <th>Month</th>\n",
       "      <th>Week</th>\n",
       "      <th>Day</th>\n",
       "      <th>Dayofweek</th>\n",
       "      <th>Dayofyear</th>\n",
       "      <th>Is_month_end</th>\n",
       "      <th>Is_month_start</th>\n",
       "      <th>Is_quarter_end</th>\n",
       "      <th>Is_quarter_start</th>\n",
       "      <th>Is_year_end</th>\n",
       "      <th>Is_year_start</th>\n",
       "      <th>Elapsed</th>\n",
       "    </tr>\n",
       "  </thead>\n",
       "  <tbody>\n",
       "    <tr>\n",
       "      <th>0</th>\n",
       "      <td>0</td>\n",
       "      <td>1</td>\n",
       "      <td>1</td>\n",
       "      <td>2</td>\n",
       "      <td>329</td>\n",
       "      <td>2015</td>\n",
       "      <td>1</td>\n",
       "      <td>1</td>\n",
       "      <td>1</td>\n",
       "      <td>3</td>\n",
       "      <td>1</td>\n",
       "      <td>1</td>\n",
       "      <td>2</td>\n",
       "      <td>1</td>\n",
       "      <td>2</td>\n",
       "      <td>1</td>\n",
       "      <td>2</td>\n",
       "      <td>1.420070e+09</td>\n",
       "    </tr>\n",
       "    <tr>\n",
       "      <th>1</th>\n",
       "      <td>1</td>\n",
       "      <td>1</td>\n",
       "      <td>1</td>\n",
       "      <td>1</td>\n",
       "      <td>520</td>\n",
       "      <td>2015</td>\n",
       "      <td>1</td>\n",
       "      <td>1</td>\n",
       "      <td>1</td>\n",
       "      <td>3</td>\n",
       "      <td>1</td>\n",
       "      <td>1</td>\n",
       "      <td>2</td>\n",
       "      <td>1</td>\n",
       "      <td>2</td>\n",
       "      <td>1</td>\n",
       "      <td>2</td>\n",
       "      <td>1.420070e+09</td>\n",
       "    </tr>\n",
       "    <tr>\n",
       "      <th>2</th>\n",
       "      <td>2</td>\n",
       "      <td>1</td>\n",
       "      <td>1</td>\n",
       "      <td>3</td>\n",
       "      <td>146</td>\n",
       "      <td>2015</td>\n",
       "      <td>1</td>\n",
       "      <td>1</td>\n",
       "      <td>1</td>\n",
       "      <td>3</td>\n",
       "      <td>1</td>\n",
       "      <td>1</td>\n",
       "      <td>2</td>\n",
       "      <td>1</td>\n",
       "      <td>2</td>\n",
       "      <td>1</td>\n",
       "      <td>2</td>\n",
       "      <td>1.420070e+09</td>\n",
       "    </tr>\n",
       "    <tr>\n",
       "      <th>3</th>\n",
       "      <td>3</td>\n",
       "      <td>1</td>\n",
       "      <td>2</td>\n",
       "      <td>2</td>\n",
       "      <td>572</td>\n",
       "      <td>2015</td>\n",
       "      <td>1</td>\n",
       "      <td>1</td>\n",
       "      <td>1</td>\n",
       "      <td>3</td>\n",
       "      <td>1</td>\n",
       "      <td>1</td>\n",
       "      <td>2</td>\n",
       "      <td>1</td>\n",
       "      <td>2</td>\n",
       "      <td>1</td>\n",
       "      <td>2</td>\n",
       "      <td>1.420070e+09</td>\n",
       "    </tr>\n",
       "    <tr>\n",
       "      <th>4</th>\n",
       "      <td>4</td>\n",
       "      <td>1</td>\n",
       "      <td>2</td>\n",
       "      <td>1</td>\n",
       "      <td>911</td>\n",
       "      <td>2015</td>\n",
       "      <td>1</td>\n",
       "      <td>1</td>\n",
       "      <td>1</td>\n",
       "      <td>3</td>\n",
       "      <td>1</td>\n",
       "      <td>1</td>\n",
       "      <td>2</td>\n",
       "      <td>1</td>\n",
       "      <td>2</td>\n",
       "      <td>1</td>\n",
       "      <td>2</td>\n",
       "      <td>1.420070e+09</td>\n",
       "    </tr>\n",
       "  </tbody>\n",
       "</table>\n",
       "</div>"
      ],
      "text/plain": [
       "   row_id  country  store  product  num_sold  Year  Month  Week  Day  \\\n",
       "0       0        1      1        2       329  2015      1     1    1   \n",
       "1       1        1      1        1       520  2015      1     1    1   \n",
       "2       2        1      1        3       146  2015      1     1    1   \n",
       "3       3        1      2        2       572  2015      1     1    1   \n",
       "4       4        1      2        1       911  2015      1     1    1   \n",
       "\n",
       "   Dayofweek  Dayofyear  Is_month_end  Is_month_start  Is_quarter_end  \\\n",
       "0          3          1             1               2               1   \n",
       "1          3          1             1               2               1   \n",
       "2          3          1             1               2               1   \n",
       "3          3          1             1               2               1   \n",
       "4          3          1             1               2               1   \n",
       "\n",
       "   Is_quarter_start  Is_year_end  Is_year_start       Elapsed  \n",
       "0                 2            1              2  1.420070e+09  \n",
       "1                 2            1              2  1.420070e+09  \n",
       "2                 2            1              2  1.420070e+09  \n",
       "3                 2            1              2  1.420070e+09  \n",
       "4                 2            1              2  1.420070e+09  "
      ]
     },
     "execution_count": 43,
     "metadata": {},
     "output_type": "execute_result"
    }
   ],
   "source": [
    "to.items.head()"
   ]
  },
  {
   "cell_type": "code",
   "execution_count": 54,
   "id": "a5ff608b-ee2c-476a-a701-09e2b62d7e9e",
   "metadata": {},
   "outputs": [
    {
     "data": {
      "text/plain": [
       "([<matplotlib.axis.YTick at 0x7f89044e9760>,\n",
       "  <matplotlib.axis.YTick at 0x7f89044e3f70>,\n",
       "  <matplotlib.axis.YTick at 0x7f8904445b80>],\n",
       " [Text(0, 0, '#na#'), Text(0, 1, 'KaggleMart'), Text(0, 2, 'KaggleRama')])"
      ]
     },
     "execution_count": 54,
     "metadata": {},
     "output_type": "execute_result"
    },
    {
     "data": {
      "image/png": "[encoded data removed]",
      "text/plain": [
       "<Figure size 432x288 with 1 Axes>"
      ]
     },
     "metadata": {
      "needs_background": "light"
     },
     "output_type": "display_data"
    }
   ],
   "source": [
    "p = df[\"store\"].value_counts(sort = False).plot.barh()\n",
    "c = to.classes[\"store\"]\n",
    "#c = c[1:]\n",
    "plt.yticks(range(len(c)), c)"
   ]
  },
  {
   "cell_type": "code",
   "execution_count": 51,
   "id": "5088cfac-90ff-470f-be6b-f93eafeb8e7d",
   "metadata": {},
   "outputs": [
    {
     "data": {
      "text/plain": [
       "<sklearn.inspection._plot.partial_dependence.PartialDependenceDisplay at 0x7f8904741bb0>"
      ]
     },
     "execution_count": 51,
     "metadata": {},
     "output_type": "execute_result"
    },
    {
     "data": {
      "image/png": "[encoded data removed]",
      "text/plain": [
       "<Figure size 864x288 with 3 Axes>"
      ]
     },
     "metadata": {
      "needs_background": "light"
     },
     "output_type": "display_data"
    }
   ],
   "source": [
    "fig, ax = plt.subplots(figsize = (12, 4))\n",
    "plot_partial_dependence(m, valid_xs, ['product', 'store'], \n",
    "                        grid_resolution = 20, ax = ax)"
   ]
  },
  {
   "cell_type": "code",
   "execution_count": 55,
   "id": "5051318e-df87-418f-8c33-faa0ae96edb6",
   "metadata": {},
   "outputs": [
    {
     "data": {
      "text/plain": [
       "['#na#', 'KaggleMart', 'KaggleRama']"
      ]
     },
     "execution_count": 55,
     "metadata": {},
     "output_type": "execute_result"
    }
   ],
   "source": [
    "to.classes[\"store\"]"
   ]
  },
  {
   "cell_type": "code",
   "execution_count": 58,
   "id": "45320be9-4efe-4d7c-846e-ff3a234cb187",
   "metadata": {},
   "outputs": [
    {
     "data": {
      "text/plain": [
       "(492.50817552665603, 282.5589778690395)"
      ]
     },
     "execution_count": 58,
     "metadata": {},
     "output_type": "execute_result"
    }
   ],
   "source": [
    "df[df.store == 'KaggleRama'][\"num_sold\"].mean(), df[df.store == 'KaggleMart'][\"num_sold\"].mean()"
   ]
  },
  {
   "cell_type": "code",
   "execution_count": 64,
   "id": "ba2617fa-d149-42f5-bfb9-409ef40fb3d3",
   "metadata": {},
   "outputs": [
    {
     "name": "stdout",
     "output_type": "stream",
     "text": [
      "Orig: 8.65325930822274\n",
      "Elapsed 12.2131991183084\n"
     ]
    }
   ],
   "source": [
    "m = rf(xs_imp, y)\n",
    "print (\"Orig: {}\".format(calculate_smape(m, valid_xs_imp, valid_y)))\n",
    "\n",
    "for c in [\"Elapsed\"] :\n",
    "    m = rf(xs_imp.drop(c, axis = 1), y)\n",
    "    print (c, calculate_smape(m, valid_xs_imp.drop(c, axis = 1), valid_y))"
   ]
  },
  {
   "cell_type": "code",
   "execution_count": 65,
   "id": "da8a3142-9b1e-4ac9-9c36-a773ad77b202",
   "metadata": {},
   "outputs": [
    {
     "data": {
      "text/plain": [
       "array(['Kaggle Mug', 'Kaggle Hat', 'Kaggle Sticker'], dtype=object)"
      ]
     },
     "execution_count": 65,
     "metadata": {},
     "output_type": "execute_result"
    }
   ],
   "source": [
    "df[\"product\"].unique()"
   ]
  },
  {
   "cell_type": "code",
   "execution_count": 78,
   "id": "82478157-a95d-433b-8521-a09250815df1",
   "metadata": {},
   "outputs": [
    {
     "data": {
      "text/plain": [
       "(354.35626283367554, 628.84610997034, 179.39835728952772)"
      ]
     },
     "execution_count": 78,
     "metadata": {},
     "output_type": "execute_result"
    }
   ],
   "source": [
    "df[df['product'] == \"Kaggle Mug\"][\"num_sold\"].mean(), df[df[\"product\"] == \"Kaggle Hat\"][\"num_sold\"].mean(), df[df[\"product\"] == \"Kaggle Sticker\"][\"num_sold\"].mean()"
   ]
  },
  {
   "cell_type": "code",
   "execution_count": 79,
   "id": "54d3cc0d-328a-4f11-a5c7-ebd2f67ad566",
   "metadata": {},
   "outputs": [],
   "source": [
    "c = to.classes[\"product\"]"
   ]
  },
  {
   "cell_type": "code",
   "execution_count": 80,
   "id": "56d84aa1-e83c-48f6-acd0-2bde92737d5a",
   "metadata": {},
   "outputs": [
    {
     "data": {
      "text/plain": [
       "['#na#', 'Kaggle Hat', 'Kaggle Mug', 'Kaggle Sticker']"
      ]
     },
     "execution_count": 80,
     "metadata": {},
     "output_type": "execute_result"
    }
   ],
   "source": [
    "c"
   ]
  },
  {
   "cell_type": "code",
   "execution_count": 127,
   "id": "181f94e0-9172-44e0-9dad-3f86941d4a03",
   "metadata": {},
   "outputs": [
    {
     "name": "stderr",
     "output_type": "stream",
     "text": [
      "/opt/conda/lib/python3.8/site-packages/pandas/core/arrays/categorical.py:2630: FutureWarning: The `inplace` parameter in pandas.Categorical.set_categories is deprecated and will be removed in a future version. Removing unused categories will always return a new Categorical object.\n",
      "  res = method(*args, **kwargs)\n"
     ]
    }
   ],
   "source": [
    "df_nn = pd.read_csv(\"train.csv\", low_memory = False)\n",
    "df_nn['product'] = df_nn['product'].astype('category')\n",
    "sizes = 'Kaggle Sticker', 'Kaggle Mug', 'Kaggle Hat'\n",
    "df_nn['product'].cat.set_categories(sizes, ordered = True, inplace = True)\n",
    "sizes = 'KaggleRama', 'KaggleMart'\n",
    "df_nn['store'] = df_nn['store'].astype('category')\n",
    "df_nn['store'].cat.set_categories(sizes, ordered = True, inplace = True)"
   ]
  },
  {
   "cell_type": "code",
   "execution_count": 128,
   "id": "257cd992-22a1-451c-8d3c-1d96e14e6636",
   "metadata": {},
   "outputs": [],
   "source": [
    "df_nn = add_datepart(df_nn, 'date')"
   ]
  },
  {
   "cell_type": "code",
   "execution_count": 129,
   "id": "a2e78a7c-9d95-46a1-a1cb-6b99a5989994",
   "metadata": {},
   "outputs": [],
   "source": [
    "df_nn_final = df_nn[list(xs_imp.columns) + [dep_var]]"
   ]
  },
  {
   "cell_type": "code",
   "execution_count": 130,
   "id": "e6c38f08-6bca-4e71-acae-556ae0bc33aa",
   "metadata": {},
   "outputs": [
    {
     "data": {
      "text/html": [
       "<div>\n",
       "<style scoped>\n",
       "    .dataframe tbody tr th:only-of-type {\n",
       "        vertical-align: middle;\n",
       "    }\n",
       "\n",
       "    .dataframe tbody tr th {\n",
       "        vertical-align: top;\n",
       "    }\n",
       "\n",
       "    .dataframe thead th {\n",
       "        text-align: right;\n",
       "    }\n",
       "</style>\n",
       "<table border=\"1\" class=\"dataframe\">\n",
       "  <thead>\n",
       "    <tr style=\"text-align: right;\">\n",
       "      <th></th>\n",
       "      <th>product</th>\n",
       "      <th>store</th>\n",
       "      <th>country</th>\n",
       "      <th>Dayofyear</th>\n",
       "      <th>Dayofweek</th>\n",
       "      <th>Week</th>\n",
       "      <th>Month</th>\n",
       "      <th>Elapsed</th>\n",
       "      <th>num_sold</th>\n",
       "    </tr>\n",
       "  </thead>\n",
       "  <tbody>\n",
       "    <tr>\n",
       "      <th>0</th>\n",
       "      <td>Kaggle Mug</td>\n",
       "      <td>KaggleMart</td>\n",
       "      <td>Finland</td>\n",
       "      <td>1</td>\n",
       "      <td>3</td>\n",
       "      <td>1</td>\n",
       "      <td>1</td>\n",
       "      <td>1.420070e+09</td>\n",
       "      <td>329</td>\n",
       "    </tr>\n",
       "    <tr>\n",
       "      <th>1</th>\n",
       "      <td>Kaggle Hat</td>\n",
       "      <td>KaggleMart</td>\n",
       "      <td>Finland</td>\n",
       "      <td>1</td>\n",
       "      <td>3</td>\n",
       "      <td>1</td>\n",
       "      <td>1</td>\n",
       "      <td>1.420070e+09</td>\n",
       "      <td>520</td>\n",
       "    </tr>\n",
       "    <tr>\n",
       "      <th>2</th>\n",
       "      <td>Kaggle Sticker</td>\n",
       "      <td>KaggleMart</td>\n",
       "      <td>Finland</td>\n",
       "      <td>1</td>\n",
       "      <td>3</td>\n",
       "      <td>1</td>\n",
       "      <td>1</td>\n",
       "      <td>1.420070e+09</td>\n",
       "      <td>146</td>\n",
       "    </tr>\n",
       "    <tr>\n",
       "      <th>3</th>\n",
       "      <td>Kaggle Mug</td>\n",
       "      <td>KaggleRama</td>\n",
       "      <td>Finland</td>\n",
       "      <td>1</td>\n",
       "      <td>3</td>\n",
       "      <td>1</td>\n",
       "      <td>1</td>\n",
       "      <td>1.420070e+09</td>\n",
       "      <td>572</td>\n",
       "    </tr>\n",
       "    <tr>\n",
       "      <th>4</th>\n",
       "      <td>Kaggle Hat</td>\n",
       "      <td>KaggleRama</td>\n",
       "      <td>Finland</td>\n",
       "      <td>1</td>\n",
       "      <td>3</td>\n",
       "      <td>1</td>\n",
       "      <td>1</td>\n",
       "      <td>1.420070e+09</td>\n",
       "      <td>911</td>\n",
       "    </tr>\n",
       "  </tbody>\n",
       "</table>\n",
       "</div>"
      ],
      "text/plain": [
       "          product       store  country  Dayofyear  Dayofweek  Week  Month  \\\n",
       "0      Kaggle Mug  KaggleMart  Finland          1          3     1      1   \n",
       "1      Kaggle Hat  KaggleMart  Finland          1          3     1      1   \n",
       "2  Kaggle Sticker  KaggleMart  Finland          1          3     1      1   \n",
       "3      Kaggle Mug  KaggleRama  Finland          1          3     1      1   \n",
       "4      Kaggle Hat  KaggleRama  Finland          1          3     1      1   \n",
       "\n",
       "        Elapsed  num_sold  \n",
       "0  1.420070e+09       329  \n",
       "1  1.420070e+09       520  \n",
       "2  1.420070e+09       146  \n",
       "3  1.420070e+09       572  \n",
       "4  1.420070e+09       911  "
      ]
     },
     "execution_count": 130,
     "metadata": {},
     "output_type": "execute_result"
    }
   ],
   "source": [
    "df_nn_final.head()"
   ]
  },
  {
   "cell_type": "code",
   "execution_count": 131,
   "id": "506bff96-d084-4b57-ba7e-0c33f5dcb5b0",
   "metadata": {},
   "outputs": [
    {
     "data": {
      "text/html": [
       "<div>\n",
       "<style scoped>\n",
       "    .dataframe tbody tr th:only-of-type {\n",
       "        vertical-align: middle;\n",
       "    }\n",
       "\n",
       "    .dataframe tbody tr th {\n",
       "        vertical-align: top;\n",
       "    }\n",
       "\n",
       "    .dataframe thead th {\n",
       "        text-align: right;\n",
       "    }\n",
       "</style>\n",
       "<table border=\"1\" class=\"dataframe\">\n",
       "  <thead>\n",
       "    <tr style=\"text-align: right;\">\n",
       "      <th></th>\n",
       "      <th>product</th>\n",
       "      <th>store</th>\n",
       "      <th>country</th>\n",
       "      <th>Dayofyear</th>\n",
       "      <th>Dayofweek</th>\n",
       "      <th>Week</th>\n",
       "      <th>Month</th>\n",
       "      <th>Elapsed</th>\n",
       "      <th>num_sold</th>\n",
       "    </tr>\n",
       "  </thead>\n",
       "  <tbody>\n",
       "    <tr>\n",
       "      <th>0</th>\n",
       "      <td>Kaggle Mug</td>\n",
       "      <td>KaggleMart</td>\n",
       "      <td>Finland</td>\n",
       "      <td>1</td>\n",
       "      <td>3</td>\n",
       "      <td>1</td>\n",
       "      <td>1</td>\n",
       "      <td>1.420070e+09</td>\n",
       "      <td>329</td>\n",
       "    </tr>\n",
       "    <tr>\n",
       "      <th>1</th>\n",
       "      <td>Kaggle Hat</td>\n",
       "      <td>KaggleMart</td>\n",
       "      <td>Finland</td>\n",
       "      <td>1</td>\n",
       "      <td>3</td>\n",
       "      <td>1</td>\n",
       "      <td>1</td>\n",
       "      <td>1.420070e+09</td>\n",
       "      <td>520</td>\n",
       "    </tr>\n",
       "    <tr>\n",
       "      <th>2</th>\n",
       "      <td>Kaggle Sticker</td>\n",
       "      <td>KaggleMart</td>\n",
       "      <td>Finland</td>\n",
       "      <td>1</td>\n",
       "      <td>3</td>\n",
       "      <td>1</td>\n",
       "      <td>1</td>\n",
       "      <td>1.420070e+09</td>\n",
       "      <td>146</td>\n",
       "    </tr>\n",
       "  </tbody>\n",
       "</table>\n",
       "</div>"
      ],
      "text/plain": [
       "          product       store  country  Dayofyear  Dayofweek  Week  Month  \\\n",
       "0      Kaggle Mug  KaggleMart  Finland          1          3     1      1   \n",
       "1      Kaggle Hat  KaggleMart  Finland          1          3     1      1   \n",
       "2  Kaggle Sticker  KaggleMart  Finland          1          3     1      1   \n",
       "\n",
       "        Elapsed  num_sold  \n",
       "0  1.420070e+09       329  \n",
       "1  1.420070e+09       520  \n",
       "2  1.420070e+09       146  "
      ]
     },
     "execution_count": 131,
     "metadata": {},
     "output_type": "execute_result"
    }
   ],
   "source": [
    "df_nn_final.head(3)"
   ]
  },
  {
   "cell_type": "code",
   "execution_count": 132,
   "id": "69c5af3f-10fd-4921-8c9c-78d22fe4da67",
   "metadata": {},
   "outputs": [],
   "source": [
    "cont_nn, cat_nn = cont_cat_split(df_nn_final, max_card = 9000, dep_var = dep_var)"
   ]
  },
  {
   "cell_type": "code",
   "execution_count": 133,
   "id": "cf08fcae-6d56-45fb-ad75-ce1ae7cac3aa",
   "metadata": {},
   "outputs": [
    {
     "data": {
      "text/plain": [
       "['Elapsed']"
      ]
     },
     "execution_count": 133,
     "metadata": {},
     "output_type": "execute_result"
    }
   ],
   "source": [
    "cont_nn"
   ]
  },
  {
   "cell_type": "code",
   "execution_count": 134,
   "id": "cd715d4a-1342-48e2-9d0d-f45b7e9247e5",
   "metadata": {},
   "outputs": [
    {
     "data": {
      "text/plain": [
       "['product', 'store', 'country', 'Dayofyear', 'Dayofweek', 'Week', 'Month']"
      ]
     },
     "execution_count": 134,
     "metadata": {},
     "output_type": "execute_result"
    }
   ],
   "source": [
    "cat_nn"
   ]
  },
  {
   "cell_type": "code",
   "execution_count": 135,
   "id": "94391a5d-4a1b-4137-930b-146c68e30430",
   "metadata": {},
   "outputs": [],
   "source": [
    "procs_nn = [Categorify, FillMissing, Normalize]\n",
    "to_nn = TabularPandas(df_nn_final, procs, cat_nn, cont_nn, y_names = dep_var, splits = splits)"
   ]
  },
  {
   "cell_type": "code",
   "execution_count": 136,
   "id": "10489ffb-508d-46f8-95fa-e4f4827f03da",
   "metadata": {},
   "outputs": [
    {
     "data": {
      "text/html": [
       "<div>\n",
       "<style scoped>\n",
       "    .dataframe tbody tr th:only-of-type {\n",
       "        vertical-align: middle;\n",
       "    }\n",
       "\n",
       "    .dataframe tbody tr th {\n",
       "        vertical-align: top;\n",
       "    }\n",
       "\n",
       "    .dataframe thead th {\n",
       "        text-align: right;\n",
       "    }\n",
       "</style>\n",
       "<table border=\"1\" class=\"dataframe\">\n",
       "  <thead>\n",
       "    <tr style=\"text-align: right;\">\n",
       "      <th></th>\n",
       "      <th>product</th>\n",
       "      <th>store</th>\n",
       "      <th>country</th>\n",
       "      <th>Dayofyear</th>\n",
       "      <th>Dayofweek</th>\n",
       "      <th>Week</th>\n",
       "      <th>Month</th>\n",
       "      <th>Elapsed</th>\n",
       "      <th>num_sold</th>\n",
       "    </tr>\n",
       "  </thead>\n",
       "  <tbody>\n",
       "    <tr>\n",
       "      <th>0</th>\n",
       "      <td>2</td>\n",
       "      <td>2</td>\n",
       "      <td>1</td>\n",
       "      <td>1</td>\n",
       "      <td>4</td>\n",
       "      <td>1</td>\n",
       "      <td>1</td>\n",
       "      <td>1.420070e+09</td>\n",
       "      <td>329</td>\n",
       "    </tr>\n",
       "    <tr>\n",
       "      <th>1</th>\n",
       "      <td>3</td>\n",
       "      <td>2</td>\n",
       "      <td>1</td>\n",
       "      <td>1</td>\n",
       "      <td>4</td>\n",
       "      <td>1</td>\n",
       "      <td>1</td>\n",
       "      <td>1.420070e+09</td>\n",
       "      <td>520</td>\n",
       "    </tr>\n",
       "    <tr>\n",
       "      <th>2</th>\n",
       "      <td>1</td>\n",
       "      <td>2</td>\n",
       "      <td>1</td>\n",
       "      <td>1</td>\n",
       "      <td>4</td>\n",
       "      <td>1</td>\n",
       "      <td>1</td>\n",
       "      <td>1.420070e+09</td>\n",
       "      <td>146</td>\n",
       "    </tr>\n",
       "    <tr>\n",
       "      <th>3</th>\n",
       "      <td>2</td>\n",
       "      <td>1</td>\n",
       "      <td>1</td>\n",
       "      <td>1</td>\n",
       "      <td>4</td>\n",
       "      <td>1</td>\n",
       "      <td>1</td>\n",
       "      <td>1.420070e+09</td>\n",
       "      <td>572</td>\n",
       "    </tr>\n",
       "    <tr>\n",
       "      <th>4</th>\n",
       "      <td>3</td>\n",
       "      <td>1</td>\n",
       "      <td>1</td>\n",
       "      <td>1</td>\n",
       "      <td>4</td>\n",
       "      <td>1</td>\n",
       "      <td>1</td>\n",
       "      <td>1.420070e+09</td>\n",
       "      <td>911</td>\n",
       "    </tr>\n",
       "  </tbody>\n",
       "</table>\n",
       "</div>"
      ],
      "text/plain": [
       "   product  store  country  Dayofyear  Dayofweek  Week  Month       Elapsed  \\\n",
       "0        2      2        1          1          4     1      1  1.420070e+09   \n",
       "1        3      2        1          1          4     1      1  1.420070e+09   \n",
       "2        1      2        1          1          4     1      1  1.420070e+09   \n",
       "3        2      1        1          1          4     1      1  1.420070e+09   \n",
       "4        3      1        1          1          4     1      1  1.420070e+09   \n",
       "\n",
       "   num_sold  \n",
       "0       329  \n",
       "1       520  \n",
       "2       146  \n",
       "3       572  \n",
       "4       911  "
      ]
     },
     "execution_count": 136,
     "metadata": {},
     "output_type": "execute_result"
    }
   ],
   "source": [
    "to_nn.items.head()"
   ]
  },
  {
   "cell_type": "code",
   "execution_count": 137,
   "id": "82d092e9-2405-46a8-9f0e-b461d0354d8f",
   "metadata": {},
   "outputs": [
    {
     "data": {
      "text/plain": [
       "['#na#', 'Kaggle Sticker', 'Kaggle Mug', 'Kaggle Hat']"
      ]
     },
     "execution_count": 137,
     "metadata": {},
     "output_type": "execute_result"
    }
   ],
   "source": [
    "to_nn.classes[\"product\"]"
   ]
  },
  {
   "cell_type": "code",
   "execution_count": 138,
   "id": "1389447a-bd94-4785-8b2e-cf82d88abe6f",
   "metadata": {},
   "outputs": [
    {
     "data": {
      "text/plain": [
       "['#na#', 'KaggleRama', 'KaggleMart']"
      ]
     },
     "execution_count": 138,
     "metadata": {},
     "output_type": "execute_result"
    }
   ],
   "source": [
    "to_nn.classes[\"store\"]"
   ]
  },
  {
   "cell_type": "code",
   "execution_count": 139,
   "id": "b9dd4555-0da8-4666-8ccc-b6b8178d6427",
   "metadata": {},
   "outputs": [],
   "source": [
    "dls = to_nn.dataloaders(1024, device = \"cuda\")"
   ]
  },
  {
   "cell_type": "code",
   "execution_count": 140,
   "id": "d7b9f495-6665-4d3c-926a-2c7214e40b94",
   "metadata": {},
   "outputs": [],
   "source": [
    "y = to_nn.train.y"
   ]
  },
  {
   "cell_type": "code",
   "execution_count": 141,
   "id": "df36ed1e-cfd7-4a13-a0e7-c5b78801200f",
   "metadata": {},
   "outputs": [
    {
     "data": {
      "text/plain": [
       "(70, 2807)"
      ]
     },
     "execution_count": 141,
     "metadata": {},
     "output_type": "execute_result"
    }
   ],
   "source": [
    "y.min(), y.max()"
   ]
  },
  {
   "cell_type": "code",
   "execution_count": 142,
   "id": "3407e3ac-f5d2-49f7-a7c8-fbe614401b97",
   "metadata": {},
   "outputs": [
    {
     "data": {
      "text/plain": [
       "dtype('int16')"
      ]
     },
     "execution_count": 142,
     "metadata": {},
     "output_type": "execute_result"
    }
   ],
   "source": [
    "y.dtype"
   ]
  },
  {
   "cell_type": "code",
   "execution_count": 155,
   "id": "06cd0f31-5db1-4e20-a2e7-70d89e8f2ec3",
   "metadata": {},
   "outputs": [],
   "source": [
    "learn = tabular_learner(dls, y_range = (69, 2808), n_out = 1, layers = [500, 250])"
   ]
  },
  {
   "cell_type": "code",
   "execution_count": 156,
   "id": "6d1bdb2d-7d88-4687-b91c-18f8ac71eb93",
   "metadata": {},
   "outputs": [
    {
     "data": {
      "text/html": [],
      "text/plain": [
       "<IPython.core.display.HTML object>"
      ]
     },
     "metadata": {},
     "output_type": "display_data"
    },
    {
     "name": "stdout",
     "output_type": "stream",
     "text": [
      "CPU times: user 1.21 s, sys: 48.3 ms, total: 1.26 s\n",
      "Wall time: 1.23 s\n"
     ]
    },
    {
     "name": "stderr",
     "output_type": "stream",
     "text": [
      "/opt/conda/lib/python3.8/site-packages/fastai/callback/schedule.py:269: UserWarning: color is redundantly defined by the 'color' keyword argument and the fmt string \"ro\" (-> color='r'). The keyword argument will take precedence.\n",
      "  ax.plot(val, idx, 'ro', label=nm, c=color)\n"
     ]
    },
    {
     "data": {
      "text/plain": [
       "SuggestedLRs(valley=0.0014454397605732083)"
      ]
     },
     "execution_count": 156,
     "metadata": {},
     "output_type": "execute_result"
    },
    {
     "data": {
      "image/png": "[encoded data removed]",
      "text/plain": [
       "<Figure size 432x288 with 1 Axes>"
      ]
     },
     "metadata": {
      "needs_background": "light"
     },
     "output_type": "display_data"
    }
   ],
   "source": [
    "%%time\n",
    "learn.lr_find()"
   ]
  },
  {
   "cell_type": "code",
   "execution_count": 157,
   "id": "8e999d5d-b285-4436-aaad-63a552835c6b",
   "metadata": {},
   "outputs": [
    {
     "data": {
      "text/html": [
       "<table border=\"1\" class=\"dataframe\">\n",
       "  <thead>\n",
       "    <tr style=\"text-align: left;\">\n",
       "      <th>epoch</th>\n",
       "      <th>train_loss</th>\n",
       "      <th>valid_loss</th>\n",
       "      <th>time</th>\n",
       "    </tr>\n",
       "  </thead>\n",
       "  <tbody>\n",
       "    <tr>\n",
       "      <td>0</td>\n",
       "      <td>781920.062500</td>\n",
       "      <td>4571265.000000</td>\n",
       "      <td>00:00</td>\n",
       "    </tr>\n",
       "    <tr>\n",
       "      <td>1</td>\n",
       "      <td>366263.531250</td>\n",
       "      <td>204893.906250</td>\n",
       "      <td>00:00</td>\n",
       "    </tr>\n",
       "    <tr>\n",
       "      <td>2</td>\n",
       "      <td>257266.406250</td>\n",
       "      <td>212083.609375</td>\n",
       "      <td>00:00</td>\n",
       "    </tr>\n",
       "    <tr>\n",
       "      <td>3</td>\n",
       "      <td>217395.453125</td>\n",
       "      <td>212258.562500</td>\n",
       "      <td>00:00</td>\n",
       "    </tr>\n",
       "    <tr>\n",
       "      <td>4</td>\n",
       "      <td>195833.453125</td>\n",
       "      <td>212258.546875</td>\n",
       "      <td>00:00</td>\n",
       "    </tr>\n",
       "    <tr>\n",
       "      <td>5</td>\n",
       "      <td>182704.656250</td>\n",
       "      <td>212258.343750</td>\n",
       "      <td>00:00</td>\n",
       "    </tr>\n",
       "    <tr>\n",
       "      <td>6</td>\n",
       "      <td>174758.234375</td>\n",
       "      <td>212258.171875</td>\n",
       "      <td>00:00</td>\n",
       "    </tr>\n",
       "    <tr>\n",
       "      <td>7</td>\n",
       "      <td>169332.203125</td>\n",
       "      <td>212258.062500</td>\n",
       "      <td>00:00</td>\n",
       "    </tr>\n",
       "    <tr>\n",
       "      <td>8</td>\n",
       "      <td>166014.609375</td>\n",
       "      <td>212258.031250</td>\n",
       "      <td>00:00</td>\n",
       "    </tr>\n",
       "    <tr>\n",
       "      <td>9</td>\n",
       "      <td>163673.046875</td>\n",
       "      <td>212258.000000</td>\n",
       "      <td>00:00</td>\n",
       "    </tr>\n",
       "  </tbody>\n",
       "</table>"
      ],
      "text/plain": [
       "<IPython.core.display.HTML object>"
      ]
     },
     "metadata": {},
     "output_type": "display_data"
    }
   ],
   "source": [
    "learn.fit_one_cycle(10, 1e-1)"
   ]
  },
  {
   "cell_type": "code",
   "execution_count": 158,
   "id": "8a3fb84a-178c-45af-a3b8-eacf12779567",
   "metadata": {},
   "outputs": [
    {
     "data": {
      "text/html": [],
      "text/plain": [
       "<IPython.core.display.HTML object>"
      ]
     },
     "metadata": {},
     "output_type": "display_data"
    }
   ],
   "source": [
    "preds, targs = learn.get_preds()"
   ]
  },
  {
   "cell_type": "code",
   "execution_count": 159,
   "id": "9423f306-f211-4db3-a0a1-941d94e1e4f5",
   "metadata": {},
   "outputs": [],
   "source": [
    "def smape(preds, targs):\n",
    "    smp = 0\n",
    "    total = len(preds)\n",
    "    for i,j in zip(preds, targs):\n",
    "        diff = np.abs(i-j)\n",
    "        avg = ((np.abs(i)) + np.abs(j)) / 2\n",
    "        fin = diff/avg\n",
    "        smp += fin\n",
    "        \n",
    "    smp = (smp/total) * 100 \n",
    "    \n",
    "    return smp"
   ]
  },
  {
   "cell_type": "code",
   "execution_count": 160,
   "id": "a7ab1558-4a54-4eb1-80de-af95f43a4ad9",
   "metadata": {},
   "outputs": [
    {
     "data": {
      "text/plain": [
       "tensor([126.0172])"
      ]
     },
     "execution_count": 160,
     "metadata": {},
     "output_type": "execute_result"
    }
   ],
   "source": [
    "smape(preds, targs)"
   ]
  },
  {
   "cell_type": "code",
   "execution_count": null,
   "id": "b9f0e64f-e1ae-4194-839d-7269a2969f1b",
   "metadata": {},
   "outputs": [],
   "source": []
  }
 ],
 "metadata": {
  "kernelspec": {
   "display_name": "Python 3 (ipykernel)",
   "language": "python",
   "name": "python3"
  },
  "language_info": {
   "codemirror_mode": {
    "name": "ipython",
    "version": 3
   },
   "file_extension": ".py",
   "mimetype": "text/x-python",
   "name": "python",
   "nbconvert_exporter": "python",
   "pygments_lexer": "ipython3",
   "version": "3.8.12"
  }
 },
 "nbformat": 4,
 "nbformat_minor": 5
}
