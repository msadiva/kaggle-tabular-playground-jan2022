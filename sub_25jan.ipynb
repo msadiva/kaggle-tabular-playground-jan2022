{
 "cells": [
  {
   "cell_type": "code",
   "execution_count": 1,
   "id": "9bc33bf0-1901-4045-94e7-d52624b181a5",
   "metadata": {},
   "outputs": [
    {
     "name": "stdout",
     "output_type": "stream",
     "text": [
      "CPU times: user 1.92 s, sys: 987 ms, total: 2.9 s\n",
      "Wall time: 2.26 s\n"
     ]
    }
   ],
   "source": [
    "%%time\n",
    "import fastai\n",
    "from fastai.tabular.all import *\n",
    "from pathlib import Path\n",
    "import os\n",
    "from sklearn.tree import DecisionTreeRegressor\n",
    "from dtreeviz.trees import *\n",
    "import IPython\n",
    "from sklearn.ensemble import RandomForestRegressor\n",
    "from IPython.display import Image, display_svg, SVG\n",
    "from sklearn.tree import export_graphviz\n",
    "import waterfall_chart\n",
    "from treeinterpreter import treeinterpreter\n",
    "from sklearn.inspection import plot_partial_dependence\n",
    "from scipy.cluster import hierarchy as hc\n",
    "import xgboost\n",
    "from xgboost import XGBRegressor\n",
    "import optuna"
   ]
  },
  {
   "cell_type": "code",
   "execution_count": 2,
   "id": "6a9ccbfa-af7f-4a90-87ba-e18aa4d32827",
   "metadata": {},
   "outputs": [],
   "source": [
    "df = pd.read_csv(\"train.csv\")\n",
    "\n",
    "test = pd.read_csv(\"test.csv\")\n",
    "\n",
    "test[\"num_sold\"] = 0\n",
    "\n",
    "combined = pd.concat([df, test])"
   ]
  },
  {
   "cell_type": "code",
   "execution_count": 3,
   "id": "7635b715-67d6-4d19-b5ba-1ded4273963c",
   "metadata": {},
   "outputs": [],
   "source": [
    "dep_var = \"num_sold\""
   ]
  },
  {
   "cell_type": "code",
   "execution_count": 4,
   "id": "01a371c5-dab3-4a8c-a8d8-e1eb008c2a47",
   "metadata": {},
   "outputs": [],
   "source": [
    "holiday = pd.read_csv(\"nordic_holidays.csv\")"
   ]
  },
  {
   "cell_type": "code",
   "execution_count": 5,
   "id": "b3abc0d3-b957-4d66-8e42-79cf9bde3f53",
   "metadata": {},
   "outputs": [
    {
     "data": {
      "text/html": [
       "<div>\n",
       "<style scoped>\n",
       "    .dataframe tbody tr th:only-of-type {\n",
       "        vertical-align: middle;\n",
       "    }\n",
       "\n",
       "    .dataframe tbody tr th {\n",
       "        vertical-align: top;\n",
       "    }\n",
       "\n",
       "    .dataframe thead th {\n",
       "        text-align: right;\n",
       "    }\n",
       "</style>\n",
       "<table border=\"1\" class=\"dataframe\">\n",
       "  <thead>\n",
       "    <tr style=\"text-align: right;\">\n",
       "      <th></th>\n",
       "      <th>Unnamed: 0</th>\n",
       "      <th>date</th>\n",
       "      <th>holiday</th>\n",
       "      <th>country</th>\n",
       "    </tr>\n",
       "  </thead>\n",
       "  <tbody>\n",
       "    <tr>\n",
       "      <th>0</th>\n",
       "      <td>0</td>\n",
       "      <td>2016-01-01</td>\n",
       "      <td>in_Finland</td>\n",
       "      <td>Finland</td>\n",
       "    </tr>\n",
       "    <tr>\n",
       "      <th>1</th>\n",
       "      <td>1</td>\n",
       "      <td>2016-01-06</td>\n",
       "      <td>in_Finland</td>\n",
       "      <td>Finland</td>\n",
       "    </tr>\n",
       "    <tr>\n",
       "      <th>2</th>\n",
       "      <td>2</td>\n",
       "      <td>2016-03-25</td>\n",
       "      <td>in_Finland</td>\n",
       "      <td>Finland</td>\n",
       "    </tr>\n",
       "    <tr>\n",
       "      <th>3</th>\n",
       "      <td>3</td>\n",
       "      <td>2016-03-27</td>\n",
       "      <td>in_Finland</td>\n",
       "      <td>Finland</td>\n",
       "    </tr>\n",
       "    <tr>\n",
       "      <th>4</th>\n",
       "      <td>4</td>\n",
       "      <td>2016-03-28</td>\n",
       "      <td>in_Finland</td>\n",
       "      <td>Finland</td>\n",
       "    </tr>\n",
       "  </tbody>\n",
       "</table>\n",
       "</div>"
      ],
      "text/plain": [
       "   Unnamed: 0        date     holiday  country\n",
       "0           0  2016-01-01  in_Finland  Finland\n",
       "1           1  2016-01-06  in_Finland  Finland\n",
       "2           2  2016-03-25  in_Finland  Finland\n",
       "3           3  2016-03-27  in_Finland  Finland\n",
       "4           4  2016-03-28  in_Finland  Finland"
      ]
     },
     "metadata": {},
     "output_type": "display_data"
    }
   ],
   "source": [
    "holiday[\"holiday\"] = str(\"in_\") + holiday[\"country\"]\n",
    "display(holiday.head())"
   ]
  },
  {
   "cell_type": "code",
   "execution_count": 6,
   "id": "2eec12fb-d55d-4c41-815f-1b5670586879",
   "metadata": {},
   "outputs": [],
   "source": [
    "combined = combined.merge(holiday[[\"date\", \"holiday\", \"country\"]], left_on = [\"date\", \"country\"], right_on = [\"date\", \"country\"], how = \"left\")\n",
    "\n",
    "combined[\"holiday\"] = combined[\"holiday\"].fillna(\"no_holiday\")"
   ]
  },
  {
   "cell_type": "code",
   "execution_count": 7,
   "id": "62a4a7c9-b34d-486d-81cf-10795913167e",
   "metadata": {},
   "outputs": [],
   "source": [
    "country_map = pickle.load(open(\"embs/country_map.pkl\", \"rb\"))\n",
    "month_map = pickle.load(open(\"embs/month_map.pkl\", \"rb\"))\n",
    "product_map = pickle.load(open(\"embs/product_map.pkl\", \"rb\"))\n",
    "store_map = pickle.load(open(\"embs/store_map.pkl\", \"rb\"))"
   ]
  },
  {
   "cell_type": "code",
   "execution_count": 8,
   "id": "b81602b1-c631-4d96-a543-daa9021b8526",
   "metadata": {},
   "outputs": [],
   "source": [
    "emb_dim = country_map['Finland'].shape[0]\n",
    "col_name = [f'country_emb_{i}' for i in range(1, emb_dim + 1)]\n",
    "df_emb_country = pd.DataFrame(combined['country'].map(country_map).to_list(), columns = col_name)\n",
    "\n",
    "emb_dim = product_map['Kaggle Mug'].shape[0]\n",
    "col_name = [f'product_emb_{i}' for i in range(1, emb_dim + 1)]\n",
    "df_emb_product = pd.DataFrame(combined['product'].map(product_map).to_list(), columns = col_name)\n",
    "\n",
    "emb_dim = store_map['KaggleMart'].shape[0]\n",
    "col_name = [f'store_emb_{i}' for i in range(1, emb_dim + 1)]\n",
    "df_emb_store = pd.DataFrame(combined['store'].map(store_map).to_list(), columns = col_name)"
   ]
  },
  {
   "cell_type": "code",
   "execution_count": 9,
   "id": "9812e136-048d-45ae-918c-7dc195c3a092",
   "metadata": {},
   "outputs": [],
   "source": [
    "combined.reset_index(drop = True, inplace = True)"
   ]
  },
  {
   "cell_type": "code",
   "execution_count": 10,
   "id": "b5c9bafe-e386-4905-892a-fad05b013983",
   "metadata": {},
   "outputs": [],
   "source": [
    "combined = pd.concat([combined, df_emb_store, df_emb_product, df_emb_country], axis = 1)"
   ]
  },
  {
   "cell_type": "code",
   "execution_count": 11,
   "id": "4c09e38d-4201-4a0e-bbe3-1410a2e94bcc",
   "metadata": {},
   "outputs": [
    {
     "name": "stderr",
     "output_type": "stream",
     "text": [
      "/opt/conda/lib/python3.8/site-packages/pandas/core/arraylike.py:364: RuntimeWarning: divide by zero encountered in log\n",
      "  result = getattr(ufunc, method)(*inputs, **kwargs)\n"
     ]
    }
   ],
   "source": [
    "combined[dep_var] = np.log(combined[dep_var])"
   ]
  },
  {
   "cell_type": "code",
   "execution_count": 12,
   "id": "f54b9689-c1fe-41f2-aaba-4404b9f0b4c1",
   "metadata": {},
   "outputs": [],
   "source": [
    "combined = add_datepart(combined, 'date')"
   ]
  },
  {
   "cell_type": "code",
   "execution_count": 13,
   "id": "f20af982-6930-4901-a3b5-ab6decff2f80",
   "metadata": {},
   "outputs": [],
   "source": [
    "def find_weekend(df):\n",
    "    '''this function finds whether the day is saturday or sunday i.e weekend\n",
    "    1 - if saturday or sunday else 0\n",
    "    '''\n",
    "    weekends = []\n",
    "    for i in df[\"Dayofweek\"].values :\n",
    "        if (i == 5) | (i == 6) :\n",
    "            weekends.append(1)\n",
    "        else :\n",
    "            weekends.append(0)\n",
    "    \n",
    "    return weekends"
   ]
  },
  {
   "cell_type": "code",
   "execution_count": 14,
   "id": "26c1c400-ced3-4f56-96b0-d3bbad3ee450",
   "metadata": {},
   "outputs": [],
   "source": [
    "weekends = find_weekend(combined)"
   ]
  },
  {
   "cell_type": "code",
   "execution_count": 19,
   "id": "986a2de9-6b5d-43d2-92bd-a3cc9b3bef58",
   "metadata": {},
   "outputs": [
    {
     "data": {
      "text/plain": [
       "23472"
      ]
     },
     "execution_count": 19,
     "metadata": {},
     "output_type": "execute_result"
    }
   ],
   "source": [
    "weekends.count(0)"
   ]
  },
  {
   "cell_type": "code",
   "execution_count": 20,
   "id": "1e7ed8d2-480f-4c32-a574-020834fbc4c8",
   "metadata": {},
   "outputs": [
    {
     "data": {
      "text/plain": [
       "9396"
      ]
     },
     "execution_count": 20,
     "metadata": {},
     "output_type": "execute_result"
    }
   ],
   "source": [
    "weekends.count(1)"
   ]
  },
  {
   "cell_type": "code",
   "execution_count": 21,
   "id": "08da682f-7ffb-4de5-a756-e41e2c64d189",
   "metadata": {},
   "outputs": [],
   "source": [
    "combined[\"is_weekend\"] = weekends"
   ]
  },
  {
   "cell_type": "code",
   "execution_count": 22,
   "id": "66232212-26f8-4813-8916-c3c602fbb46b",
   "metadata": {},
   "outputs": [],
   "source": [
    "emb_dim = month_map[1].shape[0]\n",
    "col_name = [f'month_emb_{i}' for i in range(1, emb_dim + 1)]\n",
    "df_emb_month = pd.DataFrame(combined['Month'].map(month_map).to_list(), columns = col_name)"
   ]
  },
  {
   "cell_type": "code",
   "execution_count": 23,
   "id": "8e945532-b43a-4600-a8f5-e873ca107630",
   "metadata": {},
   "outputs": [],
   "source": [
    "combined = pd.concat([combined, df_emb_month], axis = 1)"
   ]
  },
  {
   "cell_type": "code",
   "execution_count": 24,
   "id": "72b16fdc-196f-445d-b7ee-16cc837e91a0",
   "metadata": {},
   "outputs": [],
   "source": [
    "gdp = pd.read_csv(\"GDP_per_capita_2015_to_2019_Finland_Norway_Sweden.csv\")\n",
    "\n",
    "gdp = gdp.melt(id_vars = 'year', value_vars = ['Finland', 'Norway', 'Sweden'], var_name = 'country', value_name = 'gdp')"
   ]
  },
  {
   "cell_type": "code",
   "execution_count": 25,
   "id": "ee53507d-82cc-40b0-9bcf-288923ef2aaa",
   "metadata": {},
   "outputs": [],
   "source": [
    "combined = combined.rename(columns = {\"Year\" : \"year\"})"
   ]
  },
  {
   "cell_type": "code",
   "execution_count": 26,
   "id": "a84c836a-acd7-4199-b138-6f34d4e34016",
   "metadata": {},
   "outputs": [],
   "source": [
    "combined = combined.merge(gdp, on = [\"country\", \"year\"], how = \"left\")"
   ]
  },
  {
   "cell_type": "code",
   "execution_count": 27,
   "id": "354192d1-2c50-4af2-8779-503c30aceb39",
   "metadata": {},
   "outputs": [],
   "source": [
    "cond_tr = (combined.year < 2018)\n",
    "cond_val = (combined.year == 2018)\n",
    "train_idx = np.where(cond_tr)[0]\n",
    "valid_idx = np.where(cond_val)[0]\n",
    "test_idx = combined.iloc[26298:].index"
   ]
  },
  {
   "cell_type": "code",
   "execution_count": 28,
   "id": "b4909140-73d8-49d7-98db-697ecb24c821",
   "metadata": {},
   "outputs": [
    {
     "data": {
      "text/plain": [
       "(19728, 6570, 6570)"
      ]
     },
     "execution_count": 28,
     "metadata": {},
     "output_type": "execute_result"
    }
   ],
   "source": [
    "len(train_idx), len(valid_idx), len(test_idx)"
   ]
  },
  {
   "cell_type": "code",
   "execution_count": 29,
   "id": "da2b7f53-e633-4576-9415-3aef66f9a16c",
   "metadata": {},
   "outputs": [],
   "source": [
    "cont, cat = cont_cat_split(combined, 1, dep_var)"
   ]
  },
  {
   "cell_type": "code",
   "execution_count": 30,
   "id": "412730b5-67b9-43e3-af29-5a0a5b709b26",
   "metadata": {},
   "outputs": [
    {
     "data": {
      "text/plain": [
       "['row_id',\n",
       " 'store_emb_1',\n",
       " 'store_emb_2',\n",
       " 'store_emb_3',\n",
       " 'product_emb_1',\n",
       " 'product_emb_2',\n",
       " 'product_emb_3',\n",
       " 'country_emb_1',\n",
       " 'country_emb_2',\n",
       " 'country_emb_3',\n",
       " 'year',\n",
       " 'Month',\n",
       " 'Week',\n",
       " 'Day',\n",
       " 'Dayofweek',\n",
       " 'Dayofyear',\n",
       " 'Elapsed',\n",
       " 'is_weekend',\n",
       " 'month_emb_1',\n",
       " 'month_emb_2',\n",
       " 'month_emb_3',\n",
       " 'month_emb_4',\n",
       " 'month_emb_5',\n",
       " 'month_emb_6',\n",
       " 'month_emb_7',\n",
       " 'gdp']"
      ]
     },
     "execution_count": 30,
     "metadata": {},
     "output_type": "execute_result"
    }
   ],
   "source": [
    "cont"
   ]
  },
  {
   "cell_type": "code",
   "execution_count": 31,
   "id": "00f63b42-03a7-40ad-b1f7-677d27d2f83d",
   "metadata": {},
   "outputs": [],
   "source": [
    "cont.remove(\"row_id\")\n",
    "cont.remove(\"Elapsed\")"
   ]
  },
  {
   "cell_type": "code",
   "execution_count": 32,
   "id": "37c47ed5-d3f0-4ecb-85cb-38263e46f24b",
   "metadata": {},
   "outputs": [],
   "source": [
    "procs = [Categorify, FillMissing, Normalize]\n",
    "#train_idx = combined.iloc[:26298]\n",
    "splits = (list(train_idx), list(valid_idx))\n",
    "to = TabularPandas(combined, procs, cat, cont, y_names = dep_var, splits = splits)"
   ]
  },
  {
   "cell_type": "code",
   "execution_count": 33,
   "id": "43c664d5-94e1-48fd-b3db-f86b8298a741",
   "metadata": {},
   "outputs": [],
   "source": [
    "def SMAPE(preds, targs):\n",
    "    denominator = (targs + np.abs(preds)) / 200.0\n",
    "    diff = np.abs(preds - targs) / denominator\n",
    "    diff[denominator == 0] = 0.0\n",
    "    return np.mean(diff)"
   ]
  },
  {
   "cell_type": "code",
   "execution_count": 34,
   "id": "ef458b72-db17-4f4b-a861-87dcabcb4589",
   "metadata": {},
   "outputs": [],
   "source": [
    "smape = AccumMetric(SMAPE, to_np = True)"
   ]
  },
  {
   "cell_type": "code",
   "execution_count": 35,
   "id": "16c71131-9e75-4463-ad9f-96271edc5470",
   "metadata": {},
   "outputs": [],
   "source": [
    "dls = to.dataloaders(1024, device = \"cuda\")"
   ]
  },
  {
   "cell_type": "code",
   "execution_count": 36,
   "id": "941f1663-b78b-4477-ac60-3a0313f51524",
   "metadata": {},
   "outputs": [],
   "source": [
    "learn = tabular_learner(dls, y_range = (3, 8), layers = [500, 250, 64, 32, 16], n_out = 1, metrics = [smape], loss_func = F.mse_loss)"
   ]
  },
  {
   "cell_type": "code",
   "execution_count": 37,
   "id": "3c99e159-353f-47cb-bdfb-1887265a3524",
   "metadata": {},
   "outputs": [
    {
     "data": {
      "text/html": [],
      "text/plain": [
       "<IPython.core.display.HTML object>"
      ]
     },
     "metadata": {},
     "output_type": "display_data"
    },
    {
     "name": "stdout",
     "output_type": "stream",
     "text": [
      "CPU times: user 4.33 s, sys: 1.55 s, total: 5.88 s\n",
      "Wall time: 5.85 s\n"
     ]
    },
    {
     "name": "stderr",
     "output_type": "stream",
     "text": [
      "/opt/conda/lib/python3.8/site-packages/fastai/callback/schedule.py:269: UserWarning: color is redundantly defined by the 'color' keyword argument and the fmt string \"ro\" (-> color='r'). The keyword argument will take precedence.\n",
      "  ax.plot(val, idx, 'ro', label=nm, c=color)\n"
     ]
    },
    {
     "data": {
      "text/plain": [
       "SuggestedLRs(valley=0.0006918309954926372)"
      ]
     },
     "execution_count": 37,
     "metadata": {},
     "output_type": "execute_result"
    },
    {
     "data": {
      "image/png": "[encoded data removed]",
      "text/plain": [
       "<Figure size 432x288 with 1 Axes>"
      ]
     },
     "metadata": {
      "needs_background": "light"
     },
     "output_type": "display_data"
    }
   ],
   "source": [
    "%%time\n",
    "learn.lr_find()"
   ]
  },
  {
   "cell_type": "code",
   "execution_count": 38,
   "id": "72b5e586-f885-469e-aad1-b8e1e9fd8c44",
   "metadata": {
    "tags": []
   },
   "outputs": [
    {
     "data": {
      "text/html": [
       "<table border=\"1\" class=\"dataframe\">\n",
       "  <thead>\n",
       "    <tr style=\"text-align: left;\">\n",
       "      <th>epoch</th>\n",
       "      <th>train_loss</th>\n",
       "      <th>valid_loss</th>\n",
       "      <th>SMAPE</th>\n",
       "      <th>time</th>\n",
       "    </tr>\n",
       "  </thead>\n",
       "  <tbody>\n",
       "    <tr>\n",
       "      <td>0</td>\n",
       "      <td>0.212521</td>\n",
       "      <td>0.251190</td>\n",
       "      <td>6.810527</td>\n",
       "      <td>00:00</td>\n",
       "    </tr>\n",
       "    <tr>\n",
       "      <td>1</td>\n",
       "      <td>0.110396</td>\n",
       "      <td>0.018149</td>\n",
       "      <td>1.752707</td>\n",
       "      <td>00:00</td>\n",
       "    </tr>\n",
       "    <tr>\n",
       "      <td>2</td>\n",
       "      <td>0.064975</td>\n",
       "      <td>0.016142</td>\n",
       "      <td>1.686397</td>\n",
       "      <td>00:00</td>\n",
       "    </tr>\n",
       "    <tr>\n",
       "      <td>3</td>\n",
       "      <td>0.043114</td>\n",
       "      <td>0.015997</td>\n",
       "      <td>1.506923</td>\n",
       "      <td>00:00</td>\n",
       "    </tr>\n",
       "    <tr>\n",
       "      <td>4</td>\n",
       "      <td>0.030615</td>\n",
       "      <td>0.012347</td>\n",
       "      <td>1.439739</td>\n",
       "      <td>00:00</td>\n",
       "    </tr>\n",
       "    <tr>\n",
       "      <td>5</td>\n",
       "      <td>0.022611</td>\n",
       "      <td>0.010238</td>\n",
       "      <td>1.316070</td>\n",
       "      <td>00:00</td>\n",
       "    </tr>\n",
       "    <tr>\n",
       "      <td>6</td>\n",
       "      <td>0.017318</td>\n",
       "      <td>0.011881</td>\n",
       "      <td>1.432586</td>\n",
       "      <td>00:00</td>\n",
       "    </tr>\n",
       "    <tr>\n",
       "      <td>7</td>\n",
       "      <td>0.013689</td>\n",
       "      <td>0.010031</td>\n",
       "      <td>1.321909</td>\n",
       "      <td>00:00</td>\n",
       "    </tr>\n",
       "    <tr>\n",
       "      <td>8</td>\n",
       "      <td>0.011280</td>\n",
       "      <td>0.010849</td>\n",
       "      <td>1.383162</td>\n",
       "      <td>00:00</td>\n",
       "    </tr>\n",
       "    <tr>\n",
       "      <td>9</td>\n",
       "      <td>0.009599</td>\n",
       "      <td>0.010688</td>\n",
       "      <td>1.376162</td>\n",
       "      <td>00:00</td>\n",
       "    </tr>\n",
       "  </tbody>\n",
       "</table>"
      ],
      "text/plain": [
       "<IPython.core.display.HTML object>"
      ]
     },
     "metadata": {},
     "output_type": "display_data"
    }
   ],
   "source": [
    "learn.fit_one_cycle(10, slice(1e-4, 1e-2))"
   ]
  },
  {
   "cell_type": "code",
   "execution_count": 39,
   "id": "e3debfa3-3db0-4068-a2e5-b9af1d930b11",
   "metadata": {},
   "outputs": [
    {
     "name": "stdout",
     "output_type": "stream",
     "text": [
      "CPU times: user 33.2 ms, sys: 1.17 ms, total: 34.4 ms\n",
      "Wall time: 30.6 ms\n"
     ]
    },
    {
     "data": {
      "image/png": "[encoded data removed]",
      "text/plain": [
       "<Figure size 432x288 with 1 Axes>"
      ]
     },
     "metadata": {
      "needs_background": "light"
     },
     "output_type": "display_data"
    }
   ],
   "source": [
    "%%time\n",
    "learn.recorder.plot_loss()"
   ]
  },
  {
   "cell_type": "code",
   "execution_count": 40,
   "id": "3fbdeeaa-ac94-4678-bd1f-cb348b3bf191",
   "metadata": {},
   "outputs": [
    {
     "name": "stdout",
     "output_type": "stream",
     "text": [
      "(19728, 34) (19728,)\n"
     ]
    }
   ],
   "source": [
    "trainxs, trainy = to.train.xs, to.train.y\n",
    "print (trainxs.shape, trainy.shape)"
   ]
  },
  {
   "cell_type": "code",
   "execution_count": 41,
   "id": "25b7f68f-0759-498d-987d-4677d58d081c",
   "metadata": {},
   "outputs": [
    {
     "name": "stdout",
     "output_type": "stream",
     "text": [
      "(6570, 34) (6570,)\n"
     ]
    }
   ],
   "source": [
    "validxs, validy = to.valid.xs, to.valid.y\n",
    "print (validxs.shape, validy.shape)"
   ]
  },
  {
   "cell_type": "code",
   "execution_count": 42,
   "id": "d3f9ef12-d3b3-4743-9202-5eb260d5503f",
   "metadata": {},
   "outputs": [],
   "source": [
    "model_log = XGBRegressor(learning_rate = 0.44217554329478864, gamma = 0.008005901796296285,\n",
    "                     alpha = 7.198845069865988, max_depth = 3,\n",
    "                     reg_lambda = 0.002454298512769308)"
   ]
  },
  {
   "cell_type": "code",
   "execution_count": 43,
   "id": "fa21720c-f463-4a12-8158-0b414b18a601",
   "metadata": {},
   "outputs": [
    {
     "data": {
      "text/plain": [
       "XGBRegressor(alpha=7.198845069865988, base_score=0.5, booster='gbtree',\n",
       "             colsample_bylevel=1, colsample_bynode=1, colsample_bytree=1,\n",
       "             enable_categorical=False, gamma=0.008005901796296285, gpu_id=-1,\n",
       "             importance_type=None, interaction_constraints='',\n",
       "             learning_rate=0.44217554329478864, max_delta_step=0, max_depth=3,\n",
       "             min_child_weight=1, missing=nan, monotone_constraints='()',\n",
       "             n_estimators=100, n_jobs=7, num_parallel_tree=1, predictor='auto',\n",
       "             random_state=0, reg_alpha=7.19884491,\n",
       "             reg_lambda=0.002454298512769308, scale_pos_weight=1, subsample=1,\n",
       "             tree_method='exact', validate_parameters=1, verbosity=None)"
      ]
     },
     "execution_count": 43,
     "metadata": {},
     "output_type": "execute_result"
    }
   ],
   "source": [
    "model_log.fit(trainxs, trainy)"
   ]
  },
  {
   "cell_type": "code",
   "execution_count": 44,
   "id": "66bbc6e1-763c-426f-b651-2b499613b0eb",
   "metadata": {},
   "outputs": [
    {
     "data": {
      "text/plain": [
       "1.5011186150104967"
      ]
     },
     "execution_count": 44,
     "metadata": {},
     "output_type": "execute_result"
    }
   ],
   "source": [
    "SMAPE(model_log.predict(validxs), validy)"
   ]
  },
  {
   "cell_type": "code",
   "execution_count": 45,
   "id": "9e429a99-6d92-4d68-8857-6818261458a3",
   "metadata": {},
   "outputs": [],
   "source": [
    "model_exp = XGBRegressor(learning_rate = 0.03939193777334498, gamma = 4.0544219317998165,\n",
    "                     alpha = 5.32579150349582, max_depth = 8,\n",
    "                     reg_lambda = 20.69660325703409)"
   ]
  },
  {
   "cell_type": "code",
   "execution_count": 46,
   "id": "ac63ff2f-0914-4ed9-ad94-fb925197500a",
   "metadata": {},
   "outputs": [],
   "source": [
    "trainy_exp = np.exp(trainy)\n",
    "validy_exp = np.exp(validy)"
   ]
  },
  {
   "cell_type": "code",
   "execution_count": 47,
   "id": "07df5909-3290-4e62-ba25-29709fecba34",
   "metadata": {},
   "outputs": [
    {
     "data": {
      "text/plain": [
       "XGBRegressor(alpha=5.32579150349582, base_score=0.5, booster='gbtree',\n",
       "             colsample_bylevel=1, colsample_bynode=1, colsample_bytree=1,\n",
       "             enable_categorical=False, gamma=4.0544219317998165, gpu_id=-1,\n",
       "             importance_type=None, interaction_constraints='',\n",
       "             learning_rate=0.03939193777334498, max_delta_step=0, max_depth=8,\n",
       "             min_child_weight=1, missing=nan, monotone_constraints='()',\n",
       "             n_estimators=100, n_jobs=7, num_parallel_tree=1, predictor='auto',\n",
       "             random_state=0, reg_alpha=5.32579136, reg_lambda=20.69660325703409,\n",
       "             scale_pos_weight=1, subsample=1, tree_method='exact',\n",
       "             validate_parameters=1, verbosity=None)"
      ]
     },
     "execution_count": 47,
     "metadata": {},
     "output_type": "execute_result"
    }
   ],
   "source": [
    "model_exp.fit(trainxs, trainy_exp)"
   ]
  },
  {
   "cell_type": "code",
   "execution_count": 48,
   "id": "3d6f9bff-87ff-4b8b-bf58-ce97ddd9858d",
   "metadata": {},
   "outputs": [
    {
     "data": {
      "text/plain": [
       "9.910916155637121"
      ]
     },
     "execution_count": 48,
     "metadata": {},
     "output_type": "execute_result"
    }
   ],
   "source": [
    "SMAPE(model_exp.predict(validxs), validy_exp)"
   ]
  },
  {
   "cell_type": "code",
   "execution_count": 49,
   "id": "cc9d0b71-360b-4280-a152-0141b0a9fc14",
   "metadata": {},
   "outputs": [],
   "source": [
    "import pickle\n",
    "pickle.dump(model_exp, open(\"models/model_exp.pkl\", \"wb\"))\n",
    "pickle.dump(model_log, open(\"models/model_log.pkl\", \"wb\"))"
   ]
  },
  {
   "cell_type": "code",
   "execution_count": 50,
   "id": "9d0d1b86-5e14-46b0-a8ad-383385229c2a",
   "metadata": {},
   "outputs": [],
   "source": [
    "learn.export(\"latest_nn.pkl\")"
   ]
  },
  {
   "cell_type": "code",
   "execution_count": 51,
   "id": "8bba398c-517f-4f3c-94aa-5466386b67e5",
   "metadata": {},
   "outputs": [
    {
     "data": {
      "text/html": [],
      "text/plain": [
       "<IPython.core.display.HTML object>"
      ]
     },
     "metadata": {},
     "output_type": "display_data"
    }
   ],
   "source": [
    "ynn, _ = learn.get_preds()"
   ]
  },
  {
   "cell_type": "code",
   "execution_count": 52,
   "id": "5da2b3a3-fc55-4ab4-8571-25e0bf5b4efe",
   "metadata": {},
   "outputs": [
    {
     "data": {
      "text/plain": [
       "(6570,)"
      ]
     },
     "execution_count": 52,
     "metadata": {},
     "output_type": "execute_result"
    }
   ],
   "source": [
    "ynn = np.concatenate([ynn])\n",
    "ynn = np.squeeze(ynn)\n",
    "ynn.shape"
   ]
  },
  {
   "cell_type": "code",
   "execution_count": 53,
   "id": "ef4d8e50-d140-45d4-864e-c309812286ea",
   "metadata": {},
   "outputs": [],
   "source": [
    "pred_exp = model_exp.predict(validxs)\n",
    "pred_log = model_log.predict(validxs)"
   ]
  },
  {
   "cell_type": "code",
   "execution_count": 54,
   "id": "9ab4c38f-3e3f-47aa-b19c-999ac4911065",
   "metadata": {},
   "outputs": [],
   "source": [
    "ynn = np.exp(ynn)"
   ]
  },
  {
   "cell_type": "code",
   "execution_count": 55,
   "id": "4555b1a0-22c2-4b2c-8433-e39c2f4823ce",
   "metadata": {},
   "outputs": [],
   "source": [
    "pred_log_exp = np.exp(pred_log)"
   ]
  },
  {
   "cell_type": "code",
   "execution_count": 56,
   "id": "24496e11-38be-430e-89f6-1923208735d6",
   "metadata": {},
   "outputs": [],
   "source": [
    "final_pred = (pred_exp + pred_log_exp + ynn) / 3"
   ]
  },
  {
   "cell_type": "code",
   "execution_count": 57,
   "id": "6027218e-bc76-4f25-b72c-a771e848b518",
   "metadata": {},
   "outputs": [
    {
     "data": {
      "text/plain": [
       "array([324.3741 , 510.88608, 144.00513, 547.1227 , 819.34937],\n",
       "      dtype=float32)"
      ]
     },
     "execution_count": 57,
     "metadata": {},
     "output_type": "execute_result"
    }
   ],
   "source": [
    "final_pred[:5]"
   ]
  },
  {
   "cell_type": "code",
   "execution_count": 58,
   "id": "80babff5-f559-41ba-9b62-4e90fb715204",
   "metadata": {},
   "outputs": [
    {
     "data": {
      "text/plain": [
       "6.858961736942309"
      ]
     },
     "execution_count": 58,
     "metadata": {},
     "output_type": "execute_result"
    }
   ],
   "source": [
    "SMAPE(final_pred, validy_exp)"
   ]
  },
  {
   "cell_type": "code",
   "execution_count": 59,
   "id": "ea22b405-7bc3-43bd-b5d8-a3e9fc23edda",
   "metadata": {},
   "outputs": [],
   "source": [
    "from functools import partial\n",
    "from scipy.optimize import fmin\n",
    "class OptimizeSMAPE :\n",
    "    def __init__(self):\n",
    "        self.coef_ = 0\n",
    "        \n",
    "    def _smape(self, coef, X, y):\n",
    "        '''\n",
    "        coef = coef list, of the same length as the no of models\n",
    "        X = predictions made by every model\n",
    "        y = targets\n",
    "        '''\n",
    "        x_coef = X * coef\n",
    "        predictions = np.sum(x_coef, axis = 1)\n",
    "        # calculate the SMAPE score\n",
    "        smape_score = SMAPE(predictions, y)\n",
    "        \n",
    "        return smape_score\n",
    "    \n",
    "    def fit(self, X, y):\n",
    "        loss_partial = partial(self._smape, X = X, y = y)\n",
    "        initial_coef = np.random.dirichlet(np.ones(X.shape[1]), size = 1)\n",
    "        \n",
    "        self.coef_ = fmin(loss_partial, initial_coef, disp = True)\n",
    "        \n",
    "    def predict(self, X):\n",
    "        x_coef = X * self.coef_\n",
    "        predictions = np.sum(x_coef, axis = 1)\n",
    "        return predictions"
   ]
  },
  {
   "cell_type": "code",
   "execution_count": 60,
   "id": "a1bbf942-a13b-4e25-a83c-dc6f9b40285c",
   "metadata": {},
   "outputs": [],
   "source": [
    "stack_preds = np.column_stack((pred_exp, pred_log_exp, ynn, final_pred))"
   ]
  },
  {
   "cell_type": "code",
   "execution_count": 61,
   "id": "33005a53-24c4-4fa2-a064-dfb049c62701",
   "metadata": {},
   "outputs": [],
   "source": [
    "opt = OptimizeSMAPE()"
   ]
  },
  {
   "cell_type": "code",
   "execution_count": 62,
   "id": "04ee1857-3576-4cb0-a17d-e20f5f9aad37",
   "metadata": {},
   "outputs": [
    {
     "name": "stdout",
     "output_type": "stream",
     "text": [
      "Optimization terminated successfully.\n",
      "         Current function value: 6.288618\n",
      "         Iterations: 132\n",
      "         Function evaluations: 231\n",
      "CPU times: user 495 ms, sys: 14.4 ms, total: 510 ms\n",
      "Wall time: 507 ms\n"
     ]
    }
   ],
   "source": [
    "%%time\n",
    "opt.fit(stack_preds[:, :-1], validy_exp)"
   ]
  },
  {
   "cell_type": "code",
   "execution_count": 63,
   "id": "881a3394-dff0-40c3-ab9d-0480a76da78e",
   "metadata": {},
   "outputs": [
    {
     "data": {
      "text/plain": [
       "array([0.47459232, 0.30301865, 0.26701152])"
      ]
     },
     "execution_count": 63,
     "metadata": {},
     "output_type": "execute_result"
    }
   ],
   "source": [
    "opt.coef_"
   ]
  },
  {
   "cell_type": "code",
   "execution_count": 64,
   "id": "9b74d116-2174-4e3a-a40d-da4c74efb604",
   "metadata": {},
   "outputs": [],
   "source": [
    "combined_test = combined.iloc[test_idx]"
   ]
  },
  {
   "cell_type": "code",
   "execution_count": 65,
   "id": "6fc53957-db75-4e0c-9637-071ab1c0104f",
   "metadata": {},
   "outputs": [],
   "source": [
    "procs = [Categorify, FillMissing, Normalize]\n",
    "#train_idx = combined.iloc[:26298]\n",
    "splits = (list(train_idx), list(test_idx))\n",
    "to = TabularPandas(combined, procs, cat, cont, y_names = dep_var, splits = splits)"
   ]
  },
  {
   "cell_type": "code",
   "execution_count": 66,
   "id": "63c2f5d4-2266-435b-9472-cefc02d4cfa1",
   "metadata": {},
   "outputs": [],
   "source": [
    "testxs = to.valid.xs"
   ]
  },
  {
   "cell_type": "code",
   "execution_count": 67,
   "id": "9cff94ec-3fee-44cf-8f48-f4232459b636",
   "metadata": {},
   "outputs": [
    {
     "data": {
      "text/plain": [
       "(6570, 34)"
      ]
     },
     "execution_count": 67,
     "metadata": {},
     "output_type": "execute_result"
    }
   ],
   "source": [
    "testxs.shape"
   ]
  },
  {
   "cell_type": "code",
   "execution_count": 68,
   "id": "30e136b3-c244-4452-be2b-df4465be4b64",
   "metadata": {},
   "outputs": [],
   "source": [
    "dl = learn.dls.test_dl(combined_test)"
   ]
  },
  {
   "cell_type": "code",
   "execution_count": 69,
   "id": "50891a7c-3fbd-4d60-bd02-a2a488f69756",
   "metadata": {},
   "outputs": [
    {
     "data": {
      "text/html": [],
      "text/plain": [
       "<IPython.core.display.HTML object>"
      ]
     },
     "metadata": {},
     "output_type": "display_data"
    },
    {
     "name": "stderr",
     "output_type": "stream",
     "text": [
      "/tmp/ipykernel_696/884952379.py:3: RuntimeWarning: invalid value encountered in true_divide\n",
      "  diff = np.abs(preds - targs) / denominator\n"
     ]
    }
   ],
   "source": [
    "testpred, _ = learn.get_preds(dl = dl)"
   ]
  },
  {
   "cell_type": "code",
   "execution_count": 70,
   "id": "86686c68-3d24-4038-9407-86b67d7e778e",
   "metadata": {},
   "outputs": [
    {
     "data": {
      "text/plain": [
       "(6570,)"
      ]
     },
     "execution_count": 70,
     "metadata": {},
     "output_type": "execute_result"
    }
   ],
   "source": [
    "testpred = np.concatenate([testpred])\n",
    "testpred = np.squeeze(testpred)\n",
    "testpred = np.exp(testpred)\n",
    "testpred.shape"
   ]
  },
  {
   "cell_type": "code",
   "execution_count": 71,
   "id": "81c9fd6c-c32c-44f6-9d3e-98a8155c5e6c",
   "metadata": {},
   "outputs": [],
   "source": [
    "testpred_exp = model_exp.predict(testxs)"
   ]
  },
  {
   "cell_type": "code",
   "execution_count": 72,
   "id": "bd8cb10d-07da-42ee-a9ef-17400c8838c5",
   "metadata": {},
   "outputs": [],
   "source": [
    "testpred_log = model_log.predict(testxs)\n",
    "testpred_log = np.exp(testpred_log)"
   ]
  },
  {
   "cell_type": "code",
   "execution_count": 73,
   "id": "bdacbb5d-d5ab-46d6-99a3-09fb30d3f7b0",
   "metadata": {},
   "outputs": [],
   "source": [
    "testpred_stack = np.column_stack((testpred_exp, testpred_log, testpred))"
   ]
  },
  {
   "cell_type": "code",
   "execution_count": 74,
   "id": "f7b4095e-0f7e-4555-ace1-2010a5b3bb14",
   "metadata": {},
   "outputs": [],
   "source": [
    "ensemble_test_preds = opt.predict(testpred_stack)"
   ]
  },
  {
   "cell_type": "code",
   "execution_count": 75,
   "id": "f5c4f7aa-d851-48e3-a7e6-45182dc2f0c3",
   "metadata": {},
   "outputs": [
    {
     "data": {
      "text/plain": [
       "array([ 340.08412702,  524.23417278,  153.82872231, ...,  842.19041466,\n",
       "       1164.88991635,  397.02881576])"
      ]
     },
     "execution_count": 75,
     "metadata": {},
     "output_type": "execute_result"
    }
   ],
   "source": [
    "ensemble_test_preds"
   ]
  },
  {
   "cell_type": "code",
   "execution_count": 76,
   "id": "0e4807b4-6ad1-43df-b8f2-ef10620c7ab8",
   "metadata": {},
   "outputs": [],
   "source": [
    "submission = pd.read_csv(\"sample_submission.csv\")"
   ]
  },
  {
   "cell_type": "code",
   "execution_count": 77,
   "id": "97c485d6-cb7a-48c3-b7ab-cd9a8f37c792",
   "metadata": {},
   "outputs": [],
   "source": [
    "submission[\"num_sold\"] = list(ensemble_test_preds)"
   ]
  },
  {
   "cell_type": "code",
   "execution_count": 78,
   "id": "89219234-4b77-4b8a-bb07-77e9bd6ccd38",
   "metadata": {},
   "outputs": [],
   "source": [
    "submission.to_csv(\"subm/submission.csv\", index = False)"
   ]
  },
  {
   "cell_type": "code",
   "execution_count": 79,
   "id": "9d076007-d7c6-49d0-bd7a-a3d41cc77690",
   "metadata": {},
   "outputs": [
    {
     "name": "stdout",
     "output_type": "stream",
     "text": [
      "100%|████████████████████████████████████████| 156k/156k [00:04<00:00, 32.7kB/s]\n",
      "Successfully submitted to Tabular Playground Series - Jan 2022"
     ]
    }
   ],
   "source": [
    "! kaggle competitions submit -c tabular-playground-series-jan-2022 -f subm/submission.csv -m \"plssssss\""
   ]
  },
  {
   "cell_type": "code",
   "execution_count": 85,
   "id": "c7008aef-2fd9-4396-a9c7-3212fd57af89",
   "metadata": {},
   "outputs": [
    {
     "data": {
      "text/html": [
       "<div>\n",
       "<style scoped>\n",
       "    .dataframe tbody tr th:only-of-type {\n",
       "        vertical-align: middle;\n",
       "    }\n",
       "\n",
       "    .dataframe tbody tr th {\n",
       "        vertical-align: top;\n",
       "    }\n",
       "\n",
       "    .dataframe thead th {\n",
       "        text-align: right;\n",
       "    }\n",
       "</style>\n",
       "<table border=\"1\" class=\"dataframe\">\n",
       "  <thead>\n",
       "    <tr style=\"text-align: right;\">\n",
       "      <th></th>\n",
       "      <th>country</th>\n",
       "      <th>store</th>\n",
       "      <th>product</th>\n",
       "      <th>holiday</th>\n",
       "      <th>Is_month_end</th>\n",
       "      <th>Is_month_start</th>\n",
       "      <th>Is_quarter_end</th>\n",
       "      <th>Is_quarter_start</th>\n",
       "      <th>Is_year_end</th>\n",
       "      <th>Is_year_start</th>\n",
       "      <th>...</th>\n",
       "      <th>Dayofyear</th>\n",
       "      <th>Elapsed</th>\n",
       "      <th>month_emb_1</th>\n",
       "      <th>month_emb_2</th>\n",
       "      <th>month_emb_3</th>\n",
       "      <th>month_emb_4</th>\n",
       "      <th>month_emb_5</th>\n",
       "      <th>month_emb_6</th>\n",
       "      <th>month_emb_7</th>\n",
       "      <th>gdp</th>\n",
       "    </tr>\n",
       "  </thead>\n",
       "  <tbody>\n",
       "    <tr>\n",
       "      <th>0</th>\n",
       "      <td>1</td>\n",
       "      <td>1</td>\n",
       "      <td>2</td>\n",
       "      <td>1</td>\n",
       "      <td>1</td>\n",
       "      <td>2</td>\n",
       "      <td>1</td>\n",
       "      <td>2</td>\n",
       "      <td>1</td>\n",
       "      <td>2</td>\n",
       "      <td>...</td>\n",
       "      <td>-1.727311</td>\n",
       "      <td>-1.730469</td>\n",
       "      <td>-0.427526</td>\n",
       "      <td>-0.610809</td>\n",
       "      <td>0.104252</td>\n",
       "      <td>0.285826</td>\n",
       "      <td>-0.070086</td>\n",
       "      <td>0.112347</td>\n",
       "      <td>0.85008</td>\n",
       "      <td>-1.126706</td>\n",
       "    </tr>\n",
       "    <tr>\n",
       "      <th>1</th>\n",
       "      <td>1</td>\n",
       "      <td>1</td>\n",
       "      <td>1</td>\n",
       "      <td>1</td>\n",
       "      <td>1</td>\n",
       "      <td>2</td>\n",
       "      <td>1</td>\n",
       "      <td>2</td>\n",
       "      <td>1</td>\n",
       "      <td>2</td>\n",
       "      <td>...</td>\n",
       "      <td>-1.727311</td>\n",
       "      <td>-1.730469</td>\n",
       "      <td>-0.427526</td>\n",
       "      <td>-0.610809</td>\n",
       "      <td>0.104252</td>\n",
       "      <td>0.285826</td>\n",
       "      <td>-0.070086</td>\n",
       "      <td>0.112347</td>\n",
       "      <td>0.85008</td>\n",
       "      <td>-1.126706</td>\n",
       "    </tr>\n",
       "    <tr>\n",
       "      <th>2</th>\n",
       "      <td>1</td>\n",
       "      <td>1</td>\n",
       "      <td>3</td>\n",
       "      <td>1</td>\n",
       "      <td>1</td>\n",
       "      <td>2</td>\n",
       "      <td>1</td>\n",
       "      <td>2</td>\n",
       "      <td>1</td>\n",
       "      <td>2</td>\n",
       "      <td>...</td>\n",
       "      <td>-1.727311</td>\n",
       "      <td>-1.730469</td>\n",
       "      <td>-0.427526</td>\n",
       "      <td>-0.610809</td>\n",
       "      <td>0.104252</td>\n",
       "      <td>0.285826</td>\n",
       "      <td>-0.070086</td>\n",
       "      <td>0.112347</td>\n",
       "      <td>0.85008</td>\n",
       "      <td>-1.126706</td>\n",
       "    </tr>\n",
       "    <tr>\n",
       "      <th>3</th>\n",
       "      <td>1</td>\n",
       "      <td>2</td>\n",
       "      <td>2</td>\n",
       "      <td>1</td>\n",
       "      <td>1</td>\n",
       "      <td>2</td>\n",
       "      <td>1</td>\n",
       "      <td>2</td>\n",
       "      <td>1</td>\n",
       "      <td>2</td>\n",
       "      <td>...</td>\n",
       "      <td>-1.727311</td>\n",
       "      <td>-1.730469</td>\n",
       "      <td>-0.427526</td>\n",
       "      <td>-0.610809</td>\n",
       "      <td>0.104252</td>\n",
       "      <td>0.285826</td>\n",
       "      <td>-0.070086</td>\n",
       "      <td>0.112347</td>\n",
       "      <td>0.85008</td>\n",
       "      <td>-1.126706</td>\n",
       "    </tr>\n",
       "    <tr>\n",
       "      <th>4</th>\n",
       "      <td>1</td>\n",
       "      <td>2</td>\n",
       "      <td>1</td>\n",
       "      <td>1</td>\n",
       "      <td>1</td>\n",
       "      <td>2</td>\n",
       "      <td>1</td>\n",
       "      <td>2</td>\n",
       "      <td>1</td>\n",
       "      <td>2</td>\n",
       "      <td>...</td>\n",
       "      <td>-1.727311</td>\n",
       "      <td>-1.730469</td>\n",
       "      <td>-0.427526</td>\n",
       "      <td>-0.610809</td>\n",
       "      <td>0.104252</td>\n",
       "      <td>0.285826</td>\n",
       "      <td>-0.070086</td>\n",
       "      <td>0.112347</td>\n",
       "      <td>0.85008</td>\n",
       "      <td>-1.126706</td>\n",
       "    </tr>\n",
       "  </tbody>\n",
       "</table>\n",
       "<p>5 rows × 34 columns</p>\n",
       "</div>"
      ],
      "text/plain": [
       "   country  store  product  holiday  Is_month_end  Is_month_start  \\\n",
       "0        1      1        2        1             1               2   \n",
       "1        1      1        1        1             1               2   \n",
       "2        1      1        3        1             1               2   \n",
       "3        1      2        2        1             1               2   \n",
       "4        1      2        1        1             1               2   \n",
       "\n",
       "   Is_quarter_end  Is_quarter_start  Is_year_end  Is_year_start  ...  \\\n",
       "0               1                 2            1              2  ...   \n",
       "1               1                 2            1              2  ...   \n",
       "2               1                 2            1              2  ...   \n",
       "3               1                 2            1              2  ...   \n",
       "4               1                 2            1              2  ...   \n",
       "\n",
       "   Dayofyear   Elapsed  month_emb_1  month_emb_2  month_emb_3  month_emb_4  \\\n",
       "0  -1.727311 -1.730469    -0.427526    -0.610809     0.104252     0.285826   \n",
       "1  -1.727311 -1.730469    -0.427526    -0.610809     0.104252     0.285826   \n",
       "2  -1.727311 -1.730469    -0.427526    -0.610809     0.104252     0.285826   \n",
       "3  -1.727311 -1.730469    -0.427526    -0.610809     0.104252     0.285826   \n",
       "4  -1.727311 -1.730469    -0.427526    -0.610809     0.104252     0.285826   \n",
       "\n",
       "   month_emb_5  month_emb_6  month_emb_7       gdp  \n",
       "0    -0.070086     0.112347      0.85008 -1.126706  \n",
       "1    -0.070086     0.112347      0.85008 -1.126706  \n",
       "2    -0.070086     0.112347      0.85008 -1.126706  \n",
       "3    -0.070086     0.112347      0.85008 -1.126706  \n",
       "4    -0.070086     0.112347      0.85008 -1.126706  \n",
       "\n",
       "[5 rows x 34 columns]"
      ]
     },
     "execution_count": 85,
     "metadata": {},
     "output_type": "execute_result"
    }
   ],
   "source": [
    "trainxs.head()"
   ]
  },
  {
   "cell_type": "code",
   "execution_count": 86,
   "id": "0e1a5681-faea-468e-a45a-eb0aa4ce5a40",
   "metadata": {},
   "outputs": [
    {
     "data": {
      "text/html": [
       "<div>\n",
       "<style scoped>\n",
       "    .dataframe tbody tr th:only-of-type {\n",
       "        vertical-align: middle;\n",
       "    }\n",
       "\n",
       "    .dataframe tbody tr th {\n",
       "        vertical-align: top;\n",
       "    }\n",
       "\n",
       "    .dataframe thead th {\n",
       "        text-align: right;\n",
       "    }\n",
       "</style>\n",
       "<table border=\"1\" class=\"dataframe\">\n",
       "  <thead>\n",
       "    <tr style=\"text-align: right;\">\n",
       "      <th></th>\n",
       "      <th>year</th>\n",
       "      <th>country</th>\n",
       "      <th>gdp</th>\n",
       "    </tr>\n",
       "  </thead>\n",
       "  <tbody>\n",
       "    <tr>\n",
       "      <th>0</th>\n",
       "      <td>2015</td>\n",
       "      <td>Finland</td>\n",
       "      <td>42802</td>\n",
       "    </tr>\n",
       "    <tr>\n",
       "      <th>1</th>\n",
       "      <td>2016</td>\n",
       "      <td>Finland</td>\n",
       "      <td>43814</td>\n",
       "    </tr>\n",
       "    <tr>\n",
       "      <th>2</th>\n",
       "      <td>2017</td>\n",
       "      <td>Finland</td>\n",
       "      <td>46412</td>\n",
       "    </tr>\n",
       "    <tr>\n",
       "      <th>3</th>\n",
       "      <td>2018</td>\n",
       "      <td>Finland</td>\n",
       "      <td>50038</td>\n",
       "    </tr>\n",
       "    <tr>\n",
       "      <th>4</th>\n",
       "      <td>2019</td>\n",
       "      <td>Finland</td>\n",
       "      <td>48712</td>\n",
       "    </tr>\n",
       "  </tbody>\n",
       "</table>\n",
       "</div>"
      ],
      "text/plain": [
       "   year  country    gdp\n",
       "0  2015  Finland  42802\n",
       "1  2016  Finland  43814\n",
       "2  2017  Finland  46412\n",
       "3  2018  Finland  50038\n",
       "4  2019  Finland  48712"
      ]
     },
     "execution_count": 86,
     "metadata": {},
     "output_type": "execute_result"
    }
   ],
   "source": [
    "gdp.head()"
   ]
  },
  {
   "cell_type": "code",
   "execution_count": 80,
   "id": "2f0d9ff4-3bd3-41ab-8cc3-13bb1df68cfe",
   "metadata": {},
   "outputs": [],
   "source": [
    "def feat_imp(model, df):\n",
    "    return pd.DataFrame({'cols' : df.columns, 'imp' : model.feature_importances_}).sort_values(by = \"imp\", ascending = False)"
   ]
  },
  {
   "cell_type": "code",
   "execution_count": 81,
   "id": "da541db0-11d2-4cc2-bc6d-cea144737c5c",
   "metadata": {},
   "outputs": [],
   "source": [
    "combined_ = combined.drop([\"row_id\"], axis = 1)"
   ]
  },
  {
   "cell_type": "code",
   "execution_count": 82,
   "id": "663ca283-284c-43b8-8e4e-8cf5a9afa474",
   "metadata": {},
   "outputs": [],
   "source": [
    "combined_.drop([\"num_sold\", \"Elapsed\"], axis = 1, inplace = True)"
   ]
  },
  {
   "cell_type": "code",
   "execution_count": 83,
   "id": "6e69c594-177b-47e4-8caf-709b721205e0",
   "metadata": {
    "collapsed": true,
    "jupyter": {
     "outputs_hidden": true
    },
    "tags": []
   },
   "outputs": [
    {
     "data": {
      "text/html": [
       "<div>\n",
       "<style scoped>\n",
       "    .dataframe tbody tr th:only-of-type {\n",
       "        vertical-align: middle;\n",
       "    }\n",
       "\n",
       "    .dataframe tbody tr th {\n",
       "        vertical-align: top;\n",
       "    }\n",
       "\n",
       "    .dataframe thead th {\n",
       "        text-align: right;\n",
       "    }\n",
       "</style>\n",
       "<table border=\"1\" class=\"dataframe\">\n",
       "  <thead>\n",
       "    <tr style=\"text-align: right;\">\n",
       "      <th></th>\n",
       "      <th>country</th>\n",
       "      <th>store</th>\n",
       "      <th>product</th>\n",
       "      <th>holiday</th>\n",
       "      <th>store_emb_1</th>\n",
       "      <th>store_emb_2</th>\n",
       "      <th>store_emb_3</th>\n",
       "      <th>product_emb_1</th>\n",
       "      <th>product_emb_2</th>\n",
       "      <th>product_emb_3</th>\n",
       "      <th>...</th>\n",
       "      <th>Is_year_start</th>\n",
       "      <th>is_weekend</th>\n",
       "      <th>month_emb_1</th>\n",
       "      <th>month_emb_2</th>\n",
       "      <th>month_emb_3</th>\n",
       "      <th>month_emb_4</th>\n",
       "      <th>month_emb_5</th>\n",
       "      <th>month_emb_6</th>\n",
       "      <th>month_emb_7</th>\n",
       "      <th>gdp</th>\n",
       "    </tr>\n",
       "  </thead>\n",
       "  <tbody>\n",
       "    <tr>\n",
       "      <th>0</th>\n",
       "      <td>Finland</td>\n",
       "      <td>KaggleMart</td>\n",
       "      <td>Kaggle Mug</td>\n",
       "      <td>in_Finland</td>\n",
       "      <td>0.967750</td>\n",
       "      <td>-0.929185</td>\n",
       "      <td>1.117330</td>\n",
       "      <td>-0.345529</td>\n",
       "      <td>-0.192691</td>\n",
       "      <td>-0.329195</td>\n",
       "      <td>...</td>\n",
       "      <td>True</td>\n",
       "      <td>0</td>\n",
       "      <td>0.139456</td>\n",
       "      <td>0.072881</td>\n",
       "      <td>-0.318967</td>\n",
       "      <td>0.426407</td>\n",
       "      <td>0.222740</td>\n",
       "      <td>0.328248</td>\n",
       "      <td>0.634298</td>\n",
       "      <td>42802</td>\n",
       "    </tr>\n",
       "    <tr>\n",
       "      <th>1</th>\n",
       "      <td>Finland</td>\n",
       "      <td>KaggleMart</td>\n",
       "      <td>Kaggle Hat</td>\n",
       "      <td>in_Finland</td>\n",
       "      <td>0.967750</td>\n",
       "      <td>-0.929185</td>\n",
       "      <td>1.117330</td>\n",
       "      <td>0.764051</td>\n",
       "      <td>0.657293</td>\n",
       "      <td>0.706160</td>\n",
       "      <td>...</td>\n",
       "      <td>True</td>\n",
       "      <td>0</td>\n",
       "      <td>0.139456</td>\n",
       "      <td>0.072881</td>\n",
       "      <td>-0.318967</td>\n",
       "      <td>0.426407</td>\n",
       "      <td>0.222740</td>\n",
       "      <td>0.328248</td>\n",
       "      <td>0.634298</td>\n",
       "      <td>42802</td>\n",
       "    </tr>\n",
       "    <tr>\n",
       "      <th>2</th>\n",
       "      <td>Finland</td>\n",
       "      <td>KaggleMart</td>\n",
       "      <td>Kaggle Sticker</td>\n",
       "      <td>in_Finland</td>\n",
       "      <td>0.967750</td>\n",
       "      <td>-0.929185</td>\n",
       "      <td>1.117330</td>\n",
       "      <td>-1.278340</td>\n",
       "      <td>-1.089227</td>\n",
       "      <td>-1.059847</td>\n",
       "      <td>...</td>\n",
       "      <td>True</td>\n",
       "      <td>0</td>\n",
       "      <td>0.139456</td>\n",
       "      <td>0.072881</td>\n",
       "      <td>-0.318967</td>\n",
       "      <td>0.426407</td>\n",
       "      <td>0.222740</td>\n",
       "      <td>0.328248</td>\n",
       "      <td>0.634298</td>\n",
       "      <td>42802</td>\n",
       "    </tr>\n",
       "    <tr>\n",
       "      <th>3</th>\n",
       "      <td>Finland</td>\n",
       "      <td>KaggleRama</td>\n",
       "      <td>Kaggle Mug</td>\n",
       "      <td>in_Finland</td>\n",
       "      <td>-0.300273</td>\n",
       "      <td>0.358641</td>\n",
       "      <td>-0.296122</td>\n",
       "      <td>-0.345529</td>\n",
       "      <td>-0.192691</td>\n",
       "      <td>-0.329195</td>\n",
       "      <td>...</td>\n",
       "      <td>True</td>\n",
       "      <td>0</td>\n",
       "      <td>0.139456</td>\n",
       "      <td>0.072881</td>\n",
       "      <td>-0.318967</td>\n",
       "      <td>0.426407</td>\n",
       "      <td>0.222740</td>\n",
       "      <td>0.328248</td>\n",
       "      <td>0.634298</td>\n",
       "      <td>42802</td>\n",
       "    </tr>\n",
       "    <tr>\n",
       "      <th>4</th>\n",
       "      <td>Finland</td>\n",
       "      <td>KaggleRama</td>\n",
       "      <td>Kaggle Hat</td>\n",
       "      <td>in_Finland</td>\n",
       "      <td>-0.300273</td>\n",
       "      <td>0.358641</td>\n",
       "      <td>-0.296122</td>\n",
       "      <td>0.764051</td>\n",
       "      <td>0.657293</td>\n",
       "      <td>0.706160</td>\n",
       "      <td>...</td>\n",
       "      <td>True</td>\n",
       "      <td>0</td>\n",
       "      <td>0.139456</td>\n",
       "      <td>0.072881</td>\n",
       "      <td>-0.318967</td>\n",
       "      <td>0.426407</td>\n",
       "      <td>0.222740</td>\n",
       "      <td>0.328248</td>\n",
       "      <td>0.634298</td>\n",
       "      <td>42802</td>\n",
       "    </tr>\n",
       "    <tr>\n",
       "      <th>...</th>\n",
       "      <td>...</td>\n",
       "      <td>...</td>\n",
       "      <td>...</td>\n",
       "      <td>...</td>\n",
       "      <td>...</td>\n",
       "      <td>...</td>\n",
       "      <td>...</td>\n",
       "      <td>...</td>\n",
       "      <td>...</td>\n",
       "      <td>...</td>\n",
       "      <td>...</td>\n",
       "      <td>...</td>\n",
       "      <td>...</td>\n",
       "      <td>...</td>\n",
       "      <td>...</td>\n",
       "      <td>...</td>\n",
       "      <td>...</td>\n",
       "      <td>...</td>\n",
       "      <td>...</td>\n",
       "      <td>...</td>\n",
       "      <td>...</td>\n",
       "    </tr>\n",
       "    <tr>\n",
       "      <th>32863</th>\n",
       "      <td>Sweden</td>\n",
       "      <td>KaggleMart</td>\n",
       "      <td>Kaggle Hat</td>\n",
       "      <td>in_Sweden</td>\n",
       "      <td>0.967750</td>\n",
       "      <td>-0.929185</td>\n",
       "      <td>1.117330</td>\n",
       "      <td>0.764051</td>\n",
       "      <td>0.657293</td>\n",
       "      <td>0.706160</td>\n",
       "      <td>...</td>\n",
       "      <td>False</td>\n",
       "      <td>0</td>\n",
       "      <td>0.133122</td>\n",
       "      <td>-0.090387</td>\n",
       "      <td>0.225697</td>\n",
       "      <td>-0.282197</td>\n",
       "      <td>-0.173948</td>\n",
       "      <td>0.021887</td>\n",
       "      <td>0.936223</td>\n",
       "      <td>51687</td>\n",
       "    </tr>\n",
       "    <tr>\n",
       "      <th>32864</th>\n",
       "      <td>Sweden</td>\n",
       "      <td>KaggleMart</td>\n",
       "      <td>Kaggle Sticker</td>\n",
       "      <td>in_Sweden</td>\n",
       "      <td>0.967750</td>\n",
       "      <td>-0.929185</td>\n",
       "      <td>1.117330</td>\n",
       "      <td>-1.278340</td>\n",
       "      <td>-1.089227</td>\n",
       "      <td>-1.059847</td>\n",
       "      <td>...</td>\n",
       "      <td>False</td>\n",
       "      <td>0</td>\n",
       "      <td>0.133122</td>\n",
       "      <td>-0.090387</td>\n",
       "      <td>0.225697</td>\n",
       "      <td>-0.282197</td>\n",
       "      <td>-0.173948</td>\n",
       "      <td>0.021887</td>\n",
       "      <td>0.936223</td>\n",
       "      <td>51687</td>\n",
       "    </tr>\n",
       "    <tr>\n",
       "      <th>32865</th>\n",
       "      <td>Sweden</td>\n",
       "      <td>KaggleRama</td>\n",
       "      <td>Kaggle Mug</td>\n",
       "      <td>in_Sweden</td>\n",
       "      <td>-0.300273</td>\n",
       "      <td>0.358641</td>\n",
       "      <td>-0.296122</td>\n",
       "      <td>-0.345529</td>\n",
       "      <td>-0.192691</td>\n",
       "      <td>-0.329195</td>\n",
       "      <td>...</td>\n",
       "      <td>False</td>\n",
       "      <td>0</td>\n",
       "      <td>0.133122</td>\n",
       "      <td>-0.090387</td>\n",
       "      <td>0.225697</td>\n",
       "      <td>-0.282197</td>\n",
       "      <td>-0.173948</td>\n",
       "      <td>0.021887</td>\n",
       "      <td>0.936223</td>\n",
       "      <td>51687</td>\n",
       "    </tr>\n",
       "    <tr>\n",
       "      <th>32866</th>\n",
       "      <td>Sweden</td>\n",
       "      <td>KaggleRama</td>\n",
       "      <td>Kaggle Hat</td>\n",
       "      <td>in_Sweden</td>\n",
       "      <td>-0.300273</td>\n",
       "      <td>0.358641</td>\n",
       "      <td>-0.296122</td>\n",
       "      <td>0.764051</td>\n",
       "      <td>0.657293</td>\n",
       "      <td>0.706160</td>\n",
       "      <td>...</td>\n",
       "      <td>False</td>\n",
       "      <td>0</td>\n",
       "      <td>0.133122</td>\n",
       "      <td>-0.090387</td>\n",
       "      <td>0.225697</td>\n",
       "      <td>-0.282197</td>\n",
       "      <td>-0.173948</td>\n",
       "      <td>0.021887</td>\n",
       "      <td>0.936223</td>\n",
       "      <td>51687</td>\n",
       "    </tr>\n",
       "    <tr>\n",
       "      <th>32867</th>\n",
       "      <td>Sweden</td>\n",
       "      <td>KaggleRama</td>\n",
       "      <td>Kaggle Sticker</td>\n",
       "      <td>in_Sweden</td>\n",
       "      <td>-0.300273</td>\n",
       "      <td>0.358641</td>\n",
       "      <td>-0.296122</td>\n",
       "      <td>-1.278340</td>\n",
       "      <td>-1.089227</td>\n",
       "      <td>-1.059847</td>\n",
       "      <td>...</td>\n",
       "      <td>False</td>\n",
       "      <td>0</td>\n",
       "      <td>0.133122</td>\n",
       "      <td>-0.090387</td>\n",
       "      <td>0.225697</td>\n",
       "      <td>-0.282197</td>\n",
       "      <td>-0.173948</td>\n",
       "      <td>0.021887</td>\n",
       "      <td>0.936223</td>\n",
       "      <td>51687</td>\n",
       "    </tr>\n",
       "  </tbody>\n",
       "</table>\n",
       "<p>32868 rows × 34 columns</p>\n",
       "</div>"
      ],
      "text/plain": [
       "       country       store         product     holiday  store_emb_1  \\\n",
       "0      Finland  KaggleMart      Kaggle Mug  in_Finland     0.967750   \n",
       "1      Finland  KaggleMart      Kaggle Hat  in_Finland     0.967750   \n",
       "2      Finland  KaggleMart  Kaggle Sticker  in_Finland     0.967750   \n",
       "3      Finland  KaggleRama      Kaggle Mug  in_Finland    -0.300273   \n",
       "4      Finland  KaggleRama      Kaggle Hat  in_Finland    -0.300273   \n",
       "...        ...         ...             ...         ...          ...   \n",
       "32863   Sweden  KaggleMart      Kaggle Hat   in_Sweden     0.967750   \n",
       "32864   Sweden  KaggleMart  Kaggle Sticker   in_Sweden     0.967750   \n",
       "32865   Sweden  KaggleRama      Kaggle Mug   in_Sweden    -0.300273   \n",
       "32866   Sweden  KaggleRama      Kaggle Hat   in_Sweden    -0.300273   \n",
       "32867   Sweden  KaggleRama  Kaggle Sticker   in_Sweden    -0.300273   \n",
       "\n",
       "       store_emb_2  store_emb_3  product_emb_1  product_emb_2  product_emb_3  \\\n",
       "0        -0.929185     1.117330      -0.345529      -0.192691      -0.329195   \n",
       "1        -0.929185     1.117330       0.764051       0.657293       0.706160   \n",
       "2        -0.929185     1.117330      -1.278340      -1.089227      -1.059847   \n",
       "3         0.358641    -0.296122      -0.345529      -0.192691      -0.329195   \n",
       "4         0.358641    -0.296122       0.764051       0.657293       0.706160   \n",
       "...            ...          ...            ...            ...            ...   \n",
       "32863    -0.929185     1.117330       0.764051       0.657293       0.706160   \n",
       "32864    -0.929185     1.117330      -1.278340      -1.089227      -1.059847   \n",
       "32865     0.358641    -0.296122      -0.345529      -0.192691      -0.329195   \n",
       "32866     0.358641    -0.296122       0.764051       0.657293       0.706160   \n",
       "32867     0.358641    -0.296122      -1.278340      -1.089227      -1.059847   \n",
       "\n",
       "       ...  Is_year_start  is_weekend  month_emb_1  month_emb_2  month_emb_3  \\\n",
       "0      ...           True           0     0.139456     0.072881    -0.318967   \n",
       "1      ...           True           0     0.139456     0.072881    -0.318967   \n",
       "2      ...           True           0     0.139456     0.072881    -0.318967   \n",
       "3      ...           True           0     0.139456     0.072881    -0.318967   \n",
       "4      ...           True           0     0.139456     0.072881    -0.318967   \n",
       "...    ...            ...         ...          ...          ...          ...   \n",
       "32863  ...          False           0     0.133122    -0.090387     0.225697   \n",
       "32864  ...          False           0     0.133122    -0.090387     0.225697   \n",
       "32865  ...          False           0     0.133122    -0.090387     0.225697   \n",
       "32866  ...          False           0     0.133122    -0.090387     0.225697   \n",
       "32867  ...          False           0     0.133122    -0.090387     0.225697   \n",
       "\n",
       "       month_emb_4  month_emb_5  month_emb_6  month_emb_7    gdp  \n",
       "0         0.426407     0.222740     0.328248     0.634298  42802  \n",
       "1         0.426407     0.222740     0.328248     0.634298  42802  \n",
       "2         0.426407     0.222740     0.328248     0.634298  42802  \n",
       "3         0.426407     0.222740     0.328248     0.634298  42802  \n",
       "4         0.426407     0.222740     0.328248     0.634298  42802  \n",
       "...            ...          ...          ...          ...    ...  \n",
       "32863    -0.282197    -0.173948     0.021887     0.936223  51687  \n",
       "32864    -0.282197    -0.173948     0.021887     0.936223  51687  \n",
       "32865    -0.282197    -0.173948     0.021887     0.936223  51687  \n",
       "32866    -0.282197    -0.173948     0.021887     0.936223  51687  \n",
       "32867    -0.282197    -0.173948     0.021887     0.936223  51687  \n",
       "\n",
       "[32868 rows x 34 columns]"
      ]
     },
     "execution_count": 83,
     "metadata": {},
     "output_type": "execute_result"
    }
   ],
   "source": [
    "combined_"
   ]
  },
  {
   "cell_type": "code",
   "execution_count": 84,
   "id": "56137662-a7b2-4026-8c30-d17afa79f086",
   "metadata": {},
   "outputs": [],
   "source": [
    "fi = feat_imp(model_log, combined_)"
   ]
  },
  {
   "cell_type": "code",
   "execution_count": 85,
   "id": "da559066-9865-40aa-bd78-a5bca88feb88",
   "metadata": {},
   "outputs": [
    {
     "data": {
      "text/html": [
       "<div>\n",
       "<style scoped>\n",
       "    .dataframe tbody tr th:only-of-type {\n",
       "        vertical-align: middle;\n",
       "    }\n",
       "\n",
       "    .dataframe tbody tr th {\n",
       "        vertical-align: top;\n",
       "    }\n",
       "\n",
       "    .dataframe thead th {\n",
       "        text-align: right;\n",
       "    }\n",
       "</style>\n",
       "<table border=\"1\" class=\"dataframe\">\n",
       "  <thead>\n",
       "    <tr style=\"text-align: right;\">\n",
       "      <th></th>\n",
       "      <th>cols</th>\n",
       "      <th>imp</th>\n",
       "    </tr>\n",
       "  </thead>\n",
       "  <tbody>\n",
       "    <tr>\n",
       "      <th>1</th>\n",
       "      <td>store</td>\n",
       "      <td>0.291951</td>\n",
       "    </tr>\n",
       "    <tr>\n",
       "      <th>2</th>\n",
       "      <td>product</td>\n",
       "      <td>0.277950</td>\n",
       "    </tr>\n",
       "    <tr>\n",
       "      <th>16</th>\n",
       "      <td>Day</td>\n",
       "      <td>0.224557</td>\n",
       "    </tr>\n",
       "    <tr>\n",
       "      <th>26</th>\n",
       "      <td>month_emb_1</td>\n",
       "      <td>0.073922</td>\n",
       "    </tr>\n",
       "    <tr>\n",
       "      <th>33</th>\n",
       "      <td>gdp</td>\n",
       "      <td>0.027872</td>\n",
       "    </tr>\n",
       "    <tr>\n",
       "      <th>23</th>\n",
       "      <td>Is_year_end</td>\n",
       "      <td>0.027392</td>\n",
       "    </tr>\n",
       "    <tr>\n",
       "      <th>27</th>\n",
       "      <td>month_emb_2</td>\n",
       "      <td>0.027235</td>\n",
       "    </tr>\n",
       "    <tr>\n",
       "      <th>0</th>\n",
       "      <td>country</td>\n",
       "      <td>0.022159</td>\n",
       "    </tr>\n",
       "    <tr>\n",
       "      <th>24</th>\n",
       "      <td>Is_year_start</td>\n",
       "      <td>0.011748</td>\n",
       "    </tr>\n",
       "    <tr>\n",
       "      <th>32</th>\n",
       "      <td>month_emb_7</td>\n",
       "      <td>0.004631</td>\n",
       "    </tr>\n",
       "  </tbody>\n",
       "</table>\n",
       "</div>"
      ],
      "text/plain": [
       "             cols       imp\n",
       "1           store  0.291951\n",
       "2         product  0.277950\n",
       "16            Day  0.224557\n",
       "26    month_emb_1  0.073922\n",
       "33            gdp  0.027872\n",
       "23    Is_year_end  0.027392\n",
       "27    month_emb_2  0.027235\n",
       "0         country  0.022159\n",
       "24  Is_year_start  0.011748\n",
       "32    month_emb_7  0.004631"
      ]
     },
     "execution_count": 85,
     "metadata": {},
     "output_type": "execute_result"
    }
   ],
   "source": [
    "fi[:10]"
   ]
  },
  {
   "cell_type": "code",
   "execution_count": 86,
   "id": "1a90c096-b381-43a6-bf6f-7afbd076af91",
   "metadata": {},
   "outputs": [],
   "source": [
    "fi_exp = feat_imp(model_exp, combined_)"
   ]
  },
  {
   "cell_type": "code",
   "execution_count": 87,
   "id": "4b402003-261e-4ae8-aefa-c2a5191ea552",
   "metadata": {},
   "outputs": [
    {
     "data": {
      "text/html": [
       "<div>\n",
       "<style scoped>\n",
       "    .dataframe tbody tr th:only-of-type {\n",
       "        vertical-align: middle;\n",
       "    }\n",
       "\n",
       "    .dataframe tbody tr th {\n",
       "        vertical-align: top;\n",
       "    }\n",
       "\n",
       "    .dataframe thead th {\n",
       "        text-align: right;\n",
       "    }\n",
       "</style>\n",
       "<table border=\"1\" class=\"dataframe\">\n",
       "  <thead>\n",
       "    <tr style=\"text-align: right;\">\n",
       "      <th></th>\n",
       "      <th>cols</th>\n",
       "      <th>imp</th>\n",
       "    </tr>\n",
       "  </thead>\n",
       "  <tbody>\n",
       "    <tr>\n",
       "      <th>2</th>\n",
       "      <td>product</td>\n",
       "      <td>0.538681</td>\n",
       "    </tr>\n",
       "    <tr>\n",
       "      <th>16</th>\n",
       "      <td>Day</td>\n",
       "      <td>0.188865</td>\n",
       "    </tr>\n",
       "    <tr>\n",
       "      <th>1</th>\n",
       "      <td>store</td>\n",
       "      <td>0.147735</td>\n",
       "    </tr>\n",
       "    <tr>\n",
       "      <th>26</th>\n",
       "      <td>month_emb_1</td>\n",
       "      <td>0.048270</td>\n",
       "    </tr>\n",
       "    <tr>\n",
       "      <th>24</th>\n",
       "      <td>Is_year_start</td>\n",
       "      <td>0.028713</td>\n",
       "    </tr>\n",
       "    <tr>\n",
       "      <th>33</th>\n",
       "      <td>gdp</td>\n",
       "      <td>0.012994</td>\n",
       "    </tr>\n",
       "    <tr>\n",
       "      <th>23</th>\n",
       "      <td>Is_year_end</td>\n",
       "      <td>0.006804</td>\n",
       "    </tr>\n",
       "    <tr>\n",
       "      <th>0</th>\n",
       "      <td>country</td>\n",
       "      <td>0.005830</td>\n",
       "    </tr>\n",
       "    <tr>\n",
       "      <th>21</th>\n",
       "      <td>Is_quarter_end</td>\n",
       "      <td>0.005497</td>\n",
       "    </tr>\n",
       "    <tr>\n",
       "      <th>31</th>\n",
       "      <td>month_emb_6</td>\n",
       "      <td>0.003767</td>\n",
       "    </tr>\n",
       "  </tbody>\n",
       "</table>\n",
       "</div>"
      ],
      "text/plain": [
       "              cols       imp\n",
       "2          product  0.538681\n",
       "16             Day  0.188865\n",
       "1            store  0.147735\n",
       "26     month_emb_1  0.048270\n",
       "24   Is_year_start  0.028713\n",
       "33             gdp  0.012994\n",
       "23     Is_year_end  0.006804\n",
       "0          country  0.005830\n",
       "21  Is_quarter_end  0.005497\n",
       "31     month_emb_6  0.003767"
      ]
     },
     "execution_count": 87,
     "metadata": {},
     "output_type": "execute_result"
    }
   ],
   "source": [
    "fi_exp[:10]"
   ]
  },
  {
   "cell_type": "code",
   "execution_count": 100,
   "id": "2b2d801a-4e62-40c8-8c36-a5318a45b1e7",
   "metadata": {},
   "outputs": [],
   "source": [
    "pd.set_option('display.max_columns',1000)\n",
    "pd.set_option('display.max_rows',1000)\n",
    "pd.set_option('display.width',1000)"
   ]
  },
  {
   "cell_type": "code",
   "execution_count": 101,
   "id": "429125a3-705c-40c0-87d9-0808ebb9989e",
   "metadata": {},
   "outputs": [
    {
     "data": {
      "text/html": [
       "<div>\n",
       "<style scoped>\n",
       "    .dataframe tbody tr th:only-of-type {\n",
       "        vertical-align: middle;\n",
       "    }\n",
       "\n",
       "    .dataframe tbody tr th {\n",
       "        vertical-align: top;\n",
       "    }\n",
       "\n",
       "    .dataframe thead th {\n",
       "        text-align: right;\n",
       "    }\n",
       "</style>\n",
       "<table border=\"1\" class=\"dataframe\">\n",
       "  <thead>\n",
       "    <tr style=\"text-align: right;\">\n",
       "      <th></th>\n",
       "      <th>row_id</th>\n",
       "      <th>country</th>\n",
       "      <th>store</th>\n",
       "      <th>product</th>\n",
       "      <th>num_sold</th>\n",
       "      <th>holiday</th>\n",
       "      <th>store_emb_1</th>\n",
       "      <th>store_emb_2</th>\n",
       "      <th>store_emb_3</th>\n",
       "      <th>product_emb_1</th>\n",
       "      <th>product_emb_2</th>\n",
       "      <th>product_emb_3</th>\n",
       "      <th>country_emb_1</th>\n",
       "      <th>country_emb_2</th>\n",
       "      <th>country_emb_3</th>\n",
       "      <th>year</th>\n",
       "      <th>Month</th>\n",
       "      <th>Week</th>\n",
       "      <th>Day</th>\n",
       "      <th>Dayofweek</th>\n",
       "      <th>Dayofyear</th>\n",
       "      <th>Is_month_end</th>\n",
       "      <th>Is_month_start</th>\n",
       "      <th>Is_quarter_end</th>\n",
       "      <th>Is_quarter_start</th>\n",
       "      <th>Is_year_end</th>\n",
       "      <th>Is_year_start</th>\n",
       "      <th>Elapsed</th>\n",
       "      <th>month_emb_1</th>\n",
       "      <th>month_emb_2</th>\n",
       "      <th>month_emb_3</th>\n",
       "      <th>month_emb_4</th>\n",
       "      <th>month_emb_5</th>\n",
       "      <th>month_emb_6</th>\n",
       "      <th>month_emb_7</th>\n",
       "      <th>gdp</th>\n",
       "    </tr>\n",
       "  </thead>\n",
       "  <tbody>\n",
       "    <tr>\n",
       "      <th>0</th>\n",
       "      <td>0</td>\n",
       "      <td>Finland</td>\n",
       "      <td>KaggleMart</td>\n",
       "      <td>Kaggle Mug</td>\n",
       "      <td>5.796058</td>\n",
       "      <td>in_Finland</td>\n",
       "      <td>0.967750</td>\n",
       "      <td>-0.929185</td>\n",
       "      <td>1.117330</td>\n",
       "      <td>-0.345529</td>\n",
       "      <td>-0.192691</td>\n",
       "      <td>-0.329195</td>\n",
       "      <td>-0.885037</td>\n",
       "      <td>0.88509</td>\n",
       "      <td>-0.866939</td>\n",
       "      <td>2015</td>\n",
       "      <td>1</td>\n",
       "      <td>1</td>\n",
       "      <td>1</td>\n",
       "      <td>3</td>\n",
       "      <td>1</td>\n",
       "      <td>False</td>\n",
       "      <td>True</td>\n",
       "      <td>False</td>\n",
       "      <td>True</td>\n",
       "      <td>False</td>\n",
       "      <td>True</td>\n",
       "      <td>1.420070e+09</td>\n",
       "      <td>0.139456</td>\n",
       "      <td>0.072881</td>\n",
       "      <td>-0.318967</td>\n",
       "      <td>0.426407</td>\n",
       "      <td>0.22274</td>\n",
       "      <td>0.328248</td>\n",
       "      <td>0.634298</td>\n",
       "      <td>42802</td>\n",
       "    </tr>\n",
       "    <tr>\n",
       "      <th>1</th>\n",
       "      <td>1</td>\n",
       "      <td>Finland</td>\n",
       "      <td>KaggleMart</td>\n",
       "      <td>Kaggle Hat</td>\n",
       "      <td>6.253829</td>\n",
       "      <td>in_Finland</td>\n",
       "      <td>0.967750</td>\n",
       "      <td>-0.929185</td>\n",
       "      <td>1.117330</td>\n",
       "      <td>0.764051</td>\n",
       "      <td>0.657293</td>\n",
       "      <td>0.706160</td>\n",
       "      <td>-0.885037</td>\n",
       "      <td>0.88509</td>\n",
       "      <td>-0.866939</td>\n",
       "      <td>2015</td>\n",
       "      <td>1</td>\n",
       "      <td>1</td>\n",
       "      <td>1</td>\n",
       "      <td>3</td>\n",
       "      <td>1</td>\n",
       "      <td>False</td>\n",
       "      <td>True</td>\n",
       "      <td>False</td>\n",
       "      <td>True</td>\n",
       "      <td>False</td>\n",
       "      <td>True</td>\n",
       "      <td>1.420070e+09</td>\n",
       "      <td>0.139456</td>\n",
       "      <td>0.072881</td>\n",
       "      <td>-0.318967</td>\n",
       "      <td>0.426407</td>\n",
       "      <td>0.22274</td>\n",
       "      <td>0.328248</td>\n",
       "      <td>0.634298</td>\n",
       "      <td>42802</td>\n",
       "    </tr>\n",
       "    <tr>\n",
       "      <th>2</th>\n",
       "      <td>2</td>\n",
       "      <td>Finland</td>\n",
       "      <td>KaggleMart</td>\n",
       "      <td>Kaggle Sticker</td>\n",
       "      <td>4.983607</td>\n",
       "      <td>in_Finland</td>\n",
       "      <td>0.967750</td>\n",
       "      <td>-0.929185</td>\n",
       "      <td>1.117330</td>\n",
       "      <td>-1.278340</td>\n",
       "      <td>-1.089227</td>\n",
       "      <td>-1.059847</td>\n",
       "      <td>-0.885037</td>\n",
       "      <td>0.88509</td>\n",
       "      <td>-0.866939</td>\n",
       "      <td>2015</td>\n",
       "      <td>1</td>\n",
       "      <td>1</td>\n",
       "      <td>1</td>\n",
       "      <td>3</td>\n",
       "      <td>1</td>\n",
       "      <td>False</td>\n",
       "      <td>True</td>\n",
       "      <td>False</td>\n",
       "      <td>True</td>\n",
       "      <td>False</td>\n",
       "      <td>True</td>\n",
       "      <td>1.420070e+09</td>\n",
       "      <td>0.139456</td>\n",
       "      <td>0.072881</td>\n",
       "      <td>-0.318967</td>\n",
       "      <td>0.426407</td>\n",
       "      <td>0.22274</td>\n",
       "      <td>0.328248</td>\n",
       "      <td>0.634298</td>\n",
       "      <td>42802</td>\n",
       "    </tr>\n",
       "    <tr>\n",
       "      <th>3</th>\n",
       "      <td>3</td>\n",
       "      <td>Finland</td>\n",
       "      <td>KaggleRama</td>\n",
       "      <td>Kaggle Mug</td>\n",
       "      <td>6.349139</td>\n",
       "      <td>in_Finland</td>\n",
       "      <td>-0.300273</td>\n",
       "      <td>0.358641</td>\n",
       "      <td>-0.296122</td>\n",
       "      <td>-0.345529</td>\n",
       "      <td>-0.192691</td>\n",
       "      <td>-0.329195</td>\n",
       "      <td>-0.885037</td>\n",
       "      <td>0.88509</td>\n",
       "      <td>-0.866939</td>\n",
       "      <td>2015</td>\n",
       "      <td>1</td>\n",
       "      <td>1</td>\n",
       "      <td>1</td>\n",
       "      <td>3</td>\n",
       "      <td>1</td>\n",
       "      <td>False</td>\n",
       "      <td>True</td>\n",
       "      <td>False</td>\n",
       "      <td>True</td>\n",
       "      <td>False</td>\n",
       "      <td>True</td>\n",
       "      <td>1.420070e+09</td>\n",
       "      <td>0.139456</td>\n",
       "      <td>0.072881</td>\n",
       "      <td>-0.318967</td>\n",
       "      <td>0.426407</td>\n",
       "      <td>0.22274</td>\n",
       "      <td>0.328248</td>\n",
       "      <td>0.634298</td>\n",
       "      <td>42802</td>\n",
       "    </tr>\n",
       "    <tr>\n",
       "      <th>4</th>\n",
       "      <td>4</td>\n",
       "      <td>Finland</td>\n",
       "      <td>KaggleRama</td>\n",
       "      <td>Kaggle Hat</td>\n",
       "      <td>6.814543</td>\n",
       "      <td>in_Finland</td>\n",
       "      <td>-0.300273</td>\n",
       "      <td>0.358641</td>\n",
       "      <td>-0.296122</td>\n",
       "      <td>0.764051</td>\n",
       "      <td>0.657293</td>\n",
       "      <td>0.706160</td>\n",
       "      <td>-0.885037</td>\n",
       "      <td>0.88509</td>\n",
       "      <td>-0.866939</td>\n",
       "      <td>2015</td>\n",
       "      <td>1</td>\n",
       "      <td>1</td>\n",
       "      <td>1</td>\n",
       "      <td>3</td>\n",
       "      <td>1</td>\n",
       "      <td>False</td>\n",
       "      <td>True</td>\n",
       "      <td>False</td>\n",
       "      <td>True</td>\n",
       "      <td>False</td>\n",
       "      <td>True</td>\n",
       "      <td>1.420070e+09</td>\n",
       "      <td>0.139456</td>\n",
       "      <td>0.072881</td>\n",
       "      <td>-0.318967</td>\n",
       "      <td>0.426407</td>\n",
       "      <td>0.22274</td>\n",
       "      <td>0.328248</td>\n",
       "      <td>0.634298</td>\n",
       "      <td>42802</td>\n",
       "    </tr>\n",
       "  </tbody>\n",
       "</table>\n",
       "</div>"
      ],
      "text/plain": [
       "   row_id  country       store         product  num_sold     holiday  store_emb_1  store_emb_2  store_emb_3  product_emb_1  product_emb_2  product_emb_3  country_emb_1  country_emb_2  country_emb_3  year  Month  Week  Day  Dayofweek  Dayofyear  Is_month_end  Is_month_start  Is_quarter_end  Is_quarter_start  Is_year_end  Is_year_start       Elapsed  month_emb_1  month_emb_2  month_emb_3  month_emb_4  month_emb_5  month_emb_6  month_emb_7    gdp\n",
       "0       0  Finland  KaggleMart      Kaggle Mug  5.796058  in_Finland     0.967750    -0.929185     1.117330      -0.345529      -0.192691      -0.329195      -0.885037        0.88509      -0.866939  2015      1     1    1          3          1         False            True           False              True        False           True  1.420070e+09     0.139456     0.072881    -0.318967     0.426407      0.22274     0.328248     0.634298  42802\n",
       "1       1  Finland  KaggleMart      Kaggle Hat  6.253829  in_Finland     0.967750    -0.929185     1.117330       0.764051       0.657293       0.706160      -0.885037        0.88509      -0.866939  2015      1     1    1          3          1         False            True           False              True        False           True  1.420070e+09     0.139456     0.072881    -0.318967     0.426407      0.22274     0.328248     0.634298  42802\n",
       "2       2  Finland  KaggleMart  Kaggle Sticker  4.983607  in_Finland     0.967750    -0.929185     1.117330      -1.278340      -1.089227      -1.059847      -0.885037        0.88509      -0.866939  2015      1     1    1          3          1         False            True           False              True        False           True  1.420070e+09     0.139456     0.072881    -0.318967     0.426407      0.22274     0.328248     0.634298  42802\n",
       "3       3  Finland  KaggleRama      Kaggle Mug  6.349139  in_Finland    -0.300273     0.358641    -0.296122      -0.345529      -0.192691      -0.329195      -0.885037        0.88509      -0.866939  2015      1     1    1          3          1         False            True           False              True        False           True  1.420070e+09     0.139456     0.072881    -0.318967     0.426407      0.22274     0.328248     0.634298  42802\n",
       "4       4  Finland  KaggleRama      Kaggle Hat  6.814543  in_Finland    -0.300273     0.358641    -0.296122       0.764051       0.657293       0.706160      -0.885037        0.88509      -0.866939  2015      1     1    1          3          1         False            True           False              True        False           True  1.420070e+09     0.139456     0.072881    -0.318967     0.426407      0.22274     0.328248     0.634298  42802"
      ]
     },
     "execution_count": 101,
     "metadata": {},
     "output_type": "execute_result"
    }
   ],
   "source": [
    "combined.head()"
   ]
  },
  {
   "cell_type": "code",
   "execution_count": 109,
   "id": "e279f703-3c12-4089-b5c9-7f444a4d6d61",
   "metadata": {},
   "outputs": [
    {
     "data": {
      "text/plain": [
       "array([3, 4, 5, 6, 0, 1, 2])"
      ]
     },
     "execution_count": 109,
     "metadata": {},
     "output_type": "execute_result"
    }
   ],
   "source": [
    "combined[\"Dayofweek\"].unique()"
   ]
  },
  {
   "cell_type": "markdown",
   "id": "08162ca4-1afe-4a1d-b419-260555f99a16",
   "metadata": {
    "tags": []
   },
   "source": [
    "## Fitting the entire dataset on the final model selected"
   ]
  },
  {
   "cell_type": "code",
   "execution_count": 88,
   "id": "b2e6ef09-d4d6-41b4-9f92-64ba698e126b",
   "metadata": {},
   "outputs": [],
   "source": [
    "model_exp_full = XGBRegressor(learning_rate = 0.03939193777334498, gamma = 4.0544219317998165,\n",
    "                     alpha = 5.32579150349582, max_depth = 8,\n",
    "                     reg_lambda = 20.69660325703409)"
   ]
  },
  {
   "cell_type": "code",
   "execution_count": 89,
   "id": "2c1f04e1-944f-4863-9c1a-b8becd5b4d89",
   "metadata": {},
   "outputs": [
    {
     "data": {
      "text/plain": [
       "Int64Index([26298, 26299, 26300, 26301, 26302, 26303, 26304, 26305, 26306,\n",
       "            26307,\n",
       "            ...\n",
       "            32858, 32859, 32860, 32861, 32862, 32863, 32864, 32865, 32866,\n",
       "            32867],\n",
       "           dtype='int64', length=6570)"
      ]
     },
     "execution_count": 89,
     "metadata": {},
     "output_type": "execute_result"
    }
   ],
   "source": [
    "test_idx"
   ]
  },
  {
   "cell_type": "code",
   "execution_count": 90,
   "id": "0f3479bf-b2f2-42fb-98d9-88fc43a30aaf",
   "metadata": {},
   "outputs": [
    {
     "data": {
      "text/plain": [
       "Int64Index([    0,     1,     2,     3,     4,     5,     6,     7,     8,\n",
       "                9,\n",
       "            ...\n",
       "            26288, 26289, 26290, 26291, 26292, 26293, 26294, 26295, 26296,\n",
       "            26297],\n",
       "           dtype='int64', length=26298)"
      ]
     },
     "execution_count": 90,
     "metadata": {},
     "output_type": "execute_result"
    }
   ],
   "source": [
    "combined.iloc[:26298].index"
   ]
  },
  {
   "cell_type": "code",
   "execution_count": 91,
   "id": "604ce53e-fe2b-44d0-ab36-2898fcd1855d",
   "metadata": {},
   "outputs": [],
   "source": [
    "procs = [Categorify, FillMissing, Normalize]\n",
    "train_idx = combined.iloc[:26298].index\n",
    "splits = (list(train_idx), list(test_idx))\n",
    "to = TabularPandas(combined, procs, cat, cont, y_names = dep_var, splits = splits)"
   ]
  },
  {
   "cell_type": "code",
   "execution_count": 92,
   "id": "9b260080-9897-411c-8d72-a841aa58733b",
   "metadata": {},
   "outputs": [
    {
     "data": {
      "text/plain": [
       "['country',\n",
       " 'store',\n",
       " 'product',\n",
       " 'holiday',\n",
       " 'Is_month_end',\n",
       " 'Is_month_start',\n",
       " 'Is_quarter_end',\n",
       " 'Is_quarter_start',\n",
       " 'Is_year_end',\n",
       " 'Is_year_start']"
      ]
     },
     "execution_count": 92,
     "metadata": {},
     "output_type": "execute_result"
    }
   ],
   "source": [
    "cat"
   ]
  },
  {
   "cell_type": "code",
   "execution_count": 93,
   "id": "074d323f-c634-4d0d-af37-6e1512d94200",
   "metadata": {},
   "outputs": [
    {
     "data": {
      "text/plain": [
       "['store_emb_1',\n",
       " 'store_emb_2',\n",
       " 'store_emb_3',\n",
       " 'product_emb_1',\n",
       " 'product_emb_2',\n",
       " 'product_emb_3',\n",
       " 'country_emb_1',\n",
       " 'country_emb_2',\n",
       " 'country_emb_3',\n",
       " 'year',\n",
       " 'Month',\n",
       " 'Week',\n",
       " 'Day',\n",
       " 'Dayofweek',\n",
       " 'Dayofyear',\n",
       " 'is_weekend',\n",
       " 'month_emb_1',\n",
       " 'month_emb_2',\n",
       " 'month_emb_3',\n",
       " 'month_emb_4',\n",
       " 'month_emb_5',\n",
       " 'month_emb_6',\n",
       " 'month_emb_7',\n",
       " 'gdp']"
      ]
     },
     "execution_count": 93,
     "metadata": {},
     "output_type": "execute_result"
    }
   ],
   "source": [
    "cont"
   ]
  },
  {
   "cell_type": "code",
   "execution_count": 94,
   "id": "48763736-cfc2-45ae-b271-e2875f475680",
   "metadata": {},
   "outputs": [
    {
     "name": "stdout",
     "output_type": "stream",
     "text": [
      "(26298, 34) (26298,)\n"
     ]
    }
   ],
   "source": [
    "fulltrainxs, fulltrainy = to.train.xs, to.train.y\n",
    "print (fulltrainxs.shape, fulltrainy.shape)"
   ]
  },
  {
   "cell_type": "code",
   "execution_count": 97,
   "id": "7c803cbf-2afc-44a4-976b-2e36e8f99b37",
   "metadata": {},
   "outputs": [],
   "source": [
    "fulltrainy_exp = np.exp(fulltrainy)"
   ]
  },
  {
   "cell_type": "code",
   "execution_count": 98,
   "id": "f93f4a3b-742a-43ef-a29e-d2a9d7a8c6b6",
   "metadata": {},
   "outputs": [
    {
     "data": {
      "text/plain": [
       "XGBRegressor(alpha=5.32579150349582, base_score=0.5, booster='gbtree',\n",
       "             colsample_bylevel=1, colsample_bynode=1, colsample_bytree=1,\n",
       "             enable_categorical=False, gamma=4.0544219317998165, gpu_id=-1,\n",
       "             importance_type=None, interaction_constraints='',\n",
       "             learning_rate=0.03939193777334498, max_delta_step=0, max_depth=8,\n",
       "             min_child_weight=1, missing=nan, monotone_constraints='()',\n",
       "             n_estimators=100, n_jobs=7, num_parallel_tree=1, predictor='auto',\n",
       "             random_state=0, reg_alpha=5.32579136, reg_lambda=20.69660325703409,\n",
       "             scale_pos_weight=1, subsample=1, tree_method='exact',\n",
       "             validate_parameters=1, verbosity=None)"
      ]
     },
     "execution_count": 98,
     "metadata": {},
     "output_type": "execute_result"
    }
   ],
   "source": [
    "model_exp_full.fit(fulltrainxs, fulltrainy_exp)"
   ]
  },
  {
   "cell_type": "code",
   "execution_count": 96,
   "id": "f025780b-657d-4348-ae3a-2afad249867a",
   "metadata": {},
   "outputs": [],
   "source": [
    "model_log_full = XGBRegressor(learning_rate = 0.44217554329478864, gamma = 0.008005901796296285,\n",
    "                     alpha = 7.198845069865988, max_depth = 3,\n",
    "                     reg_lambda = 0.002454298512769308)"
   ]
  },
  {
   "cell_type": "code",
   "execution_count": 99,
   "id": "0c3b75c9-caa1-4673-bf11-6fc1ad9d0231",
   "metadata": {},
   "outputs": [
    {
     "data": {
      "text/plain": [
       "XGBRegressor(alpha=7.198845069865988, base_score=0.5, booster='gbtree',\n",
       "             colsample_bylevel=1, colsample_bynode=1, colsample_bytree=1,\n",
       "             enable_categorical=False, gamma=0.008005901796296285, gpu_id=-1,\n",
       "             importance_type=None, interaction_constraints='',\n",
       "             learning_rate=0.44217554329478864, max_delta_step=0, max_depth=3,\n",
       "             min_child_weight=1, missing=nan, monotone_constraints='()',\n",
       "             n_estimators=100, n_jobs=7, num_parallel_tree=1, predictor='auto',\n",
       "             random_state=0, reg_alpha=7.19884491,\n",
       "             reg_lambda=0.002454298512769308, scale_pos_weight=1, subsample=1,\n",
       "             tree_method='exact', validate_parameters=1, verbosity=None)"
      ]
     },
     "execution_count": 99,
     "metadata": {},
     "output_type": "execute_result"
    }
   ],
   "source": [
    "model_log_full.fit(fulltrainxs, fulltrainy)"
   ]
  },
  {
   "cell_type": "code",
   "execution_count": 100,
   "id": "c62e7a92-8334-4d62-8d27-03a7afaf9888",
   "metadata": {},
   "outputs": [],
   "source": [
    "procs = [Categorify, FillMissing, Normalize]\n",
    "train_idx = combined.iloc[:26298].index\n",
    "combined_train = combined.iloc[train_idx]\n",
    "to_full = TabularPandas(combined_train, procs, cat, cont, y_names = dep_var, splits = None)"
   ]
  },
  {
   "cell_type": "code",
   "execution_count": 101,
   "id": "90c1f428-de46-46e6-bc4e-bfcbe5c990b7",
   "metadata": {},
   "outputs": [],
   "source": [
    "dls_full = to_full.dataloaders(1024, device = \"cuda\")"
   ]
  },
  {
   "cell_type": "code",
   "execution_count": 103,
   "id": "3b118e47-ce61-4da4-be0f-ddc8e27e9b79",
   "metadata": {},
   "outputs": [
    {
     "data": {
      "text/plain": [
       "(4.248495, 7.9669337)"
      ]
     },
     "execution_count": 103,
     "metadata": {},
     "output_type": "execute_result"
    }
   ],
   "source": [
    "dls_full.train.y.min(), dls_full.train.y.max()"
   ]
  },
  {
   "cell_type": "code",
   "execution_count": 104,
   "id": "62c3d830-f3aa-4f5f-9ff6-b3ecfc1d84d5",
   "metadata": {},
   "outputs": [],
   "source": [
    "learn_full = tabular_learner(dls_full, y_range = (3, 8), layers = [500, 250, 64, 32, 16], n_out = 1,\n",
    "                             metrics = [smape], loss_func = F.mse_loss)"
   ]
  },
  {
   "cell_type": "code",
   "execution_count": 105,
   "id": "c2742d70-a53c-4930-8ca4-2d9decc815e8",
   "metadata": {},
   "outputs": [
    {
     "data": {
      "text/html": [],
      "text/plain": [
       "<IPython.core.display.HTML object>"
      ]
     },
     "metadata": {},
     "output_type": "display_data"
    },
    {
     "name": "stderr",
     "output_type": "stream",
     "text": [
      "/opt/conda/lib/python3.8/site-packages/fastprogress/fastprogress.py:74: UserWarning: Your generator is empty.\n",
      "  warn(\"Your generator is empty.\")\n",
      "/opt/conda/lib/python3.8/site-packages/fastai/callback/schedule.py:269: UserWarning: color is redundantly defined by the 'color' keyword argument and the fmt string \"ro\" (-> color='r'). The keyword argument will take precedence.\n",
      "  ax.plot(val, idx, 'ro', label=nm, c=color)\n"
     ]
    },
    {
     "data": {
      "text/plain": [
       "SuggestedLRs(valley=0.0008317637839354575)"
      ]
     },
     "execution_count": 105,
     "metadata": {},
     "output_type": "execute_result"
    },
    {
     "data": {
      "image/png": "[encoded data removed]",
      "text/plain": [
       "<Figure size 432x288 with 1 Axes>"
      ]
     },
     "metadata": {
      "needs_background": "light"
     },
     "output_type": "display_data"
    }
   ],
   "source": [
    "learn_full.lr_find()"
   ]
  },
  {
   "cell_type": "code",
   "execution_count": 106,
   "id": "3ad14130-13ad-4395-99a9-191cc4323001",
   "metadata": {},
   "outputs": [
    {
     "data": {
      "text/html": [
       "<table border=\"1\" class=\"dataframe\">\n",
       "  <thead>\n",
       "    <tr style=\"text-align: left;\">\n",
       "      <th>epoch</th>\n",
       "      <th>train_loss</th>\n",
       "      <th>valid_loss</th>\n",
       "      <th>SMAPE</th>\n",
       "      <th>time</th>\n",
       "    </tr>\n",
       "  </thead>\n",
       "  <tbody>\n",
       "    <tr>\n",
       "      <td>0</td>\n",
       "      <td>0.069111</td>\n",
       "      <td>None</td>\n",
       "      <td>None</td>\n",
       "      <td>00:00</td>\n",
       "    </tr>\n",
       "    <tr>\n",
       "      <td>1</td>\n",
       "      <td>0.035615</td>\n",
       "      <td>None</td>\n",
       "      <td>None</td>\n",
       "      <td>00:00</td>\n",
       "    </tr>\n",
       "    <tr>\n",
       "      <td>2</td>\n",
       "      <td>0.026097</td>\n",
       "      <td>None</td>\n",
       "      <td>None</td>\n",
       "      <td>00:00</td>\n",
       "    </tr>\n",
       "    <tr>\n",
       "      <td>3</td>\n",
       "      <td>0.019073</td>\n",
       "      <td>None</td>\n",
       "      <td>None</td>\n",
       "      <td>00:00</td>\n",
       "    </tr>\n",
       "    <tr>\n",
       "      <td>4</td>\n",
       "      <td>0.014521</td>\n",
       "      <td>None</td>\n",
       "      <td>None</td>\n",
       "      <td>00:00</td>\n",
       "    </tr>\n",
       "    <tr>\n",
       "      <td>5</td>\n",
       "      <td>0.011865</td>\n",
       "      <td>None</td>\n",
       "      <td>None</td>\n",
       "      <td>00:00</td>\n",
       "    </tr>\n",
       "    <tr>\n",
       "      <td>6</td>\n",
       "      <td>0.010476</td>\n",
       "      <td>None</td>\n",
       "      <td>None</td>\n",
       "      <td>00:00</td>\n",
       "    </tr>\n",
       "    <tr>\n",
       "      <td>7</td>\n",
       "      <td>0.008904</td>\n",
       "      <td>None</td>\n",
       "      <td>None</td>\n",
       "      <td>00:00</td>\n",
       "    </tr>\n",
       "    <tr>\n",
       "      <td>8</td>\n",
       "      <td>0.007805</td>\n",
       "      <td>None</td>\n",
       "      <td>None</td>\n",
       "      <td>00:00</td>\n",
       "    </tr>\n",
       "    <tr>\n",
       "      <td>9</td>\n",
       "      <td>0.006882</td>\n",
       "      <td>None</td>\n",
       "      <td>None</td>\n",
       "      <td>00:00</td>\n",
       "    </tr>\n",
       "  </tbody>\n",
       "</table>"
      ],
      "text/plain": [
       "<IPython.core.display.HTML object>"
      ]
     },
     "metadata": {},
     "output_type": "display_data"
    }
   ],
   "source": [
    "learn_full.fit_one_cycle(10, slice(1e-4, 1e-1))"
   ]
  },
  {
   "cell_type": "code",
   "execution_count": 107,
   "id": "37d68c84-1d8a-4b2f-be3c-b1e45c7ba4c4",
   "metadata": {},
   "outputs": [],
   "source": [
    "testxs = to.valid.xs"
   ]
  },
  {
   "cell_type": "code",
   "execution_count": 108,
   "id": "9b8dcfad-949a-434e-9d72-730d986020b6",
   "metadata": {},
   "outputs": [
    {
     "data": {
      "text/html": [
       "<div>\n",
       "<style scoped>\n",
       "    .dataframe tbody tr th:only-of-type {\n",
       "        vertical-align: middle;\n",
       "    }\n",
       "\n",
       "    .dataframe tbody tr th {\n",
       "        vertical-align: top;\n",
       "    }\n",
       "\n",
       "    .dataframe thead th {\n",
       "        text-align: right;\n",
       "    }\n",
       "</style>\n",
       "<table border=\"1\" class=\"dataframe\">\n",
       "  <thead>\n",
       "    <tr style=\"text-align: right;\">\n",
       "      <th></th>\n",
       "      <th>country</th>\n",
       "      <th>store</th>\n",
       "      <th>product</th>\n",
       "      <th>holiday</th>\n",
       "      <th>Is_month_end</th>\n",
       "      <th>Is_month_start</th>\n",
       "      <th>Is_quarter_end</th>\n",
       "      <th>Is_quarter_start</th>\n",
       "      <th>Is_year_end</th>\n",
       "      <th>Is_year_start</th>\n",
       "      <th>...</th>\n",
       "      <th>Dayofyear</th>\n",
       "      <th>is_weekend</th>\n",
       "      <th>month_emb_1</th>\n",
       "      <th>month_emb_2</th>\n",
       "      <th>month_emb_3</th>\n",
       "      <th>month_emb_4</th>\n",
       "      <th>month_emb_5</th>\n",
       "      <th>month_emb_6</th>\n",
       "      <th>month_emb_7</th>\n",
       "      <th>gdp</th>\n",
       "    </tr>\n",
       "  </thead>\n",
       "  <tbody>\n",
       "    <tr>\n",
       "      <th>26298</th>\n",
       "      <td>1</td>\n",
       "      <td>1</td>\n",
       "      <td>2</td>\n",
       "      <td>1</td>\n",
       "      <td>1</td>\n",
       "      <td>2</td>\n",
       "      <td>1</td>\n",
       "      <td>2</td>\n",
       "      <td>1</td>\n",
       "      <td>2</td>\n",
       "      <td>...</td>\n",
       "      <td>-1.727310</td>\n",
       "      <td>-0.633061</td>\n",
       "      <td>-0.427732</td>\n",
       "      <td>-0.610998</td>\n",
       "      <td>0.104386</td>\n",
       "      <td>0.285907</td>\n",
       "      <td>-0.070123</td>\n",
       "      <td>0.112406</td>\n",
       "      <td>0.849990</td>\n",
       "      <td>-0.719467</td>\n",
       "    </tr>\n",
       "    <tr>\n",
       "      <th>26299</th>\n",
       "      <td>1</td>\n",
       "      <td>1</td>\n",
       "      <td>1</td>\n",
       "      <td>1</td>\n",
       "      <td>1</td>\n",
       "      <td>2</td>\n",
       "      <td>1</td>\n",
       "      <td>2</td>\n",
       "      <td>1</td>\n",
       "      <td>2</td>\n",
       "      <td>...</td>\n",
       "      <td>-1.727310</td>\n",
       "      <td>-0.633061</td>\n",
       "      <td>-0.427732</td>\n",
       "      <td>-0.610998</td>\n",
       "      <td>0.104386</td>\n",
       "      <td>0.285907</td>\n",
       "      <td>-0.070123</td>\n",
       "      <td>0.112406</td>\n",
       "      <td>0.849990</td>\n",
       "      <td>-0.719467</td>\n",
       "    </tr>\n",
       "    <tr>\n",
       "      <th>26300</th>\n",
       "      <td>1</td>\n",
       "      <td>1</td>\n",
       "      <td>3</td>\n",
       "      <td>1</td>\n",
       "      <td>1</td>\n",
       "      <td>2</td>\n",
       "      <td>1</td>\n",
       "      <td>2</td>\n",
       "      <td>1</td>\n",
       "      <td>2</td>\n",
       "      <td>...</td>\n",
       "      <td>-1.727310</td>\n",
       "      <td>-0.633061</td>\n",
       "      <td>-0.427732</td>\n",
       "      <td>-0.610998</td>\n",
       "      <td>0.104386</td>\n",
       "      <td>0.285907</td>\n",
       "      <td>-0.070123</td>\n",
       "      <td>0.112406</td>\n",
       "      <td>0.849990</td>\n",
       "      <td>-0.719467</td>\n",
       "    </tr>\n",
       "    <tr>\n",
       "      <th>26301</th>\n",
       "      <td>1</td>\n",
       "      <td>2</td>\n",
       "      <td>2</td>\n",
       "      <td>1</td>\n",
       "      <td>1</td>\n",
       "      <td>2</td>\n",
       "      <td>1</td>\n",
       "      <td>2</td>\n",
       "      <td>1</td>\n",
       "      <td>2</td>\n",
       "      <td>...</td>\n",
       "      <td>-1.727310</td>\n",
       "      <td>-0.633061</td>\n",
       "      <td>-0.427732</td>\n",
       "      <td>-0.610998</td>\n",
       "      <td>0.104386</td>\n",
       "      <td>0.285907</td>\n",
       "      <td>-0.070123</td>\n",
       "      <td>0.112406</td>\n",
       "      <td>0.849990</td>\n",
       "      <td>-0.719467</td>\n",
       "    </tr>\n",
       "    <tr>\n",
       "      <th>26302</th>\n",
       "      <td>1</td>\n",
       "      <td>2</td>\n",
       "      <td>1</td>\n",
       "      <td>1</td>\n",
       "      <td>1</td>\n",
       "      <td>2</td>\n",
       "      <td>1</td>\n",
       "      <td>2</td>\n",
       "      <td>1</td>\n",
       "      <td>2</td>\n",
       "      <td>...</td>\n",
       "      <td>-1.727310</td>\n",
       "      <td>-0.633061</td>\n",
       "      <td>-0.427732</td>\n",
       "      <td>-0.610998</td>\n",
       "      <td>0.104386</td>\n",
       "      <td>0.285907</td>\n",
       "      <td>-0.070123</td>\n",
       "      <td>0.112406</td>\n",
       "      <td>0.849990</td>\n",
       "      <td>-0.719467</td>\n",
       "    </tr>\n",
       "    <tr>\n",
       "      <th>...</th>\n",
       "      <td>...</td>\n",
       "      <td>...</td>\n",
       "      <td>...</td>\n",
       "      <td>...</td>\n",
       "      <td>...</td>\n",
       "      <td>...</td>\n",
       "      <td>...</td>\n",
       "      <td>...</td>\n",
       "      <td>...</td>\n",
       "      <td>...</td>\n",
       "      <td>...</td>\n",
       "      <td>...</td>\n",
       "      <td>...</td>\n",
       "      <td>...</td>\n",
       "      <td>...</td>\n",
       "      <td>...</td>\n",
       "      <td>...</td>\n",
       "      <td>...</td>\n",
       "      <td>...</td>\n",
       "      <td>...</td>\n",
       "      <td>...</td>\n",
       "    </tr>\n",
       "    <tr>\n",
       "      <th>32863</th>\n",
       "      <td>3</td>\n",
       "      <td>1</td>\n",
       "      <td>1</td>\n",
       "      <td>3</td>\n",
       "      <td>2</td>\n",
       "      <td>1</td>\n",
       "      <td>2</td>\n",
       "      <td>1</td>\n",
       "      <td>2</td>\n",
       "      <td>1</td>\n",
       "      <td>...</td>\n",
       "      <td>1.724934</td>\n",
       "      <td>-0.633061</td>\n",
       "      <td>-0.442045</td>\n",
       "      <td>-0.992988</td>\n",
       "      <td>1.631092</td>\n",
       "      <td>-2.626758</td>\n",
       "      <td>-1.602018</td>\n",
       "      <td>-1.144038</td>\n",
       "      <td>1.315813</td>\n",
       "      <td>-0.492111</td>\n",
       "    </tr>\n",
       "    <tr>\n",
       "      <th>32864</th>\n",
       "      <td>3</td>\n",
       "      <td>1</td>\n",
       "      <td>3</td>\n",
       "      <td>3</td>\n",
       "      <td>2</td>\n",
       "      <td>1</td>\n",
       "      <td>2</td>\n",
       "      <td>1</td>\n",
       "      <td>2</td>\n",
       "      <td>1</td>\n",
       "      <td>...</td>\n",
       "      <td>1.724934</td>\n",
       "      <td>-0.633061</td>\n",
       "      <td>-0.442045</td>\n",
       "      <td>-0.992988</td>\n",
       "      <td>1.631092</td>\n",
       "      <td>-2.626758</td>\n",
       "      <td>-1.602018</td>\n",
       "      <td>-1.144038</td>\n",
       "      <td>1.315813</td>\n",
       "      <td>-0.492111</td>\n",
       "    </tr>\n",
       "    <tr>\n",
       "      <th>32865</th>\n",
       "      <td>3</td>\n",
       "      <td>2</td>\n",
       "      <td>2</td>\n",
       "      <td>3</td>\n",
       "      <td>2</td>\n",
       "      <td>1</td>\n",
       "      <td>2</td>\n",
       "      <td>1</td>\n",
       "      <td>2</td>\n",
       "      <td>1</td>\n",
       "      <td>...</td>\n",
       "      <td>1.724934</td>\n",
       "      <td>-0.633061</td>\n",
       "      <td>-0.442045</td>\n",
       "      <td>-0.992988</td>\n",
       "      <td>1.631092</td>\n",
       "      <td>-2.626758</td>\n",
       "      <td>-1.602018</td>\n",
       "      <td>-1.144038</td>\n",
       "      <td>1.315813</td>\n",
       "      <td>-0.492111</td>\n",
       "    </tr>\n",
       "    <tr>\n",
       "      <th>32866</th>\n",
       "      <td>3</td>\n",
       "      <td>2</td>\n",
       "      <td>1</td>\n",
       "      <td>3</td>\n",
       "      <td>2</td>\n",
       "      <td>1</td>\n",
       "      <td>2</td>\n",
       "      <td>1</td>\n",
       "      <td>2</td>\n",
       "      <td>1</td>\n",
       "      <td>...</td>\n",
       "      <td>1.724934</td>\n",
       "      <td>-0.633061</td>\n",
       "      <td>-0.442045</td>\n",
       "      <td>-0.992988</td>\n",
       "      <td>1.631092</td>\n",
       "      <td>-2.626758</td>\n",
       "      <td>-1.602018</td>\n",
       "      <td>-1.144038</td>\n",
       "      <td>1.315813</td>\n",
       "      <td>-0.492111</td>\n",
       "    </tr>\n",
       "    <tr>\n",
       "      <th>32867</th>\n",
       "      <td>3</td>\n",
       "      <td>2</td>\n",
       "      <td>3</td>\n",
       "      <td>3</td>\n",
       "      <td>2</td>\n",
       "      <td>1</td>\n",
       "      <td>2</td>\n",
       "      <td>1</td>\n",
       "      <td>2</td>\n",
       "      <td>1</td>\n",
       "      <td>...</td>\n",
       "      <td>1.724934</td>\n",
       "      <td>-0.633061</td>\n",
       "      <td>-0.442045</td>\n",
       "      <td>-0.992988</td>\n",
       "      <td>1.631092</td>\n",
       "      <td>-2.626758</td>\n",
       "      <td>-1.602018</td>\n",
       "      <td>-1.144038</td>\n",
       "      <td>1.315813</td>\n",
       "      <td>-0.492111</td>\n",
       "    </tr>\n",
       "  </tbody>\n",
       "</table>\n",
       "<p>6570 rows × 34 columns</p>\n",
       "</div>"
      ],
      "text/plain": [
       "       country  store  product  holiday  Is_month_end  Is_month_start  \\\n",
       "26298        1      1        2        1             1               2   \n",
       "26299        1      1        1        1             1               2   \n",
       "26300        1      1        3        1             1               2   \n",
       "26301        1      2        2        1             1               2   \n",
       "26302        1      2        1        1             1               2   \n",
       "...        ...    ...      ...      ...           ...             ...   \n",
       "32863        3      1        1        3             2               1   \n",
       "32864        3      1        3        3             2               1   \n",
       "32865        3      2        2        3             2               1   \n",
       "32866        3      2        1        3             2               1   \n",
       "32867        3      2        3        3             2               1   \n",
       "\n",
       "       Is_quarter_end  Is_quarter_start  Is_year_end  Is_year_start  ...  \\\n",
       "26298               1                 2            1              2  ...   \n",
       "26299               1                 2            1              2  ...   \n",
       "26300               1                 2            1              2  ...   \n",
       "26301               1                 2            1              2  ...   \n",
       "26302               1                 2            1              2  ...   \n",
       "...               ...               ...          ...            ...  ...   \n",
       "32863               2                 1            2              1  ...   \n",
       "32864               2                 1            2              1  ...   \n",
       "32865               2                 1            2              1  ...   \n",
       "32866               2                 1            2              1  ...   \n",
       "32867               2                 1            2              1  ...   \n",
       "\n",
       "       Dayofyear  is_weekend  month_emb_1  month_emb_2  month_emb_3  \\\n",
       "26298  -1.727310   -0.633061    -0.427732    -0.610998     0.104386   \n",
       "26299  -1.727310   -0.633061    -0.427732    -0.610998     0.104386   \n",
       "26300  -1.727310   -0.633061    -0.427732    -0.610998     0.104386   \n",
       "26301  -1.727310   -0.633061    -0.427732    -0.610998     0.104386   \n",
       "26302  -1.727310   -0.633061    -0.427732    -0.610998     0.104386   \n",
       "...          ...         ...          ...          ...          ...   \n",
       "32863   1.724934   -0.633061    -0.442045    -0.992988     1.631092   \n",
       "32864   1.724934   -0.633061    -0.442045    -0.992988     1.631092   \n",
       "32865   1.724934   -0.633061    -0.442045    -0.992988     1.631092   \n",
       "32866   1.724934   -0.633061    -0.442045    -0.992988     1.631092   \n",
       "32867   1.724934   -0.633061    -0.442045    -0.992988     1.631092   \n",
       "\n",
       "       month_emb_4  month_emb_5  month_emb_6  month_emb_7       gdp  \n",
       "26298     0.285907    -0.070123     0.112406     0.849990 -0.719467  \n",
       "26299     0.285907    -0.070123     0.112406     0.849990 -0.719467  \n",
       "26300     0.285907    -0.070123     0.112406     0.849990 -0.719467  \n",
       "26301     0.285907    -0.070123     0.112406     0.849990 -0.719467  \n",
       "26302     0.285907    -0.070123     0.112406     0.849990 -0.719467  \n",
       "...            ...          ...          ...          ...       ...  \n",
       "32863    -2.626758    -1.602018    -1.144038     1.315813 -0.492111  \n",
       "32864    -2.626758    -1.602018    -1.144038     1.315813 -0.492111  \n",
       "32865    -2.626758    -1.602018    -1.144038     1.315813 -0.492111  \n",
       "32866    -2.626758    -1.602018    -1.144038     1.315813 -0.492111  \n",
       "32867    -2.626758    -1.602018    -1.144038     1.315813 -0.492111  \n",
       "\n",
       "[6570 rows x 34 columns]"
      ]
     },
     "execution_count": 108,
     "metadata": {},
     "output_type": "execute_result"
    }
   ],
   "source": [
    "testxs"
   ]
  },
  {
   "cell_type": "code",
   "execution_count": 109,
   "id": "b169baf6-e691-43cc-a6c4-f913a2f52385",
   "metadata": {},
   "outputs": [],
   "source": [
    "pred_log = model_log_full.predict(testxs)"
   ]
  },
  {
   "cell_type": "code",
   "execution_count": 112,
   "id": "9000729d-b0d8-4c9b-9491-d1c6c5c55961",
   "metadata": {},
   "outputs": [],
   "source": [
    "pred_log = np.exp(pred_log)"
   ]
  },
  {
   "cell_type": "code",
   "execution_count": 113,
   "id": "a05c7008-e117-4988-a3fe-800de73e36bd",
   "metadata": {},
   "outputs": [],
   "source": [
    "pred_exp = model_exp_full.predict(testxs)"
   ]
  },
  {
   "cell_type": "code",
   "execution_count": 114,
   "id": "7e316df6-d0a5-4ac6-845e-0eebc511039e",
   "metadata": {},
   "outputs": [
    {
     "data": {
      "text/plain": [
       "array([ 386.0896 ,  552.13116,  173.03183, ...,  839.2699 , 1252.8414 ,\n",
       "        373.08298], dtype=float32)"
      ]
     },
     "execution_count": 114,
     "metadata": {},
     "output_type": "execute_result"
    }
   ],
   "source": [
    "pred_exp"
   ]
  },
  {
   "cell_type": "code",
   "execution_count": 115,
   "id": "b7967c8b-62a5-4901-a3dd-31d07600fc50",
   "metadata": {},
   "outputs": [
    {
     "data": {
      "text/html": [
       "<div>\n",
       "<style scoped>\n",
       "    .dataframe tbody tr th:only-of-type {\n",
       "        vertical-align: middle;\n",
       "    }\n",
       "\n",
       "    .dataframe tbody tr th {\n",
       "        vertical-align: top;\n",
       "    }\n",
       "\n",
       "    .dataframe thead th {\n",
       "        text-align: right;\n",
       "    }\n",
       "</style>\n",
       "<table border=\"1\" class=\"dataframe\">\n",
       "  <thead>\n",
       "    <tr style=\"text-align: right;\">\n",
       "      <th></th>\n",
       "      <th>row_id</th>\n",
       "      <th>country</th>\n",
       "      <th>store</th>\n",
       "      <th>product</th>\n",
       "      <th>num_sold</th>\n",
       "      <th>holiday</th>\n",
       "      <th>store_emb_1</th>\n",
       "      <th>store_emb_2</th>\n",
       "      <th>store_emb_3</th>\n",
       "      <th>product_emb_1</th>\n",
       "      <th>...</th>\n",
       "      <th>Elapsed</th>\n",
       "      <th>is_weekend</th>\n",
       "      <th>month_emb_1</th>\n",
       "      <th>month_emb_2</th>\n",
       "      <th>month_emb_3</th>\n",
       "      <th>month_emb_4</th>\n",
       "      <th>month_emb_5</th>\n",
       "      <th>month_emb_6</th>\n",
       "      <th>month_emb_7</th>\n",
       "      <th>gdp</th>\n",
       "    </tr>\n",
       "  </thead>\n",
       "  <tbody>\n",
       "    <tr>\n",
       "      <th>26298</th>\n",
       "      <td>26298</td>\n",
       "      <td>Finland</td>\n",
       "      <td>KaggleMart</td>\n",
       "      <td>Kaggle Mug</td>\n",
       "      <td>-inf</td>\n",
       "      <td>in_Finland</td>\n",
       "      <td>0.96775</td>\n",
       "      <td>-0.929185</td>\n",
       "      <td>1.11733</td>\n",
       "      <td>-0.345529</td>\n",
       "      <td>...</td>\n",
       "      <td>1.546301e+09</td>\n",
       "      <td>0</td>\n",
       "      <td>0.139456</td>\n",
       "      <td>0.072881</td>\n",
       "      <td>-0.318967</td>\n",
       "      <td>0.426407</td>\n",
       "      <td>0.22274</td>\n",
       "      <td>0.328248</td>\n",
       "      <td>0.634298</td>\n",
       "      <td>48712</td>\n",
       "    </tr>\n",
       "    <tr>\n",
       "      <th>26299</th>\n",
       "      <td>26299</td>\n",
       "      <td>Finland</td>\n",
       "      <td>KaggleMart</td>\n",
       "      <td>Kaggle Hat</td>\n",
       "      <td>-inf</td>\n",
       "      <td>in_Finland</td>\n",
       "      <td>0.96775</td>\n",
       "      <td>-0.929185</td>\n",
       "      <td>1.11733</td>\n",
       "      <td>0.764051</td>\n",
       "      <td>...</td>\n",
       "      <td>1.546301e+09</td>\n",
       "      <td>0</td>\n",
       "      <td>0.139456</td>\n",
       "      <td>0.072881</td>\n",
       "      <td>-0.318967</td>\n",
       "      <td>0.426407</td>\n",
       "      <td>0.22274</td>\n",
       "      <td>0.328248</td>\n",
       "      <td>0.634298</td>\n",
       "      <td>48712</td>\n",
       "    </tr>\n",
       "  </tbody>\n",
       "</table>\n",
       "<p>2 rows × 37 columns</p>\n",
       "</div>"
      ],
      "text/plain": [
       "       row_id  country       store     product  num_sold     holiday  \\\n",
       "26298   26298  Finland  KaggleMart  Kaggle Mug      -inf  in_Finland   \n",
       "26299   26299  Finland  KaggleMart  Kaggle Hat      -inf  in_Finland   \n",
       "\n",
       "       store_emb_1  store_emb_2  store_emb_3  product_emb_1  ...  \\\n",
       "26298      0.96775    -0.929185      1.11733      -0.345529  ...   \n",
       "26299      0.96775    -0.929185      1.11733       0.764051  ...   \n",
       "\n",
       "            Elapsed  is_weekend  month_emb_1  month_emb_2  month_emb_3  \\\n",
       "26298  1.546301e+09           0     0.139456     0.072881    -0.318967   \n",
       "26299  1.546301e+09           0     0.139456     0.072881    -0.318967   \n",
       "\n",
       "       month_emb_4  month_emb_5  month_emb_6  month_emb_7    gdp  \n",
       "26298     0.426407      0.22274     0.328248     0.634298  48712  \n",
       "26299     0.426407      0.22274     0.328248     0.634298  48712  \n",
       "\n",
       "[2 rows x 37 columns]"
      ]
     },
     "execution_count": 115,
     "metadata": {},
     "output_type": "execute_result"
    }
   ],
   "source": [
    "combined_test.head(2)"
   ]
  },
  {
   "cell_type": "code",
   "execution_count": 117,
   "id": "ccbe0ff1-b48b-4c45-83e7-cfc81097e5f3",
   "metadata": {},
   "outputs": [],
   "source": [
    "dl = learn_full.dls.test_dl(combined_test)"
   ]
  },
  {
   "cell_type": "code",
   "execution_count": 118,
   "id": "b2ae4a52-fe7d-46a5-8fa0-3b3dcb6b196d",
   "metadata": {},
   "outputs": [
    {
     "data": {
      "text/plain": [
       "<fastai.tabular.core.TabDataLoader at 0x7f6d5ff9f040>"
      ]
     },
     "execution_count": 118,
     "metadata": {},
     "output_type": "execute_result"
    }
   ],
   "source": [
    "dl"
   ]
  },
  {
   "cell_type": "code",
   "execution_count": 121,
   "id": "15f23cb3-015d-4540-93b6-74f28153e7a1",
   "metadata": {},
   "outputs": [
    {
     "data": {
      "text/html": [],
      "text/plain": [
       "<IPython.core.display.HTML object>"
      ]
     },
     "metadata": {},
     "output_type": "display_data"
    },
    {
     "name": "stderr",
     "output_type": "stream",
     "text": [
      "/tmp/ipykernel_696/884952379.py:3: RuntimeWarning: invalid value encountered in true_divide\n",
      "  diff = np.abs(preds - targs) / denominator\n"
     ]
    }
   ],
   "source": [
    "ynn_full, _ = learn_full.get_preds(dl = dl)"
   ]
  },
  {
   "cell_type": "code",
   "execution_count": 123,
   "id": "4ad4df08-00d2-4dc5-9b04-340805c12d51",
   "metadata": {},
   "outputs": [
    {
     "data": {
      "text/plain": [
       "(6570,)"
      ]
     },
     "execution_count": 123,
     "metadata": {},
     "output_type": "execute_result"
    }
   ],
   "source": [
    "ynn_full = np.concatenate([ynn_full])\n",
    "ynn_full = np.squeeze(ynn_full)\n",
    "ynn_full = np.exp(ynn_full)\n",
    "ynn_full.shape"
   ]
  },
  {
   "cell_type": "code",
   "execution_count": 124,
   "id": "ab3fe1eb-c01f-4250-a8df-bd0ac950d45b",
   "metadata": {},
   "outputs": [
    {
     "data": {
      "text/plain": [
       "array([ 397.54956,  612.40027,  182.40225, ...,  966.533  , 1383.3839 ,\n",
       "        424.8355 ], dtype=float32)"
      ]
     },
     "execution_count": 124,
     "metadata": {},
     "output_type": "execute_result"
    }
   ],
   "source": [
    "ynn_full"
   ]
  },
  {
   "cell_type": "code",
   "execution_count": 125,
   "id": "f51b499d-bafa-4ac0-a2b5-480e89b19fed",
   "metadata": {},
   "outputs": [],
   "source": [
    "basic_blend = (ynn_full + pred_exp + pred_log) / 3"
   ]
  },
  {
   "cell_type": "code",
   "execution_count": 126,
   "id": "3aac1193-7dcf-4997-9180-d4a9bd12ae1f",
   "metadata": {},
   "outputs": [
    {
     "data": {
      "text/plain": [
       "array([ 383.87003,  569.9206 ,  170.65169, ...,  919.1048 , 1312.3032 ,\n",
       "        400.11533], dtype=float32)"
      ]
     },
     "execution_count": 126,
     "metadata": {},
     "output_type": "execute_result"
    }
   ],
   "source": [
    "basic_blend"
   ]
  },
  {
   "cell_type": "code",
   "execution_count": 127,
   "id": "18b00424-19dd-490f-aecd-5965911fa180",
   "metadata": {},
   "outputs": [],
   "source": [
    "submission[\"num_sold\"] = list(basic_blend)"
   ]
  },
  {
   "cell_type": "code",
   "execution_count": 128,
   "id": "01227df1-0730-4d2c-8684-629788d7e256",
   "metadata": {},
   "outputs": [],
   "source": [
    "submission.to_csv(\"subm/submission.csv\", index = False)"
   ]
  },
  {
   "cell_type": "code",
   "execution_count": 129,
   "id": "7de791e7-ba69-4dc2-9cb7-bcf486f7e094",
   "metadata": {},
   "outputs": [
    {
     "name": "stdout",
     "output_type": "stream",
     "text": [
      "100%|████████████████████████████████████████| 101k/101k [00:04<00:00, 20.9kB/s]\n",
      "Successfully submitted to Tabular Playground Series - Jan 2022"
     ]
    }
   ],
   "source": [
    "! kaggle competitions submit -c tabular-playground-series-jan-2022 -f subm/submission.csv -m \"plssssss\""
   ]
  },
  {
   "cell_type": "code",
   "execution_count": 130,
   "id": "aee11e5c-9d91-4c9a-9b22-922655c6d647",
   "metadata": {},
   "outputs": [
    {
     "data": {
      "text/plain": [
       "array([0.47459232, 0.30301865, 0.26701152])"
      ]
     },
     "execution_count": 130,
     "metadata": {},
     "output_type": "execute_result"
    }
   ],
   "source": [
    "opt.coef_"
   ]
  },
  {
   "cell_type": "code",
   "execution_count": 131,
   "id": "07faf9d1-0c0f-49d2-9948-01acf0661424",
   "metadata": {},
   "outputs": [],
   "source": [
    "testpred_stack = np.column_stack((pred_exp, pred_log, ynn_full))"
   ]
  },
  {
   "cell_type": "code",
   "execution_count": 132,
   "id": "b52da583-945f-4197-ae11-4702b1c00d04",
   "metadata": {},
   "outputs": [],
   "source": [
    "final_pred = opt.predict(testpred_stack)"
   ]
  },
  {
   "cell_type": "code",
   "execution_count": 133,
   "id": "3301614d-a014-4929-8e0e-3ab0a63f174b",
   "metadata": {},
   "outputs": [
    {
     "data": {
      "text/plain": [
       "array([ 400.88751427,  590.77004773,  178.25186657, ...,  944.71222513,\n",
       "       1358.09993973,  412.44130924])"
      ]
     },
     "execution_count": 133,
     "metadata": {},
     "output_type": "execute_result"
    }
   ],
   "source": [
    "final_pred"
   ]
  },
  {
   "cell_type": "code",
   "execution_count": 134,
   "id": "e85f7dea-c152-4f64-9705-2f11cc5f81f0",
   "metadata": {},
   "outputs": [],
   "source": [
    "submission[\"num_sold\"] = list(final_pred)"
   ]
  },
  {
   "cell_type": "code",
   "execution_count": 135,
   "id": "e02ab70d-74e5-4938-b632-e47323db6860",
   "metadata": {},
   "outputs": [],
   "source": [
    "submission.to_csv(\"subm/submission.csv\", index = False)"
   ]
  },
  {
   "cell_type": "code",
   "execution_count": 136,
   "id": "1022d087-f0eb-4e98-8b77-89e1f5e08926",
   "metadata": {},
   "outputs": [
    {
     "name": "stdout",
     "output_type": "stream",
     "text": [
      "100%|████████████████████████████████████████| 157k/157k [00:06<00:00, 24.7kB/s]\n",
      "Successfully submitted to Tabular Playground Series - Jan 2022"
     ]
    }
   ],
   "source": [
    "! kaggle competitions submit -c tabular-playground-series-jan-2022 -f subm/submission.csv -m \"plssssss\""
   ]
  },
  {
   "cell_type": "code",
   "execution_count": null,
   "id": "b3f77e15-0dca-4988-8576-e504b756a7d8",
   "metadata": {},
   "outputs": [],
   "source": []
  }
 ],
 "metadata": {
  "kernelspec": {
   "display_name": "Python 3 (ipykernel)",
   "language": "python",
   "name": "python3"
  },
  "language_info": {
   "codemirror_mode": {
    "name": "ipython",
    "version": 3
   },
   "file_extension": ".py",
   "mimetype": "text/x-python",
   "name": "python",
   "nbconvert_exporter": "python",
   "pygments_lexer": "ipython3",
   "version": "3.8.12"
  }
 },
 "nbformat": 4,
 "nbformat_minor": 5
}
