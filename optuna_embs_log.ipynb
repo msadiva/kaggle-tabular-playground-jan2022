{
 "cells": [
  {
   "cell_type": "code",
   "execution_count": 1,
   "id": "861a6304-3684-40b5-9253-947136232d99",
   "metadata": {},
   "outputs": [
    {
     "name": "stdout",
     "output_type": "stream",
     "text": [
      "CPU times: user 1.82 s, sys: 946 ms, total: 2.77 s\n",
      "Wall time: 2.11 s\n"
     ]
    }
   ],
   "source": [
    "%%time\n",
    "import fastai\n",
    "from fastai.tabular.all import *\n",
    "from pathlib import Path\n",
    "import os\n",
    "from sklearn.tree import DecisionTreeRegressor\n",
    "from dtreeviz.trees import *\n",
    "import IPython\n",
    "from sklearn.ensemble import RandomForestRegressor\n",
    "from IPython.display import Image, display_svg, SVG\n",
    "from sklearn.tree import export_graphviz\n",
    "import waterfall_chart\n",
    "from treeinterpreter import treeinterpreter\n",
    "from sklearn.inspection import plot_partial_dependence\n",
    "from scipy.cluster import hierarchy as hc\n",
    "import xgboost\n",
    "from xgboost import XGBRegressor\n",
    "import optuna"
   ]
  },
  {
   "cell_type": "code",
   "execution_count": 2,
   "id": "51500f95-c58d-4370-babd-f345d16739fc",
   "metadata": {},
   "outputs": [],
   "source": [
    "df = pd.read_csv(\"train.csv\", low_memory = False)\n",
    "dep_var = \"num_sold\""
   ]
  },
  {
   "cell_type": "code",
   "execution_count": 3,
   "id": "b8017fa9-6760-421c-8ce7-b8cad21b1311",
   "metadata": {},
   "outputs": [
    {
     "name": "stdout",
     "output_type": "stream",
     "text": [
      "CPU times: user 0 ns, sys: 4.53 ms, total: 4.53 ms\n",
      "Wall time: 6.18 ms\n"
     ]
    }
   ],
   "source": [
    "%%time\n",
    "import pickle\n",
    "\n",
    "country_map = pickle.load(open(\"embs/country_map.pkl\", \"rb\"))\n",
    "product_map = pickle.load(open(\"embs/product_map.pkl\", \"rb\"))\n",
    "store_map = pickle.load(open(\"embs/store_map.pkl\", \"rb\"))"
   ]
  },
  {
   "cell_type": "code",
   "execution_count": 4,
   "id": "1b6d40f7-719e-45cf-b9c7-26d44464f5ee",
   "metadata": {},
   "outputs": [],
   "source": [
    "emb_dim = country_map['Finland'].shape[0]\n",
    "col_name = [f'country_emb_{i}' for i in range(1, emb_dim + 1)]\n",
    "df_emb_country = pd.DataFrame(df['country'].map(country_map).to_list(), columns = col_name)"
   ]
  },
  {
   "cell_type": "code",
   "execution_count": 5,
   "id": "116b7b82-0e90-42ed-b9cf-7235f5425411",
   "metadata": {},
   "outputs": [],
   "source": [
    "emb_dim = product_map['Kaggle Mug'].shape[0]\n",
    "col_name = [f'product_emb_{i}' for i in range(1, emb_dim + 1)]\n",
    "df_emb_product = pd.DataFrame(df['product'].map(product_map).to_list(), columns = col_name)"
   ]
  },
  {
   "cell_type": "code",
   "execution_count": 6,
   "id": "8e27623c-782e-4d80-b26f-583762273d25",
   "metadata": {},
   "outputs": [],
   "source": [
    "emb_dim = store_map['KaggleMart'].shape[0]\n",
    "col_name = [f'store_emb_{i}' for i in range(1, emb_dim + 1)]\n",
    "df_emb_store = pd.DataFrame(df['store'].map(store_map).to_list(), columns = col_name)"
   ]
  },
  {
   "cell_type": "code",
   "execution_count": 7,
   "id": "01ac985a-6a2b-4177-ac0a-7dda9cf06d5b",
   "metadata": {},
   "outputs": [],
   "source": [
    "df_tr = pd.concat([df[[\"date\", \"num_sold\"]], df_emb_store, df_emb_product, df_emb_country], axis = 1)"
   ]
  },
  {
   "cell_type": "code",
   "execution_count": 8,
   "id": "88e2bdb0-a105-40aa-b126-a196355972d2",
   "metadata": {},
   "outputs": [],
   "source": [
    "df_tr = add_datepart(df_tr, 'date')"
   ]
  },
  {
   "cell_type": "code",
   "execution_count": 20,
   "id": "3e8abaf8-9ea6-4b89-9f8a-b332bd4df1c0",
   "metadata": {},
   "outputs": [],
   "source": [
    "df_tr[dep_var] = np.log(df_tr[dep_var])"
   ]
  },
  {
   "cell_type": "code",
   "execution_count": 21,
   "id": "ba69d1cd-5fa5-4c19-b549-ba9fe956b575",
   "metadata": {},
   "outputs": [],
   "source": [
    "cond = (df_tr.Year < 2018)\n",
    "train_idx = np.where(cond)[0]\n",
    "valid_idx = np.where(~cond)[0]"
   ]
  },
  {
   "cell_type": "code",
   "execution_count": 22,
   "id": "c60ad333-5ace-4bcd-93e5-d09a727af1dd",
   "metadata": {},
   "outputs": [],
   "source": [
    "splits = (list(train_idx), list(valid_idx))\n",
    "cont, cat = cont_cat_split(df_tr, 1, dep_var)"
   ]
  },
  {
   "cell_type": "code",
   "execution_count": 23,
   "id": "d4a54fdb-f758-4755-a1ab-30923b5bf651",
   "metadata": {},
   "outputs": [],
   "source": [
    "procs = [Categorify, FillMissing]\n",
    "to = TabularPandas(df_tr, procs, cat, cont, y_names = dep_var, splits = splits)"
   ]
  },
  {
   "cell_type": "code",
   "execution_count": 24,
   "id": "b546d2b5-3b48-48fd-a7ba-f72f0b04e7c2",
   "metadata": {},
   "outputs": [],
   "source": [
    "xs, y = to.train.xs, to.train.y\n",
    "valid_xs, valid_y = to.valid.xs, to.valid.y"
   ]
  },
  {
   "cell_type": "code",
   "execution_count": 25,
   "id": "92f354d8-4443-404a-b374-71ee3eb7b486",
   "metadata": {},
   "outputs": [
    {
     "data": {
      "text/plain": [
       "(0        5.796058\n",
       " 1        6.253829\n",
       " 2        4.983607\n",
       " 3        6.349139\n",
       " 4        6.814543\n",
       "            ...   \n",
       " 19723    6.944087\n",
       " 19724    5.669881\n",
       " 19725    7.080027\n",
       " 19726    7.484931\n",
       " 19727    6.272877\n",
       " Name: num_sold, Length: 19728, dtype: float32,\n",
       " 19728    6.003887\n",
       " 19729    6.431331\n",
       " 19730    5.170484\n",
       " 19731    6.570883\n",
       " 19732    6.949856\n",
       "            ...   \n",
       " 26293    6.712956\n",
       " 26294    5.521461\n",
       " 26295    6.911747\n",
       " 26296    7.273093\n",
       " 26297    5.961005\n",
       " Name: num_sold, Length: 6570, dtype: float32)"
      ]
     },
     "execution_count": 25,
     "metadata": {},
     "output_type": "execute_result"
    }
   ],
   "source": [
    "y, valid_y"
   ]
  },
  {
   "cell_type": "code",
   "execution_count": 26,
   "id": "92a2c7f2-c3ba-4f68-ae4e-28cd61c467f4",
   "metadata": {},
   "outputs": [],
   "source": [
    "def cal_smape(preds, targs):\n",
    "    total = len(targs)\n",
    "    smp = 0\n",
    "    for i,j in zip(preds, targs):\n",
    "        diff = np.abs(i - j)\n",
    "        avg = ((np.abs(i)) + np.abs(j)) / 2\n",
    "        fin = diff/avg\n",
    "        smp += fin\n",
    "        \n",
    "    smp = (smp/total) * 100 \n",
    "    \n",
    "    return smp"
   ]
  },
  {
   "cell_type": "code",
   "execution_count": null,
   "id": "24936db3-769d-4e3b-a858-1706e4514ab2",
   "metadata": {},
   "outputs": [],
   "source": []
  },
  {
   "cell_type": "code",
   "execution_count": 31,
   "id": "6a37ac1a-1c99-47da-a637-5fb2bc3578ec",
   "metadata": {},
   "outputs": [],
   "source": [
    "a,b,c,d,e = [],[],[],[],[]\n",
    "score = []\n",
    "\n",
    "g_index = 1\n",
    "def hp_tuning(trial) :\n",
    "    learning_rate = trial.suggest_float(\"learning_rate\", 0.0001, 0.5, log = True)\n",
    "    gamma = trial.suggest_float(\"gamma\", 0.001, 10)\n",
    "    alpha = trial.suggest_float(\"alpha\", 0.001, 10)\n",
    "    max_depth = trial.suggest_int(\"max_depth\", 3, 15)\n",
    "    reg_lambda = trial.suggest_loguniform(\"reg_lambda\", 0.001, 25)\n",
    "    \n",
    "    model = XGBRegressor(verbosity = 0, alpha = alpha, reg_lambda = reg_lambda, gamma = gamma, max_depth = max_depth, learning_rate = learning_rate)\n",
    "    \n",
    "    model.fit(xs, y)\n",
    "                            \n",
    "    preds_val = model.predict(valid_xs)\n",
    "   \n",
    "        \n",
    "    a.append(learning_rate)\n",
    "    b.append(gamma)\n",
    "    c.append(alpha)\n",
    "    d.append(max_depth)\n",
    "    e.append(reg_lambda)\n",
    "    score.append(cal_smape(np.exp(preds_val), np.exp(valid_y)))\n",
    "    \n",
    "        \n",
    "        \n",
    "    return (cal_smape(np.exp(preds_val), np.exp(valid_y)))"
   ]
  },
  {
   "cell_type": "code",
   "execution_count": 32,
   "id": "2c169d01-2b55-495a-abcb-d7a08b267b46",
   "metadata": {
    "collapsed": true,
    "jupyter": {
     "outputs_hidden": true
    },
    "tags": []
   },
   "outputs": [
    {
     "name": "stderr",
     "output_type": "stream",
     "text": [
      "\u001b[32m[I 2022-01-11 05:15:50,433]\u001b[0m A new study created in memory with name: no-name-2691954a-2190-4657-ac9e-48d13795f00d\u001b[0m\n",
      "\u001b[32m[I 2022-01-11 05:15:50,904]\u001b[0m Trial 0 finished with value: 179.78842134534273 and parameters: {'learning_rate': 0.005903798870820417, 'gamma': 5.02961790547787, 'alpha': 0.8015520360567749, 'max_depth': 3, 'reg_lambda': 0.0010584861548731644}. Best is trial 0 with value: 179.78842134534273.\u001b[0m\n",
      "\u001b[32m[I 2022-01-11 05:15:51,284]\u001b[0m Trial 1 finished with value: 197.54174278500034 and parameters: {'learning_rate': 0.00012051532040623042, 'gamma': 5.213486086662463, 'alpha': 7.399879026138942, 'max_depth': 3, 'reg_lambda': 0.002710010039869358}. Best is trial 0 with value: 179.78842134534273.\u001b[0m\n",
      "\u001b[32m[I 2022-01-11 05:15:51,915]\u001b[0m Trial 2 finished with value: 197.42004522957615 and parameters: {'learning_rate': 0.00022321486487225845, 'gamma': 5.915797923006861, 'alpha': 0.9638344713291868, 'max_depth': 13, 'reg_lambda': 0.9810665519885435}. Best is trial 0 with value: 179.78842134534273.\u001b[0m\n",
      "\u001b[32m[I 2022-01-11 05:15:52,549]\u001b[0m Trial 3 finished with value: 196.62276695738555 and parameters: {'learning_rate': 0.0008100794253784674, 'gamma': 2.4235056510378343, 'alpha': 3.5751655624290812, 'max_depth': 13, 'reg_lambda': 0.09331359623051698}. Best is trial 0 with value: 179.78842134534273.\u001b[0m\n",
      "\u001b[32m[I 2022-01-11 05:15:53,128]\u001b[0m Trial 4 finished with value: 195.66883255759672 and parameters: {'learning_rate': 0.00138028997693628, 'gamma': 1.9752050633904823, 'alpha': 6.092937300477062, 'max_depth': 11, 'reg_lambda': 0.015563700100302533}. Best is trial 0 with value: 179.78842134534273.\u001b[0m\n",
      "\u001b[32m[I 2022-01-11 05:15:53,719]\u001b[0m Trial 5 finished with value: 158.3358165430078 and parameters: {'learning_rate': 0.009215845118861067, 'gamma': 2.0682834737580946, 'alpha': 7.866439521909444, 'max_depth': 12, 'reg_lambda': 0.16713864387928928}. Best is trial 5 with value: 158.3358165430078.\u001b[0m\n",
      "\u001b[32m[I 2022-01-11 05:15:54,336]\u001b[0m Trial 6 finished with value: 197.37411533358213 and parameters: {'learning_rate': 0.00026035748870941957, 'gamma': 3.22434655059053, 'alpha': 5.286209429523431, 'max_depth': 9, 'reg_lambda': 0.004296459167531743}. Best is trial 5 with value: 158.3358165430078.\u001b[0m\n",
      "\u001b[32m[I 2022-01-11 05:15:55,014]\u001b[0m Trial 7 finished with value: 11.178665140087444 and parameters: {'learning_rate': 0.1859100838741236, 'gamma': 6.400832950900095, 'alpha': 3.5274674099349186, 'max_depth': 6, 'reg_lambda': 0.6928996122057428}. Best is trial 7 with value: 11.178665140087444.\u001b[0m\n",
      "\u001b[32m[I 2022-01-11 05:15:55,789]\u001b[0m Trial 8 finished with value: 129.85848402833722 and parameters: {'learning_rate': 0.012778941415502966, 'gamma': 8.827051847378604, 'alpha': 1.7117813008458271, 'max_depth': 13, 'reg_lambda': 0.00214307810226802}. Best is trial 7 with value: 11.178665140087444.\u001b[0m\n",
      "\u001b[32m[I 2022-01-11 05:15:56,446]\u001b[0m Trial 9 finished with value: 196.14476976630962 and parameters: {'learning_rate': 0.0011110868503024602, 'gamma': 6.978682985021476, 'alpha': 2.083848855790771, 'max_depth': 12, 'reg_lambda': 0.10543546366696957}. Best is trial 7 with value: 11.178665140087444.\u001b[0m\n",
      "\u001b[32m[I 2022-01-11 05:15:57,174]\u001b[0m Trial 10 finished with value: 10.717259415355834 and parameters: {'learning_rate': 0.48908013131127603, 'gamma': 9.813495087192408, 'alpha': 9.221344854313552, 'max_depth': 7, 'reg_lambda': 21.416951343636956}. Best is trial 10 with value: 10.717259415355834.\u001b[0m\n",
      "\u001b[32m[I 2022-01-11 05:15:57,894]\u001b[0m Trial 11 finished with value: 11.606718921863136 and parameters: {'learning_rate': 0.41093580443757327, 'gamma': 9.793247236110442, 'alpha': 9.928228046031826, 'max_depth': 7, 'reg_lambda': 20.10314428279885}. Best is trial 10 with value: 10.717259415355834.\u001b[0m\n",
      "\u001b[32m[I 2022-01-11 05:15:58,686]\u001b[0m Trial 12 finished with value: 10.383821707702431 and parameters: {'learning_rate': 0.3420176398227817, 'gamma': 7.26995078534204, 'alpha': 3.4659041018321632, 'max_depth': 7, 'reg_lambda': 23.9830988688731}. Best is trial 12 with value: 10.383821707702431.\u001b[0m\n",
      "\u001b[32m[I 2022-01-11 05:15:59,277]\u001b[0m Trial 13 finished with value: 12.435626488112836 and parameters: {'learning_rate': 0.06369091951411882, 'gamma': 8.058016108614362, 'alpha': 9.970330229037588, 'max_depth': 6, 'reg_lambda': 22.246415360916778}. Best is trial 12 with value: 10.383821707702431.\u001b[0m\n",
      "\u001b[32m[I 2022-01-11 05:16:00,133]\u001b[0m Trial 14 finished with value: 12.115066449246752 and parameters: {'learning_rate': 0.07711603193853722, 'gamma': 9.763031975883411, 'alpha': 3.6981437853207635, 'max_depth': 9, 'reg_lambda': 4.546152603294036}. Best is trial 12 with value: 10.383821707702431.\u001b[0m\n",
      "\u001b[32m[I 2022-01-11 05:16:00,848]\u001b[0m Trial 15 finished with value: 11.238895539762442 and parameters: {'learning_rate': 0.4814788902111931, 'gamma': 7.77923501991992, 'alpha': 8.086386565403853, 'max_depth': 7, 'reg_lambda': 4.630189980639745}. Best is trial 12 with value: 10.383821707702431.\u001b[0m\n",
      "\u001b[32m[I 2022-01-11 05:16:01,524]\u001b[0m Trial 16 finished with value: 16.974951980316984 and parameters: {'learning_rate': 0.04336372543638581, 'gamma': 4.008931877662013, 'alpha': 6.542817761059495, 'max_depth': 15, 'reg_lambda': 6.906282888645909}. Best is trial 12 with value: 10.383821707702431.\u001b[0m\n",
      "\u001b[32m[I 2022-01-11 05:16:02,081]\u001b[0m Trial 17 finished with value: 7.589677373676396 and parameters: {'learning_rate': 0.1453956705079681, 'gamma': 0.16577064501607897, 'alpha': 4.137425555398426, 'max_depth': 5, 'reg_lambda': 1.3834742214796887}. Best is trial 17 with value: 7.589677373676396.\u001b[0m\n",
      "\u001b[32m[I 2022-01-11 05:16:02,631]\u001b[0m Trial 18 finished with value: 39.49782539327863 and parameters: {'learning_rate': 0.02839129070369212, 'gamma': 0.08801562397643066, 'alpha': 4.312082029907448, 'max_depth': 5, 'reg_lambda': 1.0458971871057743}. Best is trial 17 with value: 7.589677373676396.\u001b[0m\n",
      "\u001b[32m[I 2022-01-11 05:16:03,493]\u001b[0m Trial 19 finished with value: 8.460747305767178 and parameters: {'learning_rate': 0.12416966577269646, 'gamma': 0.9028449810053418, 'alpha': 2.618882314313036, 'max_depth': 9, 'reg_lambda': 1.8537368988893814}. Best is trial 17 with value: 7.589677373676396.\u001b[0m\n",
      "\u001b[32m[I 2022-01-11 05:16:04,339]\u001b[0m Trial 20 finished with value: 7.574314191580036 and parameters: {'learning_rate': 0.17226057427106276, 'gamma': 0.0103156483733301, 'alpha': 2.719058982632915, 'max_depth': 9, 'reg_lambda': 0.4016853438539583}. Best is trial 20 with value: 7.574314191580036.\u001b[0m\n",
      "\u001b[32m[I 2022-01-11 05:16:05,186]\u001b[0m Trial 21 finished with value: 7.586715970359184 and parameters: {'learning_rate': 0.15549719560789574, 'gamma': 0.12603559830814465, 'alpha': 2.3753366365318946, 'max_depth': 9, 'reg_lambda': 0.2820483415547967}. Best is trial 20 with value: 7.574314191580036.\u001b[0m\n",
      "\u001b[32m[I 2022-01-11 05:16:06,161]\u001b[0m Trial 22 finished with value: 7.325417403616745 and parameters: {'learning_rate': 0.16057693470145024, 'gamma': 0.14504374276673584, 'alpha': 2.447861171187228, 'max_depth': 10, 'reg_lambda': 0.24565577271988676}. Best is trial 22 with value: 7.325417403616745.\u001b[0m\n",
      "\u001b[32m[I 2022-01-11 05:16:06,856]\u001b[0m Trial 23 finished with value: 82.6565049126704 and parameters: {'learning_rate': 0.01907314076728848, 'gamma': 1.1619499936333821, 'alpha': 2.712897845492291, 'max_depth': 10, 'reg_lambda': 0.2892573397138588}. Best is trial 22 with value: 7.325417403616745.\u001b[0m\n",
      "\u001b[32m[I 2022-01-11 05:16:07,582]\u001b[0m Trial 24 finished with value: 184.9376620427386 and parameters: {'learning_rate': 0.004893981846492294, 'gamma': 1.0607765650682568, 'alpha': 1.6100383720883955, 'max_depth': 10, 'reg_lambda': 0.04285100918963808}. Best is trial 22 with value: 7.325417403616745.\u001b[0m\n",
      "\u001b[32m[I 2022-01-11 05:16:08,473]\u001b[0m Trial 25 finished with value: 10.065779674011052 and parameters: {'learning_rate': 0.1601605298361081, 'gamma': 3.148567992138585, 'alpha': 0.14371483817884778, 'max_depth': 8, 'reg_lambda': 0.3787354261112216}. Best is trial 22 with value: 7.325417403616745.\u001b[0m\n",
      "\u001b[32m[I 2022-01-11 05:16:09,138]\u001b[0m Trial 26 finished with value: 18.161939041974115 and parameters: {'learning_rate': 0.04022116112323055, 'gamma': 0.03090872892593219, 'alpha': 4.967720716707296, 'max_depth': 10, 'reg_lambda': 0.03331027135395813}. Best is trial 22 with value: 7.325417403616745.\u001b[0m\n",
      "\u001b[32m[I 2022-01-11 05:16:10,110]\u001b[0m Trial 27 finished with value: 8.948432825163117 and parameters: {'learning_rate': 0.08443719730345749, 'gamma': 1.325487579949024, 'alpha': 2.685584529863075, 'max_depth': 11, 'reg_lambda': 0.4215605788022376}. Best is trial 22 with value: 7.325417403616745.\u001b[0m\n",
      "\u001b[32m[I 2022-01-11 05:16:11,029]\u001b[0m Trial 28 finished with value: 9.237753051195293 and parameters: {'learning_rate': 0.27435486269104836, 'gamma': 4.0354618599749035, 'alpha': 1.0458255423231824, 'max_depth': 8, 'reg_lambda': 0.04660018425402491}. Best is trial 22 with value: 7.325417403616745.\u001b[0m\n",
      "\u001b[32m[I 2022-01-11 05:16:11,917]\u001b[0m Trial 29 finished with value: 185.3857887583697 and parameters: {'learning_rate': 0.004804593710613946, 'gamma': 0.5787361915988758, 'alpha': 0.5360599248361897, 'max_depth': 8, 'reg_lambda': 0.014209576597223345}. Best is trial 22 with value: 7.325417403616745.\u001b[0m\n",
      "\u001b[32m[I 2022-01-11 05:16:13,200]\u001b[0m Trial 30 finished with value: 9.358478291563591 and parameters: {'learning_rate': 0.22278122891073085, 'gamma': 2.7223143077106893, 'alpha': 2.0184727560829283, 'max_depth': 15, 'reg_lambda': 0.180635571734337}. Best is trial 22 with value: 7.325417403616745.\u001b[0m\n",
      "\u001b[32m[I 2022-01-11 05:16:13,585]\u001b[0m Trial 31 finished with value: 10.147095194313447 and parameters: {'learning_rate': 0.10902171843109261, 'gamma': 1.6615116945021116, 'alpha': 4.430087501971399, 'max_depth': 3, 'reg_lambda': 2.227341820859377}. Best is trial 22 with value: 7.325417403616745.\u001b[0m\n",
      "\u001b[32m[I 2022-01-11 05:16:14,051]\u001b[0m Trial 32 finished with value: 10.87334206276774 and parameters: {'learning_rate': 0.058147082161840724, 'gamma': 0.5307606710725079, 'alpha': 2.8798182309903044, 'max_depth': 4, 'reg_lambda': 0.5962796517068782}. Best is trial 22 with value: 7.325417403616745.\u001b[0m\n",
      "\u001b[32m[I 2022-01-11 05:16:14,952]\u001b[0m Trial 33 finished with value: 7.617485693016227 and parameters: {'learning_rate': 0.14858579680846784, 'gamma': 0.2883891935519128, 'alpha': 4.25061367276255, 'max_depth': 11, 'reg_lambda': 1.2879553496492766}. Best is trial 22 with value: 7.325417403616745.\u001b[0m\n",
      "\u001b[32m[I 2022-01-11 05:16:15,498]\u001b[0m Trial 34 finished with value: 31.043877791609216 and parameters: {'learning_rate': 0.03180033356410168, 'gamma': 1.500392869592587, 'alpha': 5.260077255796143, 'max_depth': 5, 'reg_lambda': 0.23980479006434083}. Best is trial 22 with value: 7.325417403616745.\u001b[0m\n",
      "\u001b[32m[I 2022-01-11 05:16:16,530]\u001b[0m Trial 35 finished with value: 7.715438339863351 and parameters: {'learning_rate': 0.21141620385533186, 'gamma': 0.8092844966349102, 'alpha': 1.233055157674736, 'max_depth': 9, 'reg_lambda': 0.0865841155084996}. Best is trial 22 with value: 7.325417403616745.\u001b[0m\n",
      "\u001b[32m[I 2022-01-11 05:16:17,451]\u001b[0m Trial 36 finished with value: 7.4015267773773985 and parameters: {'learning_rate': 0.10543833893254213, 'gamma': 0.018857151774803238, 'alpha': 3.070056353336601, 'max_depth': 12, 'reg_lambda': 2.614721320157187}. Best is trial 22 with value: 7.325417403616745.\u001b[0m\n",
      "\u001b[32m[I 2022-01-11 05:16:18,115]\u001b[0m Trial 37 finished with value: 59.05258343734595 and parameters: {'learning_rate': 0.023348170441971124, 'gamma': 1.9496208298949358, 'alpha': 2.2173382634494314, 'max_depth': 12, 'reg_lambda': 2.4660151192012627}. Best is trial 22 with value: 7.325417403616745.\u001b[0m\n",
      "\u001b[32m[I 2022-01-11 05:16:18,746]\u001b[0m Trial 38 finished with value: 191.60738779380753 and parameters: {'learning_rate': 0.0030876655613210485, 'gamma': 4.147072358038672, 'alpha': 3.168627762012865, 'max_depth': 14, 'reg_lambda': 0.5945597176615154}. Best is trial 22 with value: 7.325417403616745.\u001b[0m\n",
      "\u001b[32m[I 2022-01-11 05:16:19,540]\u001b[0m Trial 39 finished with value: 102.91138475268436 and parameters: {'learning_rate': 0.01617123048715266, 'gamma': 5.137760513434604, 'alpha': 1.4398402504814158, 'max_depth': 11, 'reg_lambda': 0.12607308628972239}. Best is trial 22 with value: 7.325417403616745.\u001b[0m\n",
      "\u001b[32m[I 2022-01-11 05:16:20,549]\u001b[0m Trial 40 finished with value: 10.189990896105456 and parameters: {'learning_rate': 0.28528278246838645, 'gamma': 2.408664175325769, 'alpha': 6.077550765107549, 'max_depth': 13, 'reg_lambda': 0.01802682571895363}. Best is trial 22 with value: 7.325417403616745.\u001b[0m\n",
      "\u001b[32m[I 2022-01-11 05:16:21,381]\u001b[0m Trial 41 finished with value: 7.524458197911018 and parameters: {'learning_rate': 0.09853878616149685, 'gamma': 0.020601106710049777, 'alpha': 3.8826800703775017, 'max_depth': 10, 'reg_lambda': 0.9986327830316704}. Best is trial 22 with value: 7.325417403616745.\u001b[0m\n",
      "\u001b[32m[I 2022-01-11 05:16:22,284]\u001b[0m Trial 42 finished with value: 7.961498308750045 and parameters: {'learning_rate': 0.09898146279384729, 'gamma': 0.5291298736832282, 'alpha': 2.1878559744108017, 'max_depth': 10, 'reg_lambda': 9.944628014966552}. Best is trial 22 with value: 7.325417403616745.\u001b[0m\n",
      "\u001b[32m[I 2022-01-11 05:16:23,002]\u001b[0m Trial 43 finished with value: 12.13996467565873 and parameters: {'learning_rate': 0.04903959574003902, 'gamma': 0.04134810897654319, 'alpha': 3.802448026785131, 'max_depth': 11, 'reg_lambda': 0.7428522897588521}. Best is trial 22 with value: 7.325417403616745.\u001b[0m\n",
      "\u001b[32m[I 2022-01-11 05:16:23,647]\u001b[0m Trial 44 finished with value: 197.51061513902584 and parameters: {'learning_rate': 0.00014770989695897283, 'gamma': 1.7021218080811424, 'alpha': 3.148526624916885, 'max_depth': 12, 'reg_lambda': 0.41481325436348443}. Best is trial 22 with value: 7.325417403616745.\u001b[0m\n",
      "\u001b[32m[I 2022-01-11 05:16:24,602]\u001b[0m Trial 45 finished with value: 8.677722660250305 and parameters: {'learning_rate': 0.21069122117321243, 'gamma': 0.8755537583265143, 'alpha': 4.934247307080135, 'max_depth': 10, 'reg_lambda': 0.08354228372214875}. Best is trial 22 with value: 7.325417403616745.\u001b[0m\n",
      "\u001b[32m[I 2022-01-11 05:16:25,054]\u001b[0m Trial 46 finished with value: 196.86540985824476 and parameters: {'learning_rate': 0.0006394591908554285, 'gamma': 2.1948528217640817, 'alpha': 3.2124812868868466, 'max_depth': 9, 'reg_lambda': 3.4738564492739283}. Best is trial 22 with value: 7.325417403616745.\u001b[0m\n",
      "\u001b[32m[I 2022-01-11 05:16:25,869]\u001b[0m Trial 47 finished with value: 8.750135713032678 and parameters: {'learning_rate': 0.07929700333459161, 'gamma': 1.2991448643850498, 'alpha': 1.9283017025412332, 'max_depth': 8, 'reg_lambda': 0.20469100746800734}. Best is trial 22 with value: 7.325417403616745.\u001b[0m\n",
      "\u001b[32m[I 2022-01-11 05:16:26,523]\u001b[0m Trial 48 finished with value: 145.64864303970765 and parameters: {'learning_rate': 0.010864988305140636, 'gamma': 0.575453960187491, 'alpha': 2.4857062984297404, 'max_depth': 12, 'reg_lambda': 0.8975536608474619}. Best is trial 22 with value: 7.325417403616745.\u001b[0m\n",
      "\u001b[32m[I 2022-01-11 05:16:27,429]\u001b[0m Trial 49 finished with value: 10.995924494632673 and parameters: {'learning_rate': 0.310067032470385, 'gamma': 6.191709564583059, 'alpha': 0.7016311941399385, 'max_depth': 9, 'reg_lambda': 10.684965436959395}. Best is trial 22 with value: 7.325417403616745.\u001b[0m\n",
      "\u001b[32m[I 2022-01-11 05:16:28,452]\u001b[0m Trial 50 finished with value: 9.798558918957728 and parameters: {'learning_rate': 0.11516420841151637, 'gamma': 2.8483890427337273, 'alpha': 3.641691908427397, 'max_depth': 13, 'reg_lambda': 0.1465842534466258}. Best is trial 22 with value: 7.325417403616745.\u001b[0m\n",
      "\u001b[32m[I 2022-01-11 05:16:29,398]\u001b[0m Trial 51 finished with value: 7.4583646471697715 and parameters: {'learning_rate': 0.1483875423857064, 'gamma': 0.013073935114601587, 'alpha': 4.029048209459642, 'max_depth': 14, 'reg_lambda': 1.4135543328134919}. Best is trial 22 with value: 7.325417403616745.\u001b[0m\n",
      "\u001b[32m[I 2022-01-11 05:16:30,219]\u001b[0m Trial 52 finished with value: 9.145242230804653 and parameters: {'learning_rate': 0.06799959817299873, 'gamma': 0.434455685352755, 'alpha': 4.07389128497541, 'max_depth': 11, 'reg_lambda': 3.290635355820812}. Best is trial 22 with value: 7.325417403616745.\u001b[0m\n",
      "\u001b[32m[I 2022-01-11 05:16:31,161]\u001b[0m Trial 53 finished with value: 7.474879396880016 and parameters: {'learning_rate': 0.16995851452006897, 'gamma': 0.011186175495545087, 'alpha': 4.5661828793729535, 'max_depth': 14, 'reg_lambda': 1.4253920646351688}. Best is trial 22 with value: 7.325417403616745.\u001b[0m\n",
      "\u001b[32m[I 2022-01-11 05:16:32,148]\u001b[0m Trial 54 finished with value: 8.918314033862906 and parameters: {'learning_rate': 0.3959124201095743, 'gamma': 0.8732611261846717, 'alpha': 5.7638945721619015, 'max_depth': 14, 'reg_lambda': 1.7233345777094378}. Best is trial 22 with value: 7.325417403616745.\u001b[0m\n",
      "\u001b[32m[I 2022-01-11 05:16:33,066]\u001b[0m Trial 55 finished with value: 7.416289152017177 and parameters: {'learning_rate': 0.20861330529150124, 'gamma': 0.036069541484592585, 'alpha': 4.813743307609212, 'max_depth': 14, 'reg_lambda': 1.1216497965355468}. Best is trial 22 with value: 7.325417403616745.\u001b[0m\n",
      "\u001b[32m[I 2022-01-11 05:16:34,240]\u001b[0m Trial 56 finished with value: 10.783277909874212 and parameters: {'learning_rate': 0.27424137797266496, 'gamma': 4.678777180353408, 'alpha': 4.6268780293326595, 'max_depth': 14, 'reg_lambda': 5.703582637431039}. Best is trial 22 with value: 7.325417403616745.\u001b[0m\n",
      "\u001b[32m[I 2022-01-11 05:16:35,137]\u001b[0m Trial 57 finished with value: 9.499617196808947 and parameters: {'learning_rate': 0.49275699545926305, 'gamma': 1.042275395231242, 'alpha': 7.0683087648441205, 'max_depth': 15, 'reg_lambda': 1.3440502572204642}. Best is trial 22 with value: 7.325417403616745.\u001b[0m\n",
      "\u001b[32m[I 2022-01-11 05:16:36,068]\u001b[0m Trial 58 finished with value: 9.014978975274134 and parameters: {'learning_rate': 0.10076311982380069, 'gamma': 1.818439336385428, 'alpha': 4.765902174757071, 'max_depth': 14, 'reg_lambda': 2.876991309834117}. Best is trial 22 with value: 7.325417403616745.\u001b[0m\n",
      "\u001b[32m[I 2022-01-11 05:16:36,700]\u001b[0m Trial 59 finished with value: 22.66295161443925 and parameters: {'learning_rate': 0.036641100651267085, 'gamma': 0.4060017440391879, 'alpha': 5.654578950392917, 'max_depth': 13, 'reg_lambda': 1.0634720209014763}. Best is trial 22 with value: 7.325417403616745.\u001b[0m\n",
      "\u001b[32m[I 2022-01-11 05:16:37,516]\u001b[0m Trial 60 finished with value: 11.319187919629556 and parameters: {'learning_rate': 0.0548445104321173, 'gamma': 1.4293139590512831, 'alpha': 3.9208013884062676, 'max_depth': 14, 'reg_lambda': 0.6025022701723683}. Best is trial 22 with value: 7.325417403616745.\u001b[0m\n",
      "\u001b[32m[I 2022-01-11 05:16:38,569]\u001b[0m Trial 61 finished with value: 7.174621230458057 and parameters: {'learning_rate': 0.16898233870555587, 'gamma': 0.16012922111404768, 'alpha': 3.2948082299063746, 'max_depth': 15, 'reg_lambda': 1.9138778317954035}. Best is trial 61 with value: 7.174621230458057.\u001b[0m\n",
      "\u001b[32m[I 2022-01-11 05:16:39,543]\u001b[0m Trial 62 finished with value: 8.172109758518157 and parameters: {'learning_rate': 0.1367506706039292, 'gamma': 0.7493194958050342, 'alpha': 5.362506265586646, 'max_depth': 15, 'reg_lambda': 1.737262752881509}. Best is trial 61 with value: 7.174621230458057.\u001b[0m\n",
      "\u001b[32m[I 2022-01-11 05:16:40,505]\u001b[0m Trial 63 finished with value: 7.419478539719974 and parameters: {'learning_rate': 0.20654522186085947, 'gamma': 0.010877426921734823, 'alpha': 3.3672169251064257, 'max_depth': 15, 'reg_lambda': 9.929686239981995}. Best is trial 61 with value: 7.174621230458057.\u001b[0m\n",
      "\u001b[32m[I 2022-01-11 05:16:41,664]\u001b[0m Trial 64 finished with value: 7.975465119965137 and parameters: {'learning_rate': 0.2208806311936331, 'gamma': 0.3577680956101941, 'alpha': 3.4261477650185146, 'max_depth': 15, 'reg_lambda': 12.220963601373246}. Best is trial 61 with value: 7.174621230458057.\u001b[0m\n",
      "\u001b[32m[I 2022-01-11 05:16:42,744]\u001b[0m Trial 65 finished with value: 8.929730871382722 and parameters: {'learning_rate': 0.33168576034914093, 'gamma': 1.1328830922225503, 'alpha': 2.95370769383181, 'max_depth': 14, 'reg_lambda': 12.88299921932236}. Best is trial 61 with value: 7.174621230458057.\u001b[0m\n",
      "\u001b[32m[I 2022-01-11 05:16:43,882]\u001b[0m Trial 66 finished with value: 11.007299899341914 and parameters: {'learning_rate': 0.18009626194332312, 'gamma': 5.624442241599024, 'alpha': 4.577297458252887, 'max_depth': 13, 'reg_lambda': 7.882470210107644}. Best is trial 61 with value: 7.174621230458057.\u001b[0m\n",
      "\u001b[32m[I 2022-01-11 05:16:44,929]\u001b[0m Trial 67 finished with value: 7.99983532494167 and parameters: {'learning_rate': 0.24402172043049514, 'gamma': 0.3958493157527101, 'alpha': 4.177355138971663, 'max_depth': 15, 'reg_lambda': 4.567614620683996}. Best is trial 61 with value: 7.174621230458057.\u001b[0m\n",
      "\u001b[32m[I 2022-01-11 05:16:46,102]\u001b[0m Trial 68 finished with value: 9.22805906980555 and parameters: {'learning_rate': 0.3565929728023689, 'gamma': 0.7387477881530183, 'alpha': 3.6030216494415552, 'max_depth': 14, 'reg_lambda': 15.559989024941906}. Best is trial 61 with value: 7.174621230458057.\u001b[0m\n",
      "\u001b[32m[I 2022-01-11 05:16:47,263]\u001b[0m Trial 69 finished with value: 11.906686163263029 and parameters: {'learning_rate': 0.13013786347000625, 'gamma': 9.186197782774222, 'alpha': 3.2863688926429133, 'max_depth': 15, 'reg_lambda': 5.674625484945247}. Best is trial 61 with value: 7.174621230458057.\u001b[0m\n",
      "\u001b[32m[I 2022-01-11 05:16:48,151]\u001b[0m Trial 70 finished with value: 8.485175052416041 and parameters: {'learning_rate': 0.06880303262208713, 'gamma': 0.22806637924079357, 'alpha': 2.9278197676804423, 'max_depth': 13, 'reg_lambda': 3.7366821639090504}. Best is trial 61 with value: 7.174621230458057.\u001b[0m\n",
      "\u001b[32m[I 2022-01-11 05:16:49,084]\u001b[0m Trial 71 finished with value: 7.948584429973489 and parameters: {'learning_rate': 0.09075095955323245, 'gamma': 0.004690423476675844, 'alpha': 3.885021528081868, 'max_depth': 15, 'reg_lambda': 2.0313570208052214}. Best is trial 61 with value: 7.174621230458057.\u001b[0m\n",
      "\u001b[32m[I 2022-01-11 05:16:49,983]\u001b[0m Trial 72 finished with value: 7.368758432390267 and parameters: {'learning_rate': 0.15441499565257952, 'gamma': 0.02751985154535176, 'alpha': 5.2538581445195405, 'max_depth': 14, 'reg_lambda': 0.8440143798990696}. Best is trial 61 with value: 7.174621230458057.\u001b[0m\n",
      "\u001b[32m[I 2022-01-11 05:16:50,932]\u001b[0m Trial 73 finished with value: 8.413434536606044 and parameters: {'learning_rate': 0.17063326720293037, 'gamma': 0.5881076666987912, 'alpha': 5.22977179710923, 'max_depth': 14, 'reg_lambda': 0.7922211531548239}. Best is trial 61 with value: 7.174621230458057.\u001b[0m\n",
      "\u001b[32m[I 2022-01-11 05:16:51,850]\u001b[0m Trial 74 finished with value: 9.032358563510655 and parameters: {'learning_rate': 0.18366528457776662, 'gamma': 1.0155502899131112, 'alpha': 6.402725895975821, 'max_depth': 14, 'reg_lambda': 1.5516987284552741}. Best is trial 61 with value: 7.174621230458057.\u001b[0m\n",
      "\u001b[32m[I 2022-01-11 05:16:52,811]\u001b[0m Trial 75 finished with value: 8.505373839573615 and parameters: {'learning_rate': 0.13197331973994844, 'gamma': 0.2807649312324209, 'alpha': 4.471885043121944, 'max_depth': 13, 'reg_lambda': 2.6215847877573446}. Best is trial 61 with value: 7.174621230458057.\u001b[0m\n",
      "\u001b[32m[I 2022-01-11 05:16:53,866]\u001b[0m Trial 76 finished with value: 8.47110220725024 and parameters: {'learning_rate': 0.432145763151488, 'gamma': 1.2712088205039762, 'alpha': 5.4977444730763905, 'max_depth': 12, 'reg_lambda': 0.4976775438252214}. Best is trial 61 with value: 7.174621230458057.\u001b[0m\n",
      "\u001b[32m[I 2022-01-11 05:16:54,902]\u001b[0m Trial 77 finished with value: 8.277699519325173 and parameters: {'learning_rate': 0.23609449616064332, 'gamma': 0.7333499854044203, 'alpha': 5.00123159783075, 'max_depth': 15, 'reg_lambda': 1.1500312934304835}. Best is trial 61 with value: 7.174621230458057.\u001b[0m\n",
      "\u001b[32m[I 2022-01-11 05:16:56,011]\u001b[0m Trial 78 finished with value: 6.9963408716588695 and parameters: {'learning_rate': 0.15584858591229445, 'gamma': 0.026234517665872037, 'alpha': 1.7450299283264086, 'max_depth': 13, 'reg_lambda': 0.30135619451701307}. Best is trial 78 with value: 6.9963408716588695.\u001b[0m\n",
      "\u001b[32m[I 2022-01-11 05:16:56,733]\u001b[0m Trial 79 finished with value: 172.35901603476321 and parameters: {'learning_rate': 0.007230929938459739, 'gamma': 0.38190208865773967, 'alpha': 1.6080364036574375, 'max_depth': 13, 'reg_lambda': 0.44993116570796987}. Best is trial 78 with value: 6.9963408716588695.\u001b[0m\n",
      "\u001b[32m[I 2022-01-11 05:16:57,849]\u001b[0m Trial 80 finished with value: 8.636210333620555 and parameters: {'learning_rate': 0.12059063492551628, 'gamma': 1.4390102103236009, 'alpha': 2.481889337218079, 'max_depth': 13, 'reg_lambda': 0.28424225013519216}. Best is trial 78 with value: 6.9963408716588695.\u001b[0m\n",
      "\u001b[32m[I 2022-01-11 05:16:58,938]\u001b[0m Trial 81 finished with value: 6.8650211138459625 and parameters: {'learning_rate': 0.17004187706883167, 'gamma': 0.009638640724377645, 'alpha': 1.928728380121548, 'max_depth': 14, 'reg_lambda': 0.8119670489027239}. Best is trial 81 with value: 6.8650211138459625.\u001b[0m\n",
      "\u001b[32m[I 2022-01-11 05:16:59,992]\u001b[0m Trial 82 finished with value: 7.4214208488139155 and parameters: {'learning_rate': 0.08031446814164944, 'gamma': 0.289180929262606, 'alpha': 1.7957872648415951, 'max_depth': 14, 'reg_lambda': 0.325515215007761}. Best is trial 81 with value: 6.8650211138459625.\u001b[0m\n",
      "\u001b[32m[I 2022-01-11 05:17:01,096]\u001b[0m Trial 83 finished with value: 7.349837098161981 and parameters: {'learning_rate': 0.08152258369688968, 'gamma': 0.6519594740564553, 'alpha': 1.8359978911429038, 'max_depth': 15, 'reg_lambda': 0.2853998458905454}. Best is trial 81 with value: 6.8650211138459625.\u001b[0m\n",
      "\u001b[32m[I 2022-01-11 05:17:02,567]\u001b[0m Trial 84 finished with value: 7.460415529238201 and parameters: {'learning_rate': 0.2804292142958383, 'gamma': 0.6961795889474234, 'alpha': 1.2815901128697007, 'max_depth': 15, 'reg_lambda': 0.22260603587549754}. Best is trial 81 with value: 6.8650211138459625.\u001b[0m\n",
      "\u001b[32m[I 2022-01-11 05:17:03,836]\u001b[0m Trial 85 finished with value: 10.918463278593208 and parameters: {'learning_rate': 0.048239539633563595, 'gamma': 1.0467517106277475, 'alpha': 0.3774813004290376, 'max_depth': 15, 'reg_lambda': 0.06560624652546591}. Best is trial 81 with value: 6.8650211138459625.\u001b[0m\n",
      "\u001b[32m[I 2022-01-11 05:17:04,979]\u001b[0m Trial 86 finished with value: 6.967452614318413 and parameters: {'learning_rate': 0.20308767881421558, 'gamma': 0.2728382526561591, 'alpha': 2.2120919245144695, 'max_depth': 12, 'reg_lambda': 0.16720903028186512}. Best is trial 81 with value: 6.8650211138459625.\u001b[0m\n",
      "\u001b[32m[I 2022-01-11 05:17:06,142]\u001b[0m Trial 87 finished with value: 10.184570709542431 and parameters: {'learning_rate': 0.11327593364769073, 'gamma': 3.670334859718504, 'alpha': 2.2512824886478664, 'max_depth': 13, 'reg_lambda': 0.12522460519339992}. Best is trial 81 with value: 6.8650211138459625.\u001b[0m\n",
      "\u001b[32m[I 2022-01-11 05:17:07,462]\u001b[0m Trial 88 finished with value: 7.689405116169022 and parameters: {'learning_rate': 0.3803410971432589, 'gamma': 0.6003618950953914, 'alpha': 1.1489717404723183, 'max_depth': 12, 'reg_lambda': 0.17461408167170625}. Best is trial 81 with value: 6.8650211138459625.\u001b[0m\n",
      "\u001b[32m[I 2022-01-11 05:17:08,470]\u001b[0m Trial 89 finished with value: 8.311874987575445 and parameters: {'learning_rate': 0.058642503122780985, 'gamma': 0.21920379384716562, 'alpha': 0.921617427559213, 'max_depth': 12, 'reg_lambda': 0.338726214697051}. Best is trial 81 with value: 6.8650211138459625.\u001b[0m\n",
      "\u001b[32m[I 2022-01-11 05:17:09,118]\u001b[0m Trial 90 finished with value: 194.50876212454534 and parameters: {'learning_rate': 0.0019627296367673987, 'gamma': 0.5125596631236566, 'alpha': 1.9040027058815643, 'max_depth': 12, 'reg_lambda': 0.5449283945525301}. Best is trial 81 with value: 6.8650211138459625.\u001b[0m\n",
      "\u001b[32m[I 2022-01-11 05:17:10,234]\u001b[0m Trial 91 finished with value: 7.0952891968461245 and parameters: {'learning_rate': 0.201991113278259, 'gamma': 0.2057039749856337, 'alpha': 2.635131063949962, 'max_depth': 14, 'reg_lambda': 0.2424357838333454}. Best is trial 81 with value: 6.8650211138459625.\u001b[0m\n",
      "\u001b[32m[I 2022-01-11 05:17:11,669]\u001b[0m Trial 92 finished with value: 10.585060108436792 and parameters: {'learning_rate': 0.2732981504523623, 'gamma': 6.838891743081271, 'alpha': 1.4654156535102956, 'max_depth': 14, 'reg_lambda': 0.25445714424917976}. Best is trial 81 with value: 6.8650211138459625.\u001b[0m\n",
      "\u001b[32m[I 2022-01-11 05:17:12,768]\u001b[0m Trial 93 finished with value: 8.301937016979554 and parameters: {'learning_rate': 0.15051553349978297, 'gamma': 0.8976111273090952, 'alpha': 2.762631915748201, 'max_depth': 14, 'reg_lambda': 0.8182826851182918}. Best is trial 81 with value: 6.8650211138459625.\u001b[0m\n",
      "\u001b[32m[I 2022-01-11 05:17:13,909]\u001b[0m Trial 94 finished with value: 7.394345934850508 and parameters: {'learning_rate': 0.1898964838635633, 'gamma': 0.26859187208305707, 'alpha': 2.3893636708184127, 'max_depth': 13, 'reg_lambda': 0.0010284514842948385}. Best is trial 81 with value: 6.8650211138459625.\u001b[0m\n",
      "\u001b[32m[I 2022-01-11 05:17:14,948]\u001b[0m Trial 95 finished with value: 7.250036055886342 and parameters: {'learning_rate': 0.09038606538726895, 'gamma': 0.2666946311342164, 'alpha': 2.0784551950235484, 'max_depth': 13, 'reg_lambda': 0.0022234605347366235}. Best is trial 81 with value: 6.8650211138459625.\u001b[0m\n",
      "\u001b[32m[I 2022-01-11 05:17:15,963]\u001b[0m Trial 96 finished with value: 7.419084515243688 and parameters: {'learning_rate': 0.08864395477608326, 'gamma': 0.25208071476653604, 'alpha': 2.4415750946056165, 'max_depth': 13, 'reg_lambda': 0.0010043846369064435}. Best is trial 81 with value: 6.8650211138459625.\u001b[0m\n",
      "\u001b[32m[I 2022-01-11 05:17:17,022]\u001b[0m Trial 97 finished with value: 8.678198879285038 and parameters: {'learning_rate': 0.07381122481542907, 'gamma': 1.1757383857730186, 'alpha': 2.1132306190249284, 'max_depth': 13, 'reg_lambda': 0.00247492143382549}. Best is trial 81 with value: 6.8650211138459625.\u001b[0m\n",
      "\u001b[32m[I 2022-01-11 05:17:18,399]\u001b[0m Trial 98 finished with value: 8.766734997397856 and parameters: {'learning_rate': 0.19695629086756392, 'gamma': 1.6270149785675698, 'alpha': 1.6770045780090865, 'max_depth': 13, 'reg_lambda': 0.0017024719164219326}. Best is trial 81 with value: 6.8650211138459625.\u001b[0m\n",
      "\u001b[32m[I 2022-01-11 05:17:19,680]\u001b[0m Trial 99 finished with value: 7.862321745845451 and parameters: {'learning_rate': 0.2525210068825517, 'gamma': 0.8623420695753852, 'alpha': 2.007968064229227, 'max_depth': 14, 'reg_lambda': 0.06242160026238168}. Best is trial 81 with value: 6.8650211138459625.\u001b[0m\n",
      "\u001b[32m[I 2022-01-11 05:17:20,857]\u001b[0m Trial 100 finished with value: 7.153725805430054 and parameters: {'learning_rate': 0.31469790226668387, 'gamma': 0.537388502358621, 'alpha': 2.5886074603693987, 'max_depth': 12, 'reg_lambda': 0.024189367051307798}. Best is trial 81 with value: 6.8650211138459625.\u001b[0m\n",
      "\u001b[32m[I 2022-01-11 05:17:22,057]\u001b[0m Trial 101 finished with value: 8.50293609201964 and parameters: {'learning_rate': 0.34101722581323624, 'gamma': 0.5029616954773956, 'alpha': 2.640595471152564, 'max_depth': 12, 'reg_lambda': 0.004638357701912526}. Best is trial 81 with value: 6.8650211138459625.\u001b[0m\n",
      "\u001b[32m[I 2022-01-11 05:17:23,064]\u001b[0m Trial 102 finished with value: 7.036081398077757 and parameters: {'learning_rate': 0.15360367180286527, 'gamma': 0.23019631324083423, 'alpha': 2.293576393257028, 'max_depth': 11, 'reg_lambda': 0.0016971319956865694}. Best is trial 81 with value: 6.8650211138459625.\u001b[0m\n",
      "\u001b[32m[I 2022-01-11 05:17:24,157]\u001b[0m Trial 103 finished with value: 7.419491927391168 and parameters: {'learning_rate': 0.14194684697811588, 'gamma': 0.6268246797153469, 'alpha': 1.4293461155979004, 'max_depth': 11, 'reg_lambda': 0.006373308197674715}. Best is trial 81 with value: 6.8650211138459625.\u001b[0m\n",
      "\u001b[32m[I 2022-01-11 05:17:25,173]\u001b[0m Trial 104 finished with value: 7.316799984212093 and parameters: {'learning_rate': 0.11215736570214285, 'gamma': 0.23666727228193912, 'alpha': 2.2666716439972747, 'max_depth': 11, 'reg_lambda': 0.01995124747018916}. Best is trial 81 with value: 6.8650211138459625.\u001b[0m\n",
      "\u001b[32m[I 2022-01-11 05:17:26,214]\u001b[0m Trial 105 finished with value: 8.24595558271541 and parameters: {'learning_rate': 0.12074717572841615, 'gamma': 0.9448524436588062, 'alpha': 2.292085328974066, 'max_depth': 11, 'reg_lambda': 0.001643841060499359}. Best is trial 81 with value: 6.8650211138459625.\u001b[0m\n",
      "\u001b[32m[I 2022-01-11 05:17:27,181]\u001b[0m Trial 106 finished with value: 7.3796510637790735 and parameters: {'learning_rate': 0.09397041900678155, 'gamma': 0.42521113929416915, 'alpha': 1.7970826820134076, 'max_depth': 10, 'reg_lambda': 0.01266093558876419}. Best is trial 81 with value: 6.8650211138459625.\u001b[0m\n",
      "\u001b[32m[I 2022-01-11 05:17:28,380]\u001b[0m Trial 107 finished with value: 8.230449483376336 and parameters: {'learning_rate': 0.30732860119365085, 'gamma': 0.6940042052871505, 'alpha': 2.025231680484993, 'max_depth': 11, 'reg_lambda': 0.02455302617145109}. Best is trial 81 with value: 6.8650211138459625.\u001b[0m\n",
      "\u001b[32m[I 2022-01-11 05:17:29,468]\u001b[0m Trial 108 finished with value: 8.056200027887249 and parameters: {'learning_rate': 0.4356006483123757, 'gamma': 0.215414010506864, 'alpha': 2.6003188446633785, 'max_depth': 11, 'reg_lambda': 0.0013821160562495242}. Best is trial 81 with value: 6.8650211138459625.\u001b[0m\n",
      "\u001b[32m[I 2022-01-11 05:17:30,115]\u001b[0m Trial 109 finished with value: 197.14287151055473 and parameters: {'learning_rate': 0.0004415941065902054, 'gamma': 1.2296402910989381, 'alpha': 2.8689152201714383, 'max_depth': 10, 'reg_lambda': 0.003526806670957205}. Best is trial 81 with value: 6.8650211138459625.\u001b[0m\n",
      "\u001b[32m[I 2022-01-11 05:17:31,255]\u001b[0m Trial 110 finished with value: 7.569024792730013 and parameters: {'learning_rate': 0.10706184152713764, 'gamma': 0.4953841417552946, 'alpha': 1.5459729073356356, 'max_depth': 12, 'reg_lambda': 0.10705726582701942}. Best is trial 81 with value: 6.8650211138459625.\u001b[0m\n",
      "\u001b[32m[I 2022-01-11 05:17:32,326]\u001b[0m Trial 111 finished with value: 7.221326720261071 and parameters: {'learning_rate': 0.14564662962540262, 'gamma': 0.17726887357273438, 'alpha': 2.1550665438188137, 'max_depth': 11, 'reg_lambda': 0.008574928499238238}. Best is trial 81 with value: 6.8650211138459625.\u001b[0m\n",
      "\u001b[32m[I 2022-01-11 05:17:33,358]\u001b[0m Trial 112 finished with value: 7.158963588575559 and parameters: {'learning_rate': 0.15636269621815807, 'gamma': 0.1905136037451261, 'alpha': 2.1798605660972536, 'max_depth': 11, 'reg_lambda': 0.021677105488538226}. Best is trial 81 with value: 6.8650211138459625.\u001b[0m\n",
      "\u001b[32m[I 2022-01-11 05:17:34,462]\u001b[0m Trial 113 finished with value: 7.161839293662816 and parameters: {'learning_rate': 0.1661265040973743, 'gamma': 0.28783486742637, 'alpha': 2.2242084658869468, 'max_depth': 11, 'reg_lambda': 0.010980295438930268}. Best is trial 81 with value: 6.8650211138459625.\u001b[0m\n",
      "\u001b[32m[I 2022-01-11 05:17:35,495]\u001b[0m Trial 114 finished with value: 7.343434880189589 and parameters: {'learning_rate': 0.24352219922751678, 'gamma': 0.37187367057096704, 'alpha': 2.245161988527189, 'max_depth': 11, 'reg_lambda': 0.011538717230081347}. Best is trial 81 with value: 6.8650211138459625.\u001b[0m\n",
      "\u001b[32m[I 2022-01-11 05:17:36,516]\u001b[0m Trial 115 finished with value: 8.271943992292 and parameters: {'learning_rate': 0.16796122569119865, 'gamma': 0.8635225032195177, 'alpha': 3.0670517351324174, 'max_depth': 11, 'reg_lambda': 0.010349586934961545}. Best is trial 81 with value: 6.8650211138459625.\u001b[0m\n",
      "\u001b[32m[I 2022-01-11 05:17:37,685]\u001b[0m Trial 116 finished with value: 7.143070138976618 and parameters: {'learning_rate': 0.19756629031049208, 'gamma': 0.21605856694633102, 'alpha': 1.999421474241238, 'max_depth': 12, 'reg_lambda': 0.01996072475770301}. Best is trial 81 with value: 6.8650211138459625.\u001b[0m\n",
      "\u001b[32m[I 2022-01-11 05:17:38,985]\u001b[0m Trial 117 finished with value: 7.211108933076171 and parameters: {'learning_rate': 0.21366605057395108, 'gamma': 0.2160695477556774, 'alpha': 1.2885856623261223, 'max_depth': 12, 'reg_lambda': 0.00842237598977386}. Best is trial 81 with value: 6.8650211138459625.\u001b[0m\n",
      "\u001b[32m[I 2022-01-11 05:17:40,421]\u001b[0m Trial 118 finished with value: 7.258833725298447 and parameters: {'learning_rate': 0.22300155325293006, 'gamma': 0.15984642430788693, 'alpha': 0.6757632666798337, 'max_depth': 12, 'reg_lambda': 0.008213784628355252}. Best is trial 81 with value: 6.8650211138459625.\u001b[0m\n",
      "\u001b[32m[I 2022-01-11 05:17:41,700]\u001b[0m Trial 119 finished with value: 7.502407094624486 and parameters: {'learning_rate': 0.3174647250675512, 'gamma': 0.7716143421805075, 'alpha': 1.2690070420327282, 'max_depth': 12, 'reg_lambda': 0.036191081615859766}. Best is trial 81 with value: 6.8650211138459625.\u001b[0m\n",
      "\u001b[32m[I 2022-01-11 05:17:42,873]\u001b[0m Trial 120 finished with value: 7.883227162875417 and parameters: {'learning_rate': 0.1893035892163784, 'gamma': 0.5037282236453575, 'alpha': 0.9622935179652017, 'max_depth': 11, 'reg_lambda': 0.02948083829310205}. Best is trial 81 with value: 6.8650211138459625.\u001b[0m\n",
      "\u001b[32m[I 2022-01-11 05:17:43,942]\u001b[0m Trial 121 finished with value: 7.2038074841693 and parameters: {'learning_rate': 0.13825239204552395, 'gamma': 0.1811858160092385, 'alpha': 2.083882276990053, 'max_depth': 12, 'reg_lambda': 0.006249422873588617}. Best is trial 81 with value: 6.8650211138459625.\u001b[0m\n",
      "\u001b[32m[I 2022-01-11 05:17:44,971]\u001b[0m Trial 122 finished with value: 7.0321810708011006 and parameters: {'learning_rate': 0.15064748478047615, 'gamma': 0.16016527767756383, 'alpha': 2.5329795982135894, 'max_depth': 12, 'reg_lambda': 0.006754640848602627}. Best is trial 81 with value: 6.8650211138459625.\u001b[0m\n",
      "\u001b[32m[I 2022-01-11 05:17:46,098]\u001b[0m Trial 123 finished with value: 7.448889523391859 and parameters: {'learning_rate': 0.2519529034166527, 'gamma': 0.4130851926396173, 'alpha': 2.595073836116799, 'max_depth': 12, 'reg_lambda': 0.01691380631905011}. Best is trial 81 with value: 6.8650211138459625.\u001b[0m\n",
      "\u001b[32m[I 2022-01-11 05:17:46,866]\u001b[0m Trial 124 finished with value: 7.614454036155463 and parameters: {'learning_rate': 0.17895584069288975, 'gamma': 0.006476893703805824, 'alpha': 9.024120015013601, 'max_depth': 12, 'reg_lambda': 0.0060921501335025816}. Best is trial 81 with value: 6.8650211138459625.\u001b[0m\n",
      "\u001b[32m[I 2022-01-11 05:17:48,104]\u001b[0m Trial 125 finished with value: 7.971607732851789 and parameters: {'learning_rate': 0.1374437389289443, 'gamma': 0.9807652196145046, 'alpha': 1.6778146968802992, 'max_depth': 12, 'reg_lambda': 0.0033188273902816996}. Best is trial 81 with value: 6.8650211138459625.\u001b[0m\n",
      "\u001b[32m[I 2022-01-11 05:17:49,186]\u001b[0m Trial 126 finished with value: 7.879988729228342 and parameters: {'learning_rate': 0.2069575617427675, 'gamma': 0.5927476218234502, 'alpha': 2.8475327678292044, 'max_depth': 12, 'reg_lambda': 0.023924276034062015}. Best is trial 81 with value: 6.8650211138459625.\u001b[0m\n",
      "\u001b[32m[I 2022-01-11 05:17:50,611]\u001b[0m Trial 127 finished with value: 10.852425761938676 and parameters: {'learning_rate': 0.37783781546270795, 'gamma': 8.307077941617187, 'alpha': 1.8838920002938997, 'max_depth': 12, 'reg_lambda': 0.014776815860629573}. Best is trial 81 with value: 6.8650211138459625.\u001b[0m\n",
      "\u001b[32m[I 2022-01-11 05:17:51,838]\u001b[0m Trial 128 finished with value: 10.357446363443495 and parameters: {'learning_rate': 0.16571678054433517, 'gamma': 4.638425200887855, 'alpha': 2.4769390499940127, 'max_depth': 12, 'reg_lambda': 0.005887662454190069}. Best is trial 81 with value: 6.8650211138459625.\u001b[0m\n",
      "\u001b[32m[I 2022-01-11 05:17:52,973]\u001b[0m Trial 129 finished with value: 7.294295004036101 and parameters: {'learning_rate': 0.28324145433143494, 'gamma': 0.18157289125581044, 'alpha': 1.435871511751012, 'max_depth': 11, 'reg_lambda': 0.009103112841929363}. Best is trial 81 with value: 6.8650211138459625.\u001b[0m\n",
      "\u001b[32m[I 2022-01-11 05:17:54,167]\u001b[0m Trial 130 finished with value: 7.898419865103874 and parameters: {'learning_rate': 0.4950453742849194, 'gamma': 0.41963044535116545, 'alpha': 2.7066940927348213, 'max_depth': 13, 'reg_lambda': 0.008065885481468355}. Best is trial 81 with value: 6.8650211138459625.\u001b[0m\n",
      "\u001b[32m[I 2022-01-11 05:17:55,217]\u001b[0m Trial 131 finished with value: 7.24997814988836 and parameters: {'learning_rate': 0.1371334734810768, 'gamma': 0.21955096110778072, 'alpha': 2.079792084174228, 'max_depth': 11, 'reg_lambda': 0.0046580661208829865}. Best is trial 81 with value: 6.8650211138459625.\u001b[0m\n",
      "\u001b[32m[I 2022-01-11 05:17:56,219]\u001b[0m Trial 132 finished with value: 7.589075155372433 and parameters: {'learning_rate': 0.22818317645652972, 'gamma': 0.14518707026946046, 'alpha': 2.371204981183493, 'max_depth': 10, 'reg_lambda': 0.0072501787477721675}. Best is trial 81 with value: 6.8650211138459625.\u001b[0m\n",
      "\u001b[32m[I 2022-01-11 05:17:57,287]\u001b[0m Trial 133 finished with value: 7.579035270801694 and parameters: {'learning_rate': 0.15411386570873084, 'gamma': 0.6485610329392398, 'alpha': 1.7902038857712435, 'max_depth': 11, 'reg_lambda': 0.021938429826856468}. Best is trial 81 with value: 6.8650211138459625.\u001b[0m\n",
      "\u001b[32m[I 2022-01-11 05:17:58,232]\u001b[0m Trial 134 finished with value: 7.021784782910645 and parameters: {'learning_rate': 0.12032633936659673, 'gamma': 0.024806845870265715, 'alpha': 3.0630936270109568, 'max_depth': 12, 'reg_lambda': 0.010746587214673945}. Best is trial 81 with value: 6.8650211138459625.\u001b[0m\n",
      "\u001b[32m[I 2022-01-11 05:17:59,187]\u001b[0m Trial 135 finished with value: 7.196866256373665 and parameters: {'learning_rate': 0.12685505135179445, 'gamma': 0.014622221473386848, 'alpha': 3.0609414896593874, 'max_depth': 12, 'reg_lambda': 0.012273977263524494}. Best is trial 81 with value: 6.8650211138459625.\u001b[0m\n",
      "\u001b[32m[I 2022-01-11 05:18:00,134]\u001b[0m Trial 136 finished with value: 7.1159394292452705 and parameters: {'learning_rate': 0.11950550032496415, 'gamma': 0.02043864071843371, 'alpha': 3.1286206040514983, 'max_depth': 12, 'reg_lambda': 0.012478886717976454}. Best is trial 81 with value: 6.8650211138459625.\u001b[0m\n",
      "\u001b[32m[I 2022-01-11 05:18:01,087]\u001b[0m Trial 137 finished with value: 7.831163365134669 and parameters: {'learning_rate': 0.11574270777025902, 'gamma': 0.3878388693876144, 'alpha': 3.0654446654723277, 'max_depth': 13, 'reg_lambda': 0.013829491149813902}. Best is trial 81 with value: 6.8650211138459625.\u001b[0m\n",
      "\u001b[32m[I 2022-01-11 05:18:02,052]\u001b[0m Trial 138 finished with value: 8.095242047406687 and parameters: {'learning_rate': 0.09846765822252199, 'gamma': 0.7743124641356882, 'alpha': 3.29662823342913, 'max_depth': 12, 'reg_lambda': 0.04650579983610427}. Best is trial 81 with value: 6.8650211138459625.\u001b[0m\n",
      "\u001b[32m[I 2022-01-11 05:18:03,015]\u001b[0m Trial 139 finished with value: 7.224696652227351 and parameters: {'learning_rate': 0.18090684180509642, 'gamma': 0.012579653996461401, 'alpha': 2.9834002840727174, 'max_depth': 12, 'reg_lambda': 0.010827209020637135}. Best is trial 81 with value: 6.8650211138459625.\u001b[0m\n",
      "\u001b[32m[I 2022-01-11 05:18:03,888]\u001b[0m Trial 140 finished with value: 9.159123413120971 and parameters: {'learning_rate': 0.06531053185838447, 'gamma': 0.4852339695635727, 'alpha': 3.603432374611039, 'max_depth': 13, 'reg_lambda': 0.01752521840077775}. Best is trial 81 with value: 6.8650211138459625.\u001b[0m\n",
      "\u001b[32m[I 2022-01-11 05:18:04,814]\u001b[0m Trial 141 finished with value: 7.348129575456159 and parameters: {'learning_rate': 0.12050809062210455, 'gamma': 0.007957373840167675, 'alpha': 3.4091273767920702, 'max_depth': 12, 'reg_lambda': 0.015671895306155016}. Best is trial 81 with value: 6.8650211138459625.\u001b[0m\n",
      "\u001b[32m[I 2022-01-11 05:18:05,846]\u001b[0m Trial 142 finished with value: 7.399094227224688 and parameters: {'learning_rate': 0.1640895205028705, 'gamma': 0.3320073778767623, 'alpha': 2.785438932494559, 'max_depth': 12, 'reg_lambda': 0.03430257881055165}. Best is trial 81 with value: 6.8650211138459625.\u001b[0m\n",
      "\u001b[32m[I 2022-01-11 05:18:06,801]\u001b[0m Trial 143 finished with value: 7.246784862980495 and parameters: {'learning_rate': 0.12226946925220922, 'gamma': 0.0035724994180370284, 'alpha': 2.616335629076957, 'max_depth': 12, 'reg_lambda': 0.028631596486354407}. Best is trial 81 with value: 6.8650211138459625.\u001b[0m\n",
      "\u001b[32m[I 2022-01-11 05:18:07,840]\u001b[0m Trial 144 finished with value: 7.8805715931113465 and parameters: {'learning_rate': 0.25363214736295536, 'gamma': 0.6347451093130992, 'alpha': 3.1806473818038192, 'max_depth': 13, 'reg_lambda': 0.19673523188134165}. Best is trial 81 with value: 6.8650211138459625.\u001b[0m\n",
      "\u001b[32m[I 2022-01-11 05:18:08,920]\u001b[0m Trial 145 finished with value: 7.597206909626454 and parameters: {'learning_rate': 0.14430908286262828, 'gamma': 0.3690067390136515, 'alpha': 2.427739774548981, 'max_depth': 12, 'reg_lambda': 0.1400460972568462}. Best is trial 81 with value: 6.8650211138459625.\u001b[0m\n",
      "\u001b[32m[I 2022-01-11 05:18:09,981]\u001b[0m Trial 146 finished with value: 7.821486994255632 and parameters: {'learning_rate': 0.19454429679136978, 'gamma': 1.0590812533664544, 'alpha': 2.1838863591945183, 'max_depth': 11, 'reg_lambda': 0.009709564393480715}. Best is trial 81 with value: 6.8650211138459625.\u001b[0m\n",
      "\u001b[32m[I 2022-01-11 05:18:11,050]\u001b[0m Trial 147 finished with value: 7.046400781639226 and parameters: {'learning_rate': 0.10362888577610249, 'gamma': 0.1976439114478297, 'alpha': 1.9236256323544072, 'max_depth': 13, 'reg_lambda': 0.01263912302718768}. Best is trial 81 with value: 6.8650211138459625.\u001b[0m\n",
      "\u001b[32m[I 2022-01-11 05:18:12,048]\u001b[0m Trial 148 finished with value: 8.442654387550686 and parameters: {'learning_rate': 0.0827841731821867, 'gamma': 0.7984494016682603, 'alpha': 2.787481785611802, 'max_depth': 13, 'reg_lambda': 0.019754433395727845}. Best is trial 81 with value: 6.8650211138459625.\u001b[0m\n",
      "\u001b[32m[I 2022-01-11 05:18:13,280]\u001b[0m Trial 149 finished with value: 7.091212555936373 and parameters: {'learning_rate': 0.2930860402121589, 'gamma': 0.5544878215632556, 'alpha': 1.9351612291121039, 'max_depth': 13, 'reg_lambda': 0.012534896653699794}. Best is trial 81 with value: 6.8650211138459625.\u001b[0m\n",
      "\u001b[32m[I 2022-01-11 05:18:14,532]\u001b[0m Trial 150 finished with value: 8.392822773600091 and parameters: {'learning_rate': 0.3679821467565903, 'gamma': 0.4792322047724136, 'alpha': 1.915602919757869, 'max_depth': 13, 'reg_lambda': 0.014246861924971025}. Best is trial 81 with value: 6.8650211138459625.\u001b[0m\n",
      "\u001b[32m[I 2022-01-11 05:18:15,780]\u001b[0m Trial 151 finished with value: 7.347011029949558 and parameters: {'learning_rate': 0.3078709749613908, 'gamma': 0.32602481803584654, 'alpha': 1.6516062875526258, 'max_depth': 13, 'reg_lambda': 0.01162328142956127}. Best is trial 81 with value: 6.8650211138459625.\u001b[0m\n",
      "\u001b[32m[I 2022-01-11 05:18:17,044]\u001b[0m Trial 152 finished with value: 7.12343615166293 and parameters: {'learning_rate': 0.2163095783360008, 'gamma': 0.6409071320707065, 'alpha': 2.5079176046904115, 'max_depth': 13, 'reg_lambda': 0.012588287980398488}. Best is trial 81 with value: 6.8650211138459625.\u001b[0m\n",
      "\u001b[32m[I 2022-01-11 05:18:18,140]\u001b[0m Trial 153 finished with value: 7.2990253658150195 and parameters: {'learning_rate': 0.2336529726713363, 'gamma': 0.6160181424037761, 'alpha': 2.335155540795457, 'max_depth': 13, 'reg_lambda': 0.026630604755448376}. Best is trial 81 with value: 6.8650211138459625.\u001b[0m\n",
      "\u001b[32m[I 2022-01-11 05:18:19,390]\u001b[0m Trial 154 finished with value: 8.075352308876809 and parameters: {'learning_rate': 0.2743318251522633, 'gamma': 0.8603494602119528, 'alpha': 2.5646670889307694, 'max_depth': 14, 'reg_lambda': 0.020475062049029328}. Best is trial 81 with value: 6.8650211138459625.\u001b[0m\n",
      "\u001b[32m[I 2022-01-11 05:18:20,563]\u001b[0m Trial 155 finished with value: 7.03349741078713 and parameters: {'learning_rate': 0.1884485490918934, 'gamma': 0.21373997033156017, 'alpha': 1.9179883709754844, 'max_depth': 13, 'reg_lambda': 0.06720925464318861}. Best is trial 81 with value: 6.8650211138459625.\u001b[0m\n",
      "\u001b[32m[I 2022-01-11 05:18:21,813]\u001b[0m Trial 156 finished with value: 7.2660785607614 and parameters: {'learning_rate': 0.18743283991477497, 'gamma': 0.5508688349074597, 'alpha': 1.9660651856933835, 'max_depth': 13, 'reg_lambda': 0.05411142001890179}. Best is trial 81 with value: 6.8650211138459625.\u001b[0m\n",
      "\u001b[32m[I 2022-01-11 05:18:23,035]\u001b[0m Trial 157 finished with value: 7.425748011037293 and parameters: {'learning_rate': 0.30959277297499227, 'gamma': 0.2678324985598063, 'alpha': 1.5962217672645767, 'max_depth': 13, 'reg_lambda': 0.016722448120122527}. Best is trial 81 with value: 6.8650211138459625.\u001b[0m\n",
      "\u001b[32m[I 2022-01-11 05:18:24,238]\u001b[0m Trial 158 finished with value: 8.076859165084658 and parameters: {'learning_rate': 0.23208420633639276, 'gamma': 1.1437460122725098, 'alpha': 2.321917950594791, 'max_depth': 13, 'reg_lambda': 0.1652456756231028}. Best is trial 81 with value: 6.8650211138459625.\u001b[0m\n",
      "\u001b[32m[I 2022-01-11 05:18:24,999]\u001b[0m Trial 159 finished with value: 108.25208784355615 and parameters: {'learning_rate': 0.015479241933974704, 'gamma': 0.6936405577250038, 'alpha': 1.7355968943865534, 'max_depth': 14, 'reg_lambda': 0.10060161019128512}. Best is trial 81 with value: 6.8650211138459625.\u001b[0m\n",
      "\u001b[32m[I 2022-01-11 05:18:26,090]\u001b[0m Trial 160 finished with value: 7.51582541542257 and parameters: {'learning_rate': 0.10322102743181757, 'gamma': 0.4217582092329625, 'alpha': 2.001643897029941, 'max_depth': 13, 'reg_lambda': 0.01252509136758825}. Best is trial 81 with value: 6.8650211138459625.\u001b[0m\n",
      "\u001b[32m[I 2022-01-11 05:18:27,260]\u001b[0m Trial 161 finished with value: 7.200176189805798 and parameters: {'learning_rate': 0.19558936833729984, 'gamma': 0.18662604175476577, 'alpha': 2.422091886808432, 'max_depth': 14, 'reg_lambda': 0.009883292167602298}. Best is trial 81 with value: 6.8650211138459625.\u001b[0m\n",
      "\u001b[32m[I 2022-01-11 05:18:28,364]\u001b[0m Trial 162 finished with value: 7.381546736852375 and parameters: {'learning_rate': 0.17111080144941812, 'gamma': 0.25226038011084106, 'alpha': 2.1806868576259513, 'max_depth': 12, 'reg_lambda': 0.0751597269852574}. Best is trial 81 with value: 6.8650211138459625.\u001b[0m\n",
      "\u001b[32m[I 2022-01-11 05:18:29,508]\u001b[0m Trial 163 finished with value: 7.804996269597766 and parameters: {'learning_rate': 0.15891309190114794, 'gamma': 0.48288537661093384, 'alpha': 2.589190083006688, 'max_depth': 13, 'reg_lambda': 0.018309098439095478}. Best is trial 81 with value: 6.8650211138459625.\u001b[0m\n",
      "\u001b[32m[I 2022-01-11 05:18:30,141]\u001b[0m Trial 164 finished with value: 6.886369060927573 and parameters: {'learning_rate': 0.20994682620286634, 'gamma': 0.0015964212667345934, 'alpha': 2.877542345120033, 'max_depth': 6, 'reg_lambda': 0.3752750014581489}. Best is trial 81 with value: 6.8650211138459625.\u001b[0m\n",
      "\u001b[32m[I 2022-01-11 05:18:30,611]\u001b[0m Trial 165 finished with value: 8.457189224500624 and parameters: {'learning_rate': 0.21395938521538366, 'gamma': 0.01988886422019548, 'alpha': 2.848010855769772, 'max_depth': 4, 'reg_lambda': 0.37267387021492077}. Best is trial 81 with value: 6.8650211138459625.\u001b[0m\n",
      "\u001b[32m[I 2022-01-11 05:18:31,680]\u001b[0m Trial 166 finished with value: 7.134859372940497 and parameters: {'learning_rate': 0.2803485783388341, 'gamma': 0.3480876229823128, 'alpha': 1.905529044543574, 'max_depth': 11, 'reg_lambda': 0.04145955980962543}. Best is trial 81 with value: 6.8650211138459625.\u001b[0m\n",
      "\u001b[32m[I 2022-01-11 05:18:32,226]\u001b[0m Trial 167 finished with value: 10.781220100529369 and parameters: {'learning_rate': 0.42914459096203195, 'gamma': 5.660258320808717, 'alpha': 1.4452399747092952, 'max_depth': 5, 'reg_lambda': 0.038487199359801175}. Best is trial 81 with value: 6.8650211138459625.\u001b[0m\n",
      "\u001b[32m[I 2022-01-11 05:18:33,039]\u001b[0m Trial 168 finished with value: 7.324582066917686 and parameters: {'learning_rate': 0.34834756649366944, 'gamma': 0.6767537159555428, 'alpha': 1.821583988142694, 'max_depth': 7, 'reg_lambda': 0.030629388522258723}. Best is trial 81 with value: 6.8650211138459625.\u001b[0m\n",
      "\u001b[32m[I 2022-01-11 05:18:34,225]\u001b[0m Trial 169 finished with value: 8.69722019670826 and parameters: {'learning_rate': 0.27640726058058496, 'gamma': 0.9647252508432201, 'alpha': 1.9668413998016787, 'max_depth': 12, 'reg_lambda': 0.23066507004696873}. Best is trial 81 with value: 6.8650211138459625.\u001b[0m\n",
      "\u001b[32m[I 2022-01-11 05:18:34,610]\u001b[0m Trial 170 finished with value: 8.28543202762118 and parameters: {'learning_rate': 0.2614716906076437, 'gamma': 0.18603704926461398, 'alpha': 1.1161027873028815, 'max_depth': 3, 'reg_lambda': 0.044290304009644475}. Best is trial 81 with value: 6.8650211138459625.\u001b[0m\n",
      "\u001b[32m[I 2022-01-11 05:18:35,687]\u001b[0m Trial 171 finished with value: 7.432628198687481 and parameters: {'learning_rate': 0.21278469584121232, 'gamma': 0.3496024706754671, 'alpha': 2.2218733838899247, 'max_depth': 11, 'reg_lambda': 0.026185205491730767}. Best is trial 81 with value: 6.8650211138459625.\u001b[0m\n",
      "\u001b[32m[I 2022-01-11 05:18:36,571]\u001b[0m Trial 172 finished with value: 7.088405857666665 and parameters: {'learning_rate': 0.1602125676084035, 'gamma': 0.005910674263562371, 'alpha': 2.4854887742448937, 'max_depth': 10, 'reg_lambda': 0.015447435413171114}. Best is trial 81 with value: 6.8650211138459625.\u001b[0m\n",
      "\u001b[32m[I 2022-01-11 05:18:37,470]\u001b[0m Trial 173 finished with value: 7.047227613110524 and parameters: {'learning_rate': 0.13997525401010727, 'gamma': 0.023861345103964343, 'alpha': 2.523184850707222, 'max_depth': 10, 'reg_lambda': 0.015680852393150924}. Best is trial 81 with value: 6.8650211138459625.\u001b[0m\n",
      "\u001b[32m[I 2022-01-11 05:18:38,107]\u001b[0m Trial 174 finished with value: 7.002616534982582 and parameters: {'learning_rate': 0.1254976739380091, 'gamma': 0.027624795143687986, 'alpha': 2.7247477868050596, 'max_depth': 6, 'reg_lambda': 0.014645409971082757}. Best is trial 81 with value: 6.8650211138459625.\u001b[0m\n",
      "\u001b[32m[I 2022-01-11 05:18:38,743]\u001b[0m Trial 175 finished with value: 7.1859110722605175 and parameters: {'learning_rate': 0.12941304543140694, 'gamma': 0.01325364044071982, 'alpha': 2.7608704928971837, 'max_depth': 6, 'reg_lambda': 0.3059287238499783}. Best is trial 81 with value: 6.8650211138459625.\u001b[0m\n",
      "\u001b[32m[I 2022-01-11 05:18:39,392]\u001b[0m Trial 176 finished with value: 6.978290297079423 and parameters: {'learning_rate': 0.10930176236543279, 'gamma': 0.1627945674451137, 'alpha': 2.492281017927915, 'max_depth': 6, 'reg_lambda': 0.01544523885793667}. Best is trial 81 with value: 6.8650211138459625.\u001b[0m\n",
      "\u001b[32m[I 2022-01-11 05:18:40,027]\u001b[0m Trial 177 finished with value: 7.241515619797085 and parameters: {'learning_rate': 0.10315883520723416, 'gamma': 0.02516196061508652, 'alpha': 2.9426770297675056, 'max_depth': 6, 'reg_lambda': 0.015011593611111344}. Best is trial 81 with value: 6.8650211138459625.\u001b[0m\n",
      "\u001b[32m[I 2022-01-11 05:18:40,675]\u001b[0m Trial 178 finished with value: 8.174191539959809 and parameters: {'learning_rate': 0.07079531523326225, 'gamma': 0.37359080024620506, 'alpha': 2.4487753450966716, 'max_depth': 6, 'reg_lambda': 0.00723405673162309}. Best is trial 81 with value: 6.8650211138459625.\u001b[0m\n",
      "\u001b[32m[I 2022-01-11 05:18:41,314]\u001b[0m Trial 179 finished with value: 6.867967270251621 and parameters: {'learning_rate': 0.09736803112370572, 'gamma': 0.16998502043707228, 'alpha': 2.644686744447278, 'max_depth': 6, 'reg_lambda': 0.004982999887824187}. Best is trial 81 with value: 6.8650211138459625.\u001b[0m\n",
      "\u001b[32m[I 2022-01-11 05:18:41,956]\u001b[0m Trial 180 finished with value: 7.743870431987506 and parameters: {'learning_rate': 0.08455659356145043, 'gamma': 0.1577871276449046, 'alpha': 2.6991604843004193, 'max_depth': 6, 'reg_lambda': 0.4269076088196434}. Best is trial 81 with value: 6.8650211138459625.\u001b[0m\n",
      "\u001b[32m[I 2022-01-11 05:18:42,806]\u001b[0m Trial 181 finished with value: 7.517778814082034 and parameters: {'learning_rate': 0.11082565788197696, 'gamma': 0.007952841723773751, 'alpha': 2.4977249574619425, 'max_depth': 9, 'reg_lambda': 0.002937431015366487}. Best is trial 81 with value: 6.8650211138459625.\u001b[0m\n",
      "\u001b[32m[I 2022-01-11 05:18:43,544]\u001b[0m Trial 182 finished with value: 7.655051004005315 and parameters: {'learning_rate': 0.13440888506052087, 'gamma': 0.41370566919506135, 'alpha': 3.1372560825324354, 'max_depth': 7, 'reg_lambda': 0.012655511585113027}. Best is trial 81 with value: 6.8650211138459625.\u001b[0m\n",
      "\u001b[32m[I 2022-01-11 05:18:44,189]\u001b[0m Trial 183 finished with value: 190.8642855085106 and parameters: {'learning_rate': 0.0033301212405995972, 'gamma': 0.17821851137729838, 'alpha': 2.925920310002938, 'max_depth': 6, 'reg_lambda': 0.005060828993665108}. Best is trial 81 with value: 6.8650211138459625.\u001b[0m\n",
      "\u001b[32m[I 2022-01-11 05:18:44,830]\u001b[0m Trial 184 finished with value: 7.9648003415613084 and parameters: {'learning_rate': 0.09925680270300707, 'gamma': 0.4832192167472209, 'alpha': 2.3815735925386656, 'max_depth': 6, 'reg_lambda': 0.1245723573379136}. Best is trial 81 with value: 6.8650211138459625.\u001b[0m\n",
      "\u001b[32m[I 2022-01-11 05:18:45,823]\u001b[0m Trial 185 finished with value: 9.909530100336852 and parameters: {'learning_rate': 0.148536487055677, 'gamma': 3.2471559823595406, 'alpha': 2.6094227830495678, 'max_depth': 10, 'reg_lambda': 0.007301783869761558}. Best is trial 81 with value: 6.8650211138459625.\u001b[0m\n",
      "\u001b[32m[I 2022-01-11 05:18:46,474]\u001b[0m Trial 186 finished with value: 7.850464943573576 and parameters: {'learning_rate': 0.11836269020368936, 'gamma': 0.3553355072650398, 'alpha': 2.745825405489489, 'max_depth': 6, 'reg_lambda': 0.00961001778648212}. Best is trial 81 with value: 6.8650211138459625.\u001b[0m\n",
      "\u001b[32m[I 2022-01-11 05:18:47,027]\u001b[0m Trial 187 finished with value: 7.400801922647192 and parameters: {'learning_rate': 0.1751250692916191, 'gamma': 0.014397884952891753, 'alpha': 1.7641508421427325, 'max_depth': 5, 'reg_lambda': 0.003842312460442378}. Best is trial 81 with value: 6.8650211138459625.\u001b[0m\n",
      "\u001b[32m[I 2022-01-11 05:18:47,865]\u001b[0m Trial 188 finished with value: 7.872396382501079 and parameters: {'learning_rate': 0.12661644660379873, 'gamma': 0.592887074594739, 'alpha': 2.128145229879392, 'max_depth': 8, 'reg_lambda': 0.19115489279730769}. Best is trial 81 with value: 6.8650211138459625.\u001b[0m\n",
      "\u001b[32m[I 2022-01-11 05:18:48,591]\u001b[0m Trial 189 finished with value: 7.095824624531397 and parameters: {'learning_rate': 0.148583335231167, 'gamma': 0.29163053928724475, 'alpha': 2.3335635528816767, 'max_depth': 7, 'reg_lambda': 0.005417583171870605}. Best is trial 81 with value: 6.8650211138459625.\u001b[0m\n",
      "\u001b[32m[I 2022-01-11 05:18:49,345]\u001b[0m Trial 190 finished with value: 6.964417269682747 and parameters: {'learning_rate': 0.14513629489250493, 'gamma': 0.18859078380343175, 'alpha': 2.4204380278998143, 'max_depth': 7, 'reg_lambda': 0.6802736973104276}. Best is trial 81 with value: 6.8650211138459625.\u001b[0m\n",
      "\u001b[32m[I 2022-01-11 05:18:50,072]\u001b[0m Trial 191 finished with value: 7.040722869271991 and parameters: {'learning_rate': 0.09326555501552533, 'gamma': 0.21392448987996024, 'alpha': 2.3382800140584776, 'max_depth': 7, 'reg_lambda': 0.005499995773196847}. Best is trial 81 with value: 6.8650211138459625.\u001b[0m\n",
      "\u001b[32m[I 2022-01-11 05:18:50,804]\u001b[0m Trial 192 finished with value: 7.284533822751876 and parameters: {'learning_rate': 0.08973249657841434, 'gamma': 0.23505508202287898, 'alpha': 2.266383204979985, 'max_depth': 7, 'reg_lambda': 0.005154878532341212}. Best is trial 81 with value: 6.8650211138459625.\u001b[0m\n",
      "\u001b[32m[I 2022-01-11 05:18:51,527]\u001b[0m Trial 193 finished with value: 7.812988215457563 and parameters: {'learning_rate': 0.10729341936246532, 'gamma': 0.1752097132375662, 'alpha': 2.974150318296042, 'max_depth': 7, 'reg_lambda': 0.0060037979414794196}. Best is trial 81 with value: 6.8650211138459625.\u001b[0m\n",
      "\u001b[32m[I 2022-01-11 05:18:52,243]\u001b[0m Trial 194 finished with value: 7.214520589133287 and parameters: {'learning_rate': 0.13227725054972686, 'gamma': 0.016774179435576242, 'alpha': 2.3537639129059964, 'max_depth': 7, 'reg_lambda': 0.6290711314553905}. Best is trial 81 with value: 6.8650211138459625.\u001b[0m\n",
      "\u001b[32m[I 2022-01-11 05:18:52,802]\u001b[0m Trial 195 finished with value: 7.398416472010708 and parameters: {'learning_rate': 0.1533238357640736, 'gamma': 0.20575396542040694, 'alpha': 2.6794310052512595, 'max_depth': 5, 'reg_lambda': 0.7253900504611117}. Best is trial 81 with value: 6.8650211138459625.\u001b[0m\n",
      "\u001b[32m[I 2022-01-11 05:18:53,442]\u001b[0m Trial 196 finished with value: 10.61631374925066 and parameters: {'learning_rate': 0.05352037206116592, 'gamma': 0.39481903327144124, 'alpha': 2.491492423352674, 'max_depth': 6, 'reg_lambda': 0.24996889994118565}. Best is trial 81 with value: 6.8650211138459625.\u001b[0m\n",
      "\u001b[32m[I 2022-01-11 05:18:54,233]\u001b[0m Trial 197 finished with value: 7.5807029950304265 and parameters: {'learning_rate': 0.07338997208655061, 'gamma': 0.17421190243109547, 'alpha': 2.0589519620138907, 'max_depth': 8, 'reg_lambda': 0.0037520230725357016}. Best is trial 81 with value: 6.8650211138459625.\u001b[0m\n",
      "\u001b[32m[I 2022-01-11 05:18:54,935]\u001b[0m Trial 198 finished with value: 7.258798346931039 and parameters: {'learning_rate': 0.09453401193612987, 'gamma': 0.008021945311874033, 'alpha': 3.249031872219272, 'max_depth': 7, 'reg_lambda': 0.0013311701702340716}. Best is trial 81 with value: 6.8650211138459625.\u001b[0m\n",
      "\u001b[32m[I 2022-01-11 05:18:55,587]\u001b[0m Trial 199 finished with value: 197.55506512917702 and parameters: {'learning_rate': 0.0001098119633662446, 'gamma': 0.4873454091742362, 'alpha': 2.827683240351083, 'max_depth': 6, 'reg_lambda': 0.006897028454668801}. Best is trial 81 with value: 6.8650211138459625.\u001b[0m\n"
     ]
    },
    {
     "name": "stdout",
     "output_type": "stream",
     "text": [
      "Number of finished trials: 200\n",
      "Best Params:  {'learning_rate': 0.17004187706883167, 'gamma': 0.009638640724377645, 'alpha': 1.928728380121548, 'max_depth': 14, 'reg_lambda': 0.8119670489027239}\n"
     ]
    }
   ],
   "source": [
    "study = optuna.create_study(direction = \"minimize\")\n",
    "study.optimize(hp_tuning, n_trials=200)\n",
    "print('Number of finished trials:', len(study.trials))\n",
    "print(\"Best Params: \",study.best_params)"
   ]
  },
  {
   "cell_type": "code",
   "execution_count": 33,
   "id": "2fc7f9a5-4e53-4421-90f1-9680aa8cddca",
   "metadata": {},
   "outputs": [
    {
     "data": {
      "text/plain": [
       "{'learning_rate': 0.17004187706883167,\n",
       " 'gamma': 0.009638640724377645,\n",
       " 'alpha': 1.928728380121548,\n",
       " 'max_depth': 14,\n",
       " 'reg_lambda': 0.8119670489027239}"
      ]
     },
     "execution_count": 33,
     "metadata": {},
     "output_type": "execute_result"
    }
   ],
   "source": [
    "study.best_params"
   ]
  },
  {
   "cell_type": "code",
   "execution_count": 36,
   "id": "aa62c2e6-d8c0-4f6c-8490-4c9a1435442e",
   "metadata": {},
   "outputs": [],
   "source": [
    "model = XGBRegressor(learning_rate = study.best_params['learning_rate'], gamma = study.best_params['gamma'],\n",
    "                     alpha = study.best_params['alpha'], max_depth = study.best_params['max_depth'],\n",
    "                     reg_lambda = study.best_params['reg_lambda'])"
   ]
  },
  {
   "cell_type": "code",
   "execution_count": 37,
   "id": "84b72fb4-4807-473c-9f26-d2af3be4a1b6",
   "metadata": {},
   "outputs": [
    {
     "data": {
      "text/plain": [
       "XGBRegressor(alpha=1.928728380121548, base_score=0.5, booster='gbtree',\n",
       "             colsample_bylevel=1, colsample_bynode=1, colsample_bytree=1,\n",
       "             enable_categorical=False, gamma=0.009638640724377645, gpu_id=-1,\n",
       "             importance_type=None, interaction_constraints='',\n",
       "             learning_rate=0.17004187706883167, max_delta_step=0, max_depth=14,\n",
       "             min_child_weight=1, missing=nan, monotone_constraints='()',\n",
       "             n_estimators=100, n_jobs=7, num_parallel_tree=1, predictor='auto',\n",
       "             random_state=0, reg_alpha=1.92872834,\n",
       "             reg_lambda=0.8119670489027239, scale_pos_weight=1, subsample=1,\n",
       "             tree_method='exact', validate_parameters=1, verbosity=None)"
      ]
     },
     "execution_count": 37,
     "metadata": {},
     "output_type": "execute_result"
    }
   ],
   "source": [
    "model.fit(xs, y)"
   ]
  },
  {
   "cell_type": "code",
   "execution_count": 38,
   "id": "f8b7a199-d84a-45cb-9a89-c0ca52d49739",
   "metadata": {},
   "outputs": [
    {
     "data": {
      "text/plain": [
       "0.732540580094194"
      ]
     },
     "execution_count": 38,
     "metadata": {},
     "output_type": "execute_result"
    }
   ],
   "source": [
    "cal_smape(model.predict(xs), y)"
   ]
  },
  {
   "cell_type": "code",
   "execution_count": 39,
   "id": "120e2d50-7af3-470b-ba8f-438b79b24ee7",
   "metadata": {},
   "outputs": [
    {
     "data": {
      "text/plain": [
       "1.1831831605186387"
      ]
     },
     "execution_count": 39,
     "metadata": {},
     "output_type": "execute_result"
    }
   ],
   "source": [
    "cal_smape(model.predict(valid_xs), valid_y)"
   ]
  },
  {
   "cell_type": "code",
   "execution_count": 40,
   "id": "66f6864c-b8bc-4cd9-8c0f-9ff93898b301",
   "metadata": {},
   "outputs": [],
   "source": [
    "test = pd.read_csv(\"test.csv\")"
   ]
  },
  {
   "cell_type": "code",
   "execution_count": 41,
   "id": "90164083-e46a-44cc-83af-98ea5cefe2cd",
   "metadata": {},
   "outputs": [],
   "source": [
    "test[\"num_sold\"] = 0"
   ]
  },
  {
   "cell_type": "code",
   "execution_count": 42,
   "id": "4c1b70d5-60ad-480d-b9aa-776d157f23f9",
   "metadata": {},
   "outputs": [],
   "source": [
    "emb_dim = country_map['Finland'].shape[0]\n",
    "col_name = [f'country_emb_{i}' for i in range(1, emb_dim + 1)]\n",
    "test_emb_country = pd.DataFrame(test['country'].map(country_map).to_list(), columns = col_name)"
   ]
  },
  {
   "cell_type": "code",
   "execution_count": 43,
   "id": "818d57b9-15cd-4a13-beaa-4f6d89963772",
   "metadata": {},
   "outputs": [],
   "source": [
    "emb_dim = product_map['Kaggle Mug'].shape[0]\n",
    "col_name = [f'product_emb_{i}' for i in range(1, emb_dim + 1)]\n",
    "test_emb_product = pd.DataFrame(test['product'].map(product_map).to_list(), columns = col_name)"
   ]
  },
  {
   "cell_type": "code",
   "execution_count": 44,
   "id": "2153b19d-584c-4d3f-948e-74a6528c7b98",
   "metadata": {},
   "outputs": [],
   "source": [
    "emb_dim = store_map['KaggleMart'].shape[0]\n",
    "col_name = [f'store_emb_{i}' for i in range(1, emb_dim + 1)]\n",
    "test_emb_store = pd.DataFrame(test['store'].map(store_map).to_list(), columns = col_name)"
   ]
  },
  {
   "cell_type": "code",
   "execution_count": 45,
   "id": "6a2ee051-ea1d-4734-9cf5-a115f2e6d1d4",
   "metadata": {},
   "outputs": [],
   "source": [
    "cols = xs.columns"
   ]
  },
  {
   "cell_type": "code",
   "execution_count": 46,
   "id": "ffe4beb5-8036-40ba-92c9-3cefbeca02f9",
   "metadata": {},
   "outputs": [],
   "source": [
    "test_fn = pd.concat([test[[\"date\", \"num_sold\"]],test_emb_country, test_emb_product, test_emb_store ], axis = 1)"
   ]
  },
  {
   "cell_type": "code",
   "execution_count": 47,
   "id": "0bb5e3d7-7dd8-4e4f-b99a-25cf2ba7fed2",
   "metadata": {},
   "outputs": [],
   "source": [
    "test_fn = add_datepart(test_fn, 'date')"
   ]
  },
  {
   "cell_type": "code",
   "execution_count": 48,
   "id": "66b362e5-4e08-44cb-b382-56044e81c2bd",
   "metadata": {},
   "outputs": [],
   "source": [
    "to_test = TabularPandas(test_fn, procs, cat, cont, y_names = dep_var, splits = None)"
   ]
  },
  {
   "cell_type": "code",
   "execution_count": 49,
   "id": "2b7e7f42-ca88-450d-9db7-bc20096d1a17",
   "metadata": {},
   "outputs": [],
   "source": [
    "test_xs = to_test.train.xs"
   ]
  },
  {
   "cell_type": "code",
   "execution_count": 50,
   "id": "828c5f24-4e91-4dbb-ba07-2a7ecfb739ce",
   "metadata": {},
   "outputs": [],
   "source": [
    "preds_test = model.predict(test_xs)"
   ]
  },
  {
   "cell_type": "code",
   "execution_count": 51,
   "id": "3561dc9a-cf17-4e60-bcdf-0f768b7592b5",
   "metadata": {},
   "outputs": [
    {
     "data": {
      "text/plain": [
       "array([5.6141477, 6.108438 , 4.81558  , ..., 6.5863504, 7.2239237,\n",
       "       5.988612 ], dtype=float32)"
      ]
     },
     "execution_count": 51,
     "metadata": {},
     "output_type": "execute_result"
    }
   ],
   "source": [
    "preds_test"
   ]
  },
  {
   "cell_type": "code",
   "execution_count": 52,
   "id": "dd3b9c1d-ea00-474a-8403-6b34150a9358",
   "metadata": {},
   "outputs": [],
   "source": [
    "preds_test_inv = np.exp(preds_test)"
   ]
  },
  {
   "cell_type": "code",
   "execution_count": 53,
   "id": "bcc89994-f43d-410c-b334-8eb4e3904ebe",
   "metadata": {},
   "outputs": [],
   "source": [
    "ids = list(test[\"row_id\"].values)\n",
    "submission = pd.DataFrame()\n",
    "submission[\"row_id\"] = ids\n",
    "submission[\"num_sold\"] = list(preds_test_inv)"
   ]
  },
  {
   "cell_type": "code",
   "execution_count": 54,
   "id": "2e4bfa70-c8ad-4c3c-ad74-4143572ba734",
   "metadata": {},
   "outputs": [],
   "source": [
    "submission.to_csv(\"submission.csv\", index = False)"
   ]
  },
  {
   "cell_type": "code",
   "execution_count": 55,
   "id": "a85f33e6-a82d-4327-8bba-1fb8ea72ce49",
   "metadata": {},
   "outputs": [],
   "source": [
    "def rf_feat_importance(m, df):\n",
    "  return pd.DataFrame({'cols' : df.columns, 'imp' : m.feature_importances_}).sort_values(by = 'imp', ascending = False)"
   ]
  },
  {
   "cell_type": "code",
   "execution_count": 56,
   "id": "16c86e7f-312c-40c9-b0bc-26026966e715",
   "metadata": {},
   "outputs": [
    {
     "data": {
      "text/html": [
       "<div>\n",
       "<style scoped>\n",
       "    .dataframe tbody tr th:only-of-type {\n",
       "        vertical-align: middle;\n",
       "    }\n",
       "\n",
       "    .dataframe tbody tr th {\n",
       "        vertical-align: top;\n",
       "    }\n",
       "\n",
       "    .dataframe thead th {\n",
       "        text-align: right;\n",
       "    }\n",
       "</style>\n",
       "<table border=\"1\" class=\"dataframe\">\n",
       "  <thead>\n",
       "    <tr style=\"text-align: right;\">\n",
       "      <th></th>\n",
       "      <th>cols</th>\n",
       "      <th>imp</th>\n",
       "    </tr>\n",
       "  </thead>\n",
       "  <tbody>\n",
       "    <tr>\n",
       "      <th>6</th>\n",
       "      <td>store_emb_1</td>\n",
       "      <td>0.466867</td>\n",
       "    </tr>\n",
       "    <tr>\n",
       "      <th>9</th>\n",
       "      <td>product_emb_1</td>\n",
       "      <td>0.460176</td>\n",
       "    </tr>\n",
       "    <tr>\n",
       "      <th>12</th>\n",
       "      <td>country_emb_1</td>\n",
       "      <td>0.037249</td>\n",
       "    </tr>\n",
       "    <tr>\n",
       "      <th>19</th>\n",
       "      <td>Dayofweek</td>\n",
       "      <td>0.018492</td>\n",
       "    </tr>\n",
       "    <tr>\n",
       "      <th>20</th>\n",
       "      <td>Dayofyear</td>\n",
       "      <td>0.007207</td>\n",
       "    </tr>\n",
       "    <tr>\n",
       "      <th>17</th>\n",
       "      <td>Week</td>\n",
       "      <td>0.004519</td>\n",
       "    </tr>\n",
       "    <tr>\n",
       "      <th>21</th>\n",
       "      <td>Elapsed</td>\n",
       "      <td>0.001693</td>\n",
       "    </tr>\n",
       "    <tr>\n",
       "      <th>15</th>\n",
       "      <td>Year</td>\n",
       "      <td>0.001455</td>\n",
       "    </tr>\n",
       "    <tr>\n",
       "      <th>16</th>\n",
       "      <td>Month</td>\n",
       "      <td>0.000760</td>\n",
       "    </tr>\n",
       "    <tr>\n",
       "      <th>4</th>\n",
       "      <td>Is_year_end</td>\n",
       "      <td>0.000384</td>\n",
       "    </tr>\n",
       "  </tbody>\n",
       "</table>\n",
       "</div>"
      ],
      "text/plain": [
       "             cols       imp\n",
       "6     store_emb_1  0.466867\n",
       "9   product_emb_1  0.460176\n",
       "12  country_emb_1  0.037249\n",
       "19      Dayofweek  0.018492\n",
       "20      Dayofyear  0.007207\n",
       "17           Week  0.004519\n",
       "21        Elapsed  0.001693\n",
       "15           Year  0.001455\n",
       "16          Month  0.000760\n",
       "4     Is_year_end  0.000384"
      ]
     },
     "execution_count": 56,
     "metadata": {},
     "output_type": "execute_result"
    }
   ],
   "source": [
    "fi = rf_feat_importance(model, xs)\n",
    "fi[:10]"
   ]
  },
  {
   "cell_type": "code",
   "execution_count": 57,
   "id": "7df50183-e728-4380-892c-d15c8eed7eae",
   "metadata": {},
   "outputs": [
    {
     "data": {
      "text/plain": [
       "5"
      ]
     },
     "execution_count": 57,
     "metadata": {},
     "output_type": "execute_result"
    }
   ],
   "source": [
    "to_keep = fi[fi.imp>0.005].cols\n",
    "\n",
    "len(to_keep)"
   ]
  },
  {
   "cell_type": "code",
   "execution_count": 58,
   "id": "5bd6e651-05e7-4a14-abea-f5b7e0a61ba7",
   "metadata": {},
   "outputs": [
    {
     "data": {
      "text/plain": [
       "6       store_emb_1\n",
       "9     product_emb_1\n",
       "12    country_emb_1\n",
       "19        Dayofweek\n",
       "20        Dayofyear\n",
       "Name: cols, dtype: object"
      ]
     },
     "execution_count": 58,
     "metadata": {},
     "output_type": "execute_result"
    }
   ],
   "source": [
    "to_keep"
   ]
  },
  {
   "cell_type": "code",
   "execution_count": 59,
   "id": "ca4f2660-9641-4aa1-a52f-1c718ef62846",
   "metadata": {},
   "outputs": [],
   "source": [
    "xs_imp = xs[to_keep]\n",
    "valid_xs_imp = valid_xs[to_keep]"
   ]
  },
  {
   "cell_type": "code",
   "execution_count": 60,
   "id": "34a7b9ef-7e68-4ccd-a19f-b5d90bd677ae",
   "metadata": {},
   "outputs": [],
   "source": [
    "a,b,c,d,e = [],[],[],[],[]\n",
    "score = []\n",
    "\n",
    "g_index = 1\n",
    "def hp_tuning(trial) :\n",
    "    learning_rate = trial.suggest_float(\"learning_rate\", 0.0001, 0.5, log = True)\n",
    "    gamma = trial.suggest_float(\"gamma\", 0.001, 10)\n",
    "    alpha = trial.suggest_float(\"alpha\", 0.001, 10)\n",
    "    max_depth = trial.suggest_int(\"max_depth\", 3, 15)\n",
    "    reg_lambda = trial.suggest_loguniform(\"reg_lambda\", 0.001, 25)\n",
    "    \n",
    "    model = XGBRegressor(verbosity = 0, alpha = alpha, reg_lambda = reg_lambda, gamma = gamma, max_depth = max_depth, learning_rate = learning_rate)\n",
    "    \n",
    "    model.fit(xs_imp, y)\n",
    "                            \n",
    "    preds_val = model.predict(valid_xs_imp)\n",
    "   \n",
    "        \n",
    "    a.append(learning_rate)\n",
    "    b.append(gamma)\n",
    "    c.append(alpha)\n",
    "    d.append(max_depth)\n",
    "    e.append(reg_lambda)\n",
    "    score.append(cal_smape(np.exp(preds_val), np.exp(valid_y)))\n",
    "    \n",
    "        \n",
    "        \n",
    "    return (cal_smape(np.exp(preds_val), np.exp(valid_y)))"
   ]
  },
  {
   "cell_type": "code",
   "execution_count": 61,
   "id": "42c17c33-5a99-488b-aa6e-cb7ea7d8230c",
   "metadata": {
    "collapsed": true,
    "jupyter": {
     "outputs_hidden": true
    },
    "tags": []
   },
   "outputs": [
    {
     "name": "stderr",
     "output_type": "stream",
     "text": [
      "\u001b[32m[I 2022-01-11 05:29:06,945]\u001b[0m A new study created in memory with name: no-name-1774d8a1-4b93-4bd9-9a36-f0c36eff9433\u001b[0m\n",
      "\u001b[32m[I 2022-01-11 05:29:07,316]\u001b[0m Trial 0 finished with value: 16.416385348234424 and parameters: {'learning_rate': 0.048886935197622106, 'gamma': 5.269651194818462, 'alpha': 7.435744996004705, 'max_depth': 6, 'reg_lambda': 0.017380582811614163}. Best is trial 0 with value: 16.416385348234424.\u001b[0m\n",
      "\u001b[32m[I 2022-01-11 05:29:07,624]\u001b[0m Trial 1 finished with value: 197.4696255692913 and parameters: {'learning_rate': 0.0001819269100325073, 'gamma': 2.439671150252262, 'alpha': 5.252774520303946, 'max_depth': 12, 'reg_lambda': 0.03018725903625502}. Best is trial 0 with value: 16.416385348234424.\u001b[0m\n",
      "\u001b[32m[I 2022-01-11 05:29:07,878]\u001b[0m Trial 2 finished with value: 194.8515177928342 and parameters: {'learning_rate': 0.0017963612227292008, 'gamma': 8.049537575772485, 'alpha': 5.6822424742987705, 'max_depth': 4, 'reg_lambda': 0.0010955539424089096}. Best is trial 0 with value: 16.416385348234424.\u001b[0m\n",
      "\u001b[32m[I 2022-01-11 05:29:08,174]\u001b[0m Trial 3 finished with value: 197.4398950951055 and parameters: {'learning_rate': 0.00020673280678884954, 'gamma': 5.51835542196942, 'alpha': 2.609280433904941, 'max_depth': 5, 'reg_lambda': 0.0011378663419078828}. Best is trial 0 with value: 16.416385348234424.\u001b[0m\n",
      "\u001b[32m[I 2022-01-11 05:29:08,473]\u001b[0m Trial 4 finished with value: 141.84388262948428 and parameters: {'learning_rate': 0.011309470828550309, 'gamma': 1.490609365953911, 'alpha': 6.830725205927441, 'max_depth': 13, 'reg_lambda': 1.166386413128312}. Best is trial 0 with value: 16.416385348234424.\u001b[0m\n",
      "\u001b[32m[I 2022-01-11 05:29:08,717]\u001b[0m Trial 5 finished with value: 197.44189452228142 and parameters: {'learning_rate': 0.0002034198930328672, 'gamma': 6.86011386259421, 'alpha': 9.38346018790516, 'max_depth': 5, 'reg_lambda': 0.013703298959347826}. Best is trial 0 with value: 16.416385348234424.\u001b[0m\n",
      "\u001b[32m[I 2022-01-11 05:29:08,965]\u001b[0m Trial 6 finished with value: 14.045311447184329 and parameters: {'learning_rate': 0.07456915764293572, 'gamma': 8.46657755311095, 'alpha': 1.065773459528908, 'max_depth': 4, 'reg_lambda': 1.9373999645988569}. Best is trial 6 with value: 14.045311447184329.\u001b[0m\n",
      "\u001b[32m[I 2022-01-11 05:29:09,241]\u001b[0m Trial 7 finished with value: 185.8632999016341 and parameters: {'learning_rate': 0.004654577542685988, 'gamma': 1.1397290340147566, 'alpha': 8.561756949644144, 'max_depth': 15, 'reg_lambda': 0.057415781455646124}. Best is trial 6 with value: 14.045311447184329.\u001b[0m\n",
      "\u001b[32m[I 2022-01-11 05:29:09,506]\u001b[0m Trial 8 finished with value: 197.50802975371275 and parameters: {'learning_rate': 0.00014901758677947157, 'gamma': 1.5920255373442431, 'alpha': 8.173054839060244, 'max_depth': 8, 'reg_lambda': 0.00715344296637526}. Best is trial 6 with value: 14.045311447184329.\u001b[0m\n",
      "\u001b[32m[I 2022-01-11 05:29:09,850]\u001b[0m Trial 9 finished with value: 12.993547029928992 and parameters: {'learning_rate': 0.22114411924795813, 'gamma': 3.29348931074698, 'alpha': 0.22213693973513876, 'max_depth': 6, 'reg_lambda': 0.00598162936350626}. Best is trial 9 with value: 12.993547029928992.\u001b[0m\n",
      "\u001b[32m[I 2022-01-11 05:29:10,452]\u001b[0m Trial 10 finished with value: 13.004700171800664 and parameters: {'learning_rate': 0.3437812563479494, 'gamma': 3.5429361644711768, 'alpha': 0.05940047834671475, 'max_depth': 9, 'reg_lambda': 11.129386553495923}. Best is trial 9 with value: 12.993547029928992.\u001b[0m\n",
      "\u001b[32m[I 2022-01-11 05:29:11,080]\u001b[0m Trial 11 finished with value: 13.112245543777274 and parameters: {'learning_rate': 0.32309713047630767, 'gamma': 3.6064202924362925, 'alpha': 0.3235900222526133, 'max_depth': 9, 'reg_lambda': 16.099735195563067}. Best is trial 9 with value: 12.993547029928992.\u001b[0m\n",
      "\u001b[32m[I 2022-01-11 05:29:11,516]\u001b[0m Trial 12 finished with value: 13.269368080997241 and parameters: {'learning_rate': 0.3858571109581412, 'gamma': 3.901012313365874, 'alpha': 2.6618435039897133, 'max_depth': 7, 'reg_lambda': 0.39073112973771756}. Best is trial 9 with value: 12.993547029928992.\u001b[0m\n",
      "\u001b[32m[I 2022-01-11 05:29:12,010]\u001b[0m Trial 13 finished with value: 13.09687617189712 and parameters: {'learning_rate': 0.08819519882248422, 'gamma': 3.4899523604379326, 'alpha': 2.1457976447191394, 'max_depth': 11, 'reg_lambda': 24.070471156847688}. Best is trial 9 with value: 12.993547029928992.\u001b[0m\n",
      "\u001b[32m[I 2022-01-11 05:29:12,341]\u001b[0m Trial 14 finished with value: 56.043711690944065 and parameters: {'learning_rate': 0.02421802614382554, 'gamma': 0.2735160740520257, 'alpha': 3.360496050823689, 'max_depth': 10, 'reg_lambda': 3.9131354409093184}. Best is trial 9 with value: 12.993547029928992.\u001b[0m\n",
      "\u001b[32m[I 2022-01-11 05:29:12,867]\u001b[0m Trial 15 finished with value: 13.1498903712468 and parameters: {'learning_rate': 0.1707446433801119, 'gamma': 6.164724637887199, 'alpha': 0.2542262713723078, 'max_depth': 8, 'reg_lambda': 0.17361154439152304}. Best is trial 9 with value: 12.993547029928992.\u001b[0m\n",
      "\u001b[32m[I 2022-01-11 05:29:13,275]\u001b[0m Trial 16 finished with value: 13.263886682144966 and parameters: {'learning_rate': 0.43023120537751314, 'gamma': 4.303454442289913, 'alpha': 4.042723441452694, 'max_depth': 7, 'reg_lambda': 0.004480834067116202}. Best is trial 9 with value: 12.993547029928992.\u001b[0m\n",
      "\u001b[32m[I 2022-01-11 05:29:13,509]\u001b[0m Trial 17 finished with value: 59.13970989681058 and parameters: {'learning_rate': 0.023337050935504783, 'gamma': 2.8204586883215357, 'alpha': 1.5423996466327385, 'max_depth': 3, 'reg_lambda': 0.10669767389277483}. Best is trial 9 with value: 12.993547029928992.\u001b[0m\n",
      "\u001b[32m[I 2022-01-11 05:29:13,835]\u001b[0m Trial 18 finished with value: 195.5946907471702 and parameters: {'learning_rate': 0.0014206385632829842, 'gamma': 9.891215692005218, 'alpha': 4.099964108917995, 'max_depth': 10, 'reg_lambda': 0.49579641286332393}. Best is trial 9 with value: 12.993547029928992.\u001b[0m\n",
      "\u001b[32m[I 2022-01-11 05:29:15,636]\u001b[0m Trial 19 finished with value: 12.886170594049196 and parameters: {'learning_rate': 0.1427231012198123, 'gamma': 2.3703229825944927, 'alpha': 0.0027608874643111417, 'max_depth': 14, 'reg_lambda': 4.261311118096273}. Best is trial 19 with value: 12.886170594049196.\u001b[0m\n",
      "\u001b[32m[I 2022-01-11 05:29:16,223]\u001b[0m Trial 20 finished with value: 12.1358392865807 and parameters: {'learning_rate': 0.14868678428693813, 'gamma': 0.004966337421649314, 'alpha': 1.3881995465704535, 'max_depth': 15, 'reg_lambda': 4.280292102340758}. Best is trial 20 with value: 12.1358392865807.\u001b[0m\n",
      "\u001b[32m[I 2022-01-11 05:29:16,821]\u001b[0m Trial 21 finished with value: 12.683960195014965 and parameters: {'learning_rate': 0.14395616081861748, 'gamma': 0.2482482238387167, 'alpha': 1.3149482033262418, 'max_depth': 14, 'reg_lambda': 6.784495744744318}. Best is trial 20 with value: 12.1358392865807.\u001b[0m\n",
      "\u001b[32m[I 2022-01-11 05:29:17,402]\u001b[0m Trial 22 finished with value: 12.726798826007585 and parameters: {'learning_rate': 0.11314243338289816, 'gamma': 0.3957431488436184, 'alpha': 1.620951324481549, 'max_depth': 15, 'reg_lambda': 5.546157968027836}. Best is trial 20 with value: 12.1358392865807.\u001b[0m\n",
      "\u001b[32m[I 2022-01-11 05:29:17,824]\u001b[0m Trial 23 finished with value: 16.014918190927474 and parameters: {'learning_rate': 0.04944921752852872, 'gamma': 0.6763719098479598, 'alpha': 1.5136377001897463, 'max_depth': 15, 'reg_lambda': 6.957049241784031}. Best is trial 20 with value: 12.1358392865807.\u001b[0m\n",
      "\u001b[32m[I 2022-01-11 05:29:18,264]\u001b[0m Trial 24 finished with value: 12.731625400018151 and parameters: {'learning_rate': 0.10519476360307353, 'gamma': 0.07100110751287644, 'alpha': 3.461821513263925, 'max_depth': 13, 'reg_lambda': 1.565379123797215}. Best is trial 20 with value: 12.1358392865807.\u001b[0m\n",
      "\u001b[32m[I 2022-01-11 05:29:18,625]\u001b[0m Trial 25 finished with value: 47.63078844301823 and parameters: {'learning_rate': 0.026411268391853263, 'gamma': 1.0136055831473367, 'alpha': 1.1739625199784955, 'max_depth': 14, 'reg_lambda': 3.717819809260971}. Best is trial 20 with value: 12.1358392865807.\u001b[0m\n",
      "\u001b[32m[I 2022-01-11 05:29:18,988]\u001b[0m Trial 26 finished with value: 175.27560612272896 and parameters: {'learning_rate': 0.006749246882040223, 'gamma': 1.9697700303402046, 'alpha': 2.0981950060291066, 'max_depth': 15, 'reg_lambda': 0.4744243426928601}. Best is trial 20 with value: 12.1358392865807.\u001b[0m\n",
      "\u001b[32m[I 2022-01-11 05:29:19,368]\u001b[0m Trial 27 finished with value: 14.702301375417488 and parameters: {'learning_rate': 0.05563748982067985, 'gamma': 0.011829581832251919, 'alpha': 3.077639310427964, 'max_depth': 13, 'reg_lambda': 8.803719248459934}. Best is trial 20 with value: 12.1358392865807.\u001b[0m\n",
      "\u001b[32m[I 2022-01-11 05:29:19,695]\u001b[0m Trial 28 finished with value: 113.3572210566208 and parameters: {'learning_rate': 0.014820168398361769, 'gamma': 0.7112979336341435, 'alpha': 4.308323684691472, 'max_depth': 14, 'reg_lambda': 1.3878348984532949}. Best is trial 20 with value: 12.1358392865807.\u001b[0m\n",
      "\u001b[32m[I 2022-01-11 05:29:20,007]\u001b[0m Trial 29 finished with value: 25.03386676540102 and parameters: {'learning_rate': 0.036974764835548485, 'gamma': 4.589461599300591, 'alpha': 6.037051093062127, 'max_depth': 12, 'reg_lambda': 22.568995157590503}. Best is trial 20 with value: 12.1358392865807.\u001b[0m\n",
      "\u001b[32m[I 2022-01-11 05:29:20,797]\u001b[0m Trial 30 finished with value: 12.855394272931253 and parameters: {'learning_rate': 0.17485194854885136, 'gamma': 1.7297802329820358, 'alpha': 0.9227257969208637, 'max_depth': 15, 'reg_lambda': 0.7963108738184907}. Best is trial 20 with value: 12.1358392865807.\u001b[0m\n",
      "\u001b[32m[I 2022-01-11 05:29:21,295]\u001b[0m Trial 31 finished with value: 12.585460849473002 and parameters: {'learning_rate': 0.10620098988443641, 'gamma': 0.09189793122513258, 'alpha': 1.96178140922542, 'max_depth': 13, 'reg_lambda': 2.036346975874045}. Best is trial 20 with value: 12.1358392865807.\u001b[0m\n",
      "\u001b[32m[I 2022-01-11 05:29:21,807]\u001b[0m Trial 32 finished with value: 12.777191888476935 and parameters: {'learning_rate': 0.11224778568810122, 'gamma': 0.7189309008157581, 'alpha': 2.002288216551838, 'max_depth': 12, 'reg_lambda': 2.686493331094865}. Best is trial 20 with value: 12.1358392865807.\u001b[0m\n",
      "\u001b[32m[I 2022-01-11 05:29:22,579]\u001b[0m Trial 33 finished with value: 12.927501272906717 and parameters: {'learning_rate': 0.2403925787961406, 'gamma': 2.152927264400826, 'alpha': 0.8308424933206635, 'max_depth': 14, 'reg_lambda': 5.635670229056445}. Best is trial 20 with value: 12.1358392865807.\u001b[0m\n",
      "\u001b[32m[I 2022-01-11 05:29:23,017]\u001b[0m Trial 34 finished with value: 13.18310665824513 and parameters: {'learning_rate': 0.07025435336160307, 'gamma': 0.3841275449221373, 'alpha': 2.5698810409205763, 'max_depth': 13, 'reg_lambda': 13.692521683003616}. Best is trial 20 with value: 12.1358392865807.\u001b[0m\n",
      "\u001b[32m[I 2022-01-11 05:29:23,315]\u001b[0m Trial 35 finished with value: 196.31324685798498 and parameters: {'learning_rate': 0.0010055339038189998, 'gamma': 1.2668859800672267, 'alpha': 4.808085483631252, 'max_depth': 14, 'reg_lambda': 0.8262945630907259}. Best is trial 20 with value: 12.1358392865807.\u001b[0m\n",
      "\u001b[32m[I 2022-01-11 05:29:23,592]\u001b[0m Trial 36 finished with value: 197.16842626161298 and parameters: {'learning_rate': 0.00042006595757034014, 'gamma': 2.8036010896940216, 'alpha': 1.678630725047668, 'max_depth': 11, 'reg_lambda': 2.777081435497555}. Best is trial 20 with value: 12.1358392865807.\u001b[0m\n",
      "\u001b[32m[I 2022-01-11 05:29:23,838]\u001b[0m Trial 37 finished with value: 192.08768121763967 and parameters: {'learning_rate': 0.0029052825742794147, 'gamma': 0.8753388706766914, 'alpha': 2.8286562507160213, 'max_depth': 15, 'reg_lambda': 7.0567198627106205}. Best is trial 20 with value: 12.1358392865807.\u001b[0m\n",
      "\u001b[32m[I 2022-01-11 05:29:24,191]\u001b[0m Trial 38 finished with value: 28.17420654552042 and parameters: {'learning_rate': 0.03438897182143258, 'gamma': 1.2828201255939922, 'alpha': 3.604342039293906, 'max_depth': 12, 'reg_lambda': 0.2591427637069241}. Best is trial 20 with value: 12.1358392865807.\u001b[0m\n",
      "\u001b[32m[I 2022-01-11 05:29:24,557]\u001b[0m Trial 39 finished with value: 121.57221539443515 and parameters: {'learning_rate': 0.013797831972381144, 'gamma': 7.537099030037716, 'alpha': 0.7665833954779925, 'max_depth': 13, 'reg_lambda': 1.917577981882966}. Best is trial 20 with value: 12.1358392865807.\u001b[0m\n",
      "\u001b[32m[I 2022-01-11 05:29:24,922]\u001b[0m Trial 40 finished with value: 12.823809852053799 and parameters: {'learning_rate': 0.24046487818147683, 'gamma': 0.06999546505697318, 'alpha': 9.976967046309039, 'max_depth': 11, 'reg_lambda': 0.8841577976494068}. Best is trial 20 with value: 12.1358392865807.\u001b[0m\n",
      "\u001b[32m[I 2022-01-11 05:29:25,429]\u001b[0m Trial 41 finished with value: 12.715280783398056 and parameters: {'learning_rate': 0.10772883236434685, 'gamma': 0.366209748414723, 'alpha': 2.259530610598335, 'max_depth': 13, 'reg_lambda': 1.675472044872589}. Best is trial 20 with value: 12.1358392865807.\u001b[0m\n",
      "\u001b[32m[I 2022-01-11 05:29:25,990]\u001b[0m Trial 42 finished with value: 12.88535154251001 and parameters: {'learning_rate': 0.1274023747372396, 'gamma': 1.686661672812471, 'alpha': 2.3514324324499185, 'max_depth': 14, 'reg_lambda': 2.2540959042652378}. Best is trial 20 with value: 12.1358392865807.\u001b[0m\n",
      "\u001b[32m[I 2022-01-11 05:29:26,499]\u001b[0m Trial 43 finished with value: 13.039719045685578 and parameters: {'learning_rate': 0.07261616937284883, 'gamma': 0.6358651745783626, 'alpha': 1.4633446620612676, 'max_depth': 15, 'reg_lambda': 10.47897306864162}. Best is trial 20 with value: 12.1358392865807.\u001b[0m\n",
      "\u001b[32m[I 2022-01-11 05:29:27,283]\u001b[0m Trial 44 finished with value: 12.86038288672631 and parameters: {'learning_rate': 0.2427561249297763, 'gamma': 1.325035008678283, 'alpha': 0.5910431606572804, 'max_depth': 13, 'reg_lambda': 4.730677116440556}. Best is trial 20 with value: 12.1358392865807.\u001b[0m\n",
      "\u001b[32m[I 2022-01-11 05:29:27,760]\u001b[0m Trial 45 finished with value: 15.585158618853065 and parameters: {'learning_rate': 0.051483408108287464, 'gamma': 5.532918270908255, 'alpha': 1.1310231077001385, 'max_depth': 14, 'reg_lambda': 14.287529747286753}. Best is trial 20 with value: 12.1358392865807.\u001b[0m\n",
      "\u001b[32m[I 2022-01-11 05:29:28,280]\u001b[0m Trial 46 finished with value: 12.801102709132639 and parameters: {'learning_rate': 0.08350463419505105, 'gamma': 0.4712076027458988, 'alpha': 1.7967777963793574, 'max_depth': 15, 'reg_lambda': 1.115835695764894}. Best is trial 20 with value: 12.1358392865807.\u001b[0m\n",
      "\u001b[32m[I 2022-01-11 05:29:28,793]\u001b[0m Trial 47 finished with value: 13.036261794042053 and parameters: {'learning_rate': 0.45330064059377345, 'gamma': 0.9824850407220724, 'alpha': 7.037524613189603, 'max_depth': 12, 'reg_lambda': 0.02777531211164416}. Best is trial 20 with value: 12.1358392865807.\u001b[0m\n",
      "\u001b[32m[I 2022-01-11 05:29:29,334]\u001b[0m Trial 48 finished with value: 12.968378907458474 and parameters: {'learning_rate': 0.17302138716788065, 'gamma': 2.81114494792393, 'alpha': 2.9999769706539166, 'max_depth': 14, 'reg_lambda': 2.774306178738093}. Best is trial 20 with value: 12.1358392865807.\u001b[0m\n",
      "\u001b[32m[I 2022-01-11 05:29:29,834]\u001b[0m Trial 49 finished with value: 12.71401141927514 and parameters: {'learning_rate': 0.10722781260535204, 'gamma': 0.2778753126328896, 'alpha': 2.3499497241865526, 'max_depth': 13, 'reg_lambda': 6.916181162110745}. Best is trial 20 with value: 12.1358392865807.\u001b[0m\n",
      "\u001b[32m[I 2022-01-11 05:29:30,192]\u001b[0m Trial 50 finished with value: 21.945853185244523 and parameters: {'learning_rate': 0.039542559221696756, 'gamma': 1.8044981193728131, 'alpha': 2.415557108799677, 'max_depth': 10, 'reg_lambda': 8.671579612188593}. Best is trial 20 with value: 12.1358392865807.\u001b[0m\n",
      "\u001b[32m[I 2022-01-11 05:29:30,767]\u001b[0m Trial 51 finished with value: 12.674682299017917 and parameters: {'learning_rate': 0.10639073577473057, 'gamma': 0.27241379081327916, 'alpha': 1.2134929757042194, 'max_depth': 13, 'reg_lambda': 4.840505391283083}. Best is trial 20 with value: 12.1358392865807.\u001b[0m\n",
      "\u001b[32m[I 2022-01-11 05:29:31,376]\u001b[0m Trial 52 finished with value: 12.487830043352382 and parameters: {'learning_rate': 0.2887365173166322, 'gamma': 0.03331789929452484, 'alpha': 1.2933841239738206, 'max_depth': 13, 'reg_lambda': 19.25009077656261}. Best is trial 20 with value: 12.1358392865807.\u001b[0m\n",
      "\u001b[32m[I 2022-01-11 05:29:32,039]\u001b[0m Trial 53 finished with value: 12.835170130419085 and parameters: {'learning_rate': 0.2926583539655409, 'gamma': 1.0317953671030415, 'alpha': 0.5331356079705432, 'max_depth': 11, 'reg_lambda': 17.897431083244225}. Best is trial 20 with value: 12.1358392865807.\u001b[0m\n",
      "\u001b[32m[I 2022-01-11 05:29:32,664]\u001b[0m Trial 54 finished with value: 12.60132013556689 and parameters: {'learning_rate': 0.17426761590060252, 'gamma': 0.08712738881583881, 'alpha': 1.1833394993923836, 'max_depth': 13, 'reg_lambda': 23.947396241479847}. Best is trial 20 with value: 12.1358392865807.\u001b[0m\n",
      "\u001b[32m[I 2022-01-11 05:29:33,271]\u001b[0m Trial 55 finished with value: 12.922348194724764 and parameters: {'learning_rate': 0.340965679865346, 'gamma': 1.4682084444436934, 'alpha': 1.3576474478847884, 'max_depth': 12, 'reg_lambda': 23.346112311720052}. Best is trial 20 with value: 12.1358392865807.\u001b[0m\n",
      "\u001b[32m[I 2022-01-11 05:29:33,879]\u001b[0m Trial 56 finished with value: 12.390113952827983 and parameters: {'learning_rate': 0.49362181188413035, 'gamma': 0.1003101901350207, 'alpha': 0.45541926846715974, 'max_depth': 13, 'reg_lambda': 12.875919557752995}. Best is trial 20 with value: 12.1358392865807.\u001b[0m\n",
      "\u001b[32m[I 2022-01-11 05:29:34,490]\u001b[0m Trial 57 finished with value: 10.86880814895056 and parameters: {'learning_rate': 0.4810684767667335, 'gamma': 0.008387529777677434, 'alpha': 0.4311040964132762, 'max_depth': 12, 'reg_lambda': 14.899655955854994}. Best is trial 57 with value: 10.86880814895056.\u001b[0m\n",
      "\u001b[32m[I 2022-01-11 05:29:35,333]\u001b[0m Trial 58 finished with value: 13.478787112354073 and parameters: {'learning_rate': 0.49115502465550587, 'gamma': 9.706881411291285, 'alpha': 0.3423085613307998, 'max_depth': 11, 'reg_lambda': 14.184109374388795}. Best is trial 57 with value: 10.86880814895056.\u001b[0m\n",
      "\u001b[32m[I 2022-01-11 05:29:36,110]\u001b[0m Trial 59 finished with value: 12.822386708059478 and parameters: {'learning_rate': 0.3226722358669316, 'gamma': 0.7495899770920617, 'alpha': 0.04774725752404185, 'max_depth': 10, 'reg_lambda': 10.768173355595541}. Best is trial 57 with value: 10.86880814895056.\u001b[0m\n",
      "\u001b[32m[I 2022-01-11 05:29:36,733]\u001b[0m Trial 60 finished with value: 12.385373466203168 and parameters: {'learning_rate': 0.16588090270860112, 'gamma': 0.08102273800075332, 'alpha': 0.4915960591372229, 'max_depth': 12, 'reg_lambda': 17.617079953467844}. Best is trial 57 with value: 10.86880814895056.\u001b[0m\n",
      "\u001b[32m[I 2022-01-11 05:29:37,375]\u001b[0m Trial 61 finished with value: 12.357062836161889 and parameters: {'learning_rate': 0.18877456637222836, 'gamma': 0.02596400134549752, 'alpha': 0.5452611558961638, 'max_depth': 12, 'reg_lambda': 24.57593987280557}. Best is trial 57 with value: 10.86880814895056.\u001b[0m\n",
      "\u001b[32m[I 2022-01-11 05:29:38,184]\u001b[0m Trial 62 finished with value: 12.854689636032262 and parameters: {'learning_rate': 0.4961433065342299, 'gamma': 0.601374395361698, 'alpha': 0.4603719721005767, 'max_depth': 12, 'reg_lambda': 17.607475420906937}. Best is trial 57 with value: 10.86880814895056.\u001b[0m\n",
      "\u001b[32m[I 2022-01-11 05:29:38,973]\u001b[0m Trial 63 finished with value: 12.79538697413814 and parameters: {'learning_rate': 0.27783462379556073, 'gamma': 0.8781232859440377, 'alpha': 0.7190504003501815, 'max_depth': 12, 'reg_lambda': 11.824863973962813}. Best is trial 57 with value: 10.86880814895056.\u001b[0m\n",
      "\u001b[32m[I 2022-01-11 05:29:39,805]\u001b[0m Trial 64 finished with value: 10.36489730997608 and parameters: {'learning_rate': 0.19624756557265458, 'gamma': 0.005689433164097844, 'alpha': 0.025584555697739098, 'max_depth': 11, 'reg_lambda': 0.0014896201795985876}. Best is trial 64 with value: 10.36489730997608.\u001b[0m\n",
      "\u001b[32m[I 2022-01-11 05:29:40,788]\u001b[0m Trial 65 finished with value: 12.79011048035518 and parameters: {'learning_rate': 0.19518961920221928, 'gamma': 1.2297905274031, 'alpha': 0.060709347587798834, 'max_depth': 11, 'reg_lambda': 0.0061951366651855615}. Best is trial 64 with value: 10.36489730997608.\u001b[0m\n",
      "\u001b[32m[I 2022-01-11 05:29:41,248]\u001b[0m Trial 66 finished with value: 11.278390264085122 and parameters: {'learning_rate': 0.375382743448892, 'gamma': 0.02284005575731322, 'alpha': 0.3876764060052332, 'max_depth': 9, 'reg_lambda': 0.002828967634466231}. Best is trial 64 with value: 10.36489730997608.\u001b[0m\n",
      "\u001b[32m[I 2022-01-11 05:29:41,782]\u001b[0m Trial 67 finished with value: 12.801432942885501 and parameters: {'learning_rate': 0.3679242426254804, 'gamma': 0.4852772314548769, 'alpha': 0.38385630353883937, 'max_depth': 8, 'reg_lambda': 0.0019678901970524403}. Best is trial 64 with value: 10.36489730997608.\u001b[0m\n",
      "\u001b[32m[I 2022-01-11 05:29:42,466]\u001b[0m Trial 68 finished with value: 12.898317069678281 and parameters: {'learning_rate': 0.2093755522906366, 'gamma': 2.21765744499687, 'alpha': 0.8904895905467476, 'max_depth': 10, 'reg_lambda': 0.0023892473910178263}. Best is trial 64 with value: 10.36489730997608.\u001b[0m\n",
      "\u001b[32m[I 2022-01-11 05:29:42,951]\u001b[0m Trial 69 finished with value: 197.5602397578103 and parameters: {'learning_rate': 0.0001056322014710743, 'gamma': 6.531333069245829, 'alpha': 0.28826976375767577, 'max_depth': 8, 'reg_lambda': 0.0018777116409593177}. Best is trial 64 with value: 10.36489730997608.\u001b[0m\n",
      "\u001b[32m[I 2022-01-11 05:29:43,493]\u001b[0m Trial 70 finished with value: 12.824789468890799 and parameters: {'learning_rate': 0.1452530533589018, 'gamma': 1.515293455427752, 'alpha': 0.9334984418342396, 'max_depth': 9, 'reg_lambda': 0.0038700155714357213}. Best is trial 64 with value: 10.36489730997608.\u001b[0m\n",
      "\u001b[32m[I 2022-01-11 05:29:44,018]\u001b[0m Trial 71 finished with value: 12.453504768053687 and parameters: {'learning_rate': 0.41132629585790265, 'gamma': 0.09879820830506744, 'alpha': 0.6097602249970098, 'max_depth': 9, 'reg_lambda': 19.926566876501084}. Best is trial 64 with value: 10.36489730997608.\u001b[0m\n",
      "\u001b[32m[I 2022-01-11 05:29:44,619]\u001b[0m Trial 72 finished with value: 10.045394924282206 and parameters: {'learning_rate': 0.40089542009081797, 'gamma': 0.0018082548930865158, 'alpha': 0.04409617347640854, 'max_depth': 9, 'reg_lambda': 0.001354450034496302}. Best is trial 72 with value: 10.045394924282206.\u001b[0m\n",
      "\u001b[32m[I 2022-01-11 05:29:45,062]\u001b[0m Trial 73 finished with value: 12.715986108637631 and parameters: {'learning_rate': 0.3659473874783274, 'gamma': 0.44610733683480824, 'alpha': 0.02698631778776155, 'max_depth': 7, 'reg_lambda': 0.011136832337665282}. Best is trial 72 with value: 10.045394924282206.\u001b[0m\n",
      "\u001b[32m[I 2022-01-11 05:29:45,526]\u001b[0m Trial 74 finished with value: 12.839833470340986 and parameters: {'learning_rate': 0.2584226029615694, 'gamma': 0.8096267962958877, 'alpha': 6.057134576820787, 'max_depth': 10, 'reg_lambda': 0.001467190558648999}. Best is trial 72 with value: 10.045394924282206.\u001b[0m\n",
      "\u001b[32m[I 2022-01-11 05:29:46,066]\u001b[0m Trial 75 finished with value: 12.786253592737298 and parameters: {'learning_rate': 0.1482926779351838, 'gamma': 0.9962084835818078, 'alpha': 0.33256581611543956, 'max_depth': 9, 'reg_lambda': 0.001044838435654559}. Best is trial 72 with value: 10.045394924282206.\u001b[0m\n",
      "\u001b[32m[I 2022-01-11 05:29:46,595]\u001b[0m Trial 76 finished with value: 12.73657364726217 and parameters: {'learning_rate': 0.20902791346225022, 'gamma': 0.5104769093044049, 'alpha': 0.6900603956337956, 'max_depth': 9, 'reg_lambda': 0.0727715170021181}. Best is trial 72 with value: 10.045394924282206.\u001b[0m\n",
      "\u001b[32m[I 2022-01-11 05:29:47,059]\u001b[0m Trial 77 finished with value: 12.860935829733872 and parameters: {'learning_rate': 0.3989476328687995, 'gamma': 0.29706427467623, 'alpha': 7.990622332006857, 'max_depth': 11, 'reg_lambda': 0.004811704829414189}. Best is trial 72 with value: 10.045394924282206.\u001b[0m\n",
      "\u001b[32m[I 2022-01-11 05:29:47,553]\u001b[0m Trial 78 finished with value: 11.310012253641109 and parameters: {'learning_rate': 0.301343393833635, 'gamma': 0.004114132208752553, 'alpha': 0.9969463464951072, 'max_depth': 10, 'reg_lambda': 0.0014431923536909258}. Best is trial 72 with value: 10.045394924282206.\u001b[0m\n",
      "\u001b[32m[I 2022-01-11 05:29:48,064]\u001b[0m Trial 79 finished with value: 13.698232472691751 and parameters: {'learning_rate': 0.06076258116078658, 'gamma': 1.1207796806752341, 'alpha': 1.0438508159294773, 'max_depth': 10, 'reg_lambda': 0.003218624814375036}. Best is trial 72 with value: 10.045394924282206.\u001b[0m\n",
      "\u001b[32m[I 2022-01-11 05:29:48,479]\u001b[0m Trial 80 finished with value: 12.46746342423386 and parameters: {'learning_rate': 0.14382523677717504, 'gamma': 0.0031435487587085104, 'alpha': 1.7760470804931046, 'max_depth': 8, 'reg_lambda': 0.002947732095191311}. Best is trial 72 with value: 10.045394924282206.\u001b[0m\n",
      "\u001b[32m[I 2022-01-11 05:29:49,309]\u001b[0m Trial 81 finished with value: 12.685875343447986 and parameters: {'learning_rate': 0.30171204810241625, 'gamma': 0.641384452895983, 'alpha': 0.28001621069043203, 'max_depth': 11, 'reg_lambda': 0.0013827608602712768}. Best is trial 72 with value: 10.045394924282206.\u001b[0m\n",
      "\u001b[32m[I 2022-01-11 05:29:50,157]\u001b[0m Trial 82 finished with value: 12.79298581576157 and parameters: {'learning_rate': 0.4963029277486303, 'gamma': 0.2898502734862183, 'alpha': 0.6107568788522588, 'max_depth': 12, 'reg_lambda': 0.008735654136525241}. Best is trial 72 with value: 10.045394924282206.\u001b[0m\n",
      "\u001b[32m[I 2022-01-11 05:29:50,890]\u001b[0m Trial 83 finished with value: 10.115866780612134 and parameters: {'learning_rate': 0.2218416909134243, 'gamma': 0.001249261001018926, 'alpha': 0.02297227841726235, 'max_depth': 10, 'reg_lambda': 0.00135952872856732}. Best is trial 72 with value: 10.045394924282206.\u001b[0m\n",
      "\u001b[32m[I 2022-01-11 05:29:51,724]\u001b[0m Trial 84 finished with value: 12.654754496495379 and parameters: {'learning_rate': 0.20771676850657722, 'gamma': 0.5410133467336344, 'alpha': 0.03823126333286608, 'max_depth': 10, 'reg_lambda': 0.0017387720333564612}. Best is trial 72 with value: 10.045394924282206.\u001b[0m\n",
      "\u001b[32m[I 2022-01-11 05:29:52,236]\u001b[0m Trial 85 finished with value: 12.802058565103822 and parameters: {'learning_rate': 0.0903905621277688, 'gamma': 0.7641376249075716, 'alpha': 0.8937988644325268, 'max_depth': 9, 'reg_lambda': 0.0012034111134301823}. Best is trial 72 with value: 10.045394924282206.\u001b[0m\n",
      "\u001b[32m[I 2022-01-11 05:29:52,837]\u001b[0m Trial 86 finished with value: 12.724806915104365 and parameters: {'learning_rate': 0.23589481732968773, 'gamma': 0.27769356954011687, 'alpha': 1.4565093659740525, 'max_depth': 11, 'reg_lambda': 0.024268168061449578}. Best is trial 72 with value: 10.045394924282206.\u001b[0m\n",
      "\u001b[32m[I 2022-01-11 05:29:53,283]\u001b[0m Trial 87 finished with value: 168.8501959617732 and parameters: {'learning_rate': 0.007778161848358778, 'gamma': 0.9070219583970875, 'alpha': 1.0146678523754338, 'max_depth': 10, 'reg_lambda': 0.0030807573748420553}. Best is trial 72 with value: 10.045394924282206.\u001b[0m\n",
      "\u001b[32m[I 2022-01-11 05:29:53,680]\u001b[0m Trial 88 finished with value: 13.117154387275587 and parameters: {'learning_rate': 0.16462886019734957, 'gamma': 5.268828096227134, 'alpha': 0.20728871759668754, 'max_depth': 7, 'reg_lambda': 0.001036466061024557}. Best is trial 72 with value: 10.045394924282206.\u001b[0m\n",
      "\u001b[32m[I 2022-01-11 05:29:54,141]\u001b[0m Trial 89 finished with value: 10.863182374775878 and parameters: {'learning_rate': 0.33320148058690074, 'gamma': 0.0016079870712771083, 'alpha': 0.765525082086607, 'max_depth': 9, 'reg_lambda': 0.0021224166629722875}. Best is trial 72 with value: 10.045394924282206.\u001b[0m\n",
      "\u001b[32m[I 2022-01-11 05:29:54,735]\u001b[0m Trial 90 finished with value: 12.684793537981118 and parameters: {'learning_rate': 0.34395989092447277, 'gamma': 0.49411707567787566, 'alpha': 0.7700611949493996, 'max_depth': 9, 'reg_lambda': 0.0025224352649291953}. Best is trial 72 with value: 10.045394924282206.\u001b[0m\n",
      "\u001b[32m[I 2022-01-11 05:29:55,250]\u001b[0m Trial 91 finished with value: 11.130012961949912 and parameters: {'learning_rate': 0.25472874930216866, 'gamma': 0.007153824948491401, 'alpha': 0.5605953605774707, 'max_depth': 10, 'reg_lambda': 0.0021671857781441874}. Best is trial 72 with value: 10.045394924282206.\u001b[0m\n",
      "\u001b[32m[I 2022-01-11 05:29:55,881]\u001b[0m Trial 92 finished with value: 12.655224031061493 and parameters: {'learning_rate': 0.2680691824254298, 'gamma': 0.2879828040165207, 'alpha': 0.694791061706331, 'max_depth': 10, 'reg_lambda': 0.0015701786155099195}. Best is trial 72 with value: 10.045394924282206.\u001b[0m\n",
      "\u001b[32m[I 2022-01-11 05:29:56,407]\u001b[0m Trial 93 finished with value: 13.006517326988062 and parameters: {'learning_rate': 0.38171470029925514, 'gamma': 3.9092231040485133, 'alpha': 0.26186995757613807, 'max_depth': 8, 'reg_lambda': 0.0023770350872513264}. Best is trial 72 with value: 10.045394924282206.\u001b[0m\n",
      "\u001b[32m[I 2022-01-11 05:29:56,934]\u001b[0m Trial 94 finished with value: 12.78248184712255 and parameters: {'learning_rate': 0.12754790094782514, 'gamma': 0.6863211477338165, 'alpha': 1.1056215286681739, 'max_depth': 9, 'reg_lambda': 0.0012949609561378706}. Best is trial 72 with value: 10.045394924282206.\u001b[0m\n",
      "\u001b[32m[I 2022-01-11 05:29:57,407]\u001b[0m Trial 95 finished with value: 12.696767171891594 and parameters: {'learning_rate': 0.19700966135289238, 'gamma': 0.23695956409044652, 'alpha': 1.45032667361802, 'max_depth': 8, 'reg_lambda': 0.003857232326322746}. Best is trial 72 with value: 10.045394924282206.\u001b[0m\n",
      "\u001b[32m[I 2022-01-11 05:29:57,772]\u001b[0m Trial 96 finished with value: 197.2541384273797 and parameters: {'learning_rate': 0.0003562057698679985, 'gamma': 0.007818993079732519, 'alpha': 1.8661238151852082, 'max_depth': 10, 'reg_lambda': 0.0049675746530700084}. Best is trial 72 with value: 10.045394924282206.\u001b[0m\n",
      "\u001b[32m[I 2022-01-11 05:29:58,489]\u001b[0m Trial 97 finished with value: 12.79903959387536 and parameters: {'learning_rate': 0.28874983575856544, 'gamma': 1.372493239212757, 'alpha': 0.02252099064770574, 'max_depth': 9, 'reg_lambda': 0.0018954232269318809}. Best is trial 72 with value: 10.045394924282206.\u001b[0m\n",
      "\u001b[32m[I 2022-01-11 05:29:59,298]\u001b[0m Trial 98 finished with value: 12.835491369341915 and parameters: {'learning_rate': 0.23492846214024915, 'gamma': 1.0776745756862938, 'alpha': 0.5132128460793843, 'max_depth': 11, 'reg_lambda': 0.0025175877467560966}. Best is trial 72 with value: 10.045394924282206.\u001b[0m\n",
      "\u001b[32m[I 2022-01-11 05:29:59,926]\u001b[0m Trial 99 finished with value: 13.452202188684712 and parameters: {'learning_rate': 0.3376765507951854, 'gamma': 8.385308326926777, 'alpha': 1.6231935901833476, 'max_depth': 10, 'reg_lambda': 0.14770812006743492}. Best is trial 72 with value: 10.045394924282206.\u001b[0m\n",
      "\u001b[32m[I 2022-01-11 05:30:00,228]\u001b[0m Trial 100 finished with value: 12.837708936932998 and parameters: {'learning_rate': 0.4001720386685895, 'gamma': 0.442904974514624, 'alpha': 0.8189965249337671, 'max_depth': 5, 'reg_lambda': 0.008192574773762439}. Best is trial 72 with value: 10.045394924282206.\u001b[0m\n",
      "\u001b[32m[I 2022-01-11 05:30:00,806]\u001b[0m Trial 101 finished with value: 11.5362356176232 and parameters: {'learning_rate': 0.1736879505279054, 'gamma': 0.011343069215399031, 'alpha': 0.4912874291445776, 'max_depth': 11, 'reg_lambda': 0.001404519981830507}. Best is trial 72 with value: 10.045394924282206.\u001b[0m\n",
      "\u001b[32m[I 2022-01-11 05:30:01,621]\u001b[0m Trial 102 finished with value: 12.560347659858731 and parameters: {'learning_rate': 0.18814585023798894, 'gamma': 0.2089070050200689, 'alpha': 0.27313748892446965, 'max_depth': 11, 'reg_lambda': 0.0010068405001718555}. Best is trial 72 with value: 10.045394924282206.\u001b[0m\n",
      "\u001b[32m[I 2022-01-11 05:30:02,124]\u001b[0m Trial 103 finished with value: 12.792389425417658 and parameters: {'learning_rate': 0.08476236839915299, 'gamma': 0.6084965835655151, 'alpha': 1.2261544981201162, 'max_depth': 10, 'reg_lambda': 0.0020707070335858335}. Best is trial 72 with value: 10.045394924282206.\u001b[0m\n",
      "\u001b[32m[I 2022-01-11 05:30:02,710]\u001b[0m Trial 104 finished with value: 11.875889605686497 and parameters: {'learning_rate': 0.12316811263995932, 'gamma': 0.010402587577473553, 'alpha': 0.496200430267701, 'max_depth': 11, 'reg_lambda': 0.0014282629026975803}. Best is trial 72 with value: 10.045394924282206.\u001b[0m\n",
      "\u001b[32m[I 2022-01-11 05:30:03,640]\u001b[0m Trial 105 finished with value: 12.668568852292061 and parameters: {'learning_rate': 0.26073162067453315, 'gamma': 0.41267143714358623, 'alpha': 0.18181056657182793, 'max_depth': 11, 'reg_lambda': 0.0015413210324202314}. Best is trial 72 with value: 10.045394924282206.\u001b[0m\n",
      "\u001b[32m[I 2022-01-11 05:30:04,150]\u001b[0m Trial 106 finished with value: 12.754546872986758 and parameters: {'learning_rate': 0.12803181406822242, 'gamma': 0.8520730100982573, 'alpha': 0.8731074995352005, 'max_depth': 9, 'reg_lambda': 0.0012719023709002661}. Best is trial 72 with value: 10.045394924282206.\u001b[0m\n",
      "\u001b[32m[I 2022-01-11 05:30:04,566]\u001b[0m Trial 107 finished with value: 11.261734015849703 and parameters: {'learning_rate': 0.4192137368232246, 'gamma': 0.0010533581185935437, 'alpha': 1.0640202201397624, 'max_depth': 10, 'reg_lambda': 0.003899928708008922}. Best is trial 72 with value: 10.045394924282206.\u001b[0m\n",
      "\u001b[32m[I 2022-01-11 05:30:05,149]\u001b[0m Trial 108 finished with value: 12.710391273262523 and parameters: {'learning_rate': 0.31366168302477143, 'gamma': 0.2564045203063443, 'alpha': 1.0664668398721584, 'max_depth': 10, 'reg_lambda': 0.003635846380835484}. Best is trial 72 with value: 10.045394924282206.\u001b[0m\n",
      "\u001b[32m[I 2022-01-11 05:30:06,031]\u001b[0m Trial 109 finished with value: 12.784156935276068 and parameters: {'learning_rate': 0.41054045478887585, 'gamma': 0.6157429476361052, 'alpha': 0.4533500996613573, 'max_depth': 11, 'reg_lambda': 0.0023362034416861866}. Best is trial 72 with value: 10.045394924282206.\u001b[0m\n",
      "\u001b[32m[I 2022-01-11 05:30:06,259]\u001b[0m Trial 110 finished with value: 13.016717560670171 and parameters: {'learning_rate': 0.23800843139306663, 'gamma': 0.19148989734952993, 'alpha': 5.27225998273646, 'max_depth': 3, 'reg_lambda': 0.0016656065133589537}. Best is trial 72 with value: 10.045394924282206.\u001b[0m\n",
      "\u001b[32m[I 2022-01-11 05:30:06,846]\u001b[0m Trial 111 finished with value: 12.334759262743859 and parameters: {'learning_rate': 0.42693715831050716, 'gamma': 0.0361263685053817, 'alpha': 0.6854515773999561, 'max_depth': 10, 'reg_lambda': 0.0027303932967924346}. Best is trial 72 with value: 10.045394924282206.\u001b[0m\n",
      "\u001b[32m[I 2022-01-11 05:30:07,324]\u001b[0m Trial 112 finished with value: 12.721600048655828 and parameters: {'learning_rate': 0.3522240103154207, 'gamma': 0.3479632130327182, 'alpha': 1.33198611396305, 'max_depth': 9, 'reg_lambda': 0.002043485171130797}. Best is trial 72 with value: 10.045394924282206.\u001b[0m\n",
      "\u001b[32m[I 2022-01-11 05:30:07,936]\u001b[0m Trial 113 finished with value: 10.489744610508717 and parameters: {'learning_rate': 0.2725302686482282, 'gamma': 0.007794293233271894, 'alpha': 0.18448666178311704, 'max_depth': 11, 'reg_lambda': 0.006011785075104742}. Best is trial 72 with value: 10.045394924282206.\u001b[0m\n",
      "\u001b[32m[I 2022-01-11 05:30:08,452]\u001b[0m Trial 114 finished with value: 12.6214337528257 and parameters: {'learning_rate': 0.3136615493436865, 'gamma': 0.4457401403356128, 'alpha': 0.23149321293098052, 'max_depth': 10, 'reg_lambda': 0.0061102662251111195}. Best is trial 72 with value: 10.045394924282206.\u001b[0m\n",
      "\u001b[32m[I 2022-01-11 05:30:09,027]\u001b[0m Trial 115 finished with value: 10.478656175928007 and parameters: {'learning_rate': 0.4394752320362547, 'gamma': 0.00248812884048219, 'alpha': 0.4861855891935695, 'max_depth': 11, 'reg_lambda': 0.0034386802446007957}. Best is trial 72 with value: 10.045394924282206.\u001b[0m\n",
      "\u001b[32m[I 2022-01-11 05:30:09,934]\u001b[0m Trial 116 finished with value: 12.784580874098067 and parameters: {'learning_rate': 0.4289478260789002, 'gamma': 0.745640979372071, 'alpha': 0.03427542513285753, 'max_depth': 11, 'reg_lambda': 0.004715729626367233}. Best is trial 72 with value: 10.045394924282206.\u001b[0m\n",
      "\u001b[32m[I 2022-01-11 05:30:10,618]\u001b[0m Trial 117 finished with value: 12.804165041179019 and parameters: {'learning_rate': 0.28073510219364955, 'gamma': 1.1793208271471116, 'alpha': 0.41995421798845695, 'max_depth': 10, 'reg_lambda': 0.03906318642817116}. Best is trial 72 with value: 10.045394924282206.\u001b[0m\n",
      "\u001b[32m[I 2022-01-11 05:30:11,343]\u001b[0m Trial 118 finished with value: 12.545805444445174 and parameters: {'learning_rate': 0.21261310781911993, 'gamma': 0.20311548785416797, 'alpha': 0.7174162435659776, 'max_depth': 12, 'reg_lambda': 0.0034146037527607175}. Best is trial 72 with value: 10.045394924282206.\u001b[0m\n",
      "\u001b[32m[I 2022-01-11 05:30:12,123]\u001b[0m Trial 119 finished with value: 12.916238646251601 and parameters: {'learning_rate': 0.4859959761134973, 'gamma': 0.49315086301278116, 'alpha': 0.9970452063394972, 'max_depth': 11, 'reg_lambda': 0.004488158495702525}. Best is trial 72 with value: 10.045394924282206.\u001b[0m\n",
      "\u001b[32m[I 2022-01-11 05:30:12,657]\u001b[0m Trial 120 finished with value: 193.43627683108343 and parameters: {'learning_rate': 0.0024295393077357254, 'gamma': 1.0213180258941175, 'alpha': 0.17367848514790193, 'max_depth': 9, 'reg_lambda': 0.0012268907484163272}. Best is trial 72 with value: 10.045394924282206.\u001b[0m\n",
      "\u001b[32m[I 2022-01-11 05:30:13,240]\u001b[0m Trial 121 finished with value: 10.802456522914964 and parameters: {'learning_rate': 0.3622807443845544, 'gamma': 0.006562819513187712, 'alpha': 0.47973292216275, 'max_depth': 11, 'reg_lambda': 0.0014742330981040012}. Best is trial 72 with value: 10.045394924282206.\u001b[0m\n",
      "\u001b[32m[I 2022-01-11 05:30:14,458]\u001b[0m Trial 122 finished with value: 12.519274386714116 and parameters: {'learning_rate': 0.3368286286058658, 'gamma': 0.19215091801129022, 'alpha': 0.002135608391941546, 'max_depth': 11, 'reg_lambda': 0.0017833270391625963}. Best is trial 72 with value: 10.045394924282206.\u001b[0m\n",
      "\u001b[32m[I 2022-01-11 05:30:15,177]\u001b[0m Trial 123 finished with value: 12.729775598837517 and parameters: {'learning_rate': 0.4213750464974953, 'gamma': 0.3965167690354999, 'alpha': 0.41738058713106185, 'max_depth': 10, 'reg_lambda': 0.002170336128792794}. Best is trial 72 with value: 10.045394924282206.\u001b[0m\n",
      "\u001b[32m[I 2022-01-11 05:30:15,925]\u001b[0m Trial 124 finished with value: 12.727369110525064 and parameters: {'learning_rate': 0.26542349029572276, 'gamma': 0.624786300446827, 'alpha': 0.6092718478847314, 'max_depth': 12, 'reg_lambda': 0.0028329794849888813}. Best is trial 72 with value: 10.045394924282206.\u001b[0m\n",
      "\u001b[32m[I 2022-01-11 05:30:16,307]\u001b[0m Trial 125 finished with value: 11.101358212980609 and parameters: {'learning_rate': 0.3699659120688904, 'gamma': 0.0011061639502186584, 'alpha': 0.8612167162567892, 'max_depth': 10, 'reg_lambda': 0.014547786374227276}. Best is trial 72 with value: 10.045394924282206.\u001b[0m\n",
      "\u001b[32m[I 2022-01-11 05:30:16,952]\u001b[0m Trial 126 finished with value: 13.166047993457466 and parameters: {'learning_rate': 0.35886431487103315, 'gamma': 7.435503388264241, 'alpha': 0.803079973368207, 'max_depth': 10, 'reg_lambda': 0.01278161552234893}. Best is trial 72 with value: 10.045394924282206.\u001b[0m\n",
      "\u001b[32m[I 2022-01-11 05:30:17,374]\u001b[0m Trial 127 finished with value: 13.058381092255217 and parameters: {'learning_rate': 0.4952014076750419, 'gamma': 0.8233874646824273, 'alpha': 9.115592377363313, 'max_depth': 9, 'reg_lambda': 0.007152353933199777}. Best is trial 72 with value: 10.045394924282206.\u001b[0m\n",
      "\u001b[32m[I 2022-01-11 05:30:18,021]\u001b[0m Trial 128 finished with value: 12.691889469424158 and parameters: {'learning_rate': 0.3093201735921605, 'gamma': 0.21153384979124798, 'alpha': 1.0139720749476282, 'max_depth': 10, 'reg_lambda': 0.0036657130895946257}. Best is trial 72 with value: 10.045394924282206.\u001b[0m\n",
      "\u001b[32m[I 2022-01-11 05:30:18,555]\u001b[0m Trial 129 finished with value: 12.663741866918427 and parameters: {'learning_rate': 0.2312777702816339, 'gamma': 0.4146034505766994, 'alpha': 0.2462016318011146, 'max_depth': 8, 'reg_lambda': 0.005170257750584522}. Best is trial 72 with value: 10.045394924282206.\u001b[0m\n",
      "\u001b[32m[I 2022-01-11 05:30:19,132]\u001b[0m Trial 130 finished with value: 12.694701189881624 and parameters: {'learning_rate': 0.3869657634953096, 'gamma': 0.22456836855491127, 'alpha': 0.823146449787115, 'max_depth': 9, 'reg_lambda': 0.0019495997713264534}. Best is trial 72 with value: 10.045394924282206.\u001b[0m\n",
      "\u001b[32m[I 2022-01-11 05:30:19,704]\u001b[0m Trial 131 finished with value: 10.86966896632006 and parameters: {'learning_rate': 0.27089950713347216, 'gamma': 0.0041212254679431366, 'alpha': 0.586931580945471, 'max_depth': 11, 'reg_lambda': 0.018873408056716504}. Best is trial 72 with value: 10.045394924282206.\u001b[0m\n",
      "\u001b[32m[I 2022-01-11 05:30:20,536]\u001b[0m Trial 132 finished with value: 13.41242414426533 and parameters: {'learning_rate': 0.27518981621181937, 'gamma': 9.190168647803088, 'alpha': 0.23098997033698193, 'max_depth': 10, 'reg_lambda': 0.04574602750800775}. Best is trial 72 with value: 10.045394924282206.\u001b[0m\n",
      "\u001b[32m[I 2022-01-11 05:30:21,133]\u001b[0m Trial 133 finished with value: 12.159078380198903 and parameters: {'learning_rate': 0.4408665642151599, 'gamma': 0.016454595751823165, 'alpha': 1.1696952003992227, 'max_depth': 11, 'reg_lambda': 0.011744338090574976}. Best is trial 72 with value: 10.045394924282206.\u001b[0m\n",
      "\u001b[32m[I 2022-01-11 05:30:21,704]\u001b[0m Trial 134 finished with value: 10.939886564756266 and parameters: {'learning_rate': 0.3262421173606491, 'gamma': 0.00541777129229061, 'alpha': 0.6488607068914617, 'max_depth': 11, 'reg_lambda': 0.009258793955697469}. Best is trial 72 with value: 10.045394924282206.\u001b[0m\n",
      "\u001b[32m[I 2022-01-11 05:30:22,481]\u001b[0m Trial 135 finished with value: 12.729107341154014 and parameters: {'learning_rate': 0.3506742739212986, 'gamma': 0.5598491769530709, 'alpha': 0.6324252588605105, 'max_depth': 12, 'reg_lambda': 0.009672314443610197}. Best is trial 72 with value: 10.045394924282206.\u001b[0m\n",
      "\u001b[32m[I 2022-01-11 05:30:23,298]\u001b[0m Trial 136 finished with value: 12.666525367624699 and parameters: {'learning_rate': 0.22100779233803566, 'gamma': 0.34444553756502705, 'alpha': 0.3863996233997939, 'max_depth': 11, 'reg_lambda': 0.014381405266025408}. Best is trial 72 with value: 10.045394924282206.\u001b[0m\n",
      "\u001b[32m[I 2022-01-11 05:30:24,171]\u001b[0m Trial 137 finished with value: 13.178036578183045 and parameters: {'learning_rate': 0.24789858962529257, 'gamma': 5.878676646924943, 'alpha': 0.18465918026330191, 'max_depth': 11, 'reg_lambda': 0.01904020881699997}. Best is trial 72 with value: 10.045394924282206.\u001b[0m\n",
      "\u001b[32m[I 2022-01-11 05:30:25,022]\u001b[0m Trial 138 finished with value: 12.669119780103658 and parameters: {'learning_rate': 0.3997078966934331, 'gamma': 0.20535705913507596, 'alpha': 0.582982313904991, 'max_depth': 12, 'reg_lambda': 0.006738037930946687}. Best is trial 72 with value: 10.045394924282206.\u001b[0m\n",
      "\u001b[32m[I 2022-01-11 05:30:26,272]\u001b[0m Trial 139 finished with value: 13.13922888796539 and parameters: {'learning_rate': 0.31245532277874677, 'gamma': 4.693295549430004, 'alpha': 0.011412588124036116, 'max_depth': 11, 'reg_lambda': 0.005670126719167146}. Best is trial 72 with value: 10.045394924282206.\u001b[0m\n",
      "\u001b[32m[I 2022-01-11 05:30:26,897]\u001b[0m Trial 140 finished with value: 13.069628414817489 and parameters: {'learning_rate': 0.4892175637375518, 'gamma': 3.1587364821881563, 'alpha': 0.8388675763885219, 'max_depth': 10, 'reg_lambda': 0.01690894917436113}. Best is trial 72 with value: 10.045394924282206.\u001b[0m\n",
      "\u001b[32m[I 2022-01-11 05:30:27,522]\u001b[0m Trial 141 finished with value: 12.036187730438634 and parameters: {'learning_rate': 0.2989233215376387, 'gamma': 0.039883284927834266, 'alpha': 0.3778581783186479, 'max_depth': 10, 'reg_lambda': 0.008657936143411737}. Best is trial 72 with value: 10.045394924282206.\u001b[0m\n",
      "\u001b[32m[I 2022-01-11 05:30:27,947]\u001b[0m Trial 142 finished with value: 80.01480705680581 and parameters: {'learning_rate': 0.019526669798959798, 'gamma': 0.36313438259712577, 'alpha': 1.3096098068397177, 'max_depth': 9, 'reg_lambda': 0.02086696522827388}. Best is trial 72 with value: 10.045394924282206.\u001b[0m\n",
      "\u001b[32m[I 2022-01-11 05:30:28,431]\u001b[0m Trial 143 finished with value: 11.465755174822027 and parameters: {'learning_rate': 0.3649121366399666, 'gamma': 0.008999284585866695, 'alpha': 0.9245589660410052, 'max_depth': 10, 'reg_lambda': 0.0028078101383481073}. Best is trial 72 with value: 10.045394924282206.\u001b[0m\n",
      "\u001b[32m[I 2022-01-11 05:30:29,001]\u001b[0m Trial 144 finished with value: 12.762508628656224 and parameters: {'learning_rate': 0.18840311172800836, 'gamma': 0.6418071591579774, 'alpha': 1.6113481670905587, 'max_depth': 11, 'reg_lambda': 0.25560387451564537}. Best is trial 72 with value: 10.045394924282206.\u001b[0m\n",
      "\u001b[32m[I 2022-01-11 05:30:29,675]\u001b[0m Trial 145 finished with value: 12.628161426116149 and parameters: {'learning_rate': 0.2451188884089182, 'gamma': 0.21245265513433914, 'alpha': 0.6253485032743261, 'max_depth': 11, 'reg_lambda': 0.003843946558636489}. Best is trial 72 with value: 10.045394924282206.\u001b[0m\n",
      "\u001b[32m[I 2022-01-11 05:30:30,344]\u001b[0m Trial 146 finished with value: 12.741018890742781 and parameters: {'learning_rate': 0.2980957218347416, 'gamma': 0.4759646054552297, 'alpha': 1.1420941741833102, 'max_depth': 10, 'reg_lambda': 0.0016872203015094159}. Best is trial 72 with value: 10.045394924282206.\u001b[0m\n",
      "\u001b[32m[I 2022-01-11 05:30:30,974]\u001b[0m Trial 147 finished with value: 12.812287542599613 and parameters: {'learning_rate': 0.42921262151786027, 'gamma': 0.8067061653881151, 'alpha': 0.38706520402560085, 'max_depth': 9, 'reg_lambda': 0.0010018069773106426}. Best is trial 72 with value: 10.045394924282206.\u001b[0m\n",
      "\u001b[32m[I 2022-01-11 05:30:31,570]\u001b[0m Trial 148 finished with value: 11.442040910382865 and parameters: {'learning_rate': 0.1609143058740965, 'gamma': 0.00327002706404485, 'alpha': 0.673622893237292, 'max_depth': 12, 'reg_lambda': 0.015535822036987725}. Best is trial 72 with value: 10.045394924282206.\u001b[0m\n",
      "\u001b[32m[I 2022-01-11 05:30:31,870]\u001b[0m Trial 149 finished with value: 195.8747493004557 and parameters: {'learning_rate': 0.0012650154162623425, 'gamma': 0.22198937584213638, 'alpha': 6.578727638407676, 'max_depth': 11, 'reg_lambda': 0.010363761895463005}. Best is trial 72 with value: 10.045394924282206.\u001b[0m\n",
      "\u001b[32m[I 2022-01-11 05:30:32,570]\u001b[0m Trial 150 finished with value: 12.70159881869524 and parameters: {'learning_rate': 0.35437437907907954, 'gamma': 0.39434109542541207, 'alpha': 0.23904268084860908, 'max_depth': 10, 'reg_lambda': 0.07945144278436443}. Best is trial 72 with value: 10.045394924282206.\u001b[0m\n",
      "\u001b[32m[I 2022-01-11 05:30:33,166]\u001b[0m Trial 151 finished with value: 11.60513684034028 and parameters: {'learning_rate': 0.16527132700019861, 'gamma': 0.005775282710759482, 'alpha': 0.67819222015771, 'max_depth': 12, 'reg_lambda': 0.01414296957233345}. Best is trial 72 with value: 10.045394924282206.\u001b[0m\n",
      "\u001b[32m[I 2022-01-11 05:30:33,721]\u001b[0m Trial 152 finished with value: 11.389607133810172 and parameters: {'learning_rate': 0.21355552710770995, 'gamma': 0.002247231591710816, 'alpha': 0.9716382011360896, 'max_depth': 12, 'reg_lambda': 0.007475460871830243}. Best is trial 72 with value: 10.045394924282206.\u001b[0m\n",
      "\u001b[32m[I 2022-01-11 05:30:34,400]\u001b[0m Trial 153 finished with value: 12.643796902150825 and parameters: {'learning_rate': 0.21689798758084666, 'gamma': 0.20575533151667433, 'alpha': 0.976382146479448, 'max_depth': 12, 'reg_lambda': 0.0023202255129356037}. Best is trial 72 with value: 10.045394924282206.\u001b[0m\n",
      "\u001b[32m[I 2022-01-11 05:30:34,892]\u001b[0m Trial 154 finished with value: 12.861795419500938 and parameters: {'learning_rate': 0.26813492321248295, 'gamma': 0.5515478439161312, 'alpha': 4.557464429516706, 'max_depth': 11, 'reg_lambda': 0.0031250142494876317}. Best is trial 72 with value: 10.045394924282206.\u001b[0m\n",
      "\u001b[32m[I 2022-01-11 05:30:35,495]\u001b[0m Trial 155 finished with value: 12.703053326627344 and parameters: {'learning_rate': 0.3285674013348519, 'gamma': 0.3114959573192838, 'alpha': 0.460082373009409, 'max_depth': 9, 'reg_lambda': 0.001197400145743328}. Best is trial 72 with value: 10.045394924282206.\u001b[0m\n",
      "\u001b[32m[I 2022-01-11 05:30:35,958]\u001b[0m Trial 156 finished with value: 10.602234962550645 and parameters: {'learning_rate': 0.3920896323204255, 'gamma': 0.010631922356923038, 'alpha': 0.18462028283662438, 'max_depth': 8, 'reg_lambda': 0.007640153793168311}. Best is trial 72 with value: 10.045394924282206.\u001b[0m\n",
      "\u001b[32m[I 2022-01-11 05:30:36,522]\u001b[0m Trial 157 finished with value: 12.794717332465098 and parameters: {'learning_rate': 0.4186275011726163, 'gamma': 0.6935015357286228, 'alpha': 0.004356315390787402, 'max_depth': 8, 'reg_lambda': 0.00153981561099707}. Best is trial 72 with value: 10.045394924282206.\u001b[0m\n",
      "\u001b[32m[I 2022-01-11 05:30:36,963]\u001b[0m Trial 158 finished with value: 12.588921955263455 and parameters: {'learning_rate': 0.48327659064919387, 'gamma': 0.20153625249274104, 'alpha': 0.20856725526836573, 'max_depth': 8, 'reg_lambda': 0.004427286887961153}. Best is trial 72 with value: 10.045394924282206.\u001b[0m\n",
      "\u001b[32m[I 2022-01-11 05:30:37,394]\u001b[0m Trial 159 finished with value: 12.724659404170646 and parameters: {'learning_rate': 0.3760538865873504, 'gamma': 0.42147234432418, 'alpha': 0.3856361655951567, 'max_depth': 7, 'reg_lambda': 0.005527800737164255}. Best is trial 72 with value: 10.045394924282206.\u001b[0m\n",
      "\u001b[32m[I 2022-01-11 05:30:38,040]\u001b[0m Trial 160 finished with value: 12.604663782157951 and parameters: {'learning_rate': 0.29650859482976205, 'gamma': 0.20309661093185022, 'alpha': 0.538972837992322, 'max_depth': 10, 'reg_lambda': 0.0021283621214163765}. Best is trial 72 with value: 10.045394924282206.\u001b[0m\n",
      "\u001b[32m[I 2022-01-11 05:30:38,679]\u001b[0m Trial 161 finished with value: 12.552035846014126 and parameters: {'learning_rate': 0.203560809615296, 'gamma': 0.051517650072606294, 'alpha': 0.8236841213115863, 'max_depth': 11, 'reg_lambda': 0.007806609452374675}. Best is trial 72 with value: 10.045394924282206.\u001b[0m\n",
      "\u001b[32m[I 2022-01-11 05:30:39,031]\u001b[0m Trial 162 finished with value: 11.72283430936007 and parameters: {'learning_rate': 0.25606584381537545, 'gamma': 0.019136086191630083, 'alpha': 0.20498805434778333, 'max_depth': 6, 'reg_lambda': 0.009781669902877956}. Best is trial 72 with value: 10.045394924282206.\u001b[0m\n",
      "\u001b[32m[I 2022-01-11 05:30:39,519]\u001b[0m Trial 163 finished with value: 12.805452180549143 and parameters: {'learning_rate': 0.3826920099513124, 'gamma': 0.3872303068235085, 'alpha': 3.6627004335080553, 'max_depth': 9, 'reg_lambda': 0.007725714421926972}. Best is trial 72 with value: 10.045394924282206.\u001b[0m\n",
      "\u001b[32m[I 2022-01-11 05:30:40,197]\u001b[0m Trial 164 finished with value: 12.829974641837458 and parameters: {'learning_rate': 0.4991976813680465, 'gamma': 0.5691471793210859, 'alpha': 1.045587561593267, 'max_depth': 11, 'reg_lambda': 0.006223254090643811}. Best is trial 72 with value: 10.045394924282206.\u001b[0m\n",
      "\u001b[32m[I 2022-01-11 05:30:40,880]\u001b[0m Trial 165 finished with value: 12.646780830936988 and parameters: {'learning_rate': 0.3189263441918073, 'gamma': 0.18355948790623763, 'alpha': 0.7679373212988267, 'max_depth': 12, 'reg_lambda': 0.0032011603966339455}. Best is trial 72 with value: 10.045394924282206.\u001b[0m\n",
      "\u001b[32m[I 2022-01-11 05:30:41,572]\u001b[0m Trial 166 finished with value: 12.687933096262698 and parameters: {'learning_rate': 0.26201753862246174, 'gamma': 0.35738027261486627, 'alpha': 0.51358670280619, 'max_depth': 10, 'reg_lambda': 0.0014723482831606996}. Best is trial 72 with value: 10.045394924282206.\u001b[0m\n",
      "\u001b[32m[I 2022-01-11 05:30:41,909]\u001b[0m Trial 167 finished with value: 196.73853149278392 and parameters: {'learning_rate': 0.0007322112372440913, 'gamma': 0.026891687454796056, 'alpha': 1.2831420516034062, 'max_depth': 10, 'reg_lambda': 0.6286837349356307}. Best is trial 72 with value: 10.045394924282206.\u001b[0m\n",
      "\u001b[32m[I 2022-01-11 05:30:42,511]\u001b[0m Trial 168 finished with value: 185.27148198197227 and parameters: {'learning_rate': 0.00483380058109024, 'gamma': 0.5648742749844331, 'alpha': 0.13124197821711037, 'max_depth': 11, 'reg_lambda': 0.0026363764157518272}. Best is trial 72 with value: 10.045394924282206.\u001b[0m\n",
      "\u001b[32m[I 2022-01-11 05:30:43,056]\u001b[0m Trial 169 finished with value: 12.809651341511188 and parameters: {'learning_rate': 0.22126850475499085, 'gamma': 0.8972804612832802, 'alpha': 0.33495340143542146, 'max_depth': 9, 'reg_lambda': 0.0040102094359077255}. Best is trial 72 with value: 10.045394924282206.\u001b[0m\n",
      "\u001b[32m[I 2022-01-11 05:30:43,775]\u001b[0m Trial 170 finished with value: 12.794345336543303 and parameters: {'learning_rate': 0.4110942570687352, 'gamma': 0.24904421160779194, 'alpha': 0.9022502788398286, 'max_depth': 12, 'reg_lambda': 0.029403667158604388}. Best is trial 72 with value: 10.045394924282206.\u001b[0m\n",
      "\u001b[32m[I 2022-01-11 05:30:44,419]\u001b[0m Trial 171 finished with value: 12.043132932721395 and parameters: {'learning_rate': 0.17202739561643507, 'gamma': 0.02044585965479055, 'alpha': 0.6354151014933062, 'max_depth': 12, 'reg_lambda': 0.014221811135969072}. Best is trial 72 with value: 10.045394924282206.\u001b[0m\n",
      "\u001b[32m[I 2022-01-11 05:30:44,687]\u001b[0m Trial 172 finished with value: 12.587635760903995 and parameters: {'learning_rate': 0.15176041934666543, 'gamma': 0.0038971631180662585, 'alpha': 0.6361987029412625, 'max_depth': 4, 'reg_lambda': 0.011477003110851668}. Best is trial 72 with value: 10.045394924282206.\u001b[0m\n",
      "\u001b[32m[I 2022-01-11 05:30:45,551]\u001b[0m Trial 173 finished with value: 12.645431307022243 and parameters: {'learning_rate': 0.3346237976612109, 'gamma': 0.20293955704465372, 'alpha': 0.439598641246163, 'max_depth': 12, 'reg_lambda': 0.01619501542356908}. Best is trial 72 with value: 10.045394924282206.\u001b[0m\n",
      "\u001b[32m[I 2022-01-11 05:30:46,279]\u001b[0m Trial 174 finished with value: 12.661025017677312 and parameters: {'learning_rate': 0.2694383615993288, 'gamma': 0.3829708335693993, 'alpha': 0.755122715778435, 'max_depth': 11, 'reg_lambda': 0.024311847887654628}. Best is trial 72 with value: 10.045394924282206.\u001b[0m\n",
      "\u001b[32m[I 2022-01-11 05:30:47,273]\u001b[0m Trial 175 finished with value: 12.539905254629133 and parameters: {'learning_rate': 0.20547449147419997, 'gamma': 0.2072111487531002, 'alpha': 0.15824287886778227, 'max_depth': 12, 'reg_lambda': 0.0018133176068504079}. Best is trial 72 with value: 10.045394924282206.\u001b[0m\n",
      "\u001b[32m[I 2022-01-11 05:30:47,761]\u001b[0m Trial 176 finished with value: 11.73150197498271 and parameters: {'learning_rate': 0.3533401874149017, 'gamma': 0.006648733339209245, 'alpha': 1.085552836720844, 'max_depth': 10, 'reg_lambda': 0.006537382521733562}. Best is trial 72 with value: 10.045394924282206.\u001b[0m\n",
      "\u001b[32m[I 2022-01-11 05:30:49,025]\u001b[0m Trial 177 finished with value: 12.700302618992296 and parameters: {'learning_rate': 0.2974282077750516, 'gamma': 0.5310216428711967, 'alpha': 0.02331354047460865, 'max_depth': 11, 'reg_lambda': 0.0013073934138890047}. Best is trial 72 with value: 10.045394924282206.\u001b[0m\n",
      "\u001b[32m[I 2022-01-11 05:30:49,418]\u001b[0m Trial 178 finished with value: 10.539985038738617 and parameters: {'learning_rate': 0.4387592970091936, 'gamma': 0.0031328446092856992, 'alpha': 0.36541368570102534, 'max_depth': 7, 'reg_lambda': 0.009033804722263712}. Best is trial 72 with value: 10.045394924282206.\u001b[0m\n",
      "\u001b[32m[I 2022-01-11 05:30:49,956]\u001b[0m Trial 179 finished with value: 12.759338459590117 and parameters: {'learning_rate': 0.4276313491073007, 'gamma': 0.3392254358556056, 'alpha': 0.32283350602090644, 'max_depth': 8, 'reg_lambda': 0.009369156807342457}. Best is trial 72 with value: 10.045394924282206.\u001b[0m\n",
      "\u001b[32m[I 2022-01-11 05:30:50,436]\u001b[0m Trial 180 finished with value: 12.786324075622854 and parameters: {'learning_rate': 0.4931708058617144, 'gamma': 0.19564944115906127, 'alpha': 0.5206362248561606, 'max_depth': 8, 'reg_lambda': 0.005137855142188421}. Best is trial 72 with value: 10.045394924282206.\u001b[0m\n",
      "\u001b[32m[I 2022-01-11 05:30:50,763]\u001b[0m Trial 181 finished with value: 12.34181324011352 and parameters: {'learning_rate': 0.3756230153351295, 'gamma': 0.02793196831800822, 'alpha': 0.7543844916237785, 'max_depth': 6, 'reg_lambda': 0.011918467841718707}. Best is trial 72 with value: 10.045394924282206.\u001b[0m\n",
      "\u001b[32m[I 2022-01-11 05:30:51,158]\u001b[0m Trial 182 finished with value: 12.650175259095844 and parameters: {'learning_rate': 0.2403098166776584, 'gamma': 0.21766476254537653, 'alpha': 0.3426487738958803, 'max_depth': 7, 'reg_lambda': 0.007529820786068269}. Best is trial 72 with value: 10.045394924282206.\u001b[0m\n",
      "\u001b[32m[I 2022-01-11 05:30:51,565]\u001b[0m Trial 183 finished with value: 12.74352351026932 and parameters: {'learning_rate': 0.3217169033016366, 'gamma': 0.4293469958362593, 'alpha': 0.6041903183061658, 'max_depth': 7, 'reg_lambda': 0.018342778532045648}. Best is trial 72 with value: 10.045394924282206.\u001b[0m\n",
      "\u001b[32m[I 2022-01-11 05:30:52,049]\u001b[0m Trial 184 finished with value: 12.20704240592794 and parameters: {'learning_rate': 0.4126473283197514, 'gamma': 0.007410266525424768, 'alpha': 1.4427254091204826, 'max_depth': 9, 'reg_lambda': 0.0018062917336833181}. Best is trial 72 with value: 10.045394924282206.\u001b[0m\n",
      "\u001b[32m[I 2022-01-11 05:30:53,265]\u001b[0m Trial 185 finished with value: 12.726471234193049 and parameters: {'learning_rate': 0.2821545994868999, 'gamma': 0.6912294532898033, 'alpha': 0.1973599819643317, 'max_depth': 13, 'reg_lambda': 0.0023170615482190197}. Best is trial 72 with value: 10.045394924282206.\u001b[0m\n",
      "\u001b[32m[I 2022-01-11 05:30:53,901]\u001b[0m Trial 186 finished with value: 12.599907384258502 and parameters: {'learning_rate': 0.18849085960460749, 'gamma': 0.2046728464172298, 'alpha': 0.9355646390637775, 'max_depth': 11, 'reg_lambda': 0.00916096095877873}. Best is trial 72 with value: 10.045394924282206.\u001b[0m\n",
      "\u001b[32m[I 2022-01-11 05:30:55,792]\u001b[0m Trial 187 finished with value: 12.750183206423312 and parameters: {'learning_rate': 0.3444522430714869, 'gamma': 0.427523905490786, 'alpha': 0.017029419458623296, 'max_depth': 12, 'reg_lambda': 0.004137155085676111}. Best is trial 72 with value: 10.045394924282206.\u001b[0m\n",
      "\u001b[32m[I 2022-01-11 05:30:56,328]\u001b[0m Trial 188 finished with value: 11.01543631098081 and parameters: {'learning_rate': 0.4292147579301814, 'gamma': 0.014425846285912283, 'alpha': 0.44879594881893536, 'max_depth': 10, 'reg_lambda': 0.0010789161930768259}. Best is trial 72 with value: 10.045394924282206.\u001b[0m\n",
      "\u001b[32m[I 2022-01-11 05:30:57,089]\u001b[0m Trial 189 finished with value: 12.67445806572544 and parameters: {'learning_rate': 0.4438663750575031, 'gamma': 0.310707131961338, 'alpha': 0.3971678393555898, 'max_depth': 10, 'reg_lambda': 0.001156703794291136}. Best is trial 72 with value: 10.045394924282206.\u001b[0m\n",
      "\u001b[32m[I 2022-01-11 05:30:57,633]\u001b[0m Trial 190 finished with value: 12.789545336892031 and parameters: {'learning_rate': 0.3927733781870183, 'gamma': 0.5827530916124486, 'alpha': 0.2714944626502377, 'max_depth': 9, 'reg_lambda': 0.0013588022979882921}. Best is trial 72 with value: 10.045394924282206.\u001b[0m\n",
      "\u001b[32m[I 2022-01-11 05:30:58,155]\u001b[0m Trial 191 finished with value: 11.319941665176124 and parameters: {'learning_rate': 0.317829147769742, 'gamma': 0.01230351077671071, 'alpha': 0.600662546487241, 'max_depth': 10, 'reg_lambda': 0.001012433431008392}. Best is trial 72 with value: 10.045394924282206.\u001b[0m\n",
      "\u001b[32m[I 2022-01-11 05:30:58,791]\u001b[0m Trial 192 finished with value: 12.591714294524122 and parameters: {'learning_rate': 0.3062422444586595, 'gamma': 0.14380501608175675, 'alpha': 0.5344460552205242, 'max_depth': 10, 'reg_lambda': 0.0011642183949181384}. Best is trial 72 with value: 10.045394924282206.\u001b[0m\n",
      "\u001b[32m[I 2022-01-11 05:30:59,281]\u001b[0m Trial 193 finished with value: 11.268427304260076 and parameters: {'learning_rate': 0.37394105804966615, 'gamma': 0.008998912238425423, 'alpha': 0.7854071039450649, 'max_depth': 10, 'reg_lambda': 0.0016420124134347417}. Best is trial 72 with value: 10.045394924282206.\u001b[0m\n",
      "\u001b[32m[I 2022-01-11 05:30:59,865]\u001b[0m Trial 194 finished with value: 12.732712693676698 and parameters: {'learning_rate': 0.37264029421131123, 'gamma': 0.20163074662851543, 'alpha': 0.7722517243234975, 'max_depth': 10, 'reg_lambda': 0.0014027979081574647}. Best is trial 72 with value: 10.045394924282206.\u001b[0m\n",
      "\u001b[32m[I 2022-01-11 05:31:00,471]\u001b[0m Trial 195 finished with value: 12.752047203506917 and parameters: {'learning_rate': 0.4400913283482339, 'gamma': 0.3735517313975139, 'alpha': 0.48560709379323574, 'max_depth': 10, 'reg_lambda': 0.001649690927422771}. Best is trial 72 with value: 10.045394924282206.\u001b[0m\n",
      "\u001b[32m[I 2022-01-11 05:31:01,035]\u001b[0m Trial 196 finished with value: 10.628683518218265 and parameters: {'learning_rate': 0.49864916428552686, 'gamma': 0.013915327485781868, 'alpha': 0.18492910537114662, 'max_depth': 10, 'reg_lambda': 0.0019883714199673964}. Best is trial 72 with value: 10.045394924282206.\u001b[0m\n",
      "\u001b[32m[I 2022-01-11 05:31:02,036]\u001b[0m Trial 197 finished with value: 12.583633650714319 and parameters: {'learning_rate': 0.4915388387660356, 'gamma': 0.20898888094984838, 'alpha': 0.001310083555069095, 'max_depth': 10, 'reg_lambda': 0.002627991629770767}. Best is trial 72 with value: 10.045394924282206.\u001b[0m\n",
      "\u001b[32m[I 2022-01-11 05:31:02,738]\u001b[0m Trial 198 finished with value: 12.689081706473438 and parameters: {'learning_rate': 0.41760766309017966, 'gamma': 0.4162531843342897, 'alpha': 0.2066957813467835, 'max_depth': 10, 'reg_lambda': 0.0017138819519016144}. Best is trial 72 with value: 10.045394924282206.\u001b[0m\n",
      "\u001b[32m[I 2022-01-11 05:31:03,266]\u001b[0m Trial 199 finished with value: 12.66873543917178 and parameters: {'learning_rate': 0.4943231951258719, 'gamma': 0.19152030625009986, 'alpha': 0.3098549677672787, 'max_depth': 9, 'reg_lambda': 0.0021240834609799323}. Best is trial 72 with value: 10.045394924282206.\u001b[0m\n"
     ]
    },
    {
     "name": "stdout",
     "output_type": "stream",
     "text": [
      "Number of finished trials: 200\n",
      "Best Params:  {'learning_rate': 0.40089542009081797, 'gamma': 0.0018082548930865158, 'alpha': 0.04409617347640854, 'max_depth': 9, 'reg_lambda': 0.001354450034496302}\n"
     ]
    }
   ],
   "source": [
    "study = optuna.create_study(direction = \"minimize\")\n",
    "study.optimize(hp_tuning, n_trials=200)\n",
    "print('Number of finished trials:', len(study.trials))\n",
    "print(\"Best Params: \",study.best_params)"
   ]
  },
  {
   "cell_type": "code",
   "execution_count": 62,
   "id": "98913072-5f2e-476f-a087-18d5164afbcf",
   "metadata": {},
   "outputs": [
    {
     "name": "stdout",
     "output_type": "stream",
     "text": [
      "Best Params:  {'learning_rate': 0.40089542009081797, 'gamma': 0.0018082548930865158, 'alpha': 0.04409617347640854, 'max_depth': 9, 'reg_lambda': 0.001354450034496302}\n"
     ]
    }
   ],
   "source": [
    "print(\"Best Params: \",study.best_params)"
   ]
  },
  {
   "cell_type": "code",
   "execution_count": 63,
   "id": "0c003acf-61d9-496d-b80a-1478396987c5",
   "metadata": {},
   "outputs": [],
   "source": [
    "model = XGBRegressor(learning_rate = study.best_params['learning_rate'], gamma = study.best_params['gamma'],\n",
    "                     alpha = study.best_params['alpha'], max_depth = study.best_params['max_depth'],\n",
    "                     reg_lambda = study.best_params['reg_lambda'])"
   ]
  },
  {
   "cell_type": "code",
   "execution_count": 65,
   "id": "5cfe6026-68b2-4c41-aa26-5644aef35332",
   "metadata": {},
   "outputs": [
    {
     "data": {
      "text/plain": [
       "XGBRegressor(alpha=0.04409617347640854, base_score=0.5, booster='gbtree',\n",
       "             colsample_bylevel=1, colsample_bynode=1, colsample_bytree=1,\n",
       "             enable_categorical=False, gamma=0.0018082548930865158, gpu_id=-1,\n",
       "             importance_type=None, interaction_constraints='',\n",
       "             learning_rate=0.40089542009081797, max_delta_step=0, max_depth=9,\n",
       "             min_child_weight=1, missing=nan, monotone_constraints='()',\n",
       "             n_estimators=100, n_jobs=7, num_parallel_tree=1, predictor='auto',\n",
       "             random_state=0, reg_alpha=0.0440961719,\n",
       "             reg_lambda=0.001354450034496302, scale_pos_weight=1, subsample=1,\n",
       "             tree_method='exact', validate_parameters=1, verbosity=None)"
      ]
     },
     "execution_count": 65,
     "metadata": {},
     "output_type": "execute_result"
    }
   ],
   "source": [
    "model.fit(xs_imp, y)"
   ]
  },
  {
   "cell_type": "code",
   "execution_count": 66,
   "id": "efb3a824-952a-4fb2-8d5e-d402089aef3f",
   "metadata": {},
   "outputs": [
    {
     "data": {
      "text/plain": [
       "0.5416211080642811"
      ]
     },
     "execution_count": 66,
     "metadata": {},
     "output_type": "execute_result"
    }
   ],
   "source": [
    "cal_smape(model.predict(xs_imp), y)"
   ]
  },
  {
   "cell_type": "code",
   "execution_count": 67,
   "id": "04d7c262-f55a-407a-90e6-41dc1e76b1ec",
   "metadata": {},
   "outputs": [
    {
     "data": {
      "text/plain": [
       "1.7524731854916282"
      ]
     },
     "execution_count": 67,
     "metadata": {},
     "output_type": "execute_result"
    }
   ],
   "source": [
    "cal_smape(model.predict(valid_xs_imp), valid_y)"
   ]
  },
  {
   "cell_type": "code",
   "execution_count": 68,
   "id": "4312fa06-93cb-4676-8bad-d463b088887a",
   "metadata": {},
   "outputs": [
    {
     "data": {
      "text/plain": [
       "10.045394924282206"
      ]
     },
     "execution_count": 68,
     "metadata": {},
     "output_type": "execute_result"
    }
   ],
   "source": [
    "cal_smape(np.exp(model.predict(valid_xs_imp)), np.exp(valid_y))"
   ]
  },
  {
   "cell_type": "code",
   "execution_count": 69,
   "id": "4728cb25-33f8-4246-b0b3-cb4d4ffb436d",
   "metadata": {},
   "outputs": [
    {
     "data": {
      "text/plain": [
       "3.0608827082544843"
      ]
     },
     "execution_count": 69,
     "metadata": {},
     "output_type": "execute_result"
    }
   ],
   "source": [
    "cal_smape(np.exp(model.predict(xs_imp)), np.exp(y))"
   ]
  },
  {
   "cell_type": "code",
   "execution_count": null,
   "id": "95b16044-3186-4210-b21b-108458cc3358",
   "metadata": {},
   "outputs": [],
   "source": []
  }
 ],
 "metadata": {
  "kernelspec": {
   "display_name": "Python 3 (ipykernel)",
   "language": "python",
   "name": "python3"
  },
  "language_info": {
   "codemirror_mode": {
    "name": "ipython",
    "version": 3
   },
   "file_extension": ".py",
   "mimetype": "text/x-python",
   "name": "python",
   "nbconvert_exporter": "python",
   "pygments_lexer": "ipython3",
   "version": "3.8.12"
  }
 },
 "nbformat": 4,
 "nbformat_minor": 5
}
