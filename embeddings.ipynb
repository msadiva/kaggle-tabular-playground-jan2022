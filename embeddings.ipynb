{
 "cells": [
  {
   "cell_type": "code",
   "execution_count": 1,
   "id": "310863c0-f7fb-4c52-afd9-835291f99190",
   "metadata": {},
   "outputs": [
    {
     "name": "stdout",
     "output_type": "stream",
     "text": [
      "CPU times: user 1.79 s, sys: 901 ms, total: 2.69 s\n",
      "Wall time: 3.14 s\n"
     ]
    }
   ],
   "source": [
    "%%time\n",
    "import fastai\n",
    "from fastai.tabular.all import *\n",
    "from pathlib import Path\n",
    "import os\n",
    "from sklearn.tree import DecisionTreeRegressor\n",
    "from dtreeviz.trees import *\n",
    "import IPython\n",
    "from sklearn.ensemble import RandomForestRegressor\n",
    "from IPython.display import Image, display_svg, SVG\n",
    "from sklearn.tree import export_graphviz\n",
    "import waterfall_chart\n",
    "from treeinterpreter import treeinterpreter\n",
    "from sklearn.inspection import plot_partial_dependence\n",
    "from scipy.cluster import hierarchy as hc"
   ]
  },
  {
   "cell_type": "code",
   "execution_count": 2,
   "id": "9d15e0e7-1293-4367-a611-d41542298468",
   "metadata": {},
   "outputs": [
    {
     "name": "stderr",
     "output_type": "stream",
     "text": [
      "/opt/conda/lib/python3.8/site-packages/pandas/core/arrays/categorical.py:2630: FutureWarning: The `inplace` parameter in pandas.Categorical.set_categories is deprecated and will be removed in a future version. Removing unused categories will always return a new Categorical object.\n",
      "  res = method(*args, **kwargs)\n"
     ]
    }
   ],
   "source": [
    "df = pd.read_csv(\"train.csv\", low_memory = False)\n",
    "df['product'] = df['product'].astype('category')\n",
    "sizes = 'Kaggle Sticker', 'Kaggle Mug', 'Kaggle Hat'\n",
    "df['product'].cat.set_categories(sizes, ordered = True, inplace = True)\n",
    "sizes = 'KaggleRama', 'KaggleMart'\n",
    "df['store'] = df['store'].astype('category')\n",
    "df['store'].cat.set_categories(sizes, ordered = True, inplace = True)\n",
    "dep_var = \"num_sold\""
   ]
  },
  {
   "cell_type": "code",
   "execution_count": 3,
   "id": "24230963-bbba-41b6-a265-1faaad64f07c",
   "metadata": {},
   "outputs": [
    {
     "name": "stdout",
     "output_type": "stream",
     "text": [
      "CPU times: user 62.4 ms, sys: 165 µs, total: 62.6 ms\n",
      "Wall time: 60.2 ms\n"
     ]
    }
   ],
   "source": [
    "%%time\n",
    "df = add_datepart(df, 'date')"
   ]
  },
  {
   "cell_type": "code",
   "execution_count": 4,
   "id": "3dabb3ed-2f4e-4916-a98d-4185bd5989a1",
   "metadata": {},
   "outputs": [],
   "source": [
    "cond = (df.Year < 2018)\n",
    "train_idx = np.where(cond)[0]\n",
    "valid_idx = np.where(~cond)[0]"
   ]
  },
  {
   "cell_type": "code",
   "execution_count": 5,
   "id": "87638e62-0a0a-4aa7-b370-4166a48a4245",
   "metadata": {},
   "outputs": [],
   "source": [
    "splits = (list(train_idx), list(valid_idx))\n",
    "cont, cat = cont_cat_split(df, 1, dep_var)"
   ]
  },
  {
   "cell_type": "code",
   "execution_count": 6,
   "id": "9e7274ba-0c80-44f9-9154-c46075f55ae2",
   "metadata": {},
   "outputs": [
    {
     "data": {
      "text/plain": [
       "['row_id', 'Year', 'Month', 'Week', 'Day', 'Dayofweek', 'Dayofyear', 'Elapsed']"
      ]
     },
     "execution_count": 6,
     "metadata": {},
     "output_type": "execute_result"
    }
   ],
   "source": [
    "cont"
   ]
  },
  {
   "cell_type": "code",
   "execution_count": 7,
   "id": "9ed4c57a-98bb-40c9-8e2a-921be6e935b1",
   "metadata": {},
   "outputs": [],
   "source": [
    "cont.remove(\"row_id\")"
   ]
  },
  {
   "cell_type": "code",
   "execution_count": 8,
   "id": "cc612a43-704c-4a36-a856-45e12be6443c",
   "metadata": {},
   "outputs": [],
   "source": [
    "procs = [Categorify, FillMissing]\n",
    "to = TabularPandas(df, procs, cat, cont, y_names = dep_var, splits = splits)"
   ]
  },
  {
   "cell_type": "code",
   "execution_count": 9,
   "id": "bf44337f-6e30-4b86-9d72-0bb9148f7bba",
   "metadata": {},
   "outputs": [],
   "source": [
    "xs, y = to.train.xs, to.train.y\n",
    "valid_xs, valid_y = to.valid.xs, to.valid.y"
   ]
  },
  {
   "cell_type": "code",
   "execution_count": 10,
   "id": "34a203d7-2e6d-4399-9c72-58d9ef0f7c1d",
   "metadata": {},
   "outputs": [],
   "source": [
    "def calculate_smape(m, valid_xs, valid_y):\n",
    "    preds = list(m.predict(valid_xs))\n",
    "    total = len(preds)\n",
    "    smape = 0\n",
    "    for i,j in zip(preds, valid_y) :\n",
    "        diff = np.abs(i - j)\n",
    "        avg = ((np.abs(i)) + np.abs(j)) / 2\n",
    "        fin = diff/avg\n",
    "        smape += fin\n",
    "        \n",
    "    smape = (smape/total) * 100 \n",
    "    \n",
    "    return smape"
   ]
  },
  {
   "cell_type": "code",
   "execution_count": 11,
   "id": "c3a5d29d-28ca-4c33-8dea-5ee7f5f2f1f1",
   "metadata": {},
   "outputs": [],
   "source": [
    "def rf(xs, y, n_estimators = 20, max_samples = 9800, max_features = 0.5, min_samples_leaf = 5, **kwargs):\n",
    "    return RandomForestRegressor(n_estimators = n_estimators, n_jobs = -1, max_features = max_features, max_samples = max_samples,\n",
    "                                 min_samples_leaf = min_samples_leaf, oob_score = True).fit(xs, y)"
   ]
  },
  {
   "cell_type": "code",
   "execution_count": 12,
   "id": "853189fa-a01e-40c2-a3cd-4a8860c754bf",
   "metadata": {},
   "outputs": [
    {
     "name": "stdout",
     "output_type": "stream",
     "text": [
      "CPU times: user 634 ms, sys: 14.4 ms, total: 648 ms\n",
      "Wall time: 217 ms\n"
     ]
    }
   ],
   "source": [
    "%%time\n",
    "m = rf(xs, y)"
   ]
  },
  {
   "cell_type": "code",
   "execution_count": 13,
   "id": "b9bfbf31-b9a6-4cf0-be79-6851870fa106",
   "metadata": {},
   "outputs": [
    {
     "data": {
      "text/plain": [
       "5.012935044328139"
      ]
     },
     "execution_count": 13,
     "metadata": {},
     "output_type": "execute_result"
    }
   ],
   "source": [
    "calculate_smape(m, xs, y)"
   ]
  },
  {
   "cell_type": "code",
   "execution_count": 14,
   "id": "503d3f4c-635a-429d-ab87-1dbe4683db02",
   "metadata": {},
   "outputs": [
    {
     "data": {
      "text/plain": [
       "14.489232461181661"
      ]
     },
     "execution_count": 14,
     "metadata": {},
     "output_type": "execute_result"
    }
   ],
   "source": [
    "calculate_smape(m, valid_xs, valid_y)"
   ]
  },
  {
   "cell_type": "code",
   "execution_count": 15,
   "id": "a08a34d0-f113-4eab-978f-b7b3645fe7ba",
   "metadata": {},
   "outputs": [],
   "source": [
    "def rf_feat_importance(m, df):\n",
    "    return pd.DataFrame({'cols' : df.columns, 'imp' : m.feature_importances_}).sort_values(by = 'imp', ascending = False)"
   ]
  },
  {
   "cell_type": "code",
   "execution_count": 16,
   "id": "808a3620-fd97-4b17-88f7-803be737eca5",
   "metadata": {},
   "outputs": [],
   "source": [
    "fi = rf_feat_importance(m, xs)"
   ]
  },
  {
   "cell_type": "code",
   "execution_count": 17,
   "id": "f4c3d561-b78c-465d-a96d-ef802e691da9",
   "metadata": {},
   "outputs": [],
   "source": [
    "def plot_fi(fi):\n",
    "  return fi.plot('cols', 'imp', 'barh', figsize = (12, 7), legend = False)"
   ]
  },
  {
   "cell_type": "code",
   "execution_count": 18,
   "id": "e08b1770-e425-4f37-b3c2-eeb2fbd2946e",
   "metadata": {},
   "outputs": [
    {
     "data": {
      "text/plain": [
       "<AxesSubplot:ylabel='cols'>"
      ]
     },
     "execution_count": 18,
     "metadata": {},
     "output_type": "execute_result"
    },
    {
     "data": {
      "image/png": "[encoded data removed]",
      "text/plain": [
       "<Figure size 864x504 with 1 Axes>"
      ]
     },
     "metadata": {
      "needs_background": "light"
     },
     "output_type": "display_data"
    }
   ],
   "source": [
    "plot_fi(fi)"
   ]
  },
  {
   "cell_type": "code",
   "execution_count": 19,
   "id": "a543b4f4-9a76-437d-bad8-6580d5664d1c",
   "metadata": {},
   "outputs": [
    {
     "data": {
      "text/plain": [
       "9"
      ]
     },
     "execution_count": 19,
     "metadata": {},
     "output_type": "execute_result"
    }
   ],
   "source": [
    "to_keep = fi[fi.imp > 0.005].cols\n",
    "len(to_keep)"
   ]
  },
  {
   "cell_type": "code",
   "execution_count": 20,
   "id": "63eeec41-7ec0-485a-aa5f-0f93c6b30017",
   "metadata": {},
   "outputs": [
    {
     "name": "stdout",
     "output_type": "stream",
     "text": [
      "CPU times: user 507 ms, sys: 15.1 ms, total: 522 ms\n",
      "Wall time: 193 ms\n"
     ]
    }
   ],
   "source": [
    "%%time\n",
    "xs_imp = xs[to_keep]\n",
    "valid_xs_imp = valid_xs[to_keep]\n",
    "\n",
    "m = rf(xs_imp, y)"
   ]
  },
  {
   "cell_type": "code",
   "execution_count": 21,
   "id": "03f94855-0467-4f52-95b2-2ec0ff912b62",
   "metadata": {},
   "outputs": [
    {
     "data": {
      "text/plain": [
       "5.102351422289524"
      ]
     },
     "execution_count": 21,
     "metadata": {},
     "output_type": "execute_result"
    }
   ],
   "source": [
    "calculate_smape(m, xs_imp, y)"
   ]
  },
  {
   "cell_type": "code",
   "execution_count": 22,
   "id": "9065469a-4147-4834-b9a8-efed1eef5555",
   "metadata": {},
   "outputs": [
    {
     "data": {
      "text/plain": [
       "10.691538881766933"
      ]
     },
     "execution_count": 22,
     "metadata": {},
     "output_type": "execute_result"
    }
   ],
   "source": [
    "calculate_smape(m, valid_xs_imp, valid_y)"
   ]
  },
  {
   "cell_type": "code",
   "execution_count": 23,
   "id": "e87ecabc-22c6-4cee-943f-3bb2b747aa87",
   "metadata": {},
   "outputs": [
    {
     "name": "stderr",
     "output_type": "stream",
     "text": [
      "/opt/conda/lib/python3.8/site-packages/sklearn/utils/deprecation.py:87: FutureWarning: Function plot_partial_dependence is deprecated; Function `plot_partial_dependence` is deprecated in 1.0 and will be removed in 1.2. Use PartialDependenceDisplay.from_estimator instead\n",
      "  warnings.warn(msg, category=FutureWarning)\n"
     ]
    },
    {
     "data": {
      "text/plain": [
       "<sklearn.inspection._plot.partial_dependence.PartialDependenceDisplay at 0x7fc46f3ae9d0>"
      ]
     },
     "execution_count": 23,
     "metadata": {},
     "output_type": "execute_result"
    },
    {
     "data": {
      "image/png": "[encoded data removed]",
      "text/plain": [
       "<Figure size 864x288 with 3 Axes>"
      ]
     },
     "metadata": {
      "needs_background": "light"
     },
     "output_type": "display_data"
    }
   ],
   "source": [
    "fig, ax = plt.subplots(figsize = (12, 4))\n",
    "plot_partial_dependence(m, valid_xs, ['product', 'store'], \n",
    "                        grid_resolution = 20, ax = ax)"
   ]
  },
  {
   "cell_type": "code",
   "execution_count": 24,
   "id": "06edde2e-4f4d-4eaf-88aa-06c3fa43ee95",
   "metadata": {},
   "outputs": [
    {
     "data": {
      "text/plain": [
       "['Kaggle Mug', 'Kaggle Hat', 'Kaggle Sticker']\n",
       "Categories (3, object): ['Kaggle Sticker' < 'Kaggle Mug' < 'Kaggle Hat']"
      ]
     },
     "execution_count": 24,
     "metadata": {},
     "output_type": "execute_result"
    }
   ],
   "source": [
    "df[\"product\"].unique()"
   ]
  },
  {
   "cell_type": "code",
   "execution_count": 25,
   "id": "fe635367-8482-47eb-825c-229cd3bb57f6",
   "metadata": {},
   "outputs": [
    {
     "name": "stderr",
     "output_type": "stream",
     "text": [
      "/opt/conda/lib/python3.8/site-packages/pandas/core/arrays/categorical.py:2630: FutureWarning: The `inplace` parameter in pandas.Categorical.set_categories is deprecated and will be removed in a future version. Removing unused categories will always return a new Categorical object.\n",
      "  res = method(*args, **kwargs)\n"
     ]
    }
   ],
   "source": [
    "df_nn = pd.read_csv(\"train.csv\", low_memory = False)\n",
    "df_nn['product'] = df_nn['product'].astype('category')\n",
    "sizes = 'Kaggle Sticker', 'Kaggle Mug', 'Kaggle Hat'\n",
    "df_nn['product'].cat.set_categories(sizes, ordered = True, inplace = True)\n",
    "sizes = 'KaggleRama', 'KaggleMart'\n",
    "df_nn['store'] = df_nn['store'].astype('category')\n",
    "df_nn['store'].cat.set_categories(sizes, ordered = True, inplace = True)"
   ]
  },
  {
   "cell_type": "code",
   "execution_count": 26,
   "id": "66f76b4b-b73a-421d-b819-0d5b41d30834",
   "metadata": {},
   "outputs": [],
   "source": [
    "df_nn = add_datepart(df_nn, 'date')"
   ]
  },
  {
   "cell_type": "code",
   "execution_count": 27,
   "id": "727fee2a-6daa-4884-92d3-9f562b8a1e1f",
   "metadata": {},
   "outputs": [],
   "source": [
    "df_nn_final = df_nn[list(xs_imp.columns) + [dep_var]]"
   ]
  },
  {
   "cell_type": "code",
   "execution_count": 28,
   "id": "a5e3e804-36bc-408c-9ce5-fecbb7c9abcf",
   "metadata": {},
   "outputs": [],
   "source": [
    "cont_nn, cat_nn = cont_cat_split(df_nn_final, max_card = 9000, dep_var = dep_var)"
   ]
  },
  {
   "cell_type": "code",
   "execution_count": 29,
   "id": "25e3d2db-fa6e-4848-ba17-9d9c2c7b1682",
   "metadata": {},
   "outputs": [],
   "source": [
    "procs_nn = [Categorify, FillMissing, Normalize]\n",
    "to_nn = TabularPandas(df_nn_final, procs, cat_nn, cont_nn, y_names = dep_var, splits = splits)"
   ]
  },
  {
   "cell_type": "code",
   "execution_count": 30,
   "id": "781cdcab-ea24-4fd6-a0a5-695f00f6011d",
   "metadata": {},
   "outputs": [],
   "source": [
    "dls = to_nn.dataloaders(1024, device = \"cuda\")"
   ]
  },
  {
   "cell_type": "code",
   "execution_count": 31,
   "id": "2546cfea-9ccc-4965-b75d-7ca8b7a02332",
   "metadata": {},
   "outputs": [],
   "source": [
    "learn = tabular_learner(dls, y_range = (69, 2808), n_out = 1, layers = [500, 250])"
   ]
  },
  {
   "cell_type": "code",
   "execution_count": 32,
   "id": "d46974a6-42b8-4688-b04c-9adec9546eab",
   "metadata": {},
   "outputs": [
    {
     "data": {
      "text/html": [
       "<table border=\"1\" class=\"dataframe\">\n",
       "  <thead>\n",
       "    <tr style=\"text-align: left;\">\n",
       "      <th>epoch</th>\n",
       "      <th>train_loss</th>\n",
       "      <th>valid_loss</th>\n",
       "      <th>time</th>\n",
       "    </tr>\n",
       "  </thead>\n",
       "  <tbody>\n",
       "    <tr>\n",
       "      <td>0</td>\n",
       "      <td>931436.375000</td>\n",
       "      <td>93484.320312</td>\n",
       "      <td>00:00</td>\n",
       "    </tr>\n",
       "    <tr>\n",
       "      <td>1</td>\n",
       "      <td>422338.750000</td>\n",
       "      <td>217655.015625</td>\n",
       "      <td>00:00</td>\n",
       "    </tr>\n",
       "    <tr>\n",
       "      <td>2</td>\n",
       "      <td>268081.781250</td>\n",
       "      <td>194226.281250</td>\n",
       "      <td>00:00</td>\n",
       "    </tr>\n",
       "    <tr>\n",
       "      <td>3</td>\n",
       "      <td>175397.578125</td>\n",
       "      <td>96771.554688</td>\n",
       "      <td>00:00</td>\n",
       "    </tr>\n",
       "    <tr>\n",
       "      <td>4</td>\n",
       "      <td>115256.507812</td>\n",
       "      <td>15176.389648</td>\n",
       "      <td>00:00</td>\n",
       "    </tr>\n",
       "    <tr>\n",
       "      <td>5</td>\n",
       "      <td>76077.671875</td>\n",
       "      <td>6197.448242</td>\n",
       "      <td>00:00</td>\n",
       "    </tr>\n",
       "    <tr>\n",
       "      <td>6</td>\n",
       "      <td>51254.054688</td>\n",
       "      <td>5261.745117</td>\n",
       "      <td>00:00</td>\n",
       "    </tr>\n",
       "    <tr>\n",
       "      <td>7</td>\n",
       "      <td>35026.000000</td>\n",
       "      <td>4558.931152</td>\n",
       "      <td>00:00</td>\n",
       "    </tr>\n",
       "    <tr>\n",
       "      <td>8</td>\n",
       "      <td>24241.560547</td>\n",
       "      <td>4578.417969</td>\n",
       "      <td>00:00</td>\n",
       "    </tr>\n",
       "    <tr>\n",
       "      <td>9</td>\n",
       "      <td>17037.966797</td>\n",
       "      <td>4486.085938</td>\n",
       "      <td>00:00</td>\n",
       "    </tr>\n",
       "  </tbody>\n",
       "</table>"
      ],
      "text/plain": [
       "<IPython.core.display.HTML object>"
      ]
     },
     "metadata": {},
     "output_type": "display_data"
    }
   ],
   "source": [
    "learn.fit_one_cycle(10, 1e-1)"
   ]
  },
  {
   "cell_type": "code",
   "execution_count": 33,
   "id": "290b1f73-fc04-4ca1-93a9-566a9e7c7bb9",
   "metadata": {},
   "outputs": [
    {
     "data": {
      "text/plain": [
       "TabularModel(\n",
       "  (embeds): ModuleList(\n",
       "    (0): Embedding(4, 3)\n",
       "    (1): Embedding(3, 3)\n",
       "    (2): Embedding(4, 3)\n",
       "    (3): Embedding(367, 44)\n",
       "    (4): Embedding(8, 5)\n",
       "    (5): Embedding(54, 15)\n",
       "    (6): Embedding(13, 7)\n",
       "    (7): Embedding(32, 11)\n",
       "  )\n",
       "  (emb_drop): Dropout(p=0.0, inplace=False)\n",
       "  (bn_cont): BatchNorm1d(1, eps=1e-05, momentum=0.1, affine=True, track_running_stats=True)\n",
       "  (layers): Sequential(\n",
       "    (0): LinBnDrop(\n",
       "      (0): Linear(in_features=92, out_features=500, bias=False)\n",
       "      (1): ReLU(inplace=True)\n",
       "      (2): BatchNorm1d(500, eps=1e-05, momentum=0.1, affine=True, track_running_stats=True)\n",
       "    )\n",
       "    (1): LinBnDrop(\n",
       "      (0): Linear(in_features=500, out_features=250, bias=False)\n",
       "      (1): ReLU(inplace=True)\n",
       "      (2): BatchNorm1d(250, eps=1e-05, momentum=0.1, affine=True, track_running_stats=True)\n",
       "    )\n",
       "    (2): LinBnDrop(\n",
       "      (0): Linear(in_features=250, out_features=1, bias=True)\n",
       "    )\n",
       "    (3): SigmoidRange(low=69, high=2808)\n",
       "  )\n",
       ")"
      ]
     },
     "execution_count": 33,
     "metadata": {},
     "output_type": "execute_result"
    }
   ],
   "source": [
    "learn.model"
   ]
  },
  {
   "cell_type": "code",
   "execution_count": 34,
   "id": "d7cb3115-55ab-40e0-ab1a-a50abd566150",
   "metadata": {},
   "outputs": [],
   "source": [
    "embs = [param for param in learn.model.embeds.parameters()]"
   ]
  },
  {
   "cell_type": "code",
   "execution_count": 35,
   "id": "345fd7f2-77ba-412c-836f-a63aeb9e7e4d",
   "metadata": {},
   "outputs": [
    {
     "data": {
      "text/plain": [
       "(8, 8)"
      ]
     },
     "execution_count": 35,
     "metadata": {},
     "output_type": "execute_result"
    }
   ],
   "source": [
    "len(embs), len(cat_nn)"
   ]
  },
  {
   "cell_type": "code",
   "execution_count": 36,
   "id": "67142ead-139e-4973-82b2-77b22fbed818",
   "metadata": {},
   "outputs": [
    {
     "data": {
      "text/plain": [
       "(#9) ['country','store','product','Is_month_end','Is_month_start','Is_quarter_end','Is_quarter_start','Is_year_end','Is_year_start']"
      ]
     },
     "execution_count": 36,
     "metadata": {},
     "output_type": "execute_result"
    }
   ],
   "source": [
    "to.cat_names"
   ]
  },
  {
   "cell_type": "code",
   "execution_count": 37,
   "id": "fad7cc66-44fe-40e4-a224-f6c4c3ac795b",
   "metadata": {},
   "outputs": [],
   "source": [
    "emb_dict = {}\n",
    "cats = list(to.cat_names)\n",
    "\n",
    "for i,j in zip(cats, embs) :\n",
    "    j = j.to(device = \"cpu\")\n",
    "    j = j.detach().numpy()\n",
    "    emb_dict[i] = j"
   ]
  },
  {
   "cell_type": "code",
   "execution_count": 38,
   "id": "00669c17-789c-4d8c-85bd-5928e17b4a61",
   "metadata": {},
   "outputs": [
    {
     "data": {
      "text/plain": [
       "dict_keys(['country', 'store', 'product', 'Is_month_end', 'Is_month_start', 'Is_quarter_end', 'Is_quarter_start', 'Is_year_end'])"
      ]
     },
     "execution_count": 38,
     "metadata": {},
     "output_type": "execute_result"
    }
   ],
   "source": [
    "emb_dict.keys()"
   ]
  },
  {
   "cell_type": "code",
   "execution_count": 39,
   "id": "b116ac33-f687-47d1-9839-fab4598745c4",
   "metadata": {},
   "outputs": [
    {
     "data": {
      "text/plain": [
       "array([[ 0.01356119,  0.01118535,  0.01405186],\n",
       "       [ 0.49851698,  0.16572799,  0.44117638],\n",
       "       [-0.22997577, -0.31350416, -0.36796924],\n",
       "       [-1.012257  , -0.8346111 , -0.7070108 ]], dtype=float32)"
      ]
     },
     "execution_count": 39,
     "metadata": {},
     "output_type": "execute_result"
    }
   ],
   "source": [
    "emb_dict['country']"
   ]
  },
  {
   "cell_type": "code",
   "execution_count": 40,
   "id": "4b5fb81e-3b6e-4a2d-a55c-d5ccebee7a0d",
   "metadata": {},
   "outputs": [
    {
     "data": {
      "text/plain": [
       "3"
      ]
     },
     "execution_count": 40,
     "metadata": {},
     "output_type": "execute_result"
    }
   ],
   "source": [
    "emb_dim = emb_dict['country'].shape[1]\n",
    "emb_dim"
   ]
  },
  {
   "cell_type": "code",
   "execution_count": 41,
   "id": "e361833d-bca6-44b5-81d4-6cdef86ebc6e",
   "metadata": {},
   "outputs": [
    {
     "data": {
      "text/plain": [
       "['#na#', 'Finland', 'Norway', 'Sweden']"
      ]
     },
     "execution_count": 41,
     "metadata": {},
     "output_type": "execute_result"
    }
   ],
   "source": [
    "cat = to.procs.categorify\n",
    "country_cat = cat['country']\n",
    "country_cat"
   ]
  },
  {
   "cell_type": "code",
   "execution_count": 42,
   "id": "40f15f53-3781-4409-b98c-19ef79e6956e",
   "metadata": {},
   "outputs": [],
   "source": [
    "col_name = [f'country_emb_{i}' for i in range(1, emb_dim + 1)]\n",
    "country_map = {country_cat[i] : emb_dict['country'][i] for i in range(len(country_cat))}\n",
    "df_emb_country = pd.DataFrame(df_nn_final['country'].map(country_map).to_list(), columns = col_name)"
   ]
  },
  {
   "cell_type": "code",
   "execution_count": 43,
   "id": "8accf056-b3d2-4df2-9528-754e7c184408",
   "metadata": {},
   "outputs": [
    {
     "data": {
      "text/html": [
       "<div>\n",
       "<style scoped>\n",
       "    .dataframe tbody tr th:only-of-type {\n",
       "        vertical-align: middle;\n",
       "    }\n",
       "\n",
       "    .dataframe tbody tr th {\n",
       "        vertical-align: top;\n",
       "    }\n",
       "\n",
       "    .dataframe thead th {\n",
       "        text-align: right;\n",
       "    }\n",
       "</style>\n",
       "<table border=\"1\" class=\"dataframe\">\n",
       "  <thead>\n",
       "    <tr style=\"text-align: right;\">\n",
       "      <th></th>\n",
       "      <th>country_emb_1</th>\n",
       "      <th>country_emb_2</th>\n",
       "      <th>country_emb_3</th>\n",
       "    </tr>\n",
       "  </thead>\n",
       "  <tbody>\n",
       "    <tr>\n",
       "      <th>0</th>\n",
       "      <td>0.498517</td>\n",
       "      <td>0.165728</td>\n",
       "      <td>0.441176</td>\n",
       "    </tr>\n",
       "    <tr>\n",
       "      <th>1</th>\n",
       "      <td>0.498517</td>\n",
       "      <td>0.165728</td>\n",
       "      <td>0.441176</td>\n",
       "    </tr>\n",
       "    <tr>\n",
       "      <th>2</th>\n",
       "      <td>0.498517</td>\n",
       "      <td>0.165728</td>\n",
       "      <td>0.441176</td>\n",
       "    </tr>\n",
       "    <tr>\n",
       "      <th>3</th>\n",
       "      <td>0.498517</td>\n",
       "      <td>0.165728</td>\n",
       "      <td>0.441176</td>\n",
       "    </tr>\n",
       "    <tr>\n",
       "      <th>4</th>\n",
       "      <td>0.498517</td>\n",
       "      <td>0.165728</td>\n",
       "      <td>0.441176</td>\n",
       "    </tr>\n",
       "  </tbody>\n",
       "</table>\n",
       "</div>"
      ],
      "text/plain": [
       "   country_emb_1  country_emb_2  country_emb_3\n",
       "0       0.498517       0.165728       0.441176\n",
       "1       0.498517       0.165728       0.441176\n",
       "2       0.498517       0.165728       0.441176\n",
       "3       0.498517       0.165728       0.441176\n",
       "4       0.498517       0.165728       0.441176"
      ]
     },
     "execution_count": 43,
     "metadata": {},
     "output_type": "execute_result"
    }
   ],
   "source": [
    "df_emb_country.head()"
   ]
  },
  {
   "cell_type": "code",
   "execution_count": 44,
   "id": "1d898335-9144-40c1-a23b-0d64e97862c2",
   "metadata": {},
   "outputs": [
    {
     "data": {
      "text/html": [
       "<div>\n",
       "<style scoped>\n",
       "    .dataframe tbody tr th:only-of-type {\n",
       "        vertical-align: middle;\n",
       "    }\n",
       "\n",
       "    .dataframe tbody tr th {\n",
       "        vertical-align: top;\n",
       "    }\n",
       "\n",
       "    .dataframe thead th {\n",
       "        text-align: right;\n",
       "    }\n",
       "</style>\n",
       "<table border=\"1\" class=\"dataframe\">\n",
       "  <thead>\n",
       "    <tr style=\"text-align: right;\">\n",
       "      <th></th>\n",
       "      <th>product</th>\n",
       "      <th>store</th>\n",
       "      <th>country</th>\n",
       "      <th>Dayofyear</th>\n",
       "      <th>Dayofweek</th>\n",
       "      <th>Week</th>\n",
       "      <th>Month</th>\n",
       "      <th>Elapsed</th>\n",
       "      <th>Day</th>\n",
       "      <th>num_sold</th>\n",
       "    </tr>\n",
       "  </thead>\n",
       "  <tbody>\n",
       "    <tr>\n",
       "      <th>0</th>\n",
       "      <td>Kaggle Mug</td>\n",
       "      <td>KaggleMart</td>\n",
       "      <td>Finland</td>\n",
       "      <td>1</td>\n",
       "      <td>3</td>\n",
       "      <td>1</td>\n",
       "      <td>1</td>\n",
       "      <td>1.420070e+09</td>\n",
       "      <td>1</td>\n",
       "      <td>329</td>\n",
       "    </tr>\n",
       "    <tr>\n",
       "      <th>1</th>\n",
       "      <td>Kaggle Hat</td>\n",
       "      <td>KaggleMart</td>\n",
       "      <td>Finland</td>\n",
       "      <td>1</td>\n",
       "      <td>3</td>\n",
       "      <td>1</td>\n",
       "      <td>1</td>\n",
       "      <td>1.420070e+09</td>\n",
       "      <td>1</td>\n",
       "      <td>520</td>\n",
       "    </tr>\n",
       "    <tr>\n",
       "      <th>2</th>\n",
       "      <td>Kaggle Sticker</td>\n",
       "      <td>KaggleMart</td>\n",
       "      <td>Finland</td>\n",
       "      <td>1</td>\n",
       "      <td>3</td>\n",
       "      <td>1</td>\n",
       "      <td>1</td>\n",
       "      <td>1.420070e+09</td>\n",
       "      <td>1</td>\n",
       "      <td>146</td>\n",
       "    </tr>\n",
       "    <tr>\n",
       "      <th>3</th>\n",
       "      <td>Kaggle Mug</td>\n",
       "      <td>KaggleRama</td>\n",
       "      <td>Finland</td>\n",
       "      <td>1</td>\n",
       "      <td>3</td>\n",
       "      <td>1</td>\n",
       "      <td>1</td>\n",
       "      <td>1.420070e+09</td>\n",
       "      <td>1</td>\n",
       "      <td>572</td>\n",
       "    </tr>\n",
       "    <tr>\n",
       "      <th>4</th>\n",
       "      <td>Kaggle Hat</td>\n",
       "      <td>KaggleRama</td>\n",
       "      <td>Finland</td>\n",
       "      <td>1</td>\n",
       "      <td>3</td>\n",
       "      <td>1</td>\n",
       "      <td>1</td>\n",
       "      <td>1.420070e+09</td>\n",
       "      <td>1</td>\n",
       "      <td>911</td>\n",
       "    </tr>\n",
       "  </tbody>\n",
       "</table>\n",
       "</div>"
      ],
      "text/plain": [
       "          product       store  country  Dayofyear  Dayofweek  Week  Month  \\\n",
       "0      Kaggle Mug  KaggleMart  Finland          1          3     1      1   \n",
       "1      Kaggle Hat  KaggleMart  Finland          1          3     1      1   \n",
       "2  Kaggle Sticker  KaggleMart  Finland          1          3     1      1   \n",
       "3      Kaggle Mug  KaggleRama  Finland          1          3     1      1   \n",
       "4      Kaggle Hat  KaggleRama  Finland          1          3     1      1   \n",
       "\n",
       "        Elapsed  Day  num_sold  \n",
       "0  1.420070e+09    1       329  \n",
       "1  1.420070e+09    1       520  \n",
       "2  1.420070e+09    1       146  \n",
       "3  1.420070e+09    1       572  \n",
       "4  1.420070e+09    1       911  "
      ]
     },
     "execution_count": 44,
     "metadata": {},
     "output_type": "execute_result"
    }
   ],
   "source": [
    "df_nn_final.head()"
   ]
  },
  {
   "cell_type": "code",
   "execution_count": 45,
   "id": "20dfab49-a155-4d1e-82c8-637bf422328c",
   "metadata": {},
   "outputs": [
    {
     "data": {
      "text/html": [
       "<div>\n",
       "<style scoped>\n",
       "    .dataframe tbody tr th:only-of-type {\n",
       "        vertical-align: middle;\n",
       "    }\n",
       "\n",
       "    .dataframe tbody tr th {\n",
       "        vertical-align: top;\n",
       "    }\n",
       "\n",
       "    .dataframe thead th {\n",
       "        text-align: right;\n",
       "    }\n",
       "</style>\n",
       "<table border=\"1\" class=\"dataframe\">\n",
       "  <thead>\n",
       "    <tr style=\"text-align: right;\">\n",
       "      <th></th>\n",
       "      <th>product</th>\n",
       "      <th>store</th>\n",
       "      <th>country</th>\n",
       "      <th>Dayofyear</th>\n",
       "      <th>Dayofweek</th>\n",
       "      <th>Week</th>\n",
       "      <th>Month</th>\n",
       "      <th>Elapsed</th>\n",
       "      <th>Day</th>\n",
       "      <th>num_sold</th>\n",
       "    </tr>\n",
       "  </thead>\n",
       "  <tbody>\n",
       "    <tr>\n",
       "      <th>26293</th>\n",
       "      <td>Kaggle Hat</td>\n",
       "      <td>KaggleMart</td>\n",
       "      <td>Sweden</td>\n",
       "      <td>365</td>\n",
       "      <td>0</td>\n",
       "      <td>1</td>\n",
       "      <td>12</td>\n",
       "      <td>1.546214e+09</td>\n",
       "      <td>31</td>\n",
       "      <td>823</td>\n",
       "    </tr>\n",
       "    <tr>\n",
       "      <th>26294</th>\n",
       "      <td>Kaggle Sticker</td>\n",
       "      <td>KaggleMart</td>\n",
       "      <td>Sweden</td>\n",
       "      <td>365</td>\n",
       "      <td>0</td>\n",
       "      <td>1</td>\n",
       "      <td>12</td>\n",
       "      <td>1.546214e+09</td>\n",
       "      <td>31</td>\n",
       "      <td>250</td>\n",
       "    </tr>\n",
       "    <tr>\n",
       "      <th>26295</th>\n",
       "      <td>Kaggle Mug</td>\n",
       "      <td>KaggleRama</td>\n",
       "      <td>Sweden</td>\n",
       "      <td>365</td>\n",
       "      <td>0</td>\n",
       "      <td>1</td>\n",
       "      <td>12</td>\n",
       "      <td>1.546214e+09</td>\n",
       "      <td>31</td>\n",
       "      <td>1004</td>\n",
       "    </tr>\n",
       "    <tr>\n",
       "      <th>26296</th>\n",
       "      <td>Kaggle Hat</td>\n",
       "      <td>KaggleRama</td>\n",
       "      <td>Sweden</td>\n",
       "      <td>365</td>\n",
       "      <td>0</td>\n",
       "      <td>1</td>\n",
       "      <td>12</td>\n",
       "      <td>1.546214e+09</td>\n",
       "      <td>31</td>\n",
       "      <td>1441</td>\n",
       "    </tr>\n",
       "    <tr>\n",
       "      <th>26297</th>\n",
       "      <td>Kaggle Sticker</td>\n",
       "      <td>KaggleRama</td>\n",
       "      <td>Sweden</td>\n",
       "      <td>365</td>\n",
       "      <td>0</td>\n",
       "      <td>1</td>\n",
       "      <td>12</td>\n",
       "      <td>1.546214e+09</td>\n",
       "      <td>31</td>\n",
       "      <td>388</td>\n",
       "    </tr>\n",
       "  </tbody>\n",
       "</table>\n",
       "</div>"
      ],
      "text/plain": [
       "              product       store country  Dayofyear  Dayofweek  Week  Month  \\\n",
       "26293      Kaggle Hat  KaggleMart  Sweden        365          0     1     12   \n",
       "26294  Kaggle Sticker  KaggleMart  Sweden        365          0     1     12   \n",
       "26295      Kaggle Mug  KaggleRama  Sweden        365          0     1     12   \n",
       "26296      Kaggle Hat  KaggleRama  Sweden        365          0     1     12   \n",
       "26297  Kaggle Sticker  KaggleRama  Sweden        365          0     1     12   \n",
       "\n",
       "            Elapsed  Day  num_sold  \n",
       "26293  1.546214e+09   31       823  \n",
       "26294  1.546214e+09   31       250  \n",
       "26295  1.546214e+09   31      1004  \n",
       "26296  1.546214e+09   31      1441  \n",
       "26297  1.546214e+09   31       388  "
      ]
     },
     "execution_count": 45,
     "metadata": {},
     "output_type": "execute_result"
    }
   ],
   "source": [
    "df_nn_final.tail()"
   ]
  },
  {
   "cell_type": "code",
   "execution_count": 46,
   "id": "e11c0f0f-6b94-488d-bca8-bd0aca432209",
   "metadata": {},
   "outputs": [
    {
     "data": {
      "text/html": [
       "<div>\n",
       "<style scoped>\n",
       "    .dataframe tbody tr th:only-of-type {\n",
       "        vertical-align: middle;\n",
       "    }\n",
       "\n",
       "    .dataframe tbody tr th {\n",
       "        vertical-align: top;\n",
       "    }\n",
       "\n",
       "    .dataframe thead th {\n",
       "        text-align: right;\n",
       "    }\n",
       "</style>\n",
       "<table border=\"1\" class=\"dataframe\">\n",
       "  <thead>\n",
       "    <tr style=\"text-align: right;\">\n",
       "      <th></th>\n",
       "      <th>country_emb_1</th>\n",
       "      <th>country_emb_2</th>\n",
       "      <th>country_emb_3</th>\n",
       "    </tr>\n",
       "  </thead>\n",
       "  <tbody>\n",
       "    <tr>\n",
       "      <th>26293</th>\n",
       "      <td>-1.012257</td>\n",
       "      <td>-0.834611</td>\n",
       "      <td>-0.707011</td>\n",
       "    </tr>\n",
       "    <tr>\n",
       "      <th>26294</th>\n",
       "      <td>-1.012257</td>\n",
       "      <td>-0.834611</td>\n",
       "      <td>-0.707011</td>\n",
       "    </tr>\n",
       "    <tr>\n",
       "      <th>26295</th>\n",
       "      <td>-1.012257</td>\n",
       "      <td>-0.834611</td>\n",
       "      <td>-0.707011</td>\n",
       "    </tr>\n",
       "    <tr>\n",
       "      <th>26296</th>\n",
       "      <td>-1.012257</td>\n",
       "      <td>-0.834611</td>\n",
       "      <td>-0.707011</td>\n",
       "    </tr>\n",
       "    <tr>\n",
       "      <th>26297</th>\n",
       "      <td>-1.012257</td>\n",
       "      <td>-0.834611</td>\n",
       "      <td>-0.707011</td>\n",
       "    </tr>\n",
       "  </tbody>\n",
       "</table>\n",
       "</div>"
      ],
      "text/plain": [
       "       country_emb_1  country_emb_2  country_emb_3\n",
       "26293      -1.012257      -0.834611      -0.707011\n",
       "26294      -1.012257      -0.834611      -0.707011\n",
       "26295      -1.012257      -0.834611      -0.707011\n",
       "26296      -1.012257      -0.834611      -0.707011\n",
       "26297      -1.012257      -0.834611      -0.707011"
      ]
     },
     "execution_count": 46,
     "metadata": {},
     "output_type": "execute_result"
    }
   ],
   "source": [
    "df_emb_country.tail()"
   ]
  },
  {
   "cell_type": "code",
   "execution_count": 47,
   "id": "3fde289a-04da-43a2-93cc-9e890cd5dd1d",
   "metadata": {},
   "outputs": [
    {
     "name": "stdout",
     "output_type": "stream",
     "text": [
      "['#na#', 'Kaggle Sticker', 'Kaggle Mug', 'Kaggle Hat']\n"
     ]
    },
    {
     "ename": "TypeError",
     "evalue": "unhashable type: 'numpy.ndarray'",
     "output_type": "error",
     "traceback": [
      "\u001b[0;31m---------------------------------------------------------------------------\u001b[0m",
      "\u001b[0;31mTypeError\u001b[0m                                 Traceback (most recent call last)",
      "\u001b[0;32mpandas/_libs/hashtable_class_helper.pxi\u001b[0m in \u001b[0;36mpandas._libs.hashtable.PyObjectHashTable.map_locations\u001b[0;34m()\u001b[0m\n",
      "\u001b[0;31mTypeError\u001b[0m: unhashable type: 'numpy.ndarray'"
     ]
    },
    {
     "name": "stderr",
     "output_type": "stream",
     "text": [
      "Exception ignored in: 'pandas._libs.index.IndexEngine._call_map_locations'\n",
      "Traceback (most recent call last):\n",
      "  File \"pandas/_libs/hashtable_class_helper.pxi\", line 5231, in pandas._libs.hashtable.PyObjectHashTable.map_locations\n",
      "TypeError: unhashable type: 'numpy.ndarray'\n"
     ]
    }
   ],
   "source": [
    "cat = to.procs.categorify\n",
    "product_cat = cat['product']\n",
    "print (product_cat)\n",
    "emb_dim = emb_dict['product'].shape[1]\n",
    "col_name = [f'product_emb_{i}' for i in range(1, emb_dim + 1)]\n",
    "product_map = {product_cat[i] : emb_dict['product'][i] for i in range(len(product_cat))}\n",
    "df_emb_product = pd.DataFrame(df_nn_final['product'].map(product_map).to_list(), columns = col_name)"
   ]
  },
  {
   "cell_type": "code",
   "execution_count": 48,
   "id": "a0f82e2e-96bd-415d-a4c0-4e0333e81f06",
   "metadata": {},
   "outputs": [
    {
     "data": {
      "text/plain": [
       "dict_keys(['#na#', 'Kaggle Sticker', 'Kaggle Mug', 'Kaggle Hat'])"
      ]
     },
     "execution_count": 48,
     "metadata": {},
     "output_type": "execute_result"
    }
   ],
   "source": [
    "product_map.keys()"
   ]
  },
  {
   "cell_type": "code",
   "execution_count": 49,
   "id": "293fede3-80c7-4271-bd3d-035716c99451",
   "metadata": {},
   "outputs": [
    {
     "data": {
      "text/plain": [
       "26298"
      ]
     },
     "execution_count": 49,
     "metadata": {},
     "output_type": "execute_result"
    }
   ],
   "source": [
    "len(df_emb_product)"
   ]
  },
  {
   "cell_type": "code",
   "execution_count": 50,
   "id": "95e2c60d-843e-4b9e-8eee-3af176c32dc6",
   "metadata": {},
   "outputs": [
    {
     "data": {
      "text/plain": [
       "26298"
      ]
     },
     "execution_count": 50,
     "metadata": {},
     "output_type": "execute_result"
    }
   ],
   "source": [
    "len(df_emb_country)"
   ]
  },
  {
   "cell_type": "code",
   "execution_count": 51,
   "id": "12f5d70a-93d5-4247-b10e-9943cf1ec698",
   "metadata": {},
   "outputs": [
    {
     "name": "stdout",
     "output_type": "stream",
     "text": [
      "['#na#', 'KaggleRama', 'KaggleMart']\n"
     ]
    },
    {
     "ename": "TypeError",
     "evalue": "unhashable type: 'numpy.ndarray'",
     "output_type": "error",
     "traceback": [
      "\u001b[0;31m---------------------------------------------------------------------------\u001b[0m",
      "\u001b[0;31mTypeError\u001b[0m                                 Traceback (most recent call last)",
      "\u001b[0;32mpandas/_libs/hashtable_class_helper.pxi\u001b[0m in \u001b[0;36mpandas._libs.hashtable.PyObjectHashTable.map_locations\u001b[0;34m()\u001b[0m\n",
      "\u001b[0;31mTypeError\u001b[0m: unhashable type: 'numpy.ndarray'"
     ]
    },
    {
     "name": "stderr",
     "output_type": "stream",
     "text": [
      "Exception ignored in: 'pandas._libs.index.IndexEngine._call_map_locations'\n",
      "Traceback (most recent call last):\n",
      "  File \"pandas/_libs/hashtable_class_helper.pxi\", line 5231, in pandas._libs.hashtable.PyObjectHashTable.map_locations\n",
      "TypeError: unhashable type: 'numpy.ndarray'\n"
     ]
    }
   ],
   "source": [
    "cat = to.procs.categorify\n",
    "store_cat = cat['store']\n",
    "print (store_cat)\n",
    "emb_dim = emb_dict['store'].shape[1]\n",
    "col_name = [f'store_emb_{i}' for i in range(1, emb_dim + 1)]\n",
    "store_map = {store_cat[i] : emb_dict['store'][i] for i in range(len(store_cat))}\n",
    "df_emb_store = pd.DataFrame(df_nn_final['store'].map(store_map).to_list(), columns = col_name)"
   ]
  },
  {
   "cell_type": "code",
   "execution_count": 52,
   "id": "a1fc8e95-ab08-44e9-92c9-bbf97a3bbfb3",
   "metadata": {},
   "outputs": [
    {
     "data": {
      "text/html": [
       "<div>\n",
       "<style scoped>\n",
       "    .dataframe tbody tr th:only-of-type {\n",
       "        vertical-align: middle;\n",
       "    }\n",
       "\n",
       "    .dataframe tbody tr th {\n",
       "        vertical-align: top;\n",
       "    }\n",
       "\n",
       "    .dataframe thead th {\n",
       "        text-align: right;\n",
       "    }\n",
       "</style>\n",
       "<table border=\"1\" class=\"dataframe\">\n",
       "  <thead>\n",
       "    <tr style=\"text-align: right;\">\n",
       "      <th></th>\n",
       "      <th>store_emb_1</th>\n",
       "      <th>store_emb_2</th>\n",
       "      <th>store_emb_3</th>\n",
       "    </tr>\n",
       "  </thead>\n",
       "  <tbody>\n",
       "    <tr>\n",
       "      <th>0</th>\n",
       "      <td>0.023705</td>\n",
       "      <td>0.111968</td>\n",
       "      <td>0.133358</td>\n",
       "    </tr>\n",
       "    <tr>\n",
       "      <th>1</th>\n",
       "      <td>0.023705</td>\n",
       "      <td>0.111968</td>\n",
       "      <td>0.133358</td>\n",
       "    </tr>\n",
       "    <tr>\n",
       "      <th>2</th>\n",
       "      <td>0.023705</td>\n",
       "      <td>0.111968</td>\n",
       "      <td>0.133358</td>\n",
       "    </tr>\n",
       "    <tr>\n",
       "      <th>3</th>\n",
       "      <td>0.689716</td>\n",
       "      <td>1.039049</td>\n",
       "      <td>0.618767</td>\n",
       "    </tr>\n",
       "    <tr>\n",
       "      <th>4</th>\n",
       "      <td>0.689716</td>\n",
       "      <td>1.039049</td>\n",
       "      <td>0.618767</td>\n",
       "    </tr>\n",
       "  </tbody>\n",
       "</table>\n",
       "</div>"
      ],
      "text/plain": [
       "   store_emb_1  store_emb_2  store_emb_3\n",
       "0     0.023705     0.111968     0.133358\n",
       "1     0.023705     0.111968     0.133358\n",
       "2     0.023705     0.111968     0.133358\n",
       "3     0.689716     1.039049     0.618767\n",
       "4     0.689716     1.039049     0.618767"
      ]
     },
     "execution_count": 52,
     "metadata": {},
     "output_type": "execute_result"
    }
   ],
   "source": [
    "df_emb_store.head()"
   ]
  },
  {
   "cell_type": "code",
   "execution_count": 53,
   "id": "fcfa857f-cb97-4552-bb23-aeae0ceaec29",
   "metadata": {},
   "outputs": [
    {
     "data": {
      "text/html": [
       "<div>\n",
       "<style scoped>\n",
       "    .dataframe tbody tr th:only-of-type {\n",
       "        vertical-align: middle;\n",
       "    }\n",
       "\n",
       "    .dataframe tbody tr th {\n",
       "        vertical-align: top;\n",
       "    }\n",
       "\n",
       "    .dataframe thead th {\n",
       "        text-align: right;\n",
       "    }\n",
       "</style>\n",
       "<table border=\"1\" class=\"dataframe\">\n",
       "  <thead>\n",
       "    <tr style=\"text-align: right;\">\n",
       "      <th></th>\n",
       "      <th>store_emb_1</th>\n",
       "      <th>store_emb_2</th>\n",
       "      <th>store_emb_3</th>\n",
       "    </tr>\n",
       "  </thead>\n",
       "  <tbody>\n",
       "    <tr>\n",
       "      <th>26293</th>\n",
       "      <td>0.023705</td>\n",
       "      <td>0.111968</td>\n",
       "      <td>0.133358</td>\n",
       "    </tr>\n",
       "    <tr>\n",
       "      <th>26294</th>\n",
       "      <td>0.023705</td>\n",
       "      <td>0.111968</td>\n",
       "      <td>0.133358</td>\n",
       "    </tr>\n",
       "    <tr>\n",
       "      <th>26295</th>\n",
       "      <td>0.689716</td>\n",
       "      <td>1.039049</td>\n",
       "      <td>0.618767</td>\n",
       "    </tr>\n",
       "    <tr>\n",
       "      <th>26296</th>\n",
       "      <td>0.689716</td>\n",
       "      <td>1.039049</td>\n",
       "      <td>0.618767</td>\n",
       "    </tr>\n",
       "    <tr>\n",
       "      <th>26297</th>\n",
       "      <td>0.689716</td>\n",
       "      <td>1.039049</td>\n",
       "      <td>0.618767</td>\n",
       "    </tr>\n",
       "  </tbody>\n",
       "</table>\n",
       "</div>"
      ],
      "text/plain": [
       "       store_emb_1  store_emb_2  store_emb_3\n",
       "26293     0.023705     0.111968     0.133358\n",
       "26294     0.023705     0.111968     0.133358\n",
       "26295     0.689716     1.039049     0.618767\n",
       "26296     0.689716     1.039049     0.618767\n",
       "26297     0.689716     1.039049     0.618767"
      ]
     },
     "execution_count": 53,
     "metadata": {},
     "output_type": "execute_result"
    }
   ],
   "source": [
    "df_emb_store.tail()"
   ]
  },
  {
   "cell_type": "code",
   "execution_count": 54,
   "id": "91e79bc2-f612-46ae-861b-443dc36a7ee1",
   "metadata": {},
   "outputs": [],
   "source": [
    "df_embs = pd.concat([df_emb_country, df_emb_product, df_emb_store], axis = 1)"
   ]
  },
  {
   "cell_type": "code",
   "execution_count": 55,
   "id": "2341de3a-86ae-4b8d-afc7-a3561c4ac984",
   "metadata": {},
   "outputs": [
    {
     "data": {
      "text/html": [
       "<div>\n",
       "<style scoped>\n",
       "    .dataframe tbody tr th:only-of-type {\n",
       "        vertical-align: middle;\n",
       "    }\n",
       "\n",
       "    .dataframe tbody tr th {\n",
       "        vertical-align: top;\n",
       "    }\n",
       "\n",
       "    .dataframe thead th {\n",
       "        text-align: right;\n",
       "    }\n",
       "</style>\n",
       "<table border=\"1\" class=\"dataframe\">\n",
       "  <thead>\n",
       "    <tr style=\"text-align: right;\">\n",
       "      <th></th>\n",
       "      <th>country_emb_1</th>\n",
       "      <th>country_emb_2</th>\n",
       "      <th>country_emb_3</th>\n",
       "      <th>product_emb_1</th>\n",
       "      <th>product_emb_2</th>\n",
       "      <th>product_emb_3</th>\n",
       "      <th>store_emb_1</th>\n",
       "      <th>store_emb_2</th>\n",
       "      <th>store_emb_3</th>\n",
       "    </tr>\n",
       "  </thead>\n",
       "  <tbody>\n",
       "    <tr>\n",
       "      <th>0</th>\n",
       "      <td>0.498517</td>\n",
       "      <td>0.165728</td>\n",
       "      <td>0.441176</td>\n",
       "      <td>0.425925</td>\n",
       "      <td>-0.523972</td>\n",
       "      <td>0.226442</td>\n",
       "      <td>0.023705</td>\n",
       "      <td>0.111968</td>\n",
       "      <td>0.133358</td>\n",
       "    </tr>\n",
       "    <tr>\n",
       "      <th>1</th>\n",
       "      <td>0.498517</td>\n",
       "      <td>0.165728</td>\n",
       "      <td>0.441176</td>\n",
       "      <td>0.127828</td>\n",
       "      <td>-0.086277</td>\n",
       "      <td>0.016927</td>\n",
       "      <td>0.023705</td>\n",
       "      <td>0.111968</td>\n",
       "      <td>0.133358</td>\n",
       "    </tr>\n",
       "    <tr>\n",
       "      <th>2</th>\n",
       "      <td>0.498517</td>\n",
       "      <td>0.165728</td>\n",
       "      <td>0.441176</td>\n",
       "      <td>0.066269</td>\n",
       "      <td>0.244436</td>\n",
       "      <td>0.013940</td>\n",
       "      <td>0.023705</td>\n",
       "      <td>0.111968</td>\n",
       "      <td>0.133358</td>\n",
       "    </tr>\n",
       "    <tr>\n",
       "      <th>3</th>\n",
       "      <td>0.498517</td>\n",
       "      <td>0.165728</td>\n",
       "      <td>0.441176</td>\n",
       "      <td>0.425925</td>\n",
       "      <td>-0.523972</td>\n",
       "      <td>0.226442</td>\n",
       "      <td>0.689716</td>\n",
       "      <td>1.039049</td>\n",
       "      <td>0.618767</td>\n",
       "    </tr>\n",
       "    <tr>\n",
       "      <th>4</th>\n",
       "      <td>0.498517</td>\n",
       "      <td>0.165728</td>\n",
       "      <td>0.441176</td>\n",
       "      <td>0.127828</td>\n",
       "      <td>-0.086277</td>\n",
       "      <td>0.016927</td>\n",
       "      <td>0.689716</td>\n",
       "      <td>1.039049</td>\n",
       "      <td>0.618767</td>\n",
       "    </tr>\n",
       "  </tbody>\n",
       "</table>\n",
       "</div>"
      ],
      "text/plain": [
       "   country_emb_1  country_emb_2  country_emb_3  product_emb_1  product_emb_2  \\\n",
       "0       0.498517       0.165728       0.441176       0.425925      -0.523972   \n",
       "1       0.498517       0.165728       0.441176       0.127828      -0.086277   \n",
       "2       0.498517       0.165728       0.441176       0.066269       0.244436   \n",
       "3       0.498517       0.165728       0.441176       0.425925      -0.523972   \n",
       "4       0.498517       0.165728       0.441176       0.127828      -0.086277   \n",
       "\n",
       "   product_emb_3  store_emb_1  store_emb_2  store_emb_3  \n",
       "0       0.226442     0.023705     0.111968     0.133358  \n",
       "1       0.016927     0.023705     0.111968     0.133358  \n",
       "2       0.013940     0.023705     0.111968     0.133358  \n",
       "3       0.226442     0.689716     1.039049     0.618767  \n",
       "4       0.016927     0.689716     1.039049     0.618767  "
      ]
     },
     "execution_count": 55,
     "metadata": {},
     "output_type": "execute_result"
    }
   ],
   "source": [
    "df_embs.head()"
   ]
  },
  {
   "cell_type": "code",
   "execution_count": 56,
   "id": "a90d84f6-e837-493e-905c-8e42020e3731",
   "metadata": {},
   "outputs": [
    {
     "data": {
      "text/html": [
       "<div>\n",
       "<style scoped>\n",
       "    .dataframe tbody tr th:only-of-type {\n",
       "        vertical-align: middle;\n",
       "    }\n",
       "\n",
       "    .dataframe tbody tr th {\n",
       "        vertical-align: top;\n",
       "    }\n",
       "\n",
       "    .dataframe thead th {\n",
       "        text-align: right;\n",
       "    }\n",
       "</style>\n",
       "<table border=\"1\" class=\"dataframe\">\n",
       "  <thead>\n",
       "    <tr style=\"text-align: right;\">\n",
       "      <th></th>\n",
       "      <th>country_emb_1</th>\n",
       "      <th>country_emb_2</th>\n",
       "      <th>country_emb_3</th>\n",
       "      <th>product_emb_1</th>\n",
       "      <th>product_emb_2</th>\n",
       "      <th>product_emb_3</th>\n",
       "      <th>store_emb_1</th>\n",
       "      <th>store_emb_2</th>\n",
       "      <th>store_emb_3</th>\n",
       "    </tr>\n",
       "  </thead>\n",
       "  <tbody>\n",
       "    <tr>\n",
       "      <th>26293</th>\n",
       "      <td>-1.012257</td>\n",
       "      <td>-0.834611</td>\n",
       "      <td>-0.707011</td>\n",
       "      <td>0.127828</td>\n",
       "      <td>-0.086277</td>\n",
       "      <td>0.016927</td>\n",
       "      <td>0.023705</td>\n",
       "      <td>0.111968</td>\n",
       "      <td>0.133358</td>\n",
       "    </tr>\n",
       "    <tr>\n",
       "      <th>26294</th>\n",
       "      <td>-1.012257</td>\n",
       "      <td>-0.834611</td>\n",
       "      <td>-0.707011</td>\n",
       "      <td>0.066269</td>\n",
       "      <td>0.244436</td>\n",
       "      <td>0.013940</td>\n",
       "      <td>0.023705</td>\n",
       "      <td>0.111968</td>\n",
       "      <td>0.133358</td>\n",
       "    </tr>\n",
       "    <tr>\n",
       "      <th>26295</th>\n",
       "      <td>-1.012257</td>\n",
       "      <td>-0.834611</td>\n",
       "      <td>-0.707011</td>\n",
       "      <td>0.425925</td>\n",
       "      <td>-0.523972</td>\n",
       "      <td>0.226442</td>\n",
       "      <td>0.689716</td>\n",
       "      <td>1.039049</td>\n",
       "      <td>0.618767</td>\n",
       "    </tr>\n",
       "    <tr>\n",
       "      <th>26296</th>\n",
       "      <td>-1.012257</td>\n",
       "      <td>-0.834611</td>\n",
       "      <td>-0.707011</td>\n",
       "      <td>0.127828</td>\n",
       "      <td>-0.086277</td>\n",
       "      <td>0.016927</td>\n",
       "      <td>0.689716</td>\n",
       "      <td>1.039049</td>\n",
       "      <td>0.618767</td>\n",
       "    </tr>\n",
       "    <tr>\n",
       "      <th>26297</th>\n",
       "      <td>-1.012257</td>\n",
       "      <td>-0.834611</td>\n",
       "      <td>-0.707011</td>\n",
       "      <td>0.066269</td>\n",
       "      <td>0.244436</td>\n",
       "      <td>0.013940</td>\n",
       "      <td>0.689716</td>\n",
       "      <td>1.039049</td>\n",
       "      <td>0.618767</td>\n",
       "    </tr>\n",
       "  </tbody>\n",
       "</table>\n",
       "</div>"
      ],
      "text/plain": [
       "       country_emb_1  country_emb_2  country_emb_3  product_emb_1  \\\n",
       "26293      -1.012257      -0.834611      -0.707011       0.127828   \n",
       "26294      -1.012257      -0.834611      -0.707011       0.066269   \n",
       "26295      -1.012257      -0.834611      -0.707011       0.425925   \n",
       "26296      -1.012257      -0.834611      -0.707011       0.127828   \n",
       "26297      -1.012257      -0.834611      -0.707011       0.066269   \n",
       "\n",
       "       product_emb_2  product_emb_3  store_emb_1  store_emb_2  store_emb_3  \n",
       "26293      -0.086277       0.016927     0.023705     0.111968     0.133358  \n",
       "26294       0.244436       0.013940     0.023705     0.111968     0.133358  \n",
       "26295      -0.523972       0.226442     0.689716     1.039049     0.618767  \n",
       "26296      -0.086277       0.016927     0.689716     1.039049     0.618767  \n",
       "26297       0.244436       0.013940     0.689716     1.039049     0.618767  "
      ]
     },
     "execution_count": 56,
     "metadata": {},
     "output_type": "execute_result"
    }
   ],
   "source": [
    "df_embs.tail()"
   ]
  },
  {
   "cell_type": "code",
   "execution_count": 57,
   "id": "35b06da9-ef39-4dee-9fb4-24c39bdcdacc",
   "metadata": {},
   "outputs": [
    {
     "data": {
      "text/plain": [
       "26298"
      ]
     },
     "execution_count": 57,
     "metadata": {},
     "output_type": "execute_result"
    }
   ],
   "source": [
    "len(df_embs)"
   ]
  },
  {
   "cell_type": "code",
   "execution_count": 58,
   "id": "6dd0d170-f13f-47ca-adb7-7484317aba09",
   "metadata": {},
   "outputs": [],
   "source": [
    "df_final = pd.concat([df_nn_final[[\"Dayofyear\", \"Dayofweek\", \"Week\", \"Month\", \"Elapsed\", \"Day\", \"num_sold\"]], df_embs], axis = 1)"
   ]
  },
  {
   "cell_type": "code",
   "execution_count": 59,
   "id": "6113f347-9c53-447e-b560-576977269493",
   "metadata": {},
   "outputs": [
    {
     "data": {
      "text/html": [
       "<div>\n",
       "<style scoped>\n",
       "    .dataframe tbody tr th:only-of-type {\n",
       "        vertical-align: middle;\n",
       "    }\n",
       "\n",
       "    .dataframe tbody tr th {\n",
       "        vertical-align: top;\n",
       "    }\n",
       "\n",
       "    .dataframe thead th {\n",
       "        text-align: right;\n",
       "    }\n",
       "</style>\n",
       "<table border=\"1\" class=\"dataframe\">\n",
       "  <thead>\n",
       "    <tr style=\"text-align: right;\">\n",
       "      <th></th>\n",
       "      <th>Dayofyear</th>\n",
       "      <th>Dayofweek</th>\n",
       "      <th>Week</th>\n",
       "      <th>Month</th>\n",
       "      <th>Elapsed</th>\n",
       "      <th>Day</th>\n",
       "      <th>num_sold</th>\n",
       "      <th>country_emb_1</th>\n",
       "      <th>country_emb_2</th>\n",
       "      <th>country_emb_3</th>\n",
       "      <th>product_emb_1</th>\n",
       "      <th>product_emb_2</th>\n",
       "      <th>product_emb_3</th>\n",
       "      <th>store_emb_1</th>\n",
       "      <th>store_emb_2</th>\n",
       "      <th>store_emb_3</th>\n",
       "    </tr>\n",
       "  </thead>\n",
       "  <tbody>\n",
       "    <tr>\n",
       "      <th>0</th>\n",
       "      <td>1</td>\n",
       "      <td>3</td>\n",
       "      <td>1</td>\n",
       "      <td>1</td>\n",
       "      <td>1.420070e+09</td>\n",
       "      <td>1</td>\n",
       "      <td>329</td>\n",
       "      <td>0.498517</td>\n",
       "      <td>0.165728</td>\n",
       "      <td>0.441176</td>\n",
       "      <td>0.425925</td>\n",
       "      <td>-0.523972</td>\n",
       "      <td>0.226442</td>\n",
       "      <td>0.023705</td>\n",
       "      <td>0.111968</td>\n",
       "      <td>0.133358</td>\n",
       "    </tr>\n",
       "    <tr>\n",
       "      <th>1</th>\n",
       "      <td>1</td>\n",
       "      <td>3</td>\n",
       "      <td>1</td>\n",
       "      <td>1</td>\n",
       "      <td>1.420070e+09</td>\n",
       "      <td>1</td>\n",
       "      <td>520</td>\n",
       "      <td>0.498517</td>\n",
       "      <td>0.165728</td>\n",
       "      <td>0.441176</td>\n",
       "      <td>0.127828</td>\n",
       "      <td>-0.086277</td>\n",
       "      <td>0.016927</td>\n",
       "      <td>0.023705</td>\n",
       "      <td>0.111968</td>\n",
       "      <td>0.133358</td>\n",
       "    </tr>\n",
       "    <tr>\n",
       "      <th>2</th>\n",
       "      <td>1</td>\n",
       "      <td>3</td>\n",
       "      <td>1</td>\n",
       "      <td>1</td>\n",
       "      <td>1.420070e+09</td>\n",
       "      <td>1</td>\n",
       "      <td>146</td>\n",
       "      <td>0.498517</td>\n",
       "      <td>0.165728</td>\n",
       "      <td>0.441176</td>\n",
       "      <td>0.066269</td>\n",
       "      <td>0.244436</td>\n",
       "      <td>0.013940</td>\n",
       "      <td>0.023705</td>\n",
       "      <td>0.111968</td>\n",
       "      <td>0.133358</td>\n",
       "    </tr>\n",
       "    <tr>\n",
       "      <th>3</th>\n",
       "      <td>1</td>\n",
       "      <td>3</td>\n",
       "      <td>1</td>\n",
       "      <td>1</td>\n",
       "      <td>1.420070e+09</td>\n",
       "      <td>1</td>\n",
       "      <td>572</td>\n",
       "      <td>0.498517</td>\n",
       "      <td>0.165728</td>\n",
       "      <td>0.441176</td>\n",
       "      <td>0.425925</td>\n",
       "      <td>-0.523972</td>\n",
       "      <td>0.226442</td>\n",
       "      <td>0.689716</td>\n",
       "      <td>1.039049</td>\n",
       "      <td>0.618767</td>\n",
       "    </tr>\n",
       "    <tr>\n",
       "      <th>4</th>\n",
       "      <td>1</td>\n",
       "      <td>3</td>\n",
       "      <td>1</td>\n",
       "      <td>1</td>\n",
       "      <td>1.420070e+09</td>\n",
       "      <td>1</td>\n",
       "      <td>911</td>\n",
       "      <td>0.498517</td>\n",
       "      <td>0.165728</td>\n",
       "      <td>0.441176</td>\n",
       "      <td>0.127828</td>\n",
       "      <td>-0.086277</td>\n",
       "      <td>0.016927</td>\n",
       "      <td>0.689716</td>\n",
       "      <td>1.039049</td>\n",
       "      <td>0.618767</td>\n",
       "    </tr>\n",
       "  </tbody>\n",
       "</table>\n",
       "</div>"
      ],
      "text/plain": [
       "   Dayofyear  Dayofweek  Week  Month       Elapsed  Day  num_sold  \\\n",
       "0          1          3     1      1  1.420070e+09    1       329   \n",
       "1          1          3     1      1  1.420070e+09    1       520   \n",
       "2          1          3     1      1  1.420070e+09    1       146   \n",
       "3          1          3     1      1  1.420070e+09    1       572   \n",
       "4          1          3     1      1  1.420070e+09    1       911   \n",
       "\n",
       "   country_emb_1  country_emb_2  country_emb_3  product_emb_1  product_emb_2  \\\n",
       "0       0.498517       0.165728       0.441176       0.425925      -0.523972   \n",
       "1       0.498517       0.165728       0.441176       0.127828      -0.086277   \n",
       "2       0.498517       0.165728       0.441176       0.066269       0.244436   \n",
       "3       0.498517       0.165728       0.441176       0.425925      -0.523972   \n",
       "4       0.498517       0.165728       0.441176       0.127828      -0.086277   \n",
       "\n",
       "   product_emb_3  store_emb_1  store_emb_2  store_emb_3  \n",
       "0       0.226442     0.023705     0.111968     0.133358  \n",
       "1       0.016927     0.023705     0.111968     0.133358  \n",
       "2       0.013940     0.023705     0.111968     0.133358  \n",
       "3       0.226442     0.689716     1.039049     0.618767  \n",
       "4       0.016927     0.689716     1.039049     0.618767  "
      ]
     },
     "execution_count": 59,
     "metadata": {},
     "output_type": "execute_result"
    }
   ],
   "source": [
    "df_final.head()"
   ]
  },
  {
   "cell_type": "code",
   "execution_count": 60,
   "id": "7af70d5a-431f-485a-8322-797fdfaf3024",
   "metadata": {},
   "outputs": [
    {
     "data": {
      "text/html": [
       "<div>\n",
       "<style scoped>\n",
       "    .dataframe tbody tr th:only-of-type {\n",
       "        vertical-align: middle;\n",
       "    }\n",
       "\n",
       "    .dataframe tbody tr th {\n",
       "        vertical-align: top;\n",
       "    }\n",
       "\n",
       "    .dataframe thead th {\n",
       "        text-align: right;\n",
       "    }\n",
       "</style>\n",
       "<table border=\"1\" class=\"dataframe\">\n",
       "  <thead>\n",
       "    <tr style=\"text-align: right;\">\n",
       "      <th></th>\n",
       "      <th>Dayofyear</th>\n",
       "      <th>Dayofweek</th>\n",
       "      <th>Week</th>\n",
       "      <th>Month</th>\n",
       "      <th>Elapsed</th>\n",
       "      <th>Day</th>\n",
       "      <th>num_sold</th>\n",
       "      <th>country_emb_1</th>\n",
       "      <th>country_emb_2</th>\n",
       "      <th>country_emb_3</th>\n",
       "      <th>product_emb_1</th>\n",
       "      <th>product_emb_2</th>\n",
       "      <th>product_emb_3</th>\n",
       "      <th>store_emb_1</th>\n",
       "      <th>store_emb_2</th>\n",
       "      <th>store_emb_3</th>\n",
       "    </tr>\n",
       "  </thead>\n",
       "  <tbody>\n",
       "    <tr>\n",
       "      <th>26293</th>\n",
       "      <td>365</td>\n",
       "      <td>0</td>\n",
       "      <td>1</td>\n",
       "      <td>12</td>\n",
       "      <td>1.546214e+09</td>\n",
       "      <td>31</td>\n",
       "      <td>823</td>\n",
       "      <td>-1.012257</td>\n",
       "      <td>-0.834611</td>\n",
       "      <td>-0.707011</td>\n",
       "      <td>0.127828</td>\n",
       "      <td>-0.086277</td>\n",
       "      <td>0.016927</td>\n",
       "      <td>0.023705</td>\n",
       "      <td>0.111968</td>\n",
       "      <td>0.133358</td>\n",
       "    </tr>\n",
       "    <tr>\n",
       "      <th>26294</th>\n",
       "      <td>365</td>\n",
       "      <td>0</td>\n",
       "      <td>1</td>\n",
       "      <td>12</td>\n",
       "      <td>1.546214e+09</td>\n",
       "      <td>31</td>\n",
       "      <td>250</td>\n",
       "      <td>-1.012257</td>\n",
       "      <td>-0.834611</td>\n",
       "      <td>-0.707011</td>\n",
       "      <td>0.066269</td>\n",
       "      <td>0.244436</td>\n",
       "      <td>0.013940</td>\n",
       "      <td>0.023705</td>\n",
       "      <td>0.111968</td>\n",
       "      <td>0.133358</td>\n",
       "    </tr>\n",
       "    <tr>\n",
       "      <th>26295</th>\n",
       "      <td>365</td>\n",
       "      <td>0</td>\n",
       "      <td>1</td>\n",
       "      <td>12</td>\n",
       "      <td>1.546214e+09</td>\n",
       "      <td>31</td>\n",
       "      <td>1004</td>\n",
       "      <td>-1.012257</td>\n",
       "      <td>-0.834611</td>\n",
       "      <td>-0.707011</td>\n",
       "      <td>0.425925</td>\n",
       "      <td>-0.523972</td>\n",
       "      <td>0.226442</td>\n",
       "      <td>0.689716</td>\n",
       "      <td>1.039049</td>\n",
       "      <td>0.618767</td>\n",
       "    </tr>\n",
       "    <tr>\n",
       "      <th>26296</th>\n",
       "      <td>365</td>\n",
       "      <td>0</td>\n",
       "      <td>1</td>\n",
       "      <td>12</td>\n",
       "      <td>1.546214e+09</td>\n",
       "      <td>31</td>\n",
       "      <td>1441</td>\n",
       "      <td>-1.012257</td>\n",
       "      <td>-0.834611</td>\n",
       "      <td>-0.707011</td>\n",
       "      <td>0.127828</td>\n",
       "      <td>-0.086277</td>\n",
       "      <td>0.016927</td>\n",
       "      <td>0.689716</td>\n",
       "      <td>1.039049</td>\n",
       "      <td>0.618767</td>\n",
       "    </tr>\n",
       "    <tr>\n",
       "      <th>26297</th>\n",
       "      <td>365</td>\n",
       "      <td>0</td>\n",
       "      <td>1</td>\n",
       "      <td>12</td>\n",
       "      <td>1.546214e+09</td>\n",
       "      <td>31</td>\n",
       "      <td>388</td>\n",
       "      <td>-1.012257</td>\n",
       "      <td>-0.834611</td>\n",
       "      <td>-0.707011</td>\n",
       "      <td>0.066269</td>\n",
       "      <td>0.244436</td>\n",
       "      <td>0.013940</td>\n",
       "      <td>0.689716</td>\n",
       "      <td>1.039049</td>\n",
       "      <td>0.618767</td>\n",
       "    </tr>\n",
       "  </tbody>\n",
       "</table>\n",
       "</div>"
      ],
      "text/plain": [
       "       Dayofyear  Dayofweek  Week  Month       Elapsed  Day  num_sold  \\\n",
       "26293        365          0     1     12  1.546214e+09   31       823   \n",
       "26294        365          0     1     12  1.546214e+09   31       250   \n",
       "26295        365          0     1     12  1.546214e+09   31      1004   \n",
       "26296        365          0     1     12  1.546214e+09   31      1441   \n",
       "26297        365          0     1     12  1.546214e+09   31       388   \n",
       "\n",
       "       country_emb_1  country_emb_2  country_emb_3  product_emb_1  \\\n",
       "26293      -1.012257      -0.834611      -0.707011       0.127828   \n",
       "26294      -1.012257      -0.834611      -0.707011       0.066269   \n",
       "26295      -1.012257      -0.834611      -0.707011       0.425925   \n",
       "26296      -1.012257      -0.834611      -0.707011       0.127828   \n",
       "26297      -1.012257      -0.834611      -0.707011       0.066269   \n",
       "\n",
       "       product_emb_2  product_emb_3  store_emb_1  store_emb_2  store_emb_3  \n",
       "26293      -0.086277       0.016927     0.023705     0.111968     0.133358  \n",
       "26294       0.244436       0.013940     0.023705     0.111968     0.133358  \n",
       "26295      -0.523972       0.226442     0.689716     1.039049     0.618767  \n",
       "26296      -0.086277       0.016927     0.689716     1.039049     0.618767  \n",
       "26297       0.244436       0.013940     0.689716     1.039049     0.618767  "
      ]
     },
     "execution_count": 60,
     "metadata": {},
     "output_type": "execute_result"
    }
   ],
   "source": [
    "df_final.tail()"
   ]
  },
  {
   "cell_type": "code",
   "execution_count": 61,
   "id": "0f71b195-fdca-4b2a-ba3d-8a177dab71d6",
   "metadata": {},
   "outputs": [],
   "source": [
    "#df_final.to_csv(\"train_embs.csv\")"
   ]
  },
  {
   "cell_type": "code",
   "execution_count": 62,
   "id": "0ed58114-9e13-43ff-aec0-5432bc647f8d",
   "metadata": {},
   "outputs": [
    {
     "data": {
      "text/plain": [
       "{'#na#': array([0.01356119, 0.01118535, 0.01405186], dtype=float32),\n",
       " 'Finland': array([0.49851698, 0.16572799, 0.44117638], dtype=float32),\n",
       " 'Norway': array([-0.22997577, -0.31350416, -0.36796924], dtype=float32),\n",
       " 'Sweden': array([-1.012257 , -0.8346111, -0.7070108], dtype=float32)}"
      ]
     },
     "execution_count": 62,
     "metadata": {},
     "output_type": "execute_result"
    }
   ],
   "source": [
    "country_map"
   ]
  },
  {
   "cell_type": "code",
   "execution_count": 63,
   "id": "e2129eec-11ca-4a84-8fb3-b28603b62495",
   "metadata": {},
   "outputs": [
    {
     "data": {
      "text/plain": [
       "{'#na#': array([ 0.01294461, -0.00381095, -0.01660344], dtype=float32),\n",
       " 'Kaggle Sticker': array([0.06626856, 0.24443601, 0.01394006], dtype=float32),\n",
       " 'Kaggle Mug': array([ 0.42592514, -0.52397215,  0.22644173], dtype=float32),\n",
       " 'Kaggle Hat': array([ 0.12782763, -0.08627668,  0.01692694], dtype=float32)}"
      ]
     },
     "execution_count": 63,
     "metadata": {},
     "output_type": "execute_result"
    }
   ],
   "source": [
    "product_map"
   ]
  },
  {
   "cell_type": "code",
   "execution_count": 64,
   "id": "78692a7c-6c45-48ca-8fd3-8e67f203b8ab",
   "metadata": {},
   "outputs": [
    {
     "data": {
      "text/plain": [
       "{'#na#': array([-0.00473005, -0.00167127, -0.00394201], dtype=float32),\n",
       " 'KaggleRama': array([0.6897162 , 1.0390494 , 0.61876696], dtype=float32),\n",
       " 'KaggleMart': array([0.02370485, 0.11196793, 0.1333581 ], dtype=float32)}"
      ]
     },
     "execution_count": 64,
     "metadata": {},
     "output_type": "execute_result"
    }
   ],
   "source": [
    "store_map"
   ]
  },
  {
   "cell_type": "code",
   "execution_count": 65,
   "id": "ce2e61b9-2803-42fc-b291-5a1c68993d5d",
   "metadata": {},
   "outputs": [],
   "source": [
    "import pickle"
   ]
  },
  {
   "cell_type": "code",
   "execution_count": 66,
   "id": "0e6c9b03-8114-428b-9cc2-37f92af3660a",
   "metadata": {},
   "outputs": [],
   "source": [
    "with open(\"product_map.pkl\", \"wb\") as f:\n",
    "    pickle.dump(product_map, f, protocol=pickle.HIGHEST_PROTOCOL)"
   ]
  },
  {
   "cell_type": "code",
   "execution_count": 67,
   "id": "8ef88da1-510f-40d0-b169-c110258a6894",
   "metadata": {},
   "outputs": [],
   "source": [
    "with open(\"country_map.pkl\", \"wb\") as f:\n",
    "    pickle.dump(country_map, f, protocol=pickle.HIGHEST_PROTOCOL)"
   ]
  },
  {
   "cell_type": "code",
   "execution_count": 68,
   "id": "d0840a04-4141-44a2-80c3-7dd0e3afe59a",
   "metadata": {},
   "outputs": [],
   "source": [
    "with open(\"store_map.pkl\", \"wb\") as f:\n",
    "    pickle.dump(store_map, f, protocol=pickle.HIGHEST_PROTOCOL)"
   ]
  },
  {
   "cell_type": "code",
   "execution_count": null,
   "id": "dd07efeb-728f-4da9-b996-b7af683accc8",
   "metadata": {},
   "outputs": [],
   "source": []
  }
 ],
 "metadata": {
  "kernelspec": {
   "display_name": "Python 3 (ipykernel)",
   "language": "python",
   "name": "python3"
  },
  "language_info": {
   "codemirror_mode": {
    "name": "ipython",
    "version": 3
   },
   "file_extension": ".py",
   "mimetype": "text/x-python",
   "name": "python",
   "nbconvert_exporter": "python",
   "pygments_lexer": "ipython3",
   "version": "3.8.12"
  }
 },
 "nbformat": 4,
 "nbformat_minor": 5
}
