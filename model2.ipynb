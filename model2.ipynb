{
 "cells": [
  {
   "cell_type": "code",
   "execution_count": 1,
   "id": "209376fa-2ba2-4631-babc-6d9207ddd4bf",
   "metadata": {},
   "outputs": [
    {
     "name": "stdout",
     "output_type": "stream",
     "text": [
      "CPU times: user 1.68 s, sys: 1.2 s, total: 2.88 s\n",
      "Wall time: 4.23 s\n"
     ]
    }
   ],
   "source": [
    "%%time\n",
    "import fastai\n",
    "from fastai.tabular.all import *\n",
    "from pathlib import Path\n",
    "import os\n",
    "from sklearn.tree import DecisionTreeRegressor\n",
    "from dtreeviz.trees import *\n",
    "import IPython\n",
    "from sklearn.ensemble import RandomForestRegressor\n",
    "from IPython.display import Image, display_svg, SVG\n",
    "from sklearn.tree import export_graphviz\n",
    "import waterfall_chart\n",
    "from treeinterpreter import treeinterpreter\n",
    "from sklearn.inspection import plot_partial_dependence\n",
    "from scipy.cluster import hierarchy as hc"
   ]
  },
  {
   "cell_type": "code",
   "execution_count": 2,
   "id": "ff651908-a821-4f3c-9322-851d58bff46f",
   "metadata": {},
   "outputs": [
    {
     "name": "stdout",
     "output_type": "stream",
     "text": [
      "CPU times: user 27.8 ms, sys: 6.09 ms, total: 33.9 ms\n",
      "Wall time: 30.9 ms\n"
     ]
    }
   ],
   "source": [
    "%%time\n",
    "df = pd.read_csv(\"train.csv\", low_memory = False)"
   ]
  },
  {
   "cell_type": "code",
   "execution_count": 3,
   "id": "543f1723-ae88-4158-aea0-1848f09b55f1",
   "metadata": {},
   "outputs": [
    {
     "data": {
      "text/html": [
       "<div>\n",
       "<style scoped>\n",
       "    .dataframe tbody tr th:only-of-type {\n",
       "        vertical-align: middle;\n",
       "    }\n",
       "\n",
       "    .dataframe tbody tr th {\n",
       "        vertical-align: top;\n",
       "    }\n",
       "\n",
       "    .dataframe thead th {\n",
       "        text-align: right;\n",
       "    }\n",
       "</style>\n",
       "<table border=\"1\" class=\"dataframe\">\n",
       "  <thead>\n",
       "    <tr style=\"text-align: right;\">\n",
       "      <th></th>\n",
       "      <th>row_id</th>\n",
       "      <th>date</th>\n",
       "      <th>country</th>\n",
       "      <th>store</th>\n",
       "      <th>product</th>\n",
       "      <th>num_sold</th>\n",
       "    </tr>\n",
       "  </thead>\n",
       "  <tbody>\n",
       "    <tr>\n",
       "      <th>0</th>\n",
       "      <td>0</td>\n",
       "      <td>2015-01-01</td>\n",
       "      <td>Finland</td>\n",
       "      <td>KaggleMart</td>\n",
       "      <td>Kaggle Mug</td>\n",
       "      <td>329</td>\n",
       "    </tr>\n",
       "    <tr>\n",
       "      <th>1</th>\n",
       "      <td>1</td>\n",
       "      <td>2015-01-01</td>\n",
       "      <td>Finland</td>\n",
       "      <td>KaggleMart</td>\n",
       "      <td>Kaggle Hat</td>\n",
       "      <td>520</td>\n",
       "    </tr>\n",
       "    <tr>\n",
       "      <th>2</th>\n",
       "      <td>2</td>\n",
       "      <td>2015-01-01</td>\n",
       "      <td>Finland</td>\n",
       "      <td>KaggleMart</td>\n",
       "      <td>Kaggle Sticker</td>\n",
       "      <td>146</td>\n",
       "    </tr>\n",
       "    <tr>\n",
       "      <th>3</th>\n",
       "      <td>3</td>\n",
       "      <td>2015-01-01</td>\n",
       "      <td>Finland</td>\n",
       "      <td>KaggleRama</td>\n",
       "      <td>Kaggle Mug</td>\n",
       "      <td>572</td>\n",
       "    </tr>\n",
       "    <tr>\n",
       "      <th>4</th>\n",
       "      <td>4</td>\n",
       "      <td>2015-01-01</td>\n",
       "      <td>Finland</td>\n",
       "      <td>KaggleRama</td>\n",
       "      <td>Kaggle Hat</td>\n",
       "      <td>911</td>\n",
       "    </tr>\n",
       "  </tbody>\n",
       "</table>\n",
       "</div>"
      ],
      "text/plain": [
       "   row_id        date  country       store         product  num_sold\n",
       "0       0  2015-01-01  Finland  KaggleMart      Kaggle Mug       329\n",
       "1       1  2015-01-01  Finland  KaggleMart      Kaggle Hat       520\n",
       "2       2  2015-01-01  Finland  KaggleMart  Kaggle Sticker       146\n",
       "3       3  2015-01-01  Finland  KaggleRama      Kaggle Mug       572\n",
       "4       4  2015-01-01  Finland  KaggleRama      Kaggle Hat       911"
      ]
     },
     "execution_count": 3,
     "metadata": {},
     "output_type": "execute_result"
    }
   ],
   "source": [
    "df.head()\n"
   ]
  },
  {
   "cell_type": "code",
   "execution_count": 4,
   "id": "2c869e8b-bc12-480d-9bb5-e43ff055aec9",
   "metadata": {},
   "outputs": [
    {
     "name": "stdout",
     "output_type": "stream",
     "text": [
      "CPU times: user 75.3 ms, sys: 11.5 ms, total: 86.8 ms\n",
      "Wall time: 84.4 ms\n"
     ]
    }
   ],
   "source": [
    "%%time\n",
    "df = add_datepart(df, 'date')"
   ]
  },
  {
   "cell_type": "code",
   "execution_count": 5,
   "id": "ddc538bb-82c7-4153-b1ac-80152a3595b9",
   "metadata": {},
   "outputs": [
    {
     "data": {
      "text/html": [
       "<div>\n",
       "<style scoped>\n",
       "    .dataframe tbody tr th:only-of-type {\n",
       "        vertical-align: middle;\n",
       "    }\n",
       "\n",
       "    .dataframe tbody tr th {\n",
       "        vertical-align: top;\n",
       "    }\n",
       "\n",
       "    .dataframe thead th {\n",
       "        text-align: right;\n",
       "    }\n",
       "</style>\n",
       "<table border=\"1\" class=\"dataframe\">\n",
       "  <thead>\n",
       "    <tr style=\"text-align: right;\">\n",
       "      <th></th>\n",
       "      <th>row_id</th>\n",
       "      <th>country</th>\n",
       "      <th>store</th>\n",
       "      <th>product</th>\n",
       "      <th>num_sold</th>\n",
       "      <th>Year</th>\n",
       "      <th>Month</th>\n",
       "      <th>Week</th>\n",
       "      <th>Day</th>\n",
       "      <th>Dayofweek</th>\n",
       "      <th>Dayofyear</th>\n",
       "      <th>Is_month_end</th>\n",
       "      <th>Is_month_start</th>\n",
       "      <th>Is_quarter_end</th>\n",
       "      <th>Is_quarter_start</th>\n",
       "      <th>Is_year_end</th>\n",
       "      <th>Is_year_start</th>\n",
       "      <th>Elapsed</th>\n",
       "    </tr>\n",
       "  </thead>\n",
       "  <tbody>\n",
       "    <tr>\n",
       "      <th>0</th>\n",
       "      <td>0</td>\n",
       "      <td>Finland</td>\n",
       "      <td>KaggleMart</td>\n",
       "      <td>Kaggle Mug</td>\n",
       "      <td>329</td>\n",
       "      <td>2015</td>\n",
       "      <td>1</td>\n",
       "      <td>1</td>\n",
       "      <td>1</td>\n",
       "      <td>3</td>\n",
       "      <td>1</td>\n",
       "      <td>False</td>\n",
       "      <td>True</td>\n",
       "      <td>False</td>\n",
       "      <td>True</td>\n",
       "      <td>False</td>\n",
       "      <td>True</td>\n",
       "      <td>1.420070e+09</td>\n",
       "    </tr>\n",
       "    <tr>\n",
       "      <th>1</th>\n",
       "      <td>1</td>\n",
       "      <td>Finland</td>\n",
       "      <td>KaggleMart</td>\n",
       "      <td>Kaggle Hat</td>\n",
       "      <td>520</td>\n",
       "      <td>2015</td>\n",
       "      <td>1</td>\n",
       "      <td>1</td>\n",
       "      <td>1</td>\n",
       "      <td>3</td>\n",
       "      <td>1</td>\n",
       "      <td>False</td>\n",
       "      <td>True</td>\n",
       "      <td>False</td>\n",
       "      <td>True</td>\n",
       "      <td>False</td>\n",
       "      <td>True</td>\n",
       "      <td>1.420070e+09</td>\n",
       "    </tr>\n",
       "    <tr>\n",
       "      <th>2</th>\n",
       "      <td>2</td>\n",
       "      <td>Finland</td>\n",
       "      <td>KaggleMart</td>\n",
       "      <td>Kaggle Sticker</td>\n",
       "      <td>146</td>\n",
       "      <td>2015</td>\n",
       "      <td>1</td>\n",
       "      <td>1</td>\n",
       "      <td>1</td>\n",
       "      <td>3</td>\n",
       "      <td>1</td>\n",
       "      <td>False</td>\n",
       "      <td>True</td>\n",
       "      <td>False</td>\n",
       "      <td>True</td>\n",
       "      <td>False</td>\n",
       "      <td>True</td>\n",
       "      <td>1.420070e+09</td>\n",
       "    </tr>\n",
       "    <tr>\n",
       "      <th>3</th>\n",
       "      <td>3</td>\n",
       "      <td>Finland</td>\n",
       "      <td>KaggleRama</td>\n",
       "      <td>Kaggle Mug</td>\n",
       "      <td>572</td>\n",
       "      <td>2015</td>\n",
       "      <td>1</td>\n",
       "      <td>1</td>\n",
       "      <td>1</td>\n",
       "      <td>3</td>\n",
       "      <td>1</td>\n",
       "      <td>False</td>\n",
       "      <td>True</td>\n",
       "      <td>False</td>\n",
       "      <td>True</td>\n",
       "      <td>False</td>\n",
       "      <td>True</td>\n",
       "      <td>1.420070e+09</td>\n",
       "    </tr>\n",
       "    <tr>\n",
       "      <th>4</th>\n",
       "      <td>4</td>\n",
       "      <td>Finland</td>\n",
       "      <td>KaggleRama</td>\n",
       "      <td>Kaggle Hat</td>\n",
       "      <td>911</td>\n",
       "      <td>2015</td>\n",
       "      <td>1</td>\n",
       "      <td>1</td>\n",
       "      <td>1</td>\n",
       "      <td>3</td>\n",
       "      <td>1</td>\n",
       "      <td>False</td>\n",
       "      <td>True</td>\n",
       "      <td>False</td>\n",
       "      <td>True</td>\n",
       "      <td>False</td>\n",
       "      <td>True</td>\n",
       "      <td>1.420070e+09</td>\n",
       "    </tr>\n",
       "  </tbody>\n",
       "</table>\n",
       "</div>"
      ],
      "text/plain": [
       "   row_id  country       store         product  num_sold  Year  Month  Week  \\\n",
       "0       0  Finland  KaggleMart      Kaggle Mug       329  2015      1     1   \n",
       "1       1  Finland  KaggleMart      Kaggle Hat       520  2015      1     1   \n",
       "2       2  Finland  KaggleMart  Kaggle Sticker       146  2015      1     1   \n",
       "3       3  Finland  KaggleRama      Kaggle Mug       572  2015      1     1   \n",
       "4       4  Finland  KaggleRama      Kaggle Hat       911  2015      1     1   \n",
       "\n",
       "   Day  Dayofweek  Dayofyear  Is_month_end  Is_month_start  Is_quarter_end  \\\n",
       "0    1          3          1         False            True           False   \n",
       "1    1          3          1         False            True           False   \n",
       "2    1          3          1         False            True           False   \n",
       "3    1          3          1         False            True           False   \n",
       "4    1          3          1         False            True           False   \n",
       "\n",
       "   Is_quarter_start  Is_year_end  Is_year_start       Elapsed  \n",
       "0              True        False           True  1.420070e+09  \n",
       "1              True        False           True  1.420070e+09  \n",
       "2              True        False           True  1.420070e+09  \n",
       "3              True        False           True  1.420070e+09  \n",
       "4              True        False           True  1.420070e+09  "
      ]
     },
     "execution_count": 5,
     "metadata": {},
     "output_type": "execute_result"
    }
   ],
   "source": [
    "df.head()"
   ]
  },
  {
   "cell_type": "code",
   "execution_count": 6,
   "id": "fbd0b4b1-c40f-4f0b-8d00-657a60488c7f",
   "metadata": {},
   "outputs": [
    {
     "name": "stdout",
     "output_type": "stream",
     "text": [
      "19728 6570\n"
     ]
    }
   ],
   "source": [
    "cond = (df.Year < 2018)\n",
    "train_idx = np.where(cond)[0]\n",
    "valid_idx = np.where(~cond)[0]\n",
    "\n",
    "print (len(train_idx), len(valid_idx))"
   ]
  },
  {
   "cell_type": "code",
   "execution_count": 7,
   "id": "8c1468a0-95ab-43a4-9911-6124c867913f",
   "metadata": {},
   "outputs": [],
   "source": [
    "splits = (list(train_idx), list(valid_idx))\n",
    "procs = [Categorify, FillMissing]\n",
    "dep_var = 'num_sold'\n",
    "cont, cat = cont_cat_split(df,1, dep_var)"
   ]
  },
  {
   "cell_type": "code",
   "execution_count": 8,
   "id": "371ed445-0013-40e4-99d5-26b094a24dc8",
   "metadata": {},
   "outputs": [
    {
     "data": {
      "text/plain": [
       "['row_id', 'Year', 'Month', 'Week', 'Day', 'Dayofweek', 'Dayofyear', 'Elapsed']"
      ]
     },
     "execution_count": 8,
     "metadata": {},
     "output_type": "execute_result"
    }
   ],
   "source": [
    "cont"
   ]
  },
  {
   "cell_type": "code",
   "execution_count": 9,
   "id": "c978602a-d00c-4166-8c05-366e7262cff9",
   "metadata": {},
   "outputs": [],
   "source": [
    "cont.remove('row_id')"
   ]
  },
  {
   "cell_type": "code",
   "execution_count": 10,
   "id": "4e45ff82-3b2c-4714-a15e-fd441c8f4351",
   "metadata": {},
   "outputs": [
    {
     "data": {
      "text/plain": [
       "['country',\n",
       " 'store',\n",
       " 'product',\n",
       " 'Is_month_end',\n",
       " 'Is_month_start',\n",
       " 'Is_quarter_end',\n",
       " 'Is_quarter_start',\n",
       " 'Is_year_end',\n",
       " 'Is_year_start']"
      ]
     },
     "execution_count": 10,
     "metadata": {},
     "output_type": "execute_result"
    }
   ],
   "source": [
    "cat"
   ]
  },
  {
   "cell_type": "code",
   "execution_count": 11,
   "id": "1e129499-f893-48f9-b23a-41f2fa3b4d47",
   "metadata": {},
   "outputs": [],
   "source": [
    "to = TabularPandas(df, procs, cat, cont, y_names = dep_var, splits = splits)"
   ]
  },
  {
   "cell_type": "code",
   "execution_count": 12,
   "id": "5cce47be-96d0-4c3d-9ba2-5b0eb2f84125",
   "metadata": {},
   "outputs": [],
   "source": [
    "xs, y = to.train.xs, to.train.y\n",
    "valid_xs, valid_y = to.valid.xs, to.valid.y"
   ]
  },
  {
   "cell_type": "code",
   "execution_count": 13,
   "id": "82a775d1-e591-45ef-841d-d868ad8e9f6e",
   "metadata": {},
   "outputs": [],
   "source": [
    "m = DecisionTreeRegressor(max_leaf_nodes = 4)"
   ]
  },
  {
   "cell_type": "code",
   "execution_count": 14,
   "id": "abb572f7-e3b7-40a8-8767-4406d9a1fb0a",
   "metadata": {},
   "outputs": [
    {
     "name": "stdout",
     "output_type": "stream",
     "text": [
      "CPU times: user 29 ms, sys: 4.4 ms, total: 33.4 ms\n",
      "Wall time: 29.7 ms\n"
     ]
    },
    {
     "data": {
      "text/plain": [
       "DecisionTreeRegressor(max_leaf_nodes=4)"
      ]
     },
     "execution_count": 14,
     "metadata": {},
     "output_type": "execute_result"
    }
   ],
   "source": [
    "%%time\n",
    "m.fit(xs, y)"
   ]
  },
  {
   "cell_type": "code",
   "execution_count": 15,
   "id": "b0d5caee-d801-4973-9f46-ca671b9a79d5",
   "metadata": {},
   "outputs": [],
   "source": [
    "def calculate_smape(m, valid_xs, valid_y):\n",
    "    preds = list(m.predict(valid_xs))\n",
    "    total = len(preds)\n",
    "    smape = 0\n",
    "    for i,j in zip(preds, valid_y) :\n",
    "        diff = np.abs(i - j)\n",
    "        avg = ((np.abs(i)) + np.abs(j)) / 2\n",
    "        fin = diff/avg\n",
    "        smape += fin\n",
    "        \n",
    "    smape = (smape/total) * 100 \n",
    "    \n",
    "    return smape"
   ]
  },
  {
   "cell_type": "code",
   "execution_count": 16,
   "id": "a16424c8-d460-4903-992c-c4b62603c470",
   "metadata": {},
   "outputs": [
    {
     "data": {
      "text/plain": [
       "29.720652053183"
      ]
     },
     "execution_count": 16,
     "metadata": {},
     "output_type": "execute_result"
    }
   ],
   "source": [
    "calculate_smape(m, xs, y)"
   ]
  },
  {
   "cell_type": "code",
   "execution_count": 17,
   "id": "c96bbed9-3b1f-48e3-95c1-1767a0a35d90",
   "metadata": {},
   "outputs": [
    {
     "data": {
      "text/plain": [
       "29.362668566080412"
      ]
     },
     "execution_count": 17,
     "metadata": {},
     "output_type": "execute_result"
    }
   ],
   "source": [
    "calculate_smape(m, valid_xs, valid_y)"
   ]
  },
  {
   "cell_type": "code",
   "execution_count": 18,
   "id": "cca71bc5-ff41-4934-aade-4a5c540e493e",
   "metadata": {},
   "outputs": [],
   "source": [
    "def draw_tree(t, df, size=10, ratio=0.6, precision=0):\n",
    "    \"\"\"Draws a representation of a random forest in IPython.\"\"\"\n",
    "    s=export_graphviz(t, out_file=None, feature_names=df.columns, filled=True,\n",
    "                      special_characters=True, rotate=True, precision=precision)\n",
    "    IPython.display.display(graphviz.Source(re.sub('Tree {',\n",
    "       f'Tree {{ size={size}; ratio={ratio}', s)))"
   ]
  },
  {
   "cell_type": "code",
   "execution_count": 19,
   "id": "c5f04a5f-7fef-438a-9966-ec0525346a1d",
   "metadata": {},
   "outputs": [
    {
     "data": {
      "image/svg+xml": [
       "<?xml version=\"1.0\" encoding=\"UTF-8\" standalone=\"no\"?>\n",
       "<!DOCTYPE svg PUBLIC \"-//W3C//DTD SVG 1.1//EN\"\n",
       " \"http://www.w3.org/Graphics/SVG/1.1/DTD/svg11.dtd\">\n",
       "<!-- Generated by graphviz version 2.50.0 (20211209.0339)\n",
       " -->\n",
       "<!-- Title: Tree Pages: 1 -->\n",
       "<svg width=\"458pt\" height=\"278pt\"\n",
       " viewBox=\"0.00 0.00 458.00 278.00\" xmlns=\"http://www.w3.org/2000/svg\" xmlns:xlink=\"http://www.w3.org/1999/xlink\">\n",
       "<g id=\"graph0\" class=\"graph\" transform=\"scale(1 1) rotate(0) translate(4 274)\">\n",
       "<title>Tree</title>\n",
       "<polygon fill=\"white\" stroke=\"transparent\" points=\"-4,4 -4,-274 454,-274 454,4 -4,4\"/>\n",
       "<!-- 0 -->\n",
       "<g id=\"node1\" class=\"node\">\n",
       "<title>0</title>\n",
       "<polygon fill=\"#f6d5bc\" stroke=\"black\" points=\"122,-170.5 4,-170.5 4,-102.5 122,-102.5 122,-170.5\"/>\n",
       "<text text-anchor=\"start\" x=\"19\" y=\"-155.3\" font-family=\"Times,serif\" font-size=\"14.00\">product ≤ 1.5</text>\n",
       "<text text-anchor=\"start\" x=\"15.5\" y=\"-140.3\" font-family=\"Times,serif\" font-size=\"14.00\">mse = 65264.19</text>\n",
       "<text text-anchor=\"start\" x=\"12\" y=\"-125.3\" font-family=\"Times,serif\" font-size=\"14.00\">samples = 19728</text>\n",
       "<text text-anchor=\"start\" x=\"15.5\" y=\"-110.3\" font-family=\"Times,serif\" font-size=\"14.00\">value = 375.06</text>\n",
       "</g>\n",
       "<!-- 1 -->\n",
       "<g id=\"node2\" class=\"node\">\n",
       "<title>1</title>\n",
       "<polygon fill=\"#eca46f\" stroke=\"black\" points=\"284.5,-213.5 173.5,-213.5 173.5,-145.5 284.5,-145.5 284.5,-213.5\"/>\n",
       "<text text-anchor=\"start\" x=\"191.5\" y=\"-198.3\" font-family=\"Times,serif\" font-size=\"14.00\">store ≤ 1.5</text>\n",
       "<text text-anchor=\"start\" x=\"181.5\" y=\"-183.3\" font-family=\"Times,serif\" font-size=\"14.00\">mse = 72365.79</text>\n",
       "<text text-anchor=\"start\" x=\"181.5\" y=\"-168.3\" font-family=\"Times,serif\" font-size=\"14.00\">samples = 6576</text>\n",
       "<text text-anchor=\"start\" x=\"181.5\" y=\"-153.3\" font-family=\"Times,serif\" font-size=\"14.00\">value = 608.72</text>\n",
       "</g>\n",
       "<!-- 0&#45;&gt;1 -->\n",
       "<g id=\"edge1\" class=\"edge\">\n",
       "<title>0&#45;&gt;1</title>\n",
       "<path fill=\"none\" stroke=\"black\" d=\"M122.28,-151.78C135.69,-155.3 150.03,-159.06 163.68,-162.63\"/>\n",
       "<polygon fill=\"black\" stroke=\"black\" points=\"162.91,-166.05 173.47,-165.2 164.69,-159.28 162.91,-166.05\"/>\n",
       "<text text-anchor=\"middle\" x=\"151.89\" y=\"-174.12\" font-family=\"Times,serif\" font-size=\"14.00\">True</text>\n",
       "</g>\n",
       "<!-- 2 -->\n",
       "<g id=\"node5\" class=\"node\">\n",
       "<title>2</title>\n",
       "<polygon fill=\"#fbede3\" stroke=\"black\" points=\"288,-127.5 170,-127.5 170,-59.5 288,-59.5 288,-127.5\"/>\n",
       "<text text-anchor=\"start\" x=\"185\" y=\"-112.3\" font-family=\"Times,serif\" font-size=\"14.00\">product ≤ 2.5</text>\n",
       "<text text-anchor=\"start\" x=\"181.5\" y=\"-97.3\" font-family=\"Times,serif\" font-size=\"14.00\">mse = 20765.81</text>\n",
       "<text text-anchor=\"start\" x=\"178\" y=\"-82.3\" font-family=\"Times,serif\" font-size=\"14.00\">samples = 13152</text>\n",
       "<text text-anchor=\"start\" x=\"181.5\" y=\"-67.3\" font-family=\"Times,serif\" font-size=\"14.00\">value = 258.23</text>\n",
       "</g>\n",
       "<!-- 0&#45;&gt;2 -->\n",
       "<g id=\"edge4\" class=\"edge\">\n",
       "<title>0&#45;&gt;2</title>\n",
       "<path fill=\"none\" stroke=\"black\" d=\"M122.28,-121.22C134.49,-118.02 147.46,-114.62 159.98,-111.33\"/>\n",
       "<polygon fill=\"black\" stroke=\"black\" points=\"161.12,-114.65 169.91,-108.73 159.34,-107.88 161.12,-114.65\"/>\n",
       "<text text-anchor=\"middle\" x=\"148.32\" y=\"-92.42\" font-family=\"Times,serif\" font-size=\"14.00\">False</text>\n",
       "</g>\n",
       "<!-- 3 -->\n",
       "<g id=\"node3\" class=\"node\">\n",
       "<title>3</title>\n",
       "<polygon fill=\"#f3c6a6\" stroke=\"black\" points=\"445.5,-270 334.5,-270 334.5,-217 445.5,-217 445.5,-270\"/>\n",
       "<text text-anchor=\"start\" x=\"342.5\" y=\"-254.8\" font-family=\"Times,serif\" font-size=\"14.00\">mse = 22580.15</text>\n",
       "<text text-anchor=\"start\" x=\"342.5\" y=\"-239.8\" font-family=\"Times,serif\" font-size=\"14.00\">samples = 3288</text>\n",
       "<text text-anchor=\"start\" x=\"342.5\" y=\"-224.8\" font-family=\"Times,serif\" font-size=\"14.00\">value = 444.15</text>\n",
       "</g>\n",
       "<!-- 1&#45;&gt;3 -->\n",
       "<g id=\"edge2\" class=\"edge\">\n",
       "<title>1&#45;&gt;3</title>\n",
       "<path fill=\"none\" stroke=\"black\" d=\"M284.72,-201.53C297.66,-206.73 311.57,-212.33 324.88,-217.69\"/>\n",
       "<polygon fill=\"black\" stroke=\"black\" points=\"323.87,-221.06 334.45,-221.54 326.48,-214.56 323.87,-221.06\"/>\n",
       "</g>\n",
       "<!-- 4 -->\n",
       "<g id=\"node4\" class=\"node\">\n",
       "<title>4</title>\n",
       "<polygon fill=\"#e58139\" stroke=\"black\" points=\"445.5,-199 334.5,-199 334.5,-146 445.5,-146 445.5,-199\"/>\n",
       "<text text-anchor=\"start\" x=\"346\" y=\"-183.8\" font-family=\"Times,serif\" font-size=\"14.00\">mse = 67989.0</text>\n",
       "<text text-anchor=\"start\" x=\"342.5\" y=\"-168.8\" font-family=\"Times,serif\" font-size=\"14.00\">samples = 3288</text>\n",
       "<text text-anchor=\"start\" x=\"342.5\" y=\"-153.8\" font-family=\"Times,serif\" font-size=\"14.00\">value = 773.28</text>\n",
       "</g>\n",
       "<!-- 1&#45;&gt;4 -->\n",
       "<g id=\"edge3\" class=\"edge\">\n",
       "<title>1&#45;&gt;4</title>\n",
       "<path fill=\"none\" stroke=\"black\" d=\"M284.72,-177.09C297.41,-176.53 311.03,-175.93 324.11,-175.36\"/>\n",
       "<polygon fill=\"black\" stroke=\"black\" points=\"324.61,-178.84 334.45,-174.9 324.31,-171.84 324.61,-178.84\"/>\n",
       "</g>\n",
       "<!-- 5 -->\n",
       "<g id=\"node6\" class=\"node\">\n",
       "<title>5</title>\n",
       "<polygon fill=\"#f8dbc7\" stroke=\"black\" points=\"445.5,-124 334.5,-124 334.5,-71 445.5,-71 445.5,-124\"/>\n",
       "<text text-anchor=\"start\" x=\"342.5\" y=\"-108.8\" font-family=\"Times,serif\" font-size=\"14.00\">mse = 22234.49</text>\n",
       "<text text-anchor=\"start\" x=\"342.5\" y=\"-93.8\" font-family=\"Times,serif\" font-size=\"14.00\">samples = 6576</text>\n",
       "<text text-anchor=\"start\" x=\"342.5\" y=\"-78.8\" font-family=\"Times,serif\" font-size=\"14.00\">value = 342.86</text>\n",
       "</g>\n",
       "<!-- 2&#45;&gt;5 -->\n",
       "<g id=\"edge5\" class=\"edge\">\n",
       "<title>2&#45;&gt;5</title>\n",
       "<path fill=\"none\" stroke=\"black\" d=\"M288.3,-94.97C299.96,-95.26 312.27,-95.57 324.12,-95.87\"/>\n",
       "<polygon fill=\"black\" stroke=\"black\" points=\"324.32,-99.37 334.4,-96.13 324.49,-92.38 324.32,-99.37\"/>\n",
       "</g>\n",
       "<!-- 6 -->\n",
       "<g id=\"node7\" class=\"node\">\n",
       "<title>6</title>\n",
       "<polygon fill=\"#ffffff\" stroke=\"black\" points=\"445.5,-53 334.5,-53 334.5,0 445.5,0 445.5,-53\"/>\n",
       "<text text-anchor=\"start\" x=\"346\" y=\"-37.8\" font-family=\"Times,serif\" font-size=\"14.00\">mse = 4971.19</text>\n",
       "<text text-anchor=\"start\" x=\"342.5\" y=\"-22.8\" font-family=\"Times,serif\" font-size=\"14.00\">samples = 6576</text>\n",
       "<text text-anchor=\"start\" x=\"342.5\" y=\"-7.8\" font-family=\"Times,serif\" font-size=\"14.00\">value = 173.59</text>\n",
       "</g>\n",
       "<!-- 2&#45;&gt;6 -->\n",
       "<g id=\"edge6\" class=\"edge\">\n",
       "<title>2&#45;&gt;6</title>\n",
       "<path fill=\"none\" stroke=\"black\" d=\"M288.3,-68.93C300.19,-63.92 312.76,-58.63 324.84,-53.53\"/>\n",
       "<polygon fill=\"black\" stroke=\"black\" points=\"326.55,-56.61 334.4,-49.51 323.83,-50.16 326.55,-56.61\"/>\n",
       "</g>\n",
       "</g>\n",
       "</svg>\n"
      ],
      "text/plain": [
       "<graphviz.sources.Source at 0x7f40c5f11610>"
      ]
     },
     "metadata": {},
     "output_type": "display_data"
    },
    {
     "name": "stdout",
     "output_type": "stream",
     "text": [
      "CPU times: user 24.4 ms, sys: 38.3 ms, total: 62.7 ms\n",
      "Wall time: 90.4 ms\n"
     ]
    }
   ],
   "source": [
    "%%time\n",
    "draw_tree(m, xs, size = 7, precision = 2)"
   ]
  },
  {
   "cell_type": "code",
   "execution_count": 20,
   "id": "519beef3-def2-4a10-81e5-a34a1e38b69b",
   "metadata": {},
   "outputs": [],
   "source": [
    "m = DecisionTreeRegressor(min_samples_leaf = 25)"
   ]
  },
  {
   "cell_type": "code",
   "execution_count": 21,
   "id": "1be16258-9057-45e6-9efc-dca733ef30d8",
   "metadata": {},
   "outputs": [
    {
     "data": {
      "text/plain": [
       "DecisionTreeRegressor(min_samples_leaf=25)"
      ]
     },
     "execution_count": 21,
     "metadata": {},
     "output_type": "execute_result"
    }
   ],
   "source": [
    "m.fit(xs, y)"
   ]
  },
  {
   "cell_type": "code",
   "execution_count": 22,
   "id": "12690906-b34b-4fd8-8a71-843110d53a1a",
   "metadata": {},
   "outputs": [
    {
     "data": {
      "text/plain": [
       "6.23894382308654"
      ]
     },
     "execution_count": 22,
     "metadata": {},
     "output_type": "execute_result"
    }
   ],
   "source": [
    "calculate_smape(m, xs, y)"
   ]
  },
  {
   "cell_type": "code",
   "execution_count": 23,
   "id": "c4bb48be-8ea7-489f-ba3e-f9ea481b69e2",
   "metadata": {},
   "outputs": [
    {
     "data": {
      "text/plain": [
       "9.413072138720967"
      ]
     },
     "execution_count": 23,
     "metadata": {},
     "output_type": "execute_result"
    }
   ],
   "source": [
    "calculate_smape(m, valid_xs, valid_y)"
   ]
  },
  {
   "cell_type": "code",
   "execution_count": 25,
   "id": "307f1d50-1855-484c-ba18-575f6509899d",
   "metadata": {},
   "outputs": [],
   "source": [
    "test = pd.read_csv(\"test.csv\")"
   ]
  },
  {
   "cell_type": "code",
   "execution_count": 26,
   "id": "96b22998-dd04-459e-90ad-587b97e8bfcb",
   "metadata": {},
   "outputs": [],
   "source": [
    "test = add_datepart(test, 'date')"
   ]
  },
  {
   "cell_type": "code",
   "execution_count": 27,
   "id": "305c61cc-41a3-40de-893c-08e547e4c92f",
   "metadata": {},
   "outputs": [],
   "source": [
    "test[\"num_sold\"] = 0"
   ]
  },
  {
   "cell_type": "code",
   "execution_count": 28,
   "id": "2a7f566a-a11b-4def-9afe-70aa4f502463",
   "metadata": {},
   "outputs": [],
   "source": [
    "to_test = TabularPandas(test, procs, cat, cont, y_names = dep_var, splits = None)"
   ]
  },
  {
   "cell_type": "code",
   "execution_count": 29,
   "id": "8bb41bd9-9542-4847-972e-6406f5ea4028",
   "metadata": {},
   "outputs": [],
   "source": [
    "test_xs = to_test.train.xs"
   ]
  },
  {
   "cell_type": "code",
   "execution_count": 30,
   "id": "33ada164-55f0-4647-840c-470c45acee1c",
   "metadata": {},
   "outputs": [],
   "source": [
    "preds_test = m.predict(test_xs)"
   ]
  },
  {
   "cell_type": "code",
   "execution_count": 31,
   "id": "b45e9135-5505-467f-b9bb-944c758905b7",
   "metadata": {},
   "outputs": [
    {
     "data": {
      "text/plain": [
       "array([ 247.24      ,  375.19047619,   97.59459459, ...,  998.66666667,\n",
       "       1183.68      ,  230.07407407])"
      ]
     },
     "execution_count": 31,
     "metadata": {},
     "output_type": "execute_result"
    }
   ],
   "source": [
    "preds_test"
   ]
  },
  {
   "cell_type": "code",
   "execution_count": 32,
   "id": "e7274c87-fbd7-4696-bc9d-8a17d19ecaf8",
   "metadata": {},
   "outputs": [],
   "source": [
    "ids = list(test[\"row_id\"].values)\n",
    "submission = pd.DataFrame()\n",
    "submission[\"row_id\"] = ids\n",
    "submission[\"num_sold\"] = list(preds_test)"
   ]
  },
  {
   "cell_type": "code",
   "execution_count": 33,
   "id": "b953f887-d995-4a3a-bf84-ae3310aa7b81",
   "metadata": {},
   "outputs": [
    {
     "data": {
      "text/html": [
       "<div>\n",
       "<style scoped>\n",
       "    .dataframe tbody tr th:only-of-type {\n",
       "        vertical-align: middle;\n",
       "    }\n",
       "\n",
       "    .dataframe tbody tr th {\n",
       "        vertical-align: top;\n",
       "    }\n",
       "\n",
       "    .dataframe thead th {\n",
       "        text-align: right;\n",
       "    }\n",
       "</style>\n",
       "<table border=\"1\" class=\"dataframe\">\n",
       "  <thead>\n",
       "    <tr style=\"text-align: right;\">\n",
       "      <th></th>\n",
       "      <th>row_id</th>\n",
       "      <th>num_sold</th>\n",
       "    </tr>\n",
       "  </thead>\n",
       "  <tbody>\n",
       "    <tr>\n",
       "      <th>0</th>\n",
       "      <td>26298</td>\n",
       "      <td>247.240000</td>\n",
       "    </tr>\n",
       "    <tr>\n",
       "      <th>1</th>\n",
       "      <td>26299</td>\n",
       "      <td>375.190476</td>\n",
       "    </tr>\n",
       "    <tr>\n",
       "      <th>2</th>\n",
       "      <td>26300</td>\n",
       "      <td>97.594595</td>\n",
       "    </tr>\n",
       "    <tr>\n",
       "      <th>3</th>\n",
       "      <td>26301</td>\n",
       "      <td>421.357143</td>\n",
       "    </tr>\n",
       "    <tr>\n",
       "      <th>4</th>\n",
       "      <td>26302</td>\n",
       "      <td>689.461538</td>\n",
       "    </tr>\n",
       "  </tbody>\n",
       "</table>\n",
       "</div>"
      ],
      "text/plain": [
       "   row_id    num_sold\n",
       "0   26298  247.240000\n",
       "1   26299  375.190476\n",
       "2   26300   97.594595\n",
       "3   26301  421.357143\n",
       "4   26302  689.461538"
      ]
     },
     "execution_count": 33,
     "metadata": {},
     "output_type": "execute_result"
    }
   ],
   "source": [
    "submission.head()"
   ]
  },
  {
   "cell_type": "code",
   "execution_count": 34,
   "id": "c2cb8ae8-299b-4cd3-97e7-9d3605c7e081",
   "metadata": {},
   "outputs": [],
   "source": [
    "submission.to_csv(\"submission.csv\", index = False)"
   ]
  },
  {
   "cell_type": "code",
   "execution_count": null,
   "id": "e05a14dc-47b3-468e-826f-d565a9151b77",
   "metadata": {},
   "outputs": [],
   "source": []
  }
 ],
 "metadata": {
  "kernelspec": {
   "display_name": "Python 3 (ipykernel)",
   "language": "python",
   "name": "python3"
  },
  "language_info": {
   "codemirror_mode": {
    "name": "ipython",
    "version": 3
   },
   "file_extension": ".py",
   "mimetype": "text/x-python",
   "name": "python",
   "nbconvert_exporter": "python",
   "pygments_lexer": "ipython3",
   "version": "3.8.12"
  }
 },
 "nbformat": 4,
 "nbformat_minor": 5
}
