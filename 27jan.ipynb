{
 "cells": [
  {
   "cell_type": "code",
   "execution_count": 1,
   "id": "1623ee4c-472b-4e22-809f-a1758c9ab3f4",
   "metadata": {},
   "outputs": [
    {
     "name": "stdout",
     "output_type": "stream",
     "text": [
      "CPU times: user 2.09 s, sys: 1.19 s, total: 3.28 s\n",
      "Wall time: 3.08 s\n"
     ]
    }
   ],
   "source": [
    "%%time\n",
    "import fastai\n",
    "from fastai.tabular.all import *\n",
    "from pathlib import Path\n",
    "import os\n",
    "from sklearn.tree import DecisionTreeRegressor\n",
    "from dtreeviz.trees import *\n",
    "import IPython\n",
    "from sklearn.ensemble import RandomForestRegressor\n",
    "from IPython.display import Image, display_svg, SVG\n",
    "from sklearn.tree import export_graphviz\n",
    "import waterfall_chart\n",
    "from treeinterpreter import treeinterpreter\n",
    "from sklearn.inspection import plot_partial_dependence\n",
    "from scipy.cluster import hierarchy as hc\n",
    "import xgboost\n",
    "from xgboost import XGBRegressor\n",
    "import optuna"
   ]
  },
  {
   "cell_type": "code",
   "execution_count": 2,
   "id": "8af062c5-262a-4ed7-8646-74357330fdb4",
   "metadata": {},
   "outputs": [],
   "source": [
    "## loading final data"
   ]
  },
  {
   "cell_type": "code",
   "execution_count": 3,
   "id": "1068ffde-ff21-444f-9579-caf03ed8d9bf",
   "metadata": {},
   "outputs": [],
   "source": [
    "combined = pd.read_csv(\"models/final_data.csv\")"
   ]
  },
  {
   "cell_type": "code",
   "execution_count": 4,
   "id": "a47781e8-f8a5-42ff-8441-df1600bee816",
   "metadata": {},
   "outputs": [
    {
     "data": {
      "text/html": [
       "<div>\n",
       "<style scoped>\n",
       "    .dataframe tbody tr th:only-of-type {\n",
       "        vertical-align: middle;\n",
       "    }\n",
       "\n",
       "    .dataframe tbody tr th {\n",
       "        vertical-align: top;\n",
       "    }\n",
       "\n",
       "    .dataframe thead th {\n",
       "        text-align: right;\n",
       "    }\n",
       "</style>\n",
       "<table border=\"1\" class=\"dataframe\">\n",
       "  <thead>\n",
       "    <tr style=\"text-align: right;\">\n",
       "      <th></th>\n",
       "      <th>Unnamed: 0</th>\n",
       "      <th>row_id</th>\n",
       "      <th>country</th>\n",
       "      <th>store</th>\n",
       "      <th>product</th>\n",
       "      <th>num_sold</th>\n",
       "      <th>holiday</th>\n",
       "      <th>store_emb_1</th>\n",
       "      <th>store_emb_2</th>\n",
       "      <th>store_emb_3</th>\n",
       "      <th>...</th>\n",
       "      <th>Elapsed</th>\n",
       "      <th>is_weekend</th>\n",
       "      <th>month_emb_1</th>\n",
       "      <th>month_emb_2</th>\n",
       "      <th>month_emb_3</th>\n",
       "      <th>month_emb_4</th>\n",
       "      <th>month_emb_5</th>\n",
       "      <th>month_emb_6</th>\n",
       "      <th>month_emb_7</th>\n",
       "      <th>gdp</th>\n",
       "    </tr>\n",
       "  </thead>\n",
       "  <tbody>\n",
       "    <tr>\n",
       "      <th>0</th>\n",
       "      <td>0</td>\n",
       "      <td>0</td>\n",
       "      <td>Finland</td>\n",
       "      <td>KaggleMart</td>\n",
       "      <td>Kaggle Mug</td>\n",
       "      <td>5.796058</td>\n",
       "      <td>in_Finland</td>\n",
       "      <td>0.967750</td>\n",
       "      <td>-0.929185</td>\n",
       "      <td>1.117330</td>\n",
       "      <td>...</td>\n",
       "      <td>1.420070e+09</td>\n",
       "      <td>0</td>\n",
       "      <td>0.139456</td>\n",
       "      <td>0.072881</td>\n",
       "      <td>-0.318967</td>\n",
       "      <td>0.426407</td>\n",
       "      <td>0.22274</td>\n",
       "      <td>0.328248</td>\n",
       "      <td>0.634298</td>\n",
       "      <td>42802</td>\n",
       "    </tr>\n",
       "    <tr>\n",
       "      <th>1</th>\n",
       "      <td>1</td>\n",
       "      <td>1</td>\n",
       "      <td>Finland</td>\n",
       "      <td>KaggleMart</td>\n",
       "      <td>Kaggle Hat</td>\n",
       "      <td>6.253829</td>\n",
       "      <td>in_Finland</td>\n",
       "      <td>0.967750</td>\n",
       "      <td>-0.929185</td>\n",
       "      <td>1.117330</td>\n",
       "      <td>...</td>\n",
       "      <td>1.420070e+09</td>\n",
       "      <td>0</td>\n",
       "      <td>0.139456</td>\n",
       "      <td>0.072881</td>\n",
       "      <td>-0.318967</td>\n",
       "      <td>0.426407</td>\n",
       "      <td>0.22274</td>\n",
       "      <td>0.328248</td>\n",
       "      <td>0.634298</td>\n",
       "      <td>42802</td>\n",
       "    </tr>\n",
       "    <tr>\n",
       "      <th>2</th>\n",
       "      <td>2</td>\n",
       "      <td>2</td>\n",
       "      <td>Finland</td>\n",
       "      <td>KaggleMart</td>\n",
       "      <td>Kaggle Sticker</td>\n",
       "      <td>4.983607</td>\n",
       "      <td>in_Finland</td>\n",
       "      <td>0.967750</td>\n",
       "      <td>-0.929185</td>\n",
       "      <td>1.117330</td>\n",
       "      <td>...</td>\n",
       "      <td>1.420070e+09</td>\n",
       "      <td>0</td>\n",
       "      <td>0.139456</td>\n",
       "      <td>0.072881</td>\n",
       "      <td>-0.318967</td>\n",
       "      <td>0.426407</td>\n",
       "      <td>0.22274</td>\n",
       "      <td>0.328248</td>\n",
       "      <td>0.634298</td>\n",
       "      <td>42802</td>\n",
       "    </tr>\n",
       "    <tr>\n",
       "      <th>3</th>\n",
       "      <td>3</td>\n",
       "      <td>3</td>\n",
       "      <td>Finland</td>\n",
       "      <td>KaggleRama</td>\n",
       "      <td>Kaggle Mug</td>\n",
       "      <td>6.349139</td>\n",
       "      <td>in_Finland</td>\n",
       "      <td>-0.300273</td>\n",
       "      <td>0.358641</td>\n",
       "      <td>-0.296122</td>\n",
       "      <td>...</td>\n",
       "      <td>1.420070e+09</td>\n",
       "      <td>0</td>\n",
       "      <td>0.139456</td>\n",
       "      <td>0.072881</td>\n",
       "      <td>-0.318967</td>\n",
       "      <td>0.426407</td>\n",
       "      <td>0.22274</td>\n",
       "      <td>0.328248</td>\n",
       "      <td>0.634298</td>\n",
       "      <td>42802</td>\n",
       "    </tr>\n",
       "    <tr>\n",
       "      <th>4</th>\n",
       "      <td>4</td>\n",
       "      <td>4</td>\n",
       "      <td>Finland</td>\n",
       "      <td>KaggleRama</td>\n",
       "      <td>Kaggle Hat</td>\n",
       "      <td>6.814543</td>\n",
       "      <td>in_Finland</td>\n",
       "      <td>-0.300273</td>\n",
       "      <td>0.358641</td>\n",
       "      <td>-0.296122</td>\n",
       "      <td>...</td>\n",
       "      <td>1.420070e+09</td>\n",
       "      <td>0</td>\n",
       "      <td>0.139456</td>\n",
       "      <td>0.072881</td>\n",
       "      <td>-0.318967</td>\n",
       "      <td>0.426407</td>\n",
       "      <td>0.22274</td>\n",
       "      <td>0.328248</td>\n",
       "      <td>0.634298</td>\n",
       "      <td>42802</td>\n",
       "    </tr>\n",
       "  </tbody>\n",
       "</table>\n",
       "<p>5 rows × 38 columns</p>\n",
       "</div>"
      ],
      "text/plain": [
       "   Unnamed: 0  row_id  country       store         product  num_sold  \\\n",
       "0           0       0  Finland  KaggleMart      Kaggle Mug  5.796058   \n",
       "1           1       1  Finland  KaggleMart      Kaggle Hat  6.253829   \n",
       "2           2       2  Finland  KaggleMart  Kaggle Sticker  4.983607   \n",
       "3           3       3  Finland  KaggleRama      Kaggle Mug  6.349139   \n",
       "4           4       4  Finland  KaggleRama      Kaggle Hat  6.814543   \n",
       "\n",
       "      holiday  store_emb_1  store_emb_2  store_emb_3  ...       Elapsed  \\\n",
       "0  in_Finland     0.967750    -0.929185     1.117330  ...  1.420070e+09   \n",
       "1  in_Finland     0.967750    -0.929185     1.117330  ...  1.420070e+09   \n",
       "2  in_Finland     0.967750    -0.929185     1.117330  ...  1.420070e+09   \n",
       "3  in_Finland    -0.300273     0.358641    -0.296122  ...  1.420070e+09   \n",
       "4  in_Finland    -0.300273     0.358641    -0.296122  ...  1.420070e+09   \n",
       "\n",
       "   is_weekend  month_emb_1  month_emb_2  month_emb_3  month_emb_4  \\\n",
       "0           0     0.139456     0.072881    -0.318967     0.426407   \n",
       "1           0     0.139456     0.072881    -0.318967     0.426407   \n",
       "2           0     0.139456     0.072881    -0.318967     0.426407   \n",
       "3           0     0.139456     0.072881    -0.318967     0.426407   \n",
       "4           0     0.139456     0.072881    -0.318967     0.426407   \n",
       "\n",
       "   month_emb_5  month_emb_6  month_emb_7    gdp  \n",
       "0      0.22274     0.328248     0.634298  42802  \n",
       "1      0.22274     0.328248     0.634298  42802  \n",
       "2      0.22274     0.328248     0.634298  42802  \n",
       "3      0.22274     0.328248     0.634298  42802  \n",
       "4      0.22274     0.328248     0.634298  42802  \n",
       "\n",
       "[5 rows x 38 columns]"
      ]
     },
     "execution_count": 4,
     "metadata": {},
     "output_type": "execute_result"
    }
   ],
   "source": [
    "combined.head()"
   ]
  },
  {
   "cell_type": "code",
   "execution_count": 5,
   "id": "e93117ff-f90c-4d3b-af3c-2e990e3306ae",
   "metadata": {},
   "outputs": [],
   "source": [
    "combined.drop([\"Unnamed: 0\"], axis = 1, inplace = True)"
   ]
  },
  {
   "cell_type": "code",
   "execution_count": 6,
   "id": "22b42e77-b47e-4d2b-9a95-03260df8ce53",
   "metadata": {},
   "outputs": [],
   "source": [
    "train_cond = combined.year < 2018\n",
    "valid_cond = combined.year == 2018\n",
    "train_idx = np.where(train_cond)[0]\n",
    "valid_idx = np.where(valid_cond)[0]"
   ]
  },
  {
   "cell_type": "code",
   "execution_count": 7,
   "id": "7b20430a-0f61-4fc4-9e15-3081c110d086",
   "metadata": {},
   "outputs": [
    {
     "data": {
      "text/plain": [
       "array([    0,     1,     2, ..., 19725, 19726, 19727])"
      ]
     },
     "execution_count": 7,
     "metadata": {},
     "output_type": "execute_result"
    }
   ],
   "source": [
    "train_idx"
   ]
  },
  {
   "cell_type": "code",
   "execution_count": 8,
   "id": "57d71025-7e43-4740-952f-c4c26436eba9",
   "metadata": {},
   "outputs": [
    {
     "data": {
      "text/plain": [
       "(19728, 6570)"
      ]
     },
     "execution_count": 8,
     "metadata": {},
     "output_type": "execute_result"
    }
   ],
   "source": [
    "len(train_idx), len(valid_idx)"
   ]
  },
  {
   "cell_type": "code",
   "execution_count": 9,
   "id": "fedb8f0a-aa02-409f-987e-0652ce92f5ef",
   "metadata": {},
   "outputs": [
    {
     "name": "stdout",
     "output_type": "stream",
     "text": [
      "6570\n"
     ]
    }
   ],
   "source": [
    "test_cond = combined.year > 2018\n",
    "test_idx = np.where(test_cond)[0]\n",
    "print (len(test_idx))"
   ]
  },
  {
   "cell_type": "code",
   "execution_count": 10,
   "id": "81c3f3fb-2786-4b0d-b9a4-802a501b1694",
   "metadata": {},
   "outputs": [
    {
     "data": {
      "text/plain": [
       "0        5.796058\n",
       "1        6.253829\n",
       "2        4.983607\n",
       "3        6.349139\n",
       "4        6.814543\n",
       "           ...   \n",
       "32863        -inf\n",
       "32864        -inf\n",
       "32865        -inf\n",
       "32866        -inf\n",
       "32867        -inf\n",
       "Name: num_sold, Length: 32868, dtype: float64"
      ]
     },
     "execution_count": 10,
     "metadata": {},
     "output_type": "execute_result"
    }
   ],
   "source": [
    "combined[\"num_sold\"]"
   ]
  },
  {
   "cell_type": "code",
   "execution_count": 11,
   "id": "b8c72aa5-1ea2-406c-8e0b-392e5f136693",
   "metadata": {},
   "outputs": [],
   "source": [
    "dep_var = \"num_sold\""
   ]
  },
  {
   "cell_type": "code",
   "execution_count": 12,
   "id": "bdf1b82b-1550-4d18-810f-f30f6973135a",
   "metadata": {},
   "outputs": [],
   "source": [
    "cont, cat = cont_cat_split(combined, 1, dep_var)"
   ]
  },
  {
   "cell_type": "code",
   "execution_count": 13,
   "id": "dce34d12-97d3-43bc-b475-2e06fb3ef13b",
   "metadata": {},
   "outputs": [
    {
     "data": {
      "text/plain": [
       "['row_id',\n",
       " 'store_emb_1',\n",
       " 'store_emb_2',\n",
       " 'store_emb_3',\n",
       " 'product_emb_1',\n",
       " 'product_emb_2',\n",
       " 'product_emb_3',\n",
       " 'country_emb_1',\n",
       " 'country_emb_2',\n",
       " 'country_emb_3',\n",
       " 'year',\n",
       " 'Month',\n",
       " 'Week',\n",
       " 'Day',\n",
       " 'Dayofweek',\n",
       " 'Dayofyear',\n",
       " 'Elapsed',\n",
       " 'is_weekend',\n",
       " 'month_emb_1',\n",
       " 'month_emb_2',\n",
       " 'month_emb_3',\n",
       " 'month_emb_4',\n",
       " 'month_emb_5',\n",
       " 'month_emb_6',\n",
       " 'month_emb_7',\n",
       " 'gdp']"
      ]
     },
     "execution_count": 13,
     "metadata": {},
     "output_type": "execute_result"
    }
   ],
   "source": [
    "cont"
   ]
  },
  {
   "cell_type": "code",
   "execution_count": 14,
   "id": "b7432cfd-9e37-40a3-8d65-d9f35ca2ed08",
   "metadata": {},
   "outputs": [],
   "source": [
    "cont.remove(\"row_id\")\n",
    "cont.remove(\"Elapsed\")"
   ]
  },
  {
   "cell_type": "code",
   "execution_count": 15,
   "id": "6beeed28-0275-47c2-8428-b5ef4cb835d9",
   "metadata": {},
   "outputs": [
    {
     "data": {
      "text/plain": [
       "['country',\n",
       " 'store',\n",
       " 'product',\n",
       " 'holiday',\n",
       " 'Is_month_end',\n",
       " 'Is_month_start',\n",
       " 'Is_quarter_end',\n",
       " 'Is_quarter_start',\n",
       " 'Is_year_end',\n",
       " 'Is_year_start']"
      ]
     },
     "execution_count": 15,
     "metadata": {},
     "output_type": "execute_result"
    }
   ],
   "source": [
    "cat"
   ]
  },
  {
   "cell_type": "code",
   "execution_count": 16,
   "id": "a4e38888-91bb-46b5-84f5-361524bda59a",
   "metadata": {},
   "outputs": [],
   "source": [
    "procs = [Categorify, FillMissing, Normalize]\n",
    "#train_idx = combined.iloc[:26298]\n",
    "splits = (list(train_idx), list(valid_idx))\n",
    "to = TabularPandas(combined, procs, cat, cont, y_names = dep_var, splits = splits)"
   ]
  },
  {
   "cell_type": "code",
   "execution_count": 17,
   "id": "6c79a5b5-7217-41ef-9326-5bdf85073612",
   "metadata": {},
   "outputs": [],
   "source": [
    "def SMAPE(preds, targs):\n",
    "    denominator = (targs + np.abs(preds)) / 200.0\n",
    "    diff = np.abs(preds - targs) / denominator\n",
    "    diff[denominator == 0] = 0.0\n",
    "    return np.mean(diff)"
   ]
  },
  {
   "cell_type": "code",
   "execution_count": 18,
   "id": "ab1ade4f-3b48-4760-8779-4216b7e335a6",
   "metadata": {},
   "outputs": [],
   "source": [
    "smape = AccumMetric(SMAPE, to_np = True)"
   ]
  },
  {
   "cell_type": "code",
   "execution_count": 19,
   "id": "429402f4-e88f-4d83-a512-a6eb1d2c11f2",
   "metadata": {},
   "outputs": [],
   "source": [
    "dls = to.dataloaders(1024, device = \"cuda\")"
   ]
  },
  {
   "cell_type": "code",
   "execution_count": 20,
   "id": "ed9fba0e-7bac-4228-8ece-a732df53692e",
   "metadata": {},
   "outputs": [],
   "source": [
    "learn = tabular_learner(dls, y_range = (3, 8), n_out = 1, layers = [500, 250, 64, 32, 16], metrics = [smape],\n",
    "                        loss_func = F.mse_loss)"
   ]
  },
  {
   "cell_type": "code",
   "execution_count": 21,
   "id": "eed9b062-d732-4788-995b-512af09c91ed",
   "metadata": {},
   "outputs": [
    {
     "data": {
      "text/html": [],
      "text/plain": [
       "<IPython.core.display.HTML object>"
      ]
     },
     "metadata": {},
     "output_type": "display_data"
    },
    {
     "name": "stdout",
     "output_type": "stream",
     "text": [
      "CPU times: user 4.23 s, sys: 1.44 s, total: 5.67 s\n",
      "Wall time: 6.24 s\n"
     ]
    },
    {
     "name": "stderr",
     "output_type": "stream",
     "text": [
      "/opt/conda/lib/python3.8/site-packages/fastai/callback/schedule.py:269: UserWarning: color is redundantly defined by the 'color' keyword argument and the fmt string \"ro\" (-> color='r'). The keyword argument will take precedence.\n",
      "  ax.plot(val, idx, 'ro', label=nm, c=color)\n"
     ]
    },
    {
     "data": {
      "text/plain": [
       "SuggestedLRs(valley=0.0005754399462603033)"
      ]
     },
     "execution_count": 21,
     "metadata": {},
     "output_type": "execute_result"
    },
    {
     "data": {
      "image/png": "[encoded data removed]",
      "text/plain": [
       "<Figure size 432x288 with 1 Axes>"
      ]
     },
     "metadata": {
      "needs_background": "light"
     },
     "output_type": "display_data"
    }
   ],
   "source": [
    "%%time\n",
    "learn.lr_find()"
   ]
  },
  {
   "cell_type": "code",
   "execution_count": 22,
   "id": "805fe0e8-544f-4331-8a8e-453062f9b5bc",
   "metadata": {},
   "outputs": [
    {
     "data": {
      "text/html": [
       "<table border=\"1\" class=\"dataframe\">\n",
       "  <thead>\n",
       "    <tr style=\"text-align: left;\">\n",
       "      <th>epoch</th>\n",
       "      <th>train_loss</th>\n",
       "      <th>valid_loss</th>\n",
       "      <th>SMAPE</th>\n",
       "      <th>time</th>\n",
       "    </tr>\n",
       "  </thead>\n",
       "  <tbody>\n",
       "    <tr>\n",
       "      <td>0</td>\n",
       "      <td>0.087006</td>\n",
       "      <td>0.041372</td>\n",
       "      <td>2.791011</td>\n",
       "      <td>00:00</td>\n",
       "    </tr>\n",
       "    <tr>\n",
       "      <td>1</td>\n",
       "      <td>0.047210</td>\n",
       "      <td>0.120793</td>\n",
       "      <td>5.198142</td>\n",
       "      <td>00:00</td>\n",
       "    </tr>\n",
       "    <tr>\n",
       "      <td>2</td>\n",
       "      <td>0.031460</td>\n",
       "      <td>0.081346</td>\n",
       "      <td>4.173356</td>\n",
       "      <td>00:00</td>\n",
       "    </tr>\n",
       "    <tr>\n",
       "      <td>3</td>\n",
       "      <td>0.024195</td>\n",
       "      <td>0.023394</td>\n",
       "      <td>2.178077</td>\n",
       "      <td>00:00</td>\n",
       "    </tr>\n",
       "    <tr>\n",
       "      <td>4</td>\n",
       "      <td>0.019508</td>\n",
       "      <td>0.052047</td>\n",
       "      <td>3.283556</td>\n",
       "      <td>00:00</td>\n",
       "    </tr>\n",
       "    <tr>\n",
       "      <td>5</td>\n",
       "      <td>0.016775</td>\n",
       "      <td>0.039367</td>\n",
       "      <td>2.875459</td>\n",
       "      <td>00:00</td>\n",
       "    </tr>\n",
       "    <tr>\n",
       "      <td>6</td>\n",
       "      <td>0.015505</td>\n",
       "      <td>0.025521</td>\n",
       "      <td>2.228582</td>\n",
       "      <td>00:00</td>\n",
       "    </tr>\n",
       "    <tr>\n",
       "      <td>7</td>\n",
       "      <td>0.013677</td>\n",
       "      <td>0.018288</td>\n",
       "      <td>1.834640</td>\n",
       "      <td>00:00</td>\n",
       "    </tr>\n",
       "    <tr>\n",
       "      <td>8</td>\n",
       "      <td>0.013314</td>\n",
       "      <td>0.029043</td>\n",
       "      <td>2.071903</td>\n",
       "      <td>00:00</td>\n",
       "    </tr>\n",
       "    <tr>\n",
       "      <td>9</td>\n",
       "      <td>0.012086</td>\n",
       "      <td>0.011246</td>\n",
       "      <td>1.478744</td>\n",
       "      <td>00:00</td>\n",
       "    </tr>\n",
       "    <tr>\n",
       "      <td>10</td>\n",
       "      <td>0.011258</td>\n",
       "      <td>0.013650</td>\n",
       "      <td>1.546021</td>\n",
       "      <td>00:00</td>\n",
       "    </tr>\n",
       "    <tr>\n",
       "      <td>11</td>\n",
       "      <td>0.011214</td>\n",
       "      <td>0.011649</td>\n",
       "      <td>1.421564</td>\n",
       "      <td>00:00</td>\n",
       "    </tr>\n",
       "    <tr>\n",
       "      <td>12</td>\n",
       "      <td>0.011063</td>\n",
       "      <td>0.028882</td>\n",
       "      <td>2.472806</td>\n",
       "      <td>00:00</td>\n",
       "    </tr>\n",
       "    <tr>\n",
       "      <td>13</td>\n",
       "      <td>0.010086</td>\n",
       "      <td>0.009335</td>\n",
       "      <td>1.304011</td>\n",
       "      <td>00:00</td>\n",
       "    </tr>\n",
       "    <tr>\n",
       "      <td>14</td>\n",
       "      <td>0.009215</td>\n",
       "      <td>0.015853</td>\n",
       "      <td>1.822305</td>\n",
       "      <td>00:00</td>\n",
       "    </tr>\n",
       "    <tr>\n",
       "      <td>15</td>\n",
       "      <td>0.008678</td>\n",
       "      <td>0.021890</td>\n",
       "      <td>2.081898</td>\n",
       "      <td>00:00</td>\n",
       "    </tr>\n",
       "    <tr>\n",
       "      <td>16</td>\n",
       "      <td>0.007997</td>\n",
       "      <td>0.010061</td>\n",
       "      <td>1.318713</td>\n",
       "      <td>00:00</td>\n",
       "    </tr>\n",
       "    <tr>\n",
       "      <td>17</td>\n",
       "      <td>0.007532</td>\n",
       "      <td>0.014672</td>\n",
       "      <td>1.645796</td>\n",
       "      <td>00:00</td>\n",
       "    </tr>\n",
       "    <tr>\n",
       "      <td>18</td>\n",
       "      <td>0.007362</td>\n",
       "      <td>0.013460</td>\n",
       "      <td>1.644442</td>\n",
       "      <td>00:00</td>\n",
       "    </tr>\n",
       "    <tr>\n",
       "      <td>19</td>\n",
       "      <td>0.007065</td>\n",
       "      <td>0.020778</td>\n",
       "      <td>2.047812</td>\n",
       "      <td>00:00</td>\n",
       "    </tr>\n",
       "    <tr>\n",
       "      <td>20</td>\n",
       "      <td>0.006562</td>\n",
       "      <td>0.014518</td>\n",
       "      <td>1.629723</td>\n",
       "      <td>00:00</td>\n",
       "    </tr>\n",
       "    <tr>\n",
       "      <td>21</td>\n",
       "      <td>0.005907</td>\n",
       "      <td>0.012429</td>\n",
       "      <td>1.600102</td>\n",
       "      <td>00:00</td>\n",
       "    </tr>\n",
       "    <tr>\n",
       "      <td>22</td>\n",
       "      <td>0.005398</td>\n",
       "      <td>0.014096</td>\n",
       "      <td>1.674459</td>\n",
       "      <td>00:00</td>\n",
       "    </tr>\n",
       "    <tr>\n",
       "      <td>23</td>\n",
       "      <td>0.005341</td>\n",
       "      <td>0.015477</td>\n",
       "      <td>1.757187</td>\n",
       "      <td>00:00</td>\n",
       "    </tr>\n",
       "    <tr>\n",
       "      <td>24</td>\n",
       "      <td>0.005099</td>\n",
       "      <td>0.013146</td>\n",
       "      <td>1.569184</td>\n",
       "      <td>00:00</td>\n",
       "    </tr>\n",
       "    <tr>\n",
       "      <td>25</td>\n",
       "      <td>0.004732</td>\n",
       "      <td>0.014873</td>\n",
       "      <td>1.720426</td>\n",
       "      <td>00:00</td>\n",
       "    </tr>\n",
       "    <tr>\n",
       "      <td>26</td>\n",
       "      <td>0.004475</td>\n",
       "      <td>0.013004</td>\n",
       "      <td>1.587016</td>\n",
       "      <td>00:00</td>\n",
       "    </tr>\n",
       "    <tr>\n",
       "      <td>27</td>\n",
       "      <td>0.004236</td>\n",
       "      <td>0.012167</td>\n",
       "      <td>1.539246</td>\n",
       "      <td>00:00</td>\n",
       "    </tr>\n",
       "    <tr>\n",
       "      <td>28</td>\n",
       "      <td>0.004019</td>\n",
       "      <td>0.015289</td>\n",
       "      <td>1.764330</td>\n",
       "      <td>00:00</td>\n",
       "    </tr>\n",
       "    <tr>\n",
       "      <td>29</td>\n",
       "      <td>0.003804</td>\n",
       "      <td>0.014043</td>\n",
       "      <td>1.674631</td>\n",
       "      <td>00:00</td>\n",
       "    </tr>\n",
       "  </tbody>\n",
       "</table>"
      ],
      "text/plain": [
       "<IPython.core.display.HTML object>"
      ]
     },
     "metadata": {},
     "output_type": "display_data"
    }
   ],
   "source": [
    "learn.fit_one_cycle(30, slice(1e-4, 1e-1))"
   ]
  },
  {
   "cell_type": "code",
   "execution_count": 28,
   "id": "09ac093b-42f9-4411-95d9-713e5795b3e4",
   "metadata": {},
   "outputs": [
    {
     "data": {
      "text/html": [],
      "text/plain": [
       "<IPython.core.display.HTML object>"
      ]
     },
     "metadata": {},
     "output_type": "display_data"
    }
   ],
   "source": [
    "yvalid, _ = learn.get_preds()\n",
    "yvalid = np.concatenate([yvalid])\n",
    "yvalid = np.squeeze(yvalid)\n",
    "#yvalid = np.exp(yvalid)"
   ]
  },
  {
   "cell_type": "code",
   "execution_count": 29,
   "id": "50365d99-dff9-4c2d-a0f6-747faa596cf8",
   "metadata": {},
   "outputs": [
    {
     "data": {
      "text/plain": [
       "1.6746309732277471"
      ]
     },
     "execution_count": 29,
     "metadata": {},
     "output_type": "execute_result"
    }
   ],
   "source": [
    "SMAPE(yvalid, to.valid.y)"
   ]
  },
  {
   "cell_type": "code",
   "execution_count": 30,
   "id": "4c756d2f-6701-4067-a82e-db5afd6c51dd",
   "metadata": {},
   "outputs": [],
   "source": [
    "validxs, validy = to.valid.xs, to.valid.y"
   ]
  },
  {
   "cell_type": "code",
   "execution_count": 31,
   "id": "20771e05-50f3-4f25-98c9-3daa0aa759b7",
   "metadata": {},
   "outputs": [],
   "source": [
    "import pickle\n",
    "model_log = pickle.load(open(\"models/model_log_latest.pkl\", \"rb\"))\n",
    "model_exp = pickle.load(open(\"models/model_exp_latest.pkl\", \"rb\"))"
   ]
  },
  {
   "cell_type": "code",
   "execution_count": 32,
   "id": "4b042adc-71f0-47f7-9b56-0c1ac2f3167e",
   "metadata": {},
   "outputs": [],
   "source": [
    "preds_valid_log = model_log.predict(validxs)"
   ]
  },
  {
   "cell_type": "code",
   "execution_count": 33,
   "id": "476c10e3-b166-4980-8ba0-fc99d5336754",
   "metadata": {},
   "outputs": [
    {
     "data": {
      "text/plain": [
       "1.4557583214624132"
      ]
     },
     "execution_count": 33,
     "metadata": {},
     "output_type": "execute_result"
    }
   ],
   "source": [
    "SMAPE(preds_valid_log, validy)"
   ]
  },
  {
   "cell_type": "code",
   "execution_count": 34,
   "id": "59528853-26e6-4a9f-9bee-347104ad4fd9",
   "metadata": {},
   "outputs": [],
   "source": [
    "preds_valid_exp = model_exp.predict(validxs)"
   ]
  },
  {
   "cell_type": "code",
   "execution_count": 35,
   "id": "e0955c16-c484-4cb4-a426-9c45757d5cec",
   "metadata": {},
   "outputs": [
    {
     "data": {
      "text/plain": [
       "8.104169354397024"
      ]
     },
     "execution_count": 35,
     "metadata": {},
     "output_type": "execute_result"
    }
   ],
   "source": [
    "SMAPE(preds_valid_exp, np.exp(validy))"
   ]
  },
  {
   "cell_type": "code",
   "execution_count": 36,
   "id": "88c3cb85-2bb4-43c0-a867-c270c904f099",
   "metadata": {},
   "outputs": [],
   "source": [
    "from functools import partial\n",
    "from scipy.optimize import fmin\n",
    "class OptimizeSMAPE :\n",
    "    def __init__(self):\n",
    "        self.coef_ = 0\n",
    "        \n",
    "    def _smape(self, coef, X, y):\n",
    "        '''\n",
    "        coef = coef list, of the same length as the no of models\n",
    "        X = predictions made by every model\n",
    "        y = targets\n",
    "        '''\n",
    "        x_coef = X * coef\n",
    "        predictions = np.sum(x_coef, axis = 1)\n",
    "        # calculate the SMAPE score\n",
    "        smape_score = SMAPE(predictions, y)\n",
    "        \n",
    "        return smape_score\n",
    "    \n",
    "    def fit(self, X, y):\n",
    "        loss_partial = partial(self._smape, X = X, y = y)\n",
    "        initial_coef = np.random.dirichlet(np.ones(X.shape[1]), size = 1)\n",
    "        \n",
    "        self.coef_ = fmin(loss_partial, initial_coef, disp = True)\n",
    "        \n",
    "    def predict(self, X):\n",
    "        x_coef = X * self.coef_\n",
    "        predictions = np.sum(x_coef, axis = 1)\n",
    "        return predictions"
   ]
  },
  {
   "cell_type": "code",
   "execution_count": 37,
   "id": "e08e5e3f-b3e2-4052-bbd5-ed8ade78f0b2",
   "metadata": {},
   "outputs": [
    {
     "data": {
      "text/plain": [
       "array([5.9865494, 6.4389076, 5.2353296, ..., 6.681806 , 7.167727 ,\n",
       "       5.9897695], dtype=float32)"
      ]
     },
     "execution_count": 37,
     "metadata": {},
     "output_type": "execute_result"
    }
   ],
   "source": [
    "yvalid"
   ]
  },
  {
   "cell_type": "code",
   "execution_count": 38,
   "id": "7c6c7d0a-0148-44f7-b23e-7db7903dd99b",
   "metadata": {},
   "outputs": [],
   "source": [
    "yvalid = np.exp(yvalid)\n",
    "preds_valid_log = np.exp(preds_valid_log)\n",
    "basic_blend = (yvalid + preds_valid_log + preds_valid_exp) / 3"
   ]
  },
  {
   "cell_type": "code",
   "execution_count": 40,
   "id": "2b91b69e-a91c-42a2-83f1-b3d6a6a3042c",
   "metadata": {},
   "outputs": [
    {
     "data": {
      "text/plain": [
       "6.302236363455058"
      ]
     },
     "execution_count": 40,
     "metadata": {},
     "output_type": "execute_result"
    }
   ],
   "source": [
    "SMAPE(basic_blend, np.exp(validy))"
   ]
  },
  {
   "cell_type": "code",
   "execution_count": 41,
   "id": "ed7b2422-2177-4691-9715-3bedb12155af",
   "metadata": {},
   "outputs": [],
   "source": [
    "stack_preds = np.column_stack((preds_valid_exp, preds_valid_log, yvalid))"
   ]
  },
  {
   "cell_type": "code",
   "execution_count": 44,
   "id": "0a2c0cbe-14d4-4be7-a942-a95f02c4b8bc",
   "metadata": {},
   "outputs": [],
   "source": [
    "opt = OptimizeSMAPE()"
   ]
  },
  {
   "cell_type": "code",
   "execution_count": 45,
   "id": "c9038d4b-c3f0-4358-a638-ff7ba6b4879a",
   "metadata": {},
   "outputs": [
    {
     "name": "stdout",
     "output_type": "stream",
     "text": [
      "Optimization terminated successfully.\n",
      "         Current function value: 6.171591\n",
      "         Iterations: 106\n",
      "         Function evaluations: 190\n",
      "CPU times: user 408 ms, sys: 2.75 ms, total: 411 ms\n",
      "Wall time: 408 ms\n"
     ]
    }
   ],
   "source": [
    "%%time\n",
    "validy_exp = np.exp(validy)\n",
    "opt.fit(stack_preds, validy_exp)"
   ]
  },
  {
   "cell_type": "code",
   "execution_count": 46,
   "id": "59a99883-35dc-4126-a0f4-156b7aacca04",
   "metadata": {},
   "outputs": [
    {
     "data": {
      "text/plain": [
       "array([0.47559399, 0.34828059, 0.20818296])"
      ]
     },
     "execution_count": 46,
     "metadata": {},
     "output_type": "execute_result"
    }
   ],
   "source": [
    "opt.coef_"
   ]
  },
  {
   "cell_type": "code",
   "execution_count": 47,
   "id": "19dcf8b2-c107-4b93-810b-e2f9b808d5b9",
   "metadata": {},
   "outputs": [],
   "source": [
    "model_exp_full = pickle.load(open(\"models/model_exp_full_latest.pkl\", \"rb\"))\n",
    "model_log_full = pickle.load(open(\"models/model_log_full_latest.pkl\", \"rb\"))"
   ]
  },
  {
   "cell_type": "code",
   "execution_count": 48,
   "id": "39bd74ea-6d34-4e19-ba1e-8b7bbc26f928",
   "metadata": {},
   "outputs": [],
   "source": [
    "learn_full = load_learner(\"models/full_learner.pkl\")"
   ]
  },
  {
   "cell_type": "code",
   "execution_count": 49,
   "id": "8410684a-838a-4170-bd62-a9aaab3158df",
   "metadata": {},
   "outputs": [],
   "source": [
    "procs = [Categorify, FillMissing, Normalize]\n",
    "#train_idx = combined.iloc[:26298]\n",
    "splits = (list(train_idx), list(test_idx))\n",
    "to = TabularPandas(combined, procs, cat, cont, y_names = dep_var, splits = splits)"
   ]
  },
  {
   "cell_type": "code",
   "execution_count": 50,
   "id": "62c7322f-fbbf-479b-b226-084e59afcc6c",
   "metadata": {},
   "outputs": [],
   "source": [
    "testxs = to.valid.xs"
   ]
  },
  {
   "cell_type": "code",
   "execution_count": 52,
   "id": "8ffd65c8-7334-432c-9bf9-43dd2d833fb6",
   "metadata": {},
   "outputs": [
    {
     "data": {
      "text/html": [
       "<div>\n",
       "<style scoped>\n",
       "    .dataframe tbody tr th:only-of-type {\n",
       "        vertical-align: middle;\n",
       "    }\n",
       "\n",
       "    .dataframe tbody tr th {\n",
       "        vertical-align: top;\n",
       "    }\n",
       "\n",
       "    .dataframe thead th {\n",
       "        text-align: right;\n",
       "    }\n",
       "</style>\n",
       "<table border=\"1\" class=\"dataframe\">\n",
       "  <thead>\n",
       "    <tr style=\"text-align: right;\">\n",
       "      <th></th>\n",
       "      <th>row_id</th>\n",
       "      <th>country</th>\n",
       "      <th>store</th>\n",
       "      <th>product</th>\n",
       "      <th>num_sold</th>\n",
       "      <th>holiday</th>\n",
       "      <th>store_emb_1</th>\n",
       "      <th>store_emb_2</th>\n",
       "      <th>store_emb_3</th>\n",
       "      <th>product_emb_1</th>\n",
       "      <th>...</th>\n",
       "      <th>Elapsed</th>\n",
       "      <th>is_weekend</th>\n",
       "      <th>month_emb_1</th>\n",
       "      <th>month_emb_2</th>\n",
       "      <th>month_emb_3</th>\n",
       "      <th>month_emb_4</th>\n",
       "      <th>month_emb_5</th>\n",
       "      <th>month_emb_6</th>\n",
       "      <th>month_emb_7</th>\n",
       "      <th>gdp</th>\n",
       "    </tr>\n",
       "  </thead>\n",
       "  <tbody>\n",
       "    <tr>\n",
       "      <th>26298</th>\n",
       "      <td>26298</td>\n",
       "      <td>Finland</td>\n",
       "      <td>KaggleMart</td>\n",
       "      <td>Kaggle Mug</td>\n",
       "      <td>-inf</td>\n",
       "      <td>in_Finland</td>\n",
       "      <td>0.96775</td>\n",
       "      <td>-0.929185</td>\n",
       "      <td>1.11733</td>\n",
       "      <td>-0.345529</td>\n",
       "      <td>...</td>\n",
       "      <td>1.546301e+09</td>\n",
       "      <td>0</td>\n",
       "      <td>0.139456</td>\n",
       "      <td>0.072881</td>\n",
       "      <td>-0.318967</td>\n",
       "      <td>0.426407</td>\n",
       "      <td>0.22274</td>\n",
       "      <td>0.328248</td>\n",
       "      <td>0.634298</td>\n",
       "      <td>48712</td>\n",
       "    </tr>\n",
       "    <tr>\n",
       "      <th>26299</th>\n",
       "      <td>26299</td>\n",
       "      <td>Finland</td>\n",
       "      <td>KaggleMart</td>\n",
       "      <td>Kaggle Hat</td>\n",
       "      <td>-inf</td>\n",
       "      <td>in_Finland</td>\n",
       "      <td>0.96775</td>\n",
       "      <td>-0.929185</td>\n",
       "      <td>1.11733</td>\n",
       "      <td>0.764051</td>\n",
       "      <td>...</td>\n",
       "      <td>1.546301e+09</td>\n",
       "      <td>0</td>\n",
       "      <td>0.139456</td>\n",
       "      <td>0.072881</td>\n",
       "      <td>-0.318967</td>\n",
       "      <td>0.426407</td>\n",
       "      <td>0.22274</td>\n",
       "      <td>0.328248</td>\n",
       "      <td>0.634298</td>\n",
       "      <td>48712</td>\n",
       "    </tr>\n",
       "    <tr>\n",
       "      <th>26300</th>\n",
       "      <td>26300</td>\n",
       "      <td>Finland</td>\n",
       "      <td>KaggleMart</td>\n",
       "      <td>Kaggle Sticker</td>\n",
       "      <td>-inf</td>\n",
       "      <td>in_Finland</td>\n",
       "      <td>0.96775</td>\n",
       "      <td>-0.929185</td>\n",
       "      <td>1.11733</td>\n",
       "      <td>-1.278340</td>\n",
       "      <td>...</td>\n",
       "      <td>1.546301e+09</td>\n",
       "      <td>0</td>\n",
       "      <td>0.139456</td>\n",
       "      <td>0.072881</td>\n",
       "      <td>-0.318967</td>\n",
       "      <td>0.426407</td>\n",
       "      <td>0.22274</td>\n",
       "      <td>0.328248</td>\n",
       "      <td>0.634298</td>\n",
       "      <td>48712</td>\n",
       "    </tr>\n",
       "  </tbody>\n",
       "</table>\n",
       "<p>3 rows × 37 columns</p>\n",
       "</div>"
      ],
      "text/plain": [
       "       row_id  country       store         product  num_sold     holiday  \\\n",
       "26298   26298  Finland  KaggleMart      Kaggle Mug      -inf  in_Finland   \n",
       "26299   26299  Finland  KaggleMart      Kaggle Hat      -inf  in_Finland   \n",
       "26300   26300  Finland  KaggleMart  Kaggle Sticker      -inf  in_Finland   \n",
       "\n",
       "       store_emb_1  store_emb_2  store_emb_3  product_emb_1  ...  \\\n",
       "26298      0.96775    -0.929185      1.11733      -0.345529  ...   \n",
       "26299      0.96775    -0.929185      1.11733       0.764051  ...   \n",
       "26300      0.96775    -0.929185      1.11733      -1.278340  ...   \n",
       "\n",
       "            Elapsed  is_weekend  month_emb_1  month_emb_2  month_emb_3  \\\n",
       "26298  1.546301e+09           0     0.139456     0.072881    -0.318967   \n",
       "26299  1.546301e+09           0     0.139456     0.072881    -0.318967   \n",
       "26300  1.546301e+09           0     0.139456     0.072881    -0.318967   \n",
       "\n",
       "       month_emb_4  month_emb_5  month_emb_6  month_emb_7    gdp  \n",
       "26298     0.426407      0.22274     0.328248     0.634298  48712  \n",
       "26299     0.426407      0.22274     0.328248     0.634298  48712  \n",
       "26300     0.426407      0.22274     0.328248     0.634298  48712  \n",
       "\n",
       "[3 rows x 37 columns]"
      ]
     },
     "metadata": {},
     "output_type": "display_data"
    }
   ],
   "source": [
    "combined_test = combined.iloc[test_idx]\n",
    "display(combined_test.head(3))"
   ]
  },
  {
   "cell_type": "code",
   "execution_count": 53,
   "id": "0628ccba-1738-4068-8453-470bd9498d83",
   "metadata": {},
   "outputs": [],
   "source": [
    "dl = learn_full.dls.test_dl(combined_test)"
   ]
  },
  {
   "cell_type": "code",
   "execution_count": 54,
   "id": "26bb15b3-48da-4eee-b327-fa08befd53ac",
   "metadata": {},
   "outputs": [
    {
     "data": {
      "text/html": [],
      "text/plain": [
       "<IPython.core.display.HTML object>"
      ]
     },
     "metadata": {},
     "output_type": "display_data"
    },
    {
     "name": "stderr",
     "output_type": "stream",
     "text": [
      "/tmp/ipykernel_528/884952379.py:3: RuntimeWarning: invalid value encountered in true_divide\n",
      "  diff = np.abs(preds - targs) / denominator\n"
     ]
    }
   ],
   "source": [
    "ytest_nn, _ = learn_full.get_preds(dl = dl)"
   ]
  },
  {
   "cell_type": "code",
   "execution_count": 55,
   "id": "e4d1a7e3-3f7c-4eaf-9d52-b9a272dde97b",
   "metadata": {},
   "outputs": [],
   "source": [
    "preds_test_log = model_log_full.predict(testxs)"
   ]
  },
  {
   "cell_type": "code",
   "execution_count": 56,
   "id": "5d916111-a9dd-4f18-8a39-589f4c67a2ac",
   "metadata": {},
   "outputs": [],
   "source": [
    "preds_test_exp = model_exp_full.predict(testxs)"
   ]
  },
  {
   "cell_type": "code",
   "execution_count": 57,
   "id": "e59b4f0f-32eb-474f-be12-3ab2febb60d0",
   "metadata": {},
   "outputs": [],
   "source": [
    "preds_test_log = np.exp(preds_test_log)\n",
    "ytest_nn = np.concatenate([ytest_nn])\n",
    "ytest_nn = np.squeeze(ytest_nn)\n",
    "ytest_nn = np.exp(ytest_nn)"
   ]
  },
  {
   "cell_type": "code",
   "execution_count": 58,
   "id": "bfc19832-dc60-4ced-a773-575097071b67",
   "metadata": {},
   "outputs": [],
   "source": [
    "testpred_stack = np.column_stack((preds_test_exp, preds_test_log, ytest_nn))"
   ]
  },
  {
   "cell_type": "code",
   "execution_count": 59,
   "id": "83cce0bc-3a98-443b-8e34-1ac0291369ae",
   "metadata": {},
   "outputs": [
    {
     "data": {
      "text/plain": [
       "array([[ 404.6835 ,  404.82336,  404.1807 ],\n",
       "       [ 619.34033,  586.354  ,  636.3924 ],\n",
       "       [ 185.13258,  186.75986,  182.71416],\n",
       "       ...,\n",
       "       [ 828.2744 ,  862.848  ,  959.51624],\n",
       "       [1226.2178 , 1312.9963 , 1458.6606 ],\n",
       "       [ 361.97076,  393.27148,  398.17352]], dtype=float32)"
      ]
     },
     "execution_count": 59,
     "metadata": {},
     "output_type": "execute_result"
    }
   ],
   "source": [
    "testpred_stack"
   ]
  },
  {
   "cell_type": "code",
   "execution_count": 60,
   "id": "225d46bb-00ef-4173-9dc1-c02b63ac795c",
   "metadata": {},
   "outputs": [],
   "source": [
    "ensemble_test_preds = opt.predict(testpred_stack)"
   ]
  },
  {
   "cell_type": "code",
   "execution_count": 61,
   "id": "2ead68b3-b0a5-41d2-b526-0a34c0f85a6c",
   "metadata": {},
   "outputs": [
    {
     "data": {
      "text/plain": [
       "array([ 417.60069559,  631.25631133,  191.13075169, ...,  894.19048308,\n",
       "       1344.1412354 ,  392.01288785])"
      ]
     },
     "execution_count": 61,
     "metadata": {},
     "output_type": "execute_result"
    }
   ],
   "source": [
    "ensemble_test_preds"
   ]
  },
  {
   "cell_type": "code",
   "execution_count": 62,
   "id": "4bf8d33e-15ad-4a43-a29c-99157a8de8bb",
   "metadata": {},
   "outputs": [],
   "source": [
    "submission = pd.read_csv(\"sample_submission.csv\")"
   ]
  },
  {
   "cell_type": "code",
   "execution_count": 63,
   "id": "2d611fa7-662a-439a-98dd-cd2402432534",
   "metadata": {},
   "outputs": [],
   "source": [
    "submission[\"num_sold\"] = list(ensemble_test_preds)"
   ]
  },
  {
   "cell_type": "code",
   "execution_count": 64,
   "id": "38ff8c27-9d7d-4904-b384-352f725d6370",
   "metadata": {},
   "outputs": [],
   "source": [
    "submission.to_csv(\"subm/submission.csv\", index = False)"
   ]
  },
  {
   "cell_type": "code",
   "execution_count": 65,
   "id": "4c08b3ef-9c90-4c94-ae99-e2adfb085586",
   "metadata": {},
   "outputs": [
    {
     "name": "stdout",
     "output_type": "stream",
     "text": [
      "100%|████████████████████████████████████████| 156k/156k [00:03<00:00, 44.7kB/s]\n",
      "Successfully submitted to Tabular Playground Series - Jan 2022"
     ]
    }
   ],
   "source": [
    "! kaggle competitions submit -c tabular-playground-series-jan-2022 -f subm/submission.csv -m \"plssssss\""
   ]
  },
  {
   "cell_type": "code",
   "execution_count": 68,
   "id": "1975bb56-c245-458e-a521-ed6726c6621d",
   "metadata": {},
   "outputs": [
    {
     "data": {
      "text/plain": [
       "array([[ 404.6835 ,  404.82336,  404.1807 ],\n",
       "       [ 619.34033,  586.354  ,  636.3924 ],\n",
       "       [ 185.13258,  186.75986,  182.71416],\n",
       "       ...,\n",
       "       [ 828.2744 ,  862.848  ,  959.51624],\n",
       "       [1226.2178 , 1312.9963 , 1458.6606 ],\n",
       "       [ 361.97076,  393.27148,  398.17352]], dtype=float32)"
      ]
     },
     "execution_count": 68,
     "metadata": {},
     "output_type": "execute_result"
    }
   ],
   "source": [
    "testpred_stack"
   ]
  },
  {
   "cell_type": "code",
   "execution_count": 70,
   "id": "52f6e8ef-a669-48c8-9820-c6091d3aded7",
   "metadata": {},
   "outputs": [],
   "source": [
    "basic = np.mean(testpred_stack, axis = 1)"
   ]
  },
  {
   "cell_type": "code",
   "execution_count": 71,
   "id": "2db26382-39db-4871-9140-49524eca5308",
   "metadata": {},
   "outputs": [],
   "source": [
    "basic = np.ceil(basic)"
   ]
  },
  {
   "cell_type": "code",
   "execution_count": 72,
   "id": "af7035b6-2fe7-4f0b-8140-8caec6958a2d",
   "metadata": {},
   "outputs": [
    {
     "data": {
      "text/plain": [
       "array([ 405.,  615.,  185., ...,  884., 1333.,  385.], dtype=float32)"
      ]
     },
     "execution_count": 72,
     "metadata": {},
     "output_type": "execute_result"
    }
   ],
   "source": [
    "basic"
   ]
  },
  {
   "cell_type": "code",
   "execution_count": 73,
   "id": "9c153a97-f002-451b-adf2-6dfa38b5f23d",
   "metadata": {},
   "outputs": [],
   "source": [
    "submission[\"num_sold\"] = list(basic)"
   ]
  },
  {
   "cell_type": "code",
   "execution_count": 74,
   "id": "319a61db-1dcd-4369-a693-0fb24ed06edc",
   "metadata": {},
   "outputs": [],
   "source": [
    "submission.to_csv(\"subm/submission.csv\", index = False)"
   ]
  },
  {
   "cell_type": "code",
   "execution_count": 75,
   "id": "605dc4f4-516d-420f-822e-91a50a8900c7",
   "metadata": {},
   "outputs": [
    {
     "name": "stdout",
     "output_type": "stream",
     "text": [
      "100%|██████████████████████████████████████| 77.2k/77.2k [00:07<00:00, 10.9kB/s]\n",
      "Successfully submitted to Tabular Playground Series - Jan 2022"
     ]
    }
   ],
   "source": [
    "! kaggle competitions submit -c tabular-playground-series-jan-2022 -f subm/submission.csv -m \"plssssss\""
   ]
  },
  {
   "cell_type": "code",
   "execution_count": null,
   "id": "ed8526ef-23cd-42f4-afd8-c2780007ea3e",
   "metadata": {},
   "outputs": [],
   "source": []
  }
 ],
 "metadata": {
  "kernelspec": {
   "display_name": "Python 3 (ipykernel)",
   "language": "python",
   "name": "python3"
  },
  "language_info": {
   "codemirror_mode": {
    "name": "ipython",
    "version": 3
   },
   "file_extension": ".py",
   "mimetype": "text/x-python",
   "name": "python",
   "nbconvert_exporter": "python",
   "pygments_lexer": "ipython3",
   "version": "3.8.12"
  }
 },
 "nbformat": 4,
 "nbformat_minor": 5
}
